{
 "cells": [
  {
   "cell_type": "markdown",
   "metadata": {},
   "source": [
    "# POC-Turtle-5: Lexical Entries \n",
    "This is a continuation of proof-of-concept (POC) experiments in unsupervised language learning (ULL), the OpenCog project hosted on [GitHub](https://github.com/opencog/language-learning/tree/master/notebooks). \n",
    "A summary of February 2018 efforts and results is shared as a [static html copy of POC-Turtle-4-Grammar-Learning.ipynb notebook](http://88.99.210.144/data/clustering_2018/html/POC-Turtle-4-Grammar-Learning.html)."
   ]
  },
  {
   "cell_type": "code",
   "execution_count": 1,
   "metadata": {},
   "outputs": [
    {
     "name": "stdout",
     "output_type": "stream",
     "text": [
      "2018-03-03 15:19:19 UTC :: module_path: /home/obaskov/language-learning\n"
     ]
    }
   ],
   "source": [
    "import os, sys, time\n",
    "import numpy as np\n",
    "import pandas as pd\n",
    "import matplotlib.pyplot as plt\n",
    "%matplotlib inline\n",
    "from IPython.display import display\n",
    "module_path = os.path.abspath(os.path.join('..'))\n",
    "if module_path not in sys.path: sys.path.append(module_path)\n",
    "from src.utl.utl import UTC\n",
    "from src.utl.turtle import html_table, plot2d\n",
    "print(UTC(), ':: module_path:', module_path)"
   ]
  },
  {
   "cell_type": "markdown",
   "metadata": {},
   "source": [
    "## 5.1 Settings, parameters, data."
   ]
  },
  {
   "cell_type": "code",
   "execution_count": 2,
   "metadata": {},
   "outputs": [
    {
     "name": "stdout",
     "output_type": "stream",
     "text": [
      "Project directory /home/obaskov/language-learning/output/Turtle-5-2018-03-03/ exists\n"
     ]
    }
   ],
   "source": [
    "prj_dir = '../output/Turtle-5-2018-03-03/'  # project directory \n",
    "prefix = ''     # all project files will start with this prefix\n",
    "verbose = 'max' # printed comments: 'none', 'min', 'max'\n",
    "log = {'project': 'POC-Turtle-5: Lexical Entries'}\n",
    "\n",
    "if not os.path.exists(prj_dir):\n",
    "    os.makedirs(prj_dir)\n",
    "    print('Project directory created:', module_path + prj_dir[2:])\n",
    "else: print('Project directory', module_path + prj_dir[2:], 'exists')\n",
    "path = module_path + prj_dir[2:]        # path to store vectors\n",
    "tmpath = path  # module_path + '/tmp/'  # path for temporary files"
   ]
  },
  {
   "cell_type": "code",
   "execution_count": 3,
   "metadata": {},
   "outputs": [
    {
     "name": "stdout",
     "output_type": "stream",
     "text": [
      "Data file: /home/obaskov/language-learning/data/poc-turtle-sentences.txt\n",
      "- \"Turtle\" language corpus:\n",
      "1. tuna isa fish.\n",
      "2. herring isa fish.\n",
      "3. tuna has fin.\n",
      "4. herring has fin.\n",
      "5. parrot isa bird.\n",
      "6. eagle isa bird.\n",
      "7. parrot has wing.\n",
      "8. eagle has wing.\n",
      "9. fin isa extremity.\n",
      "10. wing isa extremity.\n",
      "11. fin has scale.\n",
      "12. wing has feather.\n"
     ]
    }
   ],
   "source": [
    "input_file = '../data/poc-turtle-sentences.txt'\n",
    "if os.path.isfile(input_file):\n",
    "    print('Data file:', module_path + input_file[2:],)\n",
    "    log.update({'input_file': module_path + input_file[2:]})\n",
    "    if verbose == 'max':\n",
    "        print('- \"Turtle\" language corpus:')\n",
    "        with open(input_file, 'r') as f: \n",
    "            lines = f.read().splitlines()\n",
    "        for i,line in enumerate(lines): \n",
    "            if len(line) > 0: print(str(i+1)+'. '+line)    \n",
    "else: print('No data file', module_path + input_file[2:])"
   ]
  },
  {
   "cell_type": "markdown",
   "metadata": {},
   "source": [
    "## 5.2 Parse \"synthetic\" disjuncts from sentences.\n",
    "We create pseudo-disjuncts for each word in each sentence taking its left and right neighbour words."
   ]
  },
  {
   "cell_type": "code",
   "execution_count": 4,
   "metadata": {},
   "outputs": [
    {
     "name": "stdout",
     "output_type": "stream",
     "text": [
      "60 disjuncts parsed from ../data/poc-turtle-sentences.txt\n",
      "15 words and 29 unique disjuncts form 44 unique word-disjunct pairs\n"
     ]
    },
    {
     "data": {
      "text/html": [
       "<div>\n",
       "<style scoped>\n",
       "    .dataframe tbody tr th:only-of-type {\n",
       "        vertical-align: middle;\n",
       "    }\n",
       "\n",
       "    .dataframe tbody tr th {\n",
       "        vertical-align: top;\n",
       "    }\n",
       "\n",
       "    .dataframe thead th {\n",
       "        text-align: right;\n",
       "    }\n",
       "</style>\n",
       "<table border=\"1\" class=\"dataframe\">\n",
       "  <thead>\n",
       "    <tr style=\"text-align: right;\">\n",
       "      <th></th>\n",
       "      <th>word</th>\n",
       "      <th>disjunct</th>\n",
       "      <th>count</th>\n",
       "    </tr>\n",
       "  </thead>\n",
       "  <tbody>\n",
       "    <tr>\n",
       "      <th>0</th>\n",
       "      <td>.</td>\n",
       "      <td>bird-</td>\n",
       "      <td>2</td>\n",
       "    </tr>\n",
       "    <tr>\n",
       "      <th>1</th>\n",
       "      <td>.</td>\n",
       "      <td>extremity-</td>\n",
       "      <td>2</td>\n",
       "    </tr>\n",
       "    <tr>\n",
       "      <th>2</th>\n",
       "      <td>.</td>\n",
       "      <td>fin-</td>\n",
       "      <td>2</td>\n",
       "    </tr>\n",
       "    <tr>\n",
       "      <th>3</th>\n",
       "      <td>.</td>\n",
       "      <td>fish-</td>\n",
       "      <td>2</td>\n",
       "    </tr>\n",
       "    <tr>\n",
       "      <th>4</th>\n",
       "      <td>.</td>\n",
       "      <td>wing-</td>\n",
       "      <td>2</td>\n",
       "    </tr>\n",
       "    <tr>\n",
       "      <th>5</th>\n",
       "      <td>LEFT-WALL</td>\n",
       "      <td>eagle+</td>\n",
       "      <td>2</td>\n",
       "    </tr>\n",
       "    <tr>\n",
       "      <th>6</th>\n",
       "      <td>LEFT-WALL</td>\n",
       "      <td>fin+</td>\n",
       "      <td>2</td>\n",
       "    </tr>\n",
       "    <tr>\n",
       "      <th>7</th>\n",
       "      <td>LEFT-WALL</td>\n",
       "      <td>herring+</td>\n",
       "      <td>2</td>\n",
       "    </tr>\n",
       "    <tr>\n",
       "      <th>8</th>\n",
       "      <td>LEFT-WALL</td>\n",
       "      <td>parrot+</td>\n",
       "      <td>2</td>\n",
       "    </tr>\n",
       "    <tr>\n",
       "      <th>9</th>\n",
       "      <td>LEFT-WALL</td>\n",
       "      <td>tuna+</td>\n",
       "      <td>2</td>\n",
       "    </tr>\n",
       "    <tr>\n",
       "      <th>10</th>\n",
       "      <td>LEFT-WALL</td>\n",
       "      <td>wing+</td>\n",
       "      <td>2</td>\n",
       "    </tr>\n",
       "    <tr>\n",
       "      <th>11</th>\n",
       "      <td>bird</td>\n",
       "      <td>isa- &amp; .+</td>\n",
       "      <td>2</td>\n",
       "    </tr>\n",
       "    <tr>\n",
       "      <th>12</th>\n",
       "      <td>extremity</td>\n",
       "      <td>isa- &amp; .+</td>\n",
       "      <td>2</td>\n",
       "    </tr>\n",
       "    <tr>\n",
       "      <th>13</th>\n",
       "      <td>fin</td>\n",
       "      <td>has- &amp; .+</td>\n",
       "      <td>2</td>\n",
       "    </tr>\n",
       "    <tr>\n",
       "      <th>14</th>\n",
       "      <td>fish</td>\n",
       "      <td>isa- &amp; .+</td>\n",
       "      <td>2</td>\n",
       "    </tr>\n",
       "    <tr>\n",
       "      <th>15</th>\n",
       "      <td>wing</td>\n",
       "      <td>has- &amp; .+</td>\n",
       "      <td>2</td>\n",
       "    </tr>\n",
       "    <tr>\n",
       "      <th>16</th>\n",
       "      <td>.</td>\n",
       "      <td>feather-</td>\n",
       "      <td>1</td>\n",
       "    </tr>\n",
       "    <tr>\n",
       "      <th>17</th>\n",
       "      <td>.</td>\n",
       "      <td>scale-</td>\n",
       "      <td>1</td>\n",
       "    </tr>\n",
       "    <tr>\n",
       "      <th>18</th>\n",
       "      <td>eagle</td>\n",
       "      <td>LEFT-WALL- &amp; has+</td>\n",
       "      <td>1</td>\n",
       "    </tr>\n",
       "    <tr>\n",
       "      <th>19</th>\n",
       "      <td>eagle</td>\n",
       "      <td>LEFT-WALL- &amp; isa+</td>\n",
       "      <td>1</td>\n",
       "    </tr>\n",
       "    <tr>\n",
       "      <th>20</th>\n",
       "      <td>feather</td>\n",
       "      <td>has- &amp; .+</td>\n",
       "      <td>1</td>\n",
       "    </tr>\n",
       "    <tr>\n",
       "      <th>21</th>\n",
       "      <td>fin</td>\n",
       "      <td>LEFT-WALL- &amp; has+</td>\n",
       "      <td>1</td>\n",
       "    </tr>\n",
       "    <tr>\n",
       "      <th>22</th>\n",
       "      <td>fin</td>\n",
       "      <td>LEFT-WALL- &amp; isa+</td>\n",
       "      <td>1</td>\n",
       "    </tr>\n",
       "    <tr>\n",
       "      <th>23</th>\n",
       "      <td>has</td>\n",
       "      <td>eagle- &amp; wing+</td>\n",
       "      <td>1</td>\n",
       "    </tr>\n",
       "    <tr>\n",
       "      <th>24</th>\n",
       "      <td>has</td>\n",
       "      <td>fin- &amp; scale+</td>\n",
       "      <td>1</td>\n",
       "    </tr>\n",
       "    <tr>\n",
       "      <th>25</th>\n",
       "      <td>has</td>\n",
       "      <td>herring- &amp; fin+</td>\n",
       "      <td>1</td>\n",
       "    </tr>\n",
       "    <tr>\n",
       "      <th>26</th>\n",
       "      <td>has</td>\n",
       "      <td>parrot- &amp; wing+</td>\n",
       "      <td>1</td>\n",
       "    </tr>\n",
       "    <tr>\n",
       "      <th>27</th>\n",
       "      <td>has</td>\n",
       "      <td>tuna- &amp; fin+</td>\n",
       "      <td>1</td>\n",
       "    </tr>\n",
       "    <tr>\n",
       "      <th>28</th>\n",
       "      <td>has</td>\n",
       "      <td>wing- &amp; feather+</td>\n",
       "      <td>1</td>\n",
       "    </tr>\n",
       "    <tr>\n",
       "      <th>29</th>\n",
       "      <td>herring</td>\n",
       "      <td>LEFT-WALL- &amp; has+</td>\n",
       "      <td>1</td>\n",
       "    </tr>\n",
       "    <tr>\n",
       "      <th>30</th>\n",
       "      <td>herring</td>\n",
       "      <td>LEFT-WALL- &amp; isa+</td>\n",
       "      <td>1</td>\n",
       "    </tr>\n",
       "    <tr>\n",
       "      <th>31</th>\n",
       "      <td>isa</td>\n",
       "      <td>eagle- &amp; bird+</td>\n",
       "      <td>1</td>\n",
       "    </tr>\n",
       "    <tr>\n",
       "      <th>32</th>\n",
       "      <td>isa</td>\n",
       "      <td>fin- &amp; extremity+</td>\n",
       "      <td>1</td>\n",
       "    </tr>\n",
       "    <tr>\n",
       "      <th>33</th>\n",
       "      <td>isa</td>\n",
       "      <td>herring- &amp; fish+</td>\n",
       "      <td>1</td>\n",
       "    </tr>\n",
       "    <tr>\n",
       "      <th>34</th>\n",
       "      <td>isa</td>\n",
       "      <td>parrot- &amp; bird+</td>\n",
       "      <td>1</td>\n",
       "    </tr>\n",
       "    <tr>\n",
       "      <th>35</th>\n",
       "      <td>isa</td>\n",
       "      <td>tuna- &amp; fish+</td>\n",
       "      <td>1</td>\n",
       "    </tr>\n",
       "    <tr>\n",
       "      <th>36</th>\n",
       "      <td>isa</td>\n",
       "      <td>wing- &amp; extremity+</td>\n",
       "      <td>1</td>\n",
       "    </tr>\n",
       "    <tr>\n",
       "      <th>37</th>\n",
       "      <td>parrot</td>\n",
       "      <td>LEFT-WALL- &amp; has+</td>\n",
       "      <td>1</td>\n",
       "    </tr>\n",
       "    <tr>\n",
       "      <th>38</th>\n",
       "      <td>parrot</td>\n",
       "      <td>LEFT-WALL- &amp; isa+</td>\n",
       "      <td>1</td>\n",
       "    </tr>\n",
       "    <tr>\n",
       "      <th>39</th>\n",
       "      <td>scale</td>\n",
       "      <td>has- &amp; .+</td>\n",
       "      <td>1</td>\n",
       "    </tr>\n",
       "    <tr>\n",
       "      <th>40</th>\n",
       "      <td>tuna</td>\n",
       "      <td>LEFT-WALL- &amp; has+</td>\n",
       "      <td>1</td>\n",
       "    </tr>\n",
       "    <tr>\n",
       "      <th>41</th>\n",
       "      <td>tuna</td>\n",
       "      <td>LEFT-WALL- &amp; isa+</td>\n",
       "      <td>1</td>\n",
       "    </tr>\n",
       "    <tr>\n",
       "      <th>42</th>\n",
       "      <td>wing</td>\n",
       "      <td>LEFT-WALL- &amp; has+</td>\n",
       "      <td>1</td>\n",
       "    </tr>\n",
       "    <tr>\n",
       "      <th>43</th>\n",
       "      <td>wing</td>\n",
       "      <td>LEFT-WALL- &amp; isa+</td>\n",
       "      <td>1</td>\n",
       "    </tr>\n",
       "  </tbody>\n",
       "</table>\n",
       "</div>"
      ],
      "text/plain": [
       "         word            disjunct  count\n",
       "0           .               bird-      2\n",
       "1           .          extremity-      2\n",
       "2           .                fin-      2\n",
       "3           .               fish-      2\n",
       "4           .               wing-      2\n",
       "5   LEFT-WALL              eagle+      2\n",
       "6   LEFT-WALL                fin+      2\n",
       "7   LEFT-WALL            herring+      2\n",
       "8   LEFT-WALL             parrot+      2\n",
       "9   LEFT-WALL               tuna+      2\n",
       "10  LEFT-WALL               wing+      2\n",
       "11       bird           isa- & .+      2\n",
       "12  extremity           isa- & .+      2\n",
       "13        fin           has- & .+      2\n",
       "14       fish           isa- & .+      2\n",
       "15       wing           has- & .+      2\n",
       "16          .            feather-      1\n",
       "17          .              scale-      1\n",
       "18      eagle   LEFT-WALL- & has+      1\n",
       "19      eagle   LEFT-WALL- & isa+      1\n",
       "20    feather           has- & .+      1\n",
       "21        fin   LEFT-WALL- & has+      1\n",
       "22        fin   LEFT-WALL- & isa+      1\n",
       "23        has      eagle- & wing+      1\n",
       "24        has       fin- & scale+      1\n",
       "25        has     herring- & fin+      1\n",
       "26        has     parrot- & wing+      1\n",
       "27        has        tuna- & fin+      1\n",
       "28        has    wing- & feather+      1\n",
       "29    herring   LEFT-WALL- & has+      1\n",
       "30    herring   LEFT-WALL- & isa+      1\n",
       "31        isa      eagle- & bird+      1\n",
       "32        isa   fin- & extremity+      1\n",
       "33        isa    herring- & fish+      1\n",
       "34        isa     parrot- & bird+      1\n",
       "35        isa       tuna- & fish+      1\n",
       "36        isa  wing- & extremity+      1\n",
       "37     parrot   LEFT-WALL- & has+      1\n",
       "38     parrot   LEFT-WALL- & isa+      1\n",
       "39      scale           has- & .+      1\n",
       "40       tuna   LEFT-WALL- & has+      1\n",
       "41       tuna   LEFT-WALL- & isa+      1\n",
       "42       wing   LEFT-WALL- & has+      1\n",
       "43       wing   LEFT-WALL- & isa+      1"
      ]
     },
     "execution_count": 4,
     "metadata": {},
     "output_type": "execute_result"
    }
   ],
   "source": [
    "from src.space.turtle import dumb_disjuncter\n",
    "left_wall = 'LEFT-WALL'  # Left wall symbol, 'none' - don't use Left-Wall\n",
    "parses = dumb_disjuncter(input_file, left_wall, dot=True,)\n",
    "if verbose != 'none': print(len(parses),'disjuncts parsed from', input_file) \n",
    "disjuncts = parses.groupby(['word','disjunct'], as_index=False).sum() \\\n",
    "    .sort_values(by=['count','word','disjunct'], ascending=[False,True,True]) \\\n",
    "    .reset_index(drop=True)\n",
    "dj_number = len(set(disjuncts['disjunct'].tolist()))\n",
    "word_number = len(set(disjuncts['word'].tolist()))\n",
    "if verbose != 'none': print(word_number, 'words and', dj_number, \\\n",
    "    'unique disjuncts form', len(disjuncts),'unique word-disjunct pairs') \n",
    "disjuncts"
   ]
  },
  {
   "cell_type": "markdown",
   "metadata": {},
   "source": [
    "## 5.3 Multi-germ-multi-disjunct lexical entries\n",
    "We cluster words and disjuncts to form unique multi-germ-multi-disjunct lexical entries, following the Link Grammar rules. Actually the entries are low-level Link Grammar rules, but Link Grammar would not accept word-based disjuncts."
   ]
  },
  {
   "cell_type": "code",
   "execution_count": 5,
   "metadata": {},
   "outputs": [
    {
     "data": {
      "text/html": [
       "<div>\n",
       "<style scoped>\n",
       "    .dataframe tbody tr th:only-of-type {\n",
       "        vertical-align: middle;\n",
       "    }\n",
       "\n",
       "    .dataframe tbody tr th {\n",
       "        vertical-align: top;\n",
       "    }\n",
       "\n",
       "    .dataframe thead th {\n",
       "        text-align: right;\n",
       "    }\n",
       "</style>\n",
       "<table border=\"1\" class=\"dataframe\">\n",
       "  <thead>\n",
       "    <tr style=\"text-align: right;\">\n",
       "      <th></th>\n",
       "      <th>germs</th>\n",
       "      <th>disjuncts</th>\n",
       "      <th>counts</th>\n",
       "    </tr>\n",
       "  </thead>\n",
       "  <tbody>\n",
       "    <tr>\n",
       "      <th>C01</th>\n",
       "      <td>[.]</td>\n",
       "      <td>[bird-, extremity-, feather-, fin-, fish-, sca...</td>\n",
       "      <td>12</td>\n",
       "    </tr>\n",
       "    <tr>\n",
       "      <th>C02</th>\n",
       "      <td>[LEFT-WALL]</td>\n",
       "      <td>[eagle+, fin+, herring+, parrot+, tuna+, wing+]</td>\n",
       "      <td>12</td>\n",
       "    </tr>\n",
       "    <tr>\n",
       "      <th>C03</th>\n",
       "      <td>[bird, extremity, fish]</td>\n",
       "      <td>[isa- &amp; .+]</td>\n",
       "      <td>6</td>\n",
       "    </tr>\n",
       "    <tr>\n",
       "      <th>C04</th>\n",
       "      <td>[eagle, herring, parrot, tuna]</td>\n",
       "      <td>[LEFT-WALL- &amp; has+, LEFT-WALL- &amp; isa+]</td>\n",
       "      <td>8</td>\n",
       "    </tr>\n",
       "    <tr>\n",
       "      <th>C05</th>\n",
       "      <td>[feather, scale]</td>\n",
       "      <td>[has- &amp; .+]</td>\n",
       "      <td>2</td>\n",
       "    </tr>\n",
       "    <tr>\n",
       "      <th>C06</th>\n",
       "      <td>[fin, wing]</td>\n",
       "      <td>[LEFT-WALL- &amp; has+, LEFT-WALL- &amp; isa+, has- &amp; .+]</td>\n",
       "      <td>8</td>\n",
       "    </tr>\n",
       "    <tr>\n",
       "      <th>C07</th>\n",
       "      <td>[has]</td>\n",
       "      <td>[eagle- &amp; wing+, fin- &amp; scale+, herring- &amp; fin...</td>\n",
       "      <td>6</td>\n",
       "    </tr>\n",
       "    <tr>\n",
       "      <th>C08</th>\n",
       "      <td>[isa]</td>\n",
       "      <td>[eagle- &amp; bird+, fin- &amp; extremity+, herring- &amp;...</td>\n",
       "      <td>6</td>\n",
       "    </tr>\n",
       "  </tbody>\n",
       "</table>\n",
       "</div>"
      ],
      "text/plain": [
       "                              germs  \\\n",
       "C01                             [.]   \n",
       "C02                     [LEFT-WALL]   \n",
       "C03         [bird, extremity, fish]   \n",
       "C04  [eagle, herring, parrot, tuna]   \n",
       "C05                [feather, scale]   \n",
       "C06                     [fin, wing]   \n",
       "C07                           [has]   \n",
       "C08                           [isa]   \n",
       "\n",
       "                                             disjuncts  counts  \n",
       "C01  [bird-, extremity-, feather-, fin-, fish-, sca...      12  \n",
       "C02    [eagle+, fin+, herring+, parrot+, tuna+, wing+]      12  \n",
       "C03                                        [isa- & .+]       6  \n",
       "C04             [LEFT-WALL- & has+, LEFT-WALL- & isa+]       8  \n",
       "C05                                        [has- & .+]       2  \n",
       "C06  [LEFT-WALL- & has+, LEFT-WALL- & isa+, has- & .+]       8  \n",
       "C07  [eagle- & wing+, fin- & scale+, herring- & fin...       6  \n",
       "C08  [eagle- & bird+, fin- & extremity+, herring- &...       6  "
      ]
     },
     "execution_count": 5,
     "metadata": {},
     "output_type": "execute_result"
    }
   ],
   "source": [
    "from src.link_grammar.turtle import entries2clusters, lexical_entries\n",
    "dfc = entries2clusters(lexical_entries(disjuncts))\n",
    "dfc"
   ]
  },
  {
   "cell_type": "markdown",
   "metadata": {},
   "source": []
  },
  {
   "cell_type": "code",
   "execution_count": 6,
   "metadata": {},
   "outputs": [
    {
     "data": {
      "text/html": [
       "<table><tr><td>Cluster</td><td>Words</td><td></td><td></td><td>Disjuncts</td></tr><tr><td>C01</td><td>['.']</td><td>[]</td><td>[]</td><td>['bird-', 'extremity-', 'feather-', 'fin-', 'fish-', 'scale-', 'wing-']</td></tr><tr><td>C02</td><td>['LEFT-WALL']</td><td>[]</td><td>[]</td><td>['eagle+', 'fin+', 'herring+', 'parrot+', 'tuna+', 'wing+']</td></tr><tr><td>C03</td><td>['bird', 'extremity', 'fish']</td><td>[]</td><td>[]</td><td>['isa- & .+']</td></tr><tr><td>C04</td><td>['eagle', 'herring', 'parrot', 'tuna']</td><td>[]</td><td>[]</td><td>['LEFT-WALL- & has+', 'LEFT-WALL- & isa+']</td></tr><tr><td>C05</td><td>['feather', 'scale']</td><td>[]</td><td>[]</td><td>['has- & .+']</td></tr><tr><td>C06</td><td>['fin', 'wing']</td><td>[]</td><td>[]</td><td>['LEFT-WALL- & has+', 'LEFT-WALL- & isa+', 'has- & .+']</td></tr><tr><td>C07</td><td>['has']</td><td>[]</td><td>[]</td><td>['eagle- & wing+', 'fin- & scale+', 'herring- & fin+', 'parrot- & wing+', 'tuna- & fin+', 'wing- & feather+']</td></tr><tr><td>C08</td><td>['isa']</td><td>[]</td><td>[]</td><td>['eagle- & bird+', 'fin- & extremity+', 'herring- & fish+', 'parrot- & bird+', 'tuna- & fish+', 'wing- & extremity+']</td></tr></table>"
      ],
      "text/plain": [
       "<IPython.core.display.HTML object>"
      ]
     },
     "metadata": {},
     "output_type": "display_data"
    }
   ],
   "source": [
    "from src.link_grammar.turtle import entries2rules\n",
    "display(html_table([['Cluster','Words','','','Disjuncts']] + entries2rules(dfc)))"
   ]
  },
  {
   "cell_type": "markdown",
   "metadata": {},
   "source": [
    "### 5.4 Convert Multi-germ-multi-disjunct lexical entries to Link Grammar rules\n",
    "The next step from multi-germ-multi-disjunct lexical entries to Link Grammar rules is replacing words in disjuncts with cluster identificators."
   ]
  },
  {
   "cell_type": "code",
   "execution_count": 7,
   "metadata": {},
   "outputs": [
    {
     "data": {
      "text/html": [
       "<table><tr><td>Cluster</td><td>Words</td><td></td><td></td><td>Disjuncts</td></tr><tr><td>C01</td><td>['.']</td><td>[]</td><td>[]</td><td>['C03-', 'C05-', 'C06-']</td></tr><tr><td>C02</td><td>['LEFT-WALL']</td><td>[]</td><td>[]</td><td>['C04+', 'C06+']</td></tr><tr><td>C03</td><td>['bird', 'extremity', 'fish']</td><td>[]</td><td>[]</td><td>['C08- & C01+']</td></tr><tr><td>C04</td><td>['eagle', 'herring', 'parrot', 'tuna']</td><td>[]</td><td>[]</td><td>['C02- & C07+', 'C02- & C08+']</td></tr><tr><td>C05</td><td>['feather', 'scale']</td><td>[]</td><td>[]</td><td>['C07- & C01+']</td></tr><tr><td>C06</td><td>['fin', 'wing']</td><td>[]</td><td>[]</td><td>['C02- & C07+', 'C02- & C08+', 'C07- & C01+']</td></tr><tr><td>C07</td><td>['has']</td><td>[]</td><td>[]</td><td>['C04- & C06+', 'C06- & C05+']</td></tr><tr><td>C08</td><td>['isa']</td><td>[]</td><td>[]</td><td>['C04- & C03+', 'C06- & C03+']</td></tr></table>"
      ],
      "text/plain": [
       "<IPython.core.display.HTML object>"
      ]
     },
     "metadata": {},
     "output_type": "display_data"
    }
   ],
   "source": [
    "from src.link_grammar.turtle import disjuncts2clusters\n",
    "rules = disjuncts2clusters(dfc)  # DataFrame\n",
    "lg_rule_list = entries2rules(rules)\n",
    "display(html_table([['Cluster','Words','','','Disjuncts']] + lg_rule_list))"
   ]
  },
  {
   "cell_type": "markdown",
   "metadata": {},
   "source": [
    " The learned rules may sometimes over-generalize, allowing connections not present in the initial corpus. E.g. rule C07 **has: (C04- & C06+) or (C06- & C05)** would treat sentences \"tuna has wing\" and \"fin has feather\" gramatically correct."
   ]
  },
  {
   "cell_type": "code",
   "execution_count": 8,
   "metadata": {},
   "outputs": [
    {
     "name": "stdout",
     "output_type": "stream",
     "text": [
      "% POC Turtle Link Grammar v.0.5 2018-03-03 15:19:19 UTC\n",
      "\n",
      "% C01\n",
      "\".\":\n",
      "(C03-) or (C05-) or (C06-);\n",
      "\n",
      "% C02\n",
      "\"LEFT-WALL\":\n",
      "(C04+) or (C06+);\n",
      "\n",
      "% C03\n",
      "\"bird\" \"extremity\" \"fish\":\n",
      "(C08- & C01+);\n",
      "\n",
      "% C04\n",
      "\"eagle\" \"herring\" \"parrot\" \"tuna\":\n",
      "(C02- & C07+) or (C02- & C08+);\n",
      "\n",
      "% C05\n",
      "\"feather\" \"scale\":\n",
      "(C07- & C01+);\n",
      "\n",
      "% C06\n",
      "\"fin\" \"wing\":\n",
      "(C02- & C07+) or (C02- & C08+) or (C07- & C01+);\n",
      "\n",
      "% C07\n",
      "\"has\":\n",
      "(C04- & C06+) or (C06- & C05+);\n",
      "\n",
      "% C08\n",
      "\"isa\":\n",
      "(C04- & C03+) or (C06- & C03+);\n",
      "\n",
      "% 8 word clusters, 8 Link Grammar rules.\n",
      "% Link Grammar file saved to: /home/obaskov/language-learning/output/Turtle-5-2018-03-03/turtle_link_grammar_8_clusters_2018-03-03.4.0.dict\n"
     ]
    }
   ],
   "source": [
    "from src.link_grammar.turtle import save_link_grammar\n",
    "lg_file_string = save_link_grammar(lg_rule_list, path)\n",
    "for line in lg_file_string.splitlines(): print(line)"
   ]
  },
  {
   "cell_type": "markdown",
   "metadata": {},
   "source": [
    "The above Link Grammar dictionary looks identical to the one tested in section 4.3.1 of the previous [POC-Turtle-4-Grammar-Learning](http://88.99.210.144/data/clustering_2018/html/POC-Turtle-4-Grammar-Learning.html) case. However, later this page will be amended with Link Grammar parser test."
   ]
  },
  {
   "cell_type": "markdown",
   "metadata": {},
   "source": [
    "## 5.5 Link Grammar for a dataset with removed punctuation\n",
    "Let's collect the grammar learning pipeline in a short summary and test it on the same dataset parsed without ###LEFT-WALL### and period."
   ]
  },
  {
   "cell_type": "code",
   "execution_count": 9,
   "metadata": {},
   "outputs": [
    {
     "name": "stdout",
     "output_type": "stream",
     "text": [
      "16 unique disjuncts form 31 unique word-disjunct pairs from 36 parsed items\n"
     ]
    },
    {
     "data": {
      "text/html": [
       "<table><tr><td>Cluster</td><td>Words</td><td></td><td></td><td>Disjuncts</td></tr><tr><td>C01</td><td>['bird', 'extremity', 'fish']</td><td>[]</td><td>[]</td><td>['C06-']</td></tr><tr><td>C02</td><td>['eagle', 'herring', 'parrot', 'tuna']</td><td>[]</td><td>[]</td><td>['C05+', 'C06+']</td></tr><tr><td>C03</td><td>['feather', 'scale']</td><td>[]</td><td>[]</td><td>['C05-']</td></tr><tr><td>C04</td><td>['fin', 'wing']</td><td>[]</td><td>[]</td><td>['C05+', 'C05-', 'C06+']</td></tr><tr><td>C05</td><td>['has']</td><td>[]</td><td>[]</td><td>['C02- & C04+', 'C04- & C03+']</td></tr><tr><td>C06</td><td>['isa']</td><td>[]</td><td>[]</td><td>['C02- & C01+', 'C04- & C01+']</td></tr></table>"
      ],
      "text/plain": [
       "<IPython.core.display.HTML object>"
      ]
     },
     "metadata": {},
     "output_type": "display_data"
    }
   ],
   "source": [
    "def pipeline(input_file, left_wall='', period=False, verbose='none'):\n",
    "    parses = dumb_disjuncter(input_file, lw=left_wall, dot=False)\n",
    "    disjuncts = parses.groupby(['word','disjunct'], as_index=False).sum() \\\n",
    "        .sort_values(by=['count','word','disjunct'], ascending=[False,True,True]) \\\n",
    "        .reset_index(drop=True)\n",
    "    dj_number = len(set(disjuncts['disjunct'].tolist()))\n",
    "    if verbose != 'none': print(dj_number, 'unique disjuncts form', \\\n",
    "        len(disjuncts),'unique word-disjunct pairs from', len(parses), 'parsed items') \n",
    "    dfg = lexical_entries(disjuncts)\n",
    "    dfc = entries2clusters(dfg)\n",
    "    rules = disjuncts2clusters(dfc)\n",
    "    lg_rule_list = entries2rules(rules)\n",
    "    return lg_rule_list\n",
    "\n",
    "lg_rule_list = pipeline(input_file, left_wall='', period=False, verbose='max')\n",
    "display(html_table([['Cluster','Words','','','Disjuncts']] + lg_rule_list))"
   ]
  },
  {
   "cell_type": "code",
   "execution_count": 10,
   "metadata": {},
   "outputs": [
    {
     "name": "stdout",
     "output_type": "stream",
     "text": [
      "% POC Turtle Link Grammar v.0.5 2018-03-03 15:19:19 UTC\n",
      "\n",
      "% C01\n",
      "\"bird\" \"extremity\" \"fish\":\n",
      "(C06-);\n",
      "\n",
      "% C02\n",
      "\"eagle\" \"herring\" \"parrot\" \"tuna\":\n",
      "(C05+) or (C06+);\n",
      "\n",
      "% C03\n",
      "\"feather\" \"scale\":\n",
      "(C05-);\n",
      "\n",
      "% C04\n",
      "\"fin\" \"wing\":\n",
      "(C05+) or (C05-) or (C06+);\n",
      "\n",
      "% C05\n",
      "\"has\":\n",
      "(C02- & C04+) or (C04- & C03+);\n",
      "\n",
      "% C06\n",
      "\"isa\":\n",
      "(C02- & C01+) or (C04- & C01+);\n",
      "\n",
      "% 6 word clusters, 6 Link Grammar rules.\n",
      "% Link Grammar file saved to: /home/obaskov/language-learning/output/Turtle-5-2018-03-03/turtle_link_grammar_6_clusters_2018-03-03.4.0.dict\n"
     ]
    }
   ],
   "source": [
    "lg_file_string = save_link_grammar(lg_rule_list, path)\n",
    "for line in lg_file_string.splitlines(): print(line)"
   ]
  },
  {
   "cell_type": "markdown",
   "metadata": {},
   "source": [
    "The grammar looks viable. Link Grammar parser test results will be added."
   ]
  },
  {
   "cell_type": "markdown",
   "metadata": {},
   "source": [
    "## Resume\n",
    "This time we managed to create the same Link Grammar rules as in the previous POC-Turtle-4-Grammar-Learning case in a much easier way, without any complicated vector space manipulations and clustering. However, we still need some technique for cluster similarity evaluation to further generalize learned word categories and Grammar rules. In particular, we have managed to learn noun and verb top-level word categories analyzing cluster similarities in section 4.2.3 of the [previous case](http://88.99.210.144/data/clustering_2018/html/POC-Turtle-4-Grammar-Learning.html) and certainly would need a similar agglomeration technique.\n",
    "\n",
    "13 words and 16 disjuncts are not enough for word space creation for the Turtle corpus. For a bigger corpus we could create two vector spaces for rule (cluster) embeddings -- the one based on words and the other based on disjuncts -- and research grammar patterns by clustering rules in both spaces and analyzing cross-relations.  \n",
    "\n",
    "Link Grammar .dict files are shared via [http://88.99.210.144/data/clustering_2018/POC-Turtle-5-2018-03-03/](http://88.99.210.144/data/clustering_2018/POC-Turtle-5-2018-03-03/)"
   ]
  },
  {
   "cell_type": "code",
   "execution_count": null,
   "metadata": {},
   "outputs": [],
   "source": []
  }
 ],
 "metadata": {
  "kernelspec": {
   "display_name": "Python 3",
   "language": "python",
   "name": "python3"
  },
  "language_info": {
   "codemirror_mode": {
    "name": "ipython",
    "version": 3
   },
   "file_extension": ".py",
   "mimetype": "text/x-python",
   "name": "python",
   "nbconvert_exporter": "python",
   "pygments_lexer": "ipython3",
   "version": "3.6.4"
  }
 },
 "nbformat": 4,
 "nbformat_minor": 2
}
