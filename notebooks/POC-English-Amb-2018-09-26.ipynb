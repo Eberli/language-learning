{
 "cells": [
  {
   "cell_type": "markdown",
   "metadata": {},
   "source": [
    "# POC-English-Amb+disAmb test `2018-08-09`\n",
    "\n",
    "Updated optimal clustering search (2018-08-05), server `88.99.210.144`      \n",
    "Each line is calculated 1x, parsing metrics tested 1x for each calculation.  \n",
    "The calculation table is shared as 'short_table.txt' in data folder  \n",
    "[http://langlearn.singularitynet.io/data/clustering_2018/POC-English-Amb-2018-08-09/](http://langlearn.singularitynet.io/data/clustering_2018/POC-English-Amb-2018-08-09/)  \n",
    "This notebook is shared as static html via  \n",
    "[http://langlearn.singularitynet.io/data/clustering_2018/html/POC-English-Amb-2018-08-09.html](http://langlearn.singularitynet.io/data/clustering_2018/html/POC-English-Amb-2018-08-09.html)  \n",
    "A multi-run version of this test is **NOT** shared via  \n",
    "[http://langlearn.singularitynet.io/data/clustering_2018/html/POC-English-Amb-2018-08-08-multi.html](http://langlearn.singularitynet.io/data/clustering_2018/html/POC-English-Amb-2018-08-09-multi.html)  "
   ]
  },
  {
   "cell_type": "markdown",
   "metadata": {},
   "source": [
    "## Basic settings"
   ]
  },
  {
   "cell_type": "code",
   "execution_count": 1,
   "metadata": {},
   "outputs": [
    {
     "name": "stdout",
     "output_type": "stream",
     "text": [
      "2018-09-26 15:19:39 UTC :: module_path = /home/obaskov/py/language-learning\n"
     ]
    }
   ],
   "source": [
    "import os, sys, time\n",
    "from IPython.display import display\n",
    "module_path = os.path.abspath(os.path.join('..'))\n",
    "grammar_learner_path = module_path + '/src/grammar_learner/'\n",
    "from ull.grammar_learner.utl import UTC\n",
    "from ull.grammar_learner.read_files import check_dir\n",
    "from ull.grammar_learner.widgets import html_table\n",
    "from ull.grammar_learner.pqa_table import table_damb\n",
    "tmpath = module_path + '/tmp/'\n",
    "if check_dir(tmpath, True, 'none'):\n",
    "    table = []\n",
    "    long_table = []\n",
    "    header = ['Line','Corpus','Parsing','LW','\".\"','Generalization','Space','Rules','PA','PQ']\n",
    "    start = time.time()\n",
    "    print(UTC(), ':: module_path =', module_path)\n",
    "else: print(UTC(), ':: could not create temporary files directory', tmpath)"
   ]
  },
  {
   "cell_type": "markdown",
   "metadata": {},
   "source": [
    "## Grammar Learner corpus-specific parameters"
   ]
  },
  {
   "cell_type": "code",
   "execution_count": 2,
   "metadata": {},
   "outputs": [],
   "source": [
    "corpus = 'POC-English-Amb'\n",
    "out_dir = module_path + '/output/'+ corpus + '-' + str(UTC())[:10]\n",
    "runs = (1,1)    # (attempts to learn grammar per line, grammar tests per attempt)\n",
    "if runs != (1,1): out_dir += '-multi'\n",
    "kwargs = {\n",
    "    'left_wall'     :   ''          ,\n",
    "    'period'        :   False       ,\n",
    "    'word_space'    :   'vectors'   ,\n",
    "    'clustering'    :   ('kmeans', 'kmeans++', 10),\n",
    "    'cluster_range' :   (50,2,7)    ,\n",
    "    'tmpath'        :   tmpath      , \n",
    "    'verbose'       :   'min'       ,\n",
    "    'template_path' :   'poc-turtle',\n",
    "    'linkage_limit' :   1000        ,\n",
    "    'categories_generalization': 'off'}\n",
    "lines = [\n",
    "    [11, 'POC-English-Amb'    , 'MST-fixed-manually'             , 0  , 0 , 'none'  ], \n",
    "    [12, 'POC-English-Amb'    , 'MST-fixed-manually'             , 0  , 0 , 'rules' ], \n",
    "    [13, 'POC-English-Amb'    , 'LG-English'                     , 0  , 0 , 'none'  ], \n",
    "    [14, 'POC-English-Amb'    , 'LG-English'                     , 0  , 0 , 'rules' ], \n",
    "    [15, 'POC-English-Amb'    , 'R=6-Weight=6:R-mst-weight=+1:R' , 0  , 0 , 'none'  ], \n",
    "    [16, 'POC-English-Amb'    , 'R=6-Weight=6:R-mst-weight=+1:R' , 0  , 0 , 'rules' ], \n",
    "    [17, 'POC-English-disAmb' , 'R=6-Weight=6:R-mst-weight=+1:R' , 0  , 0 , 'none'  ], \n",
    "    [18, 'POC-English-disAmb' , 'R=6-Weight=6:R-mst-weight=+1:R' , 0  , 0 , 'rules' ], \n",
    "    [19, 'POC-English-disAmb' , 'R=6-Weight=6:R-mst-weight=+1:R-agm-opt' , 0  , 0 , 'none'  ], \n",
    "    [20, 'POC-English-disAmb' , 'R=6-Weight=6:R-mst-weight=+1:R-agm-opt' , 0  , 0 , 'rules' ], \n",
    "    [21, 'POC-English-disAmb' , 'R=6-Weight=6:R-mst-weight=+1:R-agm-100' , 0  , 0 , 'none'  ], \n",
    "    [22, 'POC-English-disAmb' , 'R=6-Weight=6:R-mst-weight=+1:R-agm-100' , 0  , 0 , 'rules' ], \n",
    "    [23, 'POC-English-Amb'    , 'R=6-Weight=1-mst-weight=+1:R'   , 0  , 0 , 'none'  ], \n",
    "    [24, 'POC-English-disAmb' , 'R=6-Weight=1-mst-weight=+1:R'   , 0  , 0 , 'none'  ], \n",
    "    [25, 'POC-English-disAmb' , 'R=6-Weight=1-mst-weight=+1:R-agm-opt' , 0  , 0 , 'none'  ], \n",
    "    [26, 'POC-English-disAmb' , 'R=6-Weight=1-mst-weight=+1:R-agm-100' , 0  , 0 , 'none'  ], \n",
    "    [27, 'POC-English-Amb'    , 'LG-ANY-all-parses'              , 0  , 0 , 'none'  ], \n",
    "    [28, 'POC-English-disAmb' , 'LG-ANY-all-parses'              , 0  , 0 , 'none'  ], \n",
    "    [29, 'POC-English-disAmb' , 'LG-ANY-all-parses-adm-opt'      , 0  , 0 , 'none'  ], \n",
    "    [30, 'POC-English-disAmb' , 'LG-ANY-all-parses-adm-100'      , 0  , 0 , 'none' ]]\n",
    "rp = module_path + '/data/POC-English-Amb/MST-fixed-manually/poc-english_ex-parses-gold.txt'\n",
    "cps = (rp,rp)   # (test) corpus_paths for Amb and disAmb corpora\n",
    "rps = (rp,rp)   # reference_paths for Amb and disAmb corpora"
   ]
  },
  {
   "cell_type": "markdown",
   "metadata": {},
   "source": [
    "# POC-English-Amb, 5 datasets; ...-disAmb, 6 datasets\n",
    "ULL Project Plan ⇒ Parses ⇒ lines 20-39"
   ]
  },
  {
   "cell_type": "markdown",
   "metadata": {},
   "source": [
    "## Connectors-DRK-Connectors"
   ]
  },
  {
   "cell_type": "code",
   "execution_count": null,
   "metadata": {},
   "outputs": [],
   "source": [
    "%%capture\n",
    "kwargs['context'] = 1\n",
    "kwargs['grammar_rules'] = 1\n",
    "average21, long21 = table_damb(lines, out_dir, cps, rps, runs, **kwargs)\n",
    "table.extend(average21)\n",
    "long_table.extend(long21)"
   ]
  },
  {
   "cell_type": "code",
   "execution_count": null,
   "metadata": {},
   "outputs": [],
   "source": [
    "display(html_table([header]+average21))\n",
    "print(UTC())"
   ]
  },
  {
   "cell_type": "markdown",
   "metadata": {},
   "source": [
    "## Connectors-DRK-Disjuncts"
   ]
  },
  {
   "cell_type": "code",
   "execution_count": null,
   "metadata": {},
   "outputs": [],
   "source": [
    "%%capture\n",
    "kwargs['grammar_rules'] = 2\n",
    "average22, long22 = table_damb(lines, out_dir, cps, rps, runs, **kwargs)\n",
    "table.extend(average22)\n",
    "long_table.extend(long22)"
   ]
  },
  {
   "cell_type": "code",
   "execution_count": null,
   "metadata": {
    "scrolled": true
   },
   "outputs": [],
   "source": [
    "display(html_table([header]+average22))\n",
    "print(UTC())"
   ]
  },
  {
   "cell_type": "markdown",
   "metadata": {},
   "source": [
    "## Disjuncts-DRK-Disjuncts"
   ]
  },
  {
   "cell_type": "code",
   "execution_count": null,
   "metadata": {},
   "outputs": [],
   "source": [
    "%%capture\n",
    "kwargs['context'] = 2\n",
    "average23, long23 = table_damb(lines, out_dir, cps, rps, runs, **kwargs)\n",
    "table.extend(average23)\n",
    "long_table.extend(long23)"
   ]
  },
  {
   "cell_type": "code",
   "execution_count": null,
   "metadata": {},
   "outputs": [],
   "source": [
    "display(html_table([header]+average23))\n",
    "print(UTC())"
   ]
  },
  {
   "cell_type": "markdown",
   "metadata": {},
   "source": [
    "## Disjuncts-ILE-Disjuncts"
   ]
  },
  {
   "cell_type": "code",
   "execution_count": null,
   "metadata": {},
   "outputs": [],
   "source": [
    "%%capture\n",
    "kwargs['word_space'] = 'discrete'\n",
    "kwargs['clustering'] = 'group'\n",
    "average24, long24 = table_damb(lines, out_dir, cps, rps, runs, **kwargs)\n",
    "table.extend(average24)\n",
    "long_table.extend(long24)"
   ]
  },
  {
   "cell_type": "code",
   "execution_count": null,
   "metadata": {},
   "outputs": [],
   "source": [
    "display(html_table([header]+average24))\n",
    "print(UTC())"
   ]
  },
  {
   "cell_type": "markdown",
   "metadata": {},
   "source": [
    "# All tests (all entries for multi-test `runs > (1.1)`)"
   ]
  },
  {
   "cell_type": "code",
   "execution_count": null,
   "metadata": {},
   "outputs": [],
   "source": [
    "display(html_table([header]+long_table))"
   ]
  },
  {
   "cell_type": "code",
   "execution_count": null,
   "metadata": {},
   "outputs": [],
   "source": [
    "from ull.grammar_learner.write_files import list2file\n",
    "print(UTC(), ':: finished, elapsed', str(round((time.time()-start)/3600, 1)), 'hours')\n",
    "table_str = list2file(table, out_dir+'/short_table.txt')\n",
    "if runs == (1,1):\n",
    "    print('Results saved to', out_dir + '/short_table.txt')\n",
    "else:\n",
    "    long_table_str = list2file(long_table, out_dir+'/long_table.txt')\n",
    "    print('Average results saved to', out_dir + '/short_table.txt\\n'\n",
    "          'Detailed results for every run saved to', out_dir + '/long_table.txt')"
   ]
  },
  {
   "cell_type": "code",
   "execution_count": null,
   "metadata": {},
   "outputs": [],
   "source": []
  }
 ],
 "metadata": {
  "kernelspec": {
   "display_name": "Python [conda env:ull]",
   "language": "python",
   "name": "conda-env-ull-py"
  },
  "language_info": {
   "codemirror_mode": {
    "name": "ipython",
    "version": 3
   },
   "file_extension": ".py",
   "mimetype": "text/x-python",
   "name": "python",
   "nbconvert_exporter": "python",
   "pygments_lexer": "ipython3",
   "version": "3.6.6"
  },
  "toc": {
   "base_numbering": 1,
   "nav_menu": {},
   "number_sections": true,
   "sideBar": true,
   "skip_h1_title": false,
   "title_cell": "Table of Contents",
   "title_sidebar": "Contents",
   "toc_cell": false,
   "toc_position": {},
   "toc_section_display": true,
   "toc_window_display": false
  }
 },
 "nbformat": 4,
 "nbformat_minor": 2
}
