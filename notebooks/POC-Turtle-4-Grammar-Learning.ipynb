{
 "cells": [
  {
   "cell_type": "markdown",
   "metadata": {
    "nbpresent": {
     "id": "970a253b-782c-43e8-b21f-b0b7730da252"
    }
   },
   "source": [
    "# POC-Turtle Grammar Learner\n",
    "This is a continuation of proof-of-concept (POC) experiments in unsupervised language learning (ULL), the OpenCog project hosted on [GitHub](https://github.com/opencog/language-learning/tree/master/notebooks). \n",
    "The previous 3 notebooks on word category learning are shared as [static html pages](http://88.99.210.144/data/clustering_2018/html/):  \n",
    "- [POC-Turtle-1-Clustering-Words](http://88.99.210.144/data/clustering_2018/html/POC-Turtle-1-Clustering-Words.html)  \n",
    "- [POC-Turtle-2-Singular-Values](http://88.99.210.144/data/clustering_2018/html/POC-Turtle-2-Singular-Values.html)  \n",
    "- [POC-Turtle-3-Disjuncts](http://88.99.210.144/data/clustering_2018/html/POC-Turtle-3-Disjuncts.html)  \n",
    "\n",
    "This notebook is and update of the one shared 2018-02-24 with Link Grammar testing results added.  \n",
    "Link Grammar files are shared via [http://88.99.210.144/data/clustering_2018/POC-Turtle-4-2018-02-24/](http://88.99.210.144/data/clustering_2018/POC-Turtle-4-2018-02-24/)."
   ]
  },
  {
   "cell_type": "code",
   "execution_count": 1,
   "metadata": {
    "nbpresent": {
     "id": "ff403a99-96a4-4fc0-9c35-6bb1cd8fca5c"
    }
   },
   "outputs": [
    {
     "name": "stdout",
     "output_type": "stream",
     "text": [
      "2018-02-28 17:49:40 UTC :: module_path: /home/obaskov/language-learning\n"
     ]
    }
   ],
   "source": [
    "import os, sys, time\n",
    "import numpy as np\n",
    "import pandas as pd\n",
    "import matplotlib.pyplot as plt\n",
    "%matplotlib inline\n",
    "from IPython.display import display\n",
    "module_path = os.path.abspath(os.path.join('..'))\n",
    "if module_path not in sys.path: sys.path.append(module_path)\n",
    "from src.utl.utl import UTC, round3, round4, round5\n",
    "from src.space.turtle import dmb_parser, wps2vec, wps2connectors\n",
    "from src.clustering.kmeans import cluster_words_kmeans\n",
    "from src.clustering.similarity import cluster_similarity\n",
    "from src.utl.turtle import html_table, plot2d\n",
    "print(UTC(), ':: module_path:', module_path)"
   ]
  },
  {
   "cell_type": "markdown",
   "metadata": {
    "nbpresent": {
     "id": "e66ec570-4e67-4a4c-a4f3-2b7cd50975ef"
    }
   },
   "source": [
    "## 4.1 Settings, parameters, data."
   ]
  },
  {
   "cell_type": "code",
   "execution_count": 2,
   "metadata": {
    "nbpresent": {
     "id": "d3e380a9-726b-41b9-976c-c8955c91f7d1"
    }
   },
   "outputs": [
    {
     "name": "stdout",
     "output_type": "stream",
     "text": [
      "Project directory /home/obaskov/language-learning/output/Turtle-4-2018-02-24/ exists\n"
     ]
    }
   ],
   "source": [
    "prj_dir = '../output/Turtle-4-2018-02-24/'  # project directory \n",
    "prefix = ''     # all project files will start with this prefix\n",
    "verbose = 'max' # printed comments: 'none', 'min', 'max'\n",
    "log = {'project': 'POC-Turtle-4: Grammar Learner'}\n",
    "\n",
    "if not os.path.exists(prj_dir):\n",
    "    os.makedirs(prj_dir)\n",
    "    print('Project directory created:', module_path + prj_dir[2:])\n",
    "else: print('Project directory', module_path + prj_dir[2:], 'exists')"
   ]
  },
  {
   "cell_type": "markdown",
   "metadata": {},
   "source": [
    "### Parameters\n",
    "Most learning parameters are entered manually based on numerical criteria that can be set to auto definition after tests on bigger corpora.\n",
    "- word space metrics -- PMI (others not tested);\n",
    "- word vector space dimensionality reduction algorithm -- SVD (others not tested);\n",
    "- word space dimensionality -- manual / auto (4.2.1),\n",
    " - word space dimensions choice criteria -- singular values (SVD);\n",
    "- clustering algorithm -- K-Means (others not tested);\n",
    "- number of clusters -- manual / auto (4.2.2),\n",
    " - number of clusters choice criteria -- Silhouette index (others not tested);\n",
    "- number of agglomerated clusters - manual choice based on cosine similarity (4.2.3)."
   ]
  },
  {
   "cell_type": "markdown",
   "metadata": {},
   "source": [
    "### Data: simplified [\"Turtle language\" corpus](http://88.99.210.144/data/clustering_2018/input_data/poc-turtle-sentences.txt)"
   ]
  },
  {
   "cell_type": "code",
   "execution_count": 3,
   "metadata": {},
   "outputs": [
    {
     "name": "stdout",
     "output_type": "stream",
     "text": [
      "Data file: /home/obaskov/language-learning/data/poc-turtle-sentences.txt\n",
      "- \"Turtle\" language corpus:\n",
      "1. tuna isa fish.\n",
      "2. herring isa fish.\n",
      "3. tuna has fin.\n",
      "4. herring has fin.\n",
      "5. parrot isa bird.\n",
      "6. eagle isa bird.\n",
      "7. parrot has wing.\n",
      "8. eagle has wing.\n",
      "9. fin isa extremity.\n",
      "10. wing isa extremity.\n",
      "11. fin has scale.\n",
      "12. wing has feather.\n"
     ]
    }
   ],
   "source": [
    "input_file = '../data/poc-turtle-sentences.txt'\n",
    "if os.path.isfile(input_file):\n",
    "    print('Data file:', module_path + input_file[2:],)\n",
    "    log.update({'input_file': module_path + input_file[2:]})\n",
    "    if verbose == 'max':\n",
    "        print('- \"Turtle\" language corpus:')\n",
    "        with open(input_file, 'r') as f: \n",
    "            lines = f.read().splitlines()\n",
    "        for i,line in enumerate(lines): \n",
    "            if len(line) > 0: print(str(i+1)+'. '+line)    \n",
    "else: print('No data file', module_path + input_file[2:])"
   ]
  },
  {
   "cell_type": "code",
   "execution_count": 4,
   "metadata": {},
   "outputs": [
    {
     "data": {
      "text/html": [
       "<div>\n",
       "<style scoped>\n",
       "    .dataframe tbody tr th:only-of-type {\n",
       "        vertical-align: middle;\n",
       "    }\n",
       "\n",
       "    .dataframe tbody tr th {\n",
       "        vertical-align: top;\n",
       "    }\n",
       "\n",
       "    .dataframe thead th {\n",
       "        text-align: right;\n",
       "    }\n",
       "</style>\n",
       "<table border=\"1\" class=\"dataframe\">\n",
       "  <thead>\n",
       "    <tr style=\"text-align: right;\">\n",
       "      <th></th>\n",
       "      <th>word1</th>\n",
       "      <th>word2</th>\n",
       "      <th>count</th>\n",
       "    </tr>\n",
       "  </thead>\n",
       "  <tbody>\n",
       "    <tr>\n",
       "      <th>44</th>\n",
       "      <td>LEFT-WALL</td>\n",
       "      <td>wing</td>\n",
       "      <td>1</td>\n",
       "    </tr>\n",
       "    <tr>\n",
       "      <th>45</th>\n",
       "      <td>wing</td>\n",
       "      <td>has</td>\n",
       "      <td>1</td>\n",
       "    </tr>\n",
       "    <tr>\n",
       "      <th>46</th>\n",
       "      <td>has</td>\n",
       "      <td>feather</td>\n",
       "      <td>1</td>\n",
       "    </tr>\n",
       "    <tr>\n",
       "      <th>47</th>\n",
       "      <td>feather</td>\n",
       "      <td>.</td>\n",
       "      <td>1</td>\n",
       "    </tr>\n",
       "  </tbody>\n",
       "</table>\n",
       "</div>"
      ],
      "text/plain": [
       "        word1    word2  count\n",
       "44  LEFT-WALL     wing      1\n",
       "45       wing      has      1\n",
       "46        has  feather      1\n",
       "47    feather        .      1"
      ]
     },
     "execution_count": 4,
     "metadata": {},
     "output_type": "execute_result"
    }
   ],
   "source": [
    "# We use LEFT-WALL token instead of ###LEFT-WALL### and treat periods as tokens\n",
    "wps = dmb_parser(input_file, lw='LEFT-WALL', dot=True, verbose='none')\n",
    "wps.tail(4)  # Last 4 entries show the last sentence parsed:"
   ]
  },
  {
   "cell_type": "code",
   "execution_count": 5,
   "metadata": {},
   "outputs": [],
   "source": [
    "# wps  # uncomment this line to see the full 48 word pairs DataFrame"
   ]
  },
  {
   "cell_type": "markdown",
   "metadata": {
    "nbpresent": {
     "id": "4e6d5cb8-145e-4afd-996f-56010a761723"
    }
   },
   "source": [
    "## 4.2 Category learner.\n",
    "Category learner learns word categories by clustering similar words.  \n",
    "Then we can learn (grammar) relation between word categories.\n",
    "### 4.2.1 Word vector space\n",
    "We create word-connector space as described in [POC-Turtle-1-Clustering-Words](http://88.99.210.144/data/clustering_2018/html/POC-Turtle-1-Clustering-Words.html) and define optimal vector space dimensionality with singular values as described in [POC-Turtle-2-Singular-Values](http://88.99.210.144/data/clustering_2018/html/POC-Turtle-2-Singular-Values.html)."
   ]
  },
  {
   "cell_type": "code",
   "execution_count": 6,
   "metadata": {
    "nbpresent": {
     "id": "a171fabc-5eea-4ef9-bbfc-8c6d7f0d45cd"
    }
   },
   "outputs": [
    {
     "name": "stdout",
     "output_type": "stream",
     "text": [
      "Singular values: 5.65, 5.29, 4.95, 4.67, 4.59, 3.49, 3.45, 0.19\n"
     ]
    },
    {
     "data": {
      "image/png": "[encoded data removed]",
      "text/plain": [
       "<matplotlib.figure.Figure at 0x7fc692879eb8>"
      ]
     },
     "metadata": {},
     "output_type": "display_data"
    }
   ],
   "source": [
    "# Check singular values \n",
    "path = module_path + prj_dir[2:]        # path to store vectors\n",
    "tmpath = path  # module_path + '/tmp/'  # path for temporary files\n",
    "dim = 12       # dimensionality\n",
    "vdf, sv, res1 = wps2vec(wps, path, tmpath, dim)\n",
    "print('Singular values:', ', '.join(str(round(x,2)) for x in sv))\n",
    "plt.plot(range(1,len(sv)+1), sv)\n",
    "plt.xlabel('Vector space dimension')\n",
    "plt.ylabel('Singilar value')\n",
    "plt.show()"
   ]
  },
  {
   "cell_type": "markdown",
   "metadata": {},
   "source": [
    "Singular values show that:  \n",
    "- we can't create a wordspace with more tan 8 dimensions for a given dataset, \n",
    "- there's no reason to use more than 7 dimensions - the 8th dimension singular value is too small. "
   ]
  },
  {
   "cell_type": "code",
   "execution_count": 7,
   "metadata": {
    "nbpresent": {
     "id": "291f7956-25a2-46a6-bb37-f0c29c06aa5b"
    }
   },
   "outputs": [
    {
     "data": {
      "text/html": [
       "<div>\n",
       "<style scoped>\n",
       "    .dataframe tbody tr th:only-of-type {\n",
       "        vertical-align: middle;\n",
       "    }\n",
       "\n",
       "    .dataframe tbody tr th {\n",
       "        vertical-align: top;\n",
       "    }\n",
       "\n",
       "    .dataframe thead th {\n",
       "        text-align: right;\n",
       "    }\n",
       "</style>\n",
       "<table border=\"1\" class=\"dataframe\">\n",
       "  <thead>\n",
       "    <tr style=\"text-align: right;\">\n",
       "      <th></th>\n",
       "      <th>word</th>\n",
       "      <th>1</th>\n",
       "      <th>2</th>\n",
       "      <th>3</th>\n",
       "      <th>4</th>\n",
       "      <th>5</th>\n",
       "      <th>6</th>\n",
       "      <th>7</th>\n",
       "    </tr>\n",
       "  </thead>\n",
       "  <tbody>\n",
       "    <tr>\n",
       "      <th>8</th>\n",
       "      <td>has</td>\n",
       "      <td>-0.729</td>\n",
       "      <td>0.000</td>\n",
       "      <td>-0.273</td>\n",
       "      <td>0.000</td>\n",
       "      <td>0.016</td>\n",
       "      <td>0.000</td>\n",
       "      <td>-0.628</td>\n",
       "    </tr>\n",
       "    <tr>\n",
       "      <th>10</th>\n",
       "      <td>isa</td>\n",
       "      <td>-0.688</td>\n",
       "      <td>0.000</td>\n",
       "      <td>-0.180</td>\n",
       "      <td>0.000</td>\n",
       "      <td>0.436</td>\n",
       "      <td>0.000</td>\n",
       "      <td>0.551</td>\n",
       "    </tr>\n",
       "    <tr>\n",
       "      <th>0</th>\n",
       "      <td>.</td>\n",
       "      <td>-0.402</td>\n",
       "      <td>0.000</td>\n",
       "      <td>0.896</td>\n",
       "      <td>0.000</td>\n",
       "      <td>-0.188</td>\n",
       "      <td>0.000</td>\n",
       "      <td>0.010</td>\n",
       "    </tr>\n",
       "    <tr>\n",
       "      <th>1</th>\n",
       "      <td>LEFT-WALL</td>\n",
       "      <td>-0.258</td>\n",
       "      <td>0.000</td>\n",
       "      <td>-0.305</td>\n",
       "      <td>0.000</td>\n",
       "      <td>-0.880</td>\n",
       "      <td>0.000</td>\n",
       "      <td>0.257</td>\n",
       "    </tr>\n",
       "    <tr>\n",
       "      <th>2</th>\n",
       "      <td>bird</td>\n",
       "      <td>0.000</td>\n",
       "      <td>0.312</td>\n",
       "      <td>0.000</td>\n",
       "      <td>-0.776</td>\n",
       "      <td>0.000</td>\n",
       "      <td>0.548</td>\n",
       "      <td>0.000</td>\n",
       "    </tr>\n",
       "    <tr>\n",
       "      <th>4</th>\n",
       "      <td>extremity</td>\n",
       "      <td>0.000</td>\n",
       "      <td>0.312</td>\n",
       "      <td>0.000</td>\n",
       "      <td>-0.776</td>\n",
       "      <td>0.000</td>\n",
       "      <td>0.548</td>\n",
       "      <td>0.000</td>\n",
       "    </tr>\n",
       "    <tr>\n",
       "      <th>7</th>\n",
       "      <td>fish</td>\n",
       "      <td>0.000</td>\n",
       "      <td>0.312</td>\n",
       "      <td>0.000</td>\n",
       "      <td>-0.776</td>\n",
       "      <td>0.000</td>\n",
       "      <td>0.548</td>\n",
       "      <td>0.000</td>\n",
       "    </tr>\n",
       "    <tr>\n",
       "      <th>5</th>\n",
       "      <td>feather</td>\n",
       "      <td>0.000</td>\n",
       "      <td>0.421</td>\n",
       "      <td>0.000</td>\n",
       "      <td>-0.551</td>\n",
       "      <td>0.000</td>\n",
       "      <td>-0.720</td>\n",
       "      <td>0.000</td>\n",
       "    </tr>\n",
       "    <tr>\n",
       "      <th>12</th>\n",
       "      <td>scale</td>\n",
       "      <td>0.000</td>\n",
       "      <td>0.421</td>\n",
       "      <td>0.000</td>\n",
       "      <td>-0.551</td>\n",
       "      <td>0.000</td>\n",
       "      <td>-0.720</td>\n",
       "      <td>0.000</td>\n",
       "    </tr>\n",
       "    <tr>\n",
       "      <th>3</th>\n",
       "      <td>eagle</td>\n",
       "      <td>0.000</td>\n",
       "      <td>0.835</td>\n",
       "      <td>0.000</td>\n",
       "      <td>0.501</td>\n",
       "      <td>0.000</td>\n",
       "      <td>0.228</td>\n",
       "      <td>0.000</td>\n",
       "    </tr>\n",
       "    <tr>\n",
       "      <th>9</th>\n",
       "      <td>herring</td>\n",
       "      <td>0.000</td>\n",
       "      <td>0.835</td>\n",
       "      <td>0.000</td>\n",
       "      <td>0.501</td>\n",
       "      <td>0.000</td>\n",
       "      <td>0.228</td>\n",
       "      <td>0.000</td>\n",
       "    </tr>\n",
       "    <tr>\n",
       "      <th>11</th>\n",
       "      <td>parrot</td>\n",
       "      <td>0.000</td>\n",
       "      <td>0.835</td>\n",
       "      <td>0.000</td>\n",
       "      <td>0.501</td>\n",
       "      <td>0.000</td>\n",
       "      <td>0.228</td>\n",
       "      <td>0.000</td>\n",
       "    </tr>\n",
       "    <tr>\n",
       "      <th>13</th>\n",
       "      <td>tuna</td>\n",
       "      <td>0.000</td>\n",
       "      <td>0.835</td>\n",
       "      <td>0.000</td>\n",
       "      <td>0.501</td>\n",
       "      <td>0.000</td>\n",
       "      <td>0.228</td>\n",
       "      <td>0.000</td>\n",
       "    </tr>\n",
       "    <tr>\n",
       "      <th>6</th>\n",
       "      <td>fin</td>\n",
       "      <td>0.000</td>\n",
       "      <td>0.848</td>\n",
       "      <td>0.000</td>\n",
       "      <td>-0.133</td>\n",
       "      <td>0.000</td>\n",
       "      <td>-0.514</td>\n",
       "      <td>0.000</td>\n",
       "    </tr>\n",
       "    <tr>\n",
       "      <th>14</th>\n",
       "      <td>wing</td>\n",
       "      <td>0.000</td>\n",
       "      <td>0.848</td>\n",
       "      <td>0.000</td>\n",
       "      <td>-0.133</td>\n",
       "      <td>0.000</td>\n",
       "      <td>-0.514</td>\n",
       "      <td>0.000</td>\n",
       "    </tr>\n",
       "  </tbody>\n",
       "</table>\n",
       "</div>"
      ],
      "text/plain": [
       "         word      1      2      3      4      5      6      7\n",
       "8         has -0.729  0.000 -0.273  0.000  0.016  0.000 -0.628\n",
       "10        isa -0.688  0.000 -0.180  0.000  0.436  0.000  0.551\n",
       "0           . -0.402  0.000  0.896  0.000 -0.188  0.000  0.010\n",
       "1   LEFT-WALL -0.258  0.000 -0.305  0.000 -0.880  0.000  0.257\n",
       "2        bird  0.000  0.312  0.000 -0.776  0.000  0.548  0.000\n",
       "4   extremity  0.000  0.312  0.000 -0.776  0.000  0.548  0.000\n",
       "7        fish  0.000  0.312  0.000 -0.776  0.000  0.548  0.000\n",
       "5     feather  0.000  0.421  0.000 -0.551  0.000 -0.720  0.000\n",
       "12      scale  0.000  0.421  0.000 -0.551  0.000 -0.720  0.000\n",
       "3       eagle  0.000  0.835  0.000  0.501  0.000  0.228  0.000\n",
       "9     herring  0.000  0.835  0.000  0.501  0.000  0.228  0.000\n",
       "11     parrot  0.000  0.835  0.000  0.501  0.000  0.228  0.000\n",
       "13       tuna  0.000  0.835  0.000  0.501  0.000  0.228  0.000\n",
       "6         fin  0.000  0.848  0.000 -0.133  0.000 -0.514  0.000\n",
       "14       wing  0.000  0.848  0.000 -0.133  0.000 -0.514  0.000"
      ]
     },
     "execution_count": 7,
     "metadata": {},
     "output_type": "execute_result"
    }
   ],
   "source": [
    "# Create 7-dimension word vector space\n",
    "vdf, sv, res2 = wps2vec(wps, path, tmpath, dim=7)\n",
    "log.update(res2)\n",
    "vdf.applymap(round3).sort_values(by=[1,2], ascending=[True,True])"
   ]
  },
  {
   "cell_type": "markdown",
   "metadata": {
    "nbpresent": {
     "id": "b3a9ab21-c9fb-48e9-8888-c3c2f8088367"
    }
   },
   "source": [
    "The words are sorted ascending by axes 1 and 2. 4 noun clusters are visible on the axis 2 - words with same values for both axes 1 and 2. We can treat the first four words as 1-word clusters and say we see 8 \"natural\" clusters in the word space. However, let's check the optimal number of clusters with silhouette index."
   ]
  },
  {
   "cell_type": "markdown",
   "metadata": {
    "nbpresent": {
     "id": "442e407a-980f-42b2-a096-031630f1272f"
    }
   },
   "source": [
    "### 4.2.2 Clustering words."
   ]
  },
  {
   "cell_type": "code",
   "execution_count": 8,
   "metadata": {
    "nbpresent": {
     "id": "92f9f2d2-c3c8-422b-bfda-515c5946e0f3"
    }
   },
   "outputs": [
    {
     "name": "stdout",
     "output_type": "stream",
     "text": [
      "Silhouette index in a range of cluster numbers\n"
     ]
    },
    {
     "data": {
      "image/png": "[encoded data removed]",
      "text/plain": [
       "<matplotlib.figure.Figure at 0x7fc689c20128>"
      ]
     },
     "metadata": {},
     "output_type": "display_data"
    },
    {
     "data": {
      "text/html": [
       "<table><tr><td>N</td><td>NR</td><td>Silhouette</td><td>Inertia</td><td>Cluster words</td></tr><tr><td>3</td><td>3</td><td>0.471</td><td>5.806</td><td>. LEFT-WALL eagle has herring isa parrot tuna || bird extremity fish || feather fin scale wing</td></tr><tr><td>4</td><td>4</td><td>0.641</td><td>3.212</td><td>. LEFT-WALL has isa || bird extremity fish || feather fin scale wing || eagle herring parrot tuna</td></tr><tr><td>5</td><td>5</td><td>0.64</td><td>2.2</td><td>LEFT-WALL has isa || . || bird extremity fish || feather fin scale wing || eagle herring parrot tuna</td></tr><tr><td>6</td><td>6</td><td>0.643</td><td>1.186</td><td>has isa || . || LEFT-WALL || bird extremity fish || feather fin scale wing || eagle herring parrot tuna</td></tr><tr><td>7</td><td>7</td><td>0.632</td><td>0.399</td><td>has || isa || . || LEFT-WALL || bird extremity fish || feather fin scale wing || eagle herring parrot tuna</td></tr><tr><td>8</td><td>8</td><td>0.733</td><td>0.0</td><td>has || isa || . || LEFT-WALL || bird extremity fish || feather scale || eagle herring parrot tuna || fin wing</td></tr><tr><td>9</td><td>8</td><td>0.733</td><td>0.0</td><td>has || isa || . || LEFT-WALL || bird extremity fish || feather scale || eagle herring parrot tuna || fin wing</td></tr></table>"
      ],
      "text/plain": [
       "<IPython.core.display.HTML object>"
      ]
     },
     "metadata": {},
     "output_type": "display_data"
    }
   ],
   "source": [
    "# Find optimal number of clusters: max Silhouette index\n",
    "sil_range = pd.DataFrame(\n",
    "    columns=['Np','Nc','Silhouette','Inertia', 'Cluster words'])\n",
    "table = [['N', 'NR', 'Silhouette', 'Inertia', 'Cluster words']]\n",
    "for i,j in enumerate(range(3,10)):\n",
    "    cdf, silhouette, inertia = cluster_words_kmeans(vdf, j)\n",
    "    sil_range.loc[i] = [j, len(cdf), round(silhouette,3), \\\n",
    "        round(inertia,3), cdf['cluster_words'].tolist()]\n",
    "    table.append([j, len(cdf), round(silhouette,3), round(inertia,3), \\\n",
    "        ' || '.join(' '.join(str(word) for word in cluster) \\\n",
    "                    for cluster in cdf['cluster_words'].tolist())])\n",
    "sil_range[['Np','Nc']] = sil_range[['Np','Nc']].astype(int)\n",
    "print('Silhouette index in a range of cluster numbers')\n",
    "plt.plot(sil_range['Np'], sil_range['Silhouette'])\n",
    "plt.xlabel('Given clusters number - K-Means parameter\\n' + \\\n",
    "           '(algorithm returns 8 clusters for any given parameter ≥ 8)')\n",
    "plt.ylabel('Silhouette index')\n",
    "plt.show()\n",
    "display(html_table(table))"
   ]
  },
  {
   "cell_type": "code",
   "execution_count": 9,
   "metadata": {
    "nbpresent": {
     "id": "03e0e8f4-880c-49b0-b011-11db17b77e4f"
    },
    "scrolled": true
   },
   "outputs": [
    {
     "data": {
      "text/html": [
       "<div>\n",
       "<style scoped>\n",
       "    .dataframe tbody tr th:only-of-type {\n",
       "        vertical-align: middle;\n",
       "    }\n",
       "\n",
       "    .dataframe tbody tr th {\n",
       "        vertical-align: top;\n",
       "    }\n",
       "\n",
       "    .dataframe thead th {\n",
       "        text-align: right;\n",
       "    }\n",
       "</style>\n",
       "<table border=\"1\" class=\"dataframe\">\n",
       "  <thead>\n",
       "    <tr style=\"text-align: right;\">\n",
       "      <th></th>\n",
       "      <th>cluster</th>\n",
       "      <th>cluster_words</th>\n",
       "      <th>1</th>\n",
       "      <th>2</th>\n",
       "      <th>3</th>\n",
       "      <th>4</th>\n",
       "      <th>5</th>\n",
       "      <th>6</th>\n",
       "      <th>7</th>\n",
       "    </tr>\n",
       "  </thead>\n",
       "  <tbody>\n",
       "    <tr>\n",
       "      <th>1</th>\n",
       "      <td>C01</td>\n",
       "      <td>[has]</td>\n",
       "      <td>-0.729</td>\n",
       "      <td>0.000</td>\n",
       "      <td>-0.273</td>\n",
       "      <td>0.000</td>\n",
       "      <td>0.016</td>\n",
       "      <td>0.000</td>\n",
       "      <td>-0.628</td>\n",
       "    </tr>\n",
       "    <tr>\n",
       "      <th>2</th>\n",
       "      <td>C02</td>\n",
       "      <td>[isa]</td>\n",
       "      <td>-0.688</td>\n",
       "      <td>0.000</td>\n",
       "      <td>-0.180</td>\n",
       "      <td>0.000</td>\n",
       "      <td>0.436</td>\n",
       "      <td>0.000</td>\n",
       "      <td>0.551</td>\n",
       "    </tr>\n",
       "    <tr>\n",
       "      <th>3</th>\n",
       "      <td>C03</td>\n",
       "      <td>[.]</td>\n",
       "      <td>-0.402</td>\n",
       "      <td>0.000</td>\n",
       "      <td>0.896</td>\n",
       "      <td>0.000</td>\n",
       "      <td>-0.188</td>\n",
       "      <td>0.000</td>\n",
       "      <td>0.010</td>\n",
       "    </tr>\n",
       "    <tr>\n",
       "      <th>4</th>\n",
       "      <td>C04</td>\n",
       "      <td>[LEFT-WALL]</td>\n",
       "      <td>-0.258</td>\n",
       "      <td>0.000</td>\n",
       "      <td>-0.305</td>\n",
       "      <td>0.000</td>\n",
       "      <td>-0.880</td>\n",
       "      <td>0.000</td>\n",
       "      <td>0.257</td>\n",
       "    </tr>\n",
       "    <tr>\n",
       "      <th>5</th>\n",
       "      <td>C05</td>\n",
       "      <td>[bird, extremity, fish]</td>\n",
       "      <td>0.000</td>\n",
       "      <td>0.312</td>\n",
       "      <td>0.000</td>\n",
       "      <td>-0.776</td>\n",
       "      <td>0.000</td>\n",
       "      <td>0.548</td>\n",
       "      <td>0.000</td>\n",
       "    </tr>\n",
       "    <tr>\n",
       "      <th>6</th>\n",
       "      <td>C06</td>\n",
       "      <td>[feather, scale]</td>\n",
       "      <td>0.000</td>\n",
       "      <td>0.421</td>\n",
       "      <td>0.000</td>\n",
       "      <td>-0.551</td>\n",
       "      <td>0.000</td>\n",
       "      <td>-0.720</td>\n",
       "      <td>0.000</td>\n",
       "    </tr>\n",
       "    <tr>\n",
       "      <th>7</th>\n",
       "      <td>C07</td>\n",
       "      <td>[eagle, herring, parrot, tuna]</td>\n",
       "      <td>0.000</td>\n",
       "      <td>0.835</td>\n",
       "      <td>0.000</td>\n",
       "      <td>0.501</td>\n",
       "      <td>0.000</td>\n",
       "      <td>0.228</td>\n",
       "      <td>0.000</td>\n",
       "    </tr>\n",
       "    <tr>\n",
       "      <th>8</th>\n",
       "      <td>C08</td>\n",
       "      <td>[fin, wing]</td>\n",
       "      <td>0.000</td>\n",
       "      <td>0.848</td>\n",
       "      <td>0.000</td>\n",
       "      <td>-0.133</td>\n",
       "      <td>0.000</td>\n",
       "      <td>-0.514</td>\n",
       "      <td>0.000</td>\n",
       "    </tr>\n",
       "  </tbody>\n",
       "</table>\n",
       "</div>"
      ],
      "text/plain": [
       "  cluster                   cluster_words      1      2      3      4      5  \\\n",
       "1     C01                           [has] -0.729  0.000 -0.273  0.000  0.016   \n",
       "2     C02                           [isa] -0.688  0.000 -0.180  0.000  0.436   \n",
       "3     C03                             [.] -0.402  0.000  0.896  0.000 -0.188   \n",
       "4     C04                     [LEFT-WALL] -0.258  0.000 -0.305  0.000 -0.880   \n",
       "5     C05         [bird, extremity, fish]  0.000  0.312  0.000 -0.776  0.000   \n",
       "6     C06                [feather, scale]  0.000  0.421  0.000 -0.551  0.000   \n",
       "7     C07  [eagle, herring, parrot, tuna]  0.000  0.835  0.000  0.501  0.000   \n",
       "8     C08                     [fin, wing]  0.000  0.848  0.000 -0.133  0.000   \n",
       "\n",
       "       6      7  \n",
       "1  0.000 -0.628  \n",
       "2  0.000  0.551  \n",
       "3  0.000  0.010  \n",
       "4  0.000  0.257  \n",
       "5  0.548  0.000  \n",
       "6 -0.720  0.000  \n",
       "7  0.228  0.000  \n",
       "8 -0.514  0.000  "
      ]
     },
     "execution_count": 9,
     "metadata": {},
     "output_type": "execute_result"
    }
   ],
   "source": [
    "n = 8  # Number of clusters\n",
    "clusters, silhouette, inertia = cluster_words_kmeans(vdf, n)\n",
    "clusters.applymap(round3)"
   ]
  },
  {
   "cell_type": "code",
   "execution_count": 10,
   "metadata": {
    "nbpresent": {
     "id": "c2fb4693-97b0-44e5-81be-55a2c8efa00a"
    }
   },
   "outputs": [
    {
     "name": "stdout",
     "output_type": "stream",
     "text": [
      "Cluster words in vector space, axes 1 and 2\n"
     ]
    },
    {
     "data": {
      "image/png": "[encoded data removed]",
      "text/plain": [
       "<matplotlib.figure.Figure at 0x7fc689c48518>"
      ]
     },
     "metadata": {},
     "output_type": "display_data"
    }
   ],
   "source": [
    "plot2d(1, 2, clusters, 'cluster_words', 12)"
   ]
  },
  {
   "cell_type": "markdown",
   "metadata": {
    "nbpresent": {
     "id": "833b6f33-c37d-4941-b54c-6592b3d747af"
    }
   },
   "source": [
    "### 4.2.3 Cluster Similarity."
   ]
  },
  {
   "cell_type": "code",
   "execution_count": 11,
   "metadata": {
    "nbpresent": {
     "id": "e6cf9c38-f2dc-4ab5-a5fc-526788500d0d"
    }
   },
   "outputs": [
    {
     "name": "stdout",
     "output_type": "stream",
     "text": [
      "Cluster similarities: absolute values > 0.01:\n"
     ]
    },
    {
     "data": {
      "text/html": [
       "<div>\n",
       "<style scoped>\n",
       "    .dataframe tbody tr th:only-of-type {\n",
       "        vertical-align: middle;\n",
       "    }\n",
       "\n",
       "    .dataframe tbody tr th {\n",
       "        vertical-align: top;\n",
       "    }\n",
       "\n",
       "    .dataframe thead th {\n",
       "        text-align: right;\n",
       "    }\n",
       "</style>\n",
       "<table border=\"1\" class=\"dataframe\">\n",
       "  <thead>\n",
       "    <tr style=\"text-align: right;\">\n",
       "      <th></th>\n",
       "      <th>c1</th>\n",
       "      <th>c2</th>\n",
       "      <th>similarity</th>\n",
       "      <th>c1_words</th>\n",
       "      <th>c2_words</th>\n",
       "    </tr>\n",
       "  </thead>\n",
       "  <tbody>\n",
       "    <tr>\n",
       "      <th>26</th>\n",
       "      <td>C06</td>\n",
       "      <td>C08</td>\n",
       "      <td>0.800625</td>\n",
       "      <td>[feather, scale]</td>\n",
       "      <td>[fin, wing]</td>\n",
       "    </tr>\n",
       "    <tr>\n",
       "      <th>27</th>\n",
       "      <td>C07</td>\n",
       "      <td>C08</td>\n",
       "      <td>0.523843</td>\n",
       "      <td>[eagle, herring, parrot, tuna]</td>\n",
       "      <td>[fin, wing]</td>\n",
       "    </tr>\n",
       "    <tr>\n",
       "      <th>0</th>\n",
       "      <td>C01</td>\n",
       "      <td>C02</td>\n",
       "      <td>0.212294</td>\n",
       "      <td>[has]</td>\n",
       "      <td>[isa]</td>\n",
       "    </tr>\n",
       "    <tr>\n",
       "      <th>22</th>\n",
       "      <td>C05</td>\n",
       "      <td>C06</td>\n",
       "      <td>0.165243</td>\n",
       "      <td>[bird, extremity, fish]</td>\n",
       "      <td>[feather, scale]</td>\n",
       "    </tr>\n",
       "    <tr>\n",
       "      <th>2</th>\n",
       "      <td>C01</td>\n",
       "      <td>C04</td>\n",
       "      <td>0.094945</td>\n",
       "      <td>[has]</td>\n",
       "      <td>[LEFT-WALL]</td>\n",
       "    </tr>\n",
       "    <tr>\n",
       "      <th>24</th>\n",
       "      <td>C05</td>\n",
       "      <td>C08</td>\n",
       "      <td>0.087112</td>\n",
       "      <td>[bird, extremity, fish]</td>\n",
       "      <td>[fin, wing]</td>\n",
       "    </tr>\n",
       "    <tr>\n",
       "      <th>1</th>\n",
       "      <td>C01</td>\n",
       "      <td>C03</td>\n",
       "      <td>0.038765</td>\n",
       "      <td>[has]</td>\n",
       "      <td>[.]</td>\n",
       "    </tr>\n",
       "    <tr>\n",
       "      <th>7</th>\n",
       "      <td>C02</td>\n",
       "      <td>C03</td>\n",
       "      <td>0.038038</td>\n",
       "      <td>[isa]</td>\n",
       "      <td>[.]</td>\n",
       "    </tr>\n",
       "  </tbody>\n",
       "</table>\n",
       "</div>"
      ],
      "text/plain": [
       "     c1   c2  similarity                        c1_words          c2_words\n",
       "26  C06  C08    0.800625                [feather, scale]       [fin, wing]\n",
       "27  C07  C08    0.523843  [eagle, herring, parrot, tuna]       [fin, wing]\n",
       "0   C01  C02    0.212294                           [has]             [isa]\n",
       "22  C05  C06    0.165243         [bird, extremity, fish]  [feather, scale]\n",
       "2   C01  C04    0.094945                           [has]       [LEFT-WALL]\n",
       "24  C05  C08    0.087112         [bird, extremity, fish]       [fin, wing]\n",
       "1   C01  C03    0.038765                           [has]               [.]\n",
       "7   C02  C03    0.038038                           [isa]               [.]"
      ]
     },
     "execution_count": 11,
     "metadata": {},
     "output_type": "execute_result"
    },
    {
     "data": {
      "image/png": "[encoded data removed]",
      "text/plain": [
       "<matplotlib.figure.Figure at 0x7fc689c48ef0>"
      ]
     },
     "metadata": {},
     "output_type": "display_data"
    }
   ],
   "source": [
    "sim_df, res3 = cluster_similarity(clusters, 'max')\n",
    "log.update(res3)\n",
    "count, division = np.histogram(sim_df['similarity'])\n",
    "sim_df['similarity'].hist(bins=division)\n",
    "print('Cluster similarities: absolute values > 0.01:')\n",
    "sim_df.sort_values(by='similarity', ascending=False).loc[(sim_df['similarity']) > 0.01]"
   ]
  },
  {
   "cell_type": "markdown",
   "metadata": {
    "nbpresent": {
     "id": "84ee6806-70e7-4053-9b83-dfbd7bbf23ad"
    }
   },
   "source": [
    "So we have got 2 word categories -- nouns and verbs, and two separate punctuation marks - period and #LW#. Now we can explore relations between clusters and word categories with an objective to learn grammar rules."
   ]
  },
  {
   "cell_type": "markdown",
   "metadata": {
    "nbpresent": {
     "id": "65522bfb-6129-4ce9-b93e-3261d5a7c011"
    }
   },
   "source": [
    "## 4.3 Learning grammar exploring links between word clusters.\n",
    "The goal of POS-Turtle experiments is to prove the possibility of unsupervised language learning by finding similarities between words (\"Category Learner\" component) and relations between word categories. We suggest that the latter can extract grammar rules from text. Let's start getting statistics on relations between word clusters.  \n",
    "First we try to learn grammar after learning word categories, separating the Grammar Learner from the Category Learner. \n",
    "Later we may want (and find feasible) to enhance both category and grammar learning via updating category learner using knowledge obtained during grammar learning..."
   ]
  },
  {
   "cell_type": "code",
   "execution_count": 12,
   "metadata": {
    "nbpresent": {
     "id": "e913993f-7e61-413a-9000-5e8fa713837f"
    }
   },
   "outputs": [
    {
     "data": {
      "text/html": [
       "<div>\n",
       "<style scoped>\n",
       "    .dataframe tbody tr th:only-of-type {\n",
       "        vertical-align: middle;\n",
       "    }\n",
       "\n",
       "    .dataframe tbody tr th {\n",
       "        vertical-align: top;\n",
       "    }\n",
       "\n",
       "    .dataframe thead th {\n",
       "        text-align: right;\n",
       "    }\n",
       "</style>\n",
       "<table border=\"1\" class=\"dataframe\">\n",
       "  <thead>\n",
       "    <tr style=\"text-align: right;\">\n",
       "      <th></th>\n",
       "      <th>cluster</th>\n",
       "      <th>cluster_words</th>\n",
       "      <th>1</th>\n",
       "      <th>2</th>\n",
       "      <th>3</th>\n",
       "      <th>4</th>\n",
       "      <th>5</th>\n",
       "      <th>6</th>\n",
       "      <th>7</th>\n",
       "    </tr>\n",
       "  </thead>\n",
       "  <tbody>\n",
       "    <tr>\n",
       "      <th>1</th>\n",
       "      <td>C01</td>\n",
       "      <td>[has]</td>\n",
       "      <td>-0.729</td>\n",
       "      <td>0.000</td>\n",
       "      <td>-0.273</td>\n",
       "      <td>0.000</td>\n",
       "      <td>0.016</td>\n",
       "      <td>0.000</td>\n",
       "      <td>-0.628</td>\n",
       "    </tr>\n",
       "    <tr>\n",
       "      <th>2</th>\n",
       "      <td>C02</td>\n",
       "      <td>[isa]</td>\n",
       "      <td>-0.688</td>\n",
       "      <td>0.000</td>\n",
       "      <td>-0.180</td>\n",
       "      <td>0.000</td>\n",
       "      <td>0.436</td>\n",
       "      <td>0.000</td>\n",
       "      <td>0.551</td>\n",
       "    </tr>\n",
       "    <tr>\n",
       "      <th>3</th>\n",
       "      <td>C03</td>\n",
       "      <td>[.]</td>\n",
       "      <td>-0.402</td>\n",
       "      <td>0.000</td>\n",
       "      <td>0.896</td>\n",
       "      <td>0.000</td>\n",
       "      <td>-0.188</td>\n",
       "      <td>0.000</td>\n",
       "      <td>0.010</td>\n",
       "    </tr>\n",
       "    <tr>\n",
       "      <th>4</th>\n",
       "      <td>C04</td>\n",
       "      <td>[LEFT-WALL]</td>\n",
       "      <td>-0.258</td>\n",
       "      <td>0.000</td>\n",
       "      <td>-0.305</td>\n",
       "      <td>0.000</td>\n",
       "      <td>-0.880</td>\n",
       "      <td>0.000</td>\n",
       "      <td>0.257</td>\n",
       "    </tr>\n",
       "    <tr>\n",
       "      <th>5</th>\n",
       "      <td>C05</td>\n",
       "      <td>[bird, extremity, fish]</td>\n",
       "      <td>0.000</td>\n",
       "      <td>0.312</td>\n",
       "      <td>0.000</td>\n",
       "      <td>-0.776</td>\n",
       "      <td>0.000</td>\n",
       "      <td>0.548</td>\n",
       "      <td>0.000</td>\n",
       "    </tr>\n",
       "    <tr>\n",
       "      <th>6</th>\n",
       "      <td>C06</td>\n",
       "      <td>[feather, scale]</td>\n",
       "      <td>0.000</td>\n",
       "      <td>0.421</td>\n",
       "      <td>0.000</td>\n",
       "      <td>-0.551</td>\n",
       "      <td>0.000</td>\n",
       "      <td>-0.720</td>\n",
       "      <td>0.000</td>\n",
       "    </tr>\n",
       "    <tr>\n",
       "      <th>7</th>\n",
       "      <td>C07</td>\n",
       "      <td>[eagle, herring, parrot, tuna]</td>\n",
       "      <td>0.000</td>\n",
       "      <td>0.835</td>\n",
       "      <td>0.000</td>\n",
       "      <td>0.501</td>\n",
       "      <td>0.000</td>\n",
       "      <td>0.228</td>\n",
       "      <td>0.000</td>\n",
       "    </tr>\n",
       "    <tr>\n",
       "      <th>8</th>\n",
       "      <td>C08</td>\n",
       "      <td>[fin, wing]</td>\n",
       "      <td>0.000</td>\n",
       "      <td>0.848</td>\n",
       "      <td>0.000</td>\n",
       "      <td>-0.133</td>\n",
       "      <td>0.000</td>\n",
       "      <td>-0.514</td>\n",
       "      <td>0.000</td>\n",
       "    </tr>\n",
       "  </tbody>\n",
       "</table>\n",
       "</div>"
      ],
      "text/plain": [
       "  cluster                   cluster_words      1      2      3      4      5  \\\n",
       "1     C01                           [has] -0.729  0.000 -0.273  0.000  0.016   \n",
       "2     C02                           [isa] -0.688  0.000 -0.180  0.000  0.436   \n",
       "3     C03                             [.] -0.402  0.000  0.896  0.000 -0.188   \n",
       "4     C04                     [LEFT-WALL] -0.258  0.000 -0.305  0.000 -0.880   \n",
       "5     C05         [bird, extremity, fish]  0.000  0.312  0.000 -0.776  0.000   \n",
       "6     C06                [feather, scale]  0.000  0.421  0.000 -0.551  0.000   \n",
       "7     C07  [eagle, herring, parrot, tuna]  0.000  0.835  0.000  0.501  0.000   \n",
       "8     C08                     [fin, wing]  0.000  0.848  0.000 -0.133  0.000   \n",
       "\n",
       "       6      7  \n",
       "1  0.000 -0.628  \n",
       "2  0.000  0.551  \n",
       "3  0.000  0.010  \n",
       "4  0.000  0.257  \n",
       "5  0.548  0.000  \n",
       "6 -0.720  0.000  \n",
       "7  0.228  0.000  \n",
       "8 -0.514  0.000  "
      ]
     },
     "execution_count": 12,
     "metadata": {},
     "output_type": "execute_result"
    }
   ],
   "source": [
    "clusters.applymap(round3)"
   ]
  },
  {
   "cell_type": "code",
   "execution_count": 13,
   "metadata": {},
   "outputs": [],
   "source": [
    "# wps.tail(4)  # uncomment to check 4 last entries of the parsed word pairs dataset"
   ]
  },
  {
   "cell_type": "markdown",
   "metadata": {
    "nbpresent": {
     "id": "49494558-5a4c-474d-b7df-75335e5e700f"
    }
   },
   "source": [
    "### 4.3.1 \"First take\": 8 clusters as-is, \"single disjuncts\"\n",
    "\"Single disjuncts\" - the simpliest approach: treat parsed wordpairs as disjuncts, i.e. don't parse sentences to obtain disjuncts as pairs (sets) of links for each word. "
   ]
  },
  {
   "cell_type": "code",
   "execution_count": 14,
   "metadata": {
    "nbpresent": {
     "id": "77f149ad-d19d-47cc-b2b0-5bab5220a76c"
    }
   },
   "outputs": [
    {
     "data": {
      "text/html": [
       "<div>\n",
       "<style scoped>\n",
       "    .dataframe tbody tr th:only-of-type {\n",
       "        vertical-align: middle;\n",
       "    }\n",
       "\n",
       "    .dataframe tbody tr th {\n",
       "        vertical-align: top;\n",
       "    }\n",
       "\n",
       "    .dataframe thead th {\n",
       "        text-align: right;\n",
       "    }\n",
       "</style>\n",
       "<table border=\"1\" class=\"dataframe\">\n",
       "  <thead>\n",
       "    <tr style=\"text-align: right;\">\n",
       "      <th></th>\n",
       "      <th>word1</th>\n",
       "      <th>word2</th>\n",
       "      <th>count</th>\n",
       "      <th>c1</th>\n",
       "      <th>c2</th>\n",
       "      <th>connector</th>\n",
       "    </tr>\n",
       "  </thead>\n",
       "  <tbody>\n",
       "    <tr>\n",
       "      <th>44</th>\n",
       "      <td>LEFT-WALL</td>\n",
       "      <td>wing</td>\n",
       "      <td>1</td>\n",
       "      <td>C04</td>\n",
       "      <td>C08</td>\n",
       "      <td>C04C08</td>\n",
       "    </tr>\n",
       "    <tr>\n",
       "      <th>45</th>\n",
       "      <td>wing</td>\n",
       "      <td>has</td>\n",
       "      <td>1</td>\n",
       "      <td>C08</td>\n",
       "      <td>C01</td>\n",
       "      <td>C08C01</td>\n",
       "    </tr>\n",
       "    <tr>\n",
       "      <th>46</th>\n",
       "      <td>has</td>\n",
       "      <td>feather</td>\n",
       "      <td>1</td>\n",
       "      <td>C01</td>\n",
       "      <td>C06</td>\n",
       "      <td>C01C06</td>\n",
       "    </tr>\n",
       "    <tr>\n",
       "      <th>47</th>\n",
       "      <td>feather</td>\n",
       "      <td>.</td>\n",
       "      <td>1</td>\n",
       "      <td>C06</td>\n",
       "      <td>C03</td>\n",
       "      <td>C06C03</td>\n",
       "    </tr>\n",
       "  </tbody>\n",
       "</table>\n",
       "</div>"
      ],
      "text/plain": [
       "        word1    word2  count   c1   c2 connector\n",
       "44  LEFT-WALL     wing      1  C04  C08    C04C08\n",
       "45       wing      has      1  C08  C01    C08C01\n",
       "46        has  feather      1  C01  C06    C01C06\n",
       "47    feather        .      1  C06  C03    C06C03"
      ]
     },
     "execution_count": 14,
     "metadata": {},
     "output_type": "execute_result"
    }
   ],
   "source": [
    "# Convert word pairs » connectors ~ cluster links ~ \"single disjuncts\"\n",
    "connectors = wps2connectors(wps, clusters)\n",
    "connectors.tail(4)"
   ]
  },
  {
   "cell_type": "code",
   "execution_count": 15,
   "metadata": {
    "nbpresent": {
     "id": "b8186e82-51ae-4e8f-959d-2dd821daa65b"
    }
   },
   "outputs": [
    {
     "data": {
      "text/html": [
       "<div>\n",
       "<style scoped>\n",
       "    .dataframe tbody tr th:only-of-type {\n",
       "        vertical-align: middle;\n",
       "    }\n",
       "\n",
       "    .dataframe tbody tr th {\n",
       "        vertical-align: top;\n",
       "    }\n",
       "\n",
       "    .dataframe thead th {\n",
       "        text-align: right;\n",
       "    }\n",
       "</style>\n",
       "<table border=\"1\" class=\"dataframe\">\n",
       "  <thead>\n",
       "    <tr style=\"text-align: right;\">\n",
       "      <th></th>\n",
       "      <th>cluster</th>\n",
       "      <th>cluster_words</th>\n",
       "      <th>C01</th>\n",
       "      <th>C02</th>\n",
       "      <th>C03</th>\n",
       "      <th>C04</th>\n",
       "      <th>C05</th>\n",
       "      <th>C06</th>\n",
       "      <th>C07</th>\n",
       "      <th>C08</th>\n",
       "    </tr>\n",
       "  </thead>\n",
       "  <tbody>\n",
       "    <tr>\n",
       "      <th>1</th>\n",
       "      <td>C01</td>\n",
       "      <td>[has]</td>\n",
       "      <td>0</td>\n",
       "      <td>0</td>\n",
       "      <td>0</td>\n",
       "      <td>0</td>\n",
       "      <td>0</td>\n",
       "      <td>2</td>\n",
       "      <td>0</td>\n",
       "      <td>4</td>\n",
       "    </tr>\n",
       "    <tr>\n",
       "      <th>2</th>\n",
       "      <td>C02</td>\n",
       "      <td>[isa]</td>\n",
       "      <td>0</td>\n",
       "      <td>0</td>\n",
       "      <td>0</td>\n",
       "      <td>0</td>\n",
       "      <td>6</td>\n",
       "      <td>0</td>\n",
       "      <td>0</td>\n",
       "      <td>0</td>\n",
       "    </tr>\n",
       "    <tr>\n",
       "      <th>3</th>\n",
       "      <td>C03</td>\n",
       "      <td>[.]</td>\n",
       "      <td>0</td>\n",
       "      <td>0</td>\n",
       "      <td>0</td>\n",
       "      <td>0</td>\n",
       "      <td>0</td>\n",
       "      <td>0</td>\n",
       "      <td>0</td>\n",
       "      <td>0</td>\n",
       "    </tr>\n",
       "    <tr>\n",
       "      <th>4</th>\n",
       "      <td>C04</td>\n",
       "      <td>[LEFT-WALL]</td>\n",
       "      <td>0</td>\n",
       "      <td>0</td>\n",
       "      <td>0</td>\n",
       "      <td>0</td>\n",
       "      <td>0</td>\n",
       "      <td>0</td>\n",
       "      <td>8</td>\n",
       "      <td>4</td>\n",
       "    </tr>\n",
       "    <tr>\n",
       "      <th>5</th>\n",
       "      <td>C05</td>\n",
       "      <td>[bird, extremity, fish]</td>\n",
       "      <td>0</td>\n",
       "      <td>0</td>\n",
       "      <td>6</td>\n",
       "      <td>0</td>\n",
       "      <td>0</td>\n",
       "      <td>0</td>\n",
       "      <td>0</td>\n",
       "      <td>0</td>\n",
       "    </tr>\n",
       "    <tr>\n",
       "      <th>6</th>\n",
       "      <td>C06</td>\n",
       "      <td>[feather, scale]</td>\n",
       "      <td>0</td>\n",
       "      <td>0</td>\n",
       "      <td>2</td>\n",
       "      <td>0</td>\n",
       "      <td>0</td>\n",
       "      <td>0</td>\n",
       "      <td>0</td>\n",
       "      <td>0</td>\n",
       "    </tr>\n",
       "    <tr>\n",
       "      <th>7</th>\n",
       "      <td>C07</td>\n",
       "      <td>[eagle, herring, parrot, tuna]</td>\n",
       "      <td>4</td>\n",
       "      <td>4</td>\n",
       "      <td>0</td>\n",
       "      <td>0</td>\n",
       "      <td>0</td>\n",
       "      <td>0</td>\n",
       "      <td>0</td>\n",
       "      <td>0</td>\n",
       "    </tr>\n",
       "    <tr>\n",
       "      <th>8</th>\n",
       "      <td>C08</td>\n",
       "      <td>[fin, wing]</td>\n",
       "      <td>2</td>\n",
       "      <td>2</td>\n",
       "      <td>4</td>\n",
       "      <td>0</td>\n",
       "      <td>0</td>\n",
       "      <td>0</td>\n",
       "      <td>0</td>\n",
       "      <td>0</td>\n",
       "    </tr>\n",
       "  </tbody>\n",
       "</table>\n",
       "</div>"
      ],
      "text/plain": [
       "  cluster                   cluster_words  C01  C02  C03  C04  C05  C06  C07  \\\n",
       "1     C01                           [has]    0    0    0    0    0    2    0   \n",
       "2     C02                           [isa]    0    0    0    0    6    0    0   \n",
       "3     C03                             [.]    0    0    0    0    0    0    0   \n",
       "4     C04                     [LEFT-WALL]    0    0    0    0    0    0    8   \n",
       "5     C05         [bird, extremity, fish]    0    0    6    0    0    0    0   \n",
       "6     C06                [feather, scale]    0    0    2    0    0    0    0   \n",
       "7     C07  [eagle, herring, parrot, tuna]    4    4    0    0    0    0    0   \n",
       "8     C08                     [fin, wing]    2    2    4    0    0    0    0   \n",
       "\n",
       "   C08  \n",
       "1    4  \n",
       "2    0  \n",
       "3    0  \n",
       "4    4  \n",
       "5    0  \n",
       "6    0  \n",
       "7    0  \n",
       "8    0  "
      ]
     },
     "execution_count": 15,
     "metadata": {},
     "output_type": "execute_result"
    }
   ],
   "source": [
    "from src.clustering.turtle import cluster_links_matrix\n",
    "cluster_links_matrix(clusters, connectors)"
   ]
  },
  {
   "cell_type": "code",
   "execution_count": 16,
   "metadata": {},
   "outputs": [
    {
     "data": {
      "text/html": [
       "<table><tr><td>Connector</td><td>1st linked word cluster</td><td>2nd linked word cluster</td></tr><tr><td>C01C06</td><td>['has']</td><td>['feather', 'scale']</td></tr><tr><td>C01C08</td><td>['has']</td><td>['fin', 'wing']</td></tr><tr><td>C02C05</td><td>['isa']</td><td>['bird', 'extremity', 'fish']</td></tr><tr><td>C04C07</td><td>['LEFT-WALL']</td><td>['eagle', 'herring', 'parrot', 'tuna']</td></tr><tr><td>C04C08</td><td>['LEFT-WALL']</td><td>['fin', 'wing']</td></tr><tr><td>C05C03</td><td>['bird', 'extremity', 'fish']</td><td>['.']</td></tr><tr><td>C06C03</td><td>['feather', 'scale']</td><td>['.']</td></tr><tr><td>C07C01</td><td>['eagle', 'herring', 'parrot', 'tuna']</td><td>['has']</td></tr><tr><td>C07C02</td><td>['eagle', 'herring', 'parrot', 'tuna']</td><td>['isa']</td></tr><tr><td>C08C01</td><td>['fin', 'wing']</td><td>['has']</td></tr><tr><td>C08C02</td><td>['fin', 'wing']</td><td>['isa']</td></tr><tr><td>C08C03</td><td>['fin', 'wing']</td><td>['.']</td></tr></table>"
      ],
      "text/plain": [
       "<IPython.core.display.HTML object>"
      ]
     },
     "metadata": {},
     "output_type": "display_data"
    }
   ],
   "source": [
    "from src.clustering.turtle import cluster_connectors\n",
    "linked_clusters = cluster_connectors(clusters, connectors)\n",
    "display(html_table([['Connector', '1st linked word cluster', '2nd linked word cluster']] \\\n",
    "    + [[x[0]]+x[1] for x in list(linked_clusters.items())]))"
   ]
  },
  {
   "cell_type": "code",
   "execution_count": 17,
   "metadata": {
    "nbpresent": {
     "id": "05fa19b2-8a33-415f-9d1a-79d37e9015d0"
    }
   },
   "outputs": [
    {
     "data": {
      "text/html": [
       "<table><tr><td>Word</td><td>Disjuncts</td></tr><tr><td>.</td><td>['C05C03-', 'C06C03-', 'C08C03-']</td></tr><tr><td>LEFT-WALL</td><td>['C04C07+', 'C04C08+']</td></tr><tr><td>bird</td><td>['C02C05-', 'C05C03+']</td></tr><tr><td>eagle</td><td>['C04C07-', 'C07C01+', 'C07C02+']</td></tr><tr><td>extremity</td><td>['C02C05-', 'C05C03+']</td></tr><tr><td>feather</td><td>['C01C06-', 'C06C03+']</td></tr><tr><td>fin</td><td>['C01C08-', 'C04C08-', 'C08C01+', 'C08C02+', 'C08C03+']</td></tr><tr><td>fish</td><td>['C02C05-', 'C05C03+']</td></tr><tr><td>has</td><td>['C01C06+', 'C01C08+', 'C07C01-', 'C08C01-']</td></tr><tr><td>herring</td><td>['C04C07-', 'C07C01+', 'C07C02+']</td></tr><tr><td>isa</td><td>['C02C05+', 'C07C02-', 'C08C02-']</td></tr><tr><td>parrot</td><td>['C04C07-', 'C07C01+', 'C07C02+']</td></tr><tr><td>scale</td><td>['C01C06-', 'C06C03+']</td></tr><tr><td>tuna</td><td>['C04C07-', 'C07C01+', 'C07C02+']</td></tr><tr><td>wing</td><td>['C01C08-', 'C04C08-', 'C08C01+', 'C08C02+', 'C08C03+']</td></tr></table>"
      ],
      "text/plain": [
       "<IPython.core.display.HTML object>"
      ]
     },
     "metadata": {},
     "output_type": "display_data"
    }
   ],
   "source": [
    "# Collect \"single disjuncts\" - left and right connectors\n",
    "from src.nlp.link_grammar import single_disjuncts\n",
    "stalks = single_disjuncts(connectors)\n",
    "display(html_table([['Word','Disjuncts']]+[x for x in stalks.items()]))"
   ]
  },
  {
   "cell_type": "code",
   "execution_count": 18,
   "metadata": {
    "nbpresent": {
     "id": "8e9ddc47-0826-4a6e-b5a0-176319814c82"
    }
   },
   "outputs": [
    {
     "name": "stdout",
     "output_type": "stream",
     "text": [
      "Link Grammar rules list to save as 4.0.dict file (next step):\n"
     ]
    },
    {
     "data": {
      "text/html": [
       "<table><tr><td>Cluster</td><td>Words</td><td>Left connectors</td><td>Right connectors</td><td>Disjuncts *</td></tr><tr><td>C01</td><td>['has']</td><td>['C07C01-', 'C08C01-']</td><td>['C01C06+', 'C01C08+']</td><td>[]</td></tr><tr><td>C02</td><td>['isa']</td><td>['C07C02-', 'C08C02-']</td><td>['C02C05+']</td><td>[]</td></tr><tr><td>C03</td><td>['.']</td><td>['C05C03-', 'C06C03-', 'C08C03-']</td><td>[]</td><td>[]</td></tr><tr><td>C04</td><td>['LEFT-WALL']</td><td>[]</td><td>['C04C07+', 'C04C08+']</td><td>[]</td></tr><tr><td>C05</td><td>['fish', 'bird', 'extremity']</td><td>['C02C05-']</td><td>['C05C03+']</td><td>[]</td></tr><tr><td>C06</td><td>['scale', 'feather']</td><td>['C01C06-']</td><td>['C06C03+']</td><td>[]</td></tr><tr><td>C07</td><td>['herring', 'eagle', 'tuna', 'parrot']</td><td>['C04C07-']</td><td>['C07C01+', 'C07C02+']</td><td>[]</td></tr><tr><td>C08</td><td>['wing', 'fin']</td><td>['C01C08-', 'C04C08-']</td><td>['C08C01+', 'C08C02+', 'C08C03+']</td><td>[]</td></tr></table>"
      ],
      "text/plain": [
       "<IPython.core.display.HTML object>"
      ]
     },
     "metadata": {},
     "output_type": "display_data"
    }
   ],
   "source": [
    "# Create Link Grammar rules\n",
    "from src.nlp.link_grammar import link_grammar_rules\n",
    "lg_rule_list = link_grammar_rules(stalks)\n",
    "print('Link Grammar rules list to save as 4.0.dict file (next step):')\n",
    "display(html_table([['Cluster','Words','Left connectors','Right connectors','Disjuncts *']] + lg_rule_list))\n",
    "lg = dict()\n",
    "lg[8] = lg_rule_list"
   ]
  },
  {
   "cell_type": "markdown",
   "metadata": {},
   "source": [
    "\\* _The \"Disjuncts\" column is reserved for multi-connector disjuncts (A- & B+)_"
   ]
  },
  {
   "cell_type": "code",
   "execution_count": 19,
   "metadata": {
    "nbpresent": {
     "id": "991ae139-2ae6-4769-972d-bc3fd204ed32"
    }
   },
   "outputs": [
    {
     "name": "stdout",
     "output_type": "stream",
     "text": [
      "% POC Turtle Link Grammar v.0.4 2018-02-28 17:49:41 UTC\n",
      "\n",
      "% C01\n",
      "\"has\":\n",
      "(C07C01- or C08C01-) & (C01C06+ or C01C08+);\n",
      "% C02\n",
      "\"isa\":\n",
      "(C07C02- or C08C02-) & (C02C05+);\n",
      "% C03\n",
      "\".\":\n",
      "(C05C03-) or (C06C03-) or (C08C03-);\n",
      "% C04\n",
      "\"LEFT-WALL\":\n",
      "(C04C07+) or (C04C08+);\n",
      "% C05\n",
      "\"fish\" \"bird\" \"extremity\":\n",
      "(C02C05-) & (C05C03+);\n",
      "% C06\n",
      "\"scale\" \"feather\":\n",
      "(C01C06-) & (C06C03+);\n",
      "% C07\n",
      "\"herring\" \"eagle\" \"tuna\" \"parrot\":\n",
      "(C04C07-) & (C07C01+ or C07C02+);\n",
      "% C08\n",
      "\"wing\" \"fin\":\n",
      "(C01C08- or C04C08-) & (C08C01+ or C08C02+ or C08C03+);\n",
      "\n",
      "% 8 word clusters, 8 Link Grammar rules.\n",
      "% Link Grammar file saved to: /home/obaskov/language-learning/output/Turtle-4-2018-02-24/turtle_link_grammar_8_clusters_2018-02-28.4.0.dict\n"
     ]
    }
   ],
   "source": [
    "# Save link Grammar\n",
    "from src.nlp.link_grammar import save_link_grammar\n",
    "lg_file_string = save_link_grammar(lg_rule_list, path)\n",
    "for line in lg_file_string.splitlines(): print(line)"
   ]
  },
  {
   "cell_type": "markdown",
   "metadata": {},
   "source": [
    "**The obtained Link Grammar dictionary was tested with Link Grammar parser.  \n",
    "All the 12 sentences from dataset were successfully parsed:**\n",
    "```\n",
    "    +-C04C07+C07C02+C02C05+C05C03+\n",
    "    |       |      |      |      |\n",
    "LEFT-WALL tuna    isa   fish     .\n",
    "\n",
    "\n",
    "    +-C04C07-+C07C02+C02C05+C05C03+\n",
    "    |        |      |      |      |\n",
    "LEFT-WALL herring  isa   fish     .\n",
    "\n",
    "\n",
    "    +-C04C07+C07C01+C01C08+C08C03+\n",
    "    |       |      |      |      |\n",
    "LEFT-WALL tuna    has    fin     .\n",
    "\n",
    "    +-C04C07-+C07C01+C01C08+C08C03+\n",
    "    |        |      |      |      |\n",
    "LEFT-WALL herring  has    fin     .\n",
    "\n",
    "\n",
    "    +-C04C07-+C07C02+C02C05+C05C03+\n",
    "    |        |      |      |      |\n",
    "LEFT-WALL parrot   isa   bird     .\n",
    "\n",
    "    +-C04C07+C07C02+C02C05+C05C03+\n",
    "    |       |      |      |      |\n",
    "LEFT-WALL eagle   isa   bird     .\n",
    "\n",
    "    +-C04C07-+C07C01+C01C08+C08C03+\n",
    "    |        |      |      |      |\n",
    "LEFT-WALL parrot   has   wing     .\n",
    "\n",
    "    +-C04C07+C07C01+C01C08+C08C03+\n",
    "    |       |      |      |      |\n",
    "LEFT-WALL eagle   has   wing     .\n",
    "\n",
    "    +C04C08+C08C02+C02C05+C05C03+\n",
    "    |      |      |      |      |\n",
    "LEFT-WALL fin    isa extremity  .\n",
    "\n",
    "\n",
    "    +-C04C08+C08C02+C02C05+C05C03+`\n",
    "    |       |      |      |      |`\n",
    "LEFT-WALL wing    isa extremity  .`\n",
    "\n",
    "\n",
    "    +C04C08+C08C01+C01C06+C06C03+`\n",
    "    |      |      |      |      |`\n",
    "LEFT-WALL fin    has   scale    .`\n",
    "\n",
    "\n",
    "    +-C04C08+C08C01+C01C06+C06C03+`\n",
    "    |       |      |      |      |`\n",
    "LEFT-WALL wing    has  feather   .`\n",
    "```"
   ]
  },
  {
   "cell_type": "markdown",
   "metadata": {},
   "source": [
    "### 4.3.2 Simplest grammar possible: 2 word categories.\n",
    "Next let's try to create the simplest possible grammar for a simplified dataset without punctuation marks."
   ]
  },
  {
   "cell_type": "code",
   "execution_count": 20,
   "metadata": {},
   "outputs": [
    {
     "data": {
      "text/html": [
       "<div>\n",
       "<style scoped>\n",
       "    .dataframe tbody tr th:only-of-type {\n",
       "        vertical-align: middle;\n",
       "    }\n",
       "\n",
       "    .dataframe tbody tr th {\n",
       "        vertical-align: top;\n",
       "    }\n",
       "\n",
       "    .dataframe thead th {\n",
       "        text-align: right;\n",
       "    }\n",
       "</style>\n",
       "<table border=\"1\" class=\"dataframe\">\n",
       "  <thead>\n",
       "    <tr style=\"text-align: right;\">\n",
       "      <th></th>\n",
       "      <th>word1</th>\n",
       "      <th>word2</th>\n",
       "      <th>count</th>\n",
       "    </tr>\n",
       "  </thead>\n",
       "  <tbody>\n",
       "    <tr>\n",
       "      <th>20</th>\n",
       "      <td>fin</td>\n",
       "      <td>has</td>\n",
       "      <td>1</td>\n",
       "    </tr>\n",
       "    <tr>\n",
       "      <th>21</th>\n",
       "      <td>has</td>\n",
       "      <td>scale</td>\n",
       "      <td>1</td>\n",
       "    </tr>\n",
       "    <tr>\n",
       "      <th>22</th>\n",
       "      <td>wing</td>\n",
       "      <td>has</td>\n",
       "      <td>1</td>\n",
       "    </tr>\n",
       "    <tr>\n",
       "      <th>23</th>\n",
       "      <td>has</td>\n",
       "      <td>feather</td>\n",
       "      <td>1</td>\n",
       "    </tr>\n",
       "  </tbody>\n",
       "</table>\n",
       "</div>"
      ],
      "text/plain": [
       "   word1    word2  count\n",
       "20   fin      has      1\n",
       "21   has    scale      1\n",
       "22  wing      has      1\n",
       "23   has  feather      1"
      ]
     },
     "execution_count": 20,
     "metadata": {},
     "output_type": "execute_result"
    }
   ],
   "source": [
    "prs = dmb_parser(input_file, lw='none', dot=False)  # No LEFT-WALL and period\n",
    "prs.tail(4)   # last 4 items of a short 24-item DataFrame"
   ]
  },
  {
   "cell_type": "code",
   "execution_count": 21,
   "metadata": {},
   "outputs": [
    {
     "data": {
      "text/html": [
       "<div>\n",
       "<style scoped>\n",
       "    .dataframe tbody tr th:only-of-type {\n",
       "        vertical-align: middle;\n",
       "    }\n",
       "\n",
       "    .dataframe tbody tr th {\n",
       "        vertical-align: top;\n",
       "    }\n",
       "\n",
       "    .dataframe thead th {\n",
       "        text-align: right;\n",
       "    }\n",
       "</style>\n",
       "<table border=\"1\" class=\"dataframe\">\n",
       "  <thead>\n",
       "    <tr style=\"text-align: right;\">\n",
       "      <th></th>\n",
       "      <th>c1</th>\n",
       "      <th>c2</th>\n",
       "      <th>similarity</th>\n",
       "      <th>c1_words</th>\n",
       "      <th>c2_words</th>\n",
       "    </tr>\n",
       "  </thead>\n",
       "  <tbody>\n",
       "    <tr>\n",
       "      <th>26</th>\n",
       "      <td>C06</td>\n",
       "      <td>C08</td>\n",
       "      <td>0.800625</td>\n",
       "      <td>[feather, scale]</td>\n",
       "      <td>[fin, wing]</td>\n",
       "    </tr>\n",
       "    <tr>\n",
       "      <th>27</th>\n",
       "      <td>C07</td>\n",
       "      <td>C08</td>\n",
       "      <td>0.523843</td>\n",
       "      <td>[eagle, herring, parrot, tuna]</td>\n",
       "      <td>[fin, wing]</td>\n",
       "    </tr>\n",
       "    <tr>\n",
       "      <th>0</th>\n",
       "      <td>C01</td>\n",
       "      <td>C02</td>\n",
       "      <td>0.212294</td>\n",
       "      <td>[has]</td>\n",
       "      <td>[isa]</td>\n",
       "    </tr>\n",
       "    <tr>\n",
       "      <th>22</th>\n",
       "      <td>C05</td>\n",
       "      <td>C06</td>\n",
       "      <td>0.165243</td>\n",
       "      <td>[bird, extremity, fish]</td>\n",
       "      <td>[feather, scale]</td>\n",
       "    </tr>\n",
       "  </tbody>\n",
       "</table>\n",
       "</div>"
      ],
      "text/plain": [
       "     c1   c2  similarity                        c1_words          c2_words\n",
       "26  C06  C08    0.800625                [feather, scale]       [fin, wing]\n",
       "27  C07  C08    0.523843  [eagle, herring, parrot, tuna]       [fin, wing]\n",
       "0   C01  C02    0.212294                           [has]             [isa]\n",
       "22  C05  C06    0.165243         [bird, extremity, fish]  [feather, scale]"
      ]
     },
     "execution_count": 21,
     "metadata": {},
     "output_type": "execute_result"
    }
   ],
   "source": [
    "sim_df.sort_values(by='similarity', ascending=False).loc[(sim_df['similarity']) > 0.1]"
   ]
  },
  {
   "cell_type": "markdown",
   "metadata": {},
   "source": [
    "Let's set the cluster merging criteria lower 0.16 and merge all the clusters with similarity above the threshold to 2 categories - verbs and nouns. This part is done manually and further research on bieeger and more diverse corpora is necessary to find the criteria for automatic choice."
   ]
  },
  {
   "cell_type": "code",
   "execution_count": 22,
   "metadata": {},
   "outputs": [
    {
     "name": "stdout",
     "output_type": "stream",
     "text": [
      "2 word categories (merged word clusters):\n"
     ]
    },
    {
     "data": {
      "text/html": [
       "<table><tr><td>Category</td><td>Category words</td></tr><tr><td>C21</td><td>['feather', 'scale', 'fin', 'wing', 'eagle', 'herring', 'parrot', 'tuna', 'bird', 'extremity', 'fish']</td></tr><tr><td>C22</td><td>['has', 'isa']</td></tr></table>"
      ],
      "text/plain": [
       "<IPython.core.display.HTML object>"
      ]
     },
     "metadata": {},
     "output_type": "display_data"
    },
    {
     "name": "stdout",
     "output_type": "stream",
     "text": [
      "4 Link Grammar rules:\n"
     ]
    },
    {
     "data": {
      "text/html": [
       "<table><tr><td>Category</td><td>Words</td><td>Left disjuncts</td><td>Right disjuncts</td><td>Stalks</td></tr><tr><td>C21</td><td>['herring', 'eagle', 'tuna', 'parrot']</td><td>[]</td><td>['C21C22+']</td><td>[]</td></tr><tr><td>C21</td><td>['scale', 'feather', 'bird', 'fish', 'extremity']</td><td>['C22C21-']</td><td>[]</td><td>[]</td></tr><tr><td>C21</td><td>['wing', 'fin']</td><td>['C22C21-']</td><td>['C21C22+']</td><td>[]</td></tr><tr><td>C22</td><td>['has', 'isa']</td><td>['C21C22-']</td><td>['C22C21+']</td><td>[]</td></tr></table>"
      ],
      "text/plain": [
       "<IPython.core.display.HTML object>"
      ]
     },
     "metadata": {},
     "output_type": "display_data"
    },
    {
     "name": "stdout",
     "output_type": "stream",
     "text": [
      "2 word clusters, 4 Link Grammar rules.\n",
      "Link Grammar file saved to: /home/obaskov/language-learning/output/Turtle-4-2018-02-24/turtle_link_grammar_2_clusters_2018-02-28.4.0.dict\n"
     ]
    }
   ],
   "source": [
    "from src.nlp.link_grammar import merged_clusters_grammar\n",
    "lg[2] = merged_clusters_grammar(0.15, 2, clusters, sim_df, prs, path)"
   ]
  },
  {
   "cell_type": "markdown",
   "metadata": {},
   "source": [
    "**Great!**: 2 word categories and 4 rules are enough to describe the Turtle Link Grammar!  \n",
    "Moreover, the learned Grammar suggests division of the single cluster of nouns [C21] into 3 sub-clusters depending on the learned \"roles\" in the sentences:  \n",
    "- Subjects: \"parrot\", \"eagle\", \"herring\", \"tuna\";\n",
    "- Objects:   \"fin\", \"wing\";\n",
    "- Words used both as subjects and objects: \"feather, \"bird\", \"fish\", \"extremity\", \"scale\"."
   ]
  },
  {
   "cell_type": "code",
   "execution_count": 23,
   "metadata": {},
   "outputs": [
    {
     "name": "stdout",
     "output_type": "stream",
     "text": [
      "% POC Turtle Link Grammar v.0.4 2018-02-28 17:49:41 UTC\n",
      "\n",
      "% C21\n",
      "\"herring\" \"eagle\" \"tuna\" \"parrot\":\n",
      "(C21C22+);\n",
      "% C21\n",
      "\"scale\" \"feather\" \"bird\" \"fish\" \"extremity\":\n",
      "(C22C21-);\n",
      "% C21\n",
      "\"wing\" \"fin\":\n",
      "(C22C21-) & (C21C22+);\n",
      "% C22\n",
      "\"has\" \"isa\":\n",
      "(C21C22-) & (C22C21+);\n",
      "\n",
      "% 2 word clusters, 4 Link Grammar rules.\n",
      "% Link Grammar file saved to: /home/obaskov/language-learning/output/Turtle-4-2018-02-24/turtle_link_grammar_2_clusters_2018-02-28.4.0.dict\n"
     ]
    }
   ],
   "source": [
    "# print Link Grammar rules file contents - uncomment the next line\n",
    "for line in save_link_grammar(lg[2], path).splitlines(): print(line)  "
   ]
  },
  {
   "cell_type": "markdown",
   "metadata": {},
   "source": [
    "However, test of the above \"2 clusters / 4 rules\" dictionary with Link Grammar parser failed - only 4 sentences of 12 were parsed:\n",
    "```\n",
    "  +C21C22+C22C21+\n",
    "  |      |      |\n",
    "tuna    isa    fish\n",
    "\n",
    "  +C21C22+C22C21+\n",
    "  |      |      |\n",
    "herring isa    fish\n",
    "\n",
    "  +C21C22+C22C21+\n",
    "  |      |      |\n",
    "parrot  isa    bird\n",
    "\n",
    "  +C21C22+C22C21+\n",
    "  |      |      |\n",
    "eagle   isa    bird\n",
    "```"
   ]
  },
  {
   "cell_type": "markdown",
   "metadata": {},
   "source": [
    "### TL;DR:\n",
    "We have demonstrated the possibility of unsupervised Link Grammar learning by studying links between word clusters. Section 4.3.1 shows a viable Link Grammar dictionary  consisiting of 8 rules for 8 word clusters (including separate word clusters for ###LEFT-WALL### and \".\") tested by Link Grammar parser.\n",
    "\n",
    "We also checked the idea of learning generalised grammar rules with aggregated word clusters. The most promising result described in section 4.3.2 seemed to provide a compact grammar using 2 clusters of words - nouns and verbs, obatained in an unsupervised manner. The 4 learned rules described the complete Turtle Link Grammar and suggested structuring the single noun category (C21) into 3 sub-categories, thus learning their grammar usage specifics.\n",
    "\n",
    "However, testing the learned \"generalised\" grammar rules dictionary with Link Grammar parser failed. The same results were obtained using any number of aggregated clusters from 3 to 6 for the dataset without ###LEFT-WALL### and period. The failure reasons and possible grammar rules amendments are under further consideration.\n"
   ]
  },
  {
   "cell_type": "markdown",
   "metadata": {},
   "source": [
    "Link Grammar files are shared via [http://88.99.210.144/data/clustering_2018/POC-Turtle-4-2018-02-24/](http://88.99.210.144/data/clustering_2018/POC-Turtle-4-2018-02-24/)"
   ]
  },
  {
   "cell_type": "code",
   "execution_count": null,
   "metadata": {},
   "outputs": [],
   "source": []
  }
 ],
 "metadata": {
  "kernelspec": {
   "display_name": "Python 3",
   "language": "python",
   "name": "python3"
  },
  "language_info": {
   "codemirror_mode": {
    "name": "ipython",
    "version": 3
   },
   "file_extension": ".py",
   "mimetype": "text/x-python",
   "name": "python",
   "nbconvert_exporter": "python",
   "pygments_lexer": "ipython3",
   "version": "3.6.4"
  },
  "nbpresent": {
   "slides": {
    "019ad3a9-a460-4312-8d4b-fc07027dc2fa": {
     "id": "019ad3a9-a460-4312-8d4b-fc07027dc2fa",
     "prev": "e4c5656a-d3b7-4d08-84c6-858cbc6936ca",
     "regions": {
      "cb747b3c-084e-411e-9513-16590f54bbe4": {
       "attrs": {
        "height": 0.8,
        "width": 0.8,
        "x": 0.1,
        "y": 0.1
       },
       "content": {
        "cell": "e66ec570-4e67-4a4c-a4f3-2b7cd50975ef",
        "part": "whole"
       },
       "id": "cb747b3c-084e-411e-9513-16590f54bbe4"
      }
     }
    },
    "05caba35-d7d4-4ce7-ba73-5e401f8f454e": {
     "id": "05caba35-d7d4-4ce7-ba73-5e401f8f454e",
     "prev": "6f1a2c94-201c-4ba0-bea4-1e44963738e7",
     "regions": {
      "6d81fe6d-951b-4766-a264-ed503d79fd7e": {
       "attrs": {
        "height": 0.8,
        "width": 0.8,
        "x": 0.1,
        "y": 0.1
       },
       "content": {
        "cell": "4e6d5cb8-145e-4afd-996f-56010a761723",
        "part": "whole"
       },
       "id": "6d81fe6d-951b-4766-a264-ed503d79fd7e"
      }
     }
    },
    "0924c941-1853-4456-b8a9-313fa531b94f": {
     "id": "0924c941-1853-4456-b8a9-313fa531b94f",
     "prev": "89668309-cd4c-4be8-aa09-212c9a4a21f9",
     "regions": {
      "16011716-cf3d-4f68-81e7-a428a2d42703": {
       "attrs": {
        "height": 0.8,
        "width": 0.8,
        "x": 0.1,
        "y": 0.1
       },
       "content": {
        "cell": "04025b54-dbf3-4654-955b-5194ff425d43",
        "part": "whole"
       },
       "id": "16011716-cf3d-4f68-81e7-a428a2d42703"
      }
     }
    },
    "0aca8f31-e454-4f20-9f3f-704c258cf3a5": {
     "id": "0aca8f31-e454-4f20-9f3f-704c258cf3a5",
     "prev": "2d076662-331f-4850-927f-8453c64b9db5",
     "regions": {
      "32265840-2f7d-4abd-a1fc-aa0e08af3513": {
       "attrs": {
        "height": 0.8,
        "width": 0.8,
        "x": 0.1,
        "y": 0.1
       },
       "content": {
        "cell": "77f149ad-d19d-47cc-b2b0-5bab5220a76c",
        "part": "whole"
       },
       "id": "32265840-2f7d-4abd-a1fc-aa0e08af3513"
      }
     }
    },
    "28887de8-9735-4d9e-a1a5-6f0c171ba6c5": {
     "id": "28887de8-9735-4d9e-a1a5-6f0c171ba6c5",
     "prev": "0924c941-1853-4456-b8a9-313fa531b94f",
     "regions": {
      "34f548a5-752f-4483-82e3-755c7001a141": {
       "attrs": {
        "height": 0.8,
        "width": 0.8,
        "x": 0.1,
        "y": 0.1
       },
       "content": {
        "cell": "1510ce60-0da8-43c1-93b0-f92d62dcd3ab",
        "part": "whole"
       },
       "id": "34f548a5-752f-4483-82e3-755c7001a141"
      }
     }
    },
    "2d076662-331f-4850-927f-8453c64b9db5": {
     "id": "2d076662-331f-4850-927f-8453c64b9db5",
     "prev": "446f64c0-4943-418c-8c2a-28148c7f705d",
     "regions": {
      "419999d3-4b0f-487c-9ab3-a4155ce010e6": {
       "attrs": {
        "height": 0.8,
        "width": 0.8,
        "x": 0.1,
        "y": 0.1
       },
       "content": {
        "cell": "7848dd20-597e-4a0a-a145-13024b733014",
        "part": "whole"
       },
       "id": "419999d3-4b0f-487c-9ab3-a4155ce010e6"
      }
     }
    },
    "39699625-f9c5-4f19-ac4d-cd22f6c9fc0b": {
     "id": "39699625-f9c5-4f19-ac4d-cd22f6c9fc0b",
     "prev": null,
     "regions": {
      "4893416d-b530-44b0-8475-b79b7d34621d": {
       "attrs": {
        "height": 0.8,
        "width": 0.8,
        "x": 0.1,
        "y": 0.1
       },
       "content": {
        "cell": "970a253b-782c-43e8-b21f-b0b7730da252",
        "part": "whole"
       },
       "id": "4893416d-b530-44b0-8475-b79b7d34621d"
      }
     }
    },
    "446f64c0-4943-418c-8c2a-28148c7f705d": {
     "id": "446f64c0-4943-418c-8c2a-28148c7f705d",
     "prev": "d2b82f9d-a7ed-4347-8e38-24bc38528789",
     "regions": {
      "952e42e9-093c-4bda-929c-3013b2538d04": {
       "attrs": {
        "height": 0.8,
        "width": 0.8,
        "x": 0.1,
        "y": 0.1
       },
       "content": {
        "cell": "49494558-5a4c-474d-b7df-75335e5e700f",
        "part": "whole"
       },
       "id": "952e42e9-093c-4bda-929c-3013b2538d04"
      }
     }
    },
    "59ba811c-6c84-4770-b44a-024f32aefaed": {
     "id": "59ba811c-6c84-4770-b44a-024f32aefaed",
     "prev": "a4c71d09-50ca-40aa-b70b-a45ecca7852d",
     "regions": {
      "fbf5f417-6d89-49de-a587-b7b65e111396": {
       "attrs": {
        "height": 0.8,
        "width": 0.8,
        "x": 0.1,
        "y": 0.1
       },
       "content": {
        "cell": "291f7956-25a2-46a6-bb37-f0c29c06aa5b",
        "part": "whole"
       },
       "id": "fbf5f417-6d89-49de-a587-b7b65e111396"
      }
     }
    },
    "6d31c453-daef-425f-aa64-0102af819dcc": {
     "id": "6d31c453-daef-425f-aa64-0102af819dcc",
     "prev": "8c5043d6-9e64-4fa0-8543-fdb492c87755",
     "regions": {
      "5ff1fbcb-44ae-462f-91f1-89c80f9def60": {
       "attrs": {
        "height": 0.8,
        "width": 0.8,
        "x": 0.1,
        "y": 0.1
       },
       "content": {
        "cell": "03e0e8f4-880c-49b0-b011-11db17b77e4f",
        "part": "whole"
       },
       "id": "5ff1fbcb-44ae-462f-91f1-89c80f9def60"
      }
     }
    },
    "6f1a2c94-201c-4ba0-bea4-1e44963738e7": {
     "id": "6f1a2c94-201c-4ba0-bea4-1e44963738e7",
     "prev": "019ad3a9-a460-4312-8d4b-fc07027dc2fa",
     "regions": {
      "f4814d85-5279-42ec-9e29-8999f68310eb": {
       "attrs": {
        "height": 0.8,
        "width": 0.8,
        "x": 0.1,
        "y": 0.1
       },
       "content": {
        "cell": "d3e380a9-726b-41b9-976c-c8955c91f7d1",
        "part": "whole"
       },
       "id": "f4814d85-5279-42ec-9e29-8999f68310eb"
      }
     }
    },
    "7f486531-148a-4ed4-afa3-689e673abe13": {
     "id": "7f486531-148a-4ed4-afa3-689e673abe13",
     "prev": "dd412cf0-b36a-47ae-9a2a-8c4872b090d7",
     "regions": {
      "928471ac-3c96-4a97-b4e6-272e954fdf90": {
       "attrs": {
        "height": 0.8,
        "width": 0.8,
        "x": 0.1,
        "y": 0.1
       },
       "content": {
        "cell": "e6cf9c38-f2dc-4ab5-a5fc-526788500d0d",
        "part": "whole"
       },
       "id": "928471ac-3c96-4a97-b4e6-272e954fdf90"
      }
     }
    },
    "86c5736d-1d55-4837-aae6-9f8b54c88abc": {
     "id": "86c5736d-1d55-4837-aae6-9f8b54c88abc",
     "prev": "b917ff14-a045-4b1f-86e7-6b3ce727d7e0",
     "regions": {
      "2a9b311d-a1fd-4c9b-8013-7cf425825aa0": {
       "attrs": {
        "height": 0.8,
        "width": 0.8,
        "x": 0.1,
        "y": 0.1
       },
       "content": {
        "cell": "2db05801-f447-4f60-adfe-a241f5d66f5e",
        "part": "whole"
       },
       "id": "2a9b311d-a1fd-4c9b-8013-7cf425825aa0"
      }
     }
    },
    "89668309-cd4c-4be8-aa09-212c9a4a21f9": {
     "id": "89668309-cd4c-4be8-aa09-212c9a4a21f9",
     "prev": "86c5736d-1d55-4837-aae6-9f8b54c88abc",
     "regions": {
      "ea6412ce-c08a-4156-a669-b346a42c77d8": {
       "attrs": {
        "height": 0.8,
        "width": 0.8,
        "x": 0.1,
        "y": 0.1
       },
       "content": {
        "cell": "431ccb30-edf2-4011-84d7-e45f1688217e",
        "part": "whole"
       },
       "id": "ea6412ce-c08a-4156-a669-b346a42c77d8"
      }
     }
    },
    "8c5043d6-9e64-4fa0-8543-fdb492c87755": {
     "id": "8c5043d6-9e64-4fa0-8543-fdb492c87755",
     "prev": "b630cc1c-78e0-4528-b3e9-45fd4a7355d0",
     "regions": {
      "072c5987-a4af-47d3-a0cd-549587e31208": {
       "attrs": {
        "height": 0.8,
        "width": 0.8,
        "x": 0.1,
        "y": 0.1
       },
       "content": {
        "cell": "92f9f2d2-c3c8-422b-bfda-515c5946e0f3",
        "part": "whole"
       },
       "id": "072c5987-a4af-47d3-a0cd-549587e31208"
      }
     }
    },
    "946eeae6-4728-4f47-bb0a-cf25d9a88c8e": {
     "id": "946eeae6-4728-4f47-bb0a-cf25d9a88c8e",
     "prev": "0aca8f31-e454-4f20-9f3f-704c258cf3a5",
     "regions": {
      "54e298d0-4812-4467-882d-9ea9ae1d1128": {
       "attrs": {
        "height": 0.8,
        "width": 0.8,
        "x": 0.1,
        "y": 0.1
       },
       "content": {
        "cell": "b8186e82-51ae-4e8f-959d-2dd821daa65b",
        "part": "whole"
       },
       "id": "54e298d0-4812-4467-882d-9ea9ae1d1128"
      }
     }
    },
    "972c8bb7-991f-4f5e-a778-1150b6287f7b": {
     "id": "972c8bb7-991f-4f5e-a778-1150b6287f7b",
     "prev": "ee90b598-c792-49ed-a135-fca30b1cdc39",
     "regions": {
      "cc87e4e0-319d-4fb2-8395-da8d80821352": {
       "attrs": {
        "height": 0.8,
        "width": 0.8,
        "x": 0.1,
        "y": 0.1
       },
       "content": {
        "cell": "e7227504-0ea3-4692-997a-4e2397a7eae1",
        "part": "whole"
       },
       "id": "cc87e4e0-319d-4fb2-8395-da8d80821352"
      }
     }
    },
    "9ddf32b6-3e17-4da5-be22-a4fdd66f4f95": {
     "id": "9ddf32b6-3e17-4da5-be22-a4fdd66f4f95",
     "prev": "dbc2d5b2-8854-4e16-9a14-93aef0dab5d2",
     "regions": {
      "59e59de1-fe05-4caa-9ad9-91d3f605aacd": {
       "attrs": {
        "height": 0.8,
        "width": 0.8,
        "x": 0.1,
        "y": 0.1
       },
       "content": {
        "cell": "65522bfb-6129-4ce9-b93e-3261d5a7c011",
        "part": "whole"
       },
       "id": "59e59de1-fe05-4caa-9ad9-91d3f605aacd"
      }
     }
    },
    "a4c71d09-50ca-40aa-b70b-a45ecca7852d": {
     "id": "a4c71d09-50ca-40aa-b70b-a45ecca7852d",
     "prev": "05caba35-d7d4-4ce7-ba73-5e401f8f454e",
     "regions": {
      "2cb2ea8a-41a9-4cde-8e1f-c60850420d8d": {
       "attrs": {
        "height": 0.8,
        "width": 0.8,
        "x": 0.1,
        "y": 0.1
       },
       "content": {
        "cell": "a171fabc-5eea-4ef9-bbfc-8c6d7f0d45cd",
        "part": "whole"
       },
       "id": "2cb2ea8a-41a9-4cde-8e1f-c60850420d8d"
      }
     }
    },
    "ac220404-797f-4cbc-8c02-2e7fcde7b5f0": {
     "id": "ac220404-797f-4cbc-8c02-2e7fcde7b5f0",
     "prev": "ec1cca57-9a9b-4335-9455-e9db4353387d",
     "regions": {
      "ea82dae3-9be9-46e8-8e1d-b2a0b883f6c2": {
       "attrs": {
        "height": 0.8,
        "width": 0.8,
        "x": 0.1,
        "y": 0.1
       },
       "content": {
        "cell": "991ae139-2ae6-4769-972d-bc3fd204ed32",
        "part": "whole"
       },
       "id": "ea82dae3-9be9-46e8-8e1d-b2a0b883f6c2"
      }
     }
    },
    "b4e6b3c2-6bb4-4e15-bcb6-78b2643059fb": {
     "id": "b4e6b3c2-6bb4-4e15-bcb6-78b2643059fb",
     "prev": "e0cd593d-37a5-4d2d-b551-36576616c6d0",
     "regions": {
      "b7ce465d-df84-458a-8c50-db7d8a4fe718": {
       "attrs": {
        "height": 0.8,
        "width": 0.8,
        "x": 0.1,
        "y": 0.1
       },
       "content": {
        "cell": "b231e408-abb0-4df0-9ac5-7074e7ea5840",
        "part": "whole"
       },
       "id": "b7ce465d-df84-458a-8c50-db7d8a4fe718"
      }
     }
    },
    "b630cc1c-78e0-4528-b3e9-45fd4a7355d0": {
     "id": "b630cc1c-78e0-4528-b3e9-45fd4a7355d0",
     "prev": "fde79b64-bb36-4ff7-aced-c33abef21984",
     "regions": {
      "6c5fa46c-5d2e-40ed-8ee9-9462cc7bbbce": {
       "attrs": {
        "height": 0.8,
        "width": 0.8,
        "x": 0.1,
        "y": 0.1
       },
       "content": {
        "cell": "442e407a-980f-42b2-a096-031630f1272f",
        "part": "whole"
       },
       "id": "6c5fa46c-5d2e-40ed-8ee9-9462cc7bbbce"
      }
     }
    },
    "b917ff14-a045-4b1f-86e7-6b3ce727d7e0": {
     "id": "b917ff14-a045-4b1f-86e7-6b3ce727d7e0",
     "prev": "edf4e4e6-178c-48bc-a2cb-0ad934cfc19e",
     "regions": {
      "914a0849-54fe-48a8-ae48-32eaa6688b0d": {
       "attrs": {
        "height": 0.8,
        "width": 0.8,
        "x": 0.1,
        "y": 0.1
       },
       "content": {
        "cell": "d602b888-bc76-4787-995c-5d17e4c757d4",
        "part": "whole"
       },
       "id": "914a0849-54fe-48a8-ae48-32eaa6688b0d"
      }
     }
    },
    "cdf06b9a-bda6-4b78-8912-bb747201fbfd": {
     "id": "cdf06b9a-bda6-4b78-8912-bb747201fbfd",
     "prev": "b4e6b3c2-6bb4-4e15-bcb6-78b2643059fb",
     "regions": {
      "02c32a85-470e-4a10-85a5-b45973fed08c": {
       "attrs": {
        "height": 0.8,
        "width": 0.8,
        "x": 0.1,
        "y": 0.1
       },
       "content": {
        "cell": "5c08f0f0-3f91-44fb-8333-e2b1de1e5a96",
        "part": "whole"
       },
       "id": "02c32a85-470e-4a10-85a5-b45973fed08c"
      }
     }
    },
    "d2b82f9d-a7ed-4347-8e38-24bc38528789": {
     "id": "d2b82f9d-a7ed-4347-8e38-24bc38528789",
     "prev": "9ddf32b6-3e17-4da5-be22-a4fdd66f4f95",
     "regions": {
      "5192659e-bb86-4eeb-abbb-4139ceb8344a": {
       "attrs": {
        "height": 0.8,
        "width": 0.8,
        "x": 0.1,
        "y": 0.1
       },
       "content": {
        "cell": "e913993f-7e61-413a-9000-5e8fa713837f",
        "part": "whole"
       },
       "id": "5192659e-bb86-4eeb-abbb-4139ceb8344a"
      }
     }
    },
    "dbc2d5b2-8854-4e16-9a14-93aef0dab5d2": {
     "id": "dbc2d5b2-8854-4e16-9a14-93aef0dab5d2",
     "prev": "7f486531-148a-4ed4-afa3-689e673abe13",
     "regions": {
      "9ce0ae06-8866-48f1-b112-2cf122224785": {
       "attrs": {
        "height": 0.8,
        "width": 0.8,
        "x": 0.1,
        "y": 0.1
       },
       "content": {
        "cell": "84ee6806-70e7-4053-9b83-dfbd7bbf23ad",
        "part": "whole"
       },
       "id": "9ce0ae06-8866-48f1-b112-2cf122224785"
      }
     }
    },
    "dd412cf0-b36a-47ae-9a2a-8c4872b090d7": {
     "id": "dd412cf0-b36a-47ae-9a2a-8c4872b090d7",
     "prev": "f418dffa-73cb-4257-a6cf-7673dc895bfa",
     "regions": {
      "2e8a2ca2-e9dd-498d-bd67-b04fa777e637": {
       "attrs": {
        "height": 0.8,
        "width": 0.8,
        "x": 0.1,
        "y": 0.1
       },
       "content": {
        "cell": "833b6f33-c37d-4941-b54c-6592b3d747af",
        "part": "whole"
       },
       "id": "2e8a2ca2-e9dd-498d-bd67-b04fa777e637"
      }
     }
    },
    "e0b11b9d-dbe2-45fc-9b35-2db716051870": {
     "id": "e0b11b9d-dbe2-45fc-9b35-2db716051870",
     "prev": "cdf06b9a-bda6-4b78-8912-bb747201fbfd",
     "regions": {
      "7cb471f8-f817-453d-a00e-611496ee880a": {
       "attrs": {
        "height": 0.8,
        "width": 0.8,
        "x": 0.1,
        "y": 0.1
       },
       "content": {
        "cell": "a6341500-dfd4-4d30-af6a-4eab6f604cb7",
        "part": "whole"
       },
       "id": "7cb471f8-f817-453d-a00e-611496ee880a"
      }
     }
    },
    "e0cd593d-37a5-4d2d-b551-36576616c6d0": {
     "id": "e0cd593d-37a5-4d2d-b551-36576616c6d0",
     "prev": "28887de8-9735-4d9e-a1a5-6f0c171ba6c5",
     "regions": {
      "d1e289e4-24d8-41ab-92b6-9cfb67311b39": {
       "attrs": {
        "height": 0.8,
        "width": 0.8,
        "x": 0.1,
        "y": 0.1
       },
       "content": {
        "cell": "b1922453-2582-4596-b84c-dc1bc9ef2adb",
        "part": "whole"
       },
       "id": "d1e289e4-24d8-41ab-92b6-9cfb67311b39"
      }
     }
    },
    "e4c5656a-d3b7-4d08-84c6-858cbc6936ca": {
     "id": "e4c5656a-d3b7-4d08-84c6-858cbc6936ca",
     "prev": "39699625-f9c5-4f19-ac4d-cd22f6c9fc0b",
     "regions": {
      "7e72f660-be83-4f69-b669-77c1c715cc93": {
       "attrs": {
        "height": 0.8,
        "width": 0.8,
        "x": 0.1,
        "y": 0.1
       },
       "content": {
        "cell": "ff403a99-96a4-4fc0-9c35-6bb1cd8fca5c",
        "part": "whole"
       },
       "id": "7e72f660-be83-4f69-b669-77c1c715cc93"
      }
     }
    },
    "ec1cca57-9a9b-4335-9455-e9db4353387d": {
     "id": "ec1cca57-9a9b-4335-9455-e9db4353387d",
     "prev": "972c8bb7-991f-4f5e-a778-1150b6287f7b",
     "regions": {
      "779ab8c7-86df-4284-ac14-4bb6d8fdb044": {
       "attrs": {
        "height": 0.8,
        "width": 0.8,
        "x": 0.1,
        "y": 0.1
       },
       "content": {
        "cell": "8e9ddc47-0826-4a6e-b5a0-176319814c82",
        "part": "whole"
       },
       "id": "779ab8c7-86df-4284-ac14-4bb6d8fdb044"
      }
     }
    },
    "edf4e4e6-178c-48bc-a2cb-0ad934cfc19e": {
     "id": "edf4e4e6-178c-48bc-a2cb-0ad934cfc19e",
     "prev": "ac220404-797f-4cbc-8c02-2e7fcde7b5f0",
     "regions": {
      "6cc090a5-d3e2-49f0-9776-3623323ca7c1": {
       "attrs": {
        "height": 0.8,
        "width": 0.8,
        "x": 0.1,
        "y": 0.1
       },
       "content": {
        "cell": "3845c22a-7ef2-427d-bc84-c0b4b1c14e43",
        "part": "whole"
       },
       "id": "6cc090a5-d3e2-49f0-9776-3623323ca7c1"
      }
     }
    },
    "ee559277-754d-4cd1-84d6-923a6bf7b7c7": {
     "id": "ee559277-754d-4cd1-84d6-923a6bf7b7c7",
     "prev": "946eeae6-4728-4f47-bb0a-cf25d9a88c8e",
     "regions": {
      "b3be88a9-37f0-4866-bd17-63983b640be5": {
       "attrs": {
        "height": 0.8,
        "width": 0.8,
        "x": 0.1,
        "y": 0.1
       },
       "content": {
        "cell": "d91f1b87-1e45-414e-b487-ee1fa57b59cd",
        "part": "whole"
       },
       "id": "b3be88a9-37f0-4866-bd17-63983b640be5"
      }
     }
    },
    "ee90b598-c792-49ed-a135-fca30b1cdc39": {
     "id": "ee90b598-c792-49ed-a135-fca30b1cdc39",
     "prev": "ee559277-754d-4cd1-84d6-923a6bf7b7c7",
     "regions": {
      "4ca955eb-fa28-4adc-b7f4-a746112f4e86": {
       "attrs": {
        "height": 0.8,
        "width": 0.8,
        "x": 0.1,
        "y": 0.1
       },
       "content": {
        "cell": "05fa19b2-8a33-415f-9d1a-79d37e9015d0",
        "part": "whole"
       },
       "id": "4ca955eb-fa28-4adc-b7f4-a746112f4e86"
      }
     }
    },
    "f418dffa-73cb-4257-a6cf-7673dc895bfa": {
     "id": "f418dffa-73cb-4257-a6cf-7673dc895bfa",
     "prev": "6d31c453-daef-425f-aa64-0102af819dcc",
     "regions": {
      "13549ab9-205a-4338-970d-628ebe5e78ac": {
       "attrs": {
        "height": 0.8,
        "width": 0.8,
        "x": 0.1,
        "y": 0.1
       },
       "content": {
        "cell": "c2fb4693-97b0-44e5-81be-55a2c8efa00a",
        "part": "whole"
       },
       "id": "13549ab9-205a-4338-970d-628ebe5e78ac"
      }
     }
    },
    "fde79b64-bb36-4ff7-aced-c33abef21984": {
     "id": "fde79b64-bb36-4ff7-aced-c33abef21984",
     "prev": "59ba811c-6c84-4770-b44a-024f32aefaed",
     "regions": {
      "0e4c9a1b-2ee3-41f8-aad7-e09cbb06e44a": {
       "attrs": {
        "height": 0.8,
        "width": 0.8,
        "x": 0.1,
        "y": 0.1
       },
       "content": {
        "cell": "b3a9ab21-c9fb-48e9-8888-c3c2f8088367",
        "part": "whole"
       },
       "id": "0e4c9a1b-2ee3-41f8-aad7-e09cbb06e44a"
      }
     }
    }
   },
   "themes": {}
  }
 },
 "nbformat": 4,
 "nbformat_minor": 2
}
