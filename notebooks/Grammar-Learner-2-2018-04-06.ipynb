{
 "cells": [
  {
   "cell_type": "markdown",
   "metadata": {},
   "source": [
    "# Grammar Learner 0.2: unified pipeline | `2018-04-06`\n",
    "TL;DR:\n",
    "- Separate category learning and grammar learning;\n",
    "- **Category Learner**: word space based on connectors or disjuncts, PPMI-based vector space, SVM dimensionality reduction, k-means clustering;\n",
    "- **Grammar Learner**: Link Grammar rules based on connector sets (\"relaxed rules\") or disjunct sets (\"strict rules\");\n",
    "- Tests: 4 combinations of word space and grammar rules, details below. Test dataset: [http://88.99.210.144/data/clustering_2018/data/POC_English_NoAmb/poc_english_noamb_parse_ideal/](http://88.99.210.144/data/clustering_2018/data/POC_English_NoAmb/poc_english_noamb_parse_ideal/);\n",
    "- Test results: [http://88.99.210.144/data/clustering_2018/AGI-2018/POC-English-NoAmb/mst_fixed_manually/](http://88.99.210.144/data/clustering_2018/AGI-2018/POC-English-NoAmb/mst_fixed_manually/)\n",
    "\n",
    "- Tests on real data from OpenCog MST parser (coming): \n",
    "[\"POC-English-NoAmb\" corpus](http://88.99.210.144/data/clustering_2018/AGI-2018/POC-English-NoAmb/), \n",
    "[\"POC-Turtle\" corpus](http://88.99.210.144/data/clustering_2018/AGI-2018/POC-Turtle/).\n",
    "\n",
    "\n",
    "A static html copy of this notebook is shared via  \n",
    "[http://88.99.210.144/data/clustering_2018/html/Grammar-Learner-2-2018-04-06.html](http://88.99.210.144/data/clustering_2018/html/Grammar-Learner-2-2018-04-06.html)"
   ]
  },
  {
   "cell_type": "markdown",
   "metadata": {},
   "source": [
    "## Introduction"
   ]
  },
  {
   "cell_type": "code",
   "execution_count": 1,
   "metadata": {},
   "outputs": [
    {
     "name": "stdout",
     "output_type": "stream",
     "text": [
      "2018-04-07 10:03:11 UTC /home/obaskov/language-learning\n"
     ]
    }
   ],
   "source": [
    "import os, sys, time\n",
    "import numpy as np\n",
    "import pandas as pd\n",
    "import matplotlib.pyplot as plt\n",
    "%matplotlib inline\n",
    "from IPython.display import display\n",
    "module_path = os.path.abspath(os.path.join('..'))\n",
    "if module_path not in sys.path: sys.path.append(module_path)\n",
    "from src.utl.utl import UTC\n",
    "from src.utl.read_files import check_dir\n",
    "print(UTC(), module_path)\n",
    "prefix = '' # option: every project output file will start with thid prefix (legacy, unused)\n",
    "tmpath = module_path + '/tmp/'\n",
    "check_dir(tmpath, True, 'none')\n",
    "from src.grammar_learner.poc02 import learn_grammar"
   ]
  },
  {
   "cell_type": "markdown",
   "metadata": {},
   "source": [
    "Grammar Learner specification in [Unsupervised Language Learning (ULL) Design (DRAFT)](https://docs.google.com/document/d/14MpKLH5_5eVI39PRZuWLZHa1aUS73pJZNZzgigCWwWg/edit#bookmark=id.rtsrh3l8jgj3):\n",
    "- Input\n",
    "  - Directory to read parse files (1 to many input files)\n",
    "  - Path to store learned categories\n",
    "  - Path to store learned dictionary Link Grammar file\n",
    "- Settings\n",
    "  - Parse_mode, as one of the following\n",
    "    - given - use all links as given (default)\n",
    "    - exploded - explode all possible combinations of links given the sentence\n",
    "  - learn_mode, as one of the following \n",
    "    - lexical_entries (default)\n",
    "    - connectors_only\n",
    "    - connectors_and_disjuncts (will have to see if it is possible - TODO)\n",
    "  - TODO - else?\n",
    "- Output\n",
    "  - File with learned categories\n",
    "  - File with learned grammar\n",
    "  \n",
    "_Settings amendments are suggested in the next section_"
   ]
  },
  {
   "cell_type": "markdown",
   "metadata": {},
   "source": [
    "## Settings, parameters, data"
   ]
  },
  {
   "cell_type": "code",
   "execution_count": 2,
   "metadata": {},
   "outputs": [
    {
     "name": "stdout",
     "output_type": "stream",
     "text": [
      "Directory /home/obaskov/language-learning/output/Grammar-Learner-2018-04-06/poc_english_noamb_mst_fixed/connectors-DRK-connectors/ exists.\n"
     ]
    }
   ],
   "source": [
    "# Directory to read parse files (1 to many input files)\n",
    "input_dir = module_path + '/data/POC_English_NoAmb/mst_fixed_manually/'\n",
    "\n",
    "# Paths to store learned categories, learned dictionary Link Grammar file\n",
    "batch_dir = module_path + '/output/Grammar-Learner-2018-04-06/'\n",
    "prj_dir = batch_dir + 'poc_english_noamb_mst_fixed/connectors-DRK-connectors/'\n",
    "if check_dir(prj_dir, create=True, verbose='max'):\n",
    "    cat_path = prj_dir  # Path to store learned categories\n",
    "    dict_path = prj_dir # Path to store learned dictionary Link Grammar file\n",
    "# The following test sample results are stored in separate directories specifies for each sample.\n",
    "\n",
    "# Settings:\n",
    "parse_mode = 'given'            # 'given' (default) / 'explosive' (next)\n",
    "left_wall = 'LEFT-WALL'         # '','none' - don't use / \n",
    "                                # 'string' - replace ###LEFT-WALL### with the string\n",
    "period = True                   # use period in links learning: True/False\n",
    "\n",
    "learn_mode = 'connectors_only'  # 'lexical_entries' / 'connectors_only'\n",
    "# learn_mode decomposed:\n",
    "context = 1                     # 1: connectors / 0: 'words' /\n",
    "                                # 2,3...: disjuncts with limited number of links\n",
    "group = True                    # group items after link parsing, join counts \n",
    "window = 'mst'                  # 'mst' / reserved options for «explosive» parsing\n",
    "weighting = 'ppmi'              # 'ppmi' / future options\n",
    "    \n",
    "word_space = 'vectors'          # 'vectors' / 'discrete' - no dimensionality reduction\n",
    "dim_max = 100                   # max vector space dimensionality\n",
    "sv_min = 0.1                    # minimal singular value (fraction of the max value)\n",
    "\n",
    "dim_reduction = 'svm'           # 'svm' / 'none' (discrete word_space, group)\n",
    "\n",
    "clustering = 'kmeans'           # 'kmeans' / 'group'~'identical_entries' / future options\n",
    "cluster_range = (2,48,1)        # min, max, step\n",
    "cluster_criteria = 'silhouette'\n",
    "cluster_level = 0.9             # level = 0, 1, 0.-0.99..: 0 - max number of clusters\n",
    "\n",
    "generalization = 'off'          # 'off' / future options: 'cosine', ...\n",
    "merge = 0.8                     # merge clusters with similarity > this 'merge' criteria\n",
    "aggregate = 0.2                 # agglomerate clusters with similarity > this criteria\n",
    "\n",
    "grammar_rules = 1               # 1: 'connectors' / 2 - 'disjuncts' / 0 - 'words' (TODO?)\n",
    "\n",
    "verbose='mid'   # display intermediate results: 'none', 'min', 'mid', 'max'"
   ]
  },
  {
   "cell_type": "markdown",
   "metadata": {},
   "source": [
    "# «Connectors - DRK* - connectors»\n",
    "`* DRK -- dimension reduction and K-means clustering`"
   ]
  },
  {
   "cell_type": "markdown",
   "metadata": {},
   "source": [
    "## Details"
   ]
  },
  {
   "cell_type": "code",
   "execution_count": 3,
   "metadata": {},
   "outputs": [
    {
     "name": "stdout",
     "output_type": "stream",
     "text": [
      "Directory /home/obaskov/language-learning/output/Grammar-Learner-2018-04-06/poc_english_noamb_mst_fixed/connectors-DRK-connectors/ exists.\n",
      "files: ['/home/obaskov/language-learning/data/POC_English_NoAmb/mst_fixed_manually/poc_english_noamb_parse_ideal.txt']\n",
      "20 unique words and 38 unique links form 124 unique word-link pairs from 124 parsed items\n"
     ]
    },
    {
     "data": {
      "image/png": "[encoded data removed]",
      "text/plain": [
       "<matplotlib.figure.Figure at 0x7f64a91c6a90>"
      ]
     },
     "metadata": {},
     "output_type": "display_data"
    },
    {
     "name": "stdout",
     "output_type": "stream",
     "text": [
      "Vector space dimensionality = 16\n",
      "Singular value (16) = 1.3\n",
      "Max singular value (1) = 8.3\n",
      "All singular values within relevance interval - more than 0.1 of max singular value\n",
      "Silhouette index in a range of cluster numbers\n"
     ]
    },
    {
     "data": {
      "image/png": "[encoded data removed]",
      "text/plain": [
       "<matplotlib.figure.Figure at 0x7f6468308d68>"
      ]
     },
     "metadata": {},
     "output_type": "display_data"
    },
    {
     "name": "stdout",
     "output_type": "stream",
     "text": [
      "Optimal number of clusters: 8\n"
     ]
    },
    {
     "data": {
      "text/html": [
       "<table><tr><td>Parent</td><td>Category</td><td>Quality</td><td>Words</td><td>Relevance</td></tr><tr><td>C00</td><td>C01</td><td>0.0</td><td>['is', 'was']</td><td>[0, 0]</td></tr><tr><td>C00</td><td>C02</td><td>0.0</td><td>['LEFT-WALL', 'liked', 'likes']</td><td>[0, 0, 0]</td></tr><tr><td>C00</td><td>C03</td><td>0.0</td><td>['daughter', 'son']</td><td>[0, 0]</td></tr><tr><td>C00</td><td>C04</td><td>0.0</td><td>['dad', 'mom']</td><td>[0, 0]</td></tr><tr><td>C00</td><td>C05</td><td>0.0</td><td>['cake', 'sausage']</td><td>[0, 0]</td></tr><tr><td>C00</td><td>C06</td><td>0.0</td><td>['.', 'before', 'now']</td><td>[0, 0, 0]</td></tr><tr><td>C00</td><td>C07</td><td>0.0</td><td>['child', 'human', 'parent']</td><td>[0, 0, 0]</td></tr><tr><td>C00</td><td>C08</td><td>0.0</td><td>['a', 'food', 'not']</td><td>[0, 0, 0]</td></tr></table>"
      ],
      "text/plain": [
       "<IPython.core.display.HTML object>"
      ]
     },
     "metadata": {},
     "output_type": "display_data"
    },
    {
     "name": "stdout",
     "output_type": "stream",
     "text": [
      "<...>\n",
      "Total 8 lines, saved to /home/obaskov/language-learning/output/Grammar-Learner-2018-04-06/poc_english_noamb_mst_fixed/connectors-DRK-connectors/categories.txt\n",
      "list\n",
      "        word  count cluster                              cluster_links\n",
      "0          .     36     C06              [C06, C05-, C06-, C07-, C08-]\n",
      "1  LEFT-WALL     40     C02        [C02, C01+, C03+, C04+, C05+, C08+]\n",
      "2          a     60     C08  [C08, C01-, C02-, C03+, C04+, C07+, C08-]\n"
     ]
    },
    {
     "data": {
      "text/html": [
       "<table><tr><td>Cluster</td><td>Germs</td><td>L</td><td>R</td><td>Disjuncts</td></tr><tr><td>C01</td><td>['is', 'was']</td><td>[]</td><td>[]</td><td>['{C02C01- or C03C01- or C04C01- or C05C01-} & {C01C08+}', '{C04C01- or C05C01-} & {C01C06+ or C01C08+}']</td></tr><tr><td>C02</td><td>['LEFT-WALL', 'liked', 'likes']</td><td>[]</td><td>[]</td><td>['C02C01+ or C02C03+ or C02C04+ or C02C05+ or C02C08+', '{C04C02-} & {C02C05+ or C02C06+}', '{C03C02- or C04C02-} & {C02C05+}']</td></tr><tr><td>C03</td><td>['daughter', 'son']</td><td>[]</td><td>[]</td><td>['{C02C03- or C08C03-} & {C03C01+ or C03C02+ or C03C06+}', '{C02C03- or C08C03-} & {C03C01+ or C03C02+ or C03C06+}']</td></tr><tr><td>C04</td><td>['dad', 'mom']</td><td>[]</td><td>[]</td><td>['{C02C04- or C08C04-} & {C04C01+ or C04C02+}', '{C02C04- or C08C04-} & {C04C01+ or C04C02+}']</td></tr><tr><td>C05</td><td>['cake', 'sausage']</td><td>[]</td><td>[]</td><td>['{C02C05-} & {C05C01+ or C05C06+}', '{C02C05-} & {C05C01+ or C05C06+}']</td></tr><tr><td>C06</td><td>['.', 'before', 'now']</td><td>[]</td><td>[]</td><td>['C05C06- or C06C06- or C07C06- or C08C06-', '{C01C06- or C02C06- or C03C06- or C07C06- or C08C06-} & {C06C06+}', '{C05C06- or C07C06- or C08C06-} & {C06C06+}']</td></tr><tr><td>C07</td><td>['child', 'human', 'parent']</td><td>[]</td><td>[]</td><td>['{C08C07-} & {C07C06+}', '{C08C07-} & {C07C06+}', '{C08C07-} & {C07C06+}']</td></tr><tr><td>C08</td><td>['a', 'food', 'not']</td><td>[]</td><td>[]</td><td>['{C01C08- or C02C08- or C08C08-} & {C08C03+ or C08C04+ or C08C07+}', '{C01C08-} & {C08C06+}', '{C01C08-} & {C08C07+ or C08C08+}']</td></tr></table>"
      ],
      "text/plain": [
       "<IPython.core.display.HTML object>"
      ]
     },
     "metadata": {},
     "output_type": "display_data"
    }
   ],
   "source": [
    "context = 1         # 1: connectors / 2: 'dusjuncts'\n",
    "grammar_rules = 1   # 1: connectors / 2+: 'dusjuncts'\n",
    "\n",
    "# Paths to store learned categories, learned dictionary Link Grammar file\n",
    "prj_dir = batch_dir + 'poc_english_noamb_mst_fixed/connectors-DRK-connectors/'\n",
    "if check_dir(prj_dir, create=True, verbose='max'):\n",
    "    cat_path = prj_dir  # Path to store learned categories\n",
    "    dict_path = prj_dir # Path to store learned dictionary Link Grammar file\n",
    "\n",
    "lg_rules_str = learn_grammar(input_dir, cat_path, dict_path, verbose, \\\n",
    "    parse_mode, context, group, left_wall, period, \\\n",
    "    word_space, dim_max, sv_min, dim_reduction, \\\n",
    "    clustering, cluster_range, cluster_criteria, cluster_level, tmpath,\n",
    "    generalization, grammar_rules)"
   ]
  },
  {
   "cell_type": "markdown",
   "metadata": {},
   "source": [
    "## Link Grammar dictionary"
   ]
  },
  {
   "cell_type": "code",
   "execution_count": 4,
   "metadata": {},
   "outputs": [
    {
     "name": "stdout",
     "output_type": "stream",
     "text": [
      "% POC English Link Grammar v.0.7 2018-04-07 10:03:12 UTC\n",
      "<dictionary-version-number>: V0v0v7+;\n",
      "<dictionary-locale>: EN4us+;\n",
      "\n",
      "% C01\n",
      "\"is\" \"was\":\n",
      "({C02C01- or C03C01- or C04C01- or C05C01-} & {C01C08+}) or ({C04C01- or C05C01-} & {C01C06+ or C01C08+});\n",
      "\n",
      "% C02\n",
      "\"LEFT-WALL\" \"liked\" \"likes\":\n",
      "(C02C01+ or C02C03+ or C02C04+ or C02C05+ or C02C08+) or ({C04C02-} & {C02C05+ or C02C06+}) or ({C03C02- or C04C02-} & {C02C05+});\n",
      "\n",
      "% C03\n",
      "\"daughter\" \"son\":\n",
      "({C02C03- or C08C03-} & {C03C01+ or C03C02+ or C03C06+}) or ({C02C03- or C08C03-} & {C03C01+ or C03C02+ or C03C06+});\n",
      "\n",
      "% C04\n",
      "\"dad\" \"mom\":\n",
      "({C02C04- or C08C04-} & {C04C01+ or C04C02+}) or ({C02C04- or C08C04-} & {C04C01+ or C04C02+});\n",
      "\n",
      "% C05\n",
      "\"cake\" \"sausage\":\n",
      "({C02C05-} & {C05C01+ or C05C06+}) or ({C02C05-} & {C05C01+ or C05C06+});\n",
      "\n",
      "% C06\n",
      "\".\" \"before\" \"now\":\n",
      "(C05C06- or C06C06- or C07C06- or C08C06-) or ({C01C06- or C02C06- or C03C06- or C07C06- or C08C06-} & {C06C06+}) or ({C05C06- or C07C06- or C08C06-} & {C06C06+});\n",
      "\n",
      "% C07\n",
      "\"child\" \"human\" \"parent\":\n",
      "({C08C07-} & {C07C06+}) or ({C08C07-} & {C07C06+}) or ({C08C07-} & {C07C06+});\n",
      "\n",
      "% C08\n",
      "\"a\" \"food\" \"not\":\n",
      "({C01C08- or C02C08- or C08C08-} & {C08C03+ or C08C04+ or C08C07+}) or ({C01C08-} & {C08C06+}) or ({C01C08-} & {C08C07+ or C08C08+});\n",
      "\n",
      "UNKNOWN-WORD: XXX+;\n",
      "\n",
      "% 8 word clusters, 8 Link Grammar rules.\n",
      "% Link Grammar file saved to: /home/obaskov/language-learning/output/Grammar-Learner-2018-04-06/poc_english_noamb_mst_fixed/connectors-DRK-connectors/poc-english_8C_2018-04-07_0007.4.0.dict\n"
     ]
    }
   ],
   "source": [
    "for line in lg_rules_str.splitlines(): print(line)"
   ]
  },
  {
   "cell_type": "markdown",
   "metadata": {},
   "source": [
    "# «Connectors - DRK - Disjuncts»"
   ]
  },
  {
   "cell_type": "markdown",
   "metadata": {},
   "source": [
    "## Details"
   ]
  },
  {
   "cell_type": "code",
   "execution_count": 5,
   "metadata": {},
   "outputs": [
    {
     "name": "stdout",
     "output_type": "stream",
     "text": [
      "Directory /home/obaskov/language-learning/output/Grammar-Learner-2018-04-06/poc_english_noamb_mst_fixed/connectors-DRK-disjuncts/ exists.\n",
      "files: ['/home/obaskov/language-learning/data/POC_English_NoAmb/mst_fixed_manually/poc_english_noamb_parse_ideal.txt']\n",
      "20 unique words and 38 unique links form 124 unique word-link pairs from 124 parsed items\n"
     ]
    },
    {
     "data": {
      "image/png": "[encoded data removed]",
      "text/plain": [
       "<matplotlib.figure.Figure at 0x7f6471811828>"
      ]
     },
     "metadata": {},
     "output_type": "display_data"
    },
    {
     "name": "stdout",
     "output_type": "stream",
     "text": [
      "Vector space dimensionality = 16\n",
      "Singular value (16) = 1.3\n",
      "Max singular value (1) = 8.3\n",
      "All singular values within relevance interval - more than 0.1 of max singular value\n",
      "Silhouette index in a range of cluster numbers\n"
     ]
    },
    {
     "data": {
      "image/png": "[encoded data removed]",
      "text/plain": [
       "<matplotlib.figure.Figure at 0x7f6466231cc0>"
      ]
     },
     "metadata": {},
     "output_type": "display_data"
    },
    {
     "name": "stdout",
     "output_type": "stream",
     "text": [
      "Optimal number of clusters: 9\n"
     ]
    },
    {
     "data": {
      "text/html": [
       "<table><tr><td>Parent</td><td>Category</td><td>Quality</td><td>Words</td><td>Relevance</td></tr><tr><td>C00</td><td>C01</td><td>0.0</td><td>['liked', 'likes']</td><td>[0, 0]</td></tr><tr><td>C00</td><td>C02</td><td>0.0</td><td>['is', 'was']</td><td>[0, 0]</td></tr><tr><td>C00</td><td>C03</td><td>0.0</td><td>['daughter', 'son']</td><td>[0, 0]</td></tr><tr><td>C00</td><td>C04</td><td>0.0</td><td>['dad', 'mom']</td><td>[0, 0]</td></tr><tr><td>C00</td><td>C05</td><td>0.0</td><td>['cake', 'sausage']</td><td>[0, 0]</td></tr><tr><td>C00</td><td>C06</td><td>0.0</td><td>['.', 'before', 'now']</td><td>[0, 0, 0]</td></tr><tr><td>C00</td><td>C07</td><td>0.0</td><td>['child', 'human', 'parent']</td><td>[0, 0, 0]</td></tr><tr><td>C00</td><td>C08</td><td>0.0</td><td>['food', 'not']</td><td>[0, 0]</td></tr><tr><td>C00</td><td>C09</td><td>0.0</td><td>['LEFT-WALL', 'a']</td><td>[0, 0]</td></tr></table>"
      ],
      "text/plain": [
       "<IPython.core.display.HTML object>"
      ]
     },
     "metadata": {},
     "output_type": "display_data"
    },
    {
     "name": "stdout",
     "output_type": "stream",
     "text": [
      "<...>\n",
      "Total 9 lines, saved to /home/obaskov/language-learning/output/Grammar-Learner-2018-04-06/poc_english_noamb_mst_fixed/connectors-DRK-disjuncts/categories.txt\n",
      "files: ['/home/obaskov/language-learning/data/POC_English_NoAmb/mst_fixed_manually/poc_english_noamb_parse_ideal.txt']\n",
      "20 unique words and 70 unique links form 97 unique word-link pairs from 230 parsed items\n",
      "list\n",
      "        word  count cluster                                      cluster_links\n",
      "0          .     35     C06                      [C06, C05-, C06-, C07-, C08-]\n",
      "1  LEFT-WALL     35     C09  [C09, C02+ & C04+, C03+, C04+, C04+ & C02+, C0...\n",
      "2          a     32     C09  [C09, C02-, C02- & C07+, C08-, C09- & C03+, C0...\n",
      "type(stalks[\"disjuncts\"]): <class 'pandas.core.series.Series'>\n"
     ]
    },
    {
     "data": {
      "text/html": [
       "<table><tr><td>Cluster</td><td>Germs</td><td>L</td><td>R</td><td>Disjuncts</td></tr><tr><td>C01</td><td>['liked', 'likes']</td><td>[]</td><td>[]</td><td>['C04C01- & C01C05+ & C01C06+', 'C03C01- & C01C05+', 'C04C01- & C01C05+']</td></tr><tr><td>C02</td><td>['is', 'was']</td><td>[]</td><td>[]</td><td>['C09C02- & C02C09+', 'C05C02- & C02C08+', 'C03C02- & C02C09+', 'C04C02- & C02C09+', 'C05C02- & C02C08+', 'C04C02- & C02C08+', 'C04C02- & C02C09+ & C02C06+']</td></tr><tr><td>C03</td><td>['daughter', 'son']</td><td>[]</td><td>[]</td><td>['C09C03- & C03C01+', 'C03C06+', 'C09C03- & C03C02+', 'C09C03- & C03C01+', 'C03C06+', 'C09C03- & C03C02+']</td></tr><tr><td>C04</td><td>['dad', 'mom']</td><td>[]</td><td>[]</td><td>['C09C04-', 'C09C04- & C04C02+', 'C09C04- & C04C01+', 'C09C04-', 'C09C04- & C04C02+', 'C09C04- & C04C01+']</td></tr><tr><td>C05</td><td>['cake', 'sausage']</td><td>[]</td><td>[]</td><td>['C01C05- & C05C06+', 'C09C05- & C05C02+', 'C01C05-', 'C01C05- & C05C06+', 'C09C05- & C05C02+', 'C01C05-']</td></tr><tr><td>C06</td><td>['.', 'before', 'now']</td><td>[]</td><td>[]</td><td>['C05C06-', 'C08C06-', 'C07C06-', 'C06C06-', 'C01C06- & C06C06+', 'C07C06- & C06C06+', 'C08C06- & C06C06+', 'C02C06- & C03C06- & C06C06+', 'C07C06- & C06C06+', 'C08C06- & C06C06+', 'C05C06- & C06C06+']</td></tr><tr><td>C07</td><td>['child', 'human', 'parent']</td><td>[]</td><td>[]</td><td>['C09C07- & C07C06+', 'C09C07- & C07C06+', 'C08C07- & C07C06+', 'C09C07- & C07C06+']</td></tr><tr><td>C08</td><td>['food', 'not']</td><td>[]</td><td>[]</td><td>['C02C08- & C08C06+', 'C02C08- & C08C09+ & C08C07+']</td></tr><tr><td>C09</td><td>['LEFT-WALL', 'a']</td><td>[]</td><td>[]</td><td>['C09C03+', 'C09C09+', 'C09C04+ & C09C02+', 'C09C05+', 'C09C02+ & C09C04+', 'C09C04+', 'C08C09-', 'C02C09-', 'C09C09- & C09C04+', 'C09C09- & C09C03+', 'C02C09- & C09C07+']</td></tr></table>"
      ],
      "text/plain": [
       "<IPython.core.display.HTML object>"
      ]
     },
     "metadata": {},
     "output_type": "display_data"
    }
   ],
   "source": [
    "context = 1         # 1: connectors / 2: 'dusjuncts'\n",
    "grammar_rules = 2   # 1: connectors / 2+: 'dusjuncts'\n",
    "\n",
    "# Paths to store learned categories, learned dictionary Link Grammar file\n",
    "prj_dir = batch_dir + 'poc_english_noamb_mst_fixed/connectors-DRK-disjuncts/'\n",
    "if check_dir(prj_dir, create=True, verbose='max'):\n",
    "    cat_path = prj_dir  # Path to store learned categories\n",
    "    dict_path = prj_dir # Path to store learned dictionary Link Grammar file\n",
    "\n",
    "lg_rules_str = learn_grammar(input_dir, cat_path, dict_path, verbose, \\\n",
    "    parse_mode, context, group, left_wall, period, \\\n",
    "    word_space, dim_max, sv_min, dim_reduction, \\\n",
    "    clustering, cluster_range, cluster_criteria, cluster_level, tmpath,\n",
    "    generalization, grammar_rules)"
   ]
  },
  {
   "cell_type": "markdown",
   "metadata": {},
   "source": [
    "## Link Grammar dictionary"
   ]
  },
  {
   "cell_type": "code",
   "execution_count": 6,
   "metadata": {},
   "outputs": [
    {
     "name": "stdout",
     "output_type": "stream",
     "text": [
      "% POC English Link Grammar v.0.7 2018-04-07 10:03:13 UTC\n",
      "<dictionary-version-number>: V0v0v7+;\n",
      "<dictionary-locale>: EN4us+;\n",
      "\n",
      "% C01\n",
      "\"liked\" \"likes\":\n",
      "(C04C01- & C01C05+ & C01C06+) or (C03C01- & C01C05+) or (C04C01- & C01C05+);\n",
      "\n",
      "% C02\n",
      "\"is\" \"was\":\n",
      "(C09C02- & C02C09+) or (C05C02- & C02C08+) or (C03C02- & C02C09+) or (C04C02- & C02C09+) or (C05C02- & C02C08+) or (C04C02- & C02C08+) or (C04C02- & C02C09+ & C02C06+);\n",
      "\n",
      "% C03\n",
      "\"daughter\" \"son\":\n",
      "(C09C03- & C03C01+) or (C03C06+) or (C09C03- & C03C02+) or (C09C03- & C03C01+) or (C03C06+) or (C09C03- & C03C02+);\n",
      "\n",
      "% C04\n",
      "\"dad\" \"mom\":\n",
      "(C09C04-) or (C09C04- & C04C02+) or (C09C04- & C04C01+) or (C09C04-) or (C09C04- & C04C02+) or (C09C04- & C04C01+);\n",
      "\n",
      "% C05\n",
      "\"cake\" \"sausage\":\n",
      "(C01C05- & C05C06+) or (C09C05- & C05C02+) or (C01C05-) or (C01C05- & C05C06+) or (C09C05- & C05C02+) or (C01C05-);\n",
      "\n",
      "% C06\n",
      "\".\" \"before\" \"now\":\n",
      "(C05C06-) or (C08C06-) or (C07C06-) or (C06C06-) or (C01C06- & C06C06+) or (C07C06- & C06C06+) or (C08C06- & C06C06+) or (C02C06- & C03C06- & C06C06+) or (C07C06- & C06C06+) or (C08C06- & C06C06+) or (C05C06- & C06C06+);\n",
      "\n",
      "% C07\n",
      "\"child\" \"human\" \"parent\":\n",
      "(C09C07- & C07C06+) or (C09C07- & C07C06+) or (C08C07- & C07C06+) or (C09C07- & C07C06+);\n",
      "\n",
      "% C08\n",
      "\"food\" \"not\":\n",
      "(C02C08- & C08C06+) or (C02C08- & C08C09+ & C08C07+);\n",
      "\n",
      "% C09\n",
      "\"LEFT-WALL\" \"a\":\n",
      "(C09C03+) or (C09C09+) or (C09C04+ & C09C02+) or (C09C05+) or (C09C02+ & C09C04+) or (C09C04+) or (C08C09-) or (C02C09-) or (C09C09- & C09C04+) or (C09C09- & C09C03+) or (C02C09- & C09C07+);\n",
      "\n",
      "UNKNOWN-WORD: XXX+;\n",
      "\n",
      "% 9 word clusters, 9 Link Grammar rules.\n",
      "% Link Grammar file saved to: /home/obaskov/language-learning/output/Grammar-Learner-2018-04-06/poc_english_noamb_mst_fixed/connectors-DRK-disjuncts/poc-english_9C_2018-04-07_0007.4.0.dict\n"
     ]
    }
   ],
   "source": [
    "for line in lg_rules_str.splitlines(): print(line)"
   ]
  },
  {
   "cell_type": "markdown",
   "metadata": {},
   "source": [
    "# «Disjuncts - DRK - Disjuncts»"
   ]
  },
  {
   "cell_type": "markdown",
   "metadata": {
    "heading_collapsed": true
   },
   "source": [
    "## Details"
   ]
  },
  {
   "cell_type": "code",
   "execution_count": 7,
   "metadata": {
    "hidden": true
   },
   "outputs": [
    {
     "name": "stdout",
     "output_type": "stream",
     "text": [
      "Directory /home/obaskov/language-learning/output/Grammar-Learner-2018-04-06/poc_english_noamb_mst_fixed/disjuncts-DRK-disjuncts/ exists.\n",
      "files: ['/home/obaskov/language-learning/data/POC_English_NoAmb/mst_fixed_manually/poc_english_noamb_parse_ideal.txt']\n",
      "20 unique words and 70 unique links form 97 unique word-link pairs from 230 parsed items\n"
     ]
    },
    {
     "data": {
      "image/png": "[encoded data removed]",
      "text/plain": [
       "<matplotlib.figure.Figure at 0x7f6466145a58>"
      ]
     },
     "metadata": {},
     "output_type": "display_data"
    },
    {
     "name": "stdout",
     "output_type": "stream",
     "text": [
      "Vector space dimensionality = 17\n",
      "Singular value (17) = 1.1\n",
      "Max singular value (1) = 9.0\n",
      "All singular values within relevance interval - more than 0.1 of max singular value\n",
      "Silhouette index in a range of cluster numbers\n"
     ]
    },
    {
     "data": {
      "image/png": "[encoded data removed]",
      "text/plain": [
       "<matplotlib.figure.Figure at 0x7f6466128048>"
      ]
     },
     "metadata": {},
     "output_type": "display_data"
    },
    {
     "name": "stdout",
     "output_type": "stream",
     "text": [
      "Optimal number of clusters: 13\n"
     ]
    },
    {
     "data": {
      "text/html": [
       "<table><tr><td>Parent</td><td>Category</td><td>Quality</td><td>Words</td><td>Relevance</td></tr><tr><td>C00</td><td>C01</td><td>0.0</td><td>['dad', 'mom']</td><td>[0, 0]</td></tr><tr><td>C00</td><td>C02</td><td>0.0</td><td>['daughter', 'son']</td><td>[0, 0]</td></tr><tr><td>C00</td><td>C03</td><td>0.0</td><td>['cake', 'sausage']</td><td>[0, 0]</td></tr><tr><td>C00</td><td>C04</td><td>0.0</td><td>['LEFT-WALL']</td><td>[0]</td></tr><tr><td>C00</td><td>C05</td><td>0.0</td><td>['.']</td><td>[0]</td></tr><tr><td>C00</td><td>C06</td><td>0.0</td><td>['before', 'now']</td><td>[0, 0]</td></tr><tr><td>C00</td><td>C07</td><td>0.0</td><td>['not']</td><td>[0]</td></tr><tr><td>C00</td><td>C08</td><td>0.0</td><td>['child', 'human', 'parent']</td><td>[0, 0, 0]</td></tr><tr><td>C00</td><td>C09</td><td>0.0</td><td>['food']</td><td>[0]</td></tr><tr><td>C00</td><td>C10</td><td>0.0</td><td>['a']</td><td>[0]</td></tr><tr><td>C00</td><td>C11</td><td>0.0</td><td>['likes']</td><td>[0]</td></tr><tr><td>C00</td><td>C12</td><td>0.0</td><td>['liked']</td><td>[0]</td></tr><tr><td>C00</td><td>C13</td><td>0.0</td><td>['is', 'was']</td><td>[0, 0]</td></tr></table>"
      ],
      "text/plain": [
       "<IPython.core.display.HTML object>"
      ]
     },
     "metadata": {},
     "output_type": "display_data"
    },
    {
     "name": "stdout",
     "output_type": "stream",
     "text": [
      "<...>\n",
      "Total 13 lines, saved to /home/obaskov/language-learning/output/Grammar-Learner-2018-04-06/poc_english_noamb_mst_fixed/disjuncts-DRK-disjuncts/categories.txt\n",
      "list\n",
      "        word  count cluster                                      cluster_links\n",
      "0          .     35     C05                      [C05, C03-, C06-, C08-, C09-]\n",
      "1  LEFT-WALL     35     C04  [C04, C01+, C01+ & C13+, C02+, C03+, C10+, C13...\n",
      "2          a     32     C10  [C10, C04- & C01+, C04- & C02+, C07-, C13-, C1...\n",
      "type(stalks[\"disjuncts\"]): <class 'pandas.core.series.Series'>\n"
     ]
    },
    {
     "data": {
      "text/html": [
       "<table><tr><td>Cluster</td><td>Germs</td><td>L</td><td>R</td><td>Disjuncts</td></tr><tr><td>C01</td><td>['dad', 'mom']</td><td>[]</td><td>[]</td><td>['C04C01- & C01C13+', 'C10C01- & C01C11+', 'C04C01- & C01C11+', 'C04C01- & C01C12+', 'C10C01- & C01C13+', 'C04C01-', 'C04C01- & C01C13+', 'C10C01- & C01C11+', 'C04C01- & C01C11+', 'C04C01- & C01C12+', 'C10C01- & C01C13+', 'C04C01-']</td></tr><tr><td>C02</td><td>['daughter', 'son']</td><td>[]</td><td>[]</td><td>['C02C06+', 'C10C02- & C02C11+', 'C10C02- & C02C13+', 'C04C02- & C02C13+', 'C04C02- & C02C11+', 'C02C06+', 'C10C02- & C02C11+', 'C10C02- & C02C13+', 'C04C02- & C02C13+', 'C04C02- & C02C11+']</td></tr><tr><td>C03</td><td>['cake', 'sausage']</td><td>[]</td><td>[]</td><td>['C04C03- & C03C13+', 'C12C03-', 'C11C03- & C03C05+', 'C11C03- & C03C06+', 'C04C03- & C03C13+', 'C12C03-', 'C11C03- & C03C05+', 'C11C03- & C03C06+']</td></tr><tr><td>C04</td><td>['LEFT-WALL']</td><td>[]</td><td>[]</td><td>['C04C13+ & C04C01+', 'C04C01+ & C04C13+', 'C04C10+', 'C04C03+', 'C04C02+', 'C04C01+']</td></tr><tr><td>C05</td><td>['.']</td><td>[]</td><td>[]</td><td>['C03C05-', 'C08C05-', 'C06C05-', 'C09C05-']</td></tr><tr><td>C06</td><td>['before', 'now']</td><td>[]</td><td>[]</td><td>['C12C06- & C06C05+', 'C13C06- & C02C06- & C06C05+', 'C08C06- & C06C05+', 'C09C06- & C06C05+', 'C03C06- & C06C05+', 'C08C06- & C06C05+', 'C09C06- & C06C05+']</td></tr><tr><td>C07</td><td>['not']</td><td>[]</td><td>[]</td><td>['C13C07- & C07C10+ & C07C08+']</td></tr><tr><td>C08</td><td>['child', 'human', 'parent']</td><td>[]</td><td>[]</td><td>['C10C08- & C08C06+', 'C10C08- & C08C05+', 'C10C08- & C08C06+', 'C10C08- & C08C05+', 'C10C08- & C08C05+', 'C10C08- & C08C06+', 'C07C08- & C08C06+']</td></tr><tr><td>C09</td><td>['food']</td><td>[]</td><td>[]</td><td>['C13C09- & C09C06+', 'C13C09- & C09C05+']</td></tr><tr><td>C10</td><td>['a']</td><td>[]</td><td>[]</td><td>['C04C10- & C10C01+', 'C07C10-', 'C04C10- & C10C02+', 'C13C10-', 'C13C10- & C10C08+']</td></tr><tr><td>C11</td><td>['likes']</td><td>[]</td><td>[]</td><td>['C01C11- & C11C03+', 'C02C11- & C11C03+']</td></tr><tr><td>C12</td><td>['liked']</td><td>[]</td><td>[]</td><td>['C01C12- & C12C03+ & C12C06+']</td></tr><tr><td>C13</td><td>['is', 'was']</td><td>[]</td><td>[]</td><td>['C02C13- & C13C10+', 'C04C13- & C13C10+', 'C03C13- & C13C09+', 'C01C13- & C13C10+', 'C01C13- & C13C07+', 'C03C13- & C13C09+', 'C01C13- & C13C10+ & C13C06+']</td></tr></table>"
      ],
      "text/plain": [
       "<IPython.core.display.HTML object>"
      ]
     },
     "metadata": {},
     "output_type": "display_data"
    }
   ],
   "source": [
    "context = 2         # 1: connectors / 2: 'dusjuncts'\n",
    "grammar_rules = 2   # 1: connectors / 2+: 'dusjuncts'\n",
    "\n",
    "# Paths to store learned categories, learned dictionary Link Grammar file\n",
    "prj_dir = batch_dir + 'poc_english_noamb_mst_fixed/disjuncts-DRK-disjuncts/'\n",
    "if check_dir(prj_dir, create=True, verbose='max'):\n",
    "    cat_path = prj_dir  # Path to store learned categories\n",
    "    dict_path = prj_dir # Path to store learned dictionary Link Grammar file\n",
    "\n",
    "lg_rules_str = learn_grammar(input_dir, cat_path, dict_path, verbose, \\\n",
    "    parse_mode, context, group, left_wall, period, \\\n",
    "    word_space, dim_max, sv_min, dim_reduction, \\\n",
    "    clustering, cluster_range, cluster_criteria, cluster_level, tmpath,\n",
    "    generalization, grammar_rules)"
   ]
  },
  {
   "cell_type": "markdown",
   "metadata": {},
   "source": [
    "## Link Grammar dictionary"
   ]
  },
  {
   "cell_type": "code",
   "execution_count": 8,
   "metadata": {},
   "outputs": [
    {
     "name": "stdout",
     "output_type": "stream",
     "text": [
      "% POC English Link Grammar v.0.7 2018-04-07 10:03:14 UTC\n",
      "<dictionary-version-number>: V0v0v7+;\n",
      "<dictionary-locale>: EN4us+;\n",
      "\n",
      "% C01\n",
      "\"dad\" \"mom\":\n",
      "(C04C01- & C01C13+) or (C10C01- & C01C11+) or (C04C01- & C01C11+) or (C04C01- & C01C12+) or (C10C01- & C01C13+) or (C04C01-) or (C04C01- & C01C13+) or (C10C01- & C01C11+) or (C04C01- & C01C11+) or (C04C01- & C01C12+) or (C10C01- & C01C13+) or (C04C01-);\n",
      "\n",
      "% C02\n",
      "\"daughter\" \"son\":\n",
      "(C02C06+) or (C10C02- & C02C11+) or (C10C02- & C02C13+) or (C04C02- & C02C13+) or (C04C02- & C02C11+) or (C02C06+) or (C10C02- & C02C11+) or (C10C02- & C02C13+) or (C04C02- & C02C13+) or (C04C02- & C02C11+);\n",
      "\n",
      "% C03\n",
      "\"cake\" \"sausage\":\n",
      "(C04C03- & C03C13+) or (C12C03-) or (C11C03- & C03C05+) or (C11C03- & C03C06+) or (C04C03- & C03C13+) or (C12C03-) or (C11C03- & C03C05+) or (C11C03- & C03C06+);\n",
      "\n",
      "% C04\n",
      "\"LEFT-WALL\":\n",
      "(C04C13+ & C04C01+) or (C04C01+ & C04C13+) or (C04C10+) or (C04C03+) or (C04C02+) or (C04C01+);\n",
      "\n",
      "% C05\n",
      "\".\":\n",
      "(C03C05-) or (C08C05-) or (C06C05-) or (C09C05-);\n",
      "\n",
      "% C06\n",
      "\"before\" \"now\":\n",
      "(C12C06- & C06C05+) or (C13C06- & C02C06- & C06C05+) or (C08C06- & C06C05+) or (C09C06- & C06C05+) or (C03C06- & C06C05+) or (C08C06- & C06C05+) or (C09C06- & C06C05+);\n",
      "\n",
      "% C07\n",
      "\"not\":\n",
      "(C13C07- & C07C10+ & C07C08+);\n",
      "\n",
      "% C08\n",
      "\"child\" \"human\" \"parent\":\n",
      "(C10C08- & C08C06+) or (C10C08- & C08C05+) or (C10C08- & C08C06+) or (C10C08- & C08C05+) or (C10C08- & C08C05+) or (C10C08- & C08C06+) or (C07C08- & C08C06+);\n",
      "\n",
      "% C09\n",
      "\"food\":\n",
      "(C13C09- & C09C06+) or (C13C09- & C09C05+);\n",
      "\n",
      "% C10\n",
      "\"a\":\n",
      "(C04C10- & C10C01+) or (C07C10-) or (C04C10- & C10C02+) or (C13C10-) or (C13C10- & C10C08+);\n",
      "\n",
      "% C11\n",
      "\"likes\":\n",
      "(C01C11- & C11C03+) or (C02C11- & C11C03+);\n",
      "\n",
      "% C12\n",
      "\"liked\":\n",
      "(C01C12- & C12C03+ & C12C06+);\n",
      "\n",
      "% C13\n",
      "\"is\" \"was\":\n",
      "(C02C13- & C13C10+) or (C04C13- & C13C10+) or (C03C13- & C13C09+) or (C01C13- & C13C10+) or (C01C13- & C13C07+) or (C03C13- & C13C09+) or (C01C13- & C13C10+ & C13C06+);\n",
      "\n",
      "UNKNOWN-WORD: XXX+;\n",
      "\n",
      "% 13 word clusters, 13 Link Grammar rules.\n",
      "% Link Grammar file saved to: /home/obaskov/language-learning/output/Grammar-Learner-2018-04-06/poc_english_noamb_mst_fixed/disjuncts-DRK-disjuncts/poc-english_13C_2018-04-07_0007.4.0.dict\n"
     ]
    }
   ],
   "source": [
    "for line in lg_rules_str.splitlines(): print(line)"
   ]
  },
  {
   "cell_type": "markdown",
   "metadata": {},
   "source": [
    "# «Disjuncts - DRK - Connectors»"
   ]
  },
  {
   "cell_type": "markdown",
   "metadata": {
    "heading_collapsed": true
   },
   "source": [
    "## Details"
   ]
  },
  {
   "cell_type": "code",
   "execution_count": 9,
   "metadata": {
    "hidden": true
   },
   "outputs": [
    {
     "name": "stdout",
     "output_type": "stream",
     "text": [
      "Directory /home/obaskov/language-learning/output/Grammar-Learner-2018-04-06/poc_english_noamb_mst_fixed/disjuncts-DRK-connectors/ exists.\n",
      "files: ['/home/obaskov/language-learning/data/POC_English_NoAmb/mst_fixed_manually/poc_english_noamb_parse_ideal.txt']\n",
      "20 unique words and 70 unique links form 97 unique word-link pairs from 230 parsed items\n"
     ]
    },
    {
     "data": {
      "image/png": "[encoded data removed]",
      "text/plain": [
       "<matplotlib.figure.Figure at 0x7f64660b0390>"
      ]
     },
     "metadata": {},
     "output_type": "display_data"
    },
    {
     "name": "stdout",
     "output_type": "stream",
     "text": [
      "Vector space dimensionality = 17\n",
      "Singular value (17) = 1.1\n",
      "Max singular value (1) = 9.0\n",
      "All singular values within relevance interval - more than 0.1 of max singular value\n",
      "Silhouette index in a range of cluster numbers\n"
     ]
    },
    {
     "data": {
      "image/png": "[encoded data removed]",
      "text/plain": [
       "<matplotlib.figure.Figure at 0x7f647eab6b38>"
      ]
     },
     "metadata": {},
     "output_type": "display_data"
    },
    {
     "name": "stdout",
     "output_type": "stream",
     "text": [
      "Optimal number of clusters: 13\n"
     ]
    },
    {
     "data": {
      "text/html": [
       "<table><tr><td>Parent</td><td>Category</td><td>Quality</td><td>Words</td><td>Relevance</td></tr><tr><td>C00</td><td>C01</td><td>0.0</td><td>['dad', 'mom']</td><td>[0, 0]</td></tr><tr><td>C00</td><td>C02</td><td>0.0</td><td>['daughter', 'son']</td><td>[0, 0]</td></tr><tr><td>C00</td><td>C03</td><td>0.0</td><td>['cake', 'sausage']</td><td>[0, 0]</td></tr><tr><td>C00</td><td>C04</td><td>0.0</td><td>['child', 'human', 'parent']</td><td>[0, 0, 0]</td></tr><tr><td>C00</td><td>C05</td><td>0.0</td><td>['before', 'now']</td><td>[0, 0]</td></tr><tr><td>C00</td><td>C06</td><td>0.0</td><td>['a']</td><td>[0]</td></tr><tr><td>C00</td><td>C07</td><td>0.0</td><td>['likes']</td><td>[0]</td></tr><tr><td>C00</td><td>C08</td><td>0.0</td><td>['not']</td><td>[0]</td></tr><tr><td>C00</td><td>C09</td><td>0.0</td><td>['LEFT-WALL']</td><td>[0]</td></tr><tr><td>C00</td><td>C10</td><td>0.0</td><td>['liked']</td><td>[0]</td></tr><tr><td>C00</td><td>C11</td><td>0.0</td><td>['.']</td><td>[0]</td></tr><tr><td>C00</td><td>C12</td><td>0.0</td><td>['food']</td><td>[0]</td></tr><tr><td>C00</td><td>C13</td><td>0.0</td><td>['is', 'was']</td><td>[0, 0]</td></tr></table>"
      ],
      "text/plain": [
       "<IPython.core.display.HTML object>"
      ]
     },
     "metadata": {},
     "output_type": "display_data"
    },
    {
     "name": "stdout",
     "output_type": "stream",
     "text": [
      "<...>\n",
      "Total 13 lines, saved to /home/obaskov/language-learning/output/Grammar-Learner-2018-04-06/poc_english_noamb_mst_fixed/disjuncts-DRK-connectors/categories.txt\n",
      "files: ['/home/obaskov/language-learning/data/POC_English_NoAmb/mst_fixed_manually/poc_english_noamb_parse_ideal.txt']\n",
      "20 unique words and 38 unique links form 124 unique word-link pairs from 124 parsed items\n",
      "list\n",
      "        word  count cluster                              cluster_links\n",
      "0          .     36     C11              [C11, C03-, C04-, C05-, C12-]\n",
      "1  LEFT-WALL     40     C09        [C09, C01+, C02+, C03+, C06+, C13+]\n",
      "2          a     60     C06  [C06, C01+, C02+, C04+, C08-, C09-, C13-]\n"
     ]
    },
    {
     "data": {
      "text/html": [
       "<table><tr><td>Cluster</td><td>Germs</td><td>L</td><td>R</td><td>Disjuncts</td></tr><tr><td>C01</td><td>['dad', 'mom']</td><td>[]</td><td>[]</td><td>['{C06C01- or C09C01-} & {C01C07+ or C01C10+ or C01C13+}', '{C06C01- or C09C01-} & {C01C07+ or C01C10+ or C01C13+}']</td></tr><tr><td>C02</td><td>['daughter', 'son']</td><td>[]</td><td>[]</td><td>['{C06C02- or C09C02-} & {C02C05+ or C02C07+ or C02C13+}', '{C06C02- or C09C02-} & {C02C05+ or C02C07+ or C02C13+}']</td></tr><tr><td>C03</td><td>['cake', 'sausage']</td><td>[]</td><td>[]</td><td>['{C07C03- or C09C03- or C10C03-} & {C03C05+ or C03C11+ or C03C13+}', '{C07C03- or C09C03- or C10C03-} & {C03C05+ or C03C11+ or C03C13+}']</td></tr><tr><td>C04</td><td>['child', 'human', 'parent']</td><td>[]</td><td>[]</td><td>['{C06C04-} & {C04C05+ or C04C11+}', '{C06C04-} & {C04C05+ or C04C11+}', '{C06C04- or C08C04-} & {C04C05+ or C04C11+}']</td></tr><tr><td>C05</td><td>['before', 'now']</td><td>[]</td><td>[]</td><td>['{C02C05- or C04C05- or C10C05- or C12C05- or C13C05-} & {C05C11+}', '{C03C05- or C04C05- or C12C05-} & {C05C11+}']</td></tr><tr><td>C06</td><td>['a']</td><td>[]</td><td>[]</td><td>['{C08C06- or C09C06- or C13C06-} & {C06C01+ or C06C02+ or C06C04+}']</td></tr><tr><td>C07</td><td>['likes']</td><td>[]</td><td>[]</td><td>['{C01C07- or C02C07-} & {C07C03+}']</td></tr><tr><td>C08</td><td>['not']</td><td>[]</td><td>[]</td><td>['{C13C08-} & {C08C04+ or C08C06+}']</td></tr><tr><td>C09</td><td>['LEFT-WALL']</td><td>[]</td><td>[]</td><td>['C09C01+ or C09C02+ or C09C03+ or C09C06+ or C09C13+']</td></tr><tr><td>C10</td><td>['liked']</td><td>[]</td><td>[]</td><td>['{C01C10-} & {C10C03+ or C10C05+}']</td></tr><tr><td>C11</td><td>['.']</td><td>[]</td><td>[]</td><td>['C03C11- or C04C11- or C05C11- or C12C11-']</td></tr><tr><td>C12</td><td>['food']</td><td>[]</td><td>[]</td><td>['{C13C12-} & {C12C05+ or C12C11+}']</td></tr><tr><td>C13</td><td>['is', 'was']</td><td>[]</td><td>[]</td><td>['{C01C13- or C02C13- or C03C13- or C09C13-} & {C13C06+ or C13C12+}', '{C01C13- or C03C13-} & {C13C05+ or C13C06+ or C13C08+ or C13C12+}']</td></tr></table>"
      ],
      "text/plain": [
       "<IPython.core.display.HTML object>"
      ]
     },
     "metadata": {},
     "output_type": "display_data"
    }
   ],
   "source": [
    "context = 2         # 1: connectors / 2: 'dusjuncts'\n",
    "grammar_rules = 1   # 1: connectors / 2+: 'dusjuncts'\n",
    "\n",
    "# Paths to store learned categories, learned dictionary Link Grammar file\n",
    "prj_dir = batch_dir + 'poc_english_noamb_mst_fixed/disjuncts-DRK-connectors/'\n",
    "if check_dir(prj_dir, create=True, verbose='max'):\n",
    "    cat_path = prj_dir  # Path to store learned categories\n",
    "    dict_path = prj_dir # Path to store learned dictionary Link Grammar file\n",
    "\n",
    "lg_rules_str = learn_grammar(input_dir, cat_path, dict_path, verbose, \\\n",
    "    parse_mode, context, group, left_wall, period, \\\n",
    "    word_space, dim_max, sv_min, dim_reduction, \\\n",
    "    clustering, cluster_range, cluster_criteria, cluster_level, tmpath,\n",
    "    generalization, grammar_rules)"
   ]
  },
  {
   "cell_type": "markdown",
   "metadata": {},
   "source": [
    "## Link Grammar dictionary"
   ]
  },
  {
   "cell_type": "code",
   "execution_count": 10,
   "metadata": {},
   "outputs": [
    {
     "name": "stdout",
     "output_type": "stream",
     "text": [
      "% POC English Link Grammar v.0.7 2018-04-07 10:03:16 UTC\n",
      "<dictionary-version-number>: V0v0v7+;\n",
      "<dictionary-locale>: EN4us+;\n",
      "\n",
      "% C01\n",
      "\"dad\" \"mom\":\n",
      "({C06C01- or C09C01-} & {C01C07+ or C01C10+ or C01C13+}) or ({C06C01- or C09C01-} & {C01C07+ or C01C10+ or C01C13+});\n",
      "\n",
      "% C02\n",
      "\"daughter\" \"son\":\n",
      "({C06C02- or C09C02-} & {C02C05+ or C02C07+ or C02C13+}) or ({C06C02- or C09C02-} & {C02C05+ or C02C07+ or C02C13+});\n",
      "\n",
      "% C03\n",
      "\"cake\" \"sausage\":\n",
      "({C07C03- or C09C03- or C10C03-} & {C03C05+ or C03C11+ or C03C13+}) or ({C07C03- or C09C03- or C10C03-} & {C03C05+ or C03C11+ or C03C13+});\n",
      "\n",
      "% C04\n",
      "\"child\" \"human\" \"parent\":\n",
      "({C06C04-} & {C04C05+ or C04C11+}) or ({C06C04-} & {C04C05+ or C04C11+}) or ({C06C04- or C08C04-} & {C04C05+ or C04C11+});\n",
      "\n",
      "% C05\n",
      "\"before\" \"now\":\n",
      "({C02C05- or C04C05- or C10C05- or C12C05- or C13C05-} & {C05C11+}) or ({C03C05- or C04C05- or C12C05-} & {C05C11+});\n",
      "\n",
      "% C06\n",
      "\"a\":\n",
      "({C08C06- or C09C06- or C13C06-} & {C06C01+ or C06C02+ or C06C04+});\n",
      "\n",
      "% C07\n",
      "\"likes\":\n",
      "({C01C07- or C02C07-} & {C07C03+});\n",
      "\n",
      "% C08\n",
      "\"not\":\n",
      "({C13C08-} & {C08C04+ or C08C06+});\n",
      "\n",
      "% C09\n",
      "\"LEFT-WALL\":\n",
      "(C09C01+ or C09C02+ or C09C03+ or C09C06+ or C09C13+);\n",
      "\n",
      "% C10\n",
      "\"liked\":\n",
      "({C01C10-} & {C10C03+ or C10C05+});\n",
      "\n",
      "% C11\n",
      "\".\":\n",
      "(C03C11- or C04C11- or C05C11- or C12C11-);\n",
      "\n",
      "% C12\n",
      "\"food\":\n",
      "({C13C12-} & {C12C05+ or C12C11+});\n",
      "\n",
      "% C13\n",
      "\"is\" \"was\":\n",
      "({C01C13- or C02C13- or C03C13- or C09C13-} & {C13C06+ or C13C12+}) or ({C01C13- or C03C13-} & {C13C05+ or C13C06+ or C13C08+ or C13C12+});\n",
      "\n",
      "UNKNOWN-WORD: XXX+;\n",
      "\n",
      "% 13 word clusters, 13 Link Grammar rules.\n",
      "% Link Grammar file saved to: /home/obaskov/language-learning/output/Grammar-Learner-2018-04-06/poc_english_noamb_mst_fixed/disjuncts-DRK-connectors/poc-english_13C_2018-04-07_0007.4.0.dict\n"
     ]
    }
   ],
   "source": [
    "for line in lg_rules_str.splitlines(): print(line)"
   ]
  }
 ],
 "metadata": {
  "kernelspec": {
   "display_name": "Python 3",
   "language": "python",
   "name": "python3"
  },
  "language_info": {
   "codemirror_mode": {
    "name": "ipython",
    "version": 3
   },
   "file_extension": ".py",
   "mimetype": "text/x-python",
   "name": "python",
   "nbconvert_exporter": "python",
   "pygments_lexer": "ipython3",
   "version": "3.6.4"
  },
  "toc": {
   "nav_menu": {},
   "number_sections": true,
   "sideBar": true,
   "skip_h1_title": false,
   "title_cell": "Table of Contents",
   "title_sidebar": "Contents",
   "toc_cell": false,
   "toc_position": {},
   "toc_section_display": true,
   "toc_window_display": false
  }
 },
 "nbformat": 4,
 "nbformat_minor": 2
}
