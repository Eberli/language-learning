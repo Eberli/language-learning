{
 "cells": [
  {
   "cell_type": "markdown",
   "metadata": {},
   "source": [
    "# Child Directed Speech test `2018-10-19`\n",
    "\n",
    "Link Grammar 5.4.4, test_grammar updated 2018-10-19, server `94.130.238.118`.  \n",
    "This notebook is shared as static [Child-Directed-Speech-2018-10-19.html](http://langlearn.singularitynet.io/data/clustering_2018/html/Child-Directed-Speech-2018-10-19.html)  \n",
    "The \"All tests\" table is shared as 'short_table.txt' in [Child-Directed-Speech-2018-10-19 folder](http://langlearn.singularitynet.io/data/clustering_2018/Child-Directed-Speech-2018-10-19/)  "
   ]
  },
  {
   "cell_type": "markdown",
   "metadata": {},
   "source": [
    "## Basic settings"
   ]
  },
  {
   "cell_type": "code",
   "execution_count": 1,
   "metadata": {
    "ExecuteTime": {
     "end_time": "2018-10-19T11:06:40.097887Z",
     "start_time": "2018-10-19T11:06:39.368211Z"
    }
   },
   "outputs": [
    {
     "name": "stdout",
     "output_type": "stream",
     "text": [
      "2018-10-19 11:06:40 UTC :: module_path = /home/obaskov/py/language-learning\n"
     ]
    }
   ],
   "source": [
    "import os, sys, time\n",
    "module_path = os.path.abspath(os.path.join('..'))\n",
    "if module_path not in sys.path: sys.path.append(module_path)\n",
    "from src.grammar_learner.utl import UTC\n",
    "from src.grammar_learner.read_files import check_dir\n",
    "from src.grammar_learner.write_files import list2file\n",
    "from src.grammar_learner.widgets import html_table\n",
    "from src.grammar_learner.pqa_table import table_rows\n",
    "tmpath = module_path + '/tmp/'\n",
    "check_dir(tmpath, True, 'none')\n",
    "table = []\n",
    "long_table = []\n",
    "start = time.time()\n",
    "print(UTC(), ':: module_path =', module_path)"
   ]
  },
  {
   "cell_type": "markdown",
   "metadata": {},
   "source": [
    "## Corpus test settings"
   ]
  },
  {
   "cell_type": "code",
   "execution_count": 2,
   "metadata": {
    "ExecuteTime": {
     "end_time": "2018-10-19T11:06:40.104297Z",
     "start_time": "2018-10-19T11:06:40.099295Z"
    }
   },
   "outputs": [],
   "source": [
    "out_dir = module_path + '/output/Child-Directed-Speech-' + str(UTC())[:10]\n",
    "runs = (1,1)    # (attempts to learn grammar per line, grammar tests per attempt)\n",
    "if runs != (1,1): out_dir += '-multi'\n",
    "kwargs = {\n",
    "    'left_wall'     :   ''          ,\n",
    "    'period'        :   False       ,\n",
    "    'word_space'    :   'vectors'   ,\n",
    "    'clustering'    :   ('kmeans', 'kmeans++', 10),\n",
    "    'cluster_range' :   (120,30,3)  , # max, min, proof\n",
    "    'cluster_criteria': 'silhouette',\n",
    "    'cluster_level' :   1           ,\n",
    "    'tmpath'        :   tmpath      , \n",
    "    'verbose'       :   'min'       ,\n",
    "    'template_path' :   'poc-turtle',\n",
    "    'linkage_limit' :   1000        ,\n",
    "    'categories_generalization': 'off' }\n",
    "lines = [\n",
    "    [33, 'CDS-caps-br-text+brent9mos' , 'LG-English'                     ,0,0, 'none'  ], \n",
    "    [34, 'CDS-caps-br-text+brent9mos' , 'LG-English'                     ,0,0, 'rules' ], \n",
    "    [35, 'CDS-caps-br-text+brent9mos' , 'R=6-Weight=6:R-mst-weight=+1:R' ,0,0, 'none'  ], \n",
    "    [36, 'CDS-caps-br-text+brent9mos' , 'R=6-Weight=6:R-mst-weight=+1:R' ,0,0, 'rules' ]]\n",
    "rp = module_path + '/data/CDS-caps-br-text+brent9mos/LG-English'\n",
    "cp = rp  # corpus path = reference_path :: use 'gold' parses as test corpus"
   ]
  },
  {
   "cell_type": "markdown",
   "metadata": {},
   "source": [
    "# ULL Project Plan ⇒ Parses ⇒ lines 33-36, by columns (K-N), (O-Q)"
   ]
  },
  {
   "cell_type": "markdown",
   "metadata": {},
   "source": [
    "## Connectors-DRK-Connectors"
   ]
  },
  {
   "cell_type": "code",
   "execution_count": 3,
   "metadata": {
    "ExecuteTime": {
     "end_time": "2018-10-19T16:37:48.682622Z",
     "start_time": "2018-10-19T11:06:40.105538Z"
    }
   },
   "outputs": [],
   "source": [
    "%%capture\n",
    "kwargs['context'] = 1\n",
    "kwargs['grammar_rules'] = 1\n",
    "average21, long21, header = table_rows(lines, out_dir, cp, rp, runs, **kwargs)\n",
    "table.extend(average21)\n",
    "long_table.extend(long21)"
   ]
  },
  {
   "cell_type": "code",
   "execution_count": 4,
   "metadata": {
    "ExecuteTime": {
     "end_time": "2018-10-19T16:37:48.689726Z",
     "start_time": "2018-10-19T16:37:48.684807Z"
    }
   },
   "outputs": [
    {
     "data": {
      "text/html": [
       "<table><tr><td>Line</td><td>Corpus</td><td>Parsing</td><td>LW</td><td>RW</td><td>Gen.</td><td>Space</td><td>Rules</td><td>Silhouette</td><td>PA</td><td>PQ</td><td>F1</td></tr><tr><td>33</td><td>CDS-caps-br-text+brent9mos</td><td>LG-English</td><td> --- </td><td> --- </td><td>none</td><td>cDRKc</td><td>87</td><td>0.18</td><td>70%</td><td>50%</td><td>0.51</td></tr><tr><td>35</td><td>CDS-caps-br-text+brent9mos</td><td>R=6-Weight=6:R-mst-weight=+1:R</td><td> --- </td><td> --- </td><td>none</td><td>cDRKc</td><td>65</td><td>0.13</td><td>70%</td><td>44%</td><td>0.44</td></tr></table>"
      ],
      "text/plain": [
       "<IPython.core.display.HTML object>"
      ]
     },
     "metadata": {},
     "output_type": "display_data"
    }
   ],
   "source": [
    "display(html_table([header]+average21))"
   ]
  },
  {
   "cell_type": "markdown",
   "metadata": {},
   "source": [
    "## Connectors-DRK-Disjuncts"
   ]
  },
  {
   "cell_type": "code",
   "execution_count": 5,
   "metadata": {
    "ExecuteTime": {
     "end_time": "2018-10-19T17:32:10.972729Z",
     "start_time": "2018-10-19T16:37:48.691769Z"
    }
   },
   "outputs": [],
   "source": [
    "%%capture\n",
    "kwargs['context'] = 1\n",
    "kwargs['word_space'] = 'vectors'\n",
    "kwargs['clustering'] = 'kmeans'\n",
    "kwargs['grammar_rules'] = 2\n",
    "average22, long22, header = table_rows(lines, out_dir, cp, rp, runs, **kwargs)\n",
    "table.extend(average22)\n",
    "long_table.extend(long22)"
   ]
  },
  {
   "cell_type": "code",
   "execution_count": 6,
   "metadata": {
    "ExecuteTime": {
     "end_time": "2018-10-19T17:32:10.982175Z",
     "start_time": "2018-10-19T17:32:10.976387Z"
    },
    "scrolled": true
   },
   "outputs": [
    {
     "data": {
      "text/html": [
       "<table><tr><td>Line</td><td>Corpus</td><td>Parsing</td><td>LW</td><td>RW</td><td>Gen.</td><td>Space</td><td>Rules</td><td>Silhouette</td><td>PA</td><td>PQ</td><td>F1</td></tr><tr><td>33</td><td>CDS-caps-br-text+brent9mos</td><td>LG-English</td><td> --- </td><td> --- </td><td>none</td><td>cDRKd</td><td>64</td><td>0.17</td><td>68%</td><td>49%</td><td>0.50</td></tr><tr><td>34</td><td>CDS-caps-br-text+brent9mos</td><td>LG-English</td><td> --- </td><td> --- </td><td>rules</td><td>cDRKd</td><td>91</td><td>0.17</td><td>0%</td><td>0%</td><td>0.00</td></tr><tr><td>35</td><td>CDS-caps-br-text+brent9mos</td><td>R=6-Weight=6:R-mst-weight=+1:R</td><td> --- </td><td> --- </td><td>none</td><td>cDRKd</td><td>65</td><td>0.12</td><td>68%</td><td>41%</td><td>0.42</td></tr><tr><td>36</td><td>CDS-caps-br-text+brent9mos</td><td>R=6-Weight=6:R-mst-weight=+1:R</td><td> --- </td><td> --- </td><td>rules</td><td>cDRKd</td><td>65</td><td>0.13</td><td>0%</td><td>0%</td><td>0.00</td></tr></table>"
      ],
      "text/plain": [
       "<IPython.core.display.HTML object>"
      ]
     },
     "metadata": {},
     "output_type": "display_data"
    }
   ],
   "source": [
    "display(html_table([header]+average22))"
   ]
  },
  {
   "cell_type": "markdown",
   "metadata": {},
   "source": [
    "## Disjuncts-DRK-Disjuncts"
   ]
  },
  {
   "cell_type": "code",
   "execution_count": 7,
   "metadata": {
    "ExecuteTime": {
     "end_time": "2018-10-19T18:18:06.002521Z",
     "start_time": "2018-10-19T17:32:10.984908Z"
    }
   },
   "outputs": [],
   "source": [
    "%%capture\n",
    "kwargs['context'] = 2\n",
    "kwargs['word_space'] = 'vectors'\n",
    "kwargs['clustering'] = 'kmeans'\n",
    "kwargs['grammar_rules'] = 2\n",
    "average23, long23, header = table_rows(lines, out_dir, cp, rp, runs, **kwargs)\n",
    "table.extend(average23)\n",
    "long_table.extend(long23)"
   ]
  },
  {
   "cell_type": "code",
   "execution_count": 8,
   "metadata": {
    "ExecuteTime": {
     "end_time": "2018-10-19T18:18:06.012225Z",
     "start_time": "2018-10-19T18:18:06.006415Z"
    }
   },
   "outputs": [
    {
     "data": {
      "text/html": [
       "<table><tr><td>Line</td><td>Corpus</td><td>Parsing</td><td>LW</td><td>RW</td><td>Gen.</td><td>Space</td><td>Rules</td><td>Silhouette</td><td>PA</td><td>PQ</td><td>F1</td></tr><tr><td>33</td><td>CDS-caps-br-text+brent9mos</td><td>LG-English</td><td> --- </td><td> --- </td><td>none</td><td>dDRKd</td><td>73</td><td>0.35</td><td>63%</td><td>46%</td><td>0.48</td></tr><tr><td>34</td><td>CDS-caps-br-text+brent9mos</td><td>LG-English</td><td> --- </td><td> --- </td><td>rules</td><td>dDRKd</td><td>67</td><td>0.35</td><td>0%</td><td>0%</td><td>0.00</td></tr><tr><td>35</td><td>CDS-caps-br-text+brent9mos</td><td>R=6-Weight=6:R-mst-weight=+1:R</td><td> --- </td><td> --- </td><td>none</td><td>dDRKd</td><td>87</td><td>0.5</td><td>63%</td><td>38%</td><td>0.40</td></tr><tr><td>36</td><td>CDS-caps-br-text+brent9mos</td><td>R=6-Weight=6:R-mst-weight=+1:R</td><td> --- </td><td> --- </td><td>rules</td><td>dDRKd</td><td>100</td><td>0.51</td><td>0%</td><td>0%</td><td>0.00</td></tr></table>"
      ],
      "text/plain": [
       "<IPython.core.display.HTML object>"
      ]
     },
     "metadata": {},
     "output_type": "display_data"
    }
   ],
   "source": [
    "display(html_table([header]+average23))"
   ]
  },
  {
   "cell_type": "markdown",
   "metadata": {},
   "source": [
    "## Disjuncts-ILE-Disjuncts"
   ]
  },
  {
   "cell_type": "code",
   "execution_count": 9,
   "metadata": {
    "ExecuteTime": {
     "end_time": "2018-10-19T18:26:27.966471Z",
     "start_time": "2018-10-19T18:18:06.014964Z"
    }
   },
   "outputs": [],
   "source": [
    "%%capture\n",
    "kwargs['context'] = 2\n",
    "kwargs['word_space'] = 'discrete'\n",
    "kwargs['clustering'] = 'group'\n",
    "kwargs['grammar_rules'] = 2\n",
    "average24, long24, header = table_rows(lines, out_dir, cp, rp, runs, **kwargs)\n",
    "table.extend(average24)\n",
    "long_table.extend(long24)"
   ]
  },
  {
   "cell_type": "code",
   "execution_count": 10,
   "metadata": {
    "ExecuteTime": {
     "end_time": "2018-10-19T18:26:27.975523Z",
     "start_time": "2018-10-19T18:26:27.969896Z"
    }
   },
   "outputs": [
    {
     "data": {
      "text/html": [
       "<table><tr><td>Line</td><td>Corpus</td><td>Parsing</td><td>LW</td><td>RW</td><td>Gen.</td><td>Space</td><td>Rules</td><td>Silhouette</td><td>PA</td><td>PQ</td><td>F1</td></tr><tr><td>33</td><td>CDS-caps-br-text+brent9mos</td><td>LG-English</td><td> --- </td><td> --- </td><td>none</td><td>dILEd</td><td>2980</td><td> --- </td><td>40%</td><td>37%</td><td>0.40</td></tr><tr><td>34</td><td>CDS-caps-br-text+brent9mos</td><td>LG-English</td><td> --- </td><td> --- </td><td>rules</td><td>dILEd</td><td>2424</td><td> --- </td><td>0%</td><td>0%</td><td>0.00</td></tr><tr><td>35</td><td>CDS-caps-br-text+brent9mos</td><td>R=6-Weight=6:R-mst-weight=+1:R</td><td> --- </td><td> --- </td><td>none</td><td>dILEd</td><td>3558</td><td> --- </td><td>0%</td><td>0%</td><td>0.00</td></tr><tr><td>36</td><td>CDS-caps-br-text+brent9mos</td><td>R=6-Weight=6:R-mst-weight=+1:R</td><td> --- </td><td> --- </td><td>rules</td><td>dILEd</td><td>3415</td><td> --- </td><td>0%</td><td>0%</td><td>0.00</td></tr></table>"
      ],
      "text/plain": [
       "<IPython.core.display.HTML object>"
      ]
     },
     "metadata": {},
     "output_type": "display_data"
    }
   ],
   "source": [
    "display(html_table([header]+average24))"
   ]
  },
  {
   "cell_type": "markdown",
   "metadata": {},
   "source": [
    "# All tests"
   ]
  },
  {
   "cell_type": "code",
   "execution_count": 11,
   "metadata": {
    "ExecuteTime": {
     "end_time": "2018-10-19T18:26:28.124778Z",
     "start_time": "2018-10-19T18:26:27.978198Z"
    }
   },
   "outputs": [
    {
     "data": {
      "text/html": [
       "<table><tr><td>Line</td><td>Corpus</td><td>Parsing</td><td>LW</td><td>RW</td><td>Gen.</td><td>Space</td><td>Rules</td><td>Silhouette</td><td>PA</td><td>PQ</td><td>F1</td></tr><tr><td>33</td><td>CDS-caps-br-text+brent9mos</td><td>LG-English</td><td> --- </td><td> --- </td><td>none</td><td>cDRKc</td><td> 87 </td><td>0.18</td><td>70%</td><td>50%</td><td>0.51</td></tr><tr><td>35</td><td>CDS-caps-br-text+brent9mos</td><td>R=6-Weight=6:R-mst-weight=+1:R</td><td> --- </td><td> --- </td><td>none</td><td>cDRKc</td><td> 65 </td><td>0.13</td><td>70%</td><td>44%</td><td>0.44</td></tr><tr><td>33</td><td>CDS-caps-br-text+brent9mos</td><td>LG-English</td><td> --- </td><td> --- </td><td>none</td><td>cDRKd</td><td> 64 </td><td>0.17</td><td>68%</td><td>49%</td><td>0.50</td></tr><tr><td>34</td><td>CDS-caps-br-text+brent9mos</td><td>LG-English</td><td> --- </td><td> --- </td><td>rules</td><td>cDRKd</td><td> 91 </td><td>0.17</td><td>0%</td><td>0%</td><td>0.00</td></tr><tr><td>35</td><td>CDS-caps-br-text+brent9mos</td><td>R=6-Weight=6:R-mst-weight=+1:R</td><td> --- </td><td> --- </td><td>none</td><td>cDRKd</td><td> 65 </td><td>0.12</td><td>68%</td><td>41%</td><td>0.42</td></tr><tr><td>36</td><td>CDS-caps-br-text+brent9mos</td><td>R=6-Weight=6:R-mst-weight=+1:R</td><td> --- </td><td> --- </td><td>rules</td><td>cDRKd</td><td> 65 </td><td>0.13</td><td>0%</td><td>0%</td><td>0.00</td></tr><tr><td>33</td><td>CDS-caps-br-text+brent9mos</td><td>LG-English</td><td> --- </td><td> --- </td><td>none</td><td>dDRKd</td><td> 73 </td><td>0.35</td><td>63%</td><td>46%</td><td>0.48</td></tr><tr><td>34</td><td>CDS-caps-br-text+brent9mos</td><td>LG-English</td><td> --- </td><td> --- </td><td>rules</td><td>dDRKd</td><td> 67 </td><td>0.35</td><td>0%</td><td>0%</td><td>0.00</td></tr><tr><td>35</td><td>CDS-caps-br-text+brent9mos</td><td>R=6-Weight=6:R-mst-weight=+1:R</td><td> --- </td><td> --- </td><td>none</td><td>dDRKd</td><td> 87 </td><td>0.5</td><td>63%</td><td>38%</td><td>0.40</td></tr><tr><td>36</td><td>CDS-caps-br-text+brent9mos</td><td>R=6-Weight=6:R-mst-weight=+1:R</td><td> --- </td><td> --- </td><td>rules</td><td>dDRKd</td><td> 100 </td><td>0.51</td><td>0%</td><td>0%</td><td>0.00</td></tr><tr><td>33</td><td>CDS-caps-br-text+brent9mos</td><td>LG-English</td><td> --- </td><td> --- </td><td>none</td><td>dILEd</td><td> 2980 </td><td> --- </td><td>40%</td><td>37%</td><td>0.40</td></tr><tr><td>34</td><td>CDS-caps-br-text+brent9mos</td><td>LG-English</td><td> --- </td><td> --- </td><td>rules</td><td>dILEd</td><td> 2424 </td><td> --- </td><td>0%</td><td>0%</td><td>0.00</td></tr><tr><td>35</td><td>CDS-caps-br-text+brent9mos</td><td>R=6-Weight=6:R-mst-weight=+1:R</td><td> --- </td><td> --- </td><td>none</td><td>dILEd</td><td> 3558 </td><td> --- </td><td>0%</td><td>0%</td><td>0.00</td></tr><tr><td>36</td><td>CDS-caps-br-text+brent9mos</td><td>R=6-Weight=6:R-mst-weight=+1:R</td><td> --- </td><td> --- </td><td>rules</td><td>dILEd</td><td> 3415 </td><td> --- </td><td>0%</td><td>0%</td><td>0.00</td></tr></table>"
      ],
      "text/plain": [
       "<IPython.core.display.HTML object>"
      ]
     },
     "metadata": {},
     "output_type": "display_data"
    }
   ],
   "source": [
    "display(html_table([header]+long_table))"
   ]
  },
  {
   "cell_type": "code",
   "execution_count": 12,
   "metadata": {
    "ExecuteTime": {
     "end_time": "2018-10-19T18:26:28.208912Z",
     "start_time": "2018-10-19T18:26:28.128093Z"
    }
   },
   "outputs": [
    {
     "name": "stdout",
     "output_type": "stream",
     "text": [
      "2018-10-19 18:26:28 UTC :: finished, elapsed 7.3 hours\n",
      "Results saved to /home/obaskov/py/language-learning/output/Child-Directed-Speech-2018-10-19/short_table.txt\n"
     ]
    }
   ],
   "source": [
    "print(UTC(), ':: finished, elapsed', str(round((time.time()-start)/3600.0, 1)), 'hours')\n",
    "table_str = list2file(table, out_dir+'/short_table.txt')\n",
    "if runs == (1,1):\n",
    "    print('Results saved to', out_dir + '/short_table.txt')\n",
    "else:\n",
    "    long_table_str = list2file(long_table, out_dir+'/long_table.txt')\n",
    "    print('Average results saved to', out_dir + '/short_table.txt\\n'\n",
    "          'Detailed results for every run saved to', out_dir + '/long_table.txt')"
   ]
  },
  {
   "cell_type": "code",
   "execution_count": null,
   "metadata": {},
   "outputs": [],
   "source": []
  }
 ],
 "metadata": {
  "kernelspec": {
   "display_name": "Python [default]",
   "language": "python",
   "name": "python3"
  },
  "language_info": {
   "codemirror_mode": {
    "name": "ipython",
    "version": 3
   },
   "file_extension": ".py",
   "mimetype": "text/x-python",
   "name": "python",
   "nbconvert_exporter": "python",
   "pygments_lexer": "ipython3",
   "version": "3.6.6"
  },
  "toc": {
   "base_numbering": 1,
   "nav_menu": {},
   "number_sections": true,
   "sideBar": true,
   "skip_h1_title": false,
   "title_cell": "Table of Contents",
   "title_sidebar": "Contents",
   "toc_cell": false,
   "toc_position": {},
   "toc_section_display": true,
   "toc_window_display": false
  }
 },
 "nbformat": 4,
 "nbformat_minor": 2
}
