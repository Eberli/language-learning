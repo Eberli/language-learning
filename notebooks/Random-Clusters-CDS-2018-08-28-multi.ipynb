{
 "cells": [
  {
   "cell_type": "markdown",
   "metadata": {},
   "source": [
    "# Random Clustering consistency test `2018-08-28` 10x\n",
    "Updated (2018-08-14) Grammar Tester, server `94.130.238.118`  \n",
    "Each line is calculated 10x, parsing metrics tested 1x for each calculation.  \n",
    "This notebook is a supplement to  \n",
    "[http://langlearn.singularitynet.io/data/clustering_2018/html/Random-Clusters-CDS-2018-08-28.html](http://langlearn.singularitynet.io/data/clustering_2018/html/Random-Clusters-CDS-2018-08-28.html)  \n",
    "This notebook is shared as static html via  \n",
    "[http://langlearn.singularitynet.io/data/clustering_2018/html/Random-Clusters-CDS-2018-08-28-multi.html](http://langlearn.singularitynet.io/data/clustering_2018/html/Random-Clusters-CDS-2018-08-28-multi.html)  "
   ]
  },
  {
   "cell_type": "markdown",
   "metadata": {},
   "source": [
    "## Basic settings"
   ]
  },
  {
   "cell_type": "code",
   "execution_count": 1,
   "metadata": {},
   "outputs": [
    {
     "name": "stdout",
     "output_type": "stream",
     "text": [
      "2018-08-28 16:00:35 UTC :: module_path = /home/obaskov/language-learning\n"
     ]
    }
   ],
   "source": [
    "import os, sys, time\n",
    "from IPython.display import display\n",
    "module_path = os.path.abspath(os.path.join('..'))\n",
    "if module_path not in sys.path: sys.path.append(module_path)\n",
    "grammar_learner_path = module_path + '/src/grammar_learner/'\n",
    "if grammar_learner_path not in sys.path: sys.path.append(grammar_learner_path)\n",
    "from utl import UTC\n",
    "from read_files import check_dir\n",
    "from widgets import html_table\n",
    "from pqa_table import table_cds\n",
    "tmpath = module_path + '/tmp/'\n",
    "if check_dir(tmpath, True, 'none'):\n",
    "    table = []\n",
    "    long_table = []\n",
    "    header = ['Line','Corpus','Parsing','LW','\".\"','Generalization','Space','Rules','PA','PQ']\n",
    "    start = time.time()\n",
    "    print(UTC(), ':: module_path =', module_path)\n",
    "else: print(UTC(), ':: could not create temporary files directory', tmpath)"
   ]
  },
  {
   "cell_type": "markdown",
   "metadata": {},
   "source": [
    "## Corpus test settings"
   ]
  },
  {
   "cell_type": "code",
   "execution_count": 2,
   "metadata": {},
   "outputs": [],
   "source": [
    "out_dir = module_path + '/output/Random-Clusters-' + str(UTC())[:10]\n",
    "runs = (10,1)    # (attempts to learn grammar per line, grammar tests per attempt)\n",
    "if runs != (1,1): out_dir += '-multi'\n",
    "kwargs = {\n",
    "    'left_wall'     :   ''          ,\n",
    "    'period'        :   False       ,\n",
    "    'clustering'    :   ('kmeans', 'kmeans++', 10),\n",
    "    'cluster_range' :   (30,120,3)  , # random cluster number within interval\n",
    "    'cluster_criteria': 'silhouette',\n",
    "    'cluster_level' :   1           ,\n",
    "    'tmpath'        :   tmpath      , \n",
    "    'verbose'       :   'min'       ,\n",
    "    'template_path' :   'poc-turtle',\n",
    "    'linkage_limit' :   1000        ,\n",
    "    'categories_generalization': 'off' }\n",
    "lines = [\n",
    "    [58, 'CDS-caps-br-text+brent9mos' , 'LG-English'                     ,0,0, 'none'  ], \n",
    "    [60, 'CDS-caps-br-text+brent9mos' , 'R=6-Weight=6:R-mst-weight=+1:R' ,0,0, 'none'  ]]\n",
    "rp = module_path + '/data/CDS-caps-br-text+brent9mos/LG-English'\n",
    "cp = rp  # corpus path = reference_path :: use 'gold' parses as test corpus"
   ]
  },
  {
   "cell_type": "markdown",
   "metadata": {},
   "source": [
    "## Random clusters, interconnected -- RNDic\n",
    "\"Connector-based rules\" style interconnection:  \n",
    "C01: {C01C01- or C02C01- or ... or CnC01-} & {C01C01+ or C01C02+ or ... or C01Cn+} ...  \n",
    "Cxx: {C01Cxx- or C02Cxx- or ... or CnCxx-} & {CxxC01+ or CxxC02+ or ... or CxxCn+} ...  \n",
    "where n -- number of clusters, Cn -- n-th cluster, Cx -- x-th cluste of {C01 ... Cn}"
   ]
  },
  {
   "cell_type": "code",
   "execution_count": 3,
   "metadata": {},
   "outputs": [],
   "source": [
    "%%capture\n",
    "kwargs['context'] = 1\n",
    "kwargs['word_space'] = 'none'\n",
    "kwargs['clustering'] = 'random'\n",
    "kwargs['grammar_rules'] = -1\n",
    "average21, long21 = table_cds(lines, out_dir, cp, rp, runs, **kwargs)\n",
    "table.extend(average21)\n",
    "long_table.extend(long21)"
   ]
  },
  {
   "cell_type": "code",
   "execution_count": 4,
   "metadata": {},
   "outputs": [
    {
     "data": {
      "text/html": [
       "<table><tr><td>Line</td><td>Corpus</td><td>Parsing</td><td>LW</td><td>\".\"</td><td>Generalization</td><td>Space</td><td>Rules</td><td>PA</td><td>PQ</td></tr><tr><td>58</td><td>CDS-caps-br-text+brent9mos</td><td>LG-English</td><td> -- </td><td> -- </td><td>none</td><td>RNDic</td><td>79</td><td>72%</td><td>51%</td></tr><tr><td>60</td><td>CDS-caps-br-text+brent9mos</td><td>R=6-Weight=6:R-mst-weight=+1:R</td><td> -- </td><td> -- </td><td>none</td><td>RNDic</td><td>69</td><td>70%</td><td>44%</td></tr></table>"
      ],
      "text/plain": [
       "<IPython.core.display.HTML object>"
      ]
     },
     "metadata": {},
     "output_type": "display_data"
    },
    {
     "name": "stdout",
     "output_type": "stream",
     "text": [
      "2018-08-28 16:09:46 UTC\n"
     ]
    }
   ],
   "source": [
    "display(html_table([header]+average21))\n",
    "print(UTC())"
   ]
  },
  {
   "cell_type": "markdown",
   "metadata": {},
   "source": [
    "## Random Clusters, connector-based rules"
   ]
  },
  {
   "cell_type": "code",
   "execution_count": 5,
   "metadata": {},
   "outputs": [],
   "source": [
    "%%capture\n",
    "kwargs['grammar_rules'] = 1\n",
    "average22, long22 = table_cds(lines, out_dir, cp, rp, runs, **kwargs)\n",
    "table.extend(average22)\n",
    "long_table.extend(long22)"
   ]
  },
  {
   "cell_type": "code",
   "execution_count": 6,
   "metadata": {},
   "outputs": [
    {
     "data": {
      "text/html": [
       "<table><tr><td>Line</td><td>Corpus</td><td>Parsing</td><td>LW</td><td>\".\"</td><td>Generalization</td><td>Space</td><td>Rules</td><td>PA</td><td>PQ</td></tr><tr><td>58</td><td>CDS-caps-br-text+brent9mos</td><td>LG-English</td><td> -- </td><td> -- </td><td>none</td><td>RNDc</td><td>64</td><td>72%</td><td>51%</td></tr><tr><td>60</td><td>CDS-caps-br-text+brent9mos</td><td>R=6-Weight=6:R-mst-weight=+1:R</td><td> -- </td><td> -- </td><td>none</td><td>RNDc</td><td>82</td><td>70%</td><td>44%</td></tr></table>"
      ],
      "text/plain": [
       "<IPython.core.display.HTML object>"
      ]
     },
     "metadata": {},
     "output_type": "display_data"
    },
    {
     "name": "stdout",
     "output_type": "stream",
     "text": [
      "2018-08-28 16:18:53 UTC\n"
     ]
    }
   ],
   "source": [
    "display(html_table([header]+average22))\n",
    "print(UTC())"
   ]
  },
  {
   "cell_type": "markdown",
   "metadata": {},
   "source": [
    "## Random Clusters, disjunct-based rules"
   ]
  },
  {
   "cell_type": "code",
   "execution_count": 7,
   "metadata": {},
   "outputs": [],
   "source": [
    "%%capture\n",
    "kwargs['grammar_rules'] = 2\n",
    "average23, long23 = table_cds(lines, out_dir, cp, rp, runs, **kwargs)\n",
    "table.extend(average23)\n",
    "long_table.extend(long23)"
   ]
  },
  {
   "cell_type": "code",
   "execution_count": 8,
   "metadata": {},
   "outputs": [
    {
     "data": {
      "text/html": [
       "<table><tr><td>Line</td><td>Corpus</td><td>Parsing</td><td>LW</td><td>\".\"</td><td>Generalization</td><td>Space</td><td>Rules</td><td>PA</td><td>PQ</td></tr><tr><td>58</td><td>CDS-caps-br-text+brent9mos</td><td>LG-English</td><td> -- </td><td> -- </td><td>none</td><td>RNDd</td><td>78</td><td>41%</td><td>24%</td></tr><tr><td>60</td><td>CDS-caps-br-text+brent9mos</td><td>R=6-Weight=6:R-mst-weight=+1:R</td><td> -- </td><td> -- </td><td>none</td><td>RNDd</td><td>60</td><td>41%</td><td>20%</td></tr></table>"
      ],
      "text/plain": [
       "<IPython.core.display.HTML object>"
      ]
     },
     "metadata": {},
     "output_type": "display_data"
    },
    {
     "name": "stdout",
     "output_type": "stream",
     "text": [
      "2018-08-28 16:28:27 UTC\n"
     ]
    }
   ],
   "source": [
    "display(html_table([header]+average23))\n",
    "print(UTC())"
   ]
  },
  {
   "cell_type": "markdown",
   "metadata": {},
   "source": [
    "## Random clusters, linked -- RNDid\n",
    "Every cluster is linked to all clusters with single-link disjuncts:  \n",
    "C01: (C01C01-) or (C02C01-) or ... (CnC01-) or (C01C01+) or (C01C02+) or ... (C01Cn+) ...  \n",
    "Cxx: (C01Cxx-) or (C02Cxx-) or ... (CnCxx-) or (CxxC01+) or (CxxC02+) or ... (CxxCn+) ...  \n",
    "where n -- number of clusters, Cn -- n-th cluster, Cxx -- xx-th cluster of {C01 ... Cn}"
   ]
  },
  {
   "cell_type": "code",
   "execution_count": 9,
   "metadata": {},
   "outputs": [],
   "source": [
    "%%capture\n",
    "kwargs['grammar_rules'] = -2\n",
    "average24, long24 = table_cds(lines, out_dir, cp, rp, runs, **kwargs)\n",
    "table.extend(average24)\n",
    "long_table.extend(long24)"
   ]
  },
  {
   "cell_type": "code",
   "execution_count": 10,
   "metadata": {},
   "outputs": [
    {
     "data": {
      "text/html": [
       "<table><tr><td>Line</td><td>Corpus</td><td>Parsing</td><td>LW</td><td>\".\"</td><td>Generalization</td><td>Space</td><td>Rules</td><td>PA</td><td>PQ</td></tr><tr><td>58</td><td>CDS-caps-br-text+brent9mos</td><td>LG-English</td><td> -- </td><td> -- </td><td>none</td><td>RNDid</td><td>61</td><td>41%</td><td>24%</td></tr><tr><td>60</td><td>CDS-caps-br-text+brent9mos</td><td>R=6-Weight=6:R-mst-weight=+1:R</td><td> -- </td><td> -- </td><td>none</td><td>RNDid</td><td>66</td><td>41%</td><td>20%</td></tr></table>"
      ],
      "text/plain": [
       "<IPython.core.display.HTML object>"
      ]
     },
     "metadata": {},
     "output_type": "display_data"
    },
    {
     "name": "stdout",
     "output_type": "stream",
     "text": [
      "2018-08-28 16:38:05 UTC\n"
     ]
    }
   ],
   "source": [
    "display(html_table([header]+average24))\n",
    "print(UTC())"
   ]
  },
  {
   "cell_type": "markdown",
   "metadata": {},
   "source": [
    "# All tests"
   ]
  },
  {
   "cell_type": "code",
   "execution_count": 11,
   "metadata": {},
   "outputs": [
    {
     "data": {
      "text/html": [
       "<table><tr><td>Line</td><td>Corpus</td><td>Parsing</td><td>LW</td><td>\".\"</td><td>Generalization</td><td>Space</td><td>Rules</td><td>PA</td><td>PQ</td></tr><tr><td>58</td><td>CDS-caps-br-text+brent9mos</td><td>LG-English</td><td> -- </td><td> -- </td><td>none</td><td>RNDic</td><td> 72 </td><td>72%</td><td>51%</td></tr><tr><td>58</td><td>CDS-caps-br-text+brent9mos</td><td>LG-English</td><td> -- </td><td> -- </td><td>none</td><td>RNDic</td><td> 115 </td><td>72%</td><td>51%</td></tr><tr><td>58</td><td>CDS-caps-br-text+brent9mos</td><td>LG-English</td><td> -- </td><td> -- </td><td>none</td><td>RNDic</td><td> 68 </td><td>72%</td><td>51%</td></tr><tr><td>58</td><td>CDS-caps-br-text+brent9mos</td><td>LG-English</td><td> -- </td><td> -- </td><td>none</td><td>RNDic</td><td> 80 </td><td>72%</td><td>51%</td></tr><tr><td>58</td><td>CDS-caps-br-text+brent9mos</td><td>LG-English</td><td> -- </td><td> -- </td><td>none</td><td>RNDic</td><td> 83 </td><td>72%</td><td>51%</td></tr><tr><td>58</td><td>CDS-caps-br-text+brent9mos</td><td>LG-English</td><td> -- </td><td> -- </td><td>none</td><td>RNDic</td><td> 96 </td><td>72%</td><td>51%</td></tr><tr><td>58</td><td>CDS-caps-br-text+brent9mos</td><td>LG-English</td><td> -- </td><td> -- </td><td>none</td><td>RNDic</td><td> 40 </td><td>72%</td><td>51%</td></tr><tr><td>58</td><td>CDS-caps-br-text+brent9mos</td><td>LG-English</td><td> -- </td><td> -- </td><td>none</td><td>RNDic</td><td> 82 </td><td>72%</td><td>51%</td></tr><tr><td>58</td><td>CDS-caps-br-text+brent9mos</td><td>LG-English</td><td> -- </td><td> -- </td><td>none</td><td>RNDic</td><td> 114 </td><td>72%</td><td>51%</td></tr><tr><td>58</td><td>CDS-caps-br-text+brent9mos</td><td>LG-English</td><td> -- </td><td> -- </td><td>none</td><td>RNDic</td><td> 36 </td><td>72%</td><td>51%</td></tr><tr><td>60</td><td>CDS-caps-br-text+brent9mos</td><td>R=6-Weight=6:R-mst-weight=+1:R</td><td> -- </td><td> -- </td><td>none</td><td>RNDic</td><td> 75 </td><td>70%</td><td>44%</td></tr><tr><td>60</td><td>CDS-caps-br-text+brent9mos</td><td>R=6-Weight=6:R-mst-weight=+1:R</td><td> -- </td><td> -- </td><td>none</td><td>RNDic</td><td> 84 </td><td>70%</td><td>44%</td></tr><tr><td>60</td><td>CDS-caps-br-text+brent9mos</td><td>R=6-Weight=6:R-mst-weight=+1:R</td><td> -- </td><td> -- </td><td>none</td><td>RNDic</td><td> 114 </td><td>70%</td><td>44%</td></tr><tr><td>60</td><td>CDS-caps-br-text+brent9mos</td><td>R=6-Weight=6:R-mst-weight=+1:R</td><td> -- </td><td> -- </td><td>none</td><td>RNDic</td><td> 48 </td><td>70%</td><td>44%</td></tr><tr><td>60</td><td>CDS-caps-br-text+brent9mos</td><td>R=6-Weight=6:R-mst-weight=+1:R</td><td> -- </td><td> -- </td><td>none</td><td>RNDic</td><td> 39 </td><td>70%</td><td>44%</td></tr><tr><td>60</td><td>CDS-caps-br-text+brent9mos</td><td>R=6-Weight=6:R-mst-weight=+1:R</td><td> -- </td><td> -- </td><td>none</td><td>RNDic</td><td> 51 </td><td>70%</td><td>44%</td></tr><tr><td>60</td><td>CDS-caps-br-text+brent9mos</td><td>R=6-Weight=6:R-mst-weight=+1:R</td><td> -- </td><td> -- </td><td>none</td><td>RNDic</td><td> 69 </td><td>70%</td><td>44%</td></tr><tr><td>60</td><td>CDS-caps-br-text+brent9mos</td><td>R=6-Weight=6:R-mst-weight=+1:R</td><td> -- </td><td> -- </td><td>none</td><td>RNDic</td><td> 61 </td><td>70%</td><td>44%</td></tr><tr><td>60</td><td>CDS-caps-br-text+brent9mos</td><td>R=6-Weight=6:R-mst-weight=+1:R</td><td> -- </td><td> -- </td><td>none</td><td>RNDic</td><td> 70 </td><td>70%</td><td>44%</td></tr><tr><td>60</td><td>CDS-caps-br-text+brent9mos</td><td>R=6-Weight=6:R-mst-weight=+1:R</td><td> -- </td><td> -- </td><td>none</td><td>RNDic</td><td> 83 </td><td>70%</td><td>44%</td></tr><tr><td>58</td><td>CDS-caps-br-text+brent9mos</td><td>LG-English</td><td> -- </td><td> -- </td><td>none</td><td>RNDc</td><td> 50 </td><td>72%</td><td>51%</td></tr><tr><td>58</td><td>CDS-caps-br-text+brent9mos</td><td>LG-English</td><td> -- </td><td> -- </td><td>none</td><td>RNDc</td><td> 116 </td><td>71%</td><td>50%</td></tr><tr><td>58</td><td>CDS-caps-br-text+brent9mos</td><td>LG-English</td><td> -- </td><td> -- </td><td>none</td><td>RNDc</td><td> 43 </td><td>72%</td><td>51%</td></tr><tr><td>58</td><td>CDS-caps-br-text+brent9mos</td><td>LG-English</td><td> -- </td><td> -- </td><td>none</td><td>RNDc</td><td> 90 </td><td>72%</td><td>51%</td></tr><tr><td>58</td><td>CDS-caps-br-text+brent9mos</td><td>LG-English</td><td> -- </td><td> -- </td><td>none</td><td>RNDc</td><td> 43 </td><td>72%</td><td>51%</td></tr><tr><td>58</td><td>CDS-caps-br-text+brent9mos</td><td>LG-English</td><td> -- </td><td> -- </td><td>none</td><td>RNDc</td><td> 31 </td><td>72%</td><td>51%</td></tr><tr><td>58</td><td>CDS-caps-br-text+brent9mos</td><td>LG-English</td><td> -- </td><td> -- </td><td>none</td><td>RNDc</td><td> 95 </td><td>71%</td><td>50%</td></tr><tr><td>58</td><td>CDS-caps-br-text+brent9mos</td><td>LG-English</td><td> -- </td><td> -- </td><td>none</td><td>RNDc</td><td> 44 </td><td>72%</td><td>51%</td></tr><tr><td>58</td><td>CDS-caps-br-text+brent9mos</td><td>LG-English</td><td> -- </td><td> -- </td><td>none</td><td>RNDc</td><td> 68 </td><td>72%</td><td>51%</td></tr><tr><td>58</td><td>CDS-caps-br-text+brent9mos</td><td>LG-English</td><td> -- </td><td> -- </td><td>none</td><td>RNDc</td><td> 60 </td><td>72%</td><td>51%</td></tr><tr><td>60</td><td>CDS-caps-br-text+brent9mos</td><td>R=6-Weight=6:R-mst-weight=+1:R</td><td> -- </td><td> -- </td><td>none</td><td>RNDc</td><td> 75 </td><td>70%</td><td>44%</td></tr><tr><td>60</td><td>CDS-caps-br-text+brent9mos</td><td>R=6-Weight=6:R-mst-weight=+1:R</td><td> -- </td><td> -- </td><td>none</td><td>RNDc</td><td> 84 </td><td>70%</td><td>44%</td></tr><tr><td>60</td><td>CDS-caps-br-text+brent9mos</td><td>R=6-Weight=6:R-mst-weight=+1:R</td><td> -- </td><td> -- </td><td>none</td><td>RNDc</td><td> 112 </td><td>69%</td><td>44%</td></tr><tr><td>60</td><td>CDS-caps-br-text+brent9mos</td><td>R=6-Weight=6:R-mst-weight=+1:R</td><td> -- </td><td> -- </td><td>none</td><td>RNDc</td><td> 34 </td><td>70%</td><td>44%</td></tr><tr><td>60</td><td>CDS-caps-br-text+brent9mos</td><td>R=6-Weight=6:R-mst-weight=+1:R</td><td> -- </td><td> -- </td><td>none</td><td>RNDc</td><td> 87 </td><td>70%</td><td>44%</td></tr><tr><td>60</td><td>CDS-caps-br-text+brent9mos</td><td>R=6-Weight=6:R-mst-weight=+1:R</td><td> -- </td><td> -- </td><td>none</td><td>RNDc</td><td> 71 </td><td>70%</td><td>44%</td></tr><tr><td>60</td><td>CDS-caps-br-text+brent9mos</td><td>R=6-Weight=6:R-mst-weight=+1:R</td><td> -- </td><td> -- </td><td>none</td><td>RNDc</td><td> 59 </td><td>70%</td><td>44%</td></tr><tr><td>60</td><td>CDS-caps-br-text+brent9mos</td><td>R=6-Weight=6:R-mst-weight=+1:R</td><td> -- </td><td> -- </td><td>none</td><td>RNDc</td><td> 95 </td><td>70%</td><td>44%</td></tr><tr><td>60</td><td>CDS-caps-br-text+brent9mos</td><td>R=6-Weight=6:R-mst-weight=+1:R</td><td> -- </td><td> -- </td><td>none</td><td>RNDc</td><td> 102 </td><td>70%</td><td>44%</td></tr><tr><td>60</td><td>CDS-caps-br-text+brent9mos</td><td>R=6-Weight=6:R-mst-weight=+1:R</td><td> -- </td><td> -- </td><td>none</td><td>RNDc</td><td> 105 </td><td>69%</td><td>44%</td></tr><tr><td>58</td><td>CDS-caps-br-text+brent9mos</td><td>LG-English</td><td> -- </td><td> -- </td><td>none</td><td>RNDd</td><td> 76 </td><td>41%</td><td>24%</td></tr><tr><td>58</td><td>CDS-caps-br-text+brent9mos</td><td>LG-English</td><td> -- </td><td> -- </td><td>none</td><td>RNDd</td><td> 31 </td><td>41%</td><td>24%</td></tr><tr><td>58</td><td>CDS-caps-br-text+brent9mos</td><td>LG-English</td><td> -- </td><td> -- </td><td>none</td><td>RNDd</td><td> 74 </td><td>41%</td><td>24%</td></tr><tr><td>58</td><td>CDS-caps-br-text+brent9mos</td><td>LG-English</td><td> -- </td><td> -- </td><td>none</td><td>RNDd</td><td> 51 </td><td>41%</td><td>24%</td></tr><tr><td>58</td><td>CDS-caps-br-text+brent9mos</td><td>LG-English</td><td> -- </td><td> -- </td><td>none</td><td>RNDd</td><td> 83 </td><td>41%</td><td>24%</td></tr><tr><td>58</td><td>CDS-caps-br-text+brent9mos</td><td>LG-English</td><td> -- </td><td> -- </td><td>none</td><td>RNDd</td><td> 109 </td><td>40%</td><td>24%</td></tr><tr><td>58</td><td>CDS-caps-br-text+brent9mos</td><td>LG-English</td><td> -- </td><td> -- </td><td>none</td><td>RNDd</td><td> 61 </td><td>41%</td><td>24%</td></tr><tr><td>58</td><td>CDS-caps-br-text+brent9mos</td><td>LG-English</td><td> -- </td><td> -- </td><td>none</td><td>RNDd</td><td> 120 </td><td>40%</td><td>24%</td></tr><tr><td>58</td><td>CDS-caps-br-text+brent9mos</td><td>LG-English</td><td> -- </td><td> -- </td><td>none</td><td>RNDd</td><td> 54 </td><td>41%</td><td>24%</td></tr><tr><td>58</td><td>CDS-caps-br-text+brent9mos</td><td>LG-English</td><td> -- </td><td> -- </td><td>none</td><td>RNDd</td><td> 119 </td><td>40%</td><td>24%</td></tr><tr><td>60</td><td>CDS-caps-br-text+brent9mos</td><td>R=6-Weight=6:R-mst-weight=+1:R</td><td> -- </td><td> -- </td><td>none</td><td>RNDd</td><td> 58 </td><td>41%</td><td>20%</td></tr><tr><td>60</td><td>CDS-caps-br-text+brent9mos</td><td>R=6-Weight=6:R-mst-weight=+1:R</td><td> -- </td><td> -- </td><td>none</td><td>RNDd</td><td> 102 </td><td>41%</td><td>20%</td></tr><tr><td>60</td><td>CDS-caps-br-text+brent9mos</td><td>R=6-Weight=6:R-mst-weight=+1:R</td><td> -- </td><td> -- </td><td>none</td><td>RNDd</td><td> 42 </td><td>41%</td><td>20%</td></tr><tr><td>60</td><td>CDS-caps-br-text+brent9mos</td><td>R=6-Weight=6:R-mst-weight=+1:R</td><td> -- </td><td> -- </td><td>none</td><td>RNDd</td><td> 48 </td><td>41%</td><td>20%</td></tr><tr><td>60</td><td>CDS-caps-br-text+brent9mos</td><td>R=6-Weight=6:R-mst-weight=+1:R</td><td> -- </td><td> -- </td><td>none</td><td>RNDd</td><td> 46 </td><td>41%</td><td>20%</td></tr><tr><td>60</td><td>CDS-caps-br-text+brent9mos</td><td>R=6-Weight=6:R-mst-weight=+1:R</td><td> -- </td><td> -- </td><td>none</td><td>RNDd</td><td> 62 </td><td>41%</td><td>20%</td></tr><tr><td>60</td><td>CDS-caps-br-text+brent9mos</td><td>R=6-Weight=6:R-mst-weight=+1:R</td><td> -- </td><td> -- </td><td>none</td><td>RNDd</td><td> 90 </td><td>41%</td><td>20%</td></tr><tr><td>60</td><td>CDS-caps-br-text+brent9mos</td><td>R=6-Weight=6:R-mst-weight=+1:R</td><td> -- </td><td> -- </td><td>none</td><td>RNDd</td><td> 30 </td><td>41%</td><td>20%</td></tr><tr><td>60</td><td>CDS-caps-br-text+brent9mos</td><td>R=6-Weight=6:R-mst-weight=+1:R</td><td> -- </td><td> -- </td><td>none</td><td>RNDd</td><td> 43 </td><td>41%</td><td>20%</td></tr><tr><td>60</td><td>CDS-caps-br-text+brent9mos</td><td>R=6-Weight=6:R-mst-weight=+1:R</td><td> -- </td><td> -- </td><td>none</td><td>RNDd</td><td> 78 </td><td>41%</td><td>20%</td></tr><tr><td>58</td><td>CDS-caps-br-text+brent9mos</td><td>LG-English</td><td> -- </td><td> -- </td><td>none</td><td>RNDid</td><td> 75 </td><td>41%</td><td>24%</td></tr><tr><td>58</td><td>CDS-caps-br-text+brent9mos</td><td>LG-English</td><td> -- </td><td> -- </td><td>none</td><td>RNDid</td><td> 33 </td><td>41%</td><td>24%</td></tr><tr><td>58</td><td>CDS-caps-br-text+brent9mos</td><td>LG-English</td><td> -- </td><td> -- </td><td>none</td><td>RNDid</td><td> 33 </td><td>41%</td><td>24%</td></tr><tr><td>58</td><td>CDS-caps-br-text+brent9mos</td><td>LG-English</td><td> -- </td><td> -- </td><td>none</td><td>RNDid</td><td> 62 </td><td>41%</td><td>24%</td></tr><tr><td>58</td><td>CDS-caps-br-text+brent9mos</td><td>LG-English</td><td> -- </td><td> -- </td><td>none</td><td>RNDid</td><td> 64 </td><td>41%</td><td>24%</td></tr><tr><td>58</td><td>CDS-caps-br-text+brent9mos</td><td>LG-English</td><td> -- </td><td> -- </td><td>none</td><td>RNDid</td><td> 73 </td><td>41%</td><td>24%</td></tr><tr><td>58</td><td>CDS-caps-br-text+brent9mos</td><td>LG-English</td><td> -- </td><td> -- </td><td>none</td><td>RNDid</td><td> 69 </td><td>41%</td><td>24%</td></tr><tr><td>58</td><td>CDS-caps-br-text+brent9mos</td><td>LG-English</td><td> -- </td><td> -- </td><td>none</td><td>RNDid</td><td> 64 </td><td>41%</td><td>24%</td></tr><tr><td>58</td><td>CDS-caps-br-text+brent9mos</td><td>LG-English</td><td> -- </td><td> -- </td><td>none</td><td>RNDid</td><td> 58 </td><td>41%</td><td>24%</td></tr><tr><td>58</td><td>CDS-caps-br-text+brent9mos</td><td>LG-English</td><td> -- </td><td> -- </td><td>none</td><td>RNDid</td><td> 77 </td><td>41%</td><td>24%</td></tr><tr><td>60</td><td>CDS-caps-br-text+brent9mos</td><td>R=6-Weight=6:R-mst-weight=+1:R</td><td> -- </td><td> -- </td><td>none</td><td>RNDid</td><td> 51 </td><td>41%</td><td>20%</td></tr><tr><td>60</td><td>CDS-caps-br-text+brent9mos</td><td>R=6-Weight=6:R-mst-weight=+1:R</td><td> -- </td><td> -- </td><td>none</td><td>RNDid</td><td> 31 </td><td>41%</td><td>20%</td></tr><tr><td>60</td><td>CDS-caps-br-text+brent9mos</td><td>R=6-Weight=6:R-mst-weight=+1:R</td><td> -- </td><td> -- </td><td>none</td><td>RNDid</td><td> 61 </td><td>41%</td><td>20%</td></tr><tr><td>60</td><td>CDS-caps-br-text+brent9mos</td><td>R=6-Weight=6:R-mst-weight=+1:R</td><td> -- </td><td> -- </td><td>none</td><td>RNDid</td><td> 84 </td><td>41%</td><td>20%</td></tr><tr><td>60</td><td>CDS-caps-br-text+brent9mos</td><td>R=6-Weight=6:R-mst-weight=+1:R</td><td> -- </td><td> -- </td><td>none</td><td>RNDid</td><td> 102 </td><td>41%</td><td>20%</td></tr><tr><td>60</td><td>CDS-caps-br-text+brent9mos</td><td>R=6-Weight=6:R-mst-weight=+1:R</td><td> -- </td><td> -- </td><td>none</td><td>RNDid</td><td> 41 </td><td>41%</td><td>20%</td></tr><tr><td>60</td><td>CDS-caps-br-text+brent9mos</td><td>R=6-Weight=6:R-mst-weight=+1:R</td><td> -- </td><td> -- </td><td>none</td><td>RNDid</td><td> 96 </td><td>41%</td><td>20%</td></tr><tr><td>60</td><td>CDS-caps-br-text+brent9mos</td><td>R=6-Weight=6:R-mst-weight=+1:R</td><td> -- </td><td> -- </td><td>none</td><td>RNDid</td><td> 70 </td><td>41%</td><td>20%</td></tr><tr><td>60</td><td>CDS-caps-br-text+brent9mos</td><td>R=6-Weight=6:R-mst-weight=+1:R</td><td> -- </td><td> -- </td><td>none</td><td>RNDid</td><td> 78 </td><td>41%</td><td>20%</td></tr><tr><td>60</td><td>CDS-caps-br-text+brent9mos</td><td>R=6-Weight=6:R-mst-weight=+1:R</td><td> -- </td><td> -- </td><td>none</td><td>RNDid</td><td> 46 </td><td>41%</td><td>20%</td></tr></table>"
      ],
      "text/plain": [
       "<IPython.core.display.HTML object>"
      ]
     },
     "metadata": {},
     "output_type": "display_data"
    }
   ],
   "source": [
    "display(html_table([header]+long_table))"
   ]
  },
  {
   "cell_type": "code",
   "execution_count": 12,
   "metadata": {},
   "outputs": [
    {
     "name": "stdout",
     "output_type": "stream",
     "text": [
      "2018-08-28 16:38:05 UTC :: finished, elapsed 0.6 hours\n",
      "Average results saved to /home/obaskov/language-learning/output/Random-Clusters-2018-08-28-multi/short_table.txt\n",
      "Detailed results for every run saved to /home/obaskov/language-learning/output/Random-Clusters-2018-08-28-multi/long_table.txt\n"
     ]
    }
   ],
   "source": [
    "from write_files import list2file\n",
    "print(UTC(), ':: finished, elapsed', str(round((time.time()-start)/3600.0, 1)), 'hours')\n",
    "table_str = list2file(table, out_dir+'/short_table.txt')\n",
    "if runs == (1,1):\n",
    "    print('Results saved to', out_dir + '/short_table.txt')\n",
    "else:\n",
    "    long_table_str = list2file(long_table, out_dir+'/long_table.txt')\n",
    "    print('Average results saved to', out_dir + '/short_table.txt\\n'\n",
    "          'Detailed results for every run saved to', out_dir + '/long_table.txt')"
   ]
  },
  {
   "cell_type": "code",
   "execution_count": null,
   "metadata": {},
   "outputs": [],
   "source": []
  }
 ],
 "metadata": {
  "kernelspec": {
   "display_name": "Python [conda env:ull]",
   "language": "python",
   "name": "conda-env-ull-py"
  },
  "language_info": {
   "codemirror_mode": {
    "name": "ipython",
    "version": 3
   },
   "file_extension": ".py",
   "mimetype": "text/x-python",
   "name": "python",
   "nbconvert_exporter": "python",
   "pygments_lexer": "ipython3",
   "version": "3.6.6"
  },
  "toc": {
   "base_numbering": 1,
   "nav_menu": {},
   "number_sections": true,
   "sideBar": true,
   "skip_h1_title": false,
   "title_cell": "Table of Contents",
   "title_sidebar": "Contents",
   "toc_cell": false,
   "toc_position": {},
   "toc_section_display": true,
   "toc_window_display": false
  }
 },
 "nbformat": 4,
 "nbformat_minor": 2
}
