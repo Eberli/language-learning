{
 "cells": [
  {
   "cell_type": "markdown",
   "metadata": {},
   "source": [
    "# Gutenberg Children books test `2018-08-09`\n",
    "    \n",
    "Learn Grammar only, no tests. Server `88.99.210.144`. Learned Grammar is shared via  \n",
    "[http://langlearn.singularitynet.io/data/clustering_2018/Gutenberg-Children-Books-2018-08-08/](http://langlearn.singularitynet.io/data/clustering_2018/Gutenberg-Children-Books-2018-08-08/).  "
   ]
  },
  {
   "cell_type": "markdown",
   "metadata": {},
   "source": [
    "## Basic settings"
   ]
  },
  {
   "cell_type": "code",
   "execution_count": 1,
   "metadata": {},
   "outputs": [
    {
     "name": "stdout",
     "output_type": "stream",
     "text": [
      "2018-08-09 10:59:47 UTC :: module_path = /home/obaskov/language-learning\n"
     ]
    }
   ],
   "source": [
    "import os, sys, time\n",
    "from IPython.display import display\n",
    "module_path = os.path.abspath(os.path.join('..'))\n",
    "if module_path not in sys.path: sys.path.append(module_path)\n",
    "gl_path = module_path + '/src/grammar_learner'\n",
    "if os.path.exists(gl_path) and gl_path not in sys.path: sys.path.append(gl_path)\n",
    "from utl import UTC\n",
    "from widgets import html_table\n",
    "from read_files import check_dir\n",
    "from pqa_table import table_no_pqa\n",
    "prefix = ''\n",
    "tmpath = module_path + '/tmp/'\n",
    "check_dir(tmpath, True, 'none')\n",
    "table = []\n",
    "long_table = []\n",
    "header = ['Line','Corpus','Parsing','LW','\".\"','Generalization','Space','Rules','PA','PQ']\n",
    "start = time.time()\n",
    "print(UTC(), ':: module_path =', module_path)"
   ]
  },
  {
   "cell_type": "markdown",
   "metadata": {},
   "source": [
    "## Grammar Learner parameters"
   ]
  },
  {
   "cell_type": "code",
   "execution_count": 2,
   "metadata": {},
   "outputs": [],
   "source": [
    "out_dir = module_path + '/output/Gutenberg-Children-Books-' + str(UTC())[:10]\n",
    "runs = (1,1)    # (attempts to learn grammar per line, grammar tests per attempt)\n",
    "if runs != (1,1): out_dir += '-multi'\n",
    "kwargs = {\n",
    "    'left_wall'     :   ''          ,\n",
    "    'period'        :   False       ,\n",
    "    'clustering'    :   'kmeans'    ,\n",
    "    'cluster_range' :   (20,20,0)   ,\n",
    "    'cluster_criteria': 'silhouette',\n",
    "    'cluster_level' :   1           ,\n",
    "    'tmpath'        :   tmpath      , \n",
    "    'verbose'       :   'min'       ,\n",
    "    'template_path' :   'poc-turtle',\n",
    "    'categories_generalization': 'off', }\n",
    "lines = [\n",
    "    [82, 'Gutenberg-Children-Books'  , 'LG-English'                     ,0,0, 'none'  ], \n",
    "    [83, 'Gutenberg-Children-Books'  , 'LG-English'                     ,0,0, 'rules' ], \n",
    "    [84, 'Gutenberg-Children-Books'  , 'R=6-Weight=6:R-mst-weight=+1:R' ,0,0, 'none'  ], \n",
    "    [85, 'Gutenberg-Children-Books'  , 'R=6-Weight=6:R-mst-weight=+1:R' ,0,0, 'rules' ]]\n",
    "rp = module_path + '/data/Gutenberg-Children-Books/LG-English'\n",
    "cp = rp  # corpus path = reference_path :: use 'gold' parses as test corpus"
   ]
  },
  {
   "cell_type": "markdown",
   "metadata": {},
   "source": [
    "## Connectors-DRK-Connectors"
   ]
  },
  {
   "cell_type": "code",
   "execution_count": 3,
   "metadata": {},
   "outputs": [
    {
     "name": "stdout",
     "output_type": "stream",
     "text": [
      "best_clusters\n",
      "best_clusters\n",
      "CPU times: user 21min 22s, sys: 6.54 s, total: 21min 28s\n",
      "Wall time: 19min 56s\n"
     ]
    }
   ],
   "source": [
    "%%time\n",
    "#%%capture\n",
    "kwargs['context'] = 1\n",
    "kwargs['word_space'] = 'vectors'\n",
    "kwargs['clustering'] = 'kmeans'\n",
    "kwargs['grammar_rules'] = 1\n",
    "average21, long21 = table_no_pqa(lines, out_dir, cp, rp, runs, **kwargs)\n",
    "table.extend(average21)\n",
    "long_table.extend(long21)"
   ]
  },
  {
   "cell_type": "code",
   "execution_count": 4,
   "metadata": {},
   "outputs": [
    {
     "data": {
      "text/html": [
       "<table><tr><td>Line</td><td>Corpus</td><td>Parsing</td><td>LW</td><td>\".\"</td><td>Generalization</td><td>Space</td><td>Rules</td><td>PA</td><td>PQ</td></tr><tr><td>82</td><td>Gutenberg-Children-Books</td><td>LG-English</td><td> -- </td><td> -- </td><td>none</td><td>cDRKc</td><td>20</td><td>---</td><td>---</td></tr><tr><td>84</td><td>Gutenberg-Children-Books</td><td>R=6-Weight=6:R-mst-weight=+1:R</td><td> -- </td><td> -- </td><td>none</td><td>cDRKc</td><td>20</td><td>---</td><td>---</td></tr></table>"
      ],
      "text/plain": [
       "<IPython.core.display.HTML object>"
      ]
     },
     "metadata": {},
     "output_type": "display_data"
    },
    {
     "name": "stdout",
     "output_type": "stream",
     "text": [
      "2018-08-09 11:19:44 UTC\n"
     ]
    }
   ],
   "source": [
    "display(html_table([header]+average21))\n",
    "print(UTC())"
   ]
  },
  {
   "cell_type": "markdown",
   "metadata": {},
   "source": [
    "## Connectors-DRK-Disjuncts"
   ]
  },
  {
   "cell_type": "code",
   "execution_count": 5,
   "metadata": {},
   "outputs": [
    {
     "name": "stdout",
     "output_type": "stream",
     "text": [
      "best_clusters\n",
      "best_clusters\n",
      "best_clusters\n",
      "best_clusters\n",
      "CPU times: user 45min 18s, sys: 12.7 s, total: 45min 31s\n",
      "Wall time: 42min\n"
     ]
    }
   ],
   "source": [
    "%%time\n",
    "#%%capture\n",
    "kwargs['context'] = 1\n",
    "kwargs['word_space'] = 'vectors'\n",
    "kwargs['clustering'] = 'kmeans'\n",
    "kwargs['grammar_rules'] = 2\n",
    "average22, long22 = table_no_pqa(lines, out_dir, cp, rp, runs, **kwargs)\n",
    "table.extend(average22)\n",
    "long_table.extend(long22)"
   ]
  },
  {
   "cell_type": "code",
   "execution_count": 6,
   "metadata": {
    "scrolled": true
   },
   "outputs": [
    {
     "data": {
      "text/html": [
       "<table><tr><td>Line</td><td>Corpus</td><td>Parsing</td><td>LW</td><td>\".\"</td><td>Generalization</td><td>Space</td><td>Rules</td><td>PA</td><td>PQ</td></tr><tr><td>82</td><td>Gutenberg-Children-Books</td><td>LG-English</td><td> -- </td><td> -- </td><td>none</td><td>cDRKd</td><td>20</td><td>---</td><td>---</td></tr><tr><td>83</td><td>Gutenberg-Children-Books</td><td>LG-English</td><td> -- </td><td> -- </td><td>rules</td><td>cDRKd</td><td>20</td><td>---</td><td>---</td></tr><tr><td>84</td><td>Gutenberg-Children-Books</td><td>R=6-Weight=6:R-mst-weight=+1:R</td><td> -- </td><td> -- </td><td>none</td><td>cDRKd</td><td>20</td><td>---</td><td>---</td></tr><tr><td>85</td><td>Gutenberg-Children-Books</td><td>R=6-Weight=6:R-mst-weight=+1:R</td><td> -- </td><td> -- </td><td>rules</td><td>cDRKd</td><td>20</td><td>---</td><td>---</td></tr></table>"
      ],
      "text/plain": [
       "<IPython.core.display.HTML object>"
      ]
     },
     "metadata": {},
     "output_type": "display_data"
    },
    {
     "name": "stdout",
     "output_type": "stream",
     "text": [
      "2018-08-09 12:01:44 UTC\n"
     ]
    }
   ],
   "source": [
    "display(html_table([header]+average22))\n",
    "print(UTC())"
   ]
  },
  {
   "cell_type": "markdown",
   "metadata": {},
   "source": [
    "## Disjuncts-DRK-Disjuncts"
   ]
  },
  {
   "cell_type": "code",
   "execution_count": 7,
   "metadata": {},
   "outputs": [
    {
     "name": "stdout",
     "output_type": "stream",
     "text": [
      "best_clusters\n",
      "best_clusters\n",
      "best_clusters\n",
      "best_clusters\n",
      "CPU times: user 45min 30s, sys: 18.9 s, total: 45min 49s\n",
      "Wall time: 43min 12s\n"
     ]
    }
   ],
   "source": [
    "%%time\n",
    "#%%capture\n",
    "kwargs['context'] = 2\n",
    "kwargs['word_space'] = 'vectors'\n",
    "kwargs['clustering'] = 'kmeans'\n",
    "kwargs['grammar_rules'] = 2\n",
    "average23, long23 = table_no_pqa(lines, out_dir, cp, rp, runs, **kwargs)\n",
    "table.extend(average23)\n",
    "long_table.extend(long23)"
   ]
  },
  {
   "cell_type": "code",
   "execution_count": 8,
   "metadata": {},
   "outputs": [
    {
     "data": {
      "text/html": [
       "<table><tr><td>Line</td><td>Corpus</td><td>Parsing</td><td>LW</td><td>\".\"</td><td>Generalization</td><td>Space</td><td>Rules</td><td>PA</td><td>PQ</td></tr><tr><td>82</td><td>Gutenberg-Children-Books</td><td>LG-English</td><td> -- </td><td> -- </td><td>none</td><td>dDRKd</td><td>20</td><td>---</td><td>---</td></tr><tr><td>83</td><td>Gutenberg-Children-Books</td><td>LG-English</td><td> -- </td><td> -- </td><td>rules</td><td>dDRKd</td><td>20</td><td>---</td><td>---</td></tr><tr><td>84</td><td>Gutenberg-Children-Books</td><td>R=6-Weight=6:R-mst-weight=+1:R</td><td> -- </td><td> -- </td><td>none</td><td>dDRKd</td><td>20</td><td>---</td><td>---</td></tr><tr><td>85</td><td>Gutenberg-Children-Books</td><td>R=6-Weight=6:R-mst-weight=+1:R</td><td> -- </td><td> -- </td><td>rules</td><td>dDRKd</td><td>20</td><td>---</td><td>---</td></tr></table>"
      ],
      "text/plain": [
       "<IPython.core.display.HTML object>"
      ]
     },
     "metadata": {},
     "output_type": "display_data"
    },
    {
     "name": "stdout",
     "output_type": "stream",
     "text": [
      "2018-08-09 12:44:56 UTC\n"
     ]
    }
   ],
   "source": [
    "display(html_table([header]+average23))\n",
    "print(UTC())"
   ]
  },
  {
   "cell_type": "markdown",
   "metadata": {},
   "source": [
    "# All tests"
   ]
  },
  {
   "cell_type": "code",
   "execution_count": 9,
   "metadata": {},
   "outputs": [
    {
     "data": {
      "text/html": [
       "<table><tr><td>Line</td><td>Corpus</td><td>Parsing</td><td>LW</td><td>\".\"</td><td>Generalization</td><td>Space</td><td>Rules</td><td>PA</td><td>PQ</td></tr><tr><td>82</td><td>Gutenberg-Children-Books</td><td>LG-English</td><td> -- </td><td> -- </td><td>none</td><td>cDRKc</td><td> 20 </td><td>---</td><td>--</td></tr><tr><td>84</td><td>Gutenberg-Children-Books</td><td>R=6-Weight=6:R-mst-weight=+1:R</td><td> -- </td><td> -- </td><td>none</td><td>cDRKc</td><td> 20 </td><td>---</td><td>--</td></tr><tr><td>82</td><td>Gutenberg-Children-Books</td><td>LG-English</td><td> -- </td><td> -- </td><td>none</td><td>cDRKd</td><td> 20 </td><td>---</td><td>--</td></tr><tr><td>83</td><td>Gutenberg-Children-Books</td><td>LG-English</td><td> -- </td><td> -- </td><td>rules</td><td>cDRKd</td><td> 20 </td><td>---</td><td>--</td></tr><tr><td>84</td><td>Gutenberg-Children-Books</td><td>R=6-Weight=6:R-mst-weight=+1:R</td><td> -- </td><td> -- </td><td>none</td><td>cDRKd</td><td> 20 </td><td>---</td><td>--</td></tr><tr><td>85</td><td>Gutenberg-Children-Books</td><td>R=6-Weight=6:R-mst-weight=+1:R</td><td> -- </td><td> -- </td><td>rules</td><td>cDRKd</td><td> 20 </td><td>---</td><td>--</td></tr><tr><td>82</td><td>Gutenberg-Children-Books</td><td>LG-English</td><td> -- </td><td> -- </td><td>none</td><td>dDRKd</td><td> 20 </td><td>---</td><td>--</td></tr><tr><td>83</td><td>Gutenberg-Children-Books</td><td>LG-English</td><td> -- </td><td> -- </td><td>rules</td><td>dDRKd</td><td> 20 </td><td>---</td><td>--</td></tr><tr><td>84</td><td>Gutenberg-Children-Books</td><td>R=6-Weight=6:R-mst-weight=+1:R</td><td> -- </td><td> -- </td><td>none</td><td>dDRKd</td><td> 20 </td><td>---</td><td>--</td></tr><tr><td>85</td><td>Gutenberg-Children-Books</td><td>R=6-Weight=6:R-mst-weight=+1:R</td><td> -- </td><td> -- </td><td>rules</td><td>dDRKd</td><td> 20 </td><td>---</td><td>--</td></tr></table>"
      ],
      "text/plain": [
       "<IPython.core.display.HTML object>"
      ]
     },
     "metadata": {},
     "output_type": "display_data"
    }
   ],
   "source": [
    "display(html_table([header]+long_table))"
   ]
  },
  {
   "cell_type": "code",
   "execution_count": 10,
   "metadata": {},
   "outputs": [
    {
     "name": "stdout",
     "output_type": "stream",
     "text": [
      "2018-08-09 12:44:56 UTC :: finished, elapsed 1.8 hours\n",
      "Results saved to /home/obaskov/language-learning/output/Gutenberg-Children-Books-2018-08-09/short_table.txt\n"
     ]
    }
   ],
   "source": [
    "from write_files import list2file\n",
    "print(UTC(), ':: finished, elapsed', str(round((time.time()-start)/3600.0, 1)), 'hours')\n",
    "table_str = list2file(table, out_dir+'/short_table.txt')\n",
    "if runs == (1,1):\n",
    "    print('Results saved to', out_dir + '/short_table.txt')\n",
    "else:\n",
    "    long_table_str = list2file(long_table, out_dir+'/long_table.txt')\n",
    "    print('Average results saved to', out_dir + '/short_table.txt\\n'\n",
    "          'Detailed results for every run saved to', out_dir + '/long_table.txt')"
   ]
  },
  {
   "cell_type": "code",
   "execution_count": null,
   "metadata": {},
   "outputs": [],
   "source": []
  }
 ],
 "metadata": {
  "kernelspec": {
   "display_name": "Python [default]",
   "language": "python",
   "name": "python3"
  },
  "language_info": {
   "codemirror_mode": {
    "name": "ipython",
    "version": 3
   },
   "file_extension": ".py",
   "mimetype": "text/x-python",
   "name": "python",
   "nbconvert_exporter": "python",
   "pygments_lexer": "ipython3",
   "version": "3.6.6"
  },
  "toc": {
   "base_numbering": 1,
   "nav_menu": {},
   "number_sections": true,
   "sideBar": true,
   "skip_h1_title": false,
   "title_cell": "Table of Contents",
   "title_sidebar": "Contents",
   "toc_cell": false,
   "toc_position": {},
   "toc_section_display": true,
   "toc_window_display": false
  }
 },
 "nbformat": 4,
 "nbformat_minor": 2
}
