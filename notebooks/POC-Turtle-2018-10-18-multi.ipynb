{
 "cells": [
  {
   "cell_type": "markdown",
   "metadata": {},
   "source": [
    "# POC-Turtle consistency test `2018-10-18` MULTI 10x\n",
    "\n",
    "Link Grammar 5.4.4, Grammar Tester version ~2018-08-14, server `94.130.238.118`.    \n",
    "Each line is calculated 10x, parsing metrics tested 1x for each line.  \n",
    "This notebook is shared as static [POC-Turtle-2018-10-18-multi.html](http://langlearn.singularitynet.io/data/clustering_2018/html/POC-Turtle-2018-10-18-multi.html)"
   ]
  },
  {
   "cell_type": "markdown",
   "metadata": {},
   "source": [
    "## Basic settings"
   ]
  },
  {
   "cell_type": "code",
   "execution_count": 1,
   "metadata": {
    "ExecuteTime": {
     "end_time": "2018-10-18T10:57:32.828614Z",
     "start_time": "2018-10-18T10:57:32.105425Z"
    },
    "scrolled": true
   },
   "outputs": [
    {
     "name": "stdout",
     "output_type": "stream",
     "text": [
      "2018-10-18 10:57:32 UTC :: module_path = /home/obaskov/py/language-learning\n"
     ]
    }
   ],
   "source": [
    "import os, sys, time\n",
    "module_path = os.path.abspath(os.path.join('..'))\n",
    "if module_path not in sys.path: sys.path.append(module_path)\n",
    "from src.grammar_learner.utl import UTC\n",
    "from src.grammar_learner.read_files import check_dir\n",
    "from src.grammar_learner.write_files import list2file\n",
    "from src.grammar_learner.widgets import html_table\n",
    "from src.grammar_learner.pqa_table import table_rows\n",
    "tmpath = module_path + '/tmp/'\n",
    "check_dir(tmpath, True, 'none')\n",
    "table = []\n",
    "long_table = []\n",
    "start = time.time()\n",
    "print(UTC(), ':: module_path =', module_path)"
   ]
  },
  {
   "cell_type": "markdown",
   "metadata": {},
   "source": [
    "## Grammar Learner corpus-specific parameters"
   ]
  },
  {
   "cell_type": "code",
   "execution_count": 2,
   "metadata": {
    "ExecuteTime": {
     "end_time": "2018-10-18T10:57:32.835348Z",
     "start_time": "2018-10-18T10:57:32.830205Z"
    }
   },
   "outputs": [],
   "source": [
    "corpus = 'POC-Turtle'\n",
    "out_dir = module_path + '/output/'+ corpus + '-' + str(UTC())[:10]\n",
    "runs = (10,1)    # (attempts to learn grammar per line, grammar tests per attempt)\n",
    "if runs != (1,1): out_dir += '-multi'\n",
    "kwargs = {\n",
    "    'left_wall'     :   ''          ,\n",
    "    'period'        :   False       ,\n",
    "    'context'       :   1           ,\n",
    "    'word_space'    :   'vectors'   ,\n",
    "    'clustering'    :   ('kmeans', 'kmeans++', 10), # 20? *\n",
    "    'cluster_range' :   (20,2,5)    ,               # 2,50,10? *\n",
    "    'grammar_rules' :   2           ,\n",
    "    'tmpath'        :   tmpath      , \n",
    "    'template_path' :   'poc-turtle',\n",
    "    'linkage_limit' :   1000        ,\n",
    "    'verbose'       :   'min'       }\n",
    "lines = [\n",
    "    [5, 'POC-Turtle'    , 'MST-fixed-manually'              , 0  , 0 , 'none'  ],\n",
    "    [6, 'POC-Turtle'    , 'R=6-Weight=6:R-mst-weight=+1:R'  , 0  , 0 , 'none'  ],\n",
    "    [7, 'POC-Turtle'    , 'R=6-Weight=1-no-mst-weighting'   , 0  , 0 , 'none'  ],\n",
    "    [8, 'POC-Turtle'    , 'LG-ANY-all-parses'               , 0  , 0 , 'none'  ]]\n",
    "# cp,rp :: (test) corpus_path and reference_path\n",
    "cp = module_path + '/data/POC-Turtle/poc-turtle-corpus.txt'\n",
    "rp = module_path + '/data/POC-Turtle/MST-fixed-manually/poc-turtle-parses-gold.txt'"
   ]
  },
  {
   "cell_type": "markdown",
   "metadata": {},
   "source": [
    "# ULL Project Plan ⇒ Parses ⇒ lines 5-11"
   ]
  },
  {
   "cell_type": "markdown",
   "metadata": {},
   "source": [
    "## Connectors-DRK-Connectors"
   ]
  },
  {
   "cell_type": "code",
   "execution_count": 3,
   "metadata": {
    "ExecuteTime": {
     "end_time": "2018-10-18T10:57:57.371858Z",
     "start_time": "2018-10-18T10:57:32.837036Z"
    }
   },
   "outputs": [],
   "source": [
    "%%capture\n",
    "kwargs['context'] = 1\n",
    "kwargs['grammar_rules'] = 1\n",
    "average21, long21, header = table_rows(lines, out_dir, cp, rp, runs, **kwargs)\n",
    "table.extend(average21)\n",
    "long_table.extend(long21)"
   ]
  },
  {
   "cell_type": "markdown",
   "metadata": {},
   "source": [
    "`#*` Settings 20/10:  \n",
    "clustering n_init / top_n = 18/9 seemed enough, but:  \n",
    "2 of 10 runs found 9 clusters to be the best choice in the previous run 2018-08-05 07:59:52 UTC  \n",
    "Settings 20/10 -- still 1 run prefers 9 clusters :("
   ]
  },
  {
   "cell_type": "code",
   "execution_count": 4,
   "metadata": {
    "ExecuteTime": {
     "end_time": "2018-10-18T10:57:57.379229Z",
     "start_time": "2018-10-18T10:57:57.373993Z"
    }
   },
   "outputs": [
    {
     "data": {
      "text/html": [
       "<table><tr><td>Line</td><td>Corpus</td><td>Parsing</td><td>LW</td><td>RW</td><td>Gen.</td><td>Space</td><td>Rules</td><td>Silhouette</td><td>PA</td><td>PQ</td><td>PQ/PA</td></tr><tr><td>5</td><td>POC-Turtle</td><td>MST-fixed-manually</td><td> --- </td><td> --- </td><td>none</td><td>cDRKc</td><td>4</td><td>0.75</td><td>100%</td><td>100%</td><td>1.0</td></tr><tr><td>6</td><td>POC-Turtle</td><td>R=6-Weight=6:R-mst-weight=+1:R</td><td> --- </td><td> --- </td><td>none</td><td>cDRKc</td><td>4</td><td>0.56</td><td>100%</td><td>100%</td><td>1.0</td></tr><tr><td>7</td><td>POC-Turtle</td><td>R=6-Weight=1-no-mst-weighting</td><td> --- </td><td> --- </td><td>none</td><td>cDRKc</td><td>7</td><td>0.4</td><td>67%</td><td>0%</td><td>0.0</td></tr><tr><td>8</td><td>POC-Turtle</td><td>LG-ANY-all-parses</td><td> --- </td><td> --- </td><td>none</td><td>cDRKc</td><td>4</td><td>0.59</td><td>100%</td><td>100%</td><td>1.0</td></tr></table>"
      ],
      "text/plain": [
       "<IPython.core.display.HTML object>"
      ]
     },
     "metadata": {},
     "output_type": "display_data"
    }
   ],
   "source": [
    "display(html_table([header]+average21))"
   ]
  },
  {
   "cell_type": "markdown",
   "metadata": {},
   "source": [
    "## Connectors-DRK-Disjuncts"
   ]
  },
  {
   "cell_type": "code",
   "execution_count": 5,
   "metadata": {
    "ExecuteTime": {
     "end_time": "2018-10-18T10:58:50.154099Z",
     "start_time": "2018-10-18T10:57:57.382982Z"
    }
   },
   "outputs": [],
   "source": [
    "%%capture\n",
    "kwargs['grammar_rules'] = 2\n",
    "average22, long22, header = table_rows(lines, out_dir, cp, rp, runs, **kwargs)\n",
    "table.extend(average22)\n",
    "long_table.extend(long22)"
   ]
  },
  {
   "cell_type": "code",
   "execution_count": 6,
   "metadata": {
    "ExecuteTime": {
     "end_time": "2018-10-18T10:58:50.159142Z",
     "start_time": "2018-10-18T10:58:50.155798Z"
    },
    "scrolled": true
   },
   "outputs": [
    {
     "data": {
      "text/html": [
       "<table><tr><td>Line</td><td>Corpus</td><td>Parsing</td><td>LW</td><td>RW</td><td>Gen.</td><td>Space</td><td>Rules</td><td>Silhouette</td><td>PA</td><td>PQ</td><td>PQ/PA</td></tr><tr><td>5</td><td>POC-Turtle</td><td>MST-fixed-manually</td><td> --- </td><td> --- </td><td>none</td><td>cDRKd</td><td>4</td><td>0.75</td><td>100%</td><td>100%</td><td>1.0</td></tr><tr><td>6</td><td>POC-Turtle</td><td>R=6-Weight=6:R-mst-weight=+1:R</td><td> --- </td><td> --- </td><td>none</td><td>cDRKd</td><td>4</td><td>0.56</td><td>83%</td><td>83%</td><td>1.0</td></tr><tr><td>7</td><td>POC-Turtle</td><td>R=6-Weight=1-no-mst-weighting</td><td> --- </td><td> --- </td><td>none</td><td>cDRKd</td><td>7</td><td>0.4</td><td>0%</td><td>0%</td><td>0.0</td></tr><tr><td>8</td><td>POC-Turtle</td><td>LG-ANY-all-parses</td><td> --- </td><td> --- </td><td>none</td><td>cDRKd</td><td>4</td><td>0.59</td><td>99%</td><td>99%</td><td>1.0</td></tr></table>"
      ],
      "text/plain": [
       "<IPython.core.display.HTML object>"
      ]
     },
     "metadata": {},
     "output_type": "display_data"
    }
   ],
   "source": [
    "display(html_table([header]+average22))"
   ]
  },
  {
   "cell_type": "markdown",
   "metadata": {},
   "source": [
    "## Disjuncts-DRK-Disjuncts"
   ]
  },
  {
   "cell_type": "code",
   "execution_count": 7,
   "metadata": {
    "ExecuteTime": {
     "end_time": "2018-10-18T10:59:10.587031Z",
     "start_time": "2018-10-18T10:58:50.160406Z"
    }
   },
   "outputs": [],
   "source": [
    "%%capture\n",
    "kwargs['context'] = 2\n",
    "average23, long23, header = table_rows(lines, out_dir, cp, rp, runs, **kwargs)\n",
    "table.extend(average23)\n",
    "long_table.extend(long23)"
   ]
  },
  {
   "cell_type": "code",
   "execution_count": 8,
   "metadata": {
    "ExecuteTime": {
     "end_time": "2018-10-18T10:59:10.597222Z",
     "start_time": "2018-10-18T10:59:10.590974Z"
    }
   },
   "outputs": [
    {
     "data": {
      "text/html": [
       "<table><tr><td>Line</td><td>Corpus</td><td>Parsing</td><td>LW</td><td>RW</td><td>Gen.</td><td>Space</td><td>Rules</td><td>Silhouette</td><td>PA</td><td>PQ</td><td>PQ/PA</td></tr><tr><td>5</td><td>POC-Turtle</td><td>MST-fixed-manually</td><td> --- </td><td> --- </td><td>none</td><td>dDRKd</td><td>4</td><td>0.9</td><td>100%</td><td>100%</td><td>1.0</td></tr><tr><td>6</td><td>POC-Turtle</td><td>R=6-Weight=6:R-mst-weight=+1:R</td><td> --- </td><td> --- </td><td>none</td><td>dDRKd</td><td>7</td><td>0.55</td><td>83%</td><td>83%</td><td>1.0</td></tr><tr><td>7</td><td>POC-Turtle</td><td>R=6-Weight=1-no-mst-weighting</td><td> --- </td><td> --- </td><td>none</td><td>dDRKd</td><td>fail</td><td> --- </td><td>0%</td><td>0%</td><td> --- </td></tr><tr><td>8</td><td>POC-Turtle</td><td>LG-ANY-all-parses</td><td> --- </td><td> --- </td><td>none</td><td>dDRKd</td><td>5</td><td>0.61</td><td>93%</td><td>92%</td><td>0.99</td></tr></table>"
      ],
      "text/plain": [
       "<IPython.core.display.HTML object>"
      ]
     },
     "metadata": {},
     "output_type": "display_data"
    }
   ],
   "source": [
    "display(html_table([header]+average23))"
   ]
  },
  {
   "cell_type": "markdown",
   "metadata": {},
   "source": [
    "## Disjuncts-ILE-Disjuncts"
   ]
  },
  {
   "cell_type": "code",
   "execution_count": 9,
   "metadata": {
    "ExecuteTime": {
     "end_time": "2018-10-18T10:59:14.460315Z",
     "start_time": "2018-10-18T10:59:10.600251Z"
    }
   },
   "outputs": [],
   "source": [
    "%%capture\n",
    "kwargs['word_space'] = 'discrete'\n",
    "kwargs['clustering'] = 'group'\n",
    "average24, long24, header = table_rows(lines, out_dir, cp, rp, runs, **kwargs)\n",
    "table.extend(average24)\n",
    "long_table.extend(long24)"
   ]
  },
  {
   "cell_type": "code",
   "execution_count": 10,
   "metadata": {
    "ExecuteTime": {
     "end_time": "2018-10-18T10:59:14.465760Z",
     "start_time": "2018-10-18T10:59:14.462143Z"
    }
   },
   "outputs": [
    {
     "data": {
      "text/html": [
       "<table><tr><td>Line</td><td>Corpus</td><td>Parsing</td><td>LW</td><td>RW</td><td>Gen.</td><td>Space</td><td>Rules</td><td>Silhouette</td><td>PA</td><td>PQ</td><td>PQ/PA</td></tr><tr><td>5</td><td>POC-Turtle</td><td>MST-fixed-manually</td><td> --- </td><td> --- </td><td>none</td><td>dILEd</td><td>6</td><td> --- </td><td>100%</td><td>100%</td><td>1.0</td></tr><tr><td>6</td><td>POC-Turtle</td><td>R=6-Weight=6:R-mst-weight=+1:R</td><td> --- </td><td> --- </td><td>none</td><td>dILEd</td><td>8</td><td> --- </td><td>0%</td><td>0%</td><td>0.0</td></tr><tr><td>7</td><td>POC-Turtle</td><td>R=6-Weight=1-no-mst-weighting</td><td> --- </td><td> --- </td><td>none</td><td>dILEd</td><td>11</td><td> --- </td><td>0%</td><td>0%</td><td>0.0</td></tr><tr><td>8</td><td>POC-Turtle</td><td>LG-ANY-all-parses</td><td> --- </td><td> --- </td><td>none</td><td>dILEd</td><td>8</td><td> --- </td><td>92%</td><td>92%</td><td>1.0</td></tr></table>"
      ],
      "text/plain": [
       "<IPython.core.display.HTML object>"
      ]
     },
     "metadata": {},
     "output_type": "display_data"
    }
   ],
   "source": [
    "display(html_table([header]+average24))"
   ]
  },
  {
   "cell_type": "markdown",
   "metadata": {},
   "source": [
    "# All entries for multi-run test"
   ]
  },
  {
   "cell_type": "code",
   "execution_count": 11,
   "metadata": {
    "ExecuteTime": {
     "end_time": "2018-10-18T10:59:14.545188Z",
     "start_time": "2018-10-18T10:59:14.467309Z"
    }
   },
   "outputs": [
    {
     "data": {
      "text/html": [
       "<table><tr><td>Line</td><td>Corpus</td><td>Parsing</td><td>LW</td><td>RW</td><td>Gen.</td><td>Space</td><td>Rules</td><td>Silhouette</td><td>PA</td><td>PQ</td><td>PQ/PA</td></tr><tr><td>5</td><td>POC-Turtle</td><td>MST-fixed-manually</td><td> --- </td><td> --- </td><td>none</td><td>cDRKc</td><td> 4 </td><td>0.75</td><td>100%</td><td>100%</td><td>1.0</td></tr><tr><td>5</td><td>POC-Turtle</td><td>MST-fixed-manually</td><td> --- </td><td> --- </td><td>none</td><td>cDRKc</td><td> 4 </td><td>0.75</td><td>100%</td><td>100%</td><td>1.0</td></tr><tr><td>5</td><td>POC-Turtle</td><td>MST-fixed-manually</td><td> --- </td><td> --- </td><td>none</td><td>cDRKc</td><td> 4 </td><td>0.75</td><td>100%</td><td>100%</td><td>1.0</td></tr><tr><td>5</td><td>POC-Turtle</td><td>MST-fixed-manually</td><td> --- </td><td> --- </td><td>none</td><td>cDRKc</td><td> 4 </td><td>0.75</td><td>100%</td><td>100%</td><td>1.0</td></tr><tr><td>5</td><td>POC-Turtle</td><td>MST-fixed-manually</td><td> --- </td><td> --- </td><td>none</td><td>cDRKc</td><td> 4 </td><td>0.75</td><td>100%</td><td>100%</td><td>1.0</td></tr><tr><td>5</td><td>POC-Turtle</td><td>MST-fixed-manually</td><td> --- </td><td> --- </td><td>none</td><td>cDRKc</td><td> 4 </td><td>0.75</td><td>100%</td><td>100%</td><td>1.0</td></tr><tr><td>5</td><td>POC-Turtle</td><td>MST-fixed-manually</td><td> --- </td><td> --- </td><td>none</td><td>cDRKc</td><td> 4 </td><td>0.75</td><td>100%</td><td>100%</td><td>1.0</td></tr><tr><td>5</td><td>POC-Turtle</td><td>MST-fixed-manually</td><td> --- </td><td> --- </td><td>none</td><td>cDRKc</td><td> 4 </td><td>0.75</td><td>100%</td><td>100%</td><td>1.0</td></tr><tr><td>5</td><td>POC-Turtle</td><td>MST-fixed-manually</td><td> --- </td><td> --- </td><td>none</td><td>cDRKc</td><td> 4 </td><td>0.75</td><td>100%</td><td>100%</td><td>1.0</td></tr><tr><td>5</td><td>POC-Turtle</td><td>MST-fixed-manually</td><td> --- </td><td> --- </td><td>none</td><td>cDRKc</td><td> 4 </td><td>0.75</td><td>100%</td><td>100%</td><td>1.0</td></tr><tr><td>6</td><td>POC-Turtle</td><td>R=6-Weight=6:R-mst-weight=+1:R</td><td> --- </td><td> --- </td><td>none</td><td>cDRKc</td><td> 4 </td><td>0.56</td><td>100%</td><td>100%</td><td>1.0</td></tr><tr><td>6</td><td>POC-Turtle</td><td>R=6-Weight=6:R-mst-weight=+1:R</td><td> --- </td><td> --- </td><td>none</td><td>cDRKc</td><td> 4 </td><td>0.56</td><td>100%</td><td>100%</td><td>1.0</td></tr><tr><td>6</td><td>POC-Turtle</td><td>R=6-Weight=6:R-mst-weight=+1:R</td><td> --- </td><td> --- </td><td>none</td><td>cDRKc</td><td> 4 </td><td>0.56</td><td>100%</td><td>100%</td><td>1.0</td></tr><tr><td>6</td><td>POC-Turtle</td><td>R=6-Weight=6:R-mst-weight=+1:R</td><td> --- </td><td> --- </td><td>none</td><td>cDRKc</td><td> 4 </td><td>0.56</td><td>100%</td><td>100%</td><td>1.0</td></tr><tr><td>6</td><td>POC-Turtle</td><td>R=6-Weight=6:R-mst-weight=+1:R</td><td> --- </td><td> --- </td><td>none</td><td>cDRKc</td><td> 4 </td><td>0.56</td><td>100%</td><td>100%</td><td>1.0</td></tr><tr><td>6</td><td>POC-Turtle</td><td>R=6-Weight=6:R-mst-weight=+1:R</td><td> --- </td><td> --- </td><td>none</td><td>cDRKc</td><td> 4 </td><td>0.56</td><td>100%</td><td>100%</td><td>1.0</td></tr><tr><td>6</td><td>POC-Turtle</td><td>R=6-Weight=6:R-mst-weight=+1:R</td><td> --- </td><td> --- </td><td>none</td><td>cDRKc</td><td> 4 </td><td>0.56</td><td>100%</td><td>100%</td><td>1.0</td></tr><tr><td>6</td><td>POC-Turtle</td><td>R=6-Weight=6:R-mst-weight=+1:R</td><td> --- </td><td> --- </td><td>none</td><td>cDRKc</td><td> 4 </td><td>0.56</td><td>100%</td><td>100%</td><td>1.0</td></tr><tr><td>6</td><td>POC-Turtle</td><td>R=6-Weight=6:R-mst-weight=+1:R</td><td> --- </td><td> --- </td><td>none</td><td>cDRKc</td><td> 4 </td><td>0.56</td><td>100%</td><td>100%</td><td>1.0</td></tr><tr><td>6</td><td>POC-Turtle</td><td>R=6-Weight=6:R-mst-weight=+1:R</td><td> --- </td><td> --- </td><td>none</td><td>cDRKc</td><td> 4 </td><td>0.56</td><td>100%</td><td>100%</td><td>1.0</td></tr><tr><td>7</td><td>POC-Turtle</td><td>R=6-Weight=1-no-mst-weighting</td><td> --- </td><td> --- </td><td>none</td><td>cDRKc</td><td> 7 </td><td>0.4</td><td>67%</td><td>0%</td><td>0.0</td></tr><tr><td>7</td><td>POC-Turtle</td><td>R=6-Weight=1-no-mst-weighting</td><td> --- </td><td> --- </td><td>none</td><td>cDRKc</td><td> 7 </td><td>0.4</td><td>67%</td><td>0%</td><td>0.0</td></tr><tr><td>7</td><td>POC-Turtle</td><td>R=6-Weight=1-no-mst-weighting</td><td> --- </td><td> --- </td><td>none</td><td>cDRKc</td><td> 7 </td><td>0.4</td><td>67%</td><td>0%</td><td>0.0</td></tr><tr><td>7</td><td>POC-Turtle</td><td>R=6-Weight=1-no-mst-weighting</td><td> --- </td><td> --- </td><td>none</td><td>cDRKc</td><td> 7 </td><td>0.4</td><td>67%</td><td>0%</td><td>0.0</td></tr><tr><td>7</td><td>POC-Turtle</td><td>R=6-Weight=1-no-mst-weighting</td><td> --- </td><td> --- </td><td>none</td><td>cDRKc</td><td> 7 </td><td>0.4</td><td>67%</td><td>0%</td><td>0.0</td></tr><tr><td>7</td><td>POC-Turtle</td><td>R=6-Weight=1-no-mst-weighting</td><td> --- </td><td> --- </td><td>none</td><td>cDRKc</td><td> 7 </td><td>0.4</td><td>67%</td><td>0%</td><td>0.0</td></tr><tr><td>7</td><td>POC-Turtle</td><td>R=6-Weight=1-no-mst-weighting</td><td> --- </td><td> --- </td><td>none</td><td>cDRKc</td><td> 7 </td><td>0.4</td><td>67%</td><td>0%</td><td>0.0</td></tr><tr><td>7</td><td>POC-Turtle</td><td>R=6-Weight=1-no-mst-weighting</td><td> --- </td><td> --- </td><td>none</td><td>cDRKc</td><td> 7 </td><td>0.4</td><td>67%</td><td>0%</td><td>0.0</td></tr><tr><td>7</td><td>POC-Turtle</td><td>R=6-Weight=1-no-mst-weighting</td><td> --- </td><td> --- </td><td>none</td><td>cDRKc</td><td> 7 </td><td>0.4</td><td>67%</td><td>0%</td><td>0.0</td></tr><tr><td>7</td><td>POC-Turtle</td><td>R=6-Weight=1-no-mst-weighting</td><td> --- </td><td> --- </td><td>none</td><td>cDRKc</td><td> 7 </td><td>0.4</td><td>67%</td><td>0%</td><td>0.0</td></tr><tr><td>8</td><td>POC-Turtle</td><td>LG-ANY-all-parses</td><td> --- </td><td> --- </td><td>none</td><td>cDRKc</td><td> 4 </td><td>0.59</td><td>100%</td><td>100%</td><td>1.0</td></tr><tr><td>8</td><td>POC-Turtle</td><td>LG-ANY-all-parses</td><td> --- </td><td> --- </td><td>none</td><td>cDRKc</td><td> 4 </td><td>0.59</td><td>100%</td><td>100%</td><td>1.0</td></tr><tr><td>8</td><td>POC-Turtle</td><td>LG-ANY-all-parses</td><td> --- </td><td> --- </td><td>none</td><td>cDRKc</td><td> 4 </td><td>0.59</td><td>100%</td><td>100%</td><td>1.0</td></tr><tr><td>8</td><td>POC-Turtle</td><td>LG-ANY-all-parses</td><td> --- </td><td> --- </td><td>none</td><td>cDRKc</td><td> 4 </td><td>0.59</td><td>100%</td><td>100%</td><td>1.0</td></tr><tr><td>8</td><td>POC-Turtle</td><td>LG-ANY-all-parses</td><td> --- </td><td> --- </td><td>none</td><td>cDRKc</td><td> 4 </td><td>0.59</td><td>100%</td><td>100%</td><td>1.0</td></tr><tr><td>8</td><td>POC-Turtle</td><td>LG-ANY-all-parses</td><td> --- </td><td> --- </td><td>none</td><td>cDRKc</td><td> 4 </td><td>0.59</td><td>100%</td><td>100%</td><td>1.0</td></tr><tr><td>8</td><td>POC-Turtle</td><td>LG-ANY-all-parses</td><td> --- </td><td> --- </td><td>none</td><td>cDRKc</td><td> 4 </td><td>0.59</td><td>100%</td><td>100%</td><td>1.0</td></tr><tr><td>8</td><td>POC-Turtle</td><td>LG-ANY-all-parses</td><td> --- </td><td> --- </td><td>none</td><td>cDRKc</td><td> 4 </td><td>0.59</td><td>100%</td><td>100%</td><td>1.0</td></tr><tr><td>8</td><td>POC-Turtle</td><td>LG-ANY-all-parses</td><td> --- </td><td> --- </td><td>none</td><td>cDRKc</td><td> 4 </td><td>0.59</td><td>100%</td><td>100%</td><td>1.0</td></tr><tr><td>8</td><td>POC-Turtle</td><td>LG-ANY-all-parses</td><td> --- </td><td> --- </td><td>none</td><td>cDRKc</td><td> 4 </td><td>0.59</td><td>100%</td><td>100%</td><td>1.0</td></tr><tr><td>5</td><td>POC-Turtle</td><td>MST-fixed-manually</td><td> --- </td><td> --- </td><td>none</td><td>cDRKd</td><td> 4 </td><td>0.75</td><td>100%</td><td>100%</td><td>1.0</td></tr><tr><td>5</td><td>POC-Turtle</td><td>MST-fixed-manually</td><td> --- </td><td> --- </td><td>none</td><td>cDRKd</td><td> 4 </td><td>0.75</td><td>100%</td><td>100%</td><td>1.0</td></tr><tr><td>5</td><td>POC-Turtle</td><td>MST-fixed-manually</td><td> --- </td><td> --- </td><td>none</td><td>cDRKd</td><td> 4 </td><td>0.75</td><td>100%</td><td>100%</td><td>1.0</td></tr><tr><td>5</td><td>POC-Turtle</td><td>MST-fixed-manually</td><td> --- </td><td> --- </td><td>none</td><td>cDRKd</td><td> 4 </td><td>0.75</td><td>100%</td><td>100%</td><td>1.0</td></tr><tr><td>5</td><td>POC-Turtle</td><td>MST-fixed-manually</td><td> --- </td><td> --- </td><td>none</td><td>cDRKd</td><td> 4 </td><td>0.75</td><td>100%</td><td>100%</td><td>1.0</td></tr><tr><td>5</td><td>POC-Turtle</td><td>MST-fixed-manually</td><td> --- </td><td> --- </td><td>none</td><td>cDRKd</td><td> 4 </td><td>0.75</td><td>100%</td><td>100%</td><td>1.0</td></tr><tr><td>5</td><td>POC-Turtle</td><td>MST-fixed-manually</td><td> --- </td><td> --- </td><td>none</td><td>cDRKd</td><td> 4 </td><td>0.75</td><td>100%</td><td>100%</td><td>1.0</td></tr><tr><td>5</td><td>POC-Turtle</td><td>MST-fixed-manually</td><td> --- </td><td> --- </td><td>none</td><td>cDRKd</td><td> 4 </td><td>0.75</td><td>100%</td><td>100%</td><td>1.0</td></tr><tr><td>5</td><td>POC-Turtle</td><td>MST-fixed-manually</td><td> --- </td><td> --- </td><td>none</td><td>cDRKd</td><td> 4 </td><td>0.75</td><td>100%</td><td>100%</td><td>1.0</td></tr><tr><td>5</td><td>POC-Turtle</td><td>MST-fixed-manually</td><td> --- </td><td> --- </td><td>none</td><td>cDRKd</td><td> 4 </td><td>0.75</td><td>100%</td><td>100%</td><td>1.0</td></tr><tr><td>6</td><td>POC-Turtle</td><td>R=6-Weight=6:R-mst-weight=+1:R</td><td> --- </td><td> --- </td><td>none</td><td>cDRKd</td><td> 4 </td><td>0.56</td><td>83%</td><td>83%</td><td>1.0</td></tr><tr><td>6</td><td>POC-Turtle</td><td>R=6-Weight=6:R-mst-weight=+1:R</td><td> --- </td><td> --- </td><td>none</td><td>cDRKd</td><td> 4 </td><td>0.56</td><td>83%</td><td>83%</td><td>1.0</td></tr><tr><td>6</td><td>POC-Turtle</td><td>R=6-Weight=6:R-mst-weight=+1:R</td><td> --- </td><td> --- </td><td>none</td><td>cDRKd</td><td> 4 </td><td>0.56</td><td>83%</td><td>83%</td><td>1.0</td></tr><tr><td>6</td><td>POC-Turtle</td><td>R=6-Weight=6:R-mst-weight=+1:R</td><td> --- </td><td> --- </td><td>none</td><td>cDRKd</td><td> 4 </td><td>0.56</td><td>83%</td><td>83%</td><td>1.0</td></tr><tr><td>6</td><td>POC-Turtle</td><td>R=6-Weight=6:R-mst-weight=+1:R</td><td> --- </td><td> --- </td><td>none</td><td>cDRKd</td><td> 4 </td><td>0.56</td><td>83%</td><td>83%</td><td>1.0</td></tr><tr><td>6</td><td>POC-Turtle</td><td>R=6-Weight=6:R-mst-weight=+1:R</td><td> --- </td><td> --- </td><td>none</td><td>cDRKd</td><td> 4 </td><td>0.56</td><td>83%</td><td>83%</td><td>1.0</td></tr><tr><td>6</td><td>POC-Turtle</td><td>R=6-Weight=6:R-mst-weight=+1:R</td><td> --- </td><td> --- </td><td>none</td><td>cDRKd</td><td> 4 </td><td>0.56</td><td>83%</td><td>83%</td><td>1.0</td></tr><tr><td>6</td><td>POC-Turtle</td><td>R=6-Weight=6:R-mst-weight=+1:R</td><td> --- </td><td> --- </td><td>none</td><td>cDRKd</td><td> 4 </td><td>0.56</td><td>83%</td><td>83%</td><td>1.0</td></tr><tr><td>6</td><td>POC-Turtle</td><td>R=6-Weight=6:R-mst-weight=+1:R</td><td> --- </td><td> --- </td><td>none</td><td>cDRKd</td><td> 4 </td><td>0.56</td><td>83%</td><td>83%</td><td>1.0</td></tr><tr><td>6</td><td>POC-Turtle</td><td>R=6-Weight=6:R-mst-weight=+1:R</td><td> --- </td><td> --- </td><td>none</td><td>cDRKd</td><td> 4 </td><td>0.56</td><td>83%</td><td>83%</td><td>1.0</td></tr><tr><td>7</td><td>POC-Turtle</td><td>R=6-Weight=1-no-mst-weighting</td><td> --- </td><td> --- </td><td>none</td><td>cDRKd</td><td> 7 </td><td>0.4</td><td>0%</td><td>0%</td><td>0.0</td></tr><tr><td>7</td><td>POC-Turtle</td><td>R=6-Weight=1-no-mst-weighting</td><td> --- </td><td> --- </td><td>none</td><td>cDRKd</td><td> 7 </td><td>0.4</td><td>0%</td><td>0%</td><td>0.0</td></tr><tr><td>7</td><td>POC-Turtle</td><td>R=6-Weight=1-no-mst-weighting</td><td> --- </td><td> --- </td><td>none</td><td>cDRKd</td><td> 7 </td><td>0.4</td><td>0%</td><td>0%</td><td>0.0</td></tr><tr><td>7</td><td>POC-Turtle</td><td>R=6-Weight=1-no-mst-weighting</td><td> --- </td><td> --- </td><td>none</td><td>cDRKd</td><td> 7 </td><td>0.4</td><td>0%</td><td>0%</td><td>0.0</td></tr><tr><td>7</td><td>POC-Turtle</td><td>R=6-Weight=1-no-mst-weighting</td><td> --- </td><td> --- </td><td>none</td><td>cDRKd</td><td> 7 </td><td>0.4</td><td>0%</td><td>0%</td><td>0.0</td></tr><tr><td>7</td><td>POC-Turtle</td><td>R=6-Weight=1-no-mst-weighting</td><td> --- </td><td> --- </td><td>none</td><td>cDRKd</td><td> 7 </td><td>0.4</td><td>0%</td><td>0%</td><td>0.0</td></tr><tr><td>7</td><td>POC-Turtle</td><td>R=6-Weight=1-no-mst-weighting</td><td> --- </td><td> --- </td><td>none</td><td>cDRKd</td><td> 7 </td><td>0.4</td><td>0%</td><td>0%</td><td>0.0</td></tr><tr><td>7</td><td>POC-Turtle</td><td>R=6-Weight=1-no-mst-weighting</td><td> --- </td><td> --- </td><td>none</td><td>cDRKd</td><td> 7 </td><td>0.4</td><td>0%</td><td>0%</td><td>0.0</td></tr><tr><td>7</td><td>POC-Turtle</td><td>R=6-Weight=1-no-mst-weighting</td><td> --- </td><td> --- </td><td>none</td><td>cDRKd</td><td> 7 </td><td>0.4</td><td>0%</td><td>0%</td><td>0.0</td></tr><tr><td>7</td><td>POC-Turtle</td><td>R=6-Weight=1-no-mst-weighting</td><td> --- </td><td> --- </td><td>none</td><td>cDRKd</td><td> 7 </td><td>0.4</td><td>0%</td><td>0%</td><td>0.0</td></tr><tr><td>8</td><td>POC-Turtle</td><td>LG-ANY-all-parses</td><td> --- </td><td> --- </td><td>none</td><td>cDRKd</td><td> 4 </td><td>0.59</td><td>100%</td><td>100%</td><td>1.0</td></tr><tr><td>8</td><td>POC-Turtle</td><td>LG-ANY-all-parses</td><td> --- </td><td> --- </td><td>none</td><td>cDRKd</td><td> 4 </td><td>0.59</td><td>100%</td><td>100%</td><td>1.0</td></tr><tr><td>8</td><td>POC-Turtle</td><td>LG-ANY-all-parses</td><td> --- </td><td> --- </td><td>none</td><td>cDRKd</td><td> 4 </td><td>0.59</td><td>100%</td><td>100%</td><td>1.0</td></tr><tr><td>8</td><td>POC-Turtle</td><td>LG-ANY-all-parses</td><td> --- </td><td> --- </td><td>none</td><td>cDRKd</td><td> 4 </td><td>0.59</td><td>100%</td><td>100%</td><td>1.0</td></tr><tr><td>8</td><td>POC-Turtle</td><td>LG-ANY-all-parses</td><td> --- </td><td> --- </td><td>none</td><td>cDRKd</td><td> 4 </td><td>0.59</td><td>100%</td><td>100%</td><td>1.0</td></tr><tr><td>8</td><td>POC-Turtle</td><td>LG-ANY-all-parses</td><td> --- </td><td> --- </td><td>none</td><td>cDRKd</td><td> 4 </td><td>0.59</td><td>100%</td><td>100%</td><td>1.0</td></tr><tr><td>8</td><td>POC-Turtle</td><td>LG-ANY-all-parses</td><td> --- </td><td> --- </td><td>none</td><td>cDRKd</td><td> 4 </td><td>0.59</td><td>100%</td><td>100%</td><td>1.0</td></tr><tr><td>8</td><td>POC-Turtle</td><td>LG-ANY-all-parses</td><td> --- </td><td> --- </td><td>none</td><td>cDRKd</td><td> 5 </td><td>0.6</td><td>92%</td><td>92%</td><td>1.0</td></tr><tr><td>8</td><td>POC-Turtle</td><td>LG-ANY-all-parses</td><td> --- </td><td> --- </td><td>none</td><td>cDRKd</td><td> 4 </td><td>0.59</td><td>100%</td><td>100%</td><td>1.0</td></tr><tr><td>8</td><td>POC-Turtle</td><td>LG-ANY-all-parses</td><td> --- </td><td> --- </td><td>none</td><td>cDRKd</td><td> 4 </td><td>0.59</td><td>100%</td><td>100%</td><td>1.0</td></tr><tr><td>5</td><td>POC-Turtle</td><td>MST-fixed-manually</td><td> --- </td><td> --- </td><td>none</td><td>dDRKd</td><td> 4 </td><td>0.9</td><td>100%</td><td>100%</td><td>1.0</td></tr><tr><td>5</td><td>POC-Turtle</td><td>MST-fixed-manually</td><td> --- </td><td> --- </td><td>none</td><td>dDRKd</td><td> 4 </td><td>0.9</td><td>100%</td><td>100%</td><td>1.0</td></tr><tr><td>5</td><td>POC-Turtle</td><td>MST-fixed-manually</td><td> --- </td><td> --- </td><td>none</td><td>dDRKd</td><td> 4 </td><td>0.9</td><td>100%</td><td>100%</td><td>1.0</td></tr><tr><td>5</td><td>POC-Turtle</td><td>MST-fixed-manually</td><td> --- </td><td> --- </td><td>none</td><td>dDRKd</td><td> 4 </td><td>0.9</td><td>100%</td><td>100%</td><td>1.0</td></tr><tr><td>5</td><td>POC-Turtle</td><td>MST-fixed-manually</td><td> --- </td><td> --- </td><td>none</td><td>dDRKd</td><td> 4 </td><td>0.9</td><td>100%</td><td>100%</td><td>1.0</td></tr><tr><td>5</td><td>POC-Turtle</td><td>MST-fixed-manually</td><td> --- </td><td> --- </td><td>none</td><td>dDRKd</td><td> 4 </td><td>0.9</td><td>100%</td><td>100%</td><td>1.0</td></tr><tr><td>5</td><td>POC-Turtle</td><td>MST-fixed-manually</td><td> --- </td><td> --- </td><td>none</td><td>dDRKd</td><td> 4 </td><td>0.9</td><td>100%</td><td>100%</td><td>1.0</td></tr><tr><td>5</td><td>POC-Turtle</td><td>MST-fixed-manually</td><td> --- </td><td> --- </td><td>none</td><td>dDRKd</td><td> 4 </td><td>0.9</td><td>100%</td><td>100%</td><td>1.0</td></tr><tr><td>5</td><td>POC-Turtle</td><td>MST-fixed-manually</td><td> --- </td><td> --- </td><td>none</td><td>dDRKd</td><td> 4 </td><td>0.9</td><td>100%</td><td>100%</td><td>1.0</td></tr><tr><td>5</td><td>POC-Turtle</td><td>MST-fixed-manually</td><td> --- </td><td> --- </td><td>none</td><td>dDRKd</td><td> 4 </td><td>0.9</td><td>100%</td><td>100%</td><td>1.0</td></tr><tr><td>6</td><td>POC-Turtle</td><td>R=6-Weight=6:R-mst-weight=+1:R</td><td> --- </td><td> --- </td><td>none</td><td>dDRKd</td><td> 7 </td><td>0.55</td><td>83%</td><td>83%</td><td>1.0</td></tr><tr><td>6</td><td>POC-Turtle</td><td>R=6-Weight=6:R-mst-weight=+1:R</td><td> --- </td><td> --- </td><td>none</td><td>dDRKd</td><td> 7 </td><td>0.55</td><td>83%</td><td>83%</td><td>1.0</td></tr><tr><td>6</td><td>POC-Turtle</td><td>R=6-Weight=6:R-mst-weight=+1:R</td><td> --- </td><td> --- </td><td>none</td><td>dDRKd</td><td> 7 </td><td>0.55</td><td>83%</td><td>83%</td><td>1.0</td></tr><tr><td>6</td><td>POC-Turtle</td><td>R=6-Weight=6:R-mst-weight=+1:R</td><td> --- </td><td> --- </td><td>none</td><td>dDRKd</td><td> 7 </td><td>0.55</td><td>83%</td><td>83%</td><td>1.0</td></tr><tr><td>6</td><td>POC-Turtle</td><td>R=6-Weight=6:R-mst-weight=+1:R</td><td> --- </td><td> --- </td><td>none</td><td>dDRKd</td><td> 7 </td><td>0.55</td><td>83%</td><td>83%</td><td>1.0</td></tr><tr><td>6</td><td>POC-Turtle</td><td>R=6-Weight=6:R-mst-weight=+1:R</td><td> --- </td><td> --- </td><td>none</td><td>dDRKd</td><td> 7 </td><td>0.55</td><td>83%</td><td>83%</td><td>1.0</td></tr><tr><td>6</td><td>POC-Turtle</td><td>R=6-Weight=6:R-mst-weight=+1:R</td><td> --- </td><td> --- </td><td>none</td><td>dDRKd</td><td> 7 </td><td>0.55</td><td>83%</td><td>83%</td><td>1.0</td></tr><tr><td>6</td><td>POC-Turtle</td><td>R=6-Weight=6:R-mst-weight=+1:R</td><td> --- </td><td> --- </td><td>none</td><td>dDRKd</td><td> 7 </td><td>0.55</td><td>83%</td><td>83%</td><td>1.0</td></tr><tr><td>6</td><td>POC-Turtle</td><td>R=6-Weight=6:R-mst-weight=+1:R</td><td> --- </td><td> --- </td><td>none</td><td>dDRKd</td><td> 7 </td><td>0.55</td><td>83%</td><td>83%</td><td>1.0</td></tr><tr><td>6</td><td>POC-Turtle</td><td>R=6-Weight=6:R-mst-weight=+1:R</td><td> --- </td><td> --- </td><td>none</td><td>dDRKd</td><td> 7 </td><td>0.55</td><td>83%</td><td>83%</td><td>1.0</td></tr><tr><td>7</td><td>POC-Turtle</td><td>R=6-Weight=1-no-mst-weighting</td><td> --- </td><td> --- </td><td>none</td><td>dDRKd</td><td> fail </td><td> --- </td><td> --- </td><td> --- </td><td> --- </td></tr><tr><td>7</td><td>POC-Turtle</td><td>R=6-Weight=1-no-mst-weighting</td><td> --- </td><td> --- </td><td>none</td><td>dDRKd</td><td> fail </td><td> --- </td><td> --- </td><td> --- </td><td> --- </td></tr><tr><td>7</td><td>POC-Turtle</td><td>R=6-Weight=1-no-mst-weighting</td><td> --- </td><td> --- </td><td>none</td><td>dDRKd</td><td> fail </td><td> --- </td><td> --- </td><td> --- </td><td> --- </td></tr><tr><td>7</td><td>POC-Turtle</td><td>R=6-Weight=1-no-mst-weighting</td><td> --- </td><td> --- </td><td>none</td><td>dDRKd</td><td> fail </td><td> --- </td><td> --- </td><td> --- </td><td> --- </td></tr><tr><td>7</td><td>POC-Turtle</td><td>R=6-Weight=1-no-mst-weighting</td><td> --- </td><td> --- </td><td>none</td><td>dDRKd</td><td> fail </td><td> --- </td><td> --- </td><td> --- </td><td> --- </td></tr><tr><td>7</td><td>POC-Turtle</td><td>R=6-Weight=1-no-mst-weighting</td><td> --- </td><td> --- </td><td>none</td><td>dDRKd</td><td> fail </td><td> --- </td><td> --- </td><td> --- </td><td> --- </td></tr><tr><td>7</td><td>POC-Turtle</td><td>R=6-Weight=1-no-mst-weighting</td><td> --- </td><td> --- </td><td>none</td><td>dDRKd</td><td> fail </td><td> --- </td><td> --- </td><td> --- </td><td> --- </td></tr><tr><td>7</td><td>POC-Turtle</td><td>R=6-Weight=1-no-mst-weighting</td><td> --- </td><td> --- </td><td>none</td><td>dDRKd</td><td> fail </td><td> --- </td><td> --- </td><td> --- </td><td> --- </td></tr><tr><td>7</td><td>POC-Turtle</td><td>R=6-Weight=1-no-mst-weighting</td><td> --- </td><td> --- </td><td>none</td><td>dDRKd</td><td> fail </td><td> --- </td><td> --- </td><td> --- </td><td> --- </td></tr><tr><td>7</td><td>POC-Turtle</td><td>R=6-Weight=1-no-mst-weighting</td><td> --- </td><td> --- </td><td>none</td><td>dDRKd</td><td> fail </td><td> --- </td><td> --- </td><td> --- </td><td> --- </td></tr><tr><td>8</td><td>POC-Turtle</td><td>LG-ANY-all-parses</td><td> --- </td><td> --- </td><td>none</td><td>dDRKd</td><td> 5 </td><td>0.61</td><td>92%</td><td>92%</td><td>1.0</td></tr><tr><td>8</td><td>POC-Turtle</td><td>LG-ANY-all-parses</td><td> --- </td><td> --- </td><td>none</td><td>dDRKd</td><td> 5 </td><td>0.61</td><td>92%</td><td>92%</td><td>1.0</td></tr><tr><td>8</td><td>POC-Turtle</td><td>LG-ANY-all-parses</td><td> --- </td><td> --- </td><td>none</td><td>dDRKd</td><td> 5 </td><td>0.63</td><td>100%</td><td>96%</td><td>0.96</td></tr><tr><td>8</td><td>POC-Turtle</td><td>LG-ANY-all-parses</td><td> --- </td><td> --- </td><td>none</td><td>dDRKd</td><td> 5 </td><td>0.63</td><td>100%</td><td>96%</td><td>0.96</td></tr><tr><td>8</td><td>POC-Turtle</td><td>LG-ANY-all-parses</td><td> --- </td><td> --- </td><td>none</td><td>dDRKd</td><td> 5 </td><td>0.61</td><td>92%</td><td>92%</td><td>1.0</td></tr><tr><td>8</td><td>POC-Turtle</td><td>LG-ANY-all-parses</td><td> --- </td><td> --- </td><td>none</td><td>dDRKd</td><td> 5 </td><td>0.61</td><td>92%</td><td>92%</td><td>1.0</td></tr><tr><td>8</td><td>POC-Turtle</td><td>LG-ANY-all-parses</td><td> --- </td><td> --- </td><td>none</td><td>dDRKd</td><td> 5 </td><td>0.61</td><td>92%</td><td>92%</td><td>1.0</td></tr><tr><td>8</td><td>POC-Turtle</td><td>LG-ANY-all-parses</td><td> --- </td><td> --- </td><td>none</td><td>dDRKd</td><td> 5 </td><td>0.61</td><td>92%</td><td>92%</td><td>1.0</td></tr><tr><td>8</td><td>POC-Turtle</td><td>LG-ANY-all-parses</td><td> --- </td><td> --- </td><td>none</td><td>dDRKd</td><td> 5 </td><td>0.61</td><td>92%</td><td>92%</td><td>1.0</td></tr><tr><td>8</td><td>POC-Turtle</td><td>LG-ANY-all-parses</td><td> --- </td><td> --- </td><td>none</td><td>dDRKd</td><td> 5 </td><td>0.61</td><td>92%</td><td>92%</td><td>1.0</td></tr><tr><td>5</td><td>POC-Turtle</td><td>MST-fixed-manually</td><td> --- </td><td> --- </td><td>none</td><td>dILEd</td><td> 6 </td><td> --- </td><td>100%</td><td>100%</td><td>1.0</td></tr><tr><td>5</td><td>POC-Turtle</td><td>MST-fixed-manually</td><td> --- </td><td> --- </td><td>none</td><td>dILEd</td><td> 6 </td><td> --- </td><td>100%</td><td>100%</td><td>1.0</td></tr><tr><td>5</td><td>POC-Turtle</td><td>MST-fixed-manually</td><td> --- </td><td> --- </td><td>none</td><td>dILEd</td><td> 6 </td><td> --- </td><td>100%</td><td>100%</td><td>1.0</td></tr><tr><td>5</td><td>POC-Turtle</td><td>MST-fixed-manually</td><td> --- </td><td> --- </td><td>none</td><td>dILEd</td><td> 6 </td><td> --- </td><td>100%</td><td>100%</td><td>1.0</td></tr><tr><td>5</td><td>POC-Turtle</td><td>MST-fixed-manually</td><td> --- </td><td> --- </td><td>none</td><td>dILEd</td><td> 6 </td><td> --- </td><td>100%</td><td>100%</td><td>1.0</td></tr><tr><td>5</td><td>POC-Turtle</td><td>MST-fixed-manually</td><td> --- </td><td> --- </td><td>none</td><td>dILEd</td><td> 6 </td><td> --- </td><td>100%</td><td>100%</td><td>1.0</td></tr><tr><td>5</td><td>POC-Turtle</td><td>MST-fixed-manually</td><td> --- </td><td> --- </td><td>none</td><td>dILEd</td><td> 6 </td><td> --- </td><td>100%</td><td>100%</td><td>1.0</td></tr><tr><td>5</td><td>POC-Turtle</td><td>MST-fixed-manually</td><td> --- </td><td> --- </td><td>none</td><td>dILEd</td><td> 6 </td><td> --- </td><td>100%</td><td>100%</td><td>1.0</td></tr><tr><td>5</td><td>POC-Turtle</td><td>MST-fixed-manually</td><td> --- </td><td> --- </td><td>none</td><td>dILEd</td><td> 6 </td><td> --- </td><td>100%</td><td>100%</td><td>1.0</td></tr><tr><td>5</td><td>POC-Turtle</td><td>MST-fixed-manually</td><td> --- </td><td> --- </td><td>none</td><td>dILEd</td><td> 6 </td><td> --- </td><td>100%</td><td>100%</td><td>1.0</td></tr><tr><td>6</td><td>POC-Turtle</td><td>R=6-Weight=6:R-mst-weight=+1:R</td><td> --- </td><td> --- </td><td>none</td><td>dILEd</td><td> 8 </td><td> --- </td><td>0%</td><td>0%</td><td>0.0</td></tr><tr><td>6</td><td>POC-Turtle</td><td>R=6-Weight=6:R-mst-weight=+1:R</td><td> --- </td><td> --- </td><td>none</td><td>dILEd</td><td> 8 </td><td> --- </td><td>0%</td><td>0%</td><td>0.0</td></tr><tr><td>6</td><td>POC-Turtle</td><td>R=6-Weight=6:R-mst-weight=+1:R</td><td> --- </td><td> --- </td><td>none</td><td>dILEd</td><td> 8 </td><td> --- </td><td>0%</td><td>0%</td><td>0.0</td></tr><tr><td>6</td><td>POC-Turtle</td><td>R=6-Weight=6:R-mst-weight=+1:R</td><td> --- </td><td> --- </td><td>none</td><td>dILEd</td><td> 8 </td><td> --- </td><td>0%</td><td>0%</td><td>0.0</td></tr><tr><td>6</td><td>POC-Turtle</td><td>R=6-Weight=6:R-mst-weight=+1:R</td><td> --- </td><td> --- </td><td>none</td><td>dILEd</td><td> 8 </td><td> --- </td><td>0%</td><td>0%</td><td>0.0</td></tr><tr><td>6</td><td>POC-Turtle</td><td>R=6-Weight=6:R-mst-weight=+1:R</td><td> --- </td><td> --- </td><td>none</td><td>dILEd</td><td> 8 </td><td> --- </td><td>0%</td><td>0%</td><td>0.0</td></tr><tr><td>6</td><td>POC-Turtle</td><td>R=6-Weight=6:R-mst-weight=+1:R</td><td> --- </td><td> --- </td><td>none</td><td>dILEd</td><td> 8 </td><td> --- </td><td>0%</td><td>0%</td><td>0.0</td></tr><tr><td>6</td><td>POC-Turtle</td><td>R=6-Weight=6:R-mst-weight=+1:R</td><td> --- </td><td> --- </td><td>none</td><td>dILEd</td><td> 8 </td><td> --- </td><td>0%</td><td>0%</td><td>0.0</td></tr><tr><td>6</td><td>POC-Turtle</td><td>R=6-Weight=6:R-mst-weight=+1:R</td><td> --- </td><td> --- </td><td>none</td><td>dILEd</td><td> 8 </td><td> --- </td><td>0%</td><td>0%</td><td>0.0</td></tr><tr><td>6</td><td>POC-Turtle</td><td>R=6-Weight=6:R-mst-weight=+1:R</td><td> --- </td><td> --- </td><td>none</td><td>dILEd</td><td> 8 </td><td> --- </td><td>0%</td><td>0%</td><td>0.0</td></tr><tr><td>7</td><td>POC-Turtle</td><td>R=6-Weight=1-no-mst-weighting</td><td> --- </td><td> --- </td><td>none</td><td>dILEd</td><td> 11 </td><td> --- </td><td>0%</td><td>0%</td><td>0.0</td></tr><tr><td>7</td><td>POC-Turtle</td><td>R=6-Weight=1-no-mst-weighting</td><td> --- </td><td> --- </td><td>none</td><td>dILEd</td><td> 11 </td><td> --- </td><td>0%</td><td>0%</td><td>0.0</td></tr><tr><td>7</td><td>POC-Turtle</td><td>R=6-Weight=1-no-mst-weighting</td><td> --- </td><td> --- </td><td>none</td><td>dILEd</td><td> 11 </td><td> --- </td><td>0%</td><td>0%</td><td>0.0</td></tr><tr><td>7</td><td>POC-Turtle</td><td>R=6-Weight=1-no-mst-weighting</td><td> --- </td><td> --- </td><td>none</td><td>dILEd</td><td> 11 </td><td> --- </td><td>0%</td><td>0%</td><td>0.0</td></tr><tr><td>7</td><td>POC-Turtle</td><td>R=6-Weight=1-no-mst-weighting</td><td> --- </td><td> --- </td><td>none</td><td>dILEd</td><td> 11 </td><td> --- </td><td>0%</td><td>0%</td><td>0.0</td></tr><tr><td>7</td><td>POC-Turtle</td><td>R=6-Weight=1-no-mst-weighting</td><td> --- </td><td> --- </td><td>none</td><td>dILEd</td><td> 11 </td><td> --- </td><td>0%</td><td>0%</td><td>0.0</td></tr><tr><td>7</td><td>POC-Turtle</td><td>R=6-Weight=1-no-mst-weighting</td><td> --- </td><td> --- </td><td>none</td><td>dILEd</td><td> 11 </td><td> --- </td><td>0%</td><td>0%</td><td>0.0</td></tr><tr><td>7</td><td>POC-Turtle</td><td>R=6-Weight=1-no-mst-weighting</td><td> --- </td><td> --- </td><td>none</td><td>dILEd</td><td> 11 </td><td> --- </td><td>0%</td><td>0%</td><td>0.0</td></tr><tr><td>7</td><td>POC-Turtle</td><td>R=6-Weight=1-no-mst-weighting</td><td> --- </td><td> --- </td><td>none</td><td>dILEd</td><td> 11 </td><td> --- </td><td>0%</td><td>0%</td><td>0.0</td></tr><tr><td>7</td><td>POC-Turtle</td><td>R=6-Weight=1-no-mst-weighting</td><td> --- </td><td> --- </td><td>none</td><td>dILEd</td><td> 11 </td><td> --- </td><td>0%</td><td>0%</td><td>0.0</td></tr><tr><td>8</td><td>POC-Turtle</td><td>LG-ANY-all-parses</td><td> --- </td><td> --- </td><td>none</td><td>dILEd</td><td> 8 </td><td> --- </td><td>92%</td><td>92%</td><td>1.0</td></tr><tr><td>8</td><td>POC-Turtle</td><td>LG-ANY-all-parses</td><td> --- </td><td> --- </td><td>none</td><td>dILEd</td><td> 8 </td><td> --- </td><td>92%</td><td>92%</td><td>1.0</td></tr><tr><td>8</td><td>POC-Turtle</td><td>LG-ANY-all-parses</td><td> --- </td><td> --- </td><td>none</td><td>dILEd</td><td> 8 </td><td> --- </td><td>92%</td><td>92%</td><td>1.0</td></tr><tr><td>8</td><td>POC-Turtle</td><td>LG-ANY-all-parses</td><td> --- </td><td> --- </td><td>none</td><td>dILEd</td><td> 8 </td><td> --- </td><td>92%</td><td>92%</td><td>1.0</td></tr><tr><td>8</td><td>POC-Turtle</td><td>LG-ANY-all-parses</td><td> --- </td><td> --- </td><td>none</td><td>dILEd</td><td> 8 </td><td> --- </td><td>92%</td><td>92%</td><td>1.0</td></tr><tr><td>8</td><td>POC-Turtle</td><td>LG-ANY-all-parses</td><td> --- </td><td> --- </td><td>none</td><td>dILEd</td><td> 8 </td><td> --- </td><td>92%</td><td>92%</td><td>1.0</td></tr><tr><td>8</td><td>POC-Turtle</td><td>LG-ANY-all-parses</td><td> --- </td><td> --- </td><td>none</td><td>dILEd</td><td> 8 </td><td> --- </td><td>92%</td><td>92%</td><td>1.0</td></tr><tr><td>8</td><td>POC-Turtle</td><td>LG-ANY-all-parses</td><td> --- </td><td> --- </td><td>none</td><td>dILEd</td><td> 8 </td><td> --- </td><td>92%</td><td>92%</td><td>1.0</td></tr><tr><td>8</td><td>POC-Turtle</td><td>LG-ANY-all-parses</td><td> --- </td><td> --- </td><td>none</td><td>dILEd</td><td> 8 </td><td> --- </td><td>92%</td><td>92%</td><td>1.0</td></tr><tr><td>8</td><td>POC-Turtle</td><td>LG-ANY-all-parses</td><td> --- </td><td> --- </td><td>none</td><td>dILEd</td><td> 8 </td><td> --- </td><td>92%</td><td>92%</td><td>1.0</td></tr></table>"
      ],
      "text/plain": [
       "<IPython.core.display.HTML object>"
      ]
     },
     "metadata": {},
     "output_type": "display_data"
    }
   ],
   "source": [
    "display(html_table([header]+long_table))"
   ]
  },
  {
   "cell_type": "code",
   "execution_count": 12,
   "metadata": {
    "ExecuteTime": {
     "end_time": "2018-10-18T10:59:14.622522Z",
     "start_time": "2018-10-18T10:59:14.548565Z"
    }
   },
   "outputs": [
    {
     "name": "stdout",
     "output_type": "stream",
     "text": [
      "2018-10-18 10:59:14 UTC :: finished, elapsed 1.7 min\n",
      "Average results saved to /home/obaskov/py/language-learning/output/POC-Turtle-2018-10-18-multi/short_table.txt\n",
      "Detailed results for every run saved to /home/obaskov/py/language-learning/output/POC-Turtle-2018-10-18-multi/long_table.txt\n"
     ]
    }
   ],
   "source": [
    "print(UTC(), ':: finished, elapsed', str(round((time.time()-start)/60, 1)), 'min')\n",
    "table_str = list2file(table, out_dir+'/short_table.txt')\n",
    "if runs == (1,1):\n",
    "    print('Results saved to', out_dir + '/short_table.txt')\n",
    "else:\n",
    "    long_table_str = list2file(long_table, out_dir+'/long_table.txt')\n",
    "    print('Average results saved to', out_dir + '/short_table.txt\\n'\n",
    "          'Detailed results for every run saved to', out_dir + '/long_table.txt')"
   ]
  },
  {
   "cell_type": "code",
   "execution_count": null,
   "metadata": {},
   "outputs": [],
   "source": []
  }
 ],
 "metadata": {
  "kernelspec": {
   "display_name": "Python [default]",
   "language": "python",
   "name": "python3"
  },
  "language_info": {
   "codemirror_mode": {
    "name": "ipython",
    "version": 3
   },
   "file_extension": ".py",
   "mimetype": "text/x-python",
   "name": "python",
   "nbconvert_exporter": "python",
   "pygments_lexer": "ipython3",
   "version": "3.6.6"
  },
  "toc": {
   "base_numbering": 1,
   "nav_menu": {},
   "number_sections": true,
   "sideBar": true,
   "skip_h1_title": false,
   "title_cell": "Table of Contents",
   "title_sidebar": "Contents",
   "toc_cell": false,
   "toc_position": {},
   "toc_section_display": true,
   "toc_window_display": false
  }
 },
 "nbformat": 4,
 "nbformat_minor": 2
}
