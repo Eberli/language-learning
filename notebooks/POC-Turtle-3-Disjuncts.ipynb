{
 "cells": [
  {
   "cell_type": "markdown",
   "metadata": {},
   "source": [
    "# POC-Turtle word category learner, part 3. Disjuncts.\n",
    "This is a continuation of parts 1 and 2 of proof-of-concept (POC) experiments in unsupervised language learning (ULL). \n",
    "The previous notebooks re available as static html pages \n",
    "([1](http://88.99.210.144/data/clustering_2018/html/POC-Turtle-1-2018-02-09.html) \n",
    "and [2](http://88.99.210.144/data/clustering_2018/html/POC-Turtle-2-Singular-Values)), \n",
    "code hosted on [GitHub](https://github.com/opencog/language-learning)\n",
    "\n",
    "This time we check the possibility of unsupervised word category learning using \"disjucts\" - pairs of links to the heighbouring words."
   ]
  },
  {
   "cell_type": "code",
   "execution_count": 1,
   "metadata": {},
   "outputs": [
    {
     "name": "stdout",
     "output_type": "stream",
     "text": [
      "2018-02-17 16:49:29 UTC :: module_path: /home/oleg/language-learning\n"
     ]
    }
   ],
   "source": [
    "import os, sys, time, csv\n",
    "import numpy as np\n",
    "import pandas as pd\n",
    "import matplotlib.pyplot as plt\n",
    "%matplotlib inline\n",
    "from IPython.display import display\n",
    "module_path = os.path.abspath(os.path.join('..'))\n",
    "if module_path not in sys.path: sys.path.append(module_path)\n",
    "from src.utl.utl import UTC\n",
    "from src.space.turtle import dumb_disjuncter\n",
    "from src.space.sws import word_space\n",
    "from src.space.hyperwords import epmisvd\n",
    "from src.utl.turtle import html_table, plot2d\n",
    "from src.clustering.kmeans import cluster_kmeans\n",
    "from src.clustering.similarity import cosine_similarity\n",
    "print(UTC(), ':: module_path:', module_path)"
   ]
  },
  {
   "cell_type": "markdown",
   "metadata": {},
   "source": [
    "## 3.1 Settings\n",
    "We use the same simplified \"Turtle language\" corpus:"
   ]
  },
  {
   "cell_type": "code",
   "execution_count": 2,
   "metadata": {},
   "outputs": [
    {
     "name": "stdout",
     "output_type": "stream",
     "text": [
      "tuna isa fish.\n",
      "herring isa fish.\n",
      "tuna has fin.\n",
      "herring has fin.\n",
      "parrot isa bird.\n",
      "eagle isa bird.\n",
      "parrot has wing.\n",
      "eagle has wing.\n",
      "fin isa extremity.\n",
      "wing isa extremity.\n",
      "fin has scale.\n",
      "wing has feather.\n",
      "\n"
     ]
    }
   ],
   "source": [
    "input_file = '../data/poc-turtle-sentences.txt'\n",
    "with open(input_file, 'r') as f: lines = f.read().splitlines()\n",
    "for line in lines: print(line)"
   ]
  },
  {
   "cell_type": "code",
   "execution_count": 3,
   "metadata": {},
   "outputs": [
    {
     "name": "stdout",
     "output_type": "stream",
     "text": [
      "Data file found: /home/oleg/language-learning/data/poc-turtle-sentences.txt\n",
      "Project directory /home/oleg/language-learning/output/Turtle-3-2018-02-17/ exists\n",
      "2018-02-17 16:49:29 UTC {'project': 'POC-Turtle-3 v.3.2'}\n"
     ]
    }
   ],
   "source": [
    "prj_dir = '../output/Turtle-3-2018-02-17/'  # project directory \n",
    "prefix = ''     # all project files will start with this prefix\n",
    "verbose = 'max' # printed comments: 'none', 'min', 'max'\n",
    "log = {'project': 'POC-Turtle-3 v.3.2'}\n",
    "\n",
    "if not os.path.isfile(input_file):\n",
    "    print('No data file', module_path + input_file[2:])\n",
    "else: print('Data file found:', module_path + input_file[2:])\n",
    "if not os.path.exists(prj_dir):\n",
    "    os.makedirs(prj_dir)\n",
    "    print('Project directory created:', module_path + prj_dir[2:])\n",
    "else: print('Project directory', module_path + prj_dir[2:], 'exists')\n",
    "if verbose == 'max': print(UTC(), log)\n",
    "log.update({'input_file': module_path + input_file[2:]})"
   ]
  },
  {
   "cell_type": "markdown",
   "metadata": {},
   "source": [
    "## 3.2 Parse sentences to disjuncts"
   ]
  },
  {
   "cell_type": "code",
   "execution_count": 4,
   "metadata": {},
   "outputs": [
    {
     "name": "stdout",
     "output_type": "stream",
     "text": [
      "disjuncts: <class 'pandas.core.frame.DataFrame'> 60 items\n",
      "    word   disjunct  count\n",
      "0   #LW#     eagle+      2\n",
      "1   #LW#       fin+      2\n",
      "2   #LW#   herring+      2\n",
      "3   #LW#    parrot+      2\n",
      "..   ...        ...    ...\n",
      "40  tuna  #LW#-has+      1\n",
      "41  tuna  #LW#-isa+      1\n",
      "42  wing  #LW#-has+      1\n",
      "43  wing  #LW#-isa+      1\n",
      "\n",
      "[44 rows x 3 columns] \n",
      "\n"
     ]
    }
   ],
   "source": [
    "left_wall = '#LW#'  # Left wall symbol, 'none' - don't use Left-Wall\n",
    "disjuncts = dumb_disjuncter(input_file, left_wall, dot=True,)\n",
    "if verbose != 'none': print('disjuncts:', type(disjuncts), len(disjuncts), 'items') \n",
    "disjuncts = disjuncts.groupby(['word','disjunct'], as_index=False).sum() \\\n",
    "    .sort_values(by=['count','word','disjunct'], ascending=[False,True,True]) \\\n",
    "    .reset_index(drop=True)\n",
    "#disjuncts\n",
    "if verbose == 'max': \n",
    "    with pd.option_context('display.max_rows', 8): print(disjuncts, '\\n')"
   ]
  },
  {
   "cell_type": "markdown",
   "metadata": {},
   "source": [
    "## 3.3 Create word vector space"
   ]
  },
  {
   "cell_type": "code",
   "execution_count": 5,
   "metadata": {},
   "outputs": [
    {
     "name": "stdout",
     "output_type": "stream",
     "text": [
      "Vector space dimensionality: suggested 12, maximum created with SVM algorithm: 9\n"
     ]
    },
    {
     "data": {
      "text/html": [
       "<div>\n",
       "<style scoped>\n",
       "    .dataframe tbody tr th:only-of-type {\n",
       "        vertical-align: middle;\n",
       "    }\n",
       "\n",
       "    .dataframe tbody tr th {\n",
       "        vertical-align: top;\n",
       "    }\n",
       "\n",
       "    .dataframe thead th {\n",
       "        text-align: right;\n",
       "    }\n",
       "</style>\n",
       "<table border=\"1\" class=\"dataframe\">\n",
       "  <thead>\n",
       "    <tr style=\"text-align: right;\">\n",
       "      <th></th>\n",
       "      <th>word</th>\n",
       "      <th>1</th>\n",
       "      <th>2</th>\n",
       "      <th>3</th>\n",
       "      <th>4</th>\n",
       "      <th>5</th>\n",
       "      <th>6</th>\n",
       "      <th>7</th>\n",
       "      <th>8</th>\n",
       "      <th>9</th>\n",
       "    </tr>\n",
       "  </thead>\n",
       "  <tbody>\n",
       "    <tr>\n",
       "      <th>10</th>\n",
       "      <td>isa</td>\n",
       "      <td>-0.91630</td>\n",
       "      <td>0.40049</td>\n",
       "      <td>0.00000</td>\n",
       "      <td>0.0</td>\n",
       "      <td>0.0</td>\n",
       "      <td>0</td>\n",
       "      <td>-0.0</td>\n",
       "      <td>0.00000</td>\n",
       "      <td>0.00000</td>\n",
       "    </tr>\n",
       "    <tr>\n",
       "      <th>8</th>\n",
       "      <td>has</td>\n",
       "      <td>-0.40049</td>\n",
       "      <td>-0.91630</td>\n",
       "      <td>0.00000</td>\n",
       "      <td>0.0</td>\n",
       "      <td>0.0</td>\n",
       "      <td>0</td>\n",
       "      <td>0.0</td>\n",
       "      <td>0.00000</td>\n",
       "      <td>0.00000</td>\n",
       "    </tr>\n",
       "    <tr>\n",
       "      <th>0</th>\n",
       "      <td>#LW#</td>\n",
       "      <td>0.00000</td>\n",
       "      <td>0.00000</td>\n",
       "      <td>0.00000</td>\n",
       "      <td>0.0</td>\n",
       "      <td>0.0</td>\n",
       "      <td>0</td>\n",
       "      <td>1.0</td>\n",
       "      <td>0.00000</td>\n",
       "      <td>0.00000</td>\n",
       "    </tr>\n",
       "    <tr>\n",
       "      <th>1</th>\n",
       "      <td>.</td>\n",
       "      <td>0.00000</td>\n",
       "      <td>0.00000</td>\n",
       "      <td>0.00000</td>\n",
       "      <td>1.0</td>\n",
       "      <td>0.0</td>\n",
       "      <td>0</td>\n",
       "      <td>0.0</td>\n",
       "      <td>0.00000</td>\n",
       "      <td>0.00000</td>\n",
       "    </tr>\n",
       "    <tr>\n",
       "      <th>2</th>\n",
       "      <td>bird</td>\n",
       "      <td>0.00000</td>\n",
       "      <td>0.00000</td>\n",
       "      <td>0.00000</td>\n",
       "      <td>0.0</td>\n",
       "      <td>1.0</td>\n",
       "      <td>0</td>\n",
       "      <td>0.0</td>\n",
       "      <td>0.00000</td>\n",
       "      <td>0.00000</td>\n",
       "    </tr>\n",
       "    <tr>\n",
       "      <th>3</th>\n",
       "      <td>eagle</td>\n",
       "      <td>0.00000</td>\n",
       "      <td>0.00000</td>\n",
       "      <td>0.90007</td>\n",
       "      <td>0.0</td>\n",
       "      <td>0.0</td>\n",
       "      <td>0</td>\n",
       "      <td>-0.0</td>\n",
       "      <td>-0.43575</td>\n",
       "      <td>0.00003</td>\n",
       "    </tr>\n",
       "    <tr>\n",
       "      <th>4</th>\n",
       "      <td>extremity</td>\n",
       "      <td>0.00000</td>\n",
       "      <td>0.00000</td>\n",
       "      <td>0.00000</td>\n",
       "      <td>0.0</td>\n",
       "      <td>1.0</td>\n",
       "      <td>0</td>\n",
       "      <td>0.0</td>\n",
       "      <td>0.00000</td>\n",
       "      <td>0.00000</td>\n",
       "    </tr>\n",
       "    <tr>\n",
       "      <th>5</th>\n",
       "      <td>feather</td>\n",
       "      <td>0.00000</td>\n",
       "      <td>0.00000</td>\n",
       "      <td>0.33635</td>\n",
       "      <td>0.0</td>\n",
       "      <td>0.0</td>\n",
       "      <td>0</td>\n",
       "      <td>-0.0</td>\n",
       "      <td>0.94174</td>\n",
       "      <td>0.00005</td>\n",
       "    </tr>\n",
       "    <tr>\n",
       "      <th>6</th>\n",
       "      <td>fin</td>\n",
       "      <td>0.00000</td>\n",
       "      <td>0.00000</td>\n",
       "      <td>0.84445</td>\n",
       "      <td>0.0</td>\n",
       "      <td>0.0</td>\n",
       "      <td>0</td>\n",
       "      <td>0.0</td>\n",
       "      <td>0.53563</td>\n",
       "      <td>-0.00010</td>\n",
       "    </tr>\n",
       "    <tr>\n",
       "      <th>7</th>\n",
       "      <td>fish</td>\n",
       "      <td>0.00000</td>\n",
       "      <td>0.00000</td>\n",
       "      <td>0.00000</td>\n",
       "      <td>0.0</td>\n",
       "      <td>1.0</td>\n",
       "      <td>0</td>\n",
       "      <td>0.0</td>\n",
       "      <td>0.00000</td>\n",
       "      <td>0.00000</td>\n",
       "    </tr>\n",
       "    <tr>\n",
       "      <th>9</th>\n",
       "      <td>herring</td>\n",
       "      <td>0.00000</td>\n",
       "      <td>0.00000</td>\n",
       "      <td>0.90007</td>\n",
       "      <td>0.0</td>\n",
       "      <td>0.0</td>\n",
       "      <td>0</td>\n",
       "      <td>-0.0</td>\n",
       "      <td>-0.43575</td>\n",
       "      <td>0.00003</td>\n",
       "    </tr>\n",
       "    <tr>\n",
       "      <th>11</th>\n",
       "      <td>parrot</td>\n",
       "      <td>0.00000</td>\n",
       "      <td>0.00000</td>\n",
       "      <td>0.90007</td>\n",
       "      <td>0.0</td>\n",
       "      <td>0.0</td>\n",
       "      <td>0</td>\n",
       "      <td>-0.0</td>\n",
       "      <td>-0.43575</td>\n",
       "      <td>0.00003</td>\n",
       "    </tr>\n",
       "    <tr>\n",
       "      <th>12</th>\n",
       "      <td>scale</td>\n",
       "      <td>0.00000</td>\n",
       "      <td>0.00000</td>\n",
       "      <td>0.33635</td>\n",
       "      <td>0.0</td>\n",
       "      <td>0.0</td>\n",
       "      <td>0</td>\n",
       "      <td>-0.0</td>\n",
       "      <td>0.94174</td>\n",
       "      <td>0.00005</td>\n",
       "    </tr>\n",
       "    <tr>\n",
       "      <th>13</th>\n",
       "      <td>tuna</td>\n",
       "      <td>0.00000</td>\n",
       "      <td>0.00000</td>\n",
       "      <td>0.90007</td>\n",
       "      <td>0.0</td>\n",
       "      <td>0.0</td>\n",
       "      <td>0</td>\n",
       "      <td>-0.0</td>\n",
       "      <td>-0.43575</td>\n",
       "      <td>0.00003</td>\n",
       "    </tr>\n",
       "    <tr>\n",
       "      <th>14</th>\n",
       "      <td>wing</td>\n",
       "      <td>0.00000</td>\n",
       "      <td>0.00000</td>\n",
       "      <td>0.84445</td>\n",
       "      <td>0.0</td>\n",
       "      <td>0.0</td>\n",
       "      <td>0</td>\n",
       "      <td>0.0</td>\n",
       "      <td>0.53563</td>\n",
       "      <td>-0.00010</td>\n",
       "    </tr>\n",
       "  </tbody>\n",
       "</table>\n",
       "</div>"
      ],
      "text/plain": [
       "         word        1        2        3    4    5  6    7        8        9\n",
       "10        isa -0.91630  0.40049  0.00000  0.0  0.0  0 -0.0  0.00000  0.00000\n",
       "8         has -0.40049 -0.91630  0.00000  0.0  0.0  0  0.0  0.00000  0.00000\n",
       "0        #LW#  0.00000  0.00000  0.00000  0.0  0.0  0  1.0  0.00000  0.00000\n",
       "1           .  0.00000  0.00000  0.00000  1.0  0.0  0  0.0  0.00000  0.00000\n",
       "2        bird  0.00000  0.00000  0.00000  0.0  1.0  0  0.0  0.00000  0.00000\n",
       "3       eagle  0.00000  0.00000  0.90007  0.0  0.0  0 -0.0 -0.43575  0.00003\n",
       "4   extremity  0.00000  0.00000  0.00000  0.0  1.0  0  0.0  0.00000  0.00000\n",
       "5     feather  0.00000  0.00000  0.33635  0.0  0.0  0 -0.0  0.94174  0.00005\n",
       "6         fin  0.00000  0.00000  0.84445  0.0  0.0  0  0.0  0.53563 -0.00010\n",
       "7        fish  0.00000  0.00000  0.00000  0.0  1.0  0  0.0  0.00000  0.00000\n",
       "9     herring  0.00000  0.00000  0.90007  0.0  0.0  0 -0.0 -0.43575  0.00003\n",
       "11     parrot  0.00000  0.00000  0.90007  0.0  0.0  0 -0.0 -0.43575  0.00003\n",
       "12      scale  0.00000  0.00000  0.33635  0.0  0.0  0 -0.0  0.94174  0.00005\n",
       "13       tuna  0.00000  0.00000  0.90007  0.0  0.0  0 -0.0 -0.43575  0.00003\n",
       "14       wing  0.00000  0.00000  0.84445  0.0  0.0  0  0.0  0.53563 -0.00010"
      ]
     },
     "execution_count": 5,
     "metadata": {},
     "output_type": "execute_result"
    }
   ],
   "source": [
    "path = module_path + prj_dir[2:]    # path to vectors\n",
    "tmpath = path  # tmpath = module_path + '/tmp/'  # path for temporary files \n",
    "disjuncts = disjuncts.rename(columns={'disjunct':'link'})\n",
    "words, context, res1 = word_space(disjuncts, path, '', verbose='none')\n",
    "dim = 12    # Vector space dimensions\n",
    "vdf, res2 = epmisvd(disjuncts, path, tmpath, dim)\n",
    "if len(vdf.columns) < dim+1:\n",
    "    print('Vector space dimensionality: suggested', str(dim)+',', \\\n",
    "          'maximum created with SVM algorithm:', len(vdf.columns)-1)\n",
    "zdf = vdf.copy()\n",
    "cols = zdf.columns.tolist()\n",
    "del zdf['word']\n",
    "def zeros(x):\n",
    "    if abs(x) > 1e-10: return round(x,5)\n",
    "    else: return 0\n",
    "zdf = zdf.applymap(zeros)\n",
    "zdf['word'] = vdf['word']\n",
    "zdf = zdf[cols]\n",
    "zdf.sort_values(by=[1,2], ascending=[True,True])"
   ]
  },
  {
   "cell_type": "markdown",
   "metadata": {},
   "source": [
    "### 3.3.1 Check vector space singular values"
   ]
  },
  {
   "cell_type": "code",
   "execution_count": 6,
   "metadata": {},
   "outputs": [
    {
     "name": "stdout",
     "output_type": "stream",
     "text": [
      "Singular values: 5.64, 5.64, 5.08, 4.26, 3.99, 0.0, 3.94, 3.75, 0.0\n"
     ]
    },
    {
     "data": {
      "image/png": "[encoded data removed]",
      "text/plain": [
       "<matplotlib.figure.Figure at 0x7f4092a91358>"
      ]
     },
     "metadata": {},
     "output_type": "display_data"
    }
   ],
   "source": [
    "singular_values = pd.DataFrame(np.load(path+'svd.s.npy'),columns=['sv'])\n",
    "singular_values.index = range(1,len(singular_values)+1)\n",
    "print('Singular values:', \\\n",
    "      ', '.join(str(round(x,2)) for x in singular_values['sv']))\n",
    "singular_values\n",
    "plt.plot(singular_values.index, singular_values['sv'])\n",
    "plt.xlabel('Vector space dimension')\n",
    "plt.ylabel('Singilar value')\n",
    "plt.show()"
   ]
  },
  {
   "cell_type": "markdown",
   "metadata": {},
   "source": [
    "WOW! Looks awkward..."
   ]
  },
  {
   "cell_type": "markdown",
   "metadata": {},
   "source": [
    "### 3.3.2 Remove zero dimensions"
   ]
  },
  {
   "cell_type": "code",
   "execution_count": 7,
   "metadata": {},
   "outputs": [
    {
     "data": {
      "text/html": [
       "<div>\n",
       "<style scoped>\n",
       "    .dataframe tbody tr th:only-of-type {\n",
       "        vertical-align: middle;\n",
       "    }\n",
       "\n",
       "    .dataframe tbody tr th {\n",
       "        vertical-align: top;\n",
       "    }\n",
       "\n",
       "    .dataframe thead th {\n",
       "        text-align: right;\n",
       "    }\n",
       "</style>\n",
       "<table border=\"1\" class=\"dataframe\">\n",
       "  <thead>\n",
       "    <tr style=\"text-align: right;\">\n",
       "      <th></th>\n",
       "      <th>word</th>\n",
       "      <th>1</th>\n",
       "      <th>2</th>\n",
       "      <th>3</th>\n",
       "      <th>4</th>\n",
       "      <th>5</th>\n",
       "      <th>7</th>\n",
       "      <th>8</th>\n",
       "    </tr>\n",
       "  </thead>\n",
       "  <tbody>\n",
       "    <tr>\n",
       "      <th>10</th>\n",
       "      <td>isa</td>\n",
       "      <td>-0.91630</td>\n",
       "      <td>0.40049</td>\n",
       "      <td>0.00000</td>\n",
       "      <td>0.0</td>\n",
       "      <td>0.0</td>\n",
       "      <td>-0.0</td>\n",
       "      <td>0.00000</td>\n",
       "    </tr>\n",
       "    <tr>\n",
       "      <th>8</th>\n",
       "      <td>has</td>\n",
       "      <td>-0.40049</td>\n",
       "      <td>-0.91630</td>\n",
       "      <td>0.00000</td>\n",
       "      <td>0.0</td>\n",
       "      <td>0.0</td>\n",
       "      <td>0.0</td>\n",
       "      <td>0.00000</td>\n",
       "    </tr>\n",
       "    <tr>\n",
       "      <th>0</th>\n",
       "      <td>#LW#</td>\n",
       "      <td>0.00000</td>\n",
       "      <td>0.00000</td>\n",
       "      <td>0.00000</td>\n",
       "      <td>0.0</td>\n",
       "      <td>0.0</td>\n",
       "      <td>1.0</td>\n",
       "      <td>0.00000</td>\n",
       "    </tr>\n",
       "    <tr>\n",
       "      <th>1</th>\n",
       "      <td>.</td>\n",
       "      <td>0.00000</td>\n",
       "      <td>0.00000</td>\n",
       "      <td>0.00000</td>\n",
       "      <td>1.0</td>\n",
       "      <td>0.0</td>\n",
       "      <td>0.0</td>\n",
       "      <td>0.00000</td>\n",
       "    </tr>\n",
       "    <tr>\n",
       "      <th>2</th>\n",
       "      <td>bird</td>\n",
       "      <td>0.00000</td>\n",
       "      <td>0.00000</td>\n",
       "      <td>0.00000</td>\n",
       "      <td>0.0</td>\n",
       "      <td>1.0</td>\n",
       "      <td>0.0</td>\n",
       "      <td>0.00000</td>\n",
       "    </tr>\n",
       "    <tr>\n",
       "      <th>3</th>\n",
       "      <td>eagle</td>\n",
       "      <td>0.00000</td>\n",
       "      <td>0.00000</td>\n",
       "      <td>0.90007</td>\n",
       "      <td>0.0</td>\n",
       "      <td>0.0</td>\n",
       "      <td>-0.0</td>\n",
       "      <td>-0.43575</td>\n",
       "    </tr>\n",
       "    <tr>\n",
       "      <th>4</th>\n",
       "      <td>extremity</td>\n",
       "      <td>0.00000</td>\n",
       "      <td>0.00000</td>\n",
       "      <td>0.00000</td>\n",
       "      <td>0.0</td>\n",
       "      <td>1.0</td>\n",
       "      <td>0.0</td>\n",
       "      <td>0.00000</td>\n",
       "    </tr>\n",
       "    <tr>\n",
       "      <th>5</th>\n",
       "      <td>feather</td>\n",
       "      <td>0.00000</td>\n",
       "      <td>0.00000</td>\n",
       "      <td>0.33635</td>\n",
       "      <td>0.0</td>\n",
       "      <td>0.0</td>\n",
       "      <td>-0.0</td>\n",
       "      <td>0.94174</td>\n",
       "    </tr>\n",
       "    <tr>\n",
       "      <th>6</th>\n",
       "      <td>fin</td>\n",
       "      <td>0.00000</td>\n",
       "      <td>0.00000</td>\n",
       "      <td>0.84445</td>\n",
       "      <td>0.0</td>\n",
       "      <td>0.0</td>\n",
       "      <td>0.0</td>\n",
       "      <td>0.53563</td>\n",
       "    </tr>\n",
       "    <tr>\n",
       "      <th>7</th>\n",
       "      <td>fish</td>\n",
       "      <td>0.00000</td>\n",
       "      <td>0.00000</td>\n",
       "      <td>0.00000</td>\n",
       "      <td>0.0</td>\n",
       "      <td>1.0</td>\n",
       "      <td>0.0</td>\n",
       "      <td>0.00000</td>\n",
       "    </tr>\n",
       "    <tr>\n",
       "      <th>9</th>\n",
       "      <td>herring</td>\n",
       "      <td>0.00000</td>\n",
       "      <td>0.00000</td>\n",
       "      <td>0.90007</td>\n",
       "      <td>0.0</td>\n",
       "      <td>0.0</td>\n",
       "      <td>-0.0</td>\n",
       "      <td>-0.43575</td>\n",
       "    </tr>\n",
       "    <tr>\n",
       "      <th>11</th>\n",
       "      <td>parrot</td>\n",
       "      <td>0.00000</td>\n",
       "      <td>0.00000</td>\n",
       "      <td>0.90007</td>\n",
       "      <td>0.0</td>\n",
       "      <td>0.0</td>\n",
       "      <td>-0.0</td>\n",
       "      <td>-0.43575</td>\n",
       "    </tr>\n",
       "    <tr>\n",
       "      <th>12</th>\n",
       "      <td>scale</td>\n",
       "      <td>0.00000</td>\n",
       "      <td>0.00000</td>\n",
       "      <td>0.33635</td>\n",
       "      <td>0.0</td>\n",
       "      <td>0.0</td>\n",
       "      <td>-0.0</td>\n",
       "      <td>0.94174</td>\n",
       "    </tr>\n",
       "    <tr>\n",
       "      <th>13</th>\n",
       "      <td>tuna</td>\n",
       "      <td>0.00000</td>\n",
       "      <td>0.00000</td>\n",
       "      <td>0.90007</td>\n",
       "      <td>0.0</td>\n",
       "      <td>0.0</td>\n",
       "      <td>-0.0</td>\n",
       "      <td>-0.43575</td>\n",
       "    </tr>\n",
       "    <tr>\n",
       "      <th>14</th>\n",
       "      <td>wing</td>\n",
       "      <td>0.00000</td>\n",
       "      <td>0.00000</td>\n",
       "      <td>0.84445</td>\n",
       "      <td>0.0</td>\n",
       "      <td>0.0</td>\n",
       "      <td>0.0</td>\n",
       "      <td>0.53563</td>\n",
       "    </tr>\n",
       "  </tbody>\n",
       "</table>\n",
       "</div>"
      ],
      "text/plain": [
       "         word        1        2        3    4    5    7        8\n",
       "10        isa -0.91630  0.40049  0.00000  0.0  0.0 -0.0  0.00000\n",
       "8         has -0.40049 -0.91630  0.00000  0.0  0.0  0.0  0.00000\n",
       "0        #LW#  0.00000  0.00000  0.00000  0.0  0.0  1.0  0.00000\n",
       "1           .  0.00000  0.00000  0.00000  1.0  0.0  0.0  0.00000\n",
       "2        bird  0.00000  0.00000  0.00000  0.0  1.0  0.0  0.00000\n",
       "3       eagle  0.00000  0.00000  0.90007  0.0  0.0 -0.0 -0.43575\n",
       "4   extremity  0.00000  0.00000  0.00000  0.0  1.0  0.0  0.00000\n",
       "5     feather  0.00000  0.00000  0.33635  0.0  0.0 -0.0  0.94174\n",
       "6         fin  0.00000  0.00000  0.84445  0.0  0.0  0.0  0.53563\n",
       "7        fish  0.00000  0.00000  0.00000  0.0  1.0  0.0  0.00000\n",
       "9     herring  0.00000  0.00000  0.90007  0.0  0.0 -0.0 -0.43575\n",
       "11     parrot  0.00000  0.00000  0.90007  0.0  0.0 -0.0 -0.43575\n",
       "12      scale  0.00000  0.00000  0.33635  0.0  0.0 -0.0  0.94174\n",
       "13       tuna  0.00000  0.00000  0.90007  0.0  0.0 -0.0 -0.43575\n",
       "14       wing  0.00000  0.00000  0.84445  0.0  0.0  0.0  0.53563"
      ]
     },
     "execution_count": 7,
     "metadata": {},
     "output_type": "execute_result"
    }
   ],
   "source": [
    "zdf.drop(zdf.columns[[6,9]],axis=1,inplace=True)\n",
    "zdf.sort_values(by=[1,2], ascending=[True,True])"
   ]
  },
  {
   "cell_type": "markdown",
   "metadata": {},
   "source": [
    "## 3.4 Clustering\n",
    "### 3.4.1 Find optimal number of clusters"
   ]
  },
  {
   "cell_type": "code",
   "execution_count": 8,
   "metadata": {},
   "outputs": [
    {
     "name": "stdout",
     "output_type": "stream",
     "text": [
      "Silhouette index in a range of cluster numbers\n"
     ]
    },
    {
     "data": {
      "image/png": "[encoded data removed]",
      "text/plain": [
       "<matplotlib.figure.Figure at 0x7f4092a91860>"
      ]
     },
     "metadata": {},
     "output_type": "display_data"
    },
    {
     "data": {
      "text/html": [
       "<table><tr><td>N</td><td>NR</td><td>Silhouette</td><td>Clusters</td></tr><tr><td>3</td><td>3</td><td>0.5</td><td>eagle herring parrot tuna | #LW# . bird extremity fish has isa | feather fin scale wing</td></tr><tr><td>4</td><td>4</td><td>0.633</td><td>feather fin scale wing | eagle herring parrot tuna | #LW# . has isa | bird extremity fish</td></tr><tr><td>5</td><td>5</td><td>0.633</td><td>bird extremity fish | eagle herring parrot tuna | . | feather fin scale wing | #LW# has isa</td></tr><tr><td>6</td><td>6</td><td>0.633</td><td>feather fin scale wing | eagle herring parrot tuna | bird extremity fish | . | has isa | #LW#</td></tr><tr><td>7</td><td>7</td><td>0.633</td><td>bird extremity fish | eagle herring parrot tuna | feather fin scale wing | . | #LW# | has | isa</td></tr><tr><td>8</td><td>8</td><td>0.733</td><td>fin wing | bird extremity fish | eagle herring parrot tuna | isa | #LW# | . | has | feather scale</td></tr><tr><td>9</td><td>8</td><td>0.733</td><td>. | has | fin wing | bird extremity fish | eagle herring parrot tuna | #LW# | isa | feather scale</td></tr></table>"
      ],
      "text/plain": [
       "<IPython.core.display.HTML object>"
      ]
     },
     "metadata": {},
     "output_type": "display_data"
    }
   ],
   "source": [
    "words = vdf['word'].tolist()\n",
    "df = zdf.copy()\n",
    "del df['word']\n",
    "sil_range = pd.DataFrame(columns=['NC','NR','Silhouette','Inertia'])\n",
    "sil_range['NC'] = sil_range['NC'].astype(int)\n",
    "table = [['N', 'NR', 'Silhouette', 'Clusters']]\n",
    "tsv = 'N\\tNR\\tSilhouette\\tClusers\\n'\n",
    "for i,j in enumerate(range(3,10)):\n",
    "    silhouette, inertia, cluster_labels, centroids, cluster_sizes, \\\n",
    "        cluster_word_ids, cluster_words = cluster_kmeans(j, df, words)\n",
    "    sil_range.loc[i] = [j, len(cluster_words), round(silhouette,3), inertia]\n",
    "    table.append([j, len(cluster_words), round(silhouette,3), \\\n",
    "        ' | '.join(' '.join(str(word) for word in cluster)\n",
    "            .replace('###LEFT-WALL###', '#LW#') for cluster in cluster_words)])\n",
    "    tsv = tsv + str(j) + '\\t' + str(len(cluster_words)) + '\\t' + \\\n",
    "        str(round(silhouette,3)) + '\\t' + \\\n",
    "        ' '.join('|'.join(str(word) for word in cluster) \\\n",
    "                 for cluster in cluster_words) + '\\n'\n",
    "sil_range[['NC','NR']] = sil_range[['NC','NR']].astype(int)\n",
    "\n",
    "print('Silhouette index in a range of cluster numbers')\n",
    "plt.plot(sil_range['NC'], sil_range['Silhouette'])\n",
    "plt.xlabel('Given clusters number - K-Means parameter\\n' + \\\n",
    "           '(algorithm returns 8 clusters for any parameter 8+)')\n",
    "plt.ylabel('Silhouette index')\n",
    "plt.show()\n",
    "display(html_table(table))"
   ]
  },
  {
   "cell_type": "markdown",
   "metadata": {},
   "source": [
    "The Silhouette index suggests 8 clusters...\n",
    "However 6 looks looks pretty good..."
   ]
  },
  {
   "cell_type": "markdown",
   "metadata": {},
   "source": [
    "### 3.4.2 Cluster words"
   ]
  },
  {
   "cell_type": "code",
   "execution_count": 9,
   "metadata": {},
   "outputs": [
    {
     "data": {
      "text/html": [
       "<div>\n",
       "<style scoped>\n",
       "    .dataframe tbody tr th:only-of-type {\n",
       "        vertical-align: middle;\n",
       "    }\n",
       "\n",
       "    .dataframe tbody tr th {\n",
       "        vertical-align: top;\n",
       "    }\n",
       "\n",
       "    .dataframe thead th {\n",
       "        text-align: right;\n",
       "    }\n",
       "</style>\n",
       "<table border=\"1\" class=\"dataframe\">\n",
       "  <thead>\n",
       "    <tr style=\"text-align: right;\">\n",
       "      <th></th>\n",
       "      <th>1</th>\n",
       "      <th>2</th>\n",
       "      <th>3</th>\n",
       "      <th>4</th>\n",
       "      <th>5</th>\n",
       "      <th>6</th>\n",
       "      <th>7</th>\n",
       "      <th>cluster_words</th>\n",
       "      <th>cluster</th>\n",
       "    </tr>\n",
       "  </thead>\n",
       "  <tbody>\n",
       "    <tr>\n",
       "      <th>1</th>\n",
       "      <td>-0.91630</td>\n",
       "      <td>0.40049</td>\n",
       "      <td>0.00000</td>\n",
       "      <td>0.0</td>\n",
       "      <td>0.0</td>\n",
       "      <td>0.0</td>\n",
       "      <td>0.00000</td>\n",
       "      <td>[isa]</td>\n",
       "      <td>1</td>\n",
       "    </tr>\n",
       "    <tr>\n",
       "      <th>2</th>\n",
       "      <td>0.00000</td>\n",
       "      <td>0.00000</td>\n",
       "      <td>0.84445</td>\n",
       "      <td>0.0</td>\n",
       "      <td>0.0</td>\n",
       "      <td>0.0</td>\n",
       "      <td>0.53563</td>\n",
       "      <td>[fin, wing]</td>\n",
       "      <td>2</td>\n",
       "    </tr>\n",
       "    <tr>\n",
       "      <th>3</th>\n",
       "      <td>0.00000</td>\n",
       "      <td>0.00000</td>\n",
       "      <td>0.00000</td>\n",
       "      <td>0.0</td>\n",
       "      <td>1.0</td>\n",
       "      <td>0.0</td>\n",
       "      <td>0.00000</td>\n",
       "      <td>[bird, extremity, fish]</td>\n",
       "      <td>3</td>\n",
       "    </tr>\n",
       "    <tr>\n",
       "      <th>4</th>\n",
       "      <td>0.00000</td>\n",
       "      <td>0.00000</td>\n",
       "      <td>0.90007</td>\n",
       "      <td>0.0</td>\n",
       "      <td>0.0</td>\n",
       "      <td>0.0</td>\n",
       "      <td>-0.43575</td>\n",
       "      <td>[eagle, herring, parrot, tuna]</td>\n",
       "      <td>4</td>\n",
       "    </tr>\n",
       "    <tr>\n",
       "      <th>5</th>\n",
       "      <td>0.00000</td>\n",
       "      <td>0.00000</td>\n",
       "      <td>0.00000</td>\n",
       "      <td>1.0</td>\n",
       "      <td>0.0</td>\n",
       "      <td>0.0</td>\n",
       "      <td>0.00000</td>\n",
       "      <td>[.]</td>\n",
       "      <td>5</td>\n",
       "    </tr>\n",
       "    <tr>\n",
       "      <th>6</th>\n",
       "      <td>0.00000</td>\n",
       "      <td>0.00000</td>\n",
       "      <td>0.00000</td>\n",
       "      <td>0.0</td>\n",
       "      <td>0.0</td>\n",
       "      <td>1.0</td>\n",
       "      <td>0.00000</td>\n",
       "      <td>[#LW#]</td>\n",
       "      <td>6</td>\n",
       "    </tr>\n",
       "    <tr>\n",
       "      <th>7</th>\n",
       "      <td>-0.40049</td>\n",
       "      <td>-0.91630</td>\n",
       "      <td>0.00000</td>\n",
       "      <td>0.0</td>\n",
       "      <td>0.0</td>\n",
       "      <td>0.0</td>\n",
       "      <td>0.00000</td>\n",
       "      <td>[has]</td>\n",
       "      <td>7</td>\n",
       "    </tr>\n",
       "    <tr>\n",
       "      <th>8</th>\n",
       "      <td>0.00000</td>\n",
       "      <td>0.00000</td>\n",
       "      <td>0.33635</td>\n",
       "      <td>0.0</td>\n",
       "      <td>0.0</td>\n",
       "      <td>0.0</td>\n",
       "      <td>0.94174</td>\n",
       "      <td>[feather, scale]</td>\n",
       "      <td>8</td>\n",
       "    </tr>\n",
       "  </tbody>\n",
       "</table>\n",
       "</div>"
      ],
      "text/plain": [
       "         1        2        3    4    5    6        7  \\\n",
       "1 -0.91630  0.40049  0.00000  0.0  0.0  0.0  0.00000   \n",
       "2  0.00000  0.00000  0.84445  0.0  0.0  0.0  0.53563   \n",
       "3  0.00000  0.00000  0.00000  0.0  1.0  0.0  0.00000   \n",
       "4  0.00000  0.00000  0.90007  0.0  0.0  0.0 -0.43575   \n",
       "5  0.00000  0.00000  0.00000  1.0  0.0  0.0  0.00000   \n",
       "6  0.00000  0.00000  0.00000  0.0  0.0  1.0  0.00000   \n",
       "7 -0.40049 -0.91630  0.00000  0.0  0.0  0.0  0.00000   \n",
       "8  0.00000  0.00000  0.33635  0.0  0.0  0.0  0.94174   \n",
       "\n",
       "                    cluster_words  cluster  \n",
       "1                           [isa]        1  \n",
       "2                     [fin, wing]        2  \n",
       "3         [bird, extremity, fish]        3  \n",
       "4  [eagle, herring, parrot, tuna]        4  \n",
       "5                             [.]        5  \n",
       "6                          [#LW#]        6  \n",
       "7                           [has]        7  \n",
       "8                [feather, scale]        8  "
      ]
     },
     "execution_count": 9,
     "metadata": {},
     "output_type": "execute_result"
    }
   ],
   "source": [
    "n = 8  # Optimal number of clusters defined by max silhouette index\n",
    "words = vdf['word'].tolist()\n",
    "silhouette, inertia, cluster_labels, centroids, cluster_sizes, \\\n",
    "    cluster_word_ids, cluster_words = cluster_kmeans(n, df, words)\n",
    "cdf = pd.DataFrame(centroids)\n",
    "def row_index(row): return int(row.name)\n",
    "def cluster_word_list(row): return cluster_words[int(row.name)]\n",
    "cls = cdf.applymap(zeros)\n",
    "cls['cluster_words'] = cls.apply(cluster_word_list, axis=1)\n",
    "cls.index = range(1,len(cls)+1)\n",
    "cls['cluster'] = cls.apply(row_index, axis=1)\n",
    "for col in cls.columns:\n",
    "    if type(col) == int: cls=cls.rename(columns={col:col+11})\n",
    "for col in cls.columns:\n",
    "    if type(col) == int: cls=cls.rename(columns={col:col-10})\n",
    "cls"
   ]
  },
  {
   "cell_type": "markdown",
   "metadata": {},
   "source": [
    "### 3.4.3 Word clusters in 2D, axis 1 and 3\n",
    "We have an awkward situation: the only two verbs have non-zero values for **both** axes 1 and 2.  \n",
    "So to have an idea of word cluster spacial distribution we use the two axes with maximum non-zero values - 1 and 3."
   ]
  },
  {
   "cell_type": "code",
   "execution_count": 10,
   "metadata": {},
   "outputs": [
    {
     "name": "stdout",
     "output_type": "stream",
     "text": [
      "Cluster words in vector space, axes 1 and 3\n"
     ]
    },
    {
     "data": {
      "image/png": "[encoded data removed]",
      "text/plain": [
       "<matplotlib.figure.Figure at 0x7f4092a4a8d0>"
      ]
     },
     "metadata": {},
     "output_type": "display_data"
    }
   ],
   "source": [
    "plot2d(1, 3, cls, 'cluster_words', 15)"
   ]
  },
  {
   "cell_type": "markdown",
   "metadata": {},
   "source": [
    "## 3.5 Learn word categories from cluster similarities"
   ]
  },
  {
   "cell_type": "code",
   "execution_count": 11,
   "metadata": {},
   "outputs": [
    {
     "name": "stdout",
     "output_type": "stream",
     "text": [
      "Cluster similarities: absolute values > 1e-10:\n"
     ]
    },
    {
     "data": {
      "text/html": [
       "<div>\n",
       "<style scoped>\n",
       "    .dataframe tbody tr th:only-of-type {\n",
       "        vertical-align: middle;\n",
       "    }\n",
       "\n",
       "    .dataframe tbody tr th {\n",
       "        vertical-align: top;\n",
       "    }\n",
       "\n",
       "    .dataframe thead th {\n",
       "        text-align: right;\n",
       "    }\n",
       "</style>\n",
       "<table border=\"1\" class=\"dataframe\">\n",
       "  <thead>\n",
       "    <tr style=\"text-align: right;\">\n",
       "      <th></th>\n",
       "      <th>c1</th>\n",
       "      <th>c2</th>\n",
       "      <th>similarity</th>\n",
       "      <th>c1_words</th>\n",
       "      <th>c2_words</th>\n",
       "    </tr>\n",
       "  </thead>\n",
       "  <tbody>\n",
       "    <tr>\n",
       "      <th>12</th>\n",
       "      <td>1</td>\n",
       "      <td>7</td>\n",
       "      <td>0.788455</td>\n",
       "      <td>[fin, wing]</td>\n",
       "      <td>[feather, scale]</td>\n",
       "    </tr>\n",
       "    <tr>\n",
       "      <th>8</th>\n",
       "      <td>1</td>\n",
       "      <td>3</td>\n",
       "      <td>0.526664</td>\n",
       "      <td>[fin, wing]</td>\n",
       "      <td>[eagle, herring, parrot, tuna]</td>\n",
       "    </tr>\n",
       "    <tr>\n",
       "      <th>21</th>\n",
       "      <td>3</td>\n",
       "      <td>7</td>\n",
       "      <td>-0.107624</td>\n",
       "      <td>[eagle, herring, parrot, tuna]</td>\n",
       "      <td>[feather, scale]</td>\n",
       "    </tr>\n",
       "  </tbody>\n",
       "</table>\n",
       "</div>"
      ],
      "text/plain": [
       "    c1  c2  similarity                        c1_words  \\\n",
       "12   1   7    0.788455                     [fin, wing]   \n",
       "8    1   3    0.526664                     [fin, wing]   \n",
       "21   3   7   -0.107624  [eagle, herring, parrot, tuna]   \n",
       "\n",
       "                          c2_words  \n",
       "12                [feather, scale]  \n",
       "8   [eagle, herring, parrot, tuna]  \n",
       "21                [feather, scale]  "
      ]
     },
     "execution_count": 11,
     "metadata": {},
     "output_type": "execute_result"
    },
    {
     "data": {
      "image/png": "[encoded data removed]",
      "text/plain": [
       "<matplotlib.figure.Figure at 0x7f4089bf3c88>"
      ]
     },
     "metadata": {},
     "output_type": "display_data"
    }
   ],
   "source": [
    "sim_df, res3 = cosine_similarity(centroids, cluster_words, 'max')\n",
    "count, division = np.histogram(sim_df['similarity'])\n",
    "sim_df['similarity'].hist(bins=division)\n",
    "print('Cluster similarities: absolute values > 1e-10:')\n",
    "sim_df.sort_values(by='similarity', ascending=False) \\\n",
    "      .loc[abs(sim_df['similarity']) > 1e-10]"
   ]
  },
  {
   "cell_type": "markdown",
   "metadata": {},
   "source": [
    "Looks like we have got a problem: due to a specific words distribution in the word vector space we can't find similarity between words that have no common axes...  \n",
    "**But** why we can't find similarity between the verbs (**has** and **isa**), both non-zero on axes 1 and 2?"
   ]
  },
  {
   "cell_type": "markdown",
   "metadata": {},
   "source": [
    "### Trying to somehow cluster the verbs..."
   ]
  },
  {
   "cell_type": "code",
   "execution_count": 12,
   "metadata": {},
   "outputs": [
    {
     "name": "stdout",
     "output_type": "stream",
     "text": [
      "Cluster words in vector space, axes 1 and 2\n"
     ]
    },
    {
     "data": {
      "image/png": "[encoded data removed]",
      "text/plain": [
       "<matplotlib.figure.Figure at 0x7f4092a91c18>"
      ]
     },
     "metadata": {},
     "output_type": "display_data"
    }
   ],
   "source": [
    "plot2d(1, 2, cls, 'cluster_words', 15)"
   ]
  },
  {
   "cell_type": "code",
   "execution_count": 13,
   "metadata": {},
   "outputs": [
    {
     "name": "stdout",
     "output_type": "stream",
     "text": [
      "[['isa'], ['has']] [[-0.9163, 0.40049], [-0.40049, -0.9163]]\n"
     ]
    }
   ],
   "source": [
    "verbs = list()\n",
    "verb_vectors = list()\n",
    "for i,centroid in enumerate(centroids):\n",
    "    if abs(centroid[0]) > 1e-10:\n",
    "        verbs.append(cluster_words[i])\n",
    "        verb_vectors.append([centroid[0],centroid[1]])\n",
    "print(verbs, verb_vectors)"
   ]
  },
  {
   "cell_type": "code",
   "execution_count": 14,
   "metadata": {},
   "outputs": [
    {
     "name": "stdout",
     "output_type": "stream",
     "text": [
      "Verb cluster similarities:\n"
     ]
    },
    {
     "data": {
      "text/html": [
       "<div>\n",
       "<style scoped>\n",
       "    .dataframe tbody tr th:only-of-type {\n",
       "        vertical-align: middle;\n",
       "    }\n",
       "\n",
       "    .dataframe tbody tr th {\n",
       "        vertical-align: top;\n",
       "    }\n",
       "\n",
       "    .dataframe thead th {\n",
       "        text-align: right;\n",
       "    }\n",
       "</style>\n",
       "<table border=\"1\" class=\"dataframe\">\n",
       "  <thead>\n",
       "    <tr style=\"text-align: right;\">\n",
       "      <th></th>\n",
       "      <th>c1</th>\n",
       "      <th>c2</th>\n",
       "      <th>similarity</th>\n",
       "      <th>c1_words</th>\n",
       "      <th>c2_words</th>\n",
       "    </tr>\n",
       "  </thead>\n",
       "  <tbody>\n",
       "    <tr>\n",
       "      <th>0</th>\n",
       "      <td>0</td>\n",
       "      <td>1</td>\n",
       "      <td>0.0</td>\n",
       "      <td>[isa]</td>\n",
       "      <td>[has]</td>\n",
       "    </tr>\n",
       "  </tbody>\n",
       "</table>\n",
       "</div>"
      ],
      "text/plain": [
       "   c1  c2  similarity c1_words c2_words\n",
       "0   0   1         0.0    [isa]    [has]"
      ]
     },
     "execution_count": 14,
     "metadata": {},
     "output_type": "execute_result"
    },
    {
     "data": {
      "image/png": "[encoded data removed]",
      "text/plain": [
       "<matplotlib.figure.Figure at 0x7f4092a85a90>"
      ]
     },
     "metadata": {},
     "output_type": "display_data"
    }
   ],
   "source": [
    "sim_df, res4 = cosine_similarity(verb_vectors, verbs, 'max')\n",
    "count, division = np.histogram(sim_df['similarity'])\n",
    "sim_df['similarity'].hist(bins=division)\n",
    "print('Verb cluster similarities:')\n",
    "sim_df.sort_values(by='similarity', ascending=False)"
   ]
  },
  {
   "cell_type": "markdown",
   "metadata": {},
   "source": [
    "## 3.6 Resume: \n",
    "This time we failed to learn word categories by clustering disjuncts.  \n",
    "But it's not final: we had very small dataset with frequency = 1 for most disjuncts.  \n",
    "Therefore the word vector space [6] was rather specific and clustered in an awkward way [10]. "
   ]
  },
  {
   "cell_type": "markdown",
   "metadata": {},
   "source": [
    "## Appendix: No sentence borders?\n",
    "Remove #Left-Wall# and period!"
   ]
  },
  {
   "cell_type": "code",
   "execution_count": 15,
   "metadata": {},
   "outputs": [
    {
     "name": "stdout",
     "output_type": "stream",
     "text": [
      "disjuncts: <class 'pandas.core.frame.DataFrame'> 36 items\n"
     ]
    },
    {
     "data": {
      "text/html": [
       "<div>\n",
       "<style scoped>\n",
       "    .dataframe tbody tr th:only-of-type {\n",
       "        vertical-align: middle;\n",
       "    }\n",
       "\n",
       "    .dataframe tbody tr th {\n",
       "        vertical-align: top;\n",
       "    }\n",
       "\n",
       "    .dataframe thead th {\n",
       "        text-align: right;\n",
       "    }\n",
       "</style>\n",
       "<table border=\"1\" class=\"dataframe\">\n",
       "  <thead>\n",
       "    <tr style=\"text-align: right;\">\n",
       "      <th></th>\n",
       "      <th>word</th>\n",
       "      <th>disjunct</th>\n",
       "      <th>count</th>\n",
       "    </tr>\n",
       "  </thead>\n",
       "  <tbody>\n",
       "    <tr>\n",
       "      <th>0</th>\n",
       "      <td>bird</td>\n",
       "      <td>isa-</td>\n",
       "      <td>2</td>\n",
       "    </tr>\n",
       "    <tr>\n",
       "      <th>1</th>\n",
       "      <td>extremity</td>\n",
       "      <td>isa-</td>\n",
       "      <td>2</td>\n",
       "    </tr>\n",
       "    <tr>\n",
       "      <th>2</th>\n",
       "      <td>fin</td>\n",
       "      <td>has-</td>\n",
       "      <td>2</td>\n",
       "    </tr>\n",
       "    <tr>\n",
       "      <th>3</th>\n",
       "      <td>fish</td>\n",
       "      <td>isa-</td>\n",
       "      <td>2</td>\n",
       "    </tr>\n",
       "    <tr>\n",
       "      <th>4</th>\n",
       "      <td>wing</td>\n",
       "      <td>has-</td>\n",
       "      <td>2</td>\n",
       "    </tr>\n",
       "    <tr>\n",
       "      <th>5</th>\n",
       "      <td>eagle</td>\n",
       "      <td>has+</td>\n",
       "      <td>1</td>\n",
       "    </tr>\n",
       "    <tr>\n",
       "      <th>6</th>\n",
       "      <td>eagle</td>\n",
       "      <td>isa+</td>\n",
       "      <td>1</td>\n",
       "    </tr>\n",
       "    <tr>\n",
       "      <th>7</th>\n",
       "      <td>feather</td>\n",
       "      <td>has-</td>\n",
       "      <td>1</td>\n",
       "    </tr>\n",
       "    <tr>\n",
       "      <th>8</th>\n",
       "      <td>fin</td>\n",
       "      <td>has+</td>\n",
       "      <td>1</td>\n",
       "    </tr>\n",
       "    <tr>\n",
       "      <th>9</th>\n",
       "      <td>fin</td>\n",
       "      <td>isa+</td>\n",
       "      <td>1</td>\n",
       "    </tr>\n",
       "    <tr>\n",
       "      <th>10</th>\n",
       "      <td>has</td>\n",
       "      <td>eagle-wing+</td>\n",
       "      <td>1</td>\n",
       "    </tr>\n",
       "    <tr>\n",
       "      <th>11</th>\n",
       "      <td>has</td>\n",
       "      <td>fin-scale+</td>\n",
       "      <td>1</td>\n",
       "    </tr>\n",
       "    <tr>\n",
       "      <th>12</th>\n",
       "      <td>has</td>\n",
       "      <td>herring-fin+</td>\n",
       "      <td>1</td>\n",
       "    </tr>\n",
       "    <tr>\n",
       "      <th>13</th>\n",
       "      <td>has</td>\n",
       "      <td>parrot-wing+</td>\n",
       "      <td>1</td>\n",
       "    </tr>\n",
       "    <tr>\n",
       "      <th>14</th>\n",
       "      <td>has</td>\n",
       "      <td>tuna-fin+</td>\n",
       "      <td>1</td>\n",
       "    </tr>\n",
       "    <tr>\n",
       "      <th>15</th>\n",
       "      <td>has</td>\n",
       "      <td>wing-feather+</td>\n",
       "      <td>1</td>\n",
       "    </tr>\n",
       "    <tr>\n",
       "      <th>16</th>\n",
       "      <td>herring</td>\n",
       "      <td>has+</td>\n",
       "      <td>1</td>\n",
       "    </tr>\n",
       "    <tr>\n",
       "      <th>17</th>\n",
       "      <td>herring</td>\n",
       "      <td>isa+</td>\n",
       "      <td>1</td>\n",
       "    </tr>\n",
       "    <tr>\n",
       "      <th>18</th>\n",
       "      <td>isa</td>\n",
       "      <td>eagle-bird+</td>\n",
       "      <td>1</td>\n",
       "    </tr>\n",
       "    <tr>\n",
       "      <th>19</th>\n",
       "      <td>isa</td>\n",
       "      <td>fin-extremity+</td>\n",
       "      <td>1</td>\n",
       "    </tr>\n",
       "    <tr>\n",
       "      <th>20</th>\n",
       "      <td>isa</td>\n",
       "      <td>herring-fish+</td>\n",
       "      <td>1</td>\n",
       "    </tr>\n",
       "    <tr>\n",
       "      <th>21</th>\n",
       "      <td>isa</td>\n",
       "      <td>parrot-bird+</td>\n",
       "      <td>1</td>\n",
       "    </tr>\n",
       "    <tr>\n",
       "      <th>22</th>\n",
       "      <td>isa</td>\n",
       "      <td>tuna-fish+</td>\n",
       "      <td>1</td>\n",
       "    </tr>\n",
       "    <tr>\n",
       "      <th>23</th>\n",
       "      <td>isa</td>\n",
       "      <td>wing-extremity+</td>\n",
       "      <td>1</td>\n",
       "    </tr>\n",
       "    <tr>\n",
       "      <th>24</th>\n",
       "      <td>parrot</td>\n",
       "      <td>has+</td>\n",
       "      <td>1</td>\n",
       "    </tr>\n",
       "    <tr>\n",
       "      <th>25</th>\n",
       "      <td>parrot</td>\n",
       "      <td>isa+</td>\n",
       "      <td>1</td>\n",
       "    </tr>\n",
       "    <tr>\n",
       "      <th>26</th>\n",
       "      <td>scale</td>\n",
       "      <td>has-</td>\n",
       "      <td>1</td>\n",
       "    </tr>\n",
       "    <tr>\n",
       "      <th>27</th>\n",
       "      <td>tuna</td>\n",
       "      <td>has+</td>\n",
       "      <td>1</td>\n",
       "    </tr>\n",
       "    <tr>\n",
       "      <th>28</th>\n",
       "      <td>tuna</td>\n",
       "      <td>isa+</td>\n",
       "      <td>1</td>\n",
       "    </tr>\n",
       "    <tr>\n",
       "      <th>29</th>\n",
       "      <td>wing</td>\n",
       "      <td>has+</td>\n",
       "      <td>1</td>\n",
       "    </tr>\n",
       "    <tr>\n",
       "      <th>30</th>\n",
       "      <td>wing</td>\n",
       "      <td>isa+</td>\n",
       "      <td>1</td>\n",
       "    </tr>\n",
       "  </tbody>\n",
       "</table>\n",
       "</div>"
      ],
      "text/plain": [
       "         word         disjunct  count\n",
       "0        bird             isa-      2\n",
       "1   extremity             isa-      2\n",
       "2         fin             has-      2\n",
       "3        fish             isa-      2\n",
       "4        wing             has-      2\n",
       "5       eagle             has+      1\n",
       "6       eagle             isa+      1\n",
       "7     feather             has-      1\n",
       "8         fin             has+      1\n",
       "9         fin             isa+      1\n",
       "10        has      eagle-wing+      1\n",
       "11        has       fin-scale+      1\n",
       "12        has     herring-fin+      1\n",
       "13        has     parrot-wing+      1\n",
       "14        has        tuna-fin+      1\n",
       "15        has    wing-feather+      1\n",
       "16    herring             has+      1\n",
       "17    herring             isa+      1\n",
       "18        isa      eagle-bird+      1\n",
       "19        isa   fin-extremity+      1\n",
       "20        isa    herring-fish+      1\n",
       "21        isa     parrot-bird+      1\n",
       "22        isa       tuna-fish+      1\n",
       "23        isa  wing-extremity+      1\n",
       "24     parrot             has+      1\n",
       "25     parrot             isa+      1\n",
       "26      scale             has-      1\n",
       "27       tuna             has+      1\n",
       "28       tuna             isa+      1\n",
       "29       wing             has+      1\n",
       "30       wing             isa+      1"
      ]
     },
     "execution_count": 15,
     "metadata": {},
     "output_type": "execute_result"
    }
   ],
   "source": [
    "left_wall = 'none'  # Left wall symbol, 'none' - don't use left wall\n",
    "disjuncts = dumb_disjuncter(input_file, left_wall, dot=False,)\n",
    "if verbose != 'none': print('disjuncts:', type(disjuncts), len(disjuncts), 'items') \n",
    "disjuncts = disjuncts.groupby(['word','disjunct'], as_index=False).sum() \\\n",
    "    .sort_values(by=['count','word','disjunct'], ascending=[False,True,True]) \\\n",
    "    .reset_index(drop=True)\n",
    "disjuncts"
   ]
  },
  {
   "cell_type": "code",
   "execution_count": 16,
   "metadata": {},
   "outputs": [
    {
     "name": "stdout",
     "output_type": "stream",
     "text": [
      "Vector space dimensionality: suggested 12, maximum created with SVM algorithm: 2\n"
     ]
    },
    {
     "data": {
      "text/html": [
       "<div>\n",
       "<style scoped>\n",
       "    .dataframe tbody tr th:only-of-type {\n",
       "        vertical-align: middle;\n",
       "    }\n",
       "\n",
       "    .dataframe tbody tr th {\n",
       "        vertical-align: top;\n",
       "    }\n",
       "\n",
       "    .dataframe thead th {\n",
       "        text-align: right;\n",
       "    }\n",
       "</style>\n",
       "<table border=\"1\" class=\"dataframe\">\n",
       "  <thead>\n",
       "    <tr style=\"text-align: right;\">\n",
       "      <th></th>\n",
       "      <th>word</th>\n",
       "      <th>1</th>\n",
       "      <th>2</th>\n",
       "    </tr>\n",
       "  </thead>\n",
       "  <tbody>\n",
       "    <tr>\n",
       "      <th>8</th>\n",
       "      <td>isa</td>\n",
       "      <td>-0.79904</td>\n",
       "      <td>0.60128</td>\n",
       "    </tr>\n",
       "    <tr>\n",
       "      <th>1</th>\n",
       "      <td>eagle</td>\n",
       "      <td>-0.18209</td>\n",
       "      <td>-0.98328</td>\n",
       "    </tr>\n",
       "    <tr>\n",
       "      <th>7</th>\n",
       "      <td>herring</td>\n",
       "      <td>-0.18209</td>\n",
       "      <td>-0.98328</td>\n",
       "    </tr>\n",
       "    <tr>\n",
       "      <th>9</th>\n",
       "      <td>parrot</td>\n",
       "      <td>-0.18209</td>\n",
       "      <td>-0.98328</td>\n",
       "    </tr>\n",
       "    <tr>\n",
       "      <th>11</th>\n",
       "      <td>tuna</td>\n",
       "      <td>-0.18209</td>\n",
       "      <td>-0.98328</td>\n",
       "    </tr>\n",
       "    <tr>\n",
       "      <th>4</th>\n",
       "      <td>fin</td>\n",
       "      <td>-0.03276</td>\n",
       "      <td>0.99946</td>\n",
       "    </tr>\n",
       "    <tr>\n",
       "      <th>12</th>\n",
       "      <td>wing</td>\n",
       "      <td>-0.03276</td>\n",
       "      <td>0.99946</td>\n",
       "    </tr>\n",
       "    <tr>\n",
       "      <th>3</th>\n",
       "      <td>feather</td>\n",
       "      <td>0.02216</td>\n",
       "      <td>0.99975</td>\n",
       "    </tr>\n",
       "    <tr>\n",
       "      <th>10</th>\n",
       "      <td>scale</td>\n",
       "      <td>0.02216</td>\n",
       "      <td>0.99975</td>\n",
       "    </tr>\n",
       "    <tr>\n",
       "      <th>0</th>\n",
       "      <td>bird</td>\n",
       "      <td>0.17811</td>\n",
       "      <td>0.98401</td>\n",
       "    </tr>\n",
       "    <tr>\n",
       "      <th>2</th>\n",
       "      <td>extremity</td>\n",
       "      <td>0.17811</td>\n",
       "      <td>0.98401</td>\n",
       "    </tr>\n",
       "    <tr>\n",
       "      <th>5</th>\n",
       "      <td>fish</td>\n",
       "      <td>0.17811</td>\n",
       "      <td>0.98401</td>\n",
       "    </tr>\n",
       "    <tr>\n",
       "      <th>6</th>\n",
       "      <td>has</td>\n",
       "      <td>0.60128</td>\n",
       "      <td>0.79904</td>\n",
       "    </tr>\n",
       "  </tbody>\n",
       "</table>\n",
       "</div>"
      ],
      "text/plain": [
       "         word        1        2\n",
       "8         isa -0.79904  0.60128\n",
       "1       eagle -0.18209 -0.98328\n",
       "7     herring -0.18209 -0.98328\n",
       "9      parrot -0.18209 -0.98328\n",
       "11       tuna -0.18209 -0.98328\n",
       "4         fin -0.03276  0.99946\n",
       "12       wing -0.03276  0.99946\n",
       "3     feather  0.02216  0.99975\n",
       "10      scale  0.02216  0.99975\n",
       "0        bird  0.17811  0.98401\n",
       "2   extremity  0.17811  0.98401\n",
       "5        fish  0.17811  0.98401\n",
       "6         has  0.60128  0.79904"
      ]
     },
     "execution_count": 16,
     "metadata": {},
     "output_type": "execute_result"
    }
   ],
   "source": [
    "disjuncts = disjuncts.rename(columns={'disjunct':'link'})\n",
    "vdf, res5= epmisvd(disjuncts, path, tmpath, dim)\n",
    "if len(vdf.columns) < dim+1:\n",
    "    print('Vector space dimensionality: suggested', str(dim)+',', \\\n",
    "          'maximum created with SVM algorithm:', len(vdf.columns)-1)\n",
    "zdf = vdf.copy()\n",
    "cols = zdf.columns.tolist()\n",
    "del zdf['word']\n",
    "def zeros(x):\n",
    "    if abs(x) > 1e-10: return round(x,5)\n",
    "    else: return 0\n",
    "zdf = zdf.applymap(zeros)\n",
    "zdf['word'] = vdf['word']\n",
    "zdf = zdf[cols]\n",
    "zdf.sort_values(by=[1,2], ascending=[True,True])"
   ]
  },
  {
   "cell_type": "code",
   "execution_count": 17,
   "metadata": {},
   "outputs": [
    {
     "name": "stdout",
     "output_type": "stream",
     "text": [
      "Singular values: 4.39, 4.39\n"
     ]
    },
    {
     "data": {
      "image/png": "[encoded data removed]",
      "text/plain": [
       "<matplotlib.figure.Figure at 0x7f4089a680b8>"
      ]
     },
     "metadata": {},
     "output_type": "display_data"
    }
   ],
   "source": [
    "singular_values = pd.DataFrame(np.load(path+'svd.s.npy'),columns=['sv'])\n",
    "singular_values.index = range(1,len(singular_values)+1)\n",
    "print('Singular values:', \\\n",
    "      ', '.join(str(round(x,2)) for x in singular_values['sv']))\n",
    "singular_values\n",
    "plt.plot(singular_values.index, singular_values['sv'])\n",
    "plt.xlabel('Vector space dimension')\n",
    "plt.ylabel('Singilar value')\n",
    "plt.show()"
   ]
  },
  {
   "cell_type": "code",
   "execution_count": 18,
   "metadata": {},
   "outputs": [
    {
     "name": "stdout",
     "output_type": "stream",
     "text": [
      "Words in vector space, axes 1 and 2\n"
     ]
    },
    {
     "data": {
      "image/png": "[encoded data removed]",
      "text/plain": [
       "<matplotlib.figure.Figure at 0x7f4089a8f518>"
      ]
     },
     "metadata": {},
     "output_type": "display_data"
    }
   ],
   "source": [
    "plot2d(1, 2, vdf, 'word', 15)"
   ]
  },
  {
   "cell_type": "code",
   "execution_count": 19,
   "metadata": {},
   "outputs": [
    {
     "name": "stdout",
     "output_type": "stream",
     "text": [
      "Silhouette index in a range of cluster numbers\n"
     ]
    },
    {
     "data": {
      "image/png": "[encoded data removed]",
      "text/plain": [
       "<matplotlib.figure.Figure at 0x7f4089967470>"
      ]
     },
     "metadata": {},
     "output_type": "display_data"
    },
    {
     "data": {
      "text/html": [
       "<table><tr><td>N</td><td>NR</td><td>Silhouette</td><td>Clusters</td></tr><tr><td>2</td><td>2</td><td>0.853</td><td>bird extremity feather fin fish has isa scale wing | eagle herring parrot tuna</td></tr><tr><td>3</td><td>3</td><td>0.79</td><td>bird extremity feather fin fish has scale wing | eagle herring parrot tuna | isa</td></tr><tr><td>4</td><td>4</td><td>0.732</td><td>bird extremity feather fin fish scale wing | eagle herring parrot tuna | isa | has</td></tr><tr><td>5</td><td>5</td><td>0.784</td><td>eagle herring parrot tuna | bird extremity fish | isa | has | feather fin scale wing</td></tr><tr><td>6</td><td>6</td><td>0.846</td><td>isa | eagle herring parrot tuna | bird extremity fish | has | fin wing | feather scale</td></tr><tr><td>7</td><td>6</td><td>0.846</td><td>feather scale | eagle herring parrot tuna | isa | has | bird extremity fish | fin wing</td></tr><tr><td>8</td><td>6</td><td>0.846</td><td>fin wing | eagle herring parrot tuna | isa | has | bird extremity fish | feather scale</td></tr></table>"
      ],
      "text/plain": [
       "<IPython.core.display.HTML object>"
      ]
     },
     "metadata": {},
     "output_type": "display_data"
    }
   ],
   "source": [
    "words = vdf['word'].tolist()\n",
    "df = zdf.copy()\n",
    "del df['word']\n",
    "sil_range = pd.DataFrame(columns=['NC','NR','Silhouette','Inertia'])\n",
    "sil_range['NC'] = sil_range['NC'].astype(int)\n",
    "table = [['N', 'NR', 'Silhouette', 'Clusters']]\n",
    "tsv = 'N\\tNR\\tSilhouette\\tClusers\\n'\n",
    "for i,j in enumerate(range(2,9)):\n",
    "    silhouette, inertia, cluster_labels, centroids, cluster_sizes, \\\n",
    "        cluster_word_ids, cluster_words = cluster_kmeans(j, df, words)\n",
    "    sil_range.loc[i] = [j, len(cluster_words), round(silhouette,3), inertia]\n",
    "    table.append([j, len(cluster_words), round(silhouette,3), \\\n",
    "        ' | '.join(' '.join(str(word) for word in cluster)\n",
    "            .replace('###LEFT-WALL###', '#LW#') for cluster in cluster_words)])\n",
    "    tsv = tsv + str(j) + '\\t' + str(len(cluster_words)) + '\\t' + \\\n",
    "        str(round(silhouette,3)) + '\\t' + \\\n",
    "        ' '.join('|'.join(str(word) for word in cluster) \\\n",
    "                 for cluster in cluster_words) + '\\n'\n",
    "sil_range[['NC','NR']] = sil_range[['NC','NR']].astype(int)\n",
    "\n",
    "print('Silhouette index in a range of cluster numbers')\n",
    "plt.plot(sil_range['NC'], sil_range['Silhouette'])\n",
    "plt.xlabel('Given clusters number - K-Means parameter\\n' + \\\n",
    "           '(algorithm returns 8 clusters for any parameter 8+)')\n",
    "plt.ylabel('Silhouette index')\n",
    "plt.show()\n",
    "display(html_table(table))"
   ]
  },
  {
   "cell_type": "code",
   "execution_count": 20,
   "metadata": {},
   "outputs": [
    {
     "ename": "ValueError",
     "evalue": "could not broadcast input array from shape (4) into shape (2)",
     "output_type": "error",
     "traceback": [
      "\u001b[0;31m---------------------------------------------------------------------------\u001b[0m",
      "\u001b[0;31mValueError\u001b[0m                                Traceback (most recent call last)",
      "\u001b[0;32m<ipython-input-20-716bf7f3f007>\u001b[0m in \u001b[0;36m<module>\u001b[0;34m()\u001b[0m\n\u001b[1;32m      7\u001b[0m \u001b[0;32mdef\u001b[0m \u001b[0mcluster_word_list\u001b[0m\u001b[0;34m(\u001b[0m\u001b[0mrow\u001b[0m\u001b[0;34m)\u001b[0m\u001b[0;34m:\u001b[0m \u001b[0;32mreturn\u001b[0m \u001b[0mcluster_words\u001b[0m\u001b[0;34m[\u001b[0m\u001b[0mint\u001b[0m\u001b[0;34m(\u001b[0m\u001b[0mrow\u001b[0m\u001b[0;34m.\u001b[0m\u001b[0mname\u001b[0m\u001b[0;34m)\u001b[0m\u001b[0;34m]\u001b[0m\u001b[0;34m\u001b[0m\u001b[0m\n\u001b[1;32m      8\u001b[0m \u001b[0mcls\u001b[0m \u001b[0;34m=\u001b[0m \u001b[0mcdf\u001b[0m\u001b[0;34m.\u001b[0m\u001b[0mapplymap\u001b[0m\u001b[0;34m(\u001b[0m\u001b[0mzeros\u001b[0m\u001b[0;34m)\u001b[0m\u001b[0;34m\u001b[0m\u001b[0m\n\u001b[0;32m----> 9\u001b[0;31m \u001b[0mcls\u001b[0m\u001b[0;34m[\u001b[0m\u001b[0;34m'cluster_words'\u001b[0m\u001b[0;34m]\u001b[0m \u001b[0;34m=\u001b[0m \u001b[0mcls\u001b[0m\u001b[0;34m.\u001b[0m\u001b[0mapply\u001b[0m\u001b[0;34m(\u001b[0m\u001b[0mcluster_word_list\u001b[0m\u001b[0;34m,\u001b[0m \u001b[0maxis\u001b[0m\u001b[0;34m=\u001b[0m\u001b[0;36m1\u001b[0m\u001b[0;34m)\u001b[0m\u001b[0;34m\u001b[0m\u001b[0m\n\u001b[0m\u001b[1;32m     10\u001b[0m \u001b[0mcls\u001b[0m\u001b[0;34m.\u001b[0m\u001b[0mindex\u001b[0m \u001b[0;34m=\u001b[0m \u001b[0mrange\u001b[0m\u001b[0;34m(\u001b[0m\u001b[0;36m1\u001b[0m\u001b[0;34m,\u001b[0m\u001b[0mlen\u001b[0m\u001b[0;34m(\u001b[0m\u001b[0mcls\u001b[0m\u001b[0;34m)\u001b[0m\u001b[0;34m+\u001b[0m\u001b[0;36m1\u001b[0m\u001b[0;34m)\u001b[0m\u001b[0;34m\u001b[0m\u001b[0m\n\u001b[1;32m     11\u001b[0m \u001b[0mcls\u001b[0m\u001b[0;34m[\u001b[0m\u001b[0;34m'cluster'\u001b[0m\u001b[0;34m]\u001b[0m \u001b[0;34m=\u001b[0m \u001b[0mcls\u001b[0m\u001b[0;34m.\u001b[0m\u001b[0mapply\u001b[0m\u001b[0;34m(\u001b[0m\u001b[0mrow_index\u001b[0m\u001b[0;34m,\u001b[0m \u001b[0maxis\u001b[0m\u001b[0;34m=\u001b[0m\u001b[0;36m1\u001b[0m\u001b[0;34m)\u001b[0m\u001b[0;34m\u001b[0m\u001b[0m\n",
      "\u001b[0;32m~/miniconda3/envs/ull3/lib/python3.6/site-packages/pandas/core/frame.py\u001b[0m in \u001b[0;36mapply\u001b[0;34m(self, func, axis, broadcast, raw, reduce, args, **kwds)\u001b[0m\n\u001b[1;32m   4875\u001b[0m                         \u001b[0mf\u001b[0m\u001b[0;34m,\u001b[0m \u001b[0maxis\u001b[0m\u001b[0;34m,\u001b[0m\u001b[0;34m\u001b[0m\u001b[0m\n\u001b[1;32m   4876\u001b[0m                         \u001b[0mreduce\u001b[0m\u001b[0;34m=\u001b[0m\u001b[0mreduce\u001b[0m\u001b[0;34m,\u001b[0m\u001b[0;34m\u001b[0m\u001b[0m\n\u001b[0;32m-> 4877\u001b[0;31m                         ignore_failures=ignore_failures)\n\u001b[0m\u001b[1;32m   4878\u001b[0m             \u001b[0;32melse\u001b[0m\u001b[0;34m:\u001b[0m\u001b[0;34m\u001b[0m\u001b[0m\n\u001b[1;32m   4879\u001b[0m                 \u001b[0;32mreturn\u001b[0m \u001b[0mself\u001b[0m\u001b[0;34m.\u001b[0m\u001b[0m_apply_broadcast\u001b[0m\u001b[0;34m(\u001b[0m\u001b[0mf\u001b[0m\u001b[0;34m,\u001b[0m \u001b[0maxis\u001b[0m\u001b[0;34m)\u001b[0m\u001b[0;34m\u001b[0m\u001b[0m\n",
      "\u001b[0;32m~/miniconda3/envs/ull3/lib/python3.6/site-packages/pandas/core/frame.py\u001b[0m in \u001b[0;36m_apply_standard\u001b[0;34m(self, func, axis, ignore_failures, reduce)\u001b[0m\n\u001b[1;32m   4988\u001b[0m                 \u001b[0mindex\u001b[0m \u001b[0;34m=\u001b[0m \u001b[0;32mNone\u001b[0m\u001b[0;34m\u001b[0m\u001b[0m\n\u001b[1;32m   4989\u001b[0m \u001b[0;34m\u001b[0m\u001b[0m\n\u001b[0;32m-> 4990\u001b[0;31m             \u001b[0mresult\u001b[0m \u001b[0;34m=\u001b[0m \u001b[0mself\u001b[0m\u001b[0;34m.\u001b[0m\u001b[0m_constructor\u001b[0m\u001b[0;34m(\u001b[0m\u001b[0mdata\u001b[0m\u001b[0;34m=\u001b[0m\u001b[0mresults\u001b[0m\u001b[0;34m,\u001b[0m \u001b[0mindex\u001b[0m\u001b[0;34m=\u001b[0m\u001b[0mindex\u001b[0m\u001b[0;34m)\u001b[0m\u001b[0;34m\u001b[0m\u001b[0m\n\u001b[0m\u001b[1;32m   4991\u001b[0m             \u001b[0mresult\u001b[0m\u001b[0;34m.\u001b[0m\u001b[0mcolumns\u001b[0m \u001b[0;34m=\u001b[0m \u001b[0mres_index\u001b[0m\u001b[0;34m\u001b[0m\u001b[0m\n\u001b[1;32m   4992\u001b[0m \u001b[0;34m\u001b[0m\u001b[0m\n",
      "\u001b[0;32m~/miniconda3/envs/ull3/lib/python3.6/site-packages/pandas/core/frame.py\u001b[0m in \u001b[0;36m__init__\u001b[0;34m(self, data, index, columns, dtype, copy)\u001b[0m\n\u001b[1;32m    328\u001b[0m                                  dtype=dtype, copy=copy)\n\u001b[1;32m    329\u001b[0m         \u001b[0;32melif\u001b[0m \u001b[0misinstance\u001b[0m\u001b[0;34m(\u001b[0m\u001b[0mdata\u001b[0m\u001b[0;34m,\u001b[0m \u001b[0mdict\u001b[0m\u001b[0;34m)\u001b[0m\u001b[0;34m:\u001b[0m\u001b[0;34m\u001b[0m\u001b[0m\n\u001b[0;32m--> 330\u001b[0;31m             \u001b[0mmgr\u001b[0m \u001b[0;34m=\u001b[0m \u001b[0mself\u001b[0m\u001b[0;34m.\u001b[0m\u001b[0m_init_dict\u001b[0m\u001b[0;34m(\u001b[0m\u001b[0mdata\u001b[0m\u001b[0;34m,\u001b[0m \u001b[0mindex\u001b[0m\u001b[0;34m,\u001b[0m \u001b[0mcolumns\u001b[0m\u001b[0;34m,\u001b[0m \u001b[0mdtype\u001b[0m\u001b[0;34m=\u001b[0m\u001b[0mdtype\u001b[0m\u001b[0;34m)\u001b[0m\u001b[0;34m\u001b[0m\u001b[0m\n\u001b[0m\u001b[1;32m    331\u001b[0m         \u001b[0;32melif\u001b[0m \u001b[0misinstance\u001b[0m\u001b[0;34m(\u001b[0m\u001b[0mdata\u001b[0m\u001b[0;34m,\u001b[0m \u001b[0mma\u001b[0m\u001b[0;34m.\u001b[0m\u001b[0mMaskedArray\u001b[0m\u001b[0;34m)\u001b[0m\u001b[0;34m:\u001b[0m\u001b[0;34m\u001b[0m\u001b[0m\n\u001b[1;32m    332\u001b[0m             \u001b[0;32mimport\u001b[0m \u001b[0mnumpy\u001b[0m\u001b[0;34m.\u001b[0m\u001b[0mma\u001b[0m\u001b[0;34m.\u001b[0m\u001b[0mmrecords\u001b[0m \u001b[0;32mas\u001b[0m \u001b[0mmrecords\u001b[0m\u001b[0;34m\u001b[0m\u001b[0m\n",
      "\u001b[0;32m~/miniconda3/envs/ull3/lib/python3.6/site-packages/pandas/core/frame.py\u001b[0m in \u001b[0;36m_init_dict\u001b[0;34m(self, data, index, columns, dtype)\u001b[0m\n\u001b[1;32m    459\u001b[0m             \u001b[0marrays\u001b[0m \u001b[0;34m=\u001b[0m \u001b[0;34m[\u001b[0m\u001b[0mdata\u001b[0m\u001b[0;34m[\u001b[0m\u001b[0mk\u001b[0m\u001b[0;34m]\u001b[0m \u001b[0;32mfor\u001b[0m \u001b[0mk\u001b[0m \u001b[0;32min\u001b[0m \u001b[0mkeys\u001b[0m\u001b[0;34m]\u001b[0m\u001b[0;34m\u001b[0m\u001b[0m\n\u001b[1;32m    460\u001b[0m \u001b[0;34m\u001b[0m\u001b[0m\n\u001b[0;32m--> 461\u001b[0;31m         \u001b[0;32mreturn\u001b[0m \u001b[0m_arrays_to_mgr\u001b[0m\u001b[0;34m(\u001b[0m\u001b[0marrays\u001b[0m\u001b[0;34m,\u001b[0m \u001b[0mdata_names\u001b[0m\u001b[0;34m,\u001b[0m \u001b[0mindex\u001b[0m\u001b[0;34m,\u001b[0m \u001b[0mcolumns\u001b[0m\u001b[0;34m,\u001b[0m \u001b[0mdtype\u001b[0m\u001b[0;34m=\u001b[0m\u001b[0mdtype\u001b[0m\u001b[0;34m)\u001b[0m\u001b[0;34m\u001b[0m\u001b[0m\n\u001b[0m\u001b[1;32m    462\u001b[0m \u001b[0;34m\u001b[0m\u001b[0m\n\u001b[1;32m    463\u001b[0m     \u001b[0;32mdef\u001b[0m \u001b[0m_init_ndarray\u001b[0m\u001b[0;34m(\u001b[0m\u001b[0mself\u001b[0m\u001b[0;34m,\u001b[0m \u001b[0mvalues\u001b[0m\u001b[0;34m,\u001b[0m \u001b[0mindex\u001b[0m\u001b[0;34m,\u001b[0m \u001b[0mcolumns\u001b[0m\u001b[0;34m,\u001b[0m \u001b[0mdtype\u001b[0m\u001b[0;34m=\u001b[0m\u001b[0;32mNone\u001b[0m\u001b[0;34m,\u001b[0m \u001b[0mcopy\u001b[0m\u001b[0;34m=\u001b[0m\u001b[0;32mFalse\u001b[0m\u001b[0;34m)\u001b[0m\u001b[0;34m:\u001b[0m\u001b[0;34m\u001b[0m\u001b[0m\n",
      "\u001b[0;32m~/miniconda3/envs/ull3/lib/python3.6/site-packages/pandas/core/frame.py\u001b[0m in \u001b[0;36m_arrays_to_mgr\u001b[0;34m(arrays, arr_names, index, columns, dtype)\u001b[0m\n\u001b[1;32m   6171\u001b[0m     \u001b[0maxes\u001b[0m \u001b[0;34m=\u001b[0m \u001b[0;34m[\u001b[0m\u001b[0m_ensure_index\u001b[0m\u001b[0;34m(\u001b[0m\u001b[0mcolumns\u001b[0m\u001b[0;34m)\u001b[0m\u001b[0;34m,\u001b[0m \u001b[0m_ensure_index\u001b[0m\u001b[0;34m(\u001b[0m\u001b[0mindex\u001b[0m\u001b[0;34m)\u001b[0m\u001b[0;34m]\u001b[0m\u001b[0;34m\u001b[0m\u001b[0m\n\u001b[1;32m   6172\u001b[0m \u001b[0;34m\u001b[0m\u001b[0m\n\u001b[0;32m-> 6173\u001b[0;31m     \u001b[0;32mreturn\u001b[0m \u001b[0mcreate_block_manager_from_arrays\u001b[0m\u001b[0;34m(\u001b[0m\u001b[0marrays\u001b[0m\u001b[0;34m,\u001b[0m \u001b[0marr_names\u001b[0m\u001b[0;34m,\u001b[0m \u001b[0maxes\u001b[0m\u001b[0;34m)\u001b[0m\u001b[0;34m\u001b[0m\u001b[0m\n\u001b[0m\u001b[1;32m   6174\u001b[0m \u001b[0;34m\u001b[0m\u001b[0m\n\u001b[1;32m   6175\u001b[0m \u001b[0;34m\u001b[0m\u001b[0m\n",
      "\u001b[0;32m~/miniconda3/envs/ull3/lib/python3.6/site-packages/pandas/core/internals.py\u001b[0m in \u001b[0;36mcreate_block_manager_from_arrays\u001b[0;34m(arrays, names, axes)\u001b[0m\n\u001b[1;32m   4640\u001b[0m         \u001b[0;32mreturn\u001b[0m \u001b[0mmgr\u001b[0m\u001b[0;34m\u001b[0m\u001b[0m\n\u001b[1;32m   4641\u001b[0m     \u001b[0;32mexcept\u001b[0m \u001b[0mValueError\u001b[0m \u001b[0;32mas\u001b[0m \u001b[0me\u001b[0m\u001b[0;34m:\u001b[0m\u001b[0;34m\u001b[0m\u001b[0m\n\u001b[0;32m-> 4642\u001b[0;31m         \u001b[0mconstruction_error\u001b[0m\u001b[0;34m(\u001b[0m\u001b[0mlen\u001b[0m\u001b[0;34m(\u001b[0m\u001b[0marrays\u001b[0m\u001b[0;34m)\u001b[0m\u001b[0;34m,\u001b[0m \u001b[0marrays\u001b[0m\u001b[0;34m[\u001b[0m\u001b[0;36m0\u001b[0m\u001b[0;34m]\u001b[0m\u001b[0;34m.\u001b[0m\u001b[0mshape\u001b[0m\u001b[0;34m,\u001b[0m \u001b[0maxes\u001b[0m\u001b[0;34m,\u001b[0m \u001b[0me\u001b[0m\u001b[0;34m)\u001b[0m\u001b[0;34m\u001b[0m\u001b[0m\n\u001b[0m\u001b[1;32m   4643\u001b[0m \u001b[0;34m\u001b[0m\u001b[0m\n\u001b[1;32m   4644\u001b[0m \u001b[0;34m\u001b[0m\u001b[0m\n",
      "\u001b[0;32m~/miniconda3/envs/ull3/lib/python3.6/site-packages/pandas/core/internals.py\u001b[0m in \u001b[0;36mconstruction_error\u001b[0;34m(tot_items, block_shape, axes, e)\u001b[0m\n\u001b[1;32m   4602\u001b[0m     \u001b[0mimplied\u001b[0m \u001b[0;34m=\u001b[0m \u001b[0mtuple\u001b[0m\u001b[0;34m(\u001b[0m\u001b[0mmap\u001b[0m\u001b[0;34m(\u001b[0m\u001b[0mint\u001b[0m\u001b[0;34m,\u001b[0m \u001b[0;34m[\u001b[0m\u001b[0mlen\u001b[0m\u001b[0;34m(\u001b[0m\u001b[0max\u001b[0m\u001b[0;34m)\u001b[0m \u001b[0;32mfor\u001b[0m \u001b[0max\u001b[0m \u001b[0;32min\u001b[0m \u001b[0maxes\u001b[0m\u001b[0;34m]\u001b[0m\u001b[0;34m)\u001b[0m\u001b[0;34m)\u001b[0m\u001b[0;34m\u001b[0m\u001b[0m\n\u001b[1;32m   4603\u001b[0m     \u001b[0;32mif\u001b[0m \u001b[0mpassed\u001b[0m \u001b[0;34m==\u001b[0m \u001b[0mimplied\u001b[0m \u001b[0;32mand\u001b[0m \u001b[0me\u001b[0m \u001b[0;32mis\u001b[0m \u001b[0;32mnot\u001b[0m \u001b[0;32mNone\u001b[0m\u001b[0;34m:\u001b[0m\u001b[0;34m\u001b[0m\u001b[0m\n\u001b[0;32m-> 4604\u001b[0;31m         \u001b[0;32mraise\u001b[0m \u001b[0me\u001b[0m\u001b[0;34m\u001b[0m\u001b[0m\n\u001b[0m\u001b[1;32m   4605\u001b[0m     \u001b[0;32mif\u001b[0m \u001b[0mblock_shape\u001b[0m\u001b[0;34m[\u001b[0m\u001b[0;36m0\u001b[0m\u001b[0;34m]\u001b[0m \u001b[0;34m==\u001b[0m \u001b[0;36m0\u001b[0m\u001b[0;34m:\u001b[0m\u001b[0;34m\u001b[0m\u001b[0m\n\u001b[1;32m   4606\u001b[0m         \u001b[0;32mraise\u001b[0m \u001b[0mValueError\u001b[0m\u001b[0;34m(\u001b[0m\u001b[0;34m\"Empty data passed with indices specified.\"\u001b[0m\u001b[0;34m)\u001b[0m\u001b[0;34m\u001b[0m\u001b[0m\n",
      "\u001b[0;32m~/miniconda3/envs/ull3/lib/python3.6/site-packages/pandas/core/internals.py\u001b[0m in \u001b[0;36mcreate_block_manager_from_arrays\u001b[0;34m(arrays, names, axes)\u001b[0m\n\u001b[1;32m   4635\u001b[0m \u001b[0;34m\u001b[0m\u001b[0m\n\u001b[1;32m   4636\u001b[0m     \u001b[0;32mtry\u001b[0m\u001b[0;34m:\u001b[0m\u001b[0;34m\u001b[0m\u001b[0m\n\u001b[0;32m-> 4637\u001b[0;31m         \u001b[0mblocks\u001b[0m \u001b[0;34m=\u001b[0m \u001b[0mform_blocks\u001b[0m\u001b[0;34m(\u001b[0m\u001b[0marrays\u001b[0m\u001b[0;34m,\u001b[0m \u001b[0mnames\u001b[0m\u001b[0;34m,\u001b[0m \u001b[0maxes\u001b[0m\u001b[0;34m)\u001b[0m\u001b[0;34m\u001b[0m\u001b[0m\n\u001b[0m\u001b[1;32m   4638\u001b[0m         \u001b[0mmgr\u001b[0m \u001b[0;34m=\u001b[0m \u001b[0mBlockManager\u001b[0m\u001b[0;34m(\u001b[0m\u001b[0mblocks\u001b[0m\u001b[0;34m,\u001b[0m \u001b[0maxes\u001b[0m\u001b[0;34m)\u001b[0m\u001b[0;34m\u001b[0m\u001b[0m\n\u001b[1;32m   4639\u001b[0m         \u001b[0mmgr\u001b[0m\u001b[0;34m.\u001b[0m\u001b[0m_consolidate_inplace\u001b[0m\u001b[0;34m(\u001b[0m\u001b[0;34m)\u001b[0m\u001b[0;34m\u001b[0m\u001b[0m\n",
      "\u001b[0;32m~/miniconda3/envs/ull3/lib/python3.6/site-packages/pandas/core/internals.py\u001b[0m in \u001b[0;36mform_blocks\u001b[0;34m(arrays, names, axes)\u001b[0m\n\u001b[1;32m   4727\u001b[0m \u001b[0;34m\u001b[0m\u001b[0m\n\u001b[1;32m   4728\u001b[0m     \u001b[0;32mif\u001b[0m \u001b[0mlen\u001b[0m\u001b[0;34m(\u001b[0m\u001b[0mobject_items\u001b[0m\u001b[0;34m)\u001b[0m \u001b[0;34m>\u001b[0m \u001b[0;36m0\u001b[0m\u001b[0;34m:\u001b[0m\u001b[0;34m\u001b[0m\u001b[0m\n\u001b[0;32m-> 4729\u001b[0;31m         \u001b[0mobject_blocks\u001b[0m \u001b[0;34m=\u001b[0m \u001b[0m_simple_blockify\u001b[0m\u001b[0;34m(\u001b[0m\u001b[0mobject_items\u001b[0m\u001b[0;34m,\u001b[0m \u001b[0mnp\u001b[0m\u001b[0;34m.\u001b[0m\u001b[0mobject_\u001b[0m\u001b[0;34m)\u001b[0m\u001b[0;34m\u001b[0m\u001b[0m\n\u001b[0m\u001b[1;32m   4730\u001b[0m         \u001b[0mblocks\u001b[0m\u001b[0;34m.\u001b[0m\u001b[0mextend\u001b[0m\u001b[0;34m(\u001b[0m\u001b[0mobject_blocks\u001b[0m\u001b[0;34m)\u001b[0m\u001b[0;34m\u001b[0m\u001b[0m\n\u001b[1;32m   4731\u001b[0m \u001b[0;34m\u001b[0m\u001b[0m\n",
      "\u001b[0;32m~/miniconda3/envs/ull3/lib/python3.6/site-packages/pandas/core/internals.py\u001b[0m in \u001b[0;36m_simple_blockify\u001b[0;34m(tuples, dtype)\u001b[0m\n\u001b[1;32m   4757\u001b[0m     \u001b[0;32mnot\u001b[0m \u001b[0;32mNone\u001b[0m\u001b[0;34m,\u001b[0m \u001b[0mcoerce\u001b[0m \u001b[0mto\u001b[0m \u001b[0mthis\u001b[0m \u001b[0mdtype\u001b[0m\u001b[0;34m\u001b[0m\u001b[0m\n\u001b[1;32m   4758\u001b[0m     \"\"\"\n\u001b[0;32m-> 4759\u001b[0;31m     \u001b[0mvalues\u001b[0m\u001b[0;34m,\u001b[0m \u001b[0mplacement\u001b[0m \u001b[0;34m=\u001b[0m \u001b[0m_stack_arrays\u001b[0m\u001b[0;34m(\u001b[0m\u001b[0mtuples\u001b[0m\u001b[0;34m,\u001b[0m \u001b[0mdtype\u001b[0m\u001b[0;34m)\u001b[0m\u001b[0;34m\u001b[0m\u001b[0m\n\u001b[0m\u001b[1;32m   4760\u001b[0m \u001b[0;34m\u001b[0m\u001b[0m\n\u001b[1;32m   4761\u001b[0m     \u001b[0;31m# CHECK DTYPE?\u001b[0m\u001b[0;34m\u001b[0m\u001b[0;34m\u001b[0m\u001b[0m\n",
      "\u001b[0;32m~/miniconda3/envs/ull3/lib/python3.6/site-packages/pandas/core/internals.py\u001b[0m in \u001b[0;36m_stack_arrays\u001b[0;34m(tuples, dtype)\u001b[0m\n\u001b[1;32m   4821\u001b[0m     \u001b[0mstacked\u001b[0m \u001b[0;34m=\u001b[0m \u001b[0mnp\u001b[0m\u001b[0;34m.\u001b[0m\u001b[0mempty\u001b[0m\u001b[0;34m(\u001b[0m\u001b[0mshape\u001b[0m\u001b[0;34m,\u001b[0m \u001b[0mdtype\u001b[0m\u001b[0;34m=\u001b[0m\u001b[0mdtype\u001b[0m\u001b[0;34m)\u001b[0m\u001b[0;34m\u001b[0m\u001b[0m\n\u001b[1;32m   4822\u001b[0m     \u001b[0;32mfor\u001b[0m \u001b[0mi\u001b[0m\u001b[0;34m,\u001b[0m \u001b[0marr\u001b[0m \u001b[0;32min\u001b[0m \u001b[0menumerate\u001b[0m\u001b[0;34m(\u001b[0m\u001b[0marrays\u001b[0m\u001b[0;34m)\u001b[0m\u001b[0;34m:\u001b[0m\u001b[0;34m\u001b[0m\u001b[0m\n\u001b[0;32m-> 4823\u001b[0;31m         \u001b[0mstacked\u001b[0m\u001b[0;34m[\u001b[0m\u001b[0mi\u001b[0m\u001b[0;34m]\u001b[0m \u001b[0;34m=\u001b[0m \u001b[0m_asarray_compat\u001b[0m\u001b[0;34m(\u001b[0m\u001b[0marr\u001b[0m\u001b[0;34m)\u001b[0m\u001b[0;34m\u001b[0m\u001b[0m\n\u001b[0m\u001b[1;32m   4824\u001b[0m \u001b[0;34m\u001b[0m\u001b[0m\n\u001b[1;32m   4825\u001b[0m     \u001b[0;32mreturn\u001b[0m \u001b[0mstacked\u001b[0m\u001b[0;34m,\u001b[0m \u001b[0mplacement\u001b[0m\u001b[0;34m\u001b[0m\u001b[0m\n",
      "\u001b[0;31mValueError\u001b[0m: could not broadcast input array from shape (4) into shape (2)"
     ]
    }
   ],
   "source": [
    "n = 6  # Number of clusters\n",
    "words = vdf['word'].tolist()\n",
    "#-df = vdf.loc[:,[1,2,3,4,5,6,7,8]]   # defined above\n",
    "silhouette, inertia, cluster_labels, centroids, cluster_sizes, \\\n",
    "    cluster_word_ids, cluster_words = cluster_kmeans(n, df, words)\n",
    "cdf = pd.DataFrame(centroids)\n",
    "def row_index(row): return int(row.name)\n",
    "def cluster_word_list(row): return cluster_words[int(row.name)]\n",
    "cls = cdf.applymap(zeros)\n",
    "cls['cluster_words'] = cls.apply(cluster_word_list, axis=1)\n",
    "cls.index = range(1,len(cls)+1)\n",
    "cls['cluster'] = cls.apply(row_index, axis=1)\n",
    "for col in cls.columns:\n",
    "    if type(col) == int: cls=cls.rename(columns={col:col+11})\n",
    "for col in cls.columns:\n",
    "    if type(col) == int: cls=cls.rename(columns={col:col-10})\n",
    "plot2d(1, 2, cls, 'cluster_words', 15)\n",
    "cls"
   ]
  },
  {
   "cell_type": "code",
   "execution_count": null,
   "metadata": {},
   "outputs": [],
   "source": [
    "sim_df, res6 = cosine_similarity(centroids, cluster_words, 'max')\n",
    "count, division = np.histogram(sim_df['similarity'])\n",
    "sim_df['similarity'].hist(bins=division)\n",
    "print('Cluster similarities: absolute values > 0.1:')\n",
    "sim_df.sort_values(by='similarity', ascending=False) \\\n",
    "      .loc[abs(sim_df['similarity']) > 0.1]"
   ]
  },
  {
   "cell_type": "markdown",
   "metadata": {},
   "source": [
    "## Alas...\n",
    "Removing ##LEFT-WALL## and period from sentences seems to help us learn a category of nouns from the clusters, **but**:  \n",
    " - verbs stay in separate categories for any similarity setting\n",
    " - negative similarity values need further research...\n",
    " \n",
    "Still, the situation might dramatically improve with the dataset expansion.   \n",
    "Learning on a small set of single samples sounds too good to be true :)"
   ]
  },
  {
   "cell_type": "code",
   "execution_count": null,
   "metadata": {},
   "outputs": [],
   "source": []
  }
 ],
 "metadata": {
  "kernelspec": {
   "display_name": "Python [default]",
   "language": "python",
   "name": "python3"
  },
  "language_info": {
   "codemirror_mode": {
    "name": "ipython",
    "version": 3
   },
   "file_extension": ".py",
   "mimetype": "text/x-python",
   "name": "python",
   "nbconvert_exporter": "python",
   "pygments_lexer": "ipython3",
   "version": "3.6.4"
  }
 },
 "nbformat": 4,
 "nbformat_minor": 2
}
