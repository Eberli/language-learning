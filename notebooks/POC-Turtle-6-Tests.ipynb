{
 "cells": [
  {
   "cell_type": "markdown",
   "metadata": {},
   "source": [
    "# POC-Turtle-6: Tests\n",
    "This is a continuation of proof-of-concept (POC) experiments in unsupervised language learning (ULL), the OpenCog project hosted on [GitHub](https://github.com/opencog/language-learning/tree/master/notebooks).  \n",
    "This notebook contains tests for unsupervised language learning pipeline based on lexical entries (disjuncts) learning described in the previous [POC-Turtle-5-Lexical-Entries notebook](http://88.99.210.144/data/clustering_2018/html/POC-Turtle-5-Lexical-Entries.html)."
   ]
  },
  {
   "cell_type": "code",
   "execution_count": 1,
   "metadata": {},
   "outputs": [
    {
     "name": "stdout",
     "output_type": "stream",
     "text": [
      "2018-03-11 14:52:51 UTC :: module_path: /home/obaskov/language-learning\n"
     ]
    }
   ],
   "source": [
    "import os, sys, time\n",
    "import numpy as np\n",
    "import pandas as pd\n",
    "import matplotlib.pyplot as plt\n",
    "%matplotlib inline\n",
    "from IPython.display import display\n",
    "module_path = os.path.abspath(os.path.join('..'))\n",
    "if module_path not in sys.path: sys.path.append(module_path)\n",
    "from src.utl.utl import UTC\n",
    "from src.utl.turtle import html_table\n",
    "print(UTC(), ':: module_path:', module_path)"
   ]
  },
  {
   "cell_type": "markdown",
   "metadata": {},
   "source": [
    "## 6.1 Settings, parameters, data."
   ]
  },
  {
   "cell_type": "code",
   "execution_count": 2,
   "metadata": {},
   "outputs": [
    {
     "name": "stdout",
     "output_type": "stream",
     "text": [
      "Project directory created: /home/obaskov/language-learning/output/Turtle-6-2018-03-10/\n"
     ]
    }
   ],
   "source": [
    "prj_dir = '../output/Turtle-6-2018-03-10/'  # project directory \n",
    "prefix = ''     # all project files will start with this prefix\n",
    "test_data_path = module_path + '/tests/'\n",
    "verbose = 'max' # printed comments: 'none', 'min', 'max'\n",
    "log = {'project': 'POC-Turtle-6: Tests'}\n",
    "\n",
    "if not os.path.exists(prj_dir):\n",
    "    os.makedirs(prj_dir)\n",
    "    print('Project directory created:', module_path + prj_dir[2:])\n",
    "else: print('Project directory', module_path + prj_dir[2:], 'exists')\n",
    "path = module_path + prj_dir[2:]\n",
    "tmpath = path  # module_path + '/tmp/'  # path for temporary files"
   ]
  },
  {
   "cell_type": "code",
   "execution_count": 3,
   "metadata": {},
   "outputs": [
    {
     "name": "stdout",
     "output_type": "stream",
     "text": [
      "Data file: /home/obaskov/language-learning/data/poc-turtle-sentences.txt\n",
      "- \"Turtle\" language corpus:\n",
      "1. tuna isa fish.\n",
      "2. herring isa fish.\n",
      "3. tuna has fin.\n",
      "4. herring has fin.\n",
      "5. parrot isa bird.\n",
      "6. eagle isa bird.\n",
      "7. parrot has wing.\n",
      "8. eagle has wing.\n",
      "9. fin isa extremity.\n",
      "10. wing isa extremity.\n",
      "11. fin has scale.\n",
      "12. wing has feather.\n"
     ]
    }
   ],
   "source": [
    "input_file = '../data/poc-turtle-sentences.txt'\n",
    "if os.path.isfile(input_file):\n",
    "    print('Data file:', module_path + input_file[2:],)\n",
    "    log.update({'input_file': module_path + input_file[2:]})\n",
    "    if verbose == 'max':\n",
    "        print('- \"Turtle\" language corpus:')\n",
    "        with open(input_file, 'r') as f: \n",
    "            lines = f.read().splitlines()\n",
    "        for i,line in enumerate(lines): \n",
    "            if len(line) > 0: print(str(i+1)+'. '+line)    \n",
    "else: print('No data file', module_path + input_file[2:])"
   ]
  },
  {
   "cell_type": "markdown",
   "metadata": {},
   "source": [
    "## 6.2 Test \"correct\" disjuncts without punctuation"
   ]
  },
  {
   "cell_type": "code",
   "execution_count": 4,
   "metadata": {},
   "outputs": [
    {
     "name": "stdout",
     "output_type": "stream",
     "text": [
      "16 unique disjuncts form 31 unique word-disjunct pairs from 36 parsed items\n"
     ]
    },
    {
     "data": {
      "text/html": [
       "<table><tr><td>Cluster</td><td>Words</td><td></td><td></td><td>Disjuncts</td></tr><tr><td>C01</td><td>['bird', 'extremity', 'fish']</td><td>[]</td><td>[]</td><td>['C06C01-']</td></tr><tr><td>C02</td><td>['eagle', 'herring', 'parrot', 'tuna']</td><td>[]</td><td>[]</td><td>['C02C05+', 'C02C06+']</td></tr><tr><td>C03</td><td>['feather', 'scale']</td><td>[]</td><td>[]</td><td>['C05C03-']</td></tr><tr><td>C04</td><td>['fin', 'wing']</td><td>[]</td><td>[]</td><td>['C04C05+', 'C04C06+', 'C05C04-']</td></tr><tr><td>C05</td><td>['has']</td><td>[]</td><td>[]</td><td>['C02C05- & C05C04+', 'C04C05- & C05C03+']</td></tr><tr><td>C06</td><td>['isa']</td><td>[]</td><td>[]</td><td>['C02C06- & C06C01+', 'C04C06- & C06C01+']</td></tr></table>"
      ],
      "text/plain": [
       "<IPython.core.display.HTML object>"
      ]
     },
     "metadata": {},
     "output_type": "display_data"
    }
   ],
   "source": [
    "from src.space.turtle import dumb_disjuncter\n",
    "from src.link_grammar.turtle import lexical_entries, entries2clusters, \\\n",
    "    disjuncts2clusters, entries2rules, save_link_grammar\n",
    "\n",
    "def pipeline(input_file, left_wall='', period=False, verbose='none'):\n",
    "    parses = dumb_disjuncter(input_file, lw=left_wall, dot=period)\n",
    "    disjuncts = parses.groupby(['word','disjunct'], as_index=False).sum() \\\n",
    "        .sort_values(by=['count','word','disjunct'], ascending=[False,True,True]) \\\n",
    "        .reset_index(drop=True)\n",
    "    dj_number = len(set(disjuncts['disjunct'].tolist()))\n",
    "    if verbose != 'none': print(dj_number, 'unique disjuncts form', \\\n",
    "        len(disjuncts),'unique word-disjunct pairs from', len(parses), 'parsed items') \n",
    "    dfg = lexical_entries(disjuncts)\n",
    "    dfc = entries2clusters(dfg)\n",
    "    rules = disjuncts2clusters(dfc)\n",
    "    lg_rule_list = entries2rules(rules)\n",
    "    return lg_rule_list\n",
    "\n",
    "lg_rule_list = pipeline(input_file, left_wall='', period=False, verbose='max')\n",
    "display(html_table([['Cluster','Words','','','Disjuncts']] + lg_rule_list))"
   ]
  },
  {
   "cell_type": "markdown",
   "metadata": {},
   "source": [
    "### Import and check reference grammar"
   ]
  },
  {
   "cell_type": "code",
   "execution_count": 5,
   "metadata": {},
   "outputs": [
    {
     "name": "stdout",
     "output_type": "stream",
     "text": [
      "Learned grammar rules list matches the \"/home/obaskov/language-learning/tests/turtle_6c_lg_rules.pkl\" reference list\n"
     ]
    },
    {
     "data": {
      "text/html": [
       "<table><tr><td>Cluster</td><td>Words</td><td></td><td></td><td>Disjuncts</td></tr><tr><td>C01</td><td>['bird', 'extremity', 'fish']</td><td>[]</td><td>[]</td><td>['C06C01-']</td></tr><tr><td>C02</td><td>['eagle', 'herring', 'parrot', 'tuna']</td><td>[]</td><td>[]</td><td>['C02C05+', 'C02C06+']</td></tr><tr><td>C03</td><td>['feather', 'scale']</td><td>[]</td><td>[]</td><td>['C05C03-']</td></tr><tr><td>C04</td><td>['fin', 'wing']</td><td>[]</td><td>[]</td><td>['C04C05+', 'C04C06+', 'C05C04-']</td></tr><tr><td>C05</td><td>['has']</td><td>[]</td><td>[]</td><td>['C02C05- & C05C04+', 'C04C05- & C05C03+']</td></tr><tr><td>C06</td><td>['isa']</td><td>[]</td><td>[]</td><td>['C02C06- & C06C01+', 'C04C06- & C06C01+']</td></tr></table>"
      ],
      "text/plain": [
       "<IPython.core.display.HTML object>"
      ]
     },
     "metadata": {},
     "output_type": "display_data"
    }
   ],
   "source": [
    "def test_lg_rules(lg_rule_list, test_data_path, display_reference=False):\n",
    "    from src.utl.turtle_tests import test_turtle_rules\n",
    "    passed, file, reference = test_turtle_rules(lg_rule_list, test_data_path, 'True')\n",
    "    if passed: response = 'matches'\n",
    "    else: response = 'does not match'\n",
    "    print('Learned grammar rules list', response, 'the \"'+file+'\" reference list')\n",
    "    if display_reference:\n",
    "        display(html_table([['Cluster','Words','','','Disjuncts']] + reference))\n",
    "test_lg_rules(lg_rule_list, test_data_path, True)"
   ]
  },
  {
   "cell_type": "markdown",
   "metadata": {},
   "source": [
    "### Test Category Learner"
   ]
  },
  {
   "cell_type": "code",
   "execution_count": 6,
   "metadata": {},
   "outputs": [
    {
     "name": "stdout",
     "output_type": "stream",
     "text": [
      "Learned word categories match the \"/home/obaskov/language-learning/tests/turtle_6c_categories.pkl\" reference list:\n"
     ]
    },
    {
     "data": {
      "text/html": [
       "<table><tr><td>Categories</td><td>Germs</td></tr><tr><td>C01</td><td>['bird', 'extremity', 'fish']</td></tr><tr><td>C02</td><td>['eagle', 'herring', 'parrot', 'tuna']</td></tr><tr><td>C03</td><td>['feather', 'scale']</td></tr><tr><td>C04</td><td>['fin', 'wing']</td></tr><tr><td>C05</td><td>['has']</td></tr><tr><td>C06</td><td>['isa']</td></tr></table>"
      ],
      "text/plain": [
       "<IPython.core.display.HTML object>"
      ]
     },
     "metadata": {},
     "output_type": "display_data"
    }
   ],
   "source": [
    "def test_categories(lg_rule_list, test_data_path):\n",
    "    from src.utl.turtle_tests import test_turtle_word_categories\n",
    "    passed, file, reference = test_turtle_word_categories(lg_rule_list, test_data_path, 'True')\n",
    "    if passed: response = 'match'\n",
    "    else: response = 'do not match'\n",
    "    print('Learned word categories', response, 'the \"'+file+'\" reference list:')\n",
    "    display(html_table([['Categories','Germs',]] + reference))\n",
    "test_categories(lg_rule_list, test_data_path)"
   ]
  },
  {
   "cell_type": "markdown",
   "metadata": {},
   "source": [
    "### Test Grammar Learner"
   ]
  },
  {
   "cell_type": "code",
   "execution_count": 7,
   "metadata": {},
   "outputs": [
    {
     "name": "stdout",
     "output_type": "stream",
     "text": [
      "Learned Link Grammar rules match the \"/home/obaskov/language-learning/tests/turtle_6c_grammar.pkl\" reference rule list:\n"
     ]
    },
    {
     "data": {
      "text/html": [
       "<table><tr><td>Categories</td><td>Germs</td><td>Disjuncts</td></tr><tr><td>C01</td><td>['bird', 'extremity', 'fish']</td><td>['C06C01-']</td></tr><tr><td>C02</td><td>['eagle', 'herring', 'parrot', 'tuna']</td><td>['C02C05+', 'C02C06+']</td></tr><tr><td>C03</td><td>['feather', 'scale']</td><td>['C05C03-']</td></tr><tr><td>C04</td><td>['fin', 'wing']</td><td>['C04C05+', 'C04C06+', 'C05C04-']</td></tr><tr><td>C05</td><td>['has']</td><td>['C02C05- & C05C04+', 'C04C05- & C05C03+']</td></tr><tr><td>C06</td><td>['isa']</td><td>['C02C06- & C06C01+', 'C04C06- & C06C01+']</td></tr></table>"
      ],
      "text/plain": [
       "<IPython.core.display.HTML object>"
      ]
     },
     "metadata": {},
     "output_type": "display_data"
    }
   ],
   "source": [
    "def test_grammar(lg_rule_list, test_data_path):\n",
    "    from src.utl.turtle_tests import test_turtle_grammar\n",
    "    passed, file, reference = test_turtle_grammar(lg_rule_list, test_data_path, 'True')\n",
    "    if passed: response = 'match'\n",
    "    else: response = 'do not match'\n",
    "    print('Learned Link Grammar rules', response, 'the \"'+file+'\" reference rule list:')\n",
    "    display(html_table([['Categories','Germs', 'Disjuncts']] + reference))\n",
    "test_grammar(lg_rule_list, test_data_path)"
   ]
  },
  {
   "cell_type": "markdown",
   "metadata": {},
   "source": [
    "### TODO: add Link Grammar dictionary file test.\n",
    "As of 2018-03-09 the Link Grammar parser test tool is in an early beta, providing results like the following:\n",
    "\n",
    "\n",
    "```\n",
    "tuna isa fish\n",
    "\n",
    "  +C02C06+C06C01+\n",
    "  |      |      |\n",
    "tuna    isa   fish \n",
    "\n",
    "\n",
    "herring isa fish\n",
    "\n",
    "   +C02C06+C06C01+\n",
    "   |      |      |\n",
    "herring  isa   fish \n",
    "\n",
    "\n",
    "tuna has fin\n",
    "\n",
    "  +C02C05+C05C04+\n",
    "  |      |      |\n",
    "tuna    has    fin \n",
    "\n",
    "\n",
    "herring has fin\n",
    "\n",
    "   +C02C05+C05C04+\n",
    "   |      |      |\n",
    "herring  has    fin \n",
    "\n",
    "\n",
    "parrot isa bird\n",
    "\n",
    "   +C02C06+C06C01+\n",
    "   |      |      |\n",
    "parrot   isa   bird \n",
    "\n",
    "\n",
    "eagle isa bird\n",
    "\n",
    "  +C02C06+C06C01+\n",
    "  |      |      |\n",
    "eagle   isa   bird \n",
    "\n",
    "\n",
    "parrot has wing\n",
    "\n",
    "   +C02C05+C05C04+\n",
    "   |      |      |\n",
    "parrot   has   wing \n",
    "\n",
    "\n",
    "eagle has wing\n",
    "\n",
    "  +C02C05+C05C04+\n",
    "  |      |      |\n",
    "eagle   has   wing \n",
    "\n",
    "\n",
    "fin isa extremity\n",
    "\n",
    " +C04C06+C06C01+\n",
    " |      |      |\n",
    "fin    isa extremity \n",
    "```\n",
    "\n",
    "The CLI tool runs only on a server with Link Gramar parser installed. The next Unsupervised Language Learning pipeline and test development steps may include further Link Grammat parsing test development and integration."
   ]
  },
  {
   "cell_type": "markdown",
   "metadata": {},
   "source": [
    "## 6.3 Test \"correct\" disjuncts with punctuation"
   ]
  },
  {
   "cell_type": "code",
   "execution_count": 8,
   "metadata": {},
   "outputs": [
    {
     "name": "stdout",
     "output_type": "stream",
     "text": [
      "29 unique disjuncts form 44 unique word-disjunct pairs from 60 parsed items\n"
     ]
    },
    {
     "data": {
      "text/html": [
       "<table><tr><td>Cluster</td><td>Words</td><td></td><td></td><td>Disjuncts</td></tr><tr><td>C01</td><td>['.']</td><td>[]</td><td>[]</td><td>['C03C01-', 'C05C01-', 'C06C01-']</td></tr><tr><td>C02</td><td>['LEFT-WALL']</td><td>[]</td><td>[]</td><td>['C02C04+', 'C02C06+']</td></tr><tr><td>C03</td><td>['bird', 'extremity', 'fish']</td><td>[]</td><td>[]</td><td>['C08C03- & C03C01+']</td></tr><tr><td>C04</td><td>['eagle', 'herring', 'parrot', 'tuna']</td><td>[]</td><td>[]</td><td>['C02C04- & C04C07+', 'C02C04- & C04C08+']</td></tr><tr><td>C05</td><td>['feather', 'scale']</td><td>[]</td><td>[]</td><td>['C07C05- & C05C01+']</td></tr><tr><td>C06</td><td>['fin', 'wing']</td><td>[]</td><td>[]</td><td>['C02C06- & C06C07+', 'C02C06- & C06C08+', 'C07C06- & C06C01+']</td></tr><tr><td>C07</td><td>['has']</td><td>[]</td><td>[]</td><td>['C04C07- & C07C06+', 'C06C07- & C07C05+']</td></tr><tr><td>C08</td><td>['isa']</td><td>[]</td><td>[]</td><td>['C04C08- & C08C03+', 'C06C08- & C08C03+']</td></tr></table>"
      ],
      "text/plain": [
       "<IPython.core.display.HTML object>"
      ]
     },
     "metadata": {},
     "output_type": "display_data"
    }
   ],
   "source": [
    "lg_rule_list = pipeline(input_file, left_wall='LEFT-WALL', period=True, verbose='max')\n",
    "display(html_table([['Cluster','Words','','','Disjuncts']] + lg_rule_list))"
   ]
  },
  {
   "cell_type": "code",
   "execution_count": 9,
   "metadata": {},
   "outputs": [],
   "source": [
    "# test_lg_rules(lg_rule_list, test_data_path) #, True)"
   ]
  },
  {
   "cell_type": "markdown",
   "metadata": {},
   "source": [
    "### Test Category Learner"
   ]
  },
  {
   "cell_type": "code",
   "execution_count": 10,
   "metadata": {},
   "outputs": [
    {
     "name": "stdout",
     "output_type": "stream",
     "text": [
      "Learned word categories match the \"/home/obaskov/language-learning/tests/turtle_8c_categories.pkl\" reference list:\n"
     ]
    },
    {
     "data": {
      "text/html": [
       "<table><tr><td>Categories</td><td>Germs</td></tr><tr><td>C01</td><td>['.']</td></tr><tr><td>C02</td><td>['LEFT-WALL']</td></tr><tr><td>C03</td><td>['bird', 'extremity', 'fish']</td></tr><tr><td>C04</td><td>['eagle', 'herring', 'parrot', 'tuna']</td></tr><tr><td>C05</td><td>['feather', 'scale']</td></tr><tr><td>C06</td><td>['fin', 'wing']</td></tr><tr><td>C07</td><td>['has']</td></tr><tr><td>C08</td><td>['isa']</td></tr></table>"
      ],
      "text/plain": [
       "<IPython.core.display.HTML object>"
      ]
     },
     "metadata": {},
     "output_type": "display_data"
    }
   ],
   "source": [
    "test_categories(lg_rule_list, test_data_path)"
   ]
  },
  {
   "cell_type": "markdown",
   "metadata": {},
   "source": [
    "### Test Grammar Learner"
   ]
  },
  {
   "cell_type": "code",
   "execution_count": 11,
   "metadata": {},
   "outputs": [
    {
     "name": "stdout",
     "output_type": "stream",
     "text": [
      "Learned Link Grammar rules match the \"/home/obaskov/language-learning/tests/turtle_8c_grammar.pkl\" reference rule list:\n"
     ]
    },
    {
     "data": {
      "text/html": [
       "<table><tr><td>Categories</td><td>Germs</td><td>Disjuncts</td></tr><tr><td>C01</td><td>['.']</td><td>['C03C01-', 'C05C01-', 'C06C01-']</td></tr><tr><td>C02</td><td>['LEFT-WALL']</td><td>['C02C04+', 'C02C06+']</td></tr><tr><td>C03</td><td>['bird', 'extremity', 'fish']</td><td>['C08C03- & C03C01+']</td></tr><tr><td>C04</td><td>['eagle', 'herring', 'parrot', 'tuna']</td><td>['C02C04- & C04C07+', 'C02C04- & C04C08+']</td></tr><tr><td>C05</td><td>['feather', 'scale']</td><td>['C07C05- & C05C01+']</td></tr><tr><td>C06</td><td>['fin', 'wing']</td><td>['C02C06- & C06C07+', 'C02C06- & C06C08+', 'C07C06- & C06C01+']</td></tr><tr><td>C07</td><td>['has']</td><td>['C04C07- & C07C06+', 'C06C07- & C07C05+']</td></tr><tr><td>C08</td><td>['isa']</td><td>['C04C08- & C08C03+', 'C06C08- & C08C03+']</td></tr></table>"
      ],
      "text/plain": [
       "<IPython.core.display.HTML object>"
      ]
     },
     "metadata": {},
     "output_type": "display_data"
    }
   ],
   "source": [
    "test_grammar(lg_rule_list, test_data_path)"
   ]
  },
  {
   "cell_type": "markdown",
   "metadata": {},
   "source": [
    "### Link Grammar parsing tests with the learned 8-rule dictionary\n",
    "\n",
    "```\n",
    "tuna isa fish\n",
    "\n",
    "    +-C02C04+C04C08+C08C03+C03C01+\n",
    "    |       |      |      |      |\n",
    "LEFT-WALL tuna    isa   fish     . \n",
    "\n",
    "\n",
    "herring isa fish.\n",
    "\n",
    "    +-C02C04-+C04C08+C08C03+C03C01+\n",
    "    |        |      |      |      |\n",
    "LEFT-WALL herring  isa   fish     . \n",
    "\n",
    "\n",
    "tuna has fin.\n",
    "\n",
    "    +-C02C04+C04C07+C07C06+C06C01+\n",
    "    |       |      |      |      |\n",
    "LEFT-WALL tuna    has    fin     . \n",
    "\n",
    "\n",
    "herring has fin.\n",
    "\n",
    "    +-C02C04-+C04C07+C07C06+C06C01+\n",
    "    |        |      |      |      |\n",
    "LEFT-WALL herring  has    fin     . \n",
    "\n",
    "\n",
    "parrot isa bird.\n",
    "\n",
    "    +-C02C04-+C04C08+C08C03+C03C01+\n",
    "    |        |      |      |      |\n",
    "LEFT-WALL parrot   isa   bird     . \n",
    "\n",
    "\n",
    "eagle isa bird.\n",
    "\n",
    "    +-C02C04+C04C08+C08C03+C03C01+\n",
    "    |       |      |      |      |\n",
    "LEFT-WALL eagle   isa   bird     . \n",
    "\n",
    "\n",
    "parrot has wing.\n",
    "\n",
    "    +-C02C04-+C04C07+C07C06+C06C01+\n",
    "    |        |      |      |      |\n",
    "LEFT-WALL parrot   has   wing     . \n",
    "\n",
    "\n",
    "eagle has wing.\n",
    "\n",
    "    +-C02C04+C04C07+C07C06+C06C01+\n",
    "    |       |      |      |      |\n",
    "LEFT-WALL eagle   has   wing     . \n",
    "\n",
    "\n",
    "fin isa extremity.\n",
    "\n",
    "    +C02C06+C06C08+C08C03+C03C01+\n",
    "    |      |      |      |      |\n",
    "LEFT-WALL fin    isa extremity  . \n",
    "\n",
    "\n",
    "wing isa extremity.\n",
    "\n",
    "    +-C02C06+C06C08+C08C03+C03C01+\n",
    "    |       |      |      |      |\n",
    "LEFT-WALL wing    isa extremity  . \n",
    "\n",
    "\n",
    "fin has scale.\n",
    "\n",
    "    +C02C06+C06C07+C07C05+C05C01+\n",
    "    |      |      |      |      |\n",
    "LEFT-WALL fin    has   scale    . \n",
    "\n",
    "\n",
    "wing has feather.\n",
    "\n",
    "    +-C02C06+C06C07+C07C05+C05C01+\n",
    "    |       |      |      |      |\n",
    "LEFT-WALL wing    has  feather   . \n",
    "```\n"
   ]
  },
  {
   "cell_type": "markdown",
   "metadata": {},
   "source": [
    "## 6.4 Test \"original\" MST-parses.\n",
    "All the previous tests were based on \"synthetic\" disjuncts created by neighbouring words for each word in every sentence. Now it's time to learn Link Grammar after parsing the same \"Turtle corpus\" with the OpenCog MST parser."
   ]
  },
  {
   "cell_type": "code",
   "execution_count": 12,
   "metadata": {},
   "outputs": [
    {
     "name": "stdout",
     "output_type": "stream",
     "text": [
      "Data file: /home/obaskov/language-learning/data/poc-turtle-opencog-mst-parses.txt\n",
      "- \"Turtle\" language corpus:\n",
      "\n",
      "tuna has fin .\n",
      "0 ###LEFT-WALL### 1 tuna\n",
      "1 tuna 2 has\n",
      "2 has 3 fin\n",
      "3 fin 4 .\n",
      "\n",
      "eagle isa bird .\n",
      "0 ###LEFT-WALL### 1 eagle\n",
      "1 eagle 2 isa\n",
      "2 isa 3 bird\n",
      "3 bird 4 .\n",
      "\n",
      "fin isa extremity .\n",
      "0 ###LEFT-WALL### 1 fin\n",
      "1 fin 4 .\n",
      "2 isa 3 extremity\n",
      "3 extremity 4 .\n",
      "\n",
      "tuna isa fish .\n",
      "0 ###LEFT-WALL### 1 tuna\n",
      "1 tuna 2 isa\n",
      "2 isa 3 fish\n",
      "3 fish 4 .\n",
      "\n",
      "fin has scale .\n",
      "0 ###LEFT-WALL### 1 fin\n",
      "1 fin 3 scale\n",
      "2 has 3 scale\n",
      "3 scale 4 .\n",
      "\n",
      "eagle has wing .\n",
      "0 ###LEFT-WALL### 1 eagle\n",
      "1 eagle 2 has\n",
      "2 has 3 wing\n",
      "3 wing 4 .\n",
      "\n",
      "wing has feather .\n",
      "0 ###LEFT-WALL### 1 wing\n",
      "1 wing 3 feather\n",
      "2 has 3 feather\n",
      "3 feather 4 .\n",
      "\n",
      "wing isa extremity .\n",
      "0 ###LEFT-WALL### 1 wing\n",
      "1 wing 4 .\n",
      "2 isa 3 extremity\n",
      "3 extremity 4 .\n",
      "\n",
      "herring isa fish .\n",
      "0 ###LEFT-WALL### 1 herring\n",
      "1 herring 2 isa\n",
      "2 isa 3 fish\n",
      "3 fish 4 .\n",
      "\n",
      "herring has fin .\n",
      "0 ###LEFT-WALL### 1 herring\n",
      "1 herring 2 has\n",
      "2 has 3 fin\n",
      "3 fin 4 .\n",
      "\n",
      "parrot isa bird .\n",
      "0 ###LEFT-WALL### 1 parrot\n",
      "1 parrot 2 isa\n",
      "2 isa 3 bird\n",
      "3 bird 4 .\n",
      "\n",
      "parrot has wing .\n",
      "0 ###LEFT-WALL### 1 parrot\n",
      "1 parrot 2 has\n",
      "2 has 3 wing\n",
      "3 wing 4 .\n",
      "\n",
      "the end (any string, 1st symbol not a digit)\n",
      "\n"
     ]
    }
   ],
   "source": [
    "input_file = '../data/poc-turtle-opencog-mst-parses.txt'\n",
    "if os.path.isfile(input_file):\n",
    "    print('Data file:', module_path + input_file[2:],)\n",
    "    log.update({'input_file': module_path + input_file[2:]})\n",
    "    if verbose == 'max':\n",
    "        print('- \"Turtle\" language corpus:\\n')\n",
    "        with open(input_file, 'r') as f: \n",
    "            lines = f.read().splitlines()\n",
    "        for line in lines: print(line)\n",
    "else: print('No data file', module_path + input_file[2:])"
   ]
  },
  {
   "cell_type": "markdown",
   "metadata": {},
   "source": [
    "Four of the 12 sentences were parsed different from straitforward 0-1, 1-2, 2-3, 3-4 pattern:\n",
    "\n",
    "```\n",
    "fin isa extremity .\n",
    "0 ###LEFT-WALL### 1 fin\n",
    "1 fin 4 .\n",
    "2 isa 3 extremity\n",
    "3 extremity 4 .\n",
    "\n",
    "fin has scale .\n",
    "0 ###LEFT-WALL### 1 fin\n",
    "1 fin 3 scale\n",
    "2 has 3 scale\n",
    "3 scale 4 .\n",
    "\n",
    "wing has feather .\n",
    "0 ###LEFT-WALL### 1 wing\n",
    "1 wing 3 feather\n",
    "2 has 3 feather\n",
    "3 feather 4 .\n",
    "\n",
    "wing isa extremity .\n",
    "0 ###LEFT-WALL### 1 wing\n",
    "1 wing 4 .\n",
    "2 isa 3 extremity\n",
    "3 extremity 4 .\n",
    "```\n"
   ]
  },
  {
   "cell_type": "code",
   "execution_count": 13,
   "metadata": {},
   "outputs": [
    {
     "name": "stdout",
     "output_type": "stream",
     "text": [
      "34 unique disjuncts form 44 unique word-disjunct pairs from 60 parsed items\n"
     ]
    },
    {
     "data": {
      "text/html": [
       "<div>\n",
       "<style scoped>\n",
       "    .dataframe tbody tr th:only-of-type {\n",
       "        vertical-align: middle;\n",
       "    }\n",
       "\n",
       "    .dataframe tbody tr th {\n",
       "        vertical-align: top;\n",
       "    }\n",
       "\n",
       "    .dataframe thead th {\n",
       "        text-align: right;\n",
       "    }\n",
       "</style>\n",
       "<table border=\"1\" class=\"dataframe\">\n",
       "  <thead>\n",
       "    <tr style=\"text-align: right;\">\n",
       "      <th></th>\n",
       "      <th>germs</th>\n",
       "      <th>disjuncts</th>\n",
       "      <th>counts</th>\n",
       "      <th>cluster</th>\n",
       "    </tr>\n",
       "  </thead>\n",
       "  <tbody>\n",
       "    <tr>\n",
       "      <th>C01</th>\n",
       "      <td>[.]</td>\n",
       "      <td>[bird-, extremity- &amp; fin-, extremity- &amp; wing-,...</td>\n",
       "      <td>12</td>\n",
       "      <td>C01</td>\n",
       "    </tr>\n",
       "    <tr>\n",
       "      <th>C02</th>\n",
       "      <td>[LEFT-WALL]</td>\n",
       "      <td>[eagle+, fin+, herring+, parrot+, tuna+, wing+]</td>\n",
       "      <td>12</td>\n",
       "      <td>C02</td>\n",
       "    </tr>\n",
       "    <tr>\n",
       "      <th>C03</th>\n",
       "      <td>[bird, extremity, fish]</td>\n",
       "      <td>[isa- &amp; .+]</td>\n",
       "      <td>6</td>\n",
       "      <td>C03</td>\n",
       "    </tr>\n",
       "    <tr>\n",
       "      <th>C04</th>\n",
       "      <td>[eagle, herring, parrot, tuna]</td>\n",
       "      <td>[LEFT-WALL- &amp; has+, LEFT-WALL- &amp; isa+]</td>\n",
       "      <td>8</td>\n",
       "      <td>C04</td>\n",
       "    </tr>\n",
       "    <tr>\n",
       "      <th>C05</th>\n",
       "      <td>[feather]</td>\n",
       "      <td>[has- &amp; wing- &amp; .+]</td>\n",
       "      <td>1</td>\n",
       "      <td>C05</td>\n",
       "    </tr>\n",
       "    <tr>\n",
       "      <th>C06</th>\n",
       "      <td>[fin]</td>\n",
       "      <td>[LEFT-WALL- &amp; .+, LEFT-WALL- &amp; scale+, has- &amp; .+]</td>\n",
       "      <td>4</td>\n",
       "      <td>C06</td>\n",
       "    </tr>\n",
       "    <tr>\n",
       "      <th>C07</th>\n",
       "      <td>[has]</td>\n",
       "      <td>[eagle- &amp; wing+, feather+, herring- &amp; fin+, pa...</td>\n",
       "      <td>6</td>\n",
       "      <td>C07</td>\n",
       "    </tr>\n",
       "    <tr>\n",
       "      <th>C08</th>\n",
       "      <td>[isa]</td>\n",
       "      <td>[eagle- &amp; bird+, extremity+, herring- &amp; fish+,...</td>\n",
       "      <td>6</td>\n",
       "      <td>C08</td>\n",
       "    </tr>\n",
       "    <tr>\n",
       "      <th>C09</th>\n",
       "      <td>[scale]</td>\n",
       "      <td>[fin- &amp; has- &amp; .+]</td>\n",
       "      <td>1</td>\n",
       "      <td>C09</td>\n",
       "    </tr>\n",
       "    <tr>\n",
       "      <th>C10</th>\n",
       "      <td>[wing]</td>\n",
       "      <td>[LEFT-WALL- &amp; .+, LEFT-WALL- &amp; feather+, has- ...</td>\n",
       "      <td>4</td>\n",
       "      <td>C10</td>\n",
       "    </tr>\n",
       "  </tbody>\n",
       "</table>\n",
       "</div>"
      ],
      "text/plain": [
       "                              germs  \\\n",
       "C01                             [.]   \n",
       "C02                     [LEFT-WALL]   \n",
       "C03         [bird, extremity, fish]   \n",
       "C04  [eagle, herring, parrot, tuna]   \n",
       "C05                       [feather]   \n",
       "C06                           [fin]   \n",
       "C07                           [has]   \n",
       "C08                           [isa]   \n",
       "C09                         [scale]   \n",
       "C10                          [wing]   \n",
       "\n",
       "                                             disjuncts  counts cluster  \n",
       "C01  [bird-, extremity- & fin-, extremity- & wing-,...      12     C01  \n",
       "C02    [eagle+, fin+, herring+, parrot+, tuna+, wing+]      12     C02  \n",
       "C03                                        [isa- & .+]       6     C03  \n",
       "C04             [LEFT-WALL- & has+, LEFT-WALL- & isa+]       8     C04  \n",
       "C05                                [has- & wing- & .+]       1     C05  \n",
       "C06  [LEFT-WALL- & .+, LEFT-WALL- & scale+, has- & .+]       4     C06  \n",
       "C07  [eagle- & wing+, feather+, herring- & fin+, pa...       6     C07  \n",
       "C08  [eagle- & bird+, extremity+, herring- & fish+,...       6     C08  \n",
       "C09                                 [fin- & has- & .+]       1     C09  \n",
       "C10  [LEFT-WALL- & .+, LEFT-WALL- & feather+, has- ...       4     C10  "
      ]
     },
     "execution_count": 13,
     "metadata": {},
     "output_type": "execute_result"
    }
   ],
   "source": [
    "#def pipeline(input_file, left_wall='', period=False, verbose='none'):\n",
    "from src.space.turtle import mst2disjuncts\n",
    "from src.link_grammar.turtle import lexical_entries, entries2clusters, \\\n",
    "     disjuncts2clusters, entries2rules, save_link_grammar\n",
    "parses = mst2disjuncts(input_file, lw='', dot=False)\n",
    "disjuncts = parses.groupby(['word','disjunct'], as_index=False).sum() \\\n",
    "    .sort_values(by=['count','word','disjunct'], ascending=[False,True,True]) \\\n",
    "    .reset_index(drop=True)\n",
    "dj_number = len(set(disjuncts['disjunct'].tolist()))\n",
    "if verbose != 'none': print(dj_number, 'unique disjuncts form', \\\n",
    "    len(disjuncts),'unique word-disjunct pairs from', len(parses), 'parsed items') \n",
    "dfc = entries2clusters(lexical_entries(disjuncts))\n",
    "dfc"
   ]
  },
  {
   "cell_type": "markdown",
   "metadata": {},
   "source": [
    "The above mentiones specifics of parsing 4 sentences led to formation of two separate clusters for \"fin\" and \"wing\", each with a specific set of rules."
   ]
  },
  {
   "cell_type": "code",
   "execution_count": 14,
   "metadata": {},
   "outputs": [
    {
     "data": {
      "text/html": [
       "<table><tr><td>Cluster</td><td>Words</td><td></td><td></td><td>Disjuncts</td></tr><tr><td>C01</td><td>['.']</td><td>[]</td><td>[]</td><td>['C03C01-', 'C03C01- & C06C01-', 'C03C01- & C10C01-', 'C05C01-', 'C06C01-', 'C09C01-', 'C10C01-']</td></tr><tr><td>C02</td><td>['LEFT-WALL']</td><td>[]</td><td>[]</td><td>['C02C04+', 'C02C06+', 'C02C10+']</td></tr><tr><td>C03</td><td>['bird', 'extremity', 'fish']</td><td>[]</td><td>[]</td><td>['C08C03- & C03C01+']</td></tr><tr><td>C04</td><td>['eagle', 'herring', 'parrot', 'tuna']</td><td>[]</td><td>[]</td><td>['C02C04- & C04C07+', 'C02C04- & C04C08+']</td></tr><tr><td>C05</td><td>['feather']</td><td>[]</td><td>[]</td><td>['C07C05- & C10C05- & C05C01+']</td></tr><tr><td>C06</td><td>['fin']</td><td>[]</td><td>[]</td><td>['C02C06- & C06C01+', 'C02C06- & C06C09+', 'C07C06- & C06C01+']</td></tr><tr><td>C07</td><td>['has']</td><td>[]</td><td>[]</td><td>['C04C07- & C07C06+', 'C04C07- & C07C10+', 'C07C05+', 'C07C09+']</td></tr><tr><td>C08</td><td>['isa']</td><td>[]</td><td>[]</td><td>['C04C08- & C08C03+', 'C08C03+']</td></tr><tr><td>C09</td><td>['scale']</td><td>[]</td><td>[]</td><td>['C06C09- & C07C09- & C09C01+']</td></tr><tr><td>C10</td><td>['wing']</td><td>[]</td><td>[]</td><td>['C02C10- & C10C01+', 'C02C10- & C10C05+', 'C07C10- & C10C01+']</td></tr></table>"
      ],
      "text/plain": [
       "<IPython.core.display.HTML object>"
      ]
     },
     "metadata": {},
     "output_type": "display_data"
    }
   ],
   "source": [
    "rules = disjuncts2clusters(dfc)\n",
    "rule_list = entries2rules(rules)\n",
    "#return rule_list\n",
    "#rule_list = ppline(input_file, left_wall='', period=False, verbose='max')\n",
    "display(html_table([['Cluster','Words','','','Disjuncts']] + rule_list))"
   ]
  },
  {
   "cell_type": "code",
   "execution_count": 15,
   "metadata": {},
   "outputs": [
    {
     "name": "stdout",
     "output_type": "stream",
     "text": [
      "% POC Turtle Link Grammar v.0.6 2018-03-11 14:52:52 UTC\n",
      "<dictionary-version-number>: V0v0v6+;\n",
      "<dictionary-locale>: EN4us+;\n",
      "\n",
      "% C01\n",
      "\".\":\n",
      "(C03C01-) or (C03C01- & C06C01-) or (C03C01- & C10C01-) or (C05C01-) or (C06C01-) or (C09C01-) or (C10C01-);\n",
      "\n",
      "% C02\n",
      "\"LEFT-WALL\":\n",
      "(C02C04+) or (C02C06+) or (C02C10+);\n",
      "\n",
      "% C03\n",
      "\"bird\" \"extremity\" \"fish\":\n",
      "(C08C03- & C03C01+);\n",
      "\n",
      "% C04\n",
      "\"eagle\" \"herring\" \"parrot\" \"tuna\":\n",
      "(C02C04- & C04C07+) or (C02C04- & C04C08+);\n",
      "\n",
      "% C05\n",
      "\"feather\":\n",
      "(C07C05- & C10C05- & C05C01+);\n",
      "\n",
      "% C06\n",
      "\"fin\":\n",
      "(C02C06- & C06C01+) or (C02C06- & C06C09+) or (C07C06- & C06C01+);\n",
      "\n",
      "% C07\n",
      "\"has\":\n",
      "(C04C07- & C07C06+) or (C04C07- & C07C10+) or (C07C05+) or (C07C09+);\n",
      "\n",
      "% C08\n",
      "\"isa\":\n",
      "(C04C08- & C08C03+) or (C08C03+);\n",
      "\n",
      "% C09\n",
      "\"scale\":\n",
      "(C06C09- & C07C09- & C09C01+);\n",
      "\n",
      "% C10\n",
      "\"wing\":\n",
      "(C02C10- & C10C01+) or (C02C10- & C10C05+) or (C07C10- & C10C01+);\n",
      "\n",
      "% 10 word clusters, 10 Link Grammar rules.\n",
      "% Link Grammar file saved to: /home/obaskov/language-learning/output/Turtle-6-2018-03-10/poc-turtle_10C_2018-03-11_0006.4.0.dict\n"
     ]
    }
   ],
   "source": [
    "from src.link_grammar.turtle import save_link_grammar\n",
    "lg_file_string = save_link_grammar(rule_list, path)\n",
    "for line in lg_file_string.splitlines(): print(line)"
   ]
  },
  {
   "cell_type": "markdown",
   "metadata": {},
   "source": [
    "### Link Grammar parsing tests with the dictionary learned from MST-parses.\n",
    "The learned Link Grammar dictionary was used with Link Grammar parser to parse the 12 sentences of the \"Turtle\" corpus. The results were the following: \n",
    "```\n",
    "1. tuna isa fish.\n",
    "\n",
    "    +-C02C04+C04C08+C08C03+C03C01+\n",
    "    |       |      |      |      |\n",
    "LEFT-WALL tuna    isa   fish     . \n",
    "\n",
    "\n",
    "2. herring isa fish.\n",
    "\n",
    "    +-C02C04-+C04C08+C08C03+C03C01+\n",
    "    |        |      |      |      |\n",
    "LEFT-WALL herring  isa   fish     . \n",
    "\n",
    "\n",
    "3. tuna has fin.\n",
    "\n",
    "    +-C02C04+C04C07+C07C06+C06C01+\n",
    "    |       |      |      |      |\n",
    "LEFT-WALL tuna    has    fin     . \n",
    "\n",
    "\n",
    "4. herring has fin.\n",
    "\n",
    "    +-C02C04-+C04C07+C07C06+C06C01+\n",
    "    |        |      |      |      |\n",
    "LEFT-WALL herring  has    fin     . \n",
    "\n",
    "\n",
    "5. parrot isa bird.\n",
    "\n",
    "    +-C02C04-+C04C08+C08C03+C03C01+\n",
    "    |        |      |      |      |\n",
    "LEFT-WALL parrot   isa   bird     . \n",
    "\n",
    "\n",
    "6. eagle isa bird.\n",
    "\n",
    "    +-C02C04+C04C08+C08C03+C03C01+\n",
    "    |       |      |      |      |\n",
    "LEFT-WALL eagle   isa   bird     . \n",
    "\n",
    "\n",
    "7. parrot has wing.\n",
    "\n",
    "    +-C02C04-+C04C07+C07C10+C10C01+\n",
    "    |        |      |      |      |\n",
    "LEFT-WALL parrot   has   wing     . \n",
    "\n",
    "\n",
    "8. eagle has wing.\n",
    "\n",
    "    +-C02C04+C04C07+C07C10+C10C01+\n",
    "    |       |      |      |      |\n",
    "LEFT-WALL eagle   has   wing     . \n",
    "\n",
    "\n",
    "9. fin isa extremity.\n",
    "\n",
    "           +------C06C01-----+\n",
    "    +C02C06+   +C08C03+C03C01+\n",
    "    |      |   |      |      |\n",
    "LEFT-WALL fin isa extremity  . \n",
    "\n",
    "\n",
    "10. wing isa extremity.\n",
    "\n",
    "            +------C10C01-----+\n",
    "    +-C02C10+   +C08C03+C03C01+\n",
    "    |       |   |      |      |\n",
    "LEFT-WALL wing isa extremity  . \n",
    "\n",
    "\n",
    "11. fin has scale.\n",
    "\n",
    "    +C02C06+-----C06C01-----+\n",
    "    |      |                |\n",
    "LEFT-WALL fin [has] [scale] . \n",
    "\n",
    "\n",
    "12. wing has feather.\n",
    "\n",
    "            +--C10C05--+       \n",
    "    +-C02C10+   +C07C05+C05C01+\n",
    "    |       |   |      |      |\n",
    "LEFT-WALL wing has  feather   . \n",
    "```\n"
   ]
  },
  {
   "cell_type": "markdown",
   "metadata": {},
   "source": [
    "The last four sentences look different due to the above mentioned specific MST parses of these sentences."
   ]
  },
  {
   "cell_type": "code",
   "execution_count": null,
   "metadata": {},
   "outputs": [],
   "source": []
  }
 ],
 "metadata": {
  "kernelspec": {
   "display_name": "Python 3",
   "language": "python",
   "name": "python3"
  },
  "language_info": {
   "codemirror_mode": {
    "name": "ipython",
    "version": 3
   },
   "file_extension": ".py",
   "mimetype": "text/x-python",
   "name": "python",
   "nbconvert_exporter": "python",
   "pygments_lexer": "ipython3",
   "version": "3.6.4"
  }
 },
 "nbformat": 4,
 "nbformat_minor": 2
}
