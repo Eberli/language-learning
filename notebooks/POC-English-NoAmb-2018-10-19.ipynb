{
 "cells": [
  {
   "cell_type": "markdown",
   "metadata": {},
   "source": [
    "# POC-English-NoAmb tests `2018-10-19`\n",
    "\n",
    "**Test with updated `test_grammar`** (F1 added), server `94.130.238.118`  \n",
    "*Local test with updated 2018-10-19 `test_grammar` failed with dILEd MST-fixed ?!*\n",
    "\n",
    "Each line is calculated 1x, parsing metrics tested 1x for each calculation.  \n",
    "The calculation table is shared as 'short_table.txt' in [POC-English-NoAmb-2018-10-19](http://langlearn.singularitynet.io/data/clustering_2018/POC-English-NoAmb-2018-08-09/) folder.    \n",
    "This notebook is shared as static [POC-English-NoAmb-2018-10-19.html](http://langlearn.singularitynet.io/data/clustering_2018/html/POC-English-NoAmb-2018-10-19.html)  "
   ]
  },
  {
   "cell_type": "markdown",
   "metadata": {},
   "source": [
    "## Basic settings"
   ]
  },
  {
   "cell_type": "code",
   "execution_count": 1,
   "metadata": {
    "ExecuteTime": {
     "end_time": "2018-10-19T10:58:30.797017Z",
     "start_time": "2018-10-19T10:58:30.072540Z"
    },
    "scrolled": true
   },
   "outputs": [
    {
     "name": "stdout",
     "output_type": "stream",
     "text": [
      "2018-10-19 10:58:30 UTC :: module_path = /home/obaskov/py/language-learning\n"
     ]
    }
   ],
   "source": [
    "import os, sys, time\n",
    "module_path = os.path.abspath(os.path.join('..'))\n",
    "if module_path not in sys.path: sys.path.append(module_path)\n",
    "from ull.grammar_learner.utl import UTC\n",
    "from ull.grammar_learner.read_files import check_dir\n",
    "from ull.grammar_learner.write_files import list2file\n",
    "from ull.grammar_learner.widgets import html_table\n",
    "from src.grammar_learner.pqa_table import table_rows\n",
    "tmpath = module_path + '/tmp/'\n",
    "check_dir(tmpath, True, 'none')\n",
    "table = []\n",
    "long_table = []\n",
    "start = time.time()\n",
    "print(UTC(), ':: module_path =', module_path)"
   ]
  },
  {
   "cell_type": "markdown",
   "metadata": {},
   "source": [
    "## Grammar Learner corpus-specific parameters"
   ]
  },
  {
   "cell_type": "code",
   "execution_count": 2,
   "metadata": {
    "ExecuteTime": {
     "end_time": "2018-10-19T10:58:30.805283Z",
     "start_time": "2018-10-19T10:58:30.798414Z"
    }
   },
   "outputs": [],
   "source": [
    "corpus = 'POC-English-NoAmb'\n",
    "out_dir = module_path + '/output/'+ corpus + '-' + str(UTC())[:10]\n",
    "runs = (1,1)    # (attempts to learn grammar per line, grammar tests per attempt)\n",
    "if runs != (1,1): out_dir += '-multi'\n",
    "kwargs = {\n",
    "    'left_wall'     :   ''          ,\n",
    "    'period'        :   False       ,\n",
    "    'word_space'    :   'vectors'   ,\n",
    "    'cluster_range' :   (2,20,1,5)    ,\n",
    "    'clustering'    :   ('kmeans', 'kmeans++', 18),\n",
    "    'tmpath'        :   tmpath      , \n",
    "    'verbose'       :   'max'       ,\n",
    "    'template_path' :   'poc-turtle',\n",
    "    'linkage_limit' :   1000         ,\n",
    "    'categories_generalization': 'off' }\n",
    "lines = [\n",
    "    [14, 'POC-English-NoAmb', 'MST-fixed-manually'              ,'LW','.', 'none' ],\n",
    "    [15, 'POC-English-NoAmb', 'MST-fixed-manually'              , 0  , 0 , 'none' ],\n",
    "    [16, 'POC-English-NoAmb', 'LG-English'                      ,'LW','.', 'none' ],\n",
    "    [17, 'POC-English-NoAmb', 'LG-English'                      , 0  , 0 , 'none' ],\n",
    "    [18, 'POC-English-NoAmb', 'R=6-Weight=6:R-mst-weight=+1:R'  ,'LW','.', 'none' ],\n",
    "    [19, 'POC-English-NoAmb', 'R=6-Weight=6:R-mst-weight=+1:R'  , 0  , 0 , 'none' ],\n",
    "    [20, 'POC-English-NoAmb', 'R=6-Weight=1-mst-weight=+1:R'    ,'LW','.', 'none' ], \n",
    "    [21, 'POC-English-NoAmb', 'R=6-Weight=1-mst-weight=+1:R'    , 0  , 0 , 'none' ], \n",
    "    [22, 'POC-English-NoAmb', 'LG-ANY-mst-weight=+1:R'          ,'LW','.', 'none' ],\n",
    "    [23, 'POC-English-NoAmb', 'LG-ANY-mst-weight=+1:R'          , 0  , 0 , 'none' ]]\n",
    "# cp,rp :: (test) corpus_path and reference_path\n",
    "cp = module_path + '/data/POC-English-NoAmb/poc_english_noamb_corpus.txt'\n",
    "rp = module_path + '/data/POC-English-NoAmb/poc-english_noAmb-parses-gold.txt'\n",
    "#cp = rp  # July 2018 Grammar Tester option"
   ]
  },
  {
   "cell_type": "markdown",
   "metadata": {},
   "source": [
    "# ULL Project Plan ⇒ Parses ⇒ lines 13-17"
   ]
  },
  {
   "cell_type": "markdown",
   "metadata": {},
   "source": [
    "## Connectors-DRK-Connectors"
   ]
  },
  {
   "cell_type": "code",
   "execution_count": 3,
   "metadata": {
    "ExecuteTime": {
     "end_time": "2018-10-19T10:58:57.013144Z",
     "start_time": "2018-10-19T10:58:30.806483Z"
    }
   },
   "outputs": [],
   "source": [
    "%%capture\n",
    "kwargs['context'] = 1\n",
    "kwargs['grammar_rules'] = 1\n",
    "average21, long21, header = table_rows(lines, out_dir, cp, rp, runs, **kwargs)\n",
    "table.extend(average21)\n",
    "long_table.extend(long21)"
   ]
  },
  {
   "cell_type": "code",
   "execution_count": 4,
   "metadata": {
    "ExecuteTime": {
     "end_time": "2018-10-19T10:58:57.019882Z",
     "start_time": "2018-10-19T10:58:57.015872Z"
    }
   },
   "outputs": [
    {
     "data": {
      "text/html": [
       "<table><tr><td>Line</td><td>Corpus</td><td>Parsing</td><td>LW</td><td>RW</td><td>Gen.</td><td>Space</td><td>Rules</td><td>Silhouette</td><td>PA</td><td>PQ</td><td>F1</td></tr><tr><td>14</td><td>POC-English-NoAmb</td><td>MST-fixed-manually</td><td>LW</td><td> . </td><td>none</td><td>cDRKc</td><td>11</td><td>0.45</td><td>0%</td><td>0%</td><td>0.00</td></tr><tr><td>15</td><td>POC-English-NoAmb</td><td>MST-fixed-manually</td><td> --- </td><td> --- </td><td>none</td><td>cDRKc</td><td>9</td><td>0.5</td><td>72%</td><td>61%</td><td>0.75</td></tr><tr><td>16</td><td>POC-English-NoAmb</td><td>LG-English</td><td>LW</td><td> . </td><td>none</td><td>cDRKc</td><td>13</td><td>0.52</td><td>68%</td><td>55%</td><td>0.70</td></tr><tr><td>17</td><td>POC-English-NoAmb</td><td>LG-English</td><td> --- </td><td> --- </td><td>none</td><td>cDRKc</td><td>11</td><td>0.58</td><td>0%</td><td>0%</td><td>0.00</td></tr><tr><td>18</td><td>POC-English-NoAmb</td><td>R=6-Weight=6:R-mst-weight=+1:R</td><td>LW</td><td> . </td><td>none</td><td>cDRKc</td><td>10</td><td>0.44</td><td>90%</td><td>56%</td><td>0.61</td></tr><tr><td>19</td><td>POC-English-NoAmb</td><td>R=6-Weight=6:R-mst-weight=+1:R</td><td> --- </td><td> --- </td><td>none</td><td>cDRKc</td><td>9</td><td>0.49</td><td>99%</td><td>65%</td><td>0.66</td></tr><tr><td>20</td><td>POC-English-NoAmb</td><td>R=6-Weight=1-mst-weight=+1:R</td><td>LW</td><td> . </td><td>none</td><td>cDRKc</td><td>17</td><td>0.15</td><td>94%</td><td>55%</td><td>0.57</td></tr><tr><td>21</td><td>POC-English-NoAmb</td><td>R=6-Weight=1-mst-weight=+1:R</td><td> --- </td><td> --- </td><td>none</td><td>cDRKc</td><td>18</td><td>0.16</td><td>90%</td><td>55%</td><td>0.59</td></tr><tr><td>22</td><td>POC-English-NoAmb</td><td>LG-ANY-mst-weight=+1:R</td><td>LW</td><td> . </td><td>none</td><td>cDRKc</td><td>10</td><td>0.4</td><td>0%</td><td>0%</td><td>0.00</td></tr><tr><td>23</td><td>POC-English-NoAmb</td><td>LG-ANY-mst-weight=+1:R</td><td> --- </td><td> --- </td><td>none</td><td>cDRKc</td><td>10</td><td>0.47</td><td>99%</td><td>65%</td><td>0.66</td></tr></table>"
      ],
      "text/plain": [
       "<IPython.core.display.HTML object>"
      ]
     },
     "metadata": {},
     "output_type": "display_data"
    }
   ],
   "source": [
    "display(html_table([header]+average21))"
   ]
  },
  {
   "cell_type": "markdown",
   "metadata": {},
   "source": [
    "## Connectors-DRK-Disjuncts"
   ]
  },
  {
   "cell_type": "code",
   "execution_count": 5,
   "metadata": {
    "ExecuteTime": {
     "end_time": "2018-10-19T10:59:23.194936Z",
     "start_time": "2018-10-19T10:58:57.021619Z"
    }
   },
   "outputs": [],
   "source": [
    "%%capture\n",
    "kwargs['grammar_rules'] = 2\n",
    "average22, long22, header = table_rows(lines, out_dir, cp, rp, runs, **kwargs)\n",
    "table.extend(average22)\n",
    "long_table.extend(long22)"
   ]
  },
  {
   "cell_type": "code",
   "execution_count": 6,
   "metadata": {
    "ExecuteTime": {
     "end_time": "2018-10-19T10:59:23.205033Z",
     "start_time": "2018-10-19T10:59:23.198801Z"
    },
    "scrolled": true
   },
   "outputs": [
    {
     "data": {
      "text/html": [
       "<table><tr><td>Line</td><td>Corpus</td><td>Parsing</td><td>LW</td><td>RW</td><td>Gen.</td><td>Space</td><td>Rules</td><td>Silhouette</td><td>PA</td><td>PQ</td><td>F1</td></tr><tr><td>14</td><td>POC-English-NoAmb</td><td>MST-fixed-manually</td><td>LW</td><td> . </td><td>none</td><td>cDRKd</td><td>11</td><td>0.45</td><td>0%</td><td>0%</td><td>0.00</td></tr><tr><td>15</td><td>POC-English-NoAmb</td><td>MST-fixed-manually</td><td> --- </td><td> --- </td><td>none</td><td>cDRKd</td><td>9</td><td>0.51</td><td>46%</td><td>39%</td><td>0.41</td></tr><tr><td>16</td><td>POC-English-NoAmb</td><td>LG-English</td><td>LW</td><td> . </td><td>none</td><td>cDRKd</td><td>13</td><td>0.52</td><td>0%</td><td>0%</td><td>0.00</td></tr><tr><td>17</td><td>POC-English-NoAmb</td><td>LG-English</td><td> --- </td><td> --- </td><td>none</td><td>cDRKd</td><td>11</td><td>0.58</td><td>46%</td><td>39%</td><td>0.41</td></tr><tr><td>18</td><td>POC-English-NoAmb</td><td>R=6-Weight=6:R-mst-weight=+1:R</td><td>LW</td><td> . </td><td>none</td><td>cDRKd</td><td>10</td><td>0.44</td><td>93%</td><td>56%</td><td>0.60</td></tr><tr><td>19</td><td>POC-English-NoAmb</td><td>R=6-Weight=6:R-mst-weight=+1:R</td><td> --- </td><td> --- </td><td>none</td><td>cDRKd</td><td>9</td><td>0.49</td><td>100%</td><td>66%</td><td>0.66</td></tr><tr><td>20</td><td>POC-English-NoAmb</td><td>R=6-Weight=1-mst-weight=+1:R</td><td>LW</td><td> . </td><td>none</td><td>cDRKd</td><td>16</td><td>0.14</td><td>78%</td><td>44%</td><td>0.46</td></tr><tr><td>21</td><td>POC-English-NoAmb</td><td>R=6-Weight=1-mst-weight=+1:R</td><td> --- </td><td> --- </td><td>none</td><td>cDRKd</td><td>17</td><td>0.15</td><td>0%</td><td>0%</td><td>0.00</td></tr><tr><td>22</td><td>POC-English-NoAmb</td><td>LG-ANY-mst-weight=+1:R</td><td>LW</td><td> . </td><td>none</td><td>cDRKd</td><td>11</td><td>0.44</td><td>0%</td><td>0%</td><td>0.00</td></tr><tr><td>23</td><td>POC-English-NoAmb</td><td>LG-ANY-mst-weight=+1:R</td><td> --- </td><td> --- </td><td>none</td><td>cDRKd</td><td>10</td><td>0.47</td><td>98%</td><td>60%</td><td>0.61</td></tr></table>"
      ],
      "text/plain": [
       "<IPython.core.display.HTML object>"
      ]
     },
     "metadata": {},
     "output_type": "display_data"
    }
   ],
   "source": [
    "display(html_table([header]+average22))"
   ]
  },
  {
   "cell_type": "markdown",
   "metadata": {},
   "source": [
    "## Disjuncts-DRK-Disjuncts"
   ]
  },
  {
   "cell_type": "code",
   "execution_count": 7,
   "metadata": {
    "ExecuteTime": {
     "end_time": "2018-10-19T10:59:47.388840Z",
     "start_time": "2018-10-19T10:59:23.207704Z"
    }
   },
   "outputs": [],
   "source": [
    "%%capture\n",
    "kwargs['context'] = 2\n",
    "average23, long23, header = table_rows(lines, out_dir, cp, rp, runs, **kwargs)\n",
    "table.extend(average23)\n",
    "long_table.extend(long23)"
   ]
  },
  {
   "cell_type": "code",
   "execution_count": 8,
   "metadata": {
    "ExecuteTime": {
     "end_time": "2018-10-19T10:59:47.400591Z",
     "start_time": "2018-10-19T10:59:47.393357Z"
    }
   },
   "outputs": [
    {
     "data": {
      "text/html": [
       "<table><tr><td>Line</td><td>Corpus</td><td>Parsing</td><td>LW</td><td>RW</td><td>Gen.</td><td>Space</td><td>Rules</td><td>Silhouette</td><td>PA</td><td>PQ</td><td>F1</td></tr><tr><td>14</td><td>POC-English-NoAmb</td><td>MST-fixed-manually</td><td>LW</td><td> . </td><td>none</td><td>dDRKd</td><td>12</td><td>0.52</td><td>0%</td><td>0%</td><td>0.00</td></tr><tr><td>15</td><td>POC-English-NoAmb</td><td>MST-fixed-manually</td><td> --- </td><td> --- </td><td>none</td><td>dDRKd</td><td>10</td><td>0.53</td><td>62%</td><td>56%</td><td>0.57</td></tr><tr><td>16</td><td>POC-English-NoAmb</td><td>LG-English</td><td>LW</td><td> . </td><td>none</td><td>dDRKd</td><td>12</td><td>0.5</td><td>32%</td><td>18%</td><td>0.28</td></tr><tr><td>17</td><td>POC-English-NoAmb</td><td>LG-English</td><td> --- </td><td> --- </td><td>none</td><td>dDRKd</td><td>11</td><td>0.51</td><td>0%</td><td>0%</td><td>0.00</td></tr><tr><td>18</td><td>POC-English-NoAmb</td><td>R=6-Weight=6:R-mst-weight=+1:R</td><td>LW</td><td> . </td><td>none</td><td>dDRKd</td><td>11</td><td>0.38</td><td>100%</td><td>68%</td><td>0.68</td></tr><tr><td>19</td><td>POC-English-NoAmb</td><td>R=6-Weight=6:R-mst-weight=+1:R</td><td> --- </td><td> --- </td><td>none</td><td>dDRKd</td><td>10</td><td>0.41</td><td>100%</td><td>68%</td><td>0.68</td></tr><tr><td>20</td><td>POC-English-NoAmb</td><td>R=6-Weight=1-mst-weight=+1:R</td><td>LW</td><td> . </td><td>none</td><td>dDRKd</td><td>18</td><td>0.47</td><td>0%</td><td>0%</td><td>0.00</td></tr><tr><td>21</td><td>POC-English-NoAmb</td><td>R=6-Weight=1-mst-weight=+1:R</td><td> --- </td><td> --- </td><td>none</td><td>dDRKd</td><td>8</td><td>0.36</td><td>89%</td><td>57%</td><td>0.58</td></tr><tr><td>22</td><td>POC-English-NoAmb</td><td>LG-ANY-mst-weight=+1:R</td><td>LW</td><td> . </td><td>none</td><td>dDRKd</td><td>12</td><td>0.37</td><td>97%</td><td>62%</td><td>0.64</td></tr><tr><td>23</td><td>POC-English-NoAmb</td><td>LG-ANY-mst-weight=+1:R</td><td> --- </td><td> --- </td><td>none</td><td>dDRKd</td><td>12</td><td>0.41</td><td>0%</td><td>0%</td><td>0.00</td></tr></table>"
      ],
      "text/plain": [
       "<IPython.core.display.HTML object>"
      ]
     },
     "metadata": {},
     "output_type": "display_data"
    }
   ],
   "source": [
    "display(html_table([header]+average23))"
   ]
  },
  {
   "cell_type": "markdown",
   "metadata": {},
   "source": [
    "***Tests failure***:  \n",
    "Line 15 (MST-fixed manually) was unstable in local tests, sometimes tests PA/PQ=0/0.  \n",
    "Before the 2018-10-19 update the stable result for 11-12 clusters was 0.456/0.389.  \n",
    "First tests on server `94.130.238.118`: 62%/56%, 46%/39%, 62%/56% ~ OK.   "
   ]
  },
  {
   "cell_type": "markdown",
   "metadata": {},
   "source": [
    "## Disjuncts-ILE-Disjuncts"
   ]
  },
  {
   "cell_type": "code",
   "execution_count": 9,
   "metadata": {
    "ExecuteTime": {
     "end_time": "2018-10-19T10:59:49.211047Z",
     "start_time": "2018-10-19T10:59:47.404296Z"
    }
   },
   "outputs": [],
   "source": [
    "%%capture\n",
    "kwargs['context'] = 2\n",
    "kwargs['word_space'] = 'discrete'\n",
    "kwargs['clustering'] = 'group'\n",
    "kwargs['grammar_rules'] = 2\n",
    "average24, long24, header = table_rows(lines, out_dir, cp, rp, runs, **kwargs)\n",
    "table.extend(average24)\n",
    "long_table.extend(long24)"
   ]
  },
  {
   "cell_type": "code",
   "execution_count": 10,
   "metadata": {
    "ExecuteTime": {
     "end_time": "2018-10-19T10:59:49.220957Z",
     "start_time": "2018-10-19T10:59:49.214708Z"
    }
   },
   "outputs": [
    {
     "data": {
      "text/html": [
       "<table><tr><td>Line</td><td>Corpus</td><td>Parsing</td><td>LW</td><td>RW</td><td>Gen.</td><td>Space</td><td>Rules</td><td>Silhouette</td><td>PA</td><td>PQ</td><td>F1</td></tr><tr><td>14</td><td>POC-English-NoAmb</td><td>MST-fixed-manually</td><td>LW</td><td> . </td><td>none</td><td>dILEd</td><td>15</td><td> --- </td><td>0%</td><td>0%</td><td>0.00</td></tr><tr><td>15</td><td>POC-English-NoAmb</td><td>MST-fixed-manually</td><td> --- </td><td> --- </td><td>none</td><td>dILEd</td><td>13</td><td> --- </td><td>46%</td><td>39%</td><td>0.41</td></tr><tr><td>16</td><td>POC-English-NoAmb</td><td>LG-English</td><td>LW</td><td> . </td><td>none</td><td>dILEd</td><td>15</td><td> --- </td><td>0%</td><td>0%</td><td>0.00</td></tr><tr><td>17</td><td>POC-English-NoAmb</td><td>LG-English</td><td> --- </td><td> --- </td><td>none</td><td>dILEd</td><td>13</td><td> --- </td><td>46%</td><td>39%</td><td>0.41</td></tr><tr><td>18</td><td>POC-English-NoAmb</td><td>R=6-Weight=6:R-mst-weight=+1:R</td><td>LW</td><td> . </td><td>none</td><td>dILEd</td><td>16</td><td> --- </td><td>93%</td><td>58%</td><td>0.62</td></tr><tr><td>19</td><td>POC-English-NoAmb</td><td>R=6-Weight=6:R-mst-weight=+1:R</td><td> --- </td><td> --- </td><td>none</td><td>dILEd</td><td>14</td><td> --- </td><td>100%</td><td>68%</td><td>0.68</td></tr><tr><td>20</td><td>POC-English-NoAmb</td><td>R=6-Weight=1-mst-weight=+1:R</td><td>LW</td><td> . </td><td>none</td><td>dILEd</td><td>44</td><td> --- </td><td>63%</td><td>39%</td><td>0.41</td></tr><tr><td>21</td><td>POC-English-NoAmb</td><td>R=6-Weight=1-mst-weight=+1:R</td><td> --- </td><td> --- </td><td>none</td><td>dILEd</td><td>42</td><td> --- </td><td>72%</td><td>50%</td><td>0.53</td></tr><tr><td>22</td><td>POC-English-NoAmb</td><td>LG-ANY-mst-weight=+1:R</td><td>LW</td><td> . </td><td>none</td><td>dILEd</td><td>16</td><td> --- </td><td>94%</td><td>58%</td><td>0.62</td></tr><tr><td>23</td><td>POC-English-NoAmb</td><td>LG-ANY-mst-weight=+1:R</td><td> --- </td><td> --- </td><td>none</td><td>dILEd</td><td>14</td><td> --- </td><td>97%</td><td>62%</td><td>0.64</td></tr></table>"
      ],
      "text/plain": [
       "<IPython.core.display.HTML object>"
      ]
     },
     "metadata": {},
     "output_type": "display_data"
    }
   ],
   "source": [
    "display(html_table([header]+average24))"
   ]
  },
  {
   "cell_type": "markdown",
   "metadata": {},
   "source": [
    "# All tests (all entries for multi-test `runs > (1.1)`)"
   ]
  },
  {
   "cell_type": "code",
   "execution_count": 11,
   "metadata": {
    "ExecuteTime": {
     "end_time": "2018-10-19T10:59:49.300847Z",
     "start_time": "2018-10-19T10:59:49.224047Z"
    }
   },
   "outputs": [
    {
     "data": {
      "text/html": [
       "<table><tr><td>Line</td><td>Corpus</td><td>Parsing</td><td>LW</td><td>RW</td><td>Gen.</td><td>Space</td><td>Rules</td><td>Silhouette</td><td>PA</td><td>PQ</td><td>F1</td></tr><tr><td>14</td><td>POC-English-NoAmb</td><td>MST-fixed-manually</td><td>LW</td><td> . </td><td>none</td><td>cDRKc</td><td> 11 </td><td>0.45</td><td>0%</td><td>0%</td><td>0.00</td></tr><tr><td>15</td><td>POC-English-NoAmb</td><td>MST-fixed-manually</td><td> --- </td><td> --- </td><td>none</td><td>cDRKc</td><td> 9 </td><td>0.5</td><td>72%</td><td>61%</td><td>0.75</td></tr><tr><td>16</td><td>POC-English-NoAmb</td><td>LG-English</td><td>LW</td><td> . </td><td>none</td><td>cDRKc</td><td> 13 </td><td>0.52</td><td>68%</td><td>55%</td><td>0.70</td></tr><tr><td>17</td><td>POC-English-NoAmb</td><td>LG-English</td><td> --- </td><td> --- </td><td>none</td><td>cDRKc</td><td> 11 </td><td>0.58</td><td>0%</td><td>0%</td><td>0.00</td></tr><tr><td>18</td><td>POC-English-NoAmb</td><td>R=6-Weight=6:R-mst-weight=+1:R</td><td>LW</td><td> . </td><td>none</td><td>cDRKc</td><td> 10 </td><td>0.44</td><td>90%</td><td>56%</td><td>0.61</td></tr><tr><td>19</td><td>POC-English-NoAmb</td><td>R=6-Weight=6:R-mst-weight=+1:R</td><td> --- </td><td> --- </td><td>none</td><td>cDRKc</td><td> 9 </td><td>0.49</td><td>99%</td><td>65%</td><td>0.66</td></tr><tr><td>20</td><td>POC-English-NoAmb</td><td>R=6-Weight=1-mst-weight=+1:R</td><td>LW</td><td> . </td><td>none</td><td>cDRKc</td><td> 17 </td><td>0.15</td><td>94%</td><td>55%</td><td>0.57</td></tr><tr><td>21</td><td>POC-English-NoAmb</td><td>R=6-Weight=1-mst-weight=+1:R</td><td> --- </td><td> --- </td><td>none</td><td>cDRKc</td><td> 18 </td><td>0.16</td><td>90%</td><td>55%</td><td>0.59</td></tr><tr><td>22</td><td>POC-English-NoAmb</td><td>LG-ANY-mst-weight=+1:R</td><td>LW</td><td> . </td><td>none</td><td>cDRKc</td><td> 10 </td><td>0.4</td><td>0%</td><td>0%</td><td>0.00</td></tr><tr><td>23</td><td>POC-English-NoAmb</td><td>LG-ANY-mst-weight=+1:R</td><td> --- </td><td> --- </td><td>none</td><td>cDRKc</td><td> 10 </td><td>0.47</td><td>99%</td><td>65%</td><td>0.66</td></tr><tr><td>14</td><td>POC-English-NoAmb</td><td>MST-fixed-manually</td><td>LW</td><td> . </td><td>none</td><td>cDRKd</td><td> 11 </td><td>0.45</td><td>0%</td><td>0%</td><td>0.00</td></tr><tr><td>15</td><td>POC-English-NoAmb</td><td>MST-fixed-manually</td><td> --- </td><td> --- </td><td>none</td><td>cDRKd</td><td> 9 </td><td>0.51</td><td>46%</td><td>39%</td><td>0.41</td></tr><tr><td>16</td><td>POC-English-NoAmb</td><td>LG-English</td><td>LW</td><td> . </td><td>none</td><td>cDRKd</td><td> 13 </td><td>0.52</td><td>0%</td><td>0%</td><td>0.00</td></tr><tr><td>17</td><td>POC-English-NoAmb</td><td>LG-English</td><td> --- </td><td> --- </td><td>none</td><td>cDRKd</td><td> 11 </td><td>0.58</td><td>46%</td><td>39%</td><td>0.41</td></tr><tr><td>18</td><td>POC-English-NoAmb</td><td>R=6-Weight=6:R-mst-weight=+1:R</td><td>LW</td><td> . </td><td>none</td><td>cDRKd</td><td> 10 </td><td>0.44</td><td>93%</td><td>56%</td><td>0.60</td></tr><tr><td>19</td><td>POC-English-NoAmb</td><td>R=6-Weight=6:R-mst-weight=+1:R</td><td> --- </td><td> --- </td><td>none</td><td>cDRKd</td><td> 9 </td><td>0.49</td><td>100%</td><td>66%</td><td>0.66</td></tr><tr><td>20</td><td>POC-English-NoAmb</td><td>R=6-Weight=1-mst-weight=+1:R</td><td>LW</td><td> . </td><td>none</td><td>cDRKd</td><td> 16 </td><td>0.14</td><td>78%</td><td>44%</td><td>0.46</td></tr><tr><td>21</td><td>POC-English-NoAmb</td><td>R=6-Weight=1-mst-weight=+1:R</td><td> --- </td><td> --- </td><td>none</td><td>cDRKd</td><td> 17 </td><td>0.15</td><td>0%</td><td>0%</td><td>0.00</td></tr><tr><td>22</td><td>POC-English-NoAmb</td><td>LG-ANY-mst-weight=+1:R</td><td>LW</td><td> . </td><td>none</td><td>cDRKd</td><td> 11 </td><td>0.44</td><td>0%</td><td>0%</td><td>0.00</td></tr><tr><td>23</td><td>POC-English-NoAmb</td><td>LG-ANY-mst-weight=+1:R</td><td> --- </td><td> --- </td><td>none</td><td>cDRKd</td><td> 10 </td><td>0.47</td><td>98%</td><td>60%</td><td>0.61</td></tr><tr><td>14</td><td>POC-English-NoAmb</td><td>MST-fixed-manually</td><td>LW</td><td> . </td><td>none</td><td>dDRKd</td><td> 12 </td><td>0.52</td><td>0%</td><td>0%</td><td>0.00</td></tr><tr><td>15</td><td>POC-English-NoAmb</td><td>MST-fixed-manually</td><td> --- </td><td> --- </td><td>none</td><td>dDRKd</td><td> 10 </td><td>0.53</td><td>62%</td><td>56%</td><td>0.57</td></tr><tr><td>16</td><td>POC-English-NoAmb</td><td>LG-English</td><td>LW</td><td> . </td><td>none</td><td>dDRKd</td><td> 12 </td><td>0.5</td><td>32%</td><td>18%</td><td>0.28</td></tr><tr><td>17</td><td>POC-English-NoAmb</td><td>LG-English</td><td> --- </td><td> --- </td><td>none</td><td>dDRKd</td><td> 11 </td><td>0.51</td><td>0%</td><td>0%</td><td>0.00</td></tr><tr><td>18</td><td>POC-English-NoAmb</td><td>R=6-Weight=6:R-mst-weight=+1:R</td><td>LW</td><td> . </td><td>none</td><td>dDRKd</td><td> 11 </td><td>0.38</td><td>100%</td><td>68%</td><td>0.68</td></tr><tr><td>19</td><td>POC-English-NoAmb</td><td>R=6-Weight=6:R-mst-weight=+1:R</td><td> --- </td><td> --- </td><td>none</td><td>dDRKd</td><td> 10 </td><td>0.41</td><td>100%</td><td>68%</td><td>0.68</td></tr><tr><td>20</td><td>POC-English-NoAmb</td><td>R=6-Weight=1-mst-weight=+1:R</td><td>LW</td><td> . </td><td>none</td><td>dDRKd</td><td> 18 </td><td>0.47</td><td>0%</td><td>0%</td><td>0.00</td></tr><tr><td>21</td><td>POC-English-NoAmb</td><td>R=6-Weight=1-mst-weight=+1:R</td><td> --- </td><td> --- </td><td>none</td><td>dDRKd</td><td> 8 </td><td>0.36</td><td>89%</td><td>57%</td><td>0.58</td></tr><tr><td>22</td><td>POC-English-NoAmb</td><td>LG-ANY-mst-weight=+1:R</td><td>LW</td><td> . </td><td>none</td><td>dDRKd</td><td> 12 </td><td>0.37</td><td>97%</td><td>62%</td><td>0.64</td></tr><tr><td>23</td><td>POC-English-NoAmb</td><td>LG-ANY-mst-weight=+1:R</td><td> --- </td><td> --- </td><td>none</td><td>dDRKd</td><td> 12 </td><td>0.41</td><td>0%</td><td>0%</td><td>0.00</td></tr><tr><td>14</td><td>POC-English-NoAmb</td><td>MST-fixed-manually</td><td>LW</td><td> . </td><td>none</td><td>dILEd</td><td> 15 </td><td> --- </td><td>0%</td><td>0%</td><td>0.00</td></tr><tr><td>15</td><td>POC-English-NoAmb</td><td>MST-fixed-manually</td><td> --- </td><td> --- </td><td>none</td><td>dILEd</td><td> 13 </td><td> --- </td><td>46%</td><td>39%</td><td>0.41</td></tr><tr><td>16</td><td>POC-English-NoAmb</td><td>LG-English</td><td>LW</td><td> . </td><td>none</td><td>dILEd</td><td> 15 </td><td> --- </td><td>0%</td><td>0%</td><td>0.00</td></tr><tr><td>17</td><td>POC-English-NoAmb</td><td>LG-English</td><td> --- </td><td> --- </td><td>none</td><td>dILEd</td><td> 13 </td><td> --- </td><td>46%</td><td>39%</td><td>0.41</td></tr><tr><td>18</td><td>POC-English-NoAmb</td><td>R=6-Weight=6:R-mst-weight=+1:R</td><td>LW</td><td> . </td><td>none</td><td>dILEd</td><td> 16 </td><td> --- </td><td>93%</td><td>58%</td><td>0.62</td></tr><tr><td>19</td><td>POC-English-NoAmb</td><td>R=6-Weight=6:R-mst-weight=+1:R</td><td> --- </td><td> --- </td><td>none</td><td>dILEd</td><td> 14 </td><td> --- </td><td>100%</td><td>68%</td><td>0.68</td></tr><tr><td>20</td><td>POC-English-NoAmb</td><td>R=6-Weight=1-mst-weight=+1:R</td><td>LW</td><td> . </td><td>none</td><td>dILEd</td><td> 44 </td><td> --- </td><td>63%</td><td>39%</td><td>0.41</td></tr><tr><td>21</td><td>POC-English-NoAmb</td><td>R=6-Weight=1-mst-weight=+1:R</td><td> --- </td><td> --- </td><td>none</td><td>dILEd</td><td> 42 </td><td> --- </td><td>72%</td><td>50%</td><td>0.53</td></tr><tr><td>22</td><td>POC-English-NoAmb</td><td>LG-ANY-mst-weight=+1:R</td><td>LW</td><td> . </td><td>none</td><td>dILEd</td><td> 16 </td><td> --- </td><td>94%</td><td>58%</td><td>0.62</td></tr><tr><td>23</td><td>POC-English-NoAmb</td><td>LG-ANY-mst-weight=+1:R</td><td> --- </td><td> --- </td><td>none</td><td>dILEd</td><td> 14 </td><td> --- </td><td>97%</td><td>62%</td><td>0.64</td></tr></table>"
      ],
      "text/plain": [
       "<IPython.core.display.HTML object>"
      ]
     },
     "metadata": {},
     "output_type": "display_data"
    }
   ],
   "source": [
    "display(html_table([header]+long_table))"
   ]
  },
  {
   "cell_type": "code",
   "execution_count": 12,
   "metadata": {
    "ExecuteTime": {
     "end_time": "2018-10-19T10:59:49.368263Z",
     "start_time": "2018-10-19T10:59:49.303704Z"
    }
   },
   "outputs": [
    {
     "name": "stdout",
     "output_type": "stream",
     "text": [
      "2018-10-19 10:59:49 UTC :: finished, elapsed 1.3 min\n",
      "Results saved to /home/obaskov/py/language-learning/output/POC-English-NoAmb-2018-10-19/short_table.txt\n"
     ]
    }
   ],
   "source": [
    "print(UTC(), ':: finished, elapsed', str(round((time.time()-start)/60, 1)), 'min')\n",
    "table_str = list2file(table, out_dir+'/short_table.txt')\n",
    "if runs == (1,1):\n",
    "    print('Results saved to', out_dir + '/short_table.txt')\n",
    "else:\n",
    "    long_table_str = list2file(long_table, out_dir+'/long_table.txt')\n",
    "    print('Average results saved to', out_dir + '/short_table.txt\\n'\n",
    "          'Detailed results for every run saved to', out_dir + '/long_table.txt')"
   ]
  },
  {
   "cell_type": "code",
   "execution_count": null,
   "metadata": {},
   "outputs": [],
   "source": []
  }
 ],
 "metadata": {
  "kernelspec": {
   "display_name": "Python [default]",
   "language": "python",
   "name": "python3"
  },
  "language_info": {
   "codemirror_mode": {
    "name": "ipython",
    "version": 3
   },
   "file_extension": ".py",
   "mimetype": "text/x-python",
   "name": "python",
   "nbconvert_exporter": "python",
   "pygments_lexer": "ipython3",
   "version": "3.6.6"
  },
  "toc": {
   "base_numbering": 1,
   "nav_menu": {},
   "number_sections": true,
   "sideBar": true,
   "skip_h1_title": false,
   "title_cell": "Table of Contents",
   "title_sidebar": "Contents",
   "toc_cell": false,
   "toc_position": {},
   "toc_section_display": true,
   "toc_window_display": false
  }
 },
 "nbformat": 4,
 "nbformat_minor": 2
}
