{
 "cells": [
  {
   "cell_type": "markdown",
   "metadata": {},
   "source": [
    "# Grammar Learner -- batch cruncher 0.1 | 2018-03-31\n",
    "1st test of Grammar Learner part of ULL pipeline in auto batch mode  \n",
    "\n",
    "Input data -- [http://88.99.210.144/data/clustering_2018/data/](http://88.99.210.144/data/clustering_2018/data/)  \n",
    "Output data:\n",
    "- [http://88.99.210.144/data/clustering_2018/POC-English-2018-03-31/](http://88.99.210.144/data/clustering_2018/POC-English-2018-03-31/)  \n",
    "- [http://88.99.210.144/data/clustering_2018/POC-Turtle-2018-03-31/](http://88.99.210.144/data/clustering_2018/POC-Turtle-2018-03-31/)  \n",
    "\n",
    "A static html copy of this notebook is shared via [http://88.99.210.144/data/clustering_2018/html/Grammar-Learner-2018-03-31.html](http://88.99.210.144/data/clustering_2018/html/Grammar-Learner-2018-03-31.html)\n",
    "\n",
    "This is a continuation of proof-of-concept (POC) experiments in unsupervised language learning (ULL), the OpenCog project hosted on GitHub. The previous results for the simple artificial [\"Turtle language\" corpus](http://88.99.210.144/data/clustering_2018/data/POC_Turtle/poc-turtle-corpus.txt) are shared as [static html pages](http://88.99.210.144/data/clustering_2018/html/):\n",
    "- [POC-Turtle-4-Grammar-Learning](http://88.99.210.144/data/clustering_2018/html/POC-Turtle-4-Grammar-Learning.html)  \n",
    "- [POC-Turtle-5-Lexical-Entries](http://88.99.210.144/data/clustering_2018/html/POC-Turtle-5-Lexical-Entries.html)\n",
    "- [POC-Turtle-6-Tests](http://88.99.210.144/data/clustering_2018/html/POC-Turtle-6-Tests.html)  \n",
    "\n",
    "This phase is tested on a simplified [\"POC-English-NoAmb\"](http://88.99.210.144/data/clustering_2018/data/POC_English_NoAmb/poc_english_noamb_corpus.txt) corpus -- a minimal controlled corpus without word ambiquities (\"NoAmb\")."
   ]
  },
  {
   "cell_type": "code",
   "execution_count": 1,
   "metadata": {},
   "outputs": [
    {
     "name": "stdout",
     "output_type": "stream",
     "text": [
      "2018-03-31 20:11:35 UTC\n"
     ]
    }
   ],
   "source": [
    "import os, sys, time\n",
    "import matplotlib.pyplot as plt\n",
    "%matplotlib inline\n",
    "from IPython.display import display\n",
    "module_path = os.path.abspath(os.path.join('..'))\n",
    "if module_path not in sys.path: sys.path.append(module_path)\n",
    "from src.utl.utl import UTC\n",
    "from src.utl.read_files import check_dir\n",
    "print(UTC())\n",
    "prefix = '' # option: every project output file will start with thid prefix (legacy, unused)\n",
    "tmpath = module_path + '/tmp/'\n",
    "check_dir(tmpath, True, 'none')\n",
    "from src.grammar_learner.poc import learn_grammar   # Grammar Learner"
   ]
  },
  {
   "cell_type": "markdown",
   "metadata": {},
   "source": [
    "Grammar Learner specification in [Unsupervised Language Learning (ULL) Design (DRAFT)](https://docs.google.com/document/d/14MpKLH5_5eVI39PRZuWLZHa1aUS73pJZNZzgigCWwWg/edit#bookmark=id.rtsrh3l8jgj3):\n",
    "- Input\n",
    "  - Directory to read parse files (1 to many input files)\n",
    "  - Path to store learned categories\n",
    "  - Path to store learned dictionary Link Grammar file\n",
    "- Settings\n",
    "  - Parse_mode, as one of the following\n",
    "    - given - use all links as given (default)\n",
    "    - exploded - explode all possible combinations of links given the sentence\n",
    "  - learn_mode, as one of the following \n",
    "    - lexical_entries (default)\n",
    "    - connectors_only\n",
    "    - connectors_and_disjuncts (will have to see if it is possible - TODO)\n",
    "  - TODO - else?\n",
    "- Output\n",
    "  - File with learned categories\n",
    "  - File with learned grammar"
   ]
  },
  {
   "cell_type": "markdown",
   "metadata": {},
   "source": [
    "**Settings, parameters, data**"
   ]
  },
  {
   "cell_type": "code",
   "execution_count": 2,
   "metadata": {},
   "outputs": [],
   "source": [
    "# Directory to read parse files (1 to many input files)\n",
    "input_dir = module_path + '/data/poc_english_noamb_parse_ideal/'\n",
    "\n",
    "# Paths to store learned categories, learned dictionary Link Grammar file\n",
    "batch_dir = module_path + '/output/POC-English-2018-03-31/'\n",
    "prj_dir = batch_dir + 'poc_english_noamb_parse_ideal_Lex_Entries/'  # project directory \n",
    "if check_dir(prj_dir, create=True, verbose='min'):\n",
    "    cat_path = prj_dir  # Path to store learned categories\n",
    "    dict_path = prj_dir # Path to store learned dictionary Link Grammar file\n",
    "\n",
    "# Settings:\n",
    "parse_mode = 'given'            # 'given' (default), 'explosive' (ToDo?)\n",
    "learn_mode = 'lexical_entries'  # 'lexical_entries' (default) -- part 2\n",
    "                                # 'connectors_only' -- part 3\n",
    "                                # 'connectors_and_disjuncts' -- TODO...\n",
    "verbose='max'   # display intermediate results: 'none', 'min', 'mid', 'max'"
   ]
  },
  {
   "cell_type": "markdown",
   "metadata": {},
   "source": [
    "# Learning grammar rules based on Lexical Entries "
   ]
  },
  {
   "cell_type": "code",
   "execution_count": 3,
   "metadata": {},
   "outputs": [
    {
     "name": "stdout",
     "output_type": "stream",
     "text": [
      "Directory /home/oleg/language-learning/output/POC-English-2018-03-31/poc_english_noamb_parse_ideal_Lex_Entries/ exists.\n",
      "Directory /home/oleg/language-learning/data/poc_english_noamb_parse_ideal/ exists.\n",
      "Directory /home/oleg/language-learning/data/poc_english_noamb_parse_ideal/ exists.\n",
      "poc_english_noamb_parse_ideal.txt\n",
      "['/home/oleg/language-learning/data/poc_english_noamb_parse_ideal/poc_english_noamb_parse_ideal.txt']\n",
      "Input file: /home/oleg/language-learning/data/poc_english_noamb_parse_ideal/poc_english_noamb_parse_ideal.txt\n",
      "File #0 /home/oleg/language-learning/data/poc_english_noamb_parse_ideal/poc_english_noamb_parse_ideal.txt checked\n",
      "File # 0: /home/oleg/language-learning/data/poc_english_noamb_parse_ideal/poc_english_noamb_parse_ideal.txt\n",
      "70 unique disjuncts form 97 unique word-disjunct pairs from 97 parsed items\n"
     ]
    },
    {
     "data": {
      "text/html": [
       "<table><tr><td>Parent</td><td>Category</td><td>Quality</td><td>Words</td><td>Relevance</td></tr><tr><td>C00</td><td>C01</td><td>1.0</td><td>['.']</td><td>[1.0]</td></tr><tr><td>C00</td><td>C02</td><td>1.0</td><td>['LEFT-WALL']</td><td>[1.0]</td></tr><tr><td>C00</td><td>C03</td><td>1.0</td><td>['a']</td><td>[1.0]</td></tr><tr><td>C00</td><td>C04</td><td>1.0</td><td>['before']</td><td>[1.0]</td></tr><tr><td>C00</td><td>C05</td><td>1.0</td><td>['cake']</td><td>[1.0]</td></tr><tr><td>C00</td><td>C06</td><td>1.0</td><td>['child', 'human']</td><td>[1.0, 1.0]</td></tr><tr><td>C00</td><td>C07</td><td>1.0</td><td>['dad', 'mom']</td><td>[1.0, 1.0]</td></tr><tr><td>C00</td><td>C08</td><td>1.0</td><td>['daughter', 'son']</td><td>[1.0, 1.0]</td></tr><tr><td>C00</td><td>C09</td><td>1.0</td><td>['food']</td><td>[1.0]</td></tr><tr><td>C00</td><td>C10</td><td>1.0</td><td>['is']</td><td>[1.0]</td></tr><tr><td>C00</td><td>C11</td><td>1.0</td><td>['liked']</td><td>[1.0]</td></tr><tr><td>C00</td><td>C12</td><td>1.0</td><td>['likes']</td><td>[1.0]</td></tr><tr><td>C00</td><td>C13</td><td>1.0</td><td>['not']</td><td>[1.0]</td></tr><tr><td>C00</td><td>C14</td><td>1.0</td><td>['now']</td><td>[1.0]</td></tr><tr><td>C00</td><td>C15</td><td>1.0</td><td>['parent']</td><td>[1.0]</td></tr><tr><td>C00</td><td>C16</td><td>1.0</td><td>['sausage']</td><td>[1.0]</td></tr><tr><td>C00</td><td>C17</td><td>1.0</td><td>['was']</td><td>[1.0]</td></tr></table>"
      ],
      "text/plain": [
       "<IPython.core.display.HTML object>"
      ]
     },
     "metadata": {},
     "output_type": "display_data"
    },
    {
     "name": "stdout",
     "output_type": "stream",
     "text": [
      "C00\tC01\t1.0\t.\t1.0\n",
      "C00\tC02\t1.0\tLEFT-WALL\t1.0\n",
      "C00\tC03\t1.0\ta\t1.0\n",
      "<...>\n",
      "Total 17 lines, saved to /home/oleg/language-learning/output/POC-English-2018-03-31/poc_english_noamb_parse_ideal_Lex_Entries/categories.txt\n"
     ]
    },
    {
     "data": {
      "text/html": [
       "<table><tr><td>Cluster</td><td>Germs</td><td>L</td><td>R</td><td>Disjuncts</td></tr><tr><td>C01</td><td>['.']</td><td>[]</td><td>[]</td><td>['C04C01-', 'C05C01-', 'C06C01-', 'C09C01-', 'C14C01-', 'C15C01-', 'C16C01-']</td></tr><tr><td>C02</td><td>['LEFT-WALL']</td><td>[]</td><td>[]</td><td>['C02C03+', 'C02C05+', 'C02C07+', 'C02C07+ & C02C10+', 'C02C08+', 'C02C10+ & C02C07+', 'C02C16+']</td></tr><tr><td>C03</td><td>['a']</td><td>[]</td><td>[]</td><td>['C02C03- & C03C07+', 'C02C03- & C03C08+', 'C10C03- & C03C06+', 'C10C03- & C03C15+', 'C13C03-', 'C17C03-']</td></tr><tr><td>C04</td><td>['before']</td><td>[]</td><td>[]</td><td>['C08C04- & C17C04- & C04C01+', 'C09C04- & C04C01+', 'C11C04- & C04C01+', 'C15C04- & C04C01+']</td></tr><tr><td>C05</td><td>['cake']</td><td>[]</td><td>[]</td><td>['C02C05- & C05C10+', 'C02C05- & C05C17+', 'C11C05-', 'C12C05- & C05C01+', 'C12C05- & C05C14+']</td></tr><tr><td>C06</td><td>['child', 'human']</td><td>[]</td><td>[]</td><td>['C03C06- & C06C01+', 'C03C06- & C06C14+']</td></tr><tr><td>C07</td><td>['dad', 'mom']</td><td>[]</td><td>[]</td><td>['C02C07-', 'C02C07- & C07C11+', 'C02C07- & C07C12+', 'C02C07- & C07C17+', 'C03C07- & C07C10+', 'C03C07- & C07C12+']</td></tr><tr><td>C08</td><td>['daughter', 'son']</td><td>[]</td><td>[]</td><td>['C02C08- & C08C10+', 'C02C08- & C08C12+', 'C03C08- & C08C10+', 'C03C08- & C08C12+', 'C08C04+']</td></tr><tr><td>C09</td><td>['food']</td><td>[]</td><td>[]</td><td>['C10C09- & C09C01+', 'C10C09- & C09C14+', 'C17C09- & C09C04+']</td></tr><tr><td>C10</td><td>['is']</td><td>[]</td><td>[]</td><td>['C02C10- & C10C03+', 'C05C10- & C10C09+', 'C07C10- & C10C03+', 'C08C10- & C10C03+', 'C16C10- & C10C09+']</td></tr><tr><td>C11</td><td>['liked']</td><td>[]</td><td>[]</td><td>['C07C11- & C11C04+ & C11C05+', 'C07C11- & C11C04+ & C11C16+']</td></tr><tr><td>C12</td><td>['likes']</td><td>[]</td><td>[]</td><td>['C07C12- & C12C05+', 'C07C12- & C12C16+', 'C08C12- & C12C05+', 'C08C12- & C12C16+']</td></tr><tr><td>C13</td><td>['not']</td><td>[]</td><td>[]</td><td>['C17C13- & C13C03+ & C13C15+']</td></tr><tr><td>C14</td><td>['now']</td><td>[]</td><td>[]</td><td>['C05C14- & C14C01+', 'C06C14- & C14C01+', 'C09C14- & C14C01+', 'C15C14- & C14C01+', 'C16C14- & C14C01+']</td></tr><tr><td>C15</td><td>['parent']</td><td>[]</td><td>[]</td><td>['C03C15- & C15C01+', 'C03C15- & C15C14+', 'C13C15- & C15C04+']</td></tr><tr><td>C16</td><td>['sausage']</td><td>[]</td><td>[]</td><td>['C02C16- & C16C10+', 'C11C16-', 'C12C16- & C16C01+', 'C12C16- & C16C14+']</td></tr><tr><td>C17</td><td>['was']</td><td>[]</td><td>[]</td><td>['C05C17- & C17C09+', 'C07C17- & C17C03+ & C17C04+', 'C07C17- & C17C13+']</td></tr></table>"
      ],
      "text/plain": [
       "<IPython.core.display.HTML object>"
      ]
     },
     "metadata": {},
     "output_type": "display_data"
    },
    {
     "name": "stdout",
     "output_type": "stream",
     "text": [
      "% POC Turtle Link Grammar v.0.7 2018-03-31 20:11:36 UTC\n",
      "<dictionary-version-number>: V0v0v7+;\n",
      "<dictionary-locale>: EN4us+;\n",
      "\n",
      "% C01\n",
      "\".\":\n",
      "(C04C01-) or (C05C01-) or (C06C01-) or (C09C01-) or (C14C01-) or (C15C01-) or (C16C01-);\n",
      "\n",
      "% C02\n",
      "\"LEFT-WALL\":\n",
      "(C02C03+) or (C02C05+) or (C02C07+) or (C02C07+ & C02C10+) or (C02C08+) or (C02C10+ & C02C07+) or (C02C16+);\n",
      "\n",
      "% C03\n",
      "\"a\":\n",
      "(C02C03- & C03C07+) or (C02C03- & C03C08+) or (C10C03- & C03C06+) or (C10C03- & C03C15+) or (C13C03-) or (C17C03-);\n",
      "\n",
      "% C04\n",
      "\"before\":\n",
      "(C08C04- & C17C04- & C04C01+) or (C09C04- & C04C01+) or (C11C04- & C04C01+) or (C15C04- & C04C01+);\n",
      "\n",
      "% C05\n",
      "\"cake\":\n",
      "(C02C05- & C05C10+) or (C02C05- & C05C17+) or (C11C05-) or (C12C05- & C05C01+) or (C12C05- & C05C14+);\n",
      "\n",
      "% C06\n",
      "\"child\" \"human\":\n",
      "(C03C06- & C06C01+) or (C03C06- & C06C14+);\n",
      "\n",
      "% C07\n",
      "\"dad\" \"mom\":\n",
      "(C02C07-) or (C02C07- & C07C11+) or (C02C07- & C07C12+) or (C02C07- & C07C17+) or (C03C07- & C07C10+) or (C03C07- & C07C12+);\n",
      "\n",
      "% C08\n",
      "\"daughter\" \"son\":\n",
      "(C02C08- & C08C10+) or (C02C08- & C08C12+) or (C03C08- & C08C10+) or (C03C08- & C08C12+) or (C08C04+);\n",
      "\n",
      "% C09\n",
      "\"food\":\n",
      "(C10C09- & C09C01+) or (C10C09- & C09C14+) or (C17C09- & C09C04+);\n",
      "\n",
      "% C10\n",
      "\"is\":\n",
      "(C02C10- & C10C03+) or (C05C10- & C10C09+) or (C07C10- & C10C03+) or (C08C10- & C10C03+) or (C16C10- & C10C09+);\n",
      "\n",
      "% C11\n",
      "\"liked\":\n",
      "(C07C11- & C11C04+ & C11C05+) or (C07C11- & C11C04+ & C11C16+);\n",
      "\n",
      "% C12\n",
      "\"likes\":\n",
      "(C07C12- & C12C05+) or (C07C12- & C12C16+) or (C08C12- & C12C05+) or (C08C12- & C12C16+);\n",
      "\n",
      "% C13\n",
      "\"not\":\n",
      "(C17C13- & C13C03+ & C13C15+);\n",
      "\n",
      "% C14\n",
      "\"now\":\n",
      "(C05C14- & C14C01+) or (C06C14- & C14C01+) or (C09C14- & C14C01+) or (C15C14- & C14C01+) or (C16C14- & C14C01+);\n",
      "\n",
      "% C15\n",
      "\"parent\":\n",
      "(C03C15- & C15C01+) or (C03C15- & C15C14+) or (C13C15- & C15C04+);\n",
      "\n",
      "% C16\n",
      "\"sausage\":\n",
      "(C02C16- & C16C10+) or (C11C16-) or (C12C16- & C16C01+) or (C12C16- & C16C14+);\n",
      "\n",
      "% C17\n",
      "\"was\":\n",
      "(C05C17- & C17C09+) or (C07C17- & C17C03+ & C17C04+) or (C07C17- & C17C13+);\n",
      "\n",
      "UNKNOWN-WORD: XXX+;\n",
      "\n",
      "% 17 word clusters, 17 Link Grammar rules.\n",
      "% Link Grammar file saved to: /home/oleg/language-learning/output/POC-English-2018-03-31/poc_english_noamb_parse_ideal_Lex_Entries/poc-turtle_17C_2018-03-31_0007.4.0.dict\n"
     ]
    }
   ],
   "source": [
    "learn_mode = 'lexical_entries'   # 'lexical_entries' (default) -- part 2, \n",
    "vector_space = 'disjuncts'       # 'disjuncts', 'connectors', 'words'\n",
    "clustering = 'identical_entries' # 'identical_entries', 'kmeans'\n",
    "grammar_rules = 'disjuncts'      # 'disjuncts', 'connectors'\n",
    "\n",
    "# Paths to store learned categories, learned dictionary Link Grammar file\n",
    "prj_dir = batch_dir + 'poc_english_noamb_parse_ideal_Lex_Entries/'  # project directory \n",
    "if check_dir(prj_dir, True, 'max'):\n",
    "    cat_path = prj_dir  # Path to store learned categories\n",
    "    dict_path = prj_dir # Path to store learned dictionary Link Grammar file\n",
    "\n",
    "output = learn_grammar(input_dir, cat_path, dict_path, \\\n",
    "                       verbose, parse_mode, learn_mode)  # short default call"
   ]
  },
  {
   "cell_type": "code",
   "execution_count": 4,
   "metadata": {},
   "outputs": [
    {
     "name": "stdout",
     "output_type": "stream",
     "text": [
      "Word Categories saved to file: /POC-English-2018-03-31/poc_english_noamb_parse_ideal_Lex_Entries/categories.txt \n",
      "Grammar rules saved to file: /POC-English-2018-03-31/poc_english_noamb_parse_ideal_Lex_Entries/poc-turtle_17C_2018-03-31_0007.4.0.dict\n"
     ]
    }
   ],
   "source": [
    "print('Word Categories saved to file:', output['categories_file'][output['categories_file'].find('/POC'):], \\\n",
    "      '\\nGrammar rules saved to file:', output['grammar_file'][output['grammar_file'].find('/POC'):])"
   ]
  },
  {
   "cell_type": "markdown",
   "metadata": {},
   "source": [
    "# Learning grammar clustering words"
   ]
  },
  {
   "cell_type": "code",
   "execution_count": 5,
   "metadata": {},
   "outputs": [
    {
     "name": "stdout",
     "output_type": "stream",
     "text": [
      "Directory /home/oleg/language-learning/output/POC-English-2018-03-31/poc_english_noamb_parse_ideal_Connectors/ exists.\n",
      "Singular values (16): 8.3, 7.4, 6.5, 5.7, 5.4, 5.2, 4.8, 4.4, 3.9, 3.4, 3.3, 3.0, 2.5, 2.5, 2.3, 1.3\n"
     ]
    },
    {
     "data": {
      "image/png": "[encoded data removed]",
      "text/plain": [
       "<matplotlib.figure.Figure at 0x7eff02f75208>"
      ]
     },
     "metadata": {},
     "output_type": "display_data"
    },
    {
     "name": "stdout",
     "output_type": "stream",
     "text": [
      "Vector space dimensionality = 16\n",
      "Singular value (16) = 1.3\n",
      "Max singular value (1) = 8.3\n",
      "All singular values within relevance interval - more than 0.1 of max singular value\n",
      "Silhouette index in a range of cluster numbers\n"
     ]
    },
    {
     "data": {
      "image/png": "[encoded data removed]",
      "text/plain": [
       "<matplotlib.figure.Figure at 0x7efec1e2d3c8>"
      ]
     },
     "metadata": {},
     "output_type": "display_data"
    },
    {
     "data": {
      "text/html": [
       "<table><tr><td>N</td><td>NR</td><td>Silhouette</td><td>Inertia</td><td>Cluster words</td></tr><tr><td>2</td><td>2</td><td>0.073</td><td>15.791</td><td>. LEFT-WALL a is liked likes not was || before cake child dad daughter food human mom now parent sausage son</td></tr><tr><td>3</td><td>3</td><td>0.105</td><td>14.043</td><td>. before is liked likes now was || LEFT-WALL cake child food human parent sausage || a dad daughter mom not son</td></tr><tr><td>4</td><td>4</td><td>0.161</td><td>12.184</td><td>. is liked likes now was || dad daughter mom son || LEFT-WALL before cake sausage || a child food human not parent</td></tr><tr><td>5</td><td>5</td><td>0.202</td><td>10.67</td><td>. LEFT-WALL is likes now was || a food liked not || dad daughter mom son || before cake sausage || child human parent</td></tr><tr><td>6</td><td>6</td><td>0.269</td><td>8.867</td><td>is liked likes was || dad daughter mom son || child food human parent || cake sausage || . before now || LEFT-WALL a not</td></tr><tr><td>7</td><td>7</td><td>0.397</td><td>7.435</td><td>LEFT-WALL is liked likes was || daughter son || dad mom || cake sausage || . before now || child human parent || a food not</td></tr><tr><td>8</td><td>8</td><td>0.401</td><td>6.336</td><td>is was || LEFT-WALL liked likes || daughter son || dad mom || cake sausage || . before now || child human parent || a food not</td></tr><tr><td>9</td><td>9</td><td>0.409</td><td>5.28</td><td>liked likes || is was || daughter son || dad mom || cake sausage || . before now || child human parent || food not || LEFT-WALL a</td></tr><tr><td>10</td><td>10</td><td>0.409</td><td>4.376</td><td>liked likes || is was || daughter son || before || dad mom || cake sausage || child human parent || . now || food not || LEFT-WALL a</td></tr><tr><td>11</td><td>11</td><td>0.442</td><td>3.447</td><td>liked likes || is was || daughter son || food parent || before || dad mom || cake sausage || . now || child human || LEFT-WALL a || not</td></tr><tr><td>12</td><td>12</td><td>0.438</td><td>2.654</td><td>liked likes || is was || daughter son || food parent || before || LEFT-WALL || dad mom || cake sausage || . now || child human || not || a</td></tr><tr><td>13</td><td>13</td><td>0.442</td><td>1.843</td><td>liked likes || is was || daughter son || parent || food || before || LEFT-WALL || dad mom || cake sausage || . now || child human || not || a</td></tr><tr><td>14</td><td>14</td><td>0.428</td><td>1.147</td><td>liked likes || was || is || daughter son || parent || food || before || LEFT-WALL || dad mom || cake sausage || . now || child human || not || a</td></tr><tr><td>15</td><td>15</td><td>0.414</td><td>0.522</td><td>liked likes || was || is || daughter son || parent || food || before || LEFT-WALL || dad mom || cake sausage || now || child human || . || not || a</td></tr></table>"
      ],
      "text/plain": [
       "<IPython.core.display.HTML object>"
      ]
     },
     "metadata": {},
     "output_type": "display_data"
    },
    {
     "name": "stdout",
     "output_type": "stream",
     "text": [
      "Threshold at 0.9 max = 0.398\n",
      "Optimal number of clusters: 8\n",
      "Cluster words in vector space, axes 1 and 2\n",
      "Cluster similarities: absolute values > 0.1:\n",
      "C00\tC01\t0.0\tis was\t0 0\n",
      "C00\tC02\t0.0\tLEFT-WALL liked likes\t0 0 0\n",
      "C00\tC03\t0.0\tdaughter son\t0 0\n",
      "C00\tC04\t0.0\tdad mom\t0 0\n",
      "C00\tC05\t0.0\tcake sausage\t0 0\n",
      "C00\tC06\t0.0\t. before now\t0 0 0\n",
      "C00\tC07\t0.0\tchild human parent\t0 0 0\n",
      "C00\tC08\t0.0\ta food not\t0 0 0\n",
      "<...>\n",
      "Total 8 lines, saved to /home/oleg/language-learning/output/POC-English-2018-03-31/poc_english_noamb_parse_ideal_Connectors/categories.txt\n"
     ]
    },
    {
     "data": {
      "text/html": [
       "<table><tr><td>Cluster</td><td>Germs</td><td>L</td><td>R</td><td>Disjuncts</td></tr><tr><td>C01</td><td>['is', 'was']</td><td>[]</td><td>[]</td><td>['{C01C02- or C01C03- or C01C03- or C01C05- or C01C04- or C01C04- or C01C05-} & {C01C08+ or C01C08+}', '{C01C04- or C01C04- or C01C05- or C01C05-} & {C01C08+ or C01C06+ or C01C08+ or C01C08+}']</td></tr><tr><td>C02</td><td>['LEFT-WALL', 'liked', 'likes']</td><td>[]</td><td>[]</td><td>['C02C08+ or C02C04+ or C02C04+ or C02C01+ or C02C05+ or C02C03+ or C02C05+ or C02C03+', '{C02C04- or C02C04-} & {C02C06+ or C02C05+ or C02C05+}', '{C02C04- or C02C03- or C02C04- or C02C03-} & {C02C05+ or C02C05+}']</td></tr><tr><td>C03</td><td>['daughter', 'son']</td><td>[]</td><td>[]</td><td>['{C03C02- or C03C08-} & {C03C01+ or C03C02+ or C03C06+}', '{C03C02- or C03C08-} & {C03C01+ or C03C02+ or C03C06+}']</td></tr><tr><td>C04</td><td>['dad', 'mom']</td><td>[]</td><td>[]</td><td>['{C04C02- or C04C08-} & {C04C01+ or C04C02+ or C04C01+ or C04C02+}', '{C04C02- or C04C08-} & {C04C01+ or C04C02+ or C04C01+ or C04C02+}']</td></tr><tr><td>C05</td><td>['cake', 'sausage']</td><td>[]</td><td>[]</td><td>['{C05C02- or C05C02- or C05C02-} & {C05C06+ or C05C01+ or C05C06+ or C05C01+}', '{C05C02- or C05C02- or C05C02-} & {C05C06+ or C05C01+ or C05C06+ or C05C01+}']</td></tr><tr><td>C06</td><td>['.', 'before', 'now']</td><td>[]</td><td>[]</td><td>['C06C06- or C06C06- or C06C07- or C06C05- or C06C07- or C06C08- or C06C07- or C06C05-', '{C06C08- or C06C02- or C06C07- or C06C01- or C06C03- or C06C03-} & {C06C06+}', '{C06C07- or C06C05- or C06C07- or C06C08- or C06C07- or C06C05-} & {C06C06+}']</td></tr><tr><td>C07</td><td>['child', 'human', 'parent']</td><td>[]</td><td>[]</td><td>['{C07C08-} & {C07C06+ or C07C06+}', '{C07C08-} & {C07C06+ or C07C06+}', '{C07C08- or C07C08-} & {C07C06+ or C07C06+ or C07C06+}']</td></tr><tr><td>C08</td><td>['a', 'food', 'not']</td><td>[]</td><td>[]</td><td>['{C08C01- or C08C02- or C08C08- or C08C01-} & {C08C07+ or C08C07+ or C08C07+ or C08C04+ or C08C03+ or C08C04+ or C08C03+}', '{C08C01- or C08C01-} & {C08C06+ or C08C06+ or C08C06+}', '{C08C01-} & {C08C08+ or C08C07+}']</td></tr></table>"
      ],
      "text/plain": [
       "<IPython.core.display.HTML object>"
      ]
     },
     "metadata": {},
     "output_type": "display_data"
    },
    {
     "data": {
      "text/html": [
       "<table><tr><td>Cluster</td><td>Germs</td><td>L</td><td>R</td><td>Disjuncts</td></tr><tr><td>C01</td><td>['is', 'was']</td><td>[]</td><td>[]</td><td>['{C01C02- or C01C03- or C01C03- or C01C05- or C01C04- or C01C04- or C01C05-} & {C01C08+ or C01C08+}', '{C01C04- or C01C04- or C01C05- or C01C05-} & {C01C08+ or C01C06+ or C01C08+ or C01C08+}']</td></tr><tr><td>C02</td><td>['LEFT-WALL', 'liked', 'likes']</td><td>[]</td><td>[]</td><td>['C02C08+ or C02C04+ or C02C04+ or C02C01+ or C02C05+ or C02C03+ or C02C05+ or C02C03+', '{C02C04- or C02C04-} & {C02C06+ or C02C05+ or C02C05+}', '{C02C04- or C02C03- or C02C04- or C02C03-} & {C02C05+ or C02C05+}']</td></tr><tr><td>C03</td><td>['daughter', 'son']</td><td>[]</td><td>[]</td><td>['{C03C02- or C03C08-} & {C03C01+ or C03C02+ or C03C06+}', '{C03C02- or C03C08-} & {C03C01+ or C03C02+ or C03C06+}']</td></tr><tr><td>C04</td><td>['dad', 'mom']</td><td>[]</td><td>[]</td><td>['{C04C02- or C04C08-} & {C04C01+ or C04C02+ or C04C01+ or C04C02+}', '{C04C02- or C04C08-} & {C04C01+ or C04C02+ or C04C01+ or C04C02+}']</td></tr><tr><td>C05</td><td>['cake', 'sausage']</td><td>[]</td><td>[]</td><td>['{C05C02- or C05C02- or C05C02-} & {C05C06+ or C05C01+ or C05C06+ or C05C01+}', '{C05C02- or C05C02- or C05C02-} & {C05C06+ or C05C01+ or C05C06+ or C05C01+}']</td></tr><tr><td>C06</td><td>['.', 'before', 'now']</td><td>[]</td><td>[]</td><td>['C06C06- or C06C06- or C06C07- or C06C05- or C06C07- or C06C08- or C06C07- or C06C05-', '{C06C08- or C06C02- or C06C07- or C06C01- or C06C03- or C06C03-} & {C06C06+}', '{C06C07- or C06C05- or C06C07- or C06C08- or C06C07- or C06C05-} & {C06C06+}']</td></tr><tr><td>C07</td><td>['child', 'human', 'parent']</td><td>[]</td><td>[]</td><td>['{C07C08-} & {C07C06+ or C07C06+}', '{C07C08-} & {C07C06+ or C07C06+}', '{C07C08- or C07C08-} & {C07C06+ or C07C06+ or C07C06+}']</td></tr><tr><td>C08</td><td>['a', 'food', 'not']</td><td>[]</td><td>[]</td><td>['{C08C01- or C08C02- or C08C08- or C08C01-} & {C08C07+ or C08C07+ or C08C07+ or C08C04+ or C08C03+ or C08C04+ or C08C03+}', '{C08C01- or C08C01-} & {C08C06+ or C08C06+ or C08C06+}', '{C08C01-} & {C08C08+ or C08C07+}']</td></tr></table>"
      ],
      "text/plain": [
       "<IPython.core.display.HTML object>"
      ]
     },
     "metadata": {},
     "output_type": "display_data"
    },
    {
     "name": "stdout",
     "output_type": "stream",
     "text": [
      "% POC English Link Grammar v.0.7 2018-03-31 20:11:37 UTC\n",
      "<dictionary-version-number>: V0v0v7+;\n",
      "<dictionary-locale>: EN4us+;\n",
      "\n",
      "% C01\n",
      "\"is\" \"was\":\n",
      "({C01C02- or C01C03- or C01C03- or C01C05- or C01C04- or C01C04- or C01C05-} & {C01C08+ or C01C08+}) or ({C01C04- or C01C04- or C01C05- or C01C05-} & {C01C08+ or C01C06+ or C01C08+ or C01C08+});\n",
      "\n",
      "% C02\n",
      "\"LEFT-WALL\" \"liked\" \"likes\":\n",
      "(C02C08+ or C02C04+ or C02C04+ or C02C01+ or C02C05+ or C02C03+ or C02C05+ or C02C03+) or ({C02C04- or C02C04-} & {C02C06+ or C02C05+ or C02C05+}) or ({C02C04- or C02C03- or C02C04- or C02C03-} & {C02C05+ or C02C05+});\n",
      "\n",
      "% C03\n",
      "\"daughter\" \"son\":\n",
      "({C03C02- or C03C08-} & {C03C01+ or C03C02+ or C03C06+}) or ({C03C02- or C03C08-} & {C03C01+ or C03C02+ or C03C06+});\n",
      "\n",
      "% C04\n",
      "\"dad\" \"mom\":\n",
      "({C04C02- or C04C08-} & {C04C01+ or C04C02+ or C04C01+ or C04C02+}) or ({C04C02- or C04C08-} & {C04C01+ or C04C02+ or C04C01+ or C04C02+});\n",
      "\n",
      "% C05\n",
      "\"cake\" \"sausage\":\n",
      "({C05C02- or C05C02- or C05C02-} & {C05C06+ or C05C01+ or C05C06+ or C05C01+}) or ({C05C02- or C05C02- or C05C02-} & {C05C06+ or C05C01+ or C05C06+ or C05C01+});\n",
      "\n",
      "% C06\n",
      "\".\" \"before\" \"now\":\n",
      "(C06C06- or C06C06- or C06C07- or C06C05- or C06C07- or C06C08- or C06C07- or C06C05-) or ({C06C08- or C06C02- or C06C07- or C06C01- or C06C03- or C06C03-} & {C06C06+}) or ({C06C07- or C06C05- or C06C07- or C06C08- or C06C07- or C06C05-} & {C06C06+});\n",
      "\n",
      "% C07\n",
      "\"child\" \"human\" \"parent\":\n",
      "({C07C08-} & {C07C06+ or C07C06+}) or ({C07C08-} & {C07C06+ or C07C06+}) or ({C07C08- or C07C08-} & {C07C06+ or C07C06+ or C07C06+});\n",
      "\n",
      "% C08\n",
      "\"a\" \"food\" \"not\":\n",
      "({C08C01- or C08C02- or C08C08- or C08C01-} & {C08C07+ or C08C07+ or C08C07+ or C08C04+ or C08C03+ or C08C04+ or C08C03+}) or ({C08C01- or C08C01-} & {C08C06+ or C08C06+ or C08C06+}) or ({C08C01-} & {C08C08+ or C08C07+});\n",
      "\n",
      "UNKNOWN-WORD: XXX+;\n",
      "\n",
      "% 8 word clusters, 8 Link Grammar rules.\n",
      "% Link Grammar file saved to: /home/oleg/language-learning/output/POC-English-2018-03-31/poc_english_noamb_parse_ideal_Connectors/poc-turtle_8C_2018-03-31_0007.4.0.dict\n"
     ]
    },
    {
     "data": {
      "text/plain": [
       "{'categories_file': '/home/oleg/language-learning/output/POC-English-2018-03-31/poc_english_noamb_parse_ideal_Connectors/categories.txt',\n",
       " 'grammar_file': '/home/oleg/language-learning/output/POC-English-2018-03-31/poc_english_noamb_parse_ideal_Connectors/poc-turtle_8C_2018-03-31_0007.4.0.dict'}"
      ]
     },
     "execution_count": 5,
     "metadata": {},
     "output_type": "execute_result"
    },
    {
     "data": {
      "image/png": "[encoded data removed]",
      "text/plain": [
       "<matplotlib.figure.Figure at 0x7efeca3d56a0>"
      ]
     },
     "metadata": {},
     "output_type": "display_data"
    }
   ],
   "source": [
    "learn_mode = 'connectors_only'\n",
    "vector_space = 'connectors'     # ALT: 'disjuncts' (part 2), 'words' (ToDo?)\n",
    "clustering = 'kmeans'           # ALT: 'lexical_entries' (part 2)\n",
    "grammar_rules = 'connectors'    # ALT: 'disjuncts' (part 2)\n",
    "\n",
    "# Paths to store learned categories, learned dictionary Link Grammar file\n",
    "prj_dir = batch_dir + 'poc_english_noamb_parse_ideal_Connectors/'  # project directory \n",
    "if check_dir(prj_dir, True, 'max'):\n",
    "    cat_path = prj_dir  # Path to store learned categories\n",
    "    dict_path = prj_dir  # Path to store learned dictionary Link Grammar file\n",
    "\n",
    "word_space = 'hyperwords'   # ALT: 'discrete' - no dimensionality reduction\n",
    "dim_max = 100               # max dimensionality\n",
    "sv_min = 0.1                # minimal singular value (fraction of the max value)\n",
    "\n",
    "clustering = 'kmeans'\n",
    "cluster_range = (2,48,1)    # mim, max, step\n",
    "cluster_criteria = 'silhouette'\n",
    "cluster_level = 0.9         # level = 0, 1, 0.-0.99..\n",
    "\n",
    "learn_grammar(input_dir, cat_path, dict_path, verbose, \n",
    "    parse_mode, learn_mode, word_space, dim_max, sv_min, \n",
    "    clustering, cluster_range, cluster_criteria, cluster_level, tmpath)"
   ]
  },
  {
   "cell_type": "code",
   "execution_count": 6,
   "metadata": {},
   "outputs": [
    {
     "name": "stdout",
     "output_type": "stream",
     "text": [
      "Word Categories saved to file: /POC-English-2018-03-31/poc_english_noamb_parse_ideal_Lex_Entries/categories.txt \n",
      "Grammar rules saved to file: /POC-English-2018-03-31/poc_english_noamb_parse_ideal_Lex_Entries/poc-turtle_17C_2018-03-31_0007.4.0.dict\n"
     ]
    }
   ],
   "source": [
    "print('Word Categories saved to file:', output['categories_file'][output['categories_file'].find('/POC'):], \\\n",
    "      '\\nGrammar rules saved to file:', output['grammar_file'][output['grammar_file'].find('/POC'):])"
   ]
  },
  {
   "cell_type": "markdown",
   "metadata": {},
   "source": [
    "# Batch mode: POC-English corpus, no ambiquities, various parses"
   ]
  },
  {
   "cell_type": "markdown",
   "metadata": {},
   "source": [
    "## Learning grammar rules based on Lexical Entries "
   ]
  },
  {
   "cell_type": "code",
   "execution_count": 7,
   "metadata": {},
   "outputs": [
    {
     "name": "stdout",
     "output_type": "stream",
     "text": [
      "---\n",
      "Directory /home/oleg/language-learning/output/POC-English-2018-03-31/poc-english_noAmb-parses-window6_Lex_Entries/ exists.\n",
      "Input file: /home/oleg/language-learning/data/POC_English_NoAmb/poc-english_noAmb-parses-window6/poc-english_noAmb-parses-window6.txt\n",
      "85 unique disjuncts form 113 unique word-disjunct pairs from 113 parsed items\n",
      "Word Categories saved to file: /POC-English-2018-03-31/poc-english_noAmb-parses-window6_Lex_Entries/categories.txt \n",
      "Grammar rules saved to file: /POC-English-2018-03-31/poc-english_noAmb-parses-window6_Lex_Entries/poc-turtle_20C_2018-03-31_0007.4.0.dict\n",
      "---\n",
      "Directory /home/oleg/language-learning/output/POC-English-2018-03-31/poc-english_noAmb-parses-window6-distance_Lex_Entries/ exists.\n",
      "Input file: /home/oleg/language-learning/data/POC_English_NoAmb/poc-english_noAmb-parses-window6-distance/poc-english_noAmb-parses-window6-distance.txt\n",
      "64 unique disjuncts form 97 unique word-disjunct pairs from 97 parsed items\n",
      "Word Categories saved to file: /POC-English-2018-03-31/poc-english_noAmb-parses-window6-distance_Lex_Entries/categories.txt \n",
      "Grammar rules saved to file: /POC-English-2018-03-31/poc-english_noAmb-parses-window6-distance_Lex_Entries/poc-turtle_17C_2018-03-31_0007.4.0.dict\n",
      "---\n",
      "Directory /home/oleg/language-learning/output/POC-English-2018-03-31/poc_english_noamb_parse_ideal_Lex_Entries/ exists.\n",
      "Input file: /home/oleg/language-learning/data/POC_English_NoAmb/poc_english_noamb_parse_ideal/poc_english_noamb_parse_ideal.txt\n",
      "70 unique disjuncts form 97 unique word-disjunct pairs from 97 parsed items\n",
      "Word Categories saved to file: /POC-English-2018-03-31/poc_english_noamb_parse_ideal_Lex_Entries/categories.txt \n",
      "Grammar rules saved to file: /POC-English-2018-03-31/poc_english_noamb_parse_ideal_Lex_Entries/poc-turtle_17C_2018-03-31_0007.4.0.dict\n",
      "---\n",
      "Directory /home/oleg/language-learning/output/POC-English-2018-03-31/poc_english_noamb_parses_lg_Lex_Entries/ exists.\n",
      "Input file: /home/oleg/language-learning/data/POC_English_NoAmb/poc_english_noamb_parses_lg/poc_english_noamb_parses_lg.txt\n",
      "78 unique disjuncts form 110 unique word-disjunct pairs from 110 parsed items\n",
      "Word Categories saved to file: /POC-English-2018-03-31/poc_english_noamb_parses_lg_Lex_Entries/categories.txt \n",
      "Grammar rules saved to file: /POC-English-2018-03-31/poc_english_noamb_parses_lg_Lex_Entries/poc-turtle_16C_2018-03-31_0007.4.0.dict\n"
     ]
    }
   ],
   "source": [
    "learn_mode = 'lexical_entries'\n",
    "verbose = 'mid'\n",
    "input_batch = module_path + '/data/POC_English_NoAmb/'\n",
    "dirs = sorted([x[0] for x in os.walk(input_batch)][1:])\n",
    "for d in dirs:\n",
    "    print('---')\n",
    "    prj_dir = batch_dir + d[d.rfind('/')+1:] + '_Lex_Entries/'\n",
    "    if check_dir(prj_dir, True, 'max'):\n",
    "        cat_path = prj_dir  # Path to store learned categories\n",
    "        dict_path = prj_dir  # Path to store learned dictionary Link Grammar file\n",
    "        output = learn_grammar(d, cat_path, dict_path, verbose, parse_mode, learn_mode)\n",
    "        print('Word Categories saved to file:', output['categories_file'][output['categories_file'].find('/POC'):], \\\n",
    "              '\\nGrammar rules saved to file:', output['grammar_file'][output['grammar_file'].find('/POC'):])"
   ]
  },
  {
   "cell_type": "markdown",
   "metadata": {},
   "source": [
    "## Learning grammar clustering words in connectors space"
   ]
  },
  {
   "cell_type": "code",
   "execution_count": 8,
   "metadata": {},
   "outputs": [
    {
     "name": "stdout",
     "output_type": "stream",
     "text": [
      "---\n",
      "Directory /home/oleg/language-learning/output/POC-English-2018-03-31/poc-english_noAmb-parses-window6_Connectors/ exists.\n",
      "Optimal vector space dimensionality: 19\n",
      "Optimal number of clusters: 9\n",
      "Word Categories saved to file: /POC-English-2018-03-31/poc-english_noAmb-parses-window6_Connectors/categories.txt \n",
      "Grammar rules saved to file: /POC-English-2018-03-31/poc-english_noAmb-parses-window6_Connectors/poc-turtle_9C_2018-03-31_0007.4.0.dict\n",
      "---\n",
      "Directory /home/oleg/language-learning/output/POC-English-2018-03-31/poc-english_noAmb-parses-window6-distance_Connectors/ exists.\n",
      "Optimal vector space dimensionality: 15\n",
      "Optimal number of clusters: 7\n",
      "Word Categories saved to file: /POC-English-2018-03-31/poc-english_noAmb-parses-window6-distance_Connectors/categories.txt \n",
      "Grammar rules saved to file: /POC-English-2018-03-31/poc-english_noAmb-parses-window6-distance_Connectors/poc-turtle_7C_2018-03-31_0007.4.0.dict\n",
      "---\n",
      "Directory /home/oleg/language-learning/output/POC-English-2018-03-31/poc_english_noamb_parse_ideal_Connectors/ exists.\n",
      "Optimal vector space dimensionality: 16\n",
      "Optimal number of clusters: 8\n",
      "Word Categories saved to file: /POC-English-2018-03-31/poc_english_noamb_parse_ideal_Connectors/categories.txt \n",
      "Grammar rules saved to file: /POC-English-2018-03-31/poc_english_noamb_parse_ideal_Connectors/poc-turtle_8C_2018-03-31_0007.4.0.dict\n",
      "---\n",
      "Directory /home/oleg/language-learning/output/POC-English-2018-03-31/poc_english_noamb_parses_lg_Connectors/ exists.\n",
      "Optimal vector space dimensionality: 15\n",
      "Optimal number of clusters: 10\n",
      "Word Categories saved to file: /POC-English-2018-03-31/poc_english_noamb_parses_lg_Connectors/categories.txt \n",
      "Grammar rules saved to file: /POC-English-2018-03-31/poc_english_noamb_parses_lg_Connectors/poc-turtle_10C_2018-03-31_0007.4.0.dict\n"
     ]
    }
   ],
   "source": [
    "learn_mode = 'connectors_only'\n",
    "verbose = 'min'\n",
    "for d in dirs:\n",
    "    print('---') # print(d)\n",
    "    prj_dir = batch_dir + d[d.rfind('/')+1:] + '_Connectors/'\n",
    "    if check_dir(prj_dir, True, 'max'):\n",
    "        cat_path = prj_dir  # Path to store learned categories\n",
    "        dict_path = prj_dir # Path to store learned dictionary Link Grammar file\n",
    "        output = learn_grammar(d, cat_path, dict_path, verbose, \n",
    "            parse_mode, learn_mode, word_space, dim_max, sv_min, \n",
    "            clustering, cluster_range, cluster_criteria, cluster_level, tmpath)        \n",
    "        print('Word Categories saved to file:', output['categories_file'][output['categories_file'].find('/POC'):], \\\n",
    "              '\\nGrammar rules saved to file:', output['grammar_file'][output['grammar_file'].find('/POC'):])"
   ]
  },
  {
   "cell_type": "markdown",
   "metadata": {},
   "source": [
    "# POC-Turtle corpus: 2 parsing samples tested in batch mode"
   ]
  },
  {
   "cell_type": "code",
   "execution_count": 9,
   "metadata": {},
   "outputs": [
    {
     "name": "stdout",
     "output_type": "stream",
     "text": [
      "Word Categories saved to file: /POC-Turtle-2018-03-31/poc-turtle-parses-expected_Lex_Entries/categories.txt \n",
      "Grammar rules saved to file: /POC-Turtle-2018-03-31/poc-turtle-parses-expected_Lex_Entries/poc-turtle_9C_2018-03-31_0007.4.0.dict\n",
      "---\n",
      "Optimal number of clusters: 4\n",
      "Word Categories saved to file: /POC-Turtle-2018-03-31/poc-turtle-parses-expected_Connectors/categories.txt \n",
      "Grammar rules saved to file: /POC-Turtle-2018-03-31/poc-turtle-parses-expected_Connectors/poc-turtle_4C_2018-03-31_0007.4.0.dict\n",
      "===\n",
      "Word Categories saved to file: /POC-Turtle-2018-03-31/poc-turtle-parses-window6_Lex_Entries/categories.txt \n",
      "Grammar rules saved to file: /POC-Turtle-2018-03-31/poc-turtle-parses-window6_Lex_Entries/poc-turtle_12C_2018-03-31_0007.4.0.dict\n",
      "---\n",
      "Optimal number of clusters: 7\n",
      "Word Categories saved to file: /POC-Turtle-2018-03-31/poc-turtle-parses-window6_Connectors/categories.txt \n",
      "Grammar rules saved to file: /POC-Turtle-2018-03-31/poc-turtle-parses-window6_Connectors/poc-turtle_7C_2018-03-31_0007.4.0.dict\n",
      "===\n"
     ]
    }
   ],
   "source": [
    "batch_dir = module_path + '/output/POC-Turtle-2018-03-31/'\n",
    "verbose = 'none'\n",
    "input_batch = module_path + '/data/POC_Turtle/'\n",
    "dirs = sorted([x[0] for x in os.walk(input_batch)][1:])\n",
    "learn_mode = 'lexical_entries'\n",
    "for d in dirs:\n",
    "    prj_dir = batch_dir + d[d.rfind('/')+1:] + '_Lex_Entries/'\n",
    "    if check_dir(prj_dir, True, 'min'):\n",
    "        cat_path = prj_dir\n",
    "        dict_path = prj_dir\n",
    "        output = learn_grammar(d, cat_path, dict_path, verbose, parse_mode, 'lexical_entries')\n",
    "        print('Word Categories saved to file:', output['categories_file'][output['categories_file'].find('/POC'):], \\\n",
    "              '\\nGrammar rules saved to file:', output['grammar_file'][output['grammar_file'].find('/POC'):])\n",
    "    print('---')\n",
    "    prj_dir = batch_dir + d[d.rfind('/')+1:] + '_Connectors/'\n",
    "    if check_dir(prj_dir, True, 'min'):\n",
    "        cat_path = prj_dir\n",
    "        dict_path = prj_dir\n",
    "        output = learn_grammar(d, cat_path, dict_path, verbose, \n",
    "            parse_mode, 'connectors_only', word_space, dim_max, sv_min, \n",
    "            clustering, cluster_range, cluster_criteria, cluster_level, tmpath)        \n",
    "        print('Word Categories saved to file:', output['categories_file'][output['categories_file'].find('/POC'):], \\\n",
    "              '\\nGrammar rules saved to file:', output['grammar_file'][output['grammar_file'].find('/POC'):])\n",
    "        print('===')"
   ]
  },
  {
   "cell_type": "markdown",
   "metadata": {},
   "source": [
    "`poc-turtle-parses-window6-distance.txt -- error in Grammar Learner 'connector_only' mode :(`"
   ]
  },
  {
   "cell_type": "code",
   "execution_count": null,
   "metadata": {},
   "outputs": [],
   "source": []
  }
 ],
 "metadata": {
  "kernelspec": {
   "display_name": "Python [conda env:ull3]",
   "language": "python",
   "name": "conda-env-ull3-py"
  },
  "language_info": {
   "codemirror_mode": {
    "name": "ipython",
    "version": 3
   },
   "file_extension": ".py",
   "mimetype": "text/x-python",
   "name": "python",
   "nbconvert_exporter": "python",
   "pygments_lexer": "ipython3",
   "version": "3.6.4"
  },
  "toc": {
   "nav_menu": {},
   "number_sections": true,
   "sideBar": true,
   "skip_h1_title": false,
   "title_cell": "Table of Contents",
   "title_sidebar": "Contents",
   "toc_cell": false,
   "toc_position": {},
   "toc_section_display": true,
   "toc_window_display": false
  }
 },
 "nbformat": 4,
 "nbformat_minor": 2
}
