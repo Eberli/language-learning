{
 "cells": [
  {
   "cell_type": "markdown",
   "metadata": {},
   "source": [
    "# POC-English baseline test `2018-10-18`\n",
    "\n",
    "Link Grammar 5.4.4, alphabetic connector id's `B,C...AB...ZZ...ZZZ`, Grammar Tester version 2018-08-14.  \n",
    "Each line is calculated 1x, parsing metrics tested 1x for each calculation.  \n",
    "This notebook is shared as static [POC-English-2018-10-18.html](http://langlearn.singularitynet.io/data/clustering_2018/html/POC-English-2018-10-18.html)  \n",
    "The calculation table is not shared as 'short_table.txt' in [POC-English-2018-10-18 folder](http://langlearn.singularitynet.io/data/clustering_2018/POC-English-2018-10-18/)  \n",
    "Reference test -- [2018-08-09](http://langlearn.singularitynet.io/data/clustering_2018/html/POC-English-Amb-2018-08-09.html)  "
   ]
  },
  {
   "cell_type": "markdown",
   "metadata": {},
   "source": [
    "## Basic settings"
   ]
  },
  {
   "cell_type": "code",
   "execution_count": 1,
   "metadata": {
    "ExecuteTime": {
     "end_time": "2018-10-18T09:46:15.073120Z",
     "start_time": "2018-10-18T09:46:14.342223Z"
    }
   },
   "outputs": [
    {
     "name": "stdout",
     "output_type": "stream",
     "text": [
      "2018-10-18 09:46:15 UTC :: module_path = /home/obaskov/py/language-learning\n"
     ]
    }
   ],
   "source": [
    "import os, sys, time\n",
    "module_path = os.path.abspath(os.path.join('..'))\n",
    "if module_path not in sys.path: sys.path.append(module_path)\n",
    "from ull.grammar_learner.utl import UTC\n",
    "from ull.grammar_learner.read_files import check_dir\n",
    "from ull.grammar_learner.write_files import list2file\n",
    "from ull.grammar_learner.widgets import html_table\n",
    "from src.grammar_learner.pqa_table import table_rows\n",
    "tmpath = module_path + '/tmp/'\n",
    "check_dir(tmpath, True, 'none')\n",
    "table = []\n",
    "long_table = []\n",
    "start = time.time()\n",
    "print(UTC(), ':: module_path =', module_path)"
   ]
  },
  {
   "cell_type": "markdown",
   "metadata": {},
   "source": [
    "## Grammar Learner corpus-specific parameters"
   ]
  },
  {
   "cell_type": "code",
   "execution_count": 2,
   "metadata": {
    "ExecuteTime": {
     "end_time": "2018-10-18T09:46:15.091996Z",
     "start_time": "2018-10-18T09:46:15.075121Z"
    }
   },
   "outputs": [],
   "source": [
    "corpus = 'POC-English-Amb'\n",
    "out_dir = module_path + '/output/POC-English-' + str(UTC())[:10]\n",
    "runs = (1,1)    # (attempts to learn grammar per line, grammar tests per attempt)\n",
    "if runs != (1,1): out_dir += '-multi'\n",
    "kwargs = {\n",
    "    'left_wall'     :   ''          ,\n",
    "    'period'        :   False       ,\n",
    "    'word_space'    :   'vectors'   ,\n",
    "    'clustering'    :   ('kmeans', 'kmeans++', 10),\n",
    "    'cluster_range' :   (2,50,1,5)  ,\n",
    "    'tmpath'        :   tmpath      , \n",
    "    'verbose'       :   'min'       ,\n",
    "    'template_path' :   'poc-turtle',\n",
    "    'linkage_limit' :   1000        ,\n",
    "    'categories_generalization': 'off'}\n",
    "lines = [\n",
    "    [11, 'POC-English-Amb'    , 'MST-fixed-manually'             , 0  , 0 , 'none'  ], \n",
    "    [12, 'POC-English-Amb'    , 'MST-fixed-manually'             , 0  , 0 , 'rules' ], \n",
    "    [13, 'POC-English-Amb'    , 'LG-English'                     , 0  , 0 , 'none'  ], \n",
    "    [14, 'POC-English-Amb'    , 'LG-English'                     , 0  , 0 , 'rules' ], \n",
    "    [15, 'POC-English-Amb'    , 'R=6-Weight=6:R-mst-weight=+1:R' , 0  , 0 , 'none'  ], \n",
    "    [16, 'POC-English-Amb'    , 'R=6-Weight=6:R-mst-weight=+1:R' , 0  , 0 , 'rules' ], \n",
    "    [17, 'POC-English-disAmb' , 'R=6-Weight=6:R-mst-weight=+1:R' , 0  , 0 , 'none'  ], \n",
    "    [18, 'POC-English-disAmb' , 'R=6-Weight=6:R-mst-weight=+1:R' , 0  , 0 , 'rules' ], \n",
    "    [19, 'POC-English-disAmb' , 'R=6-Weight=6:R-mst-weight=+1:R-agm-opt' , 0  , 0 , 'none'  ], \n",
    "    [20, 'POC-English-disAmb' , 'R=6-Weight=6:R-mst-weight=+1:R-agm-opt' , 0  , 0 , 'rules' ], \n",
    "    [21, 'POC-English-disAmb' , 'R=6-Weight=6:R-mst-weight=+1:R-agm-100' , 0  , 0 , 'none'  ], \n",
    "    [22, 'POC-English-disAmb' , 'R=6-Weight=6:R-mst-weight=+1:R-agm-100' , 0  , 0 , 'rules' ], \n",
    "    [23, 'POC-English-Amb'    , 'R=6-Weight=1-mst-weight=+1:R'   , 0  , 0 , 'none'  ], \n",
    "    [24, 'POC-English-disAmb' , 'R=6-Weight=1-mst-weight=+1:R'   , 0  , 0 , 'none'  ], \n",
    "    [25, 'POC-English-disAmb' , 'R=6-Weight=1-mst-weight=+1:R-agm-opt' , 0  , 0 , 'none'  ], \n",
    "    [26, 'POC-English-disAmb' , 'R=6-Weight=1-mst-weight=+1:R-agm-100' , 0  , 0 , 'none'  ], \n",
    "    [27, 'POC-English-Amb'    , 'LG-ANY-all-parses'              , 0  , 0 , 'none'  ], \n",
    "    [28, 'POC-English-disAmb' , 'LG-ANY-all-parses'              , 0  , 0 , 'none'  ], \n",
    "    [29, 'POC-English-disAmb' , 'LG-ANY-all-parses-agm-opt'      , 0  , 0 , 'none'  ], \n",
    "    [30, 'POC-English-disAmb' , 'LG-ANY-all-parses-agm-100'      , 0  , 0 , 'none' ]]\n",
    "rp = module_path + '/data/POC-English-Amb/MST-fixed-manually/poc-english_ex-parses-gold.txt'\n",
    "cp = rp # corpus path = reference path"
   ]
  },
  {
   "cell_type": "markdown",
   "metadata": {},
   "source": [
    "# POC-English-Amb, 5 datasets; ...-disAmb, 6 datasets\n",
    "ULL Project Plan ⇒ Parses ⇒ lines 11-30"
   ]
  },
  {
   "cell_type": "markdown",
   "metadata": {},
   "source": [
    "## Connectors-DRK-Connectors"
   ]
  },
  {
   "cell_type": "code",
   "execution_count": 3,
   "metadata": {
    "ExecuteTime": {
     "end_time": "2018-10-18T09:49:31.002829Z",
     "start_time": "2018-10-18T09:46:15.093709Z"
    },
    "scrolled": true
   },
   "outputs": [],
   "source": [
    "%%capture\n",
    "kwargs['context'] = 1\n",
    "kwargs['grammar_rules'] = 1\n",
    "average21, long21, header = table_rows(lines, out_dir, cp, rp, runs, **kwargs)\n",
    "table.extend(average21)\n",
    "long_table.extend(long21)"
   ]
  },
  {
   "cell_type": "code",
   "execution_count": 4,
   "metadata": {
    "ExecuteTime": {
     "end_time": "2018-10-18T09:49:31.017593Z",
     "start_time": "2018-10-18T09:49:31.009260Z"
    }
   },
   "outputs": [
    {
     "data": {
      "text/html": [
       "<table><tr><td>Line</td><td>Corpus</td><td>Parsing</td><td>LW</td><td>RW</td><td>Gen.</td><td>Space</td><td>Rules</td><td>Silhouette</td><td>PA</td><td>PQ</td><td>PQ/PA</td></tr><tr><td>11</td><td>POC-English-Amb</td><td>MST-fixed-manually</td><td> --- </td><td> --- </td><td>none</td><td>cDRKc</td><td>30</td><td>0.26</td><td>73%</td><td>65%</td><td>0.89</td></tr><tr><td>13</td><td>POC-English-Amb</td><td>LG-English</td><td> --- </td><td> --- </td><td>none</td><td>cDRKc</td><td>31</td><td>0.28</td><td>72%</td><td>63%</td><td>0.87</td></tr><tr><td>15</td><td>POC-English-Amb</td><td>R=6-Weight=6:R-mst-weight=+1:R</td><td> --- </td><td> --- </td><td>none</td><td>cDRKc</td><td>28</td><td>0.24</td><td>86%</td><td>54%</td><td>0.63</td></tr><tr><td>17</td><td>POC-English-disAmb</td><td>R=6-Weight=6:R-mst-weight=+1:R</td><td> --- </td><td> --- </td><td>none</td><td>cDRKc</td><td>29</td><td>0.25</td><td>86%</td><td>54%</td><td>0.63</td></tr><tr><td>19</td><td>POC-English-disAmb</td><td>R=6-Weight=6:R-mst-weight=+1:R-agm-opt</td><td> --- </td><td> --- </td><td>none</td><td>cDRKc</td><td>30</td><td>0.23</td><td>90%</td><td>58%</td><td>0.64</td></tr><tr><td>21</td><td>POC-English-disAmb</td><td>R=6-Weight=6:R-mst-weight=+1:R-agm-100</td><td> --- </td><td> --- </td><td>none</td><td>cDRKc</td><td>41</td><td>0.14</td><td>92%</td><td>62%</td><td>0.68</td></tr><tr><td>23</td><td>POC-English-Amb</td><td>R=6-Weight=1-mst-weight=+1:R</td><td> --- </td><td> --- </td><td>none</td><td>cDRKc</td><td>19</td><td>0.21</td><td>86%</td><td>56%</td><td>0.65</td></tr><tr><td>24</td><td>POC-English-disAmb</td><td>R=6-Weight=1-mst-weight=+1:R</td><td> --- </td><td> --- </td><td>none</td><td>cDRKc</td><td>24</td><td>0.2</td><td>85%</td><td>57%</td><td>0.67</td></tr><tr><td>25</td><td>POC-English-disAmb</td><td>R=6-Weight=1-mst-weight=+1:R-agm-opt</td><td> --- </td><td> --- </td><td>none</td><td>cDRKc</td><td>24</td><td>0.18</td><td>89%</td><td>57%</td><td>0.64</td></tr><tr><td>26</td><td>POC-English-disAmb</td><td>R=6-Weight=1-mst-weight=+1:R-agm-100</td><td> --- </td><td> --- </td><td>none</td><td>cDRKc</td><td>38</td><td>0.17</td><td>94%</td><td>64%</td><td>0.69</td></tr><tr><td>27</td><td>POC-English-Amb</td><td>LG-ANY-all-parses</td><td> --- </td><td> --- </td><td>none</td><td>cDRKc</td><td>22</td><td>0.25</td><td>90%</td><td>59%</td><td>0.65</td></tr><tr><td>28</td><td>POC-English-disAmb</td><td>LG-ANY-all-parses</td><td> --- </td><td> --- </td><td>none</td><td>cDRKc</td><td>25</td><td>0.28</td><td>88%</td><td>57%</td><td>0.65</td></tr><tr><td>29</td><td>POC-English-disAmb</td><td>LG-ANY-all-parses-agm-opt</td><td> --- </td><td> --- </td><td>none</td><td>cDRKc</td><td>24</td><td>0.28</td><td>90%</td><td>58%</td><td>0.65</td></tr><tr><td>30</td><td>POC-English-disAmb</td><td>LG-ANY-all-parses-agm-100</td><td> --- </td><td> --- </td><td>none</td><td>cDRKc</td><td>36</td><td>0.15</td><td>94%</td><td>65%</td><td>0.69</td></tr></table>"
      ],
      "text/plain": [
       "<IPython.core.display.HTML object>"
      ]
     },
     "metadata": {},
     "output_type": "display_data"
    }
   ],
   "source": [
    "display(html_table([header]+average21))"
   ]
  },
  {
   "cell_type": "markdown",
   "metadata": {},
   "source": [
    "## Connectors-DRK-Disjuncts"
   ]
  },
  {
   "cell_type": "code",
   "execution_count": 5,
   "metadata": {
    "ExecuteTime": {
     "end_time": "2018-10-18T09:54:15.687600Z",
     "start_time": "2018-10-18T09:49:31.019341Z"
    }
   },
   "outputs": [],
   "source": [
    "%%capture\n",
    "kwargs['grammar_rules'] = 2\n",
    "average22, long22, header = table_rows(lines, out_dir, cp, rp, runs, **kwargs)\n",
    "table.extend(average22)\n",
    "long_table.extend(long22)"
   ]
  },
  {
   "cell_type": "code",
   "execution_count": 6,
   "metadata": {
    "ExecuteTime": {
     "end_time": "2018-10-18T09:54:15.710718Z",
     "start_time": "2018-10-18T09:54:15.689724Z"
    },
    "scrolled": true
   },
   "outputs": [
    {
     "data": {
      "text/html": [
       "<table><tr><td>Line</td><td>Corpus</td><td>Parsing</td><td>LW</td><td>RW</td><td>Gen.</td><td>Space</td><td>Rules</td><td>Silhouette</td><td>PA</td><td>PQ</td><td>PQ/PA</td></tr><tr><td>11</td><td>POC-English-Amb</td><td>MST-fixed-manually</td><td> --- </td><td> --- </td><td>none</td><td>cDRKd</td><td>30</td><td>0.26</td><td>46%</td><td>41%</td><td>0.88</td></tr><tr><td>12</td><td>POC-English-Amb</td><td>MST-fixed-manually</td><td> --- </td><td> --- </td><td>rules</td><td>cDRKd</td><td>26</td><td>0.26</td><td>65%</td><td>59%</td><td>0.9</td></tr><tr><td>13</td><td>POC-English-Amb</td><td>LG-English</td><td> --- </td><td> --- </td><td>none</td><td>cDRKd</td><td>31</td><td>0.28</td><td>36%</td><td>33%</td><td>0.9</td></tr><tr><td>14</td><td>POC-English-Amb</td><td>LG-English</td><td> --- </td><td> --- </td><td>rules</td><td>cDRKd</td><td>27</td><td>0.28</td><td>36%</td><td>33%</td><td>0.9</td></tr><tr><td>15</td><td>POC-English-Amb</td><td>R=6-Weight=6:R-mst-weight=+1:R</td><td> --- </td><td> --- </td><td>none</td><td>cDRKd</td><td>29</td><td>0.24</td><td>69%</td><td>48%</td><td>0.7</td></tr><tr><td>16</td><td>POC-English-Amb</td><td>R=6-Weight=6:R-mst-weight=+1:R</td><td> --- </td><td> --- </td><td>rules</td><td>cDRKd</td><td>26</td><td>0.24</td><td>75%</td><td>52%</td><td>0.7</td></tr><tr><td>17</td><td>POC-English-disAmb</td><td>R=6-Weight=6:R-mst-weight=+1:R</td><td> --- </td><td> --- </td><td>none</td><td>cDRKd</td><td>29</td><td>0.25</td><td>70%</td><td>50%</td><td>0.72</td></tr><tr><td>18</td><td>POC-English-disAmb</td><td>R=6-Weight=6:R-mst-weight=+1:R</td><td> --- </td><td> --- </td><td>rules</td><td>cDRKd</td><td>28</td><td>0.27</td><td>75%</td><td>53%</td><td>0.71</td></tr><tr><td>19</td><td>POC-English-disAmb</td><td>R=6-Weight=6:R-mst-weight=+1:R-agm-opt</td><td> --- </td><td> --- </td><td>none</td><td>cDRKd</td><td>30</td><td>0.23</td><td>74%</td><td>52%</td><td>0.71</td></tr><tr><td>20</td><td>POC-English-disAmb</td><td>R=6-Weight=6:R-mst-weight=+1:R-agm-opt</td><td> --- </td><td> --- </td><td>rules</td><td>cDRKd</td><td>27</td><td>0.23</td><td>78%</td><td>56%</td><td>0.71</td></tr><tr><td>21</td><td>POC-English-disAmb</td><td>R=6-Weight=6:R-mst-weight=+1:R-agm-100</td><td> --- </td><td> --- </td><td>none</td><td>cDRKd</td><td>40</td><td>0.13</td><td>95%</td><td>66%</td><td>0.69</td></tr><tr><td>22</td><td>POC-English-disAmb</td><td>R=6-Weight=6:R-mst-weight=+1:R-agm-100</td><td> --- </td><td> --- </td><td>rules</td><td>cDRKd</td><td>40</td><td>0.13</td><td>95%</td><td>66%</td><td>0.69</td></tr><tr><td>23</td><td>POC-English-Amb</td><td>R=6-Weight=1-mst-weight=+1:R</td><td> --- </td><td> --- </td><td>none</td><td>cDRKd</td><td>21</td><td>0.2</td><td>0%</td><td>0%</td><td>0.0</td></tr><tr><td>24</td><td>POC-English-disAmb</td><td>R=6-Weight=1-mst-weight=+1:R</td><td> --- </td><td> --- </td><td>none</td><td>cDRKd</td><td>24</td><td>0.2</td><td>65%</td><td>48%</td><td>0.74</td></tr><tr><td>25</td><td>POC-English-disAmb</td><td>R=6-Weight=1-mst-weight=+1:R-agm-opt</td><td> --- </td><td> --- </td><td>none</td><td>cDRKd</td><td>24</td><td>0.18</td><td>74%</td><td>51%</td><td>0.69</td></tr><tr><td>26</td><td>POC-English-disAmb</td><td>R=6-Weight=1-mst-weight=+1:R-agm-100</td><td> --- </td><td> --- </td><td>none</td><td>cDRKd</td><td>39</td><td>0.19</td><td>97%</td><td>68%</td><td>0.71</td></tr><tr><td>27</td><td>POC-English-Amb</td><td>LG-ANY-all-parses</td><td> --- </td><td> --- </td><td>none</td><td>cDRKd</td><td>22</td><td>0.25</td><td>87%</td><td>59%</td><td>0.68</td></tr><tr><td>28</td><td>POC-English-disAmb</td><td>LG-ANY-all-parses</td><td> --- </td><td> --- </td><td>none</td><td>cDRKd</td><td>26</td><td>0.28</td><td>81%</td><td>59%</td><td>0.73</td></tr><tr><td>29</td><td>POC-English-disAmb</td><td>LG-ANY-all-parses-agm-opt</td><td> --- </td><td> --- </td><td>none</td><td>cDRKd</td><td>25</td><td>0.27</td><td>84%</td><td>60%</td><td>0.72</td></tr><tr><td>30</td><td>POC-English-disAmb</td><td>LG-ANY-all-parses-agm-100</td><td> --- </td><td> --- </td><td>none</td><td>cDRKd</td><td>36</td><td>0.15</td><td>100%</td><td>70%</td><td>0.7</td></tr></table>"
      ],
      "text/plain": [
       "<IPython.core.display.HTML object>"
      ]
     },
     "metadata": {},
     "output_type": "display_data"
    }
   ],
   "source": [
    "display(html_table([header]+average22))"
   ]
  },
  {
   "cell_type": "markdown",
   "metadata": {},
   "source": [
    "## Disjuncts-DRK-Disjuncts"
   ]
  },
  {
   "cell_type": "code",
   "execution_count": 7,
   "metadata": {
    "ExecuteTime": {
     "end_time": "2018-10-18T09:57:34.181195Z",
     "start_time": "2018-10-18T09:54:15.712877Z"
    }
   },
   "outputs": [],
   "source": [
    "%%capture\n",
    "kwargs['context'] = 2\n",
    "average23, long23, header = table_rows(lines, out_dir, cp, rp, runs, **kwargs)\n",
    "table.extend(average23)\n",
    "long_table.extend(long23)"
   ]
  },
  {
   "cell_type": "code",
   "execution_count": 8,
   "metadata": {
    "ExecuteTime": {
     "end_time": "2018-10-18T09:57:34.201143Z",
     "start_time": "2018-10-18T09:57:34.183676Z"
    }
   },
   "outputs": [
    {
     "data": {
      "text/html": [
       "<table><tr><td>Line</td><td>Corpus</td><td>Parsing</td><td>LW</td><td>RW</td><td>Gen.</td><td>Space</td><td>Rules</td><td>Silhouette</td><td>PA</td><td>PQ</td><td>PQ/PA</td></tr><tr><td>11</td><td>POC-English-Amb</td><td>MST-fixed-manually</td><td> --- </td><td> --- </td><td>none</td><td>dDRKd</td><td>27</td><td>0.26</td><td>38%</td><td>33%</td><td>0.86</td></tr><tr><td>12</td><td>POC-English-Amb</td><td>MST-fixed-manually</td><td> --- </td><td> --- </td><td>rules</td><td>dDRKd</td><td>27</td><td>0.25</td><td>40%</td><td>34%</td><td>0.84</td></tr><tr><td>13</td><td>POC-English-Amb</td><td>LG-English</td><td> --- </td><td> --- </td><td>none</td><td>dDRKd</td><td>4</td><td>0.61</td><td>86%</td><td>64%</td><td>0.75</td></tr><tr><td>14</td><td>POC-English-Amb</td><td>LG-English</td><td> --- </td><td> --- </td><td>rules</td><td>dDRKd</td><td>4</td><td>0.61</td><td>89%</td><td>66%</td><td>0.74</td></tr><tr><td>15</td><td>POC-English-Amb</td><td>R=6-Weight=6:R-mst-weight=+1:R</td><td> --- </td><td> --- </td><td>none</td><td>dDRKd</td><td>5</td><td>0.48</td><td>95%</td><td>63%</td><td>0.67</td></tr><tr><td>16</td><td>POC-English-Amb</td><td>R=6-Weight=6:R-mst-weight=+1:R</td><td> --- </td><td> --- </td><td>rules</td><td>dDRKd</td><td>5</td><td>0.48</td><td>95%</td><td>63%</td><td>0.67</td></tr><tr><td>17</td><td>POC-English-disAmb</td><td>R=6-Weight=6:R-mst-weight=+1:R</td><td> --- </td><td> --- </td><td>none</td><td>dDRKd</td><td>35</td><td>0.23</td><td>63%</td><td>46%</td><td>0.74</td></tr><tr><td>18</td><td>POC-English-disAmb</td><td>R=6-Weight=6:R-mst-weight=+1:R</td><td> --- </td><td> --- </td><td>rules</td><td>dDRKd</td><td>34</td><td>0.23</td><td>67%</td><td>51%</td><td>0.75</td></tr><tr><td>19</td><td>POC-English-disAmb</td><td>R=6-Weight=6:R-mst-weight=+1:R-agm-opt</td><td> --- </td><td> --- </td><td>none</td><td>dDRKd</td><td>3</td><td>0.46</td><td>99%</td><td>69%</td><td>0.69</td></tr><tr><td>20</td><td>POC-English-disAmb</td><td>R=6-Weight=6:R-mst-weight=+1:R-agm-opt</td><td> --- </td><td> --- </td><td>rules</td><td>dDRKd</td><td>3</td><td>0.46</td><td>99%</td><td>69%</td><td>0.69</td></tr><tr><td>21</td><td>POC-English-disAmb</td><td>R=6-Weight=6:R-mst-weight=+1:R-agm-100</td><td> --- </td><td> --- </td><td>none</td><td>dDRKd</td><td>43</td><td>0.08</td><td>80%</td><td>54%</td><td>0.68</td></tr><tr><td>22</td><td>POC-English-disAmb</td><td>R=6-Weight=6:R-mst-weight=+1:R-agm-100</td><td> --- </td><td> --- </td><td>rules</td><td>dDRKd</td><td>38</td><td>0.07</td><td>76%</td><td>51%</td><td>0.67</td></tr><tr><td>23</td><td>POC-English-Amb</td><td>R=6-Weight=1-mst-weight=+1:R</td><td> --- </td><td> --- </td><td>none</td><td>dDRKd</td><td>20</td><td>0.45</td><td>75%</td><td>55%</td><td>0.73</td></tr><tr><td>24</td><td>POC-English-disAmb</td><td>R=6-Weight=1-mst-weight=+1:R</td><td> --- </td><td> --- </td><td>none</td><td>dDRKd</td><td>19</td><td>0.43</td><td>65%</td><td>44%</td><td>0.68</td></tr><tr><td>25</td><td>POC-English-disAmb</td><td>R=6-Weight=1-mst-weight=+1:R-agm-opt</td><td> --- </td><td> --- </td><td>none</td><td>dDRKd</td><td>31</td><td>0.31</td><td>56%</td><td>40%</td><td>0.72</td></tr><tr><td>26</td><td>POC-English-disAmb</td><td>R=6-Weight=1-mst-weight=+1:R-agm-100</td><td> --- </td><td> --- </td><td>none</td><td>dDRKd</td><td>44</td><td>0.11</td><td>94%</td><td>67%</td><td>0.71</td></tr><tr><td>27</td><td>POC-English-Amb</td><td>LG-ANY-all-parses</td><td> --- </td><td> --- </td><td>none</td><td>dDRKd</td><td>4</td><td>0.79</td><td>99%</td><td>67%</td><td>0.68</td></tr><tr><td>28</td><td>POC-English-disAmb</td><td>LG-ANY-all-parses</td><td> --- </td><td> --- </td><td>none</td><td>dDRKd</td><td>30</td><td>0.24</td><td>67%</td><td>50%</td><td>0.75</td></tr><tr><td>29</td><td>POC-English-disAmb</td><td>LG-ANY-all-parses-agm-opt</td><td> --- </td><td> --- </td><td>none</td><td>dDRKd</td><td>18</td><td>0.21</td><td>0%</td><td>0%</td><td>0.0</td></tr><tr><td>30</td><td>POC-English-disAmb</td><td>LG-ANY-all-parses-agm-100</td><td> --- </td><td> --- </td><td>none</td><td>dDRKd</td><td>42</td><td>0.08</td><td>91%</td><td>65%</td><td>0.71</td></tr></table>"
      ],
      "text/plain": [
       "<IPython.core.display.HTML object>"
      ]
     },
     "metadata": {},
     "output_type": "display_data"
    }
   ],
   "source": [
    "display(html_table([header]+average23))"
   ]
  },
  {
   "cell_type": "markdown",
   "metadata": {},
   "source": [
    "## Disjuncts-ILE-Disjuncts"
   ]
  },
  {
   "cell_type": "code",
   "execution_count": 9,
   "metadata": {
    "ExecuteTime": {
     "end_time": "2018-10-18T09:57:36.972386Z",
     "start_time": "2018-10-18T09:57:34.203603Z"
    }
   },
   "outputs": [],
   "source": [
    "%%capture\n",
    "kwargs['word_space'] = 'discrete'\n",
    "kwargs['clustering'] = 'group'\n",
    "average24, long24, header = table_rows(lines, out_dir, cp, rp, runs, **kwargs)\n",
    "table.extend(average24)\n",
    "long_table.extend(long24)"
   ]
  },
  {
   "cell_type": "code",
   "execution_count": 10,
   "metadata": {
    "ExecuteTime": {
     "end_time": "2018-10-18T09:57:36.984947Z",
     "start_time": "2018-10-18T09:57:36.978766Z"
    }
   },
   "outputs": [
    {
     "data": {
      "text/html": [
       "<table><tr><td>Line</td><td>Corpus</td><td>Parsing</td><td>LW</td><td>RW</td><td>Gen.</td><td>Space</td><td>Rules</td><td>Silhouette</td><td>PA</td><td>PQ</td><td>PQ/PA</td></tr><tr><td>11</td><td>POC-English-Amb</td><td>MST-fixed-manually</td><td> --- </td><td> --- </td><td>none</td><td>dILEd</td><td>37</td><td> --- </td><td>36%</td><td>32%</td><td>0.9</td></tr><tr><td>12</td><td>POC-English-Amb</td><td>MST-fixed-manually</td><td> --- </td><td> --- </td><td>rules</td><td>dILEd</td><td>28</td><td> --- </td><td>0%</td><td>0%</td><td>0.0</td></tr><tr><td>13</td><td>POC-English-Amb</td><td>LG-English</td><td> --- </td><td> --- </td><td>none</td><td>dILEd</td><td>37</td><td> --- </td><td>32%</td><td>30%</td><td>0.92</td></tr><tr><td>14</td><td>POC-English-Amb</td><td>LG-English</td><td> --- </td><td> --- </td><td>rules</td><td>dILEd</td><td>30</td><td> --- </td><td>33%</td><td>30%</td><td>0.91</td></tr><tr><td>15</td><td>POC-English-Amb</td><td>R=6-Weight=6:R-mst-weight=+1:R</td><td> --- </td><td> --- </td><td>none</td><td>dILEd</td><td>38</td><td> --- </td><td>61%</td><td>44%</td><td>0.73</td></tr><tr><td>16</td><td>POC-English-Amb</td><td>R=6-Weight=6:R-mst-weight=+1:R</td><td> --- </td><td> --- </td><td>rules</td><td>dILEd</td><td>34</td><td> --- </td><td>75%</td><td>53%</td><td>0.71</td></tr><tr><td>17</td><td>POC-English-disAmb</td><td>R=6-Weight=6:R-mst-weight=+1:R</td><td> --- </td><td> --- </td><td>none</td><td>dILEd</td><td>39</td><td> --- </td><td>63%</td><td>46%</td><td>0.74</td></tr><tr><td>18</td><td>POC-English-disAmb</td><td>R=6-Weight=6:R-mst-weight=+1:R</td><td> --- </td><td> --- </td><td>rules</td><td>dILEd</td><td>36</td><td> --- </td><td>68%</td><td>51%</td><td>0.74</td></tr><tr><td>19</td><td>POC-English-disAmb</td><td>R=6-Weight=6:R-mst-weight=+1:R-agm-opt</td><td> --- </td><td> --- </td><td>none</td><td>dILEd</td><td>42</td><td> --- </td><td>62%</td><td>45%</td><td>0.73</td></tr><tr><td>20</td><td>POC-English-disAmb</td><td>R=6-Weight=6:R-mst-weight=+1:R-agm-opt</td><td> --- </td><td> --- </td><td>rules</td><td>dILEd</td><td>36</td><td> --- </td><td>71%</td><td>52%</td><td>0.73</td></tr><tr><td>21</td><td>POC-English-disAmb</td><td>R=6-Weight=6:R-mst-weight=+1:R-agm-100</td><td> --- </td><td> --- </td><td>none</td><td>dILEd</td><td>61</td><td> --- </td><td>72%</td><td>50%</td><td>0.7</td></tr><tr><td>22</td><td>POC-English-disAmb</td><td>R=6-Weight=6:R-mst-weight=+1:R-agm-100</td><td> --- </td><td> --- </td><td>rules</td><td>dILEd</td><td>55</td><td> --- </td><td>72%</td><td>50%</td><td>0.7</td></tr><tr><td>23</td><td>POC-English-Amb</td><td>R=6-Weight=1-mst-weight=+1:R</td><td> --- </td><td> --- </td><td>none</td><td>dILEd</td><td>39</td><td> --- </td><td>53%</td><td>42%</td><td>0.8</td></tr><tr><td>24</td><td>POC-English-disAmb</td><td>R=6-Weight=1-mst-weight=+1:R</td><td> --- </td><td> --- </td><td>none</td><td>dILEd</td><td>41</td><td> --- </td><td>47%</td><td>38%</td><td>0.8</td></tr><tr><td>25</td><td>POC-English-disAmb</td><td>R=6-Weight=1-mst-weight=+1:R-agm-opt</td><td> --- </td><td> --- </td><td>none</td><td>dILEd</td><td>44</td><td> --- </td><td>46%</td><td>36%</td><td>0.78</td></tr><tr><td>26</td><td>POC-English-disAmb</td><td>R=6-Weight=1-mst-weight=+1:R-agm-100</td><td> --- </td><td> --- </td><td>none</td><td>dILEd</td><td>59</td><td> --- </td><td>94%</td><td>66%</td><td>0.69</td></tr><tr><td>27</td><td>POC-English-Amb</td><td>LG-ANY-all-parses</td><td> --- </td><td> --- </td><td>none</td><td>dILEd</td><td>38</td><td> --- </td><td>74%</td><td>52%</td><td>0.7</td></tr><tr><td>28</td><td>POC-English-disAmb</td><td>LG-ANY-all-parses</td><td> --- </td><td> --- </td><td>none</td><td>dILEd</td><td>39</td><td> --- </td><td>65%</td><td>50%</td><td>0.76</td></tr><tr><td>29</td><td>POC-English-disAmb</td><td>LG-ANY-all-parses-agm-opt</td><td> --- </td><td> --- </td><td>none</td><td>dILEd</td><td>42</td><td> --- </td><td>63%</td><td>49%</td><td>0.78</td></tr><tr><td>30</td><td>POC-English-disAmb</td><td>LG-ANY-all-parses-agm-100</td><td> --- </td><td> --- </td><td>none</td><td>dILEd</td><td>61</td><td> --- </td><td>91%</td><td>65%</td><td>0.71</td></tr></table>"
      ],
      "text/plain": [
       "<IPython.core.display.HTML object>"
      ]
     },
     "metadata": {},
     "output_type": "display_data"
    }
   ],
   "source": [
    "display(html_table([header]+average24))"
   ]
  },
  {
   "cell_type": "markdown",
   "metadata": {},
   "source": [
    "# All tests (all entries for multi-test `runs > (1.1)`)"
   ]
  },
  {
   "cell_type": "code",
   "execution_count": 11,
   "metadata": {
    "ExecuteTime": {
     "end_time": "2018-10-18T09:57:36.994942Z",
     "start_time": "2018-10-18T09:57:36.987297Z"
    }
   },
   "outputs": [
    {
     "data": {
      "text/html": [
       "<table><tr><td>Line</td><td>Corpus</td><td>Parsing</td><td>LW</td><td>RW</td><td>Gen.</td><td>Space</td><td>Rules</td><td>Silhouette</td><td>PA</td><td>PQ</td><td>PQ/PA</td></tr><tr><td>11</td><td>POC-English-Amb</td><td>MST-fixed-manually</td><td> --- </td><td> --- </td><td>none</td><td>cDRKc</td><td> 30 </td><td>0.26</td><td>73%</td><td>65%</td><td>0.89</td></tr><tr><td>13</td><td>POC-English-Amb</td><td>LG-English</td><td> --- </td><td> --- </td><td>none</td><td>cDRKc</td><td> 31 </td><td>0.28</td><td>72%</td><td>63%</td><td>0.87</td></tr><tr><td>15</td><td>POC-English-Amb</td><td>R=6-Weight=6:R-mst-weight=+1:R</td><td> --- </td><td> --- </td><td>none</td><td>cDRKc</td><td> 28 </td><td>0.24</td><td>86%</td><td>54%</td><td>0.63</td></tr><tr><td>17</td><td>POC-English-disAmb</td><td>R=6-Weight=6:R-mst-weight=+1:R</td><td> --- </td><td> --- </td><td>none</td><td>cDRKc</td><td> 29 </td><td>0.25</td><td>86%</td><td>54%</td><td>0.63</td></tr><tr><td>19</td><td>POC-English-disAmb</td><td>R=6-Weight=6:R-mst-weight=+1:R-agm-opt</td><td> --- </td><td> --- </td><td>none</td><td>cDRKc</td><td> 30 </td><td>0.23</td><td>90%</td><td>58%</td><td>0.64</td></tr><tr><td>21</td><td>POC-English-disAmb</td><td>R=6-Weight=6:R-mst-weight=+1:R-agm-100</td><td> --- </td><td> --- </td><td>none</td><td>cDRKc</td><td> 41 </td><td>0.14</td><td>92%</td><td>62%</td><td>0.68</td></tr><tr><td>23</td><td>POC-English-Amb</td><td>R=6-Weight=1-mst-weight=+1:R</td><td> --- </td><td> --- </td><td>none</td><td>cDRKc</td><td> 19 </td><td>0.21</td><td>86%</td><td>56%</td><td>0.65</td></tr><tr><td>24</td><td>POC-English-disAmb</td><td>R=6-Weight=1-mst-weight=+1:R</td><td> --- </td><td> --- </td><td>none</td><td>cDRKc</td><td> 24 </td><td>0.2</td><td>85%</td><td>57%</td><td>0.67</td></tr><tr><td>25</td><td>POC-English-disAmb</td><td>R=6-Weight=1-mst-weight=+1:R-agm-opt</td><td> --- </td><td> --- </td><td>none</td><td>cDRKc</td><td> 24 </td><td>0.18</td><td>89%</td><td>57%</td><td>0.64</td></tr><tr><td>26</td><td>POC-English-disAmb</td><td>R=6-Weight=1-mst-weight=+1:R-agm-100</td><td> --- </td><td> --- </td><td>none</td><td>cDRKc</td><td> 38 </td><td>0.17</td><td>94%</td><td>64%</td><td>0.69</td></tr><tr><td>27</td><td>POC-English-Amb</td><td>LG-ANY-all-parses</td><td> --- </td><td> --- </td><td>none</td><td>cDRKc</td><td> 22 </td><td>0.25</td><td>90%</td><td>59%</td><td>0.65</td></tr><tr><td>28</td><td>POC-English-disAmb</td><td>LG-ANY-all-parses</td><td> --- </td><td> --- </td><td>none</td><td>cDRKc</td><td> 25 </td><td>0.28</td><td>88%</td><td>57%</td><td>0.65</td></tr><tr><td>29</td><td>POC-English-disAmb</td><td>LG-ANY-all-parses-agm-opt</td><td> --- </td><td> --- </td><td>none</td><td>cDRKc</td><td> 24 </td><td>0.28</td><td>90%</td><td>58%</td><td>0.65</td></tr><tr><td>30</td><td>POC-English-disAmb</td><td>LG-ANY-all-parses-agm-100</td><td> --- </td><td> --- </td><td>none</td><td>cDRKc</td><td> 36 </td><td>0.15</td><td>94%</td><td>65%</td><td>0.69</td></tr><tr><td>11</td><td>POC-English-Amb</td><td>MST-fixed-manually</td><td> --- </td><td> --- </td><td>none</td><td>cDRKd</td><td> 30 </td><td>0.26</td><td>46%</td><td>41%</td><td>0.88</td></tr><tr><td>12</td><td>POC-English-Amb</td><td>MST-fixed-manually</td><td> --- </td><td> --- </td><td>rules</td><td>cDRKd</td><td> 26 </td><td>0.26</td><td>65%</td><td>59%</td><td>0.9</td></tr><tr><td>13</td><td>POC-English-Amb</td><td>LG-English</td><td> --- </td><td> --- </td><td>none</td><td>cDRKd</td><td> 31 </td><td>0.28</td><td>36%</td><td>33%</td><td>0.9</td></tr><tr><td>14</td><td>POC-English-Amb</td><td>LG-English</td><td> --- </td><td> --- </td><td>rules</td><td>cDRKd</td><td> 27 </td><td>0.28</td><td>36%</td><td>33%</td><td>0.9</td></tr><tr><td>15</td><td>POC-English-Amb</td><td>R=6-Weight=6:R-mst-weight=+1:R</td><td> --- </td><td> --- </td><td>none</td><td>cDRKd</td><td> 29 </td><td>0.24</td><td>69%</td><td>48%</td><td>0.7</td></tr><tr><td>16</td><td>POC-English-Amb</td><td>R=6-Weight=6:R-mst-weight=+1:R</td><td> --- </td><td> --- </td><td>rules</td><td>cDRKd</td><td> 26 </td><td>0.24</td><td>75%</td><td>52%</td><td>0.7</td></tr><tr><td>17</td><td>POC-English-disAmb</td><td>R=6-Weight=6:R-mst-weight=+1:R</td><td> --- </td><td> --- </td><td>none</td><td>cDRKd</td><td> 29 </td><td>0.25</td><td>70%</td><td>50%</td><td>0.72</td></tr><tr><td>18</td><td>POC-English-disAmb</td><td>R=6-Weight=6:R-mst-weight=+1:R</td><td> --- </td><td> --- </td><td>rules</td><td>cDRKd</td><td> 28 </td><td>0.27</td><td>75%</td><td>53%</td><td>0.71</td></tr><tr><td>19</td><td>POC-English-disAmb</td><td>R=6-Weight=6:R-mst-weight=+1:R-agm-opt</td><td> --- </td><td> --- </td><td>none</td><td>cDRKd</td><td> 30 </td><td>0.23</td><td>74%</td><td>52%</td><td>0.71</td></tr><tr><td>20</td><td>POC-English-disAmb</td><td>R=6-Weight=6:R-mst-weight=+1:R-agm-opt</td><td> --- </td><td> --- </td><td>rules</td><td>cDRKd</td><td> 27 </td><td>0.23</td><td>78%</td><td>56%</td><td>0.71</td></tr><tr><td>21</td><td>POC-English-disAmb</td><td>R=6-Weight=6:R-mst-weight=+1:R-agm-100</td><td> --- </td><td> --- </td><td>none</td><td>cDRKd</td><td> 40 </td><td>0.13</td><td>95%</td><td>66%</td><td>0.69</td></tr><tr><td>22</td><td>POC-English-disAmb</td><td>R=6-Weight=6:R-mst-weight=+1:R-agm-100</td><td> --- </td><td> --- </td><td>rules</td><td>cDRKd</td><td> 40 </td><td>0.13</td><td>95%</td><td>66%</td><td>0.69</td></tr><tr><td>23</td><td>POC-English-Amb</td><td>R=6-Weight=1-mst-weight=+1:R</td><td> --- </td><td> --- </td><td>none</td><td>cDRKd</td><td> 21 </td><td>0.2</td><td>0%</td><td>0%</td><td>0.0</td></tr><tr><td>24</td><td>POC-English-disAmb</td><td>R=6-Weight=1-mst-weight=+1:R</td><td> --- </td><td> --- </td><td>none</td><td>cDRKd</td><td> 24 </td><td>0.2</td><td>65%</td><td>48%</td><td>0.74</td></tr><tr><td>25</td><td>POC-English-disAmb</td><td>R=6-Weight=1-mst-weight=+1:R-agm-opt</td><td> --- </td><td> --- </td><td>none</td><td>cDRKd</td><td> 24 </td><td>0.18</td><td>74%</td><td>51%</td><td>0.69</td></tr><tr><td>26</td><td>POC-English-disAmb</td><td>R=6-Weight=1-mst-weight=+1:R-agm-100</td><td> --- </td><td> --- </td><td>none</td><td>cDRKd</td><td> 39 </td><td>0.19</td><td>97%</td><td>68%</td><td>0.71</td></tr><tr><td>27</td><td>POC-English-Amb</td><td>LG-ANY-all-parses</td><td> --- </td><td> --- </td><td>none</td><td>cDRKd</td><td> 22 </td><td>0.25</td><td>87%</td><td>59%</td><td>0.68</td></tr><tr><td>28</td><td>POC-English-disAmb</td><td>LG-ANY-all-parses</td><td> --- </td><td> --- </td><td>none</td><td>cDRKd</td><td> 26 </td><td>0.28</td><td>81%</td><td>59%</td><td>0.73</td></tr><tr><td>29</td><td>POC-English-disAmb</td><td>LG-ANY-all-parses-agm-opt</td><td> --- </td><td> --- </td><td>none</td><td>cDRKd</td><td> 25 </td><td>0.27</td><td>84%</td><td>60%</td><td>0.72</td></tr><tr><td>30</td><td>POC-English-disAmb</td><td>LG-ANY-all-parses-agm-100</td><td> --- </td><td> --- </td><td>none</td><td>cDRKd</td><td> 36 </td><td>0.15</td><td>100%</td><td>70%</td><td>0.7</td></tr><tr><td>11</td><td>POC-English-Amb</td><td>MST-fixed-manually</td><td> --- </td><td> --- </td><td>none</td><td>dDRKd</td><td> 27 </td><td>0.26</td><td>38%</td><td>33%</td><td>0.86</td></tr><tr><td>12</td><td>POC-English-Amb</td><td>MST-fixed-manually</td><td> --- </td><td> --- </td><td>rules</td><td>dDRKd</td><td> 27 </td><td>0.25</td><td>40%</td><td>34%</td><td>0.84</td></tr><tr><td>13</td><td>POC-English-Amb</td><td>LG-English</td><td> --- </td><td> --- </td><td>none</td><td>dDRKd</td><td> 4 </td><td>0.61</td><td>86%</td><td>64%</td><td>0.75</td></tr><tr><td>14</td><td>POC-English-Amb</td><td>LG-English</td><td> --- </td><td> --- </td><td>rules</td><td>dDRKd</td><td> 4 </td><td>0.61</td><td>89%</td><td>66%</td><td>0.74</td></tr><tr><td>15</td><td>POC-English-Amb</td><td>R=6-Weight=6:R-mst-weight=+1:R</td><td> --- </td><td> --- </td><td>none</td><td>dDRKd</td><td> 5 </td><td>0.48</td><td>95%</td><td>63%</td><td>0.67</td></tr><tr><td>16</td><td>POC-English-Amb</td><td>R=6-Weight=6:R-mst-weight=+1:R</td><td> --- </td><td> --- </td><td>rules</td><td>dDRKd</td><td> 5 </td><td>0.48</td><td>95%</td><td>63%</td><td>0.67</td></tr><tr><td>17</td><td>POC-English-disAmb</td><td>R=6-Weight=6:R-mst-weight=+1:R</td><td> --- </td><td> --- </td><td>none</td><td>dDRKd</td><td> 35 </td><td>0.23</td><td>63%</td><td>46%</td><td>0.74</td></tr><tr><td>18</td><td>POC-English-disAmb</td><td>R=6-Weight=6:R-mst-weight=+1:R</td><td> --- </td><td> --- </td><td>rules</td><td>dDRKd</td><td> 34 </td><td>0.23</td><td>67%</td><td>51%</td><td>0.75</td></tr><tr><td>19</td><td>POC-English-disAmb</td><td>R=6-Weight=6:R-mst-weight=+1:R-agm-opt</td><td> --- </td><td> --- </td><td>none</td><td>dDRKd</td><td> 3 </td><td>0.46</td><td>99%</td><td>69%</td><td>0.69</td></tr><tr><td>20</td><td>POC-English-disAmb</td><td>R=6-Weight=6:R-mst-weight=+1:R-agm-opt</td><td> --- </td><td> --- </td><td>rules</td><td>dDRKd</td><td> 3 </td><td>0.46</td><td>99%</td><td>69%</td><td>0.69</td></tr><tr><td>21</td><td>POC-English-disAmb</td><td>R=6-Weight=6:R-mst-weight=+1:R-agm-100</td><td> --- </td><td> --- </td><td>none</td><td>dDRKd</td><td> 43 </td><td>0.08</td><td>80%</td><td>54%</td><td>0.68</td></tr><tr><td>22</td><td>POC-English-disAmb</td><td>R=6-Weight=6:R-mst-weight=+1:R-agm-100</td><td> --- </td><td> --- </td><td>rules</td><td>dDRKd</td><td> 38 </td><td>0.07</td><td>76%</td><td>51%</td><td>0.67</td></tr><tr><td>23</td><td>POC-English-Amb</td><td>R=6-Weight=1-mst-weight=+1:R</td><td> --- </td><td> --- </td><td>none</td><td>dDRKd</td><td> 20 </td><td>0.45</td><td>75%</td><td>55%</td><td>0.73</td></tr><tr><td>24</td><td>POC-English-disAmb</td><td>R=6-Weight=1-mst-weight=+1:R</td><td> --- </td><td> --- </td><td>none</td><td>dDRKd</td><td> 19 </td><td>0.43</td><td>65%</td><td>44%</td><td>0.68</td></tr><tr><td>25</td><td>POC-English-disAmb</td><td>R=6-Weight=1-mst-weight=+1:R-agm-opt</td><td> --- </td><td> --- </td><td>none</td><td>dDRKd</td><td> 31 </td><td>0.31</td><td>56%</td><td>40%</td><td>0.72</td></tr><tr><td>26</td><td>POC-English-disAmb</td><td>R=6-Weight=1-mst-weight=+1:R-agm-100</td><td> --- </td><td> --- </td><td>none</td><td>dDRKd</td><td> 44 </td><td>0.11</td><td>94%</td><td>67%</td><td>0.71</td></tr><tr><td>27</td><td>POC-English-Amb</td><td>LG-ANY-all-parses</td><td> --- </td><td> --- </td><td>none</td><td>dDRKd</td><td> 4 </td><td>0.79</td><td>99%</td><td>67%</td><td>0.68</td></tr><tr><td>28</td><td>POC-English-disAmb</td><td>LG-ANY-all-parses</td><td> --- </td><td> --- </td><td>none</td><td>dDRKd</td><td> 30 </td><td>0.24</td><td>67%</td><td>50%</td><td>0.75</td></tr><tr><td>29</td><td>POC-English-disAmb</td><td>LG-ANY-all-parses-agm-opt</td><td> --- </td><td> --- </td><td>none</td><td>dDRKd</td><td> 18 </td><td>0.21</td><td>0%</td><td>0%</td><td>0.0</td></tr><tr><td>30</td><td>POC-English-disAmb</td><td>LG-ANY-all-parses-agm-100</td><td> --- </td><td> --- </td><td>none</td><td>dDRKd</td><td> 42 </td><td>0.08</td><td>91%</td><td>65%</td><td>0.71</td></tr><tr><td>11</td><td>POC-English-Amb</td><td>MST-fixed-manually</td><td> --- </td><td> --- </td><td>none</td><td>dILEd</td><td> 37 </td><td> --- </td><td>36%</td><td>32%</td><td>0.9</td></tr><tr><td>12</td><td>POC-English-Amb</td><td>MST-fixed-manually</td><td> --- </td><td> --- </td><td>rules</td><td>dILEd</td><td> 28 </td><td> --- </td><td>0%</td><td>0%</td><td>0.0</td></tr><tr><td>13</td><td>POC-English-Amb</td><td>LG-English</td><td> --- </td><td> --- </td><td>none</td><td>dILEd</td><td> 37 </td><td> --- </td><td>32%</td><td>30%</td><td>0.92</td></tr><tr><td>14</td><td>POC-English-Amb</td><td>LG-English</td><td> --- </td><td> --- </td><td>rules</td><td>dILEd</td><td> 30 </td><td> --- </td><td>33%</td><td>30%</td><td>0.91</td></tr><tr><td>15</td><td>POC-English-Amb</td><td>R=6-Weight=6:R-mst-weight=+1:R</td><td> --- </td><td> --- </td><td>none</td><td>dILEd</td><td> 38 </td><td> --- </td><td>61%</td><td>44%</td><td>0.73</td></tr><tr><td>16</td><td>POC-English-Amb</td><td>R=6-Weight=6:R-mst-weight=+1:R</td><td> --- </td><td> --- </td><td>rules</td><td>dILEd</td><td> 34 </td><td> --- </td><td>75%</td><td>53%</td><td>0.71</td></tr><tr><td>17</td><td>POC-English-disAmb</td><td>R=6-Weight=6:R-mst-weight=+1:R</td><td> --- </td><td> --- </td><td>none</td><td>dILEd</td><td> 39 </td><td> --- </td><td>63%</td><td>46%</td><td>0.74</td></tr><tr><td>18</td><td>POC-English-disAmb</td><td>R=6-Weight=6:R-mst-weight=+1:R</td><td> --- </td><td> --- </td><td>rules</td><td>dILEd</td><td> 36 </td><td> --- </td><td>68%</td><td>51%</td><td>0.74</td></tr><tr><td>19</td><td>POC-English-disAmb</td><td>R=6-Weight=6:R-mst-weight=+1:R-agm-opt</td><td> --- </td><td> --- </td><td>none</td><td>dILEd</td><td> 42 </td><td> --- </td><td>62%</td><td>45%</td><td>0.73</td></tr><tr><td>20</td><td>POC-English-disAmb</td><td>R=6-Weight=6:R-mst-weight=+1:R-agm-opt</td><td> --- </td><td> --- </td><td>rules</td><td>dILEd</td><td> 36 </td><td> --- </td><td>71%</td><td>52%</td><td>0.73</td></tr><tr><td>21</td><td>POC-English-disAmb</td><td>R=6-Weight=6:R-mst-weight=+1:R-agm-100</td><td> --- </td><td> --- </td><td>none</td><td>dILEd</td><td> 61 </td><td> --- </td><td>72%</td><td>50%</td><td>0.7</td></tr><tr><td>22</td><td>POC-English-disAmb</td><td>R=6-Weight=6:R-mst-weight=+1:R-agm-100</td><td> --- </td><td> --- </td><td>rules</td><td>dILEd</td><td> 55 </td><td> --- </td><td>72%</td><td>50%</td><td>0.7</td></tr><tr><td>23</td><td>POC-English-Amb</td><td>R=6-Weight=1-mst-weight=+1:R</td><td> --- </td><td> --- </td><td>none</td><td>dILEd</td><td> 39 </td><td> --- </td><td>53%</td><td>42%</td><td>0.8</td></tr><tr><td>24</td><td>POC-English-disAmb</td><td>R=6-Weight=1-mst-weight=+1:R</td><td> --- </td><td> --- </td><td>none</td><td>dILEd</td><td> 41 </td><td> --- </td><td>47%</td><td>38%</td><td>0.8</td></tr><tr><td>25</td><td>POC-English-disAmb</td><td>R=6-Weight=1-mst-weight=+1:R-agm-opt</td><td> --- </td><td> --- </td><td>none</td><td>dILEd</td><td> 44 </td><td> --- </td><td>46%</td><td>36%</td><td>0.78</td></tr><tr><td>26</td><td>POC-English-disAmb</td><td>R=6-Weight=1-mst-weight=+1:R-agm-100</td><td> --- </td><td> --- </td><td>none</td><td>dILEd</td><td> 59 </td><td> --- </td><td>94%</td><td>66%</td><td>0.69</td></tr><tr><td>27</td><td>POC-English-Amb</td><td>LG-ANY-all-parses</td><td> --- </td><td> --- </td><td>none</td><td>dILEd</td><td> 38 </td><td> --- </td><td>74%</td><td>52%</td><td>0.7</td></tr><tr><td>28</td><td>POC-English-disAmb</td><td>LG-ANY-all-parses</td><td> --- </td><td> --- </td><td>none</td><td>dILEd</td><td> 39 </td><td> --- </td><td>65%</td><td>50%</td><td>0.76</td></tr><tr><td>29</td><td>POC-English-disAmb</td><td>LG-ANY-all-parses-agm-opt</td><td> --- </td><td> --- </td><td>none</td><td>dILEd</td><td> 42 </td><td> --- </td><td>63%</td><td>49%</td><td>0.78</td></tr><tr><td>30</td><td>POC-English-disAmb</td><td>LG-ANY-all-parses-agm-100</td><td> --- </td><td> --- </td><td>none</td><td>dILEd</td><td> 61 </td><td> --- </td><td>91%</td><td>65%</td><td>0.71</td></tr></table>"
      ],
      "text/plain": [
       "<IPython.core.display.HTML object>"
      ]
     },
     "metadata": {},
     "output_type": "display_data"
    }
   ],
   "source": [
    "display(html_table([header]+long_table))"
   ]
  },
  {
   "cell_type": "code",
   "execution_count": 12,
   "metadata": {
    "ExecuteTime": {
     "end_time": "2018-10-18T09:57:37.007299Z",
     "start_time": "2018-10-18T09:57:36.997538Z"
    }
   },
   "outputs": [
    {
     "name": "stdout",
     "output_type": "stream",
     "text": [
      "2018-10-18 09:57:36 UTC :: finished, elapsed 0.2 hours\n",
      "Results saved to /home/obaskov/py/language-learning/output/POC-English-2018-10-18/short_table.txt\n"
     ]
    }
   ],
   "source": [
    "print(UTC(), ':: finished, elapsed', str(round((time.time()-start)/3600, 1)), 'hours')\n",
    "table_str = list2file(table, out_dir+'/short_table.txt')\n",
    "if runs == (1,1):\n",
    "    print('Results saved to', out_dir + '/short_table.txt')\n",
    "else:\n",
    "    long_table_str = list2file(long_table, out_dir+'/long_table.txt')\n",
    "    print('Average results saved to', out_dir + '/short_table.txt\\n'\n",
    "          'Detailed results for every run saved to', out_dir + '/long_table.txt')"
   ]
  }
 ],
 "metadata": {
  "kernelspec": {
   "display_name": "Python 3",
   "language": "python",
   "name": "python3"
  },
  "language_info": {
   "codemirror_mode": {
    "name": "ipython",
    "version": 3
   },
   "file_extension": ".py",
   "mimetype": "text/x-python",
   "name": "python",
   "nbconvert_exporter": "python",
   "pygments_lexer": "ipython3",
   "version": "3.6.6"
  },
  "toc": {
   "base_numbering": 1,
   "nav_menu": {},
   "number_sections": true,
   "sideBar": true,
   "skip_h1_title": false,
   "title_cell": "Table of Contents",
   "title_sidebar": "Contents",
   "toc_cell": false,
   "toc_position": {},
   "toc_section_display": true,
   "toc_window_display": false
  }
 },
 "nbformat": 4,
 "nbformat_minor": 2
}
