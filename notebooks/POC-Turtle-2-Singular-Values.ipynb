{
 "cells": [
  {
   "cell_type": "markdown",
   "metadata": {},
   "source": [
    "# POC-Turtle word category learner, part 2. Singular Values.\n",
    "This is a continuation of part 1 of proof-of-concept (POC) experiments in unsupervised language learning (ULL).  \n",
    "The previous notebook is shared as a [static html page](http://88.99.210.144/data/clustering_2018/html/POC-Turtle-1-2018-02-09.html), code hosted on [GitHub](https://github.com/opencog/language-learning)"
   ]
  },
  {
   "cell_type": "code",
   "execution_count": 1,
   "metadata": {},
   "outputs": [
    {
     "name": "stdout",
     "output_type": "stream",
     "text": [
      "2018-02-17 16:37:55 UTC :: module_path: /home/oleg/language-learning\n"
     ]
    }
   ],
   "source": [
    "import os, sys, time, csv\n",
    "import numpy as np\n",
    "import pandas as pd\n",
    "import matplotlib.pyplot as plt\n",
    "%matplotlib inline\n",
    "from IPython.display import display\n",
    "module_path = os.path.abspath(os.path.join('..'))\n",
    "if module_path not in sys.path: sys.path.append(module_path)\n",
    "from src.utl.utl import UTC\n",
    "from src.space.turtle import dumb_parser, parses2vec\n",
    "from src.utl.turtle import save_txt_and_readme, html_table, readmes\n",
    "from src.clustering.kmeans import cluster_kmeans\n",
    "print(UTC(), ':: module_path:', module_path)"
   ]
  },
  {
   "cell_type": "markdown",
   "metadata": {},
   "source": [
    "## 2.1 Looking for optimal vector space dimensionality: Singular values"
   ]
  },
  {
   "cell_type": "code",
   "execution_count": 2,
   "metadata": {},
   "outputs": [
    {
     "name": "stdout",
     "output_type": "stream",
     "text": [
      "Data file found: /home/oleg/language-learning/data/poc-turtle-sentences.txt\n",
      "Project directory /home/oleg/language-learning/output/Turtle-2-2018-02-14/ exists\n"
     ]
    }
   ],
   "source": [
    "input_file = '../data/poc-turtle-sentences.txt'\n",
    "prj_dir = '../output/Turtle-2-2018-02-14/'  # project directory \n",
    "prefix = ''     # all project files will start with this prefix\n",
    "verbose = 'min' # printed comments: 'none', 'min', 'max'\n",
    "log = {'project': 'POC-Turtle-2: singular values'}\n",
    "\n",
    "if not os.path.isfile(input_file):\n",
    "    print('No data file', module_path + input_file[2:])\n",
    "else: print('Data file found:', module_path + input_file[2:])\n",
    "if not os.path.exists(prj_dir):\n",
    "    os.makedirs(prj_dir)\n",
    "    print('Project directory created:', module_path + prj_dir[2:])\n",
    "else: print('Project directory', module_path + prj_dir[2:], 'exists')\n",
    "if verbose == 'max': print(UTC(), log)\n",
    "log.update({'input_file': module_path + input_file[2:]})"
   ]
  },
  {
   "cell_type": "markdown",
   "metadata": {},
   "source": [
    "### 2.1.1 Check singular values"
   ]
  },
  {
   "cell_type": "code",
   "execution_count": 3,
   "metadata": {},
   "outputs": [
    {
     "name": "stdout",
     "output_type": "stream",
     "text": [
      "Singular values: 5.65, 5.29, 4.95, 4.67, 4.59, 3.49, 3.45, 0.19\n"
     ]
    },
    {
     "data": {
      "image/png": "[encoded data removed]",
      "text/plain": [
       "<matplotlib.figure.Figure at 0x7f51551ca128>"
      ]
     },
     "metadata": {},
     "output_type": "display_data"
    }
   ],
   "source": [
    "parses = dumb_parser(input_file, verbose)\n",
    "path = module_path + prj_dir[2:]    # path to store vectors\n",
    "tmpath = path # module_path + '/tmp/'  # path for temporary files\n",
    "dim = 8     # Vector space dimensions\n",
    "cds = 1.0   # Context distribution smoothing [default: 1.0]\n",
    "eig = 0.5   # Weighted exponent of the eigenvalue matrix [default: 0.5]\n",
    "neg = 1     # Number of negative samples, subtracts its log from PMI [default: 1] \n",
    "vdf,res1 = parses2vec(parses,path,tmpath,dim,cds,eig,neg,'none')\n",
    "log.update(res1)\n",
    "singular_values = pd.DataFrame(np.load(path+'svd.s.npy'),columns=['sv'])\n",
    "singular_values.index = range(1,len(singular_values)+1)\n",
    "print('Singular values:', \\\n",
    "      ', '.join(str(round(x,2)) for x in singular_values['sv']))\n",
    "singular_values\n",
    "plt.plot(singular_values.index, singular_values['sv'])\n",
    "plt.xlabel('Vector space dimension')\n",
    "plt.ylabel('Singilar value')\n",
    "plt.show()"
   ]
  },
  {
   "cell_type": "markdown",
   "metadata": {},
   "source": [
    "SVD algorithm cannot create the 9th dimension. \n",
    "The 8th singular value is much less than the previous 7 - does it mean that 7 dimensions are enough?"
   ]
  },
  {
   "cell_type": "markdown",
   "metadata": {},
   "source": [
    "### 2.1.2 Create 7-dimension word vector space"
   ]
  },
  {
   "cell_type": "code",
   "execution_count": 4,
   "metadata": {},
   "outputs": [
    {
     "data": {
      "text/html": [
       "<div>\n",
       "<style scoped>\n",
       "    .dataframe tbody tr th:only-of-type {\n",
       "        vertical-align: middle;\n",
       "    }\n",
       "\n",
       "    .dataframe tbody tr th {\n",
       "        vertical-align: top;\n",
       "    }\n",
       "\n",
       "    .dataframe thead th {\n",
       "        text-align: right;\n",
       "    }\n",
       "</style>\n",
       "<table border=\"1\" class=\"dataframe\">\n",
       "  <thead>\n",
       "    <tr style=\"text-align: right;\">\n",
       "      <th></th>\n",
       "      <th>word</th>\n",
       "      <th>1</th>\n",
       "      <th>2</th>\n",
       "      <th>3</th>\n",
       "      <th>4</th>\n",
       "      <th>5</th>\n",
       "      <th>6</th>\n",
       "      <th>7</th>\n",
       "    </tr>\n",
       "  </thead>\n",
       "  <tbody>\n",
       "    <tr>\n",
       "      <th>8</th>\n",
       "      <td>has</td>\n",
       "      <td>-0.72861</td>\n",
       "      <td>0.00000</td>\n",
       "      <td>-0.27295</td>\n",
       "      <td>0.00000</td>\n",
       "      <td>-0.01631</td>\n",
       "      <td>0.00000</td>\n",
       "      <td>0.62798</td>\n",
       "    </tr>\n",
       "    <tr>\n",
       "      <th>10</th>\n",
       "      <td>isa</td>\n",
       "      <td>-0.68847</td>\n",
       "      <td>0.00000</td>\n",
       "      <td>-0.18048</td>\n",
       "      <td>0.00000</td>\n",
       "      <td>-0.43633</td>\n",
       "      <td>0.00000</td>\n",
       "      <td>-0.55051</td>\n",
       "    </tr>\n",
       "    <tr>\n",
       "      <th>1</th>\n",
       "      <td>.</td>\n",
       "      <td>-0.40156</td>\n",
       "      <td>0.00000</td>\n",
       "      <td>0.89628</td>\n",
       "      <td>0.00000</td>\n",
       "      <td>0.18796</td>\n",
       "      <td>0.00000</td>\n",
       "      <td>-0.00972</td>\n",
       "    </tr>\n",
       "    <tr>\n",
       "      <th>0</th>\n",
       "      <td>###LEFT-WALL###</td>\n",
       "      <td>-0.25778</td>\n",
       "      <td>0.00000</td>\n",
       "      <td>-0.30456</td>\n",
       "      <td>0.00000</td>\n",
       "      <td>0.88007</td>\n",
       "      <td>0.00000</td>\n",
       "      <td>-0.25741</td>\n",
       "    </tr>\n",
       "    <tr>\n",
       "      <th>2</th>\n",
       "      <td>bird</td>\n",
       "      <td>0.00000</td>\n",
       "      <td>0.31233</td>\n",
       "      <td>0.00000</td>\n",
       "      <td>-0.77630</td>\n",
       "      <td>0.00000</td>\n",
       "      <td>0.54754</td>\n",
       "      <td>0.00000</td>\n",
       "    </tr>\n",
       "    <tr>\n",
       "      <th>4</th>\n",
       "      <td>extremity</td>\n",
       "      <td>0.00000</td>\n",
       "      <td>0.31233</td>\n",
       "      <td>0.00000</td>\n",
       "      <td>-0.77630</td>\n",
       "      <td>0.00000</td>\n",
       "      <td>0.54754</td>\n",
       "      <td>0.00000</td>\n",
       "    </tr>\n",
       "    <tr>\n",
       "      <th>7</th>\n",
       "      <td>fish</td>\n",
       "      <td>0.00000</td>\n",
       "      <td>0.31233</td>\n",
       "      <td>0.00000</td>\n",
       "      <td>-0.77630</td>\n",
       "      <td>0.00000</td>\n",
       "      <td>0.54754</td>\n",
       "      <td>0.00000</td>\n",
       "    </tr>\n",
       "    <tr>\n",
       "      <th>5</th>\n",
       "      <td>feather</td>\n",
       "      <td>0.00000</td>\n",
       "      <td>0.42149</td>\n",
       "      <td>0.00000</td>\n",
       "      <td>-0.55118</td>\n",
       "      <td>0.00000</td>\n",
       "      <td>-0.72010</td>\n",
       "      <td>0.00000</td>\n",
       "    </tr>\n",
       "    <tr>\n",
       "      <th>12</th>\n",
       "      <td>scale</td>\n",
       "      <td>0.00000</td>\n",
       "      <td>0.42149</td>\n",
       "      <td>0.00000</td>\n",
       "      <td>-0.55118</td>\n",
       "      <td>0.00000</td>\n",
       "      <td>-0.72010</td>\n",
       "      <td>0.00000</td>\n",
       "    </tr>\n",
       "    <tr>\n",
       "      <th>3</th>\n",
       "      <td>eagle</td>\n",
       "      <td>0.00000</td>\n",
       "      <td>0.83496</td>\n",
       "      <td>0.00000</td>\n",
       "      <td>0.50090</td>\n",
       "      <td>0.00000</td>\n",
       "      <td>0.22790</td>\n",
       "      <td>0.00000</td>\n",
       "    </tr>\n",
       "    <tr>\n",
       "      <th>9</th>\n",
       "      <td>herring</td>\n",
       "      <td>0.00000</td>\n",
       "      <td>0.83496</td>\n",
       "      <td>0.00000</td>\n",
       "      <td>0.50090</td>\n",
       "      <td>0.00000</td>\n",
       "      <td>0.22790</td>\n",
       "      <td>0.00000</td>\n",
       "    </tr>\n",
       "    <tr>\n",
       "      <th>11</th>\n",
       "      <td>parrot</td>\n",
       "      <td>0.00000</td>\n",
       "      <td>0.83496</td>\n",
       "      <td>0.00000</td>\n",
       "      <td>0.50090</td>\n",
       "      <td>0.00000</td>\n",
       "      <td>0.22790</td>\n",
       "      <td>0.00000</td>\n",
       "    </tr>\n",
       "    <tr>\n",
       "      <th>13</th>\n",
       "      <td>tuna</td>\n",
       "      <td>0.00000</td>\n",
       "      <td>0.83496</td>\n",
       "      <td>0.00000</td>\n",
       "      <td>0.50090</td>\n",
       "      <td>0.00000</td>\n",
       "      <td>0.22790</td>\n",
       "      <td>0.00000</td>\n",
       "    </tr>\n",
       "    <tr>\n",
       "      <th>6</th>\n",
       "      <td>fin</td>\n",
       "      <td>0.00000</td>\n",
       "      <td>0.84761</td>\n",
       "      <td>0.00000</td>\n",
       "      <td>-0.13343</td>\n",
       "      <td>0.00000</td>\n",
       "      <td>-0.51357</td>\n",
       "      <td>0.00000</td>\n",
       "    </tr>\n",
       "    <tr>\n",
       "      <th>14</th>\n",
       "      <td>wing</td>\n",
       "      <td>0.00000</td>\n",
       "      <td>0.84761</td>\n",
       "      <td>0.00000</td>\n",
       "      <td>-0.13343</td>\n",
       "      <td>0.00000</td>\n",
       "      <td>-0.51357</td>\n",
       "      <td>0.00000</td>\n",
       "    </tr>\n",
       "  </tbody>\n",
       "</table>\n",
       "</div>"
      ],
      "text/plain": [
       "               word        1        2        3        4        5        6  \\\n",
       "8               has -0.72861  0.00000 -0.27295  0.00000 -0.01631  0.00000   \n",
       "10              isa -0.68847  0.00000 -0.18048  0.00000 -0.43633  0.00000   \n",
       "1                 . -0.40156  0.00000  0.89628  0.00000  0.18796  0.00000   \n",
       "0   ###LEFT-WALL### -0.25778  0.00000 -0.30456  0.00000  0.88007  0.00000   \n",
       "2              bird  0.00000  0.31233  0.00000 -0.77630  0.00000  0.54754   \n",
       "4         extremity  0.00000  0.31233  0.00000 -0.77630  0.00000  0.54754   \n",
       "7              fish  0.00000  0.31233  0.00000 -0.77630  0.00000  0.54754   \n",
       "5           feather  0.00000  0.42149  0.00000 -0.55118  0.00000 -0.72010   \n",
       "12            scale  0.00000  0.42149  0.00000 -0.55118  0.00000 -0.72010   \n",
       "3             eagle  0.00000  0.83496  0.00000  0.50090  0.00000  0.22790   \n",
       "9           herring  0.00000  0.83496  0.00000  0.50090  0.00000  0.22790   \n",
       "11           parrot  0.00000  0.83496  0.00000  0.50090  0.00000  0.22790   \n",
       "13             tuna  0.00000  0.83496  0.00000  0.50090  0.00000  0.22790   \n",
       "6               fin  0.00000  0.84761  0.00000 -0.13343  0.00000 -0.51357   \n",
       "14             wing  0.00000  0.84761  0.00000 -0.13343  0.00000 -0.51357   \n",
       "\n",
       "          7  \n",
       "8   0.62798  \n",
       "10 -0.55051  \n",
       "1  -0.00972  \n",
       "0  -0.25741  \n",
       "2   0.00000  \n",
       "4   0.00000  \n",
       "7   0.00000  \n",
       "5   0.00000  \n",
       "12  0.00000  \n",
       "3   0.00000  \n",
       "9   0.00000  \n",
       "11  0.00000  \n",
       "13  0.00000  \n",
       "6   0.00000  \n",
       "14  0.00000  "
      ]
     },
     "execution_count": 4,
     "metadata": {},
     "output_type": "execute_result"
    }
   ],
   "source": [
    "dim = 7\n",
    "vdf,res2 = parses2vec(parses,path,tmpath,dim,cds,eig,neg,'none')\n",
    "zdf = vdf.copy()\n",
    "cols = zdf.columns.tolist()\n",
    "del zdf['word']\n",
    "def zeros(x):\n",
    "    if abs(x) > 1e-10: return round(x,5)\n",
    "    else: return 0\n",
    "zdf = zdf.applymap(zeros)\n",
    "zdf['word'] = vdf['word']\n",
    "zdf = zdf[cols]\n",
    "zdf.sort_values(by=[1,2], ascending=[True,True])"
   ]
  },
  {
   "cell_type": "markdown",
   "metadata": {},
   "source": [
    "**Wow!**: Axis 1 and 2 have separated nouns (axis 1 ~ 0) and \"not-nouns\" - the group including verbs, period and ###LEFT-WALL###. Moreover, the nouns are naturally clustered along the '2' axis in 4 clusters with the same values!"
   ]
  },
  {
   "cell_type": "markdown",
   "metadata": {},
   "source": [
    "### 2.1.3 Cluster words in 7-dim space with \"natural\" clusters\n",
    "Looking at the first two columns of the previuos table (1 and 2) one can see \"natural\" clusters - 8 groups of words with the same values along axes 1 and 2. Let's check clustering with K-Means algoritm with the number of clusters parameter set to 8."
   ]
  },
  {
   "cell_type": "code",
   "execution_count": 6,
   "metadata": {},
   "outputs": [
    {
     "data": {
      "text/html": [
       "<div>\n",
       "<style scoped>\n",
       "    .dataframe tbody tr th:only-of-type {\n",
       "        vertical-align: middle;\n",
       "    }\n",
       "\n",
       "    .dataframe tbody tr th {\n",
       "        vertical-align: top;\n",
       "    }\n",
       "\n",
       "    .dataframe thead th {\n",
       "        text-align: right;\n",
       "    }\n",
       "</style>\n",
       "<table border=\"1\" class=\"dataframe\">\n",
       "  <thead>\n",
       "    <tr style=\"text-align: right;\">\n",
       "      <th></th>\n",
       "      <th>1</th>\n",
       "      <th>2</th>\n",
       "      <th>3</th>\n",
       "      <th>4</th>\n",
       "      <th>5</th>\n",
       "      <th>6</th>\n",
       "      <th>7</th>\n",
       "      <th>cluster_words</th>\n",
       "      <th>cluster</th>\n",
       "    </tr>\n",
       "  </thead>\n",
       "  <tbody>\n",
       "    <tr>\n",
       "      <th>1</th>\n",
       "      <td>0.00000</td>\n",
       "      <td>0.42149</td>\n",
       "      <td>0.00000</td>\n",
       "      <td>-0.55118</td>\n",
       "      <td>0.00000</td>\n",
       "      <td>-0.72010</td>\n",
       "      <td>0.00000</td>\n",
       "      <td>[feather, scale]</td>\n",
       "      <td>1</td>\n",
       "    </tr>\n",
       "    <tr>\n",
       "      <th>2</th>\n",
       "      <td>0.00000</td>\n",
       "      <td>0.83496</td>\n",
       "      <td>0.00000</td>\n",
       "      <td>0.50090</td>\n",
       "      <td>0.00000</td>\n",
       "      <td>0.22790</td>\n",
       "      <td>0.00000</td>\n",
       "      <td>[eagle, herring, parrot, tuna]</td>\n",
       "      <td>2</td>\n",
       "    </tr>\n",
       "    <tr>\n",
       "      <th>3</th>\n",
       "      <td>0.00000</td>\n",
       "      <td>0.31233</td>\n",
       "      <td>0.00000</td>\n",
       "      <td>-0.77630</td>\n",
       "      <td>0.00000</td>\n",
       "      <td>0.54754</td>\n",
       "      <td>0.00000</td>\n",
       "      <td>[bird, extremity, fish]</td>\n",
       "      <td>3</td>\n",
       "    </tr>\n",
       "    <tr>\n",
       "      <th>4</th>\n",
       "      <td>-0.72861</td>\n",
       "      <td>0.00000</td>\n",
       "      <td>-0.27295</td>\n",
       "      <td>0.00000</td>\n",
       "      <td>-0.01631</td>\n",
       "      <td>0.00000</td>\n",
       "      <td>0.62798</td>\n",
       "      <td>[has]</td>\n",
       "      <td>4</td>\n",
       "    </tr>\n",
       "    <tr>\n",
       "      <th>5</th>\n",
       "      <td>-0.25778</td>\n",
       "      <td>0.00000</td>\n",
       "      <td>-0.30456</td>\n",
       "      <td>0.00000</td>\n",
       "      <td>0.88007</td>\n",
       "      <td>0.00000</td>\n",
       "      <td>-0.25741</td>\n",
       "      <td>[###LEFT-WALL###]</td>\n",
       "      <td>5</td>\n",
       "    </tr>\n",
       "    <tr>\n",
       "      <th>6</th>\n",
       "      <td>-0.40156</td>\n",
       "      <td>0.00000</td>\n",
       "      <td>0.89628</td>\n",
       "      <td>0.00000</td>\n",
       "      <td>0.18796</td>\n",
       "      <td>0.00000</td>\n",
       "      <td>-0.00972</td>\n",
       "      <td>[.]</td>\n",
       "      <td>6</td>\n",
       "    </tr>\n",
       "    <tr>\n",
       "      <th>7</th>\n",
       "      <td>-0.68847</td>\n",
       "      <td>0.00000</td>\n",
       "      <td>-0.18048</td>\n",
       "      <td>0.00000</td>\n",
       "      <td>-0.43633</td>\n",
       "      <td>0.00000</td>\n",
       "      <td>-0.55051</td>\n",
       "      <td>[isa]</td>\n",
       "      <td>7</td>\n",
       "    </tr>\n",
       "    <tr>\n",
       "      <th>8</th>\n",
       "      <td>0.00000</td>\n",
       "      <td>0.84761</td>\n",
       "      <td>0.00000</td>\n",
       "      <td>-0.13343</td>\n",
       "      <td>0.00000</td>\n",
       "      <td>-0.51357</td>\n",
       "      <td>0.00000</td>\n",
       "      <td>[fin, wing]</td>\n",
       "      <td>8</td>\n",
       "    </tr>\n",
       "  </tbody>\n",
       "</table>\n",
       "</div>"
      ],
      "text/plain": [
       "         1        2        3        4        5        6        7  \\\n",
       "1  0.00000  0.42149  0.00000 -0.55118  0.00000 -0.72010  0.00000   \n",
       "2  0.00000  0.83496  0.00000  0.50090  0.00000  0.22790  0.00000   \n",
       "3  0.00000  0.31233  0.00000 -0.77630  0.00000  0.54754  0.00000   \n",
       "4 -0.72861  0.00000 -0.27295  0.00000 -0.01631  0.00000  0.62798   \n",
       "5 -0.25778  0.00000 -0.30456  0.00000  0.88007  0.00000 -0.25741   \n",
       "6 -0.40156  0.00000  0.89628  0.00000  0.18796  0.00000 -0.00972   \n",
       "7 -0.68847  0.00000 -0.18048  0.00000 -0.43633  0.00000 -0.55051   \n",
       "8  0.00000  0.84761  0.00000 -0.13343  0.00000 -0.51357  0.00000   \n",
       "\n",
       "                    cluster_words  cluster  \n",
       "1                [feather, scale]        1  \n",
       "2  [eagle, herring, parrot, tuna]        2  \n",
       "3         [bird, extremity, fish]        3  \n",
       "4                           [has]        4  \n",
       "5               [###LEFT-WALL###]        5  \n",
       "6                             [.]        6  \n",
       "7                           [isa]        7  \n",
       "8                     [fin, wing]        8  "
      ]
     },
     "execution_count": 6,
     "metadata": {},
     "output_type": "execute_result"
    }
   ],
   "source": [
    "n = 8  # Number of clusters\n",
    "words = vdf['word'].tolist()\n",
    "df = vdf.loc[:,[1,2,3,4,5,6,7]]\n",
    "silhouette, inertia, cluster_labels, centroids, cluster_sizes, \\\n",
    "    cluster_word_ids, cluster_words = cluster_kmeans(n, df, words)\n",
    "cdf = pd.DataFrame(centroids)\n",
    "def row_index(row): return int(row.name)\n",
    "def cluster_word_list(row): return cluster_words[int(row.name)]\n",
    "cls = cdf.applymap(zeros)\n",
    "cls['cluster_words'] = cls.apply(cluster_word_list, axis=1)\n",
    "cls.index = range(1,len(cls)+1)\n",
    "cls['cluster'] = cls.apply(row_index, axis=1)\n",
    "for col in cls.columns:\n",
    "    if type(col) == int: cls=cls.rename(columns={col:col+11})\n",
    "for col in cls.columns:\n",
    "    if type(col) == int: cls=cls.rename(columns={col:col-10})\n",
    "cls"
   ]
  },
  {
   "cell_type": "code",
   "execution_count": 7,
   "metadata": {},
   "outputs": [
    {
     "name": "stdout",
     "output_type": "stream",
     "text": [
      "Clusters in vector space, axes 1 and 2\n"
     ]
    },
    {
     "data": {
      "image/png": "[encoded data removed]",
      "text/plain": [
       "<matplotlib.figure.Figure at 0x7f514c946160>"
      ]
     },
     "metadata": {},
     "output_type": "display_data"
    }
   ],
   "source": [
    "def plot2d(i, j, df, label='', f=15):\n",
    "    if label == 'cluster_words': header = 'Clusters'\n",
    "    else: header = 'Words'\n",
    "    print(header, 'in vector space, axes', i, 'and', j)\n",
    "    font = {'size': f}\n",
    "    plt.rc('font', **font)\n",
    "    plt.figure(figsize=(9,6))\n",
    "    plt.scatter(df[i].values, df[j].values)\n",
    "    #plt.axis('off')\n",
    "    plt.xlim(round(df[i].min()-0.2,1), round(df[i].max()+0.1,1))\n",
    "    plt.ylim(round(df[j].min()-0.1,1), round(df[j].max()+0.2,1))\n",
    "    k = df.index.min()  # ~ 1st row index (usually 0 or 1)\n",
    "    for n, wlst in enumerate(df[label]):\n",
    "        x, y = df[i][n+k], df[j][n+k]\n",
    "        plt.scatter(x, y)\n",
    "        annot = {'has': (1, 50), 'is': (1, 5)}\n",
    "        plt.annotate(wlst, xy=(x, y),\n",
    "            xytext=annot.get(' '.join(w for w in wlst),(1+n*2, 6*n)), \n",
    "            textcoords='offset points', ha='right', va='bottom', )\n",
    "    #plt.show()\n",
    "plot2d(1,2,cls,'cluster_words',15)"
   ]
  },
  {
   "cell_type": "markdown",
   "metadata": {},
   "source": [
    "**Great!** 2D word space gives quite a lot of information on word categories.  \n",
    "Now let's get more from the other dimensions, plotting in 2D even and odd dimensions:"
   ]
  },
  {
   "cell_type": "code",
   "execution_count": 8,
   "metadata": {},
   "outputs": [
    {
     "name": "stdout",
     "output_type": "stream",
     "text": [
      "Clusters in vector space, axes 1 and 3\n"
     ]
    },
    {
     "data": {
      "image/png": "[encoded data removed]",
      "text/plain": [
       "<matplotlib.figure.Figure at 0x7f5155415f98>"
      ]
     },
     "metadata": {},
     "output_type": "display_data"
    }
   ],
   "source": [
    "plot2d(1, 3, cls, 'cluster_words', 15)"
   ]
  },
  {
   "cell_type": "code",
   "execution_count": 9,
   "metadata": {},
   "outputs": [
    {
     "name": "stdout",
     "output_type": "stream",
     "text": [
      "Clusters in vector space, axes 2 and 4\n"
     ]
    },
    {
     "data": {
      "image/png": "[encoded data removed]",
      "text/plain": [
       "<matplotlib.figure.Figure at 0x7f514c98a588>"
      ]
     },
     "metadata": {},
     "output_type": "display_data"
    }
   ],
   "source": [
    "plot2d(2, 4, cls, 'cluster_words', 15)"
   ]
  },
  {
   "cell_type": "markdown",
   "metadata": {},
   "source": [
    "## 2.2 Words in 7-dim vector space"
   ]
  },
  {
   "cell_type": "code",
   "execution_count": 10,
   "metadata": {},
   "outputs": [
    {
     "name": "stdout",
     "output_type": "stream",
     "text": [
      "Words in vector space, axes 1 and 2\n"
     ]
    },
    {
     "data": {
      "image/png": "[encoded data removed]",
      "text/plain": [
       "<matplotlib.figure.Figure at 0x7f514c005748>"
      ]
     },
     "metadata": {},
     "output_type": "display_data"
    }
   ],
   "source": [
    "plot2d(1, 2, zdf, 'word', 12)"
   ]
  },
  {
   "cell_type": "markdown",
   "metadata": {},
   "source": [
    "Word spacial distibution in the first two axes 2D space look the same as the cluster pattern above."
   ]
  },
  {
   "cell_type": "markdown",
   "metadata": {},
   "source": [
    "### 2.2.1 Nouns: zero even axes "
   ]
  },
  {
   "cell_type": "code",
   "execution_count": 11,
   "metadata": {},
   "outputs": [
    {
     "data": {
      "text/html": [
       "<div>\n",
       "<style scoped>\n",
       "    .dataframe tbody tr th:only-of-type {\n",
       "        vertical-align: middle;\n",
       "    }\n",
       "\n",
       "    .dataframe tbody tr th {\n",
       "        vertical-align: top;\n",
       "    }\n",
       "\n",
       "    .dataframe thead th {\n",
       "        text-align: right;\n",
       "    }\n",
       "</style>\n",
       "<table border=\"1\" class=\"dataframe\">\n",
       "  <thead>\n",
       "    <tr style=\"text-align: right;\">\n",
       "      <th></th>\n",
       "      <th>word</th>\n",
       "      <th>1</th>\n",
       "      <th>2</th>\n",
       "      <th>3</th>\n",
       "      <th>4</th>\n",
       "      <th>5</th>\n",
       "      <th>6</th>\n",
       "      <th>7</th>\n",
       "    </tr>\n",
       "  </thead>\n",
       "  <tbody>\n",
       "    <tr>\n",
       "      <th>0</th>\n",
       "      <td>bird</td>\n",
       "      <td>0.0</td>\n",
       "      <td>0.31233</td>\n",
       "      <td>0.0</td>\n",
       "      <td>-0.77630</td>\n",
       "      <td>0.0</td>\n",
       "      <td>0.54754</td>\n",
       "      <td>0.0</td>\n",
       "    </tr>\n",
       "    <tr>\n",
       "      <th>1</th>\n",
       "      <td>extremity</td>\n",
       "      <td>0.0</td>\n",
       "      <td>0.31233</td>\n",
       "      <td>0.0</td>\n",
       "      <td>-0.77630</td>\n",
       "      <td>0.0</td>\n",
       "      <td>0.54754</td>\n",
       "      <td>0.0</td>\n",
       "    </tr>\n",
       "    <tr>\n",
       "      <th>2</th>\n",
       "      <td>fish</td>\n",
       "      <td>0.0</td>\n",
       "      <td>0.31233</td>\n",
       "      <td>0.0</td>\n",
       "      <td>-0.77630</td>\n",
       "      <td>0.0</td>\n",
       "      <td>0.54754</td>\n",
       "      <td>0.0</td>\n",
       "    </tr>\n",
       "    <tr>\n",
       "      <th>3</th>\n",
       "      <td>feather</td>\n",
       "      <td>0.0</td>\n",
       "      <td>0.42149</td>\n",
       "      <td>0.0</td>\n",
       "      <td>-0.55118</td>\n",
       "      <td>0.0</td>\n",
       "      <td>-0.72010</td>\n",
       "      <td>0.0</td>\n",
       "    </tr>\n",
       "    <tr>\n",
       "      <th>4</th>\n",
       "      <td>scale</td>\n",
       "      <td>0.0</td>\n",
       "      <td>0.42149</td>\n",
       "      <td>0.0</td>\n",
       "      <td>-0.55118</td>\n",
       "      <td>0.0</td>\n",
       "      <td>-0.72010</td>\n",
       "      <td>0.0</td>\n",
       "    </tr>\n",
       "    <tr>\n",
       "      <th>5</th>\n",
       "      <td>eagle</td>\n",
       "      <td>0.0</td>\n",
       "      <td>0.83496</td>\n",
       "      <td>0.0</td>\n",
       "      <td>0.50090</td>\n",
       "      <td>0.0</td>\n",
       "      <td>0.22790</td>\n",
       "      <td>0.0</td>\n",
       "    </tr>\n",
       "    <tr>\n",
       "      <th>6</th>\n",
       "      <td>herring</td>\n",
       "      <td>0.0</td>\n",
       "      <td>0.83496</td>\n",
       "      <td>0.0</td>\n",
       "      <td>0.50090</td>\n",
       "      <td>0.0</td>\n",
       "      <td>0.22790</td>\n",
       "      <td>0.0</td>\n",
       "    </tr>\n",
       "    <tr>\n",
       "      <th>7</th>\n",
       "      <td>parrot</td>\n",
       "      <td>0.0</td>\n",
       "      <td>0.83496</td>\n",
       "      <td>0.0</td>\n",
       "      <td>0.50090</td>\n",
       "      <td>0.0</td>\n",
       "      <td>0.22790</td>\n",
       "      <td>0.0</td>\n",
       "    </tr>\n",
       "    <tr>\n",
       "      <th>8</th>\n",
       "      <td>tuna</td>\n",
       "      <td>0.0</td>\n",
       "      <td>0.83496</td>\n",
       "      <td>0.0</td>\n",
       "      <td>0.50090</td>\n",
       "      <td>0.0</td>\n",
       "      <td>0.22790</td>\n",
       "      <td>0.0</td>\n",
       "    </tr>\n",
       "    <tr>\n",
       "      <th>9</th>\n",
       "      <td>fin</td>\n",
       "      <td>0.0</td>\n",
       "      <td>0.84761</td>\n",
       "      <td>0.0</td>\n",
       "      <td>-0.13343</td>\n",
       "      <td>0.0</td>\n",
       "      <td>-0.51357</td>\n",
       "      <td>0.0</td>\n",
       "    </tr>\n",
       "    <tr>\n",
       "      <th>10</th>\n",
       "      <td>wing</td>\n",
       "      <td>0.0</td>\n",
       "      <td>0.84761</td>\n",
       "      <td>0.0</td>\n",
       "      <td>-0.13343</td>\n",
       "      <td>0.0</td>\n",
       "      <td>-0.51357</td>\n",
       "      <td>0.0</td>\n",
       "    </tr>\n",
       "  </tbody>\n",
       "</table>\n",
       "</div>"
      ],
      "text/plain": [
       "         word    1        2    3        4    5        6    7\n",
       "0        bird  0.0  0.31233  0.0 -0.77630  0.0  0.54754  0.0\n",
       "1   extremity  0.0  0.31233  0.0 -0.77630  0.0  0.54754  0.0\n",
       "2        fish  0.0  0.31233  0.0 -0.77630  0.0  0.54754  0.0\n",
       "3     feather  0.0  0.42149  0.0 -0.55118  0.0 -0.72010  0.0\n",
       "4       scale  0.0  0.42149  0.0 -0.55118  0.0 -0.72010  0.0\n",
       "5       eagle  0.0  0.83496  0.0  0.50090  0.0  0.22790  0.0\n",
       "6     herring  0.0  0.83496  0.0  0.50090  0.0  0.22790  0.0\n",
       "7      parrot  0.0  0.83496  0.0  0.50090  0.0  0.22790  0.0\n",
       "8        tuna  0.0  0.83496  0.0  0.50090  0.0  0.22790  0.0\n",
       "9         fin  0.0  0.84761  0.0 -0.13343  0.0 -0.51357  0.0\n",
       "10       wing  0.0  0.84761  0.0 -0.13343  0.0 -0.51357  0.0"
      ]
     },
     "execution_count": 11,
     "metadata": {},
     "output_type": "execute_result"
    }
   ],
   "source": [
    "nouns = zdf.loc[abs(vdf[1])<1e-12].sort_values(by=[2], ascending=True).copy()\n",
    "nouns.index = range(0, len(nouns))\n",
    "nouns #.loc[:,['word',1,2,4,6]]"
   ]
  },
  {
   "cell_type": "markdown",
   "metadata": {},
   "source": [
    "**Wow!** The nouns are naturally clustered: 4 clear clusters with **same** values on odd axes 2,4,6! We have seen above, that nouns are situated along the 2nd axis and can be clustered by the its value. Additional axes can help separate the nouns in space and explore similarity using cosine distance or other spacial metrics."
   ]
  },
  {
   "cell_type": "code",
   "execution_count": 12,
   "metadata": {},
   "outputs": [
    {
     "name": "stdout",
     "output_type": "stream",
     "text": [
      "Words in vector space, axes 2 and 4\n"
     ]
    },
    {
     "data": {
      "image/png": "[encoded data removed]",
      "text/plain": [
       "<matplotlib.figure.Figure at 0x7f514c031080>"
      ]
     },
     "metadata": {},
     "output_type": "display_data"
    }
   ],
   "source": [
    "plot2d(2,4,nouns,'word',12)"
   ]
  },
  {
   "cell_type": "code",
   "execution_count": 13,
   "metadata": {},
   "outputs": [
    {
     "name": "stdout",
     "output_type": "stream",
     "text": [
      "Words in vector space, axes 4 and 6\n"
     ]
    },
    {
     "data": {
      "image/png": "[encoded data removed]",
      "text/plain": [
       "<matplotlib.figure.Figure at 0x7f514bfa7160>"
      ]
     },
     "metadata": {},
     "output_type": "display_data"
    }
   ],
   "source": [
    "plot2d(4,6,nouns,'word',12)"
   ]
  },
  {
   "cell_type": "markdown",
   "metadata": {},
   "source": [
    "### 2.2.2 \"Not-nouns\": 2 verbs, ##LEFT-WALL## and period -- non-zero even axes and zero odd axes"
   ]
  },
  {
   "cell_type": "code",
   "execution_count": 14,
   "metadata": {},
   "outputs": [
    {
     "name": "stdout",
     "output_type": "stream",
     "text": [
      "Words in vector space, axes 1 and 3\n"
     ]
    },
    {
     "data": {
      "text/html": [
       "<div>\n",
       "<style scoped>\n",
       "    .dataframe tbody tr th:only-of-type {\n",
       "        vertical-align: middle;\n",
       "    }\n",
       "\n",
       "    .dataframe tbody tr th {\n",
       "        vertical-align: top;\n",
       "    }\n",
       "\n",
       "    .dataframe thead th {\n",
       "        text-align: right;\n",
       "    }\n",
       "</style>\n",
       "<table border=\"1\" class=\"dataframe\">\n",
       "  <thead>\n",
       "    <tr style=\"text-align: right;\">\n",
       "      <th></th>\n",
       "      <th>word</th>\n",
       "      <th>1</th>\n",
       "      <th>2</th>\n",
       "      <th>3</th>\n",
       "      <th>4</th>\n",
       "      <th>5</th>\n",
       "      <th>6</th>\n",
       "      <th>7</th>\n",
       "    </tr>\n",
       "  </thead>\n",
       "  <tbody>\n",
       "    <tr>\n",
       "      <th>0</th>\n",
       "      <td>has</td>\n",
       "      <td>-0.72861</td>\n",
       "      <td>0.0</td>\n",
       "      <td>-0.27295</td>\n",
       "      <td>0.0</td>\n",
       "      <td>-0.01631</td>\n",
       "      <td>0.0</td>\n",
       "      <td>0.62798</td>\n",
       "    </tr>\n",
       "    <tr>\n",
       "      <th>1</th>\n",
       "      <td>isa</td>\n",
       "      <td>-0.68847</td>\n",
       "      <td>0.0</td>\n",
       "      <td>-0.18048</td>\n",
       "      <td>0.0</td>\n",
       "      <td>-0.43633</td>\n",
       "      <td>0.0</td>\n",
       "      <td>-0.55051</td>\n",
       "    </tr>\n",
       "    <tr>\n",
       "      <th>2</th>\n",
       "      <td>.</td>\n",
       "      <td>-0.40156</td>\n",
       "      <td>0.0</td>\n",
       "      <td>0.89628</td>\n",
       "      <td>0.0</td>\n",
       "      <td>0.18796</td>\n",
       "      <td>0.0</td>\n",
       "      <td>-0.00972</td>\n",
       "    </tr>\n",
       "    <tr>\n",
       "      <th>3</th>\n",
       "      <td>###LEFT-WALL###</td>\n",
       "      <td>-0.25778</td>\n",
       "      <td>0.0</td>\n",
       "      <td>-0.30456</td>\n",
       "      <td>0.0</td>\n",
       "      <td>0.88007</td>\n",
       "      <td>0.0</td>\n",
       "      <td>-0.25741</td>\n",
       "    </tr>\n",
       "  </tbody>\n",
       "</table>\n",
       "</div>"
      ],
      "text/plain": [
       "              word        1    2        3    4        5    6        7\n",
       "0              has -0.72861  0.0 -0.27295  0.0 -0.01631  0.0  0.62798\n",
       "1              isa -0.68847  0.0 -0.18048  0.0 -0.43633  0.0 -0.55051\n",
       "2                . -0.40156  0.0  0.89628  0.0  0.18796  0.0 -0.00972\n",
       "3  ###LEFT-WALL### -0.25778  0.0 -0.30456  0.0  0.88007  0.0 -0.25741"
      ]
     },
     "execution_count": 14,
     "metadata": {},
     "output_type": "execute_result"
    },
    {
     "data": {
      "image/png": "[encoded data removed]",
      "text/plain": [
       "<matplotlib.figure.Figure at 0x7f514bebb668>"
      ]
     },
     "metadata": {},
     "output_type": "display_data"
    }
   ],
   "source": [
    "not_nouns = zdf.loc[abs(vdf[1])>1e-12].sort_values(by=[1], ascending=True).copy()\n",
    "not_nouns.index = range(0, len(not_nouns))\n",
    "plot2d(1,3,not_nouns,'word',12)\n",
    "not_nouns #.loc[:,['word',1,3,5,7]]"
   ]
  },
  {
   "cell_type": "markdown",
   "metadata": {},
   "source": [
    "Adding the other axe helps separate the verbs from ##Left-Wall## and period."
   ]
  },
  {
   "cell_type": "markdown",
   "metadata": {},
   "source": [
    "## 2.2 Word Category learning: clustering clusters"
   ]
  },
  {
   "cell_type": "markdown",
   "metadata": {},
   "source": [
    "### 2.2.1 Optimal number of clusters: max Silhouette index"
   ]
  },
  {
   "cell_type": "code",
   "execution_count": 15,
   "metadata": {},
   "outputs": [
    {
     "name": "stdout",
     "output_type": "stream",
     "text": [
      "Silhouette index in a range of cluster numbers\n"
     ]
    },
    {
     "data": {
      "image/png": "[encoded data removed]",
      "text/plain": [
       "<matplotlib.figure.Figure at 0x7f514be1ba90>"
      ]
     },
     "metadata": {},
     "output_type": "display_data"
    },
    {
     "data": {
      "text/html": [
       "<table><tr><td>N</td><td>NR</td><td>Silhouette</td><td>Clusters</td></tr><tr><td>4</td><td>4</td><td>0.641</td><td>eagle herring parrot tuna | bird extremity fish | feather fin scale wing | #LW# . has isa</td></tr><tr><td>5</td><td>5</td><td>0.64</td><td>. | bird extremity fish | eagle herring parrot tuna | #LW# has isa | feather fin scale wing</td></tr><tr><td>6</td><td>6</td><td>0.643</td><td>bird extremity fish | eagle herring parrot tuna | feather fin scale wing | has isa | . | #LW#</td></tr><tr><td>7</td><td>7</td><td>0.632</td><td>bird extremity fish | feather fin scale wing | eagle herring parrot tuna | #LW# | has | . | isa</td></tr><tr><td>8</td><td>8</td><td>0.733</td><td>bird extremity fish | fin wing | eagle herring parrot tuna | has | . | #LW# | isa | feather scale</td></tr><tr><td>9</td><td>8</td><td>0.733</td><td>. | fin wing | eagle herring parrot tuna | bird extremity fish | has | #LW# | isa | feather scale</td></tr></table>"
      ],
      "text/plain": [
       "<IPython.core.display.HTML object>"
      ]
     },
     "metadata": {},
     "output_type": "display_data"
    }
   ],
   "source": [
    "words = vdf['word'].tolist()\n",
    "df = vdf.copy()\n",
    "del df['word']\n",
    "sil_range = pd.DataFrame(columns=['NC','NR','Silhouette','Inertia'])\n",
    "sil_range['NC'] = sil_range['NC'].astype(int)\n",
    "table = [['N', 'NR', 'Silhouette', 'Clusters']]\n",
    "tsv = 'N\\tNR\\tSilhouette\\tClusers\\n'\n",
    "for i,j in enumerate(range(4,10)):\n",
    "    silhouette, inertia, cluster_labels, centroids, cluster_sizes, \\\n",
    "        cluster_word_ids, cluster_words = cluster_kmeans(j, df, words)\n",
    "    sil_range.loc[i] = [j, len(cluster_words), round(silhouette,3), inertia]\n",
    "    table.append([j, len(cluster_words), round(silhouette,3), \\\n",
    "        ' | '.join(' '.join(str(word) for word in cluster)\n",
    "            .replace('###LEFT-WALL###', '#LW#') for cluster in cluster_words)])\n",
    "    tsv = tsv + str(j) + '\\t' + str(len(cluster_words)) + '\\t' + \\\n",
    "        str(round(silhouette,3)) + '\\t' + \\\n",
    "        ' '.join('|'.join(str(word) for word in cluster) \\\n",
    "                 for cluster in cluster_words) + '\\n'\n",
    "sil_range[['NC','NR']] = sil_range[['NC','NR']].astype(int)\n",
    "\n",
    "print('Silhouette index in a range of cluster numbers')\n",
    "plt.plot(sil_range['NC'], sil_range['Silhouette'])\n",
    "plt.xlabel('Given clusters number - K-Means parameter\\n' + \\\n",
    "           '(algorithm returns 8 clusters for any parameter 8+)')\n",
    "plt.ylabel('Silhouette index')\n",
    "plt.show()\n",
    "display(html_table(table))"
   ]
  },
  {
   "cell_type": "markdown",
   "metadata": {},
   "source": [
    "6 - small local maximum, looks good\n",
    "8 - max silhouette, looks ~OK"
   ]
  },
  {
   "cell_type": "markdown",
   "metadata": {},
   "source": [
    "### 2.2.2. Cluster similarity: cosine distance between centroids"
   ]
  },
  {
   "cell_type": "code",
   "execution_count": 16,
   "metadata": {},
   "outputs": [
    {
     "data": {
      "text/html": [
       "<div>\n",
       "<style scoped>\n",
       "    .dataframe tbody tr th:only-of-type {\n",
       "        vertical-align: middle;\n",
       "    }\n",
       "\n",
       "    .dataframe tbody tr th {\n",
       "        vertical-align: top;\n",
       "    }\n",
       "\n",
       "    .dataframe thead th {\n",
       "        text-align: right;\n",
       "    }\n",
       "</style>\n",
       "<table border=\"1\" class=\"dataframe\">\n",
       "  <thead>\n",
       "    <tr style=\"text-align: right;\">\n",
       "      <th></th>\n",
       "      <th>1</th>\n",
       "      <th>2</th>\n",
       "      <th>3</th>\n",
       "      <th>4</th>\n",
       "      <th>5</th>\n",
       "      <th>6</th>\n",
       "      <th>7</th>\n",
       "      <th>cluster_words</th>\n",
       "      <th>cluster</th>\n",
       "    </tr>\n",
       "  </thead>\n",
       "  <tbody>\n",
       "    <tr>\n",
       "      <th>1</th>\n",
       "      <td>0.00000</td>\n",
       "      <td>0.42149</td>\n",
       "      <td>0.00000</td>\n",
       "      <td>-0.55118</td>\n",
       "      <td>0.00000</td>\n",
       "      <td>-0.72010</td>\n",
       "      <td>0.00000</td>\n",
       "      <td>[feather, scale]</td>\n",
       "      <td>1</td>\n",
       "    </tr>\n",
       "    <tr>\n",
       "      <th>2</th>\n",
       "      <td>0.00000</td>\n",
       "      <td>0.83496</td>\n",
       "      <td>0.00000</td>\n",
       "      <td>0.50090</td>\n",
       "      <td>0.00000</td>\n",
       "      <td>0.22790</td>\n",
       "      <td>0.00000</td>\n",
       "      <td>[eagle, herring, parrot, tuna]</td>\n",
       "      <td>2</td>\n",
       "    </tr>\n",
       "    <tr>\n",
       "      <th>3</th>\n",
       "      <td>0.00000</td>\n",
       "      <td>0.31233</td>\n",
       "      <td>0.00000</td>\n",
       "      <td>-0.77630</td>\n",
       "      <td>0.00000</td>\n",
       "      <td>0.54754</td>\n",
       "      <td>0.00000</td>\n",
       "      <td>[bird, extremity, fish]</td>\n",
       "      <td>3</td>\n",
       "    </tr>\n",
       "    <tr>\n",
       "      <th>4</th>\n",
       "      <td>-0.72861</td>\n",
       "      <td>0.00000</td>\n",
       "      <td>-0.27295</td>\n",
       "      <td>0.00000</td>\n",
       "      <td>-0.01631</td>\n",
       "      <td>0.00000</td>\n",
       "      <td>0.62798</td>\n",
       "      <td>[has]</td>\n",
       "      <td>4</td>\n",
       "    </tr>\n",
       "    <tr>\n",
       "      <th>5</th>\n",
       "      <td>-0.25778</td>\n",
       "      <td>0.00000</td>\n",
       "      <td>-0.30456</td>\n",
       "      <td>0.00000</td>\n",
       "      <td>0.88007</td>\n",
       "      <td>0.00000</td>\n",
       "      <td>-0.25741</td>\n",
       "      <td>[###LEFT-WALL###]</td>\n",
       "      <td>5</td>\n",
       "    </tr>\n",
       "    <tr>\n",
       "      <th>6</th>\n",
       "      <td>-0.40156</td>\n",
       "      <td>0.00000</td>\n",
       "      <td>0.89628</td>\n",
       "      <td>0.00000</td>\n",
       "      <td>0.18796</td>\n",
       "      <td>0.00000</td>\n",
       "      <td>-0.00972</td>\n",
       "      <td>[.]</td>\n",
       "      <td>6</td>\n",
       "    </tr>\n",
       "    <tr>\n",
       "      <th>7</th>\n",
       "      <td>-0.68847</td>\n",
       "      <td>0.00000</td>\n",
       "      <td>-0.18048</td>\n",
       "      <td>0.00000</td>\n",
       "      <td>-0.43633</td>\n",
       "      <td>0.00000</td>\n",
       "      <td>-0.55051</td>\n",
       "      <td>[isa]</td>\n",
       "      <td>7</td>\n",
       "    </tr>\n",
       "    <tr>\n",
       "      <th>8</th>\n",
       "      <td>0.00000</td>\n",
       "      <td>0.84761</td>\n",
       "      <td>0.00000</td>\n",
       "      <td>-0.13343</td>\n",
       "      <td>0.00000</td>\n",
       "      <td>-0.51357</td>\n",
       "      <td>0.00000</td>\n",
       "      <td>[fin, wing]</td>\n",
       "      <td>8</td>\n",
       "    </tr>\n",
       "  </tbody>\n",
       "</table>\n",
       "</div>"
      ],
      "text/plain": [
       "         1        2        3        4        5        6        7  \\\n",
       "1  0.00000  0.42149  0.00000 -0.55118  0.00000 -0.72010  0.00000   \n",
       "2  0.00000  0.83496  0.00000  0.50090  0.00000  0.22790  0.00000   \n",
       "3  0.00000  0.31233  0.00000 -0.77630  0.00000  0.54754  0.00000   \n",
       "4 -0.72861  0.00000 -0.27295  0.00000 -0.01631  0.00000  0.62798   \n",
       "5 -0.25778  0.00000 -0.30456  0.00000  0.88007  0.00000 -0.25741   \n",
       "6 -0.40156  0.00000  0.89628  0.00000  0.18796  0.00000 -0.00972   \n",
       "7 -0.68847  0.00000 -0.18048  0.00000 -0.43633  0.00000 -0.55051   \n",
       "8  0.00000  0.84761  0.00000 -0.13343  0.00000 -0.51357  0.00000   \n",
       "\n",
       "                    cluster_words  cluster  \n",
       "1                [feather, scale]        1  \n",
       "2  [eagle, herring, parrot, tuna]        2  \n",
       "3         [bird, extremity, fish]        3  \n",
       "4                           [has]        4  \n",
       "5               [###LEFT-WALL###]        5  \n",
       "6                             [.]        6  \n",
       "7                           [isa]        7  \n",
       "8                     [fin, wing]        8  "
      ]
     },
     "execution_count": 16,
     "metadata": {},
     "output_type": "execute_result"
    }
   ],
   "source": [
    "n = 8  # Number of clusters\n",
    "words = vdf['word'].tolist()\n",
    "df = vdf.loc[:,[1,2,3,4,5,6,7]]\n",
    "silhouette, inertia, cluster_labels, centroids, cluster_sizes, \\\n",
    "    cluster_word_ids, cluster_words = cluster_kmeans(n, df, words)\n",
    "cls  # clusters centroids dataFrame, rounded values"
   ]
  },
  {
   "cell_type": "code",
   "execution_count": 17,
   "metadata": {},
   "outputs": [
    {
     "data": {
      "text/plain": [
       "<matplotlib.axes._subplots.AxesSubplot at 0x7f514bddbda0>"
      ]
     },
     "execution_count": 17,
     "metadata": {},
     "output_type": "execute_result"
    },
    {
     "data": {
      "image/png": "[encoded data removed]",
      "text/plain": [
       "<matplotlib.figure.Figure at 0x7f514bddb0f0>"
      ]
     },
     "metadata": {},
     "output_type": "display_data"
    }
   ],
   "source": [
    "def cluster_similarity(centroids, cluster_words, verbose='none'):\n",
    "    import numpy as np\n",
    "    import pandas as pd\n",
    "    from scipy import spatial\n",
    "    sim_df = pd.DataFrame(columns=['c1','c2','similarity','c1_words','c2_words'])\n",
    "    k = 0\n",
    "    for i in range(len(centroids)):\n",
    "        c1 = centroids[i]\n",
    "        for j in range(len(centroids)):\n",
    "            c2 = centroids[j]\n",
    "            sim = 1 - spatial.distance.cosine(c1, c2)\n",
    "            if i < j:\n",
    "                c1_words = cluster_words[i]\n",
    "                c2_words = cluster_words[j]\n",
    "                sim_df.loc[k] = [i, j, sim, c1_words, c2_words]\n",
    "                k += 1\n",
    "    sim_df[['c1','c2']] = sim_df[['c1','c2']].astype(int)\n",
    "    sorted_df = sim_df.sort_values(by=['similarity','c1','c2'], ascending=[False,True,True]) # \\\n",
    "    return sim_df, {'clusters_similarity_file': 'none'}\n",
    "\n",
    "sim_df, res3 = cluster_similarity(centroids, cluster_words, 'max')\n",
    "count, division = np.histogram(sim_df['similarity'])\n",
    "sim_df['similarity'].hist(bins=division)"
   ]
  },
  {
   "cell_type": "code",
   "execution_count": 18,
   "metadata": {},
   "outputs": [
    {
     "name": "stdout",
     "output_type": "stream",
     "text": [
      "Cluster similarities: absolute values > 0.01:\n"
     ]
    },
    {
     "data": {
      "text/html": [
       "<div>\n",
       "<style scoped>\n",
       "    .dataframe tbody tr th:only-of-type {\n",
       "        vertical-align: middle;\n",
       "    }\n",
       "\n",
       "    .dataframe tbody tr th {\n",
       "        vertical-align: top;\n",
       "    }\n",
       "\n",
       "    .dataframe thead th {\n",
       "        text-align: right;\n",
       "    }\n",
       "</style>\n",
       "<table border=\"1\" class=\"dataframe\">\n",
       "  <thead>\n",
       "    <tr style=\"text-align: right;\">\n",
       "      <th></th>\n",
       "      <th>c1</th>\n",
       "      <th>c2</th>\n",
       "      <th>similarity</th>\n",
       "      <th>c1_words</th>\n",
       "      <th>c2_words</th>\n",
       "    </tr>\n",
       "  </thead>\n",
       "  <tbody>\n",
       "    <tr>\n",
       "      <th>12</th>\n",
       "      <td>1</td>\n",
       "      <td>7</td>\n",
       "      <td>0.800625</td>\n",
       "      <td>[fin, wing]</td>\n",
       "      <td>[feather, scale]</td>\n",
       "    </tr>\n",
       "    <tr>\n",
       "      <th>7</th>\n",
       "      <td>1</td>\n",
       "      <td>2</td>\n",
       "      <td>0.523843</td>\n",
       "      <td>[fin, wing]</td>\n",
       "      <td>[eagle, herring, parrot, tuna]</td>\n",
       "    </tr>\n",
       "    <tr>\n",
       "      <th>23</th>\n",
       "      <td>4</td>\n",
       "      <td>6</td>\n",
       "      <td>0.212294</td>\n",
       "      <td>[has]</td>\n",
       "      <td>[isa]</td>\n",
       "    </tr>\n",
       "    <tr>\n",
       "      <th>6</th>\n",
       "      <td>0</td>\n",
       "      <td>7</td>\n",
       "      <td>0.165243</td>\n",
       "      <td>[bird, extremity, fish]</td>\n",
       "      <td>[feather, scale]</td>\n",
       "    </tr>\n",
       "    <tr>\n",
       "      <th>18</th>\n",
       "      <td>3</td>\n",
       "      <td>4</td>\n",
       "      <td>0.094945</td>\n",
       "      <td>[###LEFT-WALL###]</td>\n",
       "      <td>[has]</td>\n",
       "    </tr>\n",
       "    <tr>\n",
       "      <th>0</th>\n",
       "      <td>0</td>\n",
       "      <td>1</td>\n",
       "      <td>0.087112</td>\n",
       "      <td>[bird, extremity, fish]</td>\n",
       "      <td>[fin, wing]</td>\n",
       "    </tr>\n",
       "    <tr>\n",
       "      <th>22</th>\n",
       "      <td>4</td>\n",
       "      <td>5</td>\n",
       "      <td>0.038765</td>\n",
       "      <td>[has]</td>\n",
       "      <td>[.]</td>\n",
       "    </tr>\n",
       "    <tr>\n",
       "      <th>25</th>\n",
       "      <td>5</td>\n",
       "      <td>6</td>\n",
       "      <td>0.038038</td>\n",
       "      <td>[.]</td>\n",
       "      <td>[isa]</td>\n",
       "    </tr>\n",
       "    <tr>\n",
       "      <th>17</th>\n",
       "      <td>2</td>\n",
       "      <td>7</td>\n",
       "      <td>-0.088270</td>\n",
       "      <td>[eagle, herring, parrot, tuna]</td>\n",
       "      <td>[feather, scale]</td>\n",
       "    </tr>\n",
       "  </tbody>\n",
       "</table>\n",
       "</div>"
      ],
      "text/plain": [
       "    c1  c2  similarity                        c1_words  \\\n",
       "12   1   7    0.800625                     [fin, wing]   \n",
       "7    1   2    0.523843                     [fin, wing]   \n",
       "23   4   6    0.212294                           [has]   \n",
       "6    0   7    0.165243         [bird, extremity, fish]   \n",
       "18   3   4    0.094945               [###LEFT-WALL###]   \n",
       "0    0   1    0.087112         [bird, extremity, fish]   \n",
       "22   4   5    0.038765                           [has]   \n",
       "25   5   6    0.038038                             [.]   \n",
       "17   2   7   -0.088270  [eagle, herring, parrot, tuna]   \n",
       "\n",
       "                          c2_words  \n",
       "12                [feather, scale]  \n",
       "7   [eagle, herring, parrot, tuna]  \n",
       "23                           [isa]  \n",
       "6                 [feather, scale]  \n",
       "18                           [has]  \n",
       "0                      [fin, wing]  \n",
       "22                             [.]  \n",
       "25                           [isa]  \n",
       "17                [feather, scale]  "
      ]
     },
     "execution_count": 18,
     "metadata": {},
     "output_type": "execute_result"
    }
   ],
   "source": [
    "print('Cluster similarities: absolute values > 0.01:')\n",
    "sim_df.sort_values(by='similarity', ascending=False) \\\n",
    "      .loc[abs(sim_df['similarity']) > 0.01]"
   ]
  },
  {
   "cell_type": "markdown",
   "metadata": {},
   "source": [
    "**Yes!** We have got a category of nouns - clusters 0,2,7 with similarities 0.8, 0.5, 0.16;  \n",
    "and a category of verbs - clusters 3,6 with similarity 0.2;  \n",
    "while period and ###LEFT-WALL### stay separated by similarity treshold 0.1"
   ]
  },
  {
   "cell_type": "markdown",
   "metadata": {},
   "source": [
    "## 2.3 Final check: does the 8th dimension add value?"
   ]
  },
  {
   "cell_type": "code",
   "execution_count": 19,
   "metadata": {},
   "outputs": [
    {
     "data": {
      "text/html": [
       "<div>\n",
       "<style scoped>\n",
       "    .dataframe tbody tr th:only-of-type {\n",
       "        vertical-align: middle;\n",
       "    }\n",
       "\n",
       "    .dataframe tbody tr th {\n",
       "        vertical-align: top;\n",
       "    }\n",
       "\n",
       "    .dataframe thead th {\n",
       "        text-align: right;\n",
       "    }\n",
       "</style>\n",
       "<table border=\"1\" class=\"dataframe\">\n",
       "  <thead>\n",
       "    <tr style=\"text-align: right;\">\n",
       "      <th></th>\n",
       "      <th>c1</th>\n",
       "      <th>c2</th>\n",
       "      <th>similarity</th>\n",
       "      <th>c1_words</th>\n",
       "      <th>c2_words</th>\n",
       "    </tr>\n",
       "  </thead>\n",
       "  <tbody>\n",
       "    <tr>\n",
       "      <th>6</th>\n",
       "      <td>0</td>\n",
       "      <td>7</td>\n",
       "      <td>0.729455</td>\n",
       "      <td>[fin, wing]</td>\n",
       "      <td>[feather, scale]</td>\n",
       "    </tr>\n",
       "    <tr>\n",
       "      <th>2</th>\n",
       "      <td>0</td>\n",
       "      <td>3</td>\n",
       "      <td>0.487411</td>\n",
       "      <td>[fin, wing]</td>\n",
       "      <td>[eagle, herring, parrot, tuna]</td>\n",
       "    </tr>\n",
       "    <tr>\n",
       "      <th>14</th>\n",
       "      <td>2</td>\n",
       "      <td>4</td>\n",
       "      <td>0.212294</td>\n",
       "      <td>[isa]</td>\n",
       "      <td>[has]</td>\n",
       "    </tr>\n",
       "    <tr>\n",
       "      <th>12</th>\n",
       "      <td>1</td>\n",
       "      <td>7</td>\n",
       "      <td>0.163153</td>\n",
       "      <td>[bird, extremity, fish]</td>\n",
       "      <td>[feather, scale]</td>\n",
       "    </tr>\n",
       "    <tr>\n",
       "      <th>23</th>\n",
       "      <td>4</td>\n",
       "      <td>6</td>\n",
       "      <td>0.094945</td>\n",
       "      <td>[has]</td>\n",
       "      <td>[###LEFT-WALL###]</td>\n",
       "    </tr>\n",
       "    <tr>\n",
       "      <th>0</th>\n",
       "      <td>0</td>\n",
       "      <td>1</td>\n",
       "      <td>0.085368</td>\n",
       "      <td>[fin, wing]</td>\n",
       "      <td>[bird, extremity, fish]</td>\n",
       "    </tr>\n",
       "    <tr>\n",
       "      <th>22</th>\n",
       "      <td>4</td>\n",
       "      <td>5</td>\n",
       "      <td>0.038765</td>\n",
       "      <td>[has]</td>\n",
       "      <td>[.]</td>\n",
       "    </tr>\n",
       "    <tr>\n",
       "      <th>15</th>\n",
       "      <td>2</td>\n",
       "      <td>5</td>\n",
       "      <td>0.038038</td>\n",
       "      <td>[isa]</td>\n",
       "      <td>[.]</td>\n",
       "    </tr>\n",
       "    <tr>\n",
       "      <th>21</th>\n",
       "      <td>3</td>\n",
       "      <td>7</td>\n",
       "      <td>-0.079841</td>\n",
       "      <td>[eagle, herring, parrot, tuna]</td>\n",
       "      <td>[feather, scale]</td>\n",
       "    </tr>\n",
       "  </tbody>\n",
       "</table>\n",
       "</div>"
      ],
      "text/plain": [
       "    c1  c2  similarity                        c1_words  \\\n",
       "6    0   7    0.729455                     [fin, wing]   \n",
       "2    0   3    0.487411                     [fin, wing]   \n",
       "14   2   4    0.212294                           [isa]   \n",
       "12   1   7    0.163153         [bird, extremity, fish]   \n",
       "23   4   6    0.094945                           [has]   \n",
       "0    0   1    0.085368                     [fin, wing]   \n",
       "22   4   5    0.038765                           [has]   \n",
       "15   2   5    0.038038                           [isa]   \n",
       "21   3   7   -0.079841  [eagle, herring, parrot, tuna]   \n",
       "\n",
       "                          c2_words  \n",
       "6                 [feather, scale]  \n",
       "2   [eagle, herring, parrot, tuna]  \n",
       "14                           [has]  \n",
       "12                [feather, scale]  \n",
       "23               [###LEFT-WALL###]  \n",
       "0          [bird, extremity, fish]  \n",
       "22                             [.]  \n",
       "15                             [.]  \n",
       "21                [feather, scale]  "
      ]
     },
     "execution_count": 19,
     "metadata": {},
     "output_type": "execute_result"
    },
    {
     "data": {
      "image/png": "[encoded data removed]",
      "text/plain": [
       "<matplotlib.figure.Figure at 0x7f514bed3d68>"
      ]
     },
     "metadata": {},
     "output_type": "display_data"
    }
   ],
   "source": [
    "dim = 8\n",
    "n = 8   # Number of clusters\n",
    "vdf,res4 = parses2vec(parses,path,tmpath,dim,cds,eig,neg,'none')\n",
    "words = vdf['word'].tolist()\n",
    "df = vdf.loc[:,[1,2,3,4,5,6,7,8]]\n",
    "silhouette, inertia, cluster_labels, centroids, cluster_sizes, \\\n",
    "    cluster_word_ids, cluster_words = cluster_kmeans(n, df, words)\n",
    "sim_df, res3 = cluster_similarity(centroids, cluster_words, 'max')\n",
    "count, division = np.histogram(sim_df['similarity'])\n",
    "sim_df['similarity'].hist(bins=division)\n",
    "sim_df.sort_values(by='similarity', ascending=False) \\\n",
    "      .loc[abs(sim_df['similarity']) > 0.01]"
   ]
  },
  {
   "cell_type": "markdown",
   "metadata": {},
   "source": [
    "So, additional 8th dimension can't help us improve clustering quality.\n",
    "### Singular values help define optimal word space dimensionality."
   ]
  },
  {
   "cell_type": "code",
   "execution_count": 20,
   "metadata": {},
   "outputs": [
    {
     "data": {
      "image/png": "[encoded data removed]",
      "text/plain": [
       "<matplotlib.figure.Figure at 0x7f514be59b38>"
      ]
     },
     "metadata": {},
     "output_type": "display_data"
    }
   ],
   "source": [
    "plt.plot(singular_values.index, singular_values['sv'])\n",
    "plt.xlabel('Vector space dimension')\n",
    "plt.ylabel('Singilar value')\n",
    "plt.show()"
   ]
  }
 ],
 "metadata": {
  "kernelspec": {
   "display_name": "Python [default]",
   "language": "python",
   "name": "python3"
  },
  "language_info": {
   "codemirror_mode": {
    "name": "ipython",
    "version": 3
   },
   "file_extension": ".py",
   "mimetype": "text/x-python",
   "name": "python",
   "nbconvert_exporter": "python",
   "pygments_lexer": "ipython3",
   "version": "3.6.4"
  }
 },
 "nbformat": 4,
 "nbformat_minor": 2
}
