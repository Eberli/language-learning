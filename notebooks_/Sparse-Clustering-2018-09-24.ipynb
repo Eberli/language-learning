{
 "cells": [
  {
   "cell_type": "markdown",
   "metadata": {
    "toc": true
   },
   "source": [
    "<h1>Table of Contents<span class=\"tocSkip\"></span></h1>\n",
    "<div class=\"toc\"><ul class=\"toc-item\"><li><span><a href=\"#Basic-settings\" data-toc-modified-id=\"Basic-settings-1\"><span class=\"toc-item-num\">1&nbsp;&nbsp;</span>Basic settings</a></span></li><li><span><a href=\"#POC-English-NoAmb,-step-by-step\" data-toc-modified-id=\"POC-English-NoAmb,-step-by-step-2\"><span class=\"toc-item-num\">2&nbsp;&nbsp;</span>POC-English-NoAmb, step-by-step</a></span><ul class=\"toc-item\"><li><span><a href=\"#Input-parses\" data-toc-modified-id=\"Input-parses-2.1\"><span class=\"toc-item-num\">2.1&nbsp;&nbsp;</span>Input parses</a></span></li><li><span><a href=\"#Word-space\" data-toc-modified-id=\"Word-space-2.2\"><span class=\"toc-item-num\">2.2&nbsp;&nbsp;</span>Word space</a></span></li><li><span><a href=\"#Clustering\" data-toc-modified-id=\"Clustering-2.3\"><span class=\"toc-item-num\">2.3&nbsp;&nbsp;</span>Clustering</a></span></li><li><span><a href=\"#Learn-Grammar\" data-toc-modified-id=\"Learn-Grammar-2.4\"><span class=\"toc-item-num\">2.4&nbsp;&nbsp;</span>Learn Grammar</a></span></li><li><span><a href=\"#Test-Grammar\" data-toc-modified-id=\"Test-Grammar-2.5\"><span class=\"toc-item-num\">2.5&nbsp;&nbsp;</span>Test Grammar</a></span></li></ul></li><li><span><a href=\"#POC-English-Amb\" data-toc-modified-id=\"POC-English-Amb-3\"><span class=\"toc-item-num\">3&nbsp;&nbsp;</span>POC-English-Amb</a></span></li><li><span><a href=\"#Child-Directed-Speech\" data-toc-modified-id=\"Child-Directed-Speech-4\"><span class=\"toc-item-num\">4&nbsp;&nbsp;</span>Child Directed Speech</a></span><ul class=\"toc-item\"><li><span><a href=\"#20-clusters---PA/PQ-~-71%/51%\" data-toc-modified-id=\"20-clusters---PA/PQ-~-71%/51%-4.1\"><span class=\"toc-item-num\">4.1&nbsp;&nbsp;</span>20 clusters - PA/PQ ~ 71%/51%</a></span></li><li><span><a href=\"#Best-results:\" data-toc-modified-id=\"Best-results:-4.2\"><span class=\"toc-item-num\">4.2&nbsp;&nbsp;</span>Best results:</a></span></li><li><span><a href=\"#Range-3-20\" data-toc-modified-id=\"Range-3-20-4.3\"><span class=\"toc-item-num\">4.3&nbsp;&nbsp;</span>Range 3-20</a></span></li><li><span><a href=\"#7-clusters:-comparable-with-20-clusters\" data-toc-modified-id=\"7-clusters:-comparable-with-20-clusters-4.4\"><span class=\"toc-item-num\">4.4&nbsp;&nbsp;</span>7 clusters: comparable with 20 clusters</a></span></li><li><span><a href=\"#77-clusters\" data-toc-modified-id=\"77-clusters-4.5\"><span class=\"toc-item-num\">4.5&nbsp;&nbsp;</span>77 clusters</a></span></li></ul></li></ul></div>"
   ]
  },
  {
   "cell_type": "markdown",
   "metadata": {},
   "source": [
    "# Sparse clustering\n",
    "Checking first results before commit.  \n",
    "Relevant data shared on Friday 2018-09-21 via http://langlearn.singularitynet.io/data/clustering_2018/Sparse-Clustering-2018-09-21/"
   ]
  },
  {
   "cell_type": "markdown",
   "metadata": {},
   "source": [
    "## Basic settings"
   ]
  },
  {
   "cell_type": "code",
   "execution_count": 1,
   "metadata": {},
   "outputs": [
    {
     "name": "stdout",
     "output_type": "stream",
     "text": [
      "2018-09-24 07:23:41 UTC \n",
      "/home/obaskov/py/language-learning/output/sparse-clustering-2018-09-24\n"
     ]
    }
   ],
   "source": [
    "import os, sys, time\n",
    "import numpy as np\n",
    "import pandas as pd\n",
    "from IPython.display import display\n",
    "from ull.grammar_learner.utl import UTC\n",
    "from ull.grammar_learner.read_files import check_dir, check_mst_files\n",
    "from ull.grammar_learner.pparser import files2links\n",
    "from ull.grammar_learner.widgets import html_table\n",
    "from ull.grammar_learner.grammar_inducer import induce_grammar\n",
    "from ull.grammar_learner.write_files import list2file, save_link_grammar, save_cat_tree\n",
    "module_path = os.path.abspath(os.path.join('..'))\n",
    "if module_path not in sys.path: sys.path.append(module_path)\n",
    "from src.grammar_learner_.clustering_ import best_clusters\n",
    "from src.grammar_learner_.category_learner_ import learn_categories, add_disjuncts, cats2list\n",
    "from src.grammar_learner_.pqa_table_ import params, pqa_meter\n",
    "start = time.time()\n",
    "out_dir = module_path + '/output/sparse-clustering-' + str(UTC())[:10]\n",
    "check_dir(out_dir, True, 'none')\n",
    "tmpath = out_dir + '/tmp/'\n",
    "check_dir(tmpath, True, 'none')\n",
    "print(UTC(), '\\n' + out_dir)"
   ]
  },
  {
   "cell_type": "code",
   "execution_count": 2,
   "metadata": {},
   "outputs": [],
   "source": [
    "kwargs = {\n",
    "    'left_wall'     :   ''          ,\n",
    "    'period'        :   False       ,\n",
    "    'context'       :   2           ,\n",
    "    'word_space'    :   'sparse'    ,\n",
    "    'clustering'    :   ('kmeans', 'kmeans++', 10),\n",
    "    'cluster_range' :   (30,120,3,3), # min, max, step, repeat \n",
    "    'cluster_criteria': 'silhouette',\n",
    "    'cluster_level' :   1           ,\n",
    "    'grammar_rules' :   2,\n",
    "    'tmpath'        :   tmpath      , \n",
    "    'verbose'       :   'min'       ,\n",
    "    'template_path' :   'poc-turtle',\n",
    "    'linkage_limit' :   1000        ,\n",
    "    'categories_generalization': 'off' }\n",
    "verbose = 'max'"
   ]
  },
  {
   "cell_type": "markdown",
   "metadata": {},
   "source": [
    "## POC-English-NoAmb, step-by-step"
   ]
  },
  {
   "cell_type": "markdown",
   "metadata": {},
   "source": [
    "### Input parses"
   ]
  },
  {
   "cell_type": "code",
   "execution_count": 3,
   "metadata": {},
   "outputs": [],
   "source": [
    "corpus = 'POC-English-NoAmb'\n",
    "dataset = 'MST-fixed-manually'\n",
    "cp = module_path + '/data/POC-English-NoAmb/poc_english_noamb_corpus.txt'\n",
    "rp = module_path + '/data/POC-English-NoAmb/poc-english_noAmb-parses-gold.txt'\n",
    "ip, oc, og = params(corpus, dataset, module_path, out_dir, **kwargs)\n",
    "# print(ip)\n",
    "# print(oc)\n",
    "files, re01 = check_mst_files(ip, verbose='none')\n",
    "kwargs['input_files'] = files\n",
    "links, re02 = files2links(**kwargs)"
   ]
  },
  {
   "cell_type": "markdown",
   "metadata": {},
   "source": [
    "### Word space"
   ]
  },
  {
   "cell_type": "code",
   "execution_count": 4,
   "metadata": {},
   "outputs": [
    {
     "name": "stdout",
     "output_type": "stream",
     "text": [
      "2018-09-24 07:23:41 UTC\n"
     ]
    }
   ],
   "source": [
    "def co_occurrence_matrix(links):\n",
    "    wdf = links.groupby('word', as_index=False).sum() \\\n",
    "        .sort_values(by=['count', 'word'], ascending=[False, True])\n",
    "    if 'djlen' in wdf:\n",
    "        del wdf['djlen']\n",
    "    word_list = wdf['word'].tolist()\n",
    "    word_idx = {word: i+1 for i,word in enumerate(word_list)}\n",
    "    words = {i: word for word,i in word_idx.items()}\n",
    "\n",
    "    ldf = links.groupby('link', as_index=False).sum() \\\n",
    "        .sort_values(by=['count', 'link'], ascending=[False, True])\n",
    "    del ldf['djlen']\n",
    "    ldf.index = [x for x in range(len(ldf))]\n",
    "    linx_list = ldf['link'].tolist()\n",
    "    linx_idx = {link: i for i,link in enumerate(linx_list)}\n",
    "    linx = {i: link for link,i in linx_idx.items()}\n",
    "    \n",
    "    df = links.copy()\n",
    "    if 'djlen' in wdf:\n",
    "        del wdf['djlen']\n",
    "    df['word_id'] = df['word'].apply(lambda x: word_idx[x])\n",
    "    df['linx_id'] = df['link'].apply(lambda x: linx_idx[x])\n",
    "    del df['word']\n",
    "    del df['link']\n",
    "    df = df[['word_id', 'linx_id', 'count']]\n",
    "    \n",
    "    counts = np.zeros((len(words)+1, len(linx)), dtype=np.int16)\n",
    "    for tpl in df.itertuples():\n",
    "        counts[tpl[1], tpl[2]] = tpl[3]\n",
    "\n",
    "    return counts, words, linx\n",
    "\n",
    "def categorical_distribution(counts, threshold=0.):\n",
    "    sum = np.sum(counts)\n",
    "    vsm = np.divide(counts, sum)    # Vector Space Model\n",
    "    cd = (vsm > threshold).astype(int)  # categorical distribution\n",
    "    return cd\n",
    "\n",
    "print(UTC())"
   ]
  },
  {
   "cell_type": "code",
   "execution_count": 5,
   "metadata": {},
   "outputs": [
    {
     "name": "stdout",
     "output_type": "stream",
     "text": [
      "words:\n",
      " {1: 'a', 2: 'is', 3: 'now', 4: 'dad', 5: 'mom', 6: 'before', 7: 'cake', 8: 'human', 9: 'likes', 10: 'sausage', 11: 'daughter', 12: 'son', 13: 'food', 14: 'parent', 15: 'was', 16: 'child', 17: 'liked', 18: 'not'} \n",
      "\n",
      "linx:\n",
      " {0: 'is- & a-', 1: 'is+', 2: 'likes-', 3: 'is-', 4: 'a- & is+', 5: 'human+', 6: 'was-', 7: 'food+', 8: 'parent+', 9: 'was+', 10: 'was- & a-', 11: 'a- & likes+', 12: 'child+', 13: 'daughter+', 14: 'liked-', 15: 'likes+', 16: 'son+', 17: 'dad+', 18: 'mom+', 19: 'liked+', 20: 'cake- & food+', 21: 'cake- & food+ & before+', 22: 'cake- & food+ & now+', 23: 'dad- & human+', 24: 'dad- & human+ & now+', 25: 'dad- & not+ & parent+ & before+', 26: 'dad- & parent+', 27: 'dad- & parent+ & now+', 28: 'dad- & sausage+', 29: 'dad- & sausage+ & before+', 30: 'dad- & sausage+ & now+', 31: 'dad- & son+ & before+', 32: 'daughter- & cake+', 33: 'daughter- & cake+ & now+', 34: 'daughter- & child+', 35: 'daughter- & child+ & now+', 36: 'daughter- & human+', 37: 'daughter- & human+ & now+', 38: 'mom- & cake+', 39: 'mom- & cake+ & before+', 40: 'mom- & cake+ & now+', 41: 'mom- & daughter+ & before+', 42: 'mom- & human+', 43: 'mom- & human+ & now+', 44: 'mom- & not+ & parent+ & before+', 45: 'mom- & parent+', 46: 'mom- & parent+ & now+', 47: 'sausage- & food+', 48: 'sausage- & food+ & before+', 49: 'sausage- & food+ & now+', 50: 'son- & child+', 51: 'son- & child+ & now+', 52: 'son- & human+', 53: 'son- & human+ & now+', 54: 'son- & sausage+', 55: 'son- & sausage+ & now+'}\n"
     ]
    }
   ],
   "source": [
    "counts, words, linx = co_occurrence_matrix(links)\n",
    "print('words:\\n', words, '\\n\\nlinx:\\n', linx)\n",
    "#print('\\nCo-occurrence matrix(counts)', type(counts), ':\\n', counts)\n",
    "cd = categorical_distribution(counts, threshold=0.)\n",
    "#print('\\nCategorical distribution (cd)', type(counts), ':\\n', cd)"
   ]
  },
  {
   "cell_type": "markdown",
   "metadata": {},
   "source": [
    "### Clustering"
   ]
  },
  {
   "cell_type": "code",
   "execution_count": 6,
   "metadata": {},
   "outputs": [],
   "source": [
    "def agglomerative_clustering(cd, words, n_clusters=10, linkage='ward', \n",
    "                             silhouette_metric='sqeuclidean'):\n",
    "    # cd - ndarray(words*disjuncts)\n",
    "    # words: {id: word}  # legacy compatible: return clusters \n",
    "    # linkage: ('ward', 'average', 'complete')\n",
    "    # silhouette_metric: 'sqeuclidean' ... TODO\n",
    "    from sklearn.cluster import AgglomerativeClustering\n",
    "    from sklearn import metrics\n",
    "    import pandas as pd\n",
    "    try:\n",
    "        clustering = AgglomerativeClustering(linkage=linkage, n_clusters=n_clusters)\n",
    "        clustering.fit(cd)\n",
    "        labels = clustering.labels_\n",
    "        silhouette = metrics.silhouette_score(cd, labels, metric=silhouette_metric)\n",
    "        cdf = 'cdf'\n",
    "        clusters = {x: [] for x in set(labels)}\n",
    "        for k,v in words.items():\n",
    "            clusters[labels[k]].append(v)\n",
    "        cdf = pd.DataFrame(sorted(set(labels)), columns=['cluster'])\n",
    "        def cluster_word_list(i):\n",
    "            return [words[j+1] for j,x in enumerate(labels[1:]) if x==i]\n",
    "        cdf['cluster_words'] = cdf['cluster'].apply(cluster_word_list)\n",
    "        cdf.index = range(1, len(cdf)+1)\n",
    "        def cluster_id(row):\n",
    "            return 'C' + str(row.name).zfill(2)\n",
    "        cdf['cluster'] = cdf.apply(cluster_id, axis=1)\n",
    "        return cdf, silhouette, labels\n",
    "    except:\n",
    "        return cdf,  silhouette, ['error']"
   ]
  },
  {
   "cell_type": "code",
   "execution_count": 7,
   "metadata": {},
   "outputs": [
    {
     "name": "stdout",
     "output_type": "stream",
     "text": [
      "2 clusters: silhouette = 0.694\n",
      "3 clusters: silhouette = 0.37\n",
      "4 clusters: silhouette = 0.398\n",
      "5 clusters: silhouette = 0.429\n",
      "6 clusters: silhouette = 0.443\n",
      "7 clusters: silhouette = 0.481\n",
      "8 clusters: silhouette = 0.425\n",
      "9 clusters: silhouette = 0.498\n",
      "10 clusters: silhouette = 0.511\n",
      "11 clusters: silhouette = 0.529\n",
      "12 clusters: silhouette = 0.561\n",
      "13 clusters: silhouette = 0.526\n",
      "14 clusters: silhouette = 0.526\n",
      "15 clusters: silhouette = 0.421\n",
      "16 clusters: silhouette = 0.316\n",
      "17 clusters: silhouette = 0.211\n"
     ]
    },
    {
     "name": "stderr",
     "output_type": "stream",
     "text": [
      "/home/obaskov/miniconda3/envs/ull-dev/lib/python3.6/site-packages/sklearn/metrics/cluster/unsupervised.py:205: RuntimeWarning: invalid value encountered in true_divide\n",
      "  sil_samples /= np.maximum(intra_clust_dists, inter_clust_dists)\n"
     ]
    }
   ],
   "source": [
    "for n_clusters in range(2, len(cd)-1):\n",
    "    try:\n",
    "        cdf, silhouette, labels = agglomerative_clustering(cd, words, n_clusters)\n",
    "        print(n_clusters, 'clusters: silhouette =' , round(silhouette, 3))\n",
    "    except:\n",
    "        print('error, silhouette =', silhouette)"
   ]
  },
  {
   "cell_type": "code",
   "execution_count": 8,
   "metadata": {},
   "outputs": [
    {
     "name": "stdout",
     "output_type": "stream",
     "text": [
      "10 clusters: silhouette = 0.511\n",
      "   cluster                 cluster_words\n",
      "1      C01            [now, before, not]\n",
      "2      C02  [human, food, parent, child]\n",
      "3      C03                    [dad, mom]\n",
      "4      C04               [daughter, son]\n",
      "5      C05                       [liked]\n",
      "6      C06               [cake, sausage]\n",
      "7      C07                         [was]\n",
      "8      C08                          [is]\n",
      "9      C09                       [likes]\n",
      "10     C10                           [a]\n"
     ]
    }
   ],
   "source": [
    "n_clusters=10\n",
    "cdf, silhouette, labels = agglomerative_clustering(cd, words, n_clusters)\n",
    "print(n_clusters, 'clusters: silhouette =' , round(silhouette, 3))\n",
    "print(cdf)"
   ]
  },
  {
   "cell_type": "code",
   "execution_count": 9,
   "metadata": {},
   "outputs": [
    {
     "name": "stdout",
     "output_type": "stream",
     "text": [
      "12 clusters: silhouette = 0.561\n",
      "   cluster    cluster_words\n",
      "1      C01    [before, not]\n",
      "2      C02  [daughter, son]\n",
      "3      C03       [dad, mom]\n",
      "4      C04   [food, parent]\n",
      "5      C05          [liked]\n",
      "6      C06  [cake, sausage]\n",
      "7      C07            [was]\n",
      "8      C08             [is]\n",
      "9      C09          [likes]\n",
      "10     C10              [a]\n",
      "11     C11            [now]\n",
      "12     C12   [human, child]\n"
     ]
    }
   ],
   "source": [
    "n_clusters=12\n",
    "cdf, silhouette, labels = agglomerative_clustering(cd, words, n_clusters)\n",
    "print(n_clusters, 'clusters: silhouette =' , round(silhouette, 3))\n",
    "print(cdf)"
   ]
  },
  {
   "cell_type": "markdown",
   "metadata": {},
   "source": [
    "### Learn Grammar"
   ]
  },
  {
   "cell_type": "code",
   "execution_count": 10,
   "metadata": {},
   "outputs": [],
   "source": [
    "word_space = 'sparse'\n",
    "algorithm = 'agglomerative_clustering'\n",
    "\n",
    "def cdf2cats(cdf):\n",
    "    clusters = cdf\n",
    "    cats = {}  #80609 dict instead of DataFrame\n",
    "    cats['cluster'] = ['C0'] + clusters['cluster'].tolist()\n",
    "    cats['parent'] = [0 for x in cats['cluster']]\n",
    "    cats['words'] = [[]] + [set(x) for x in clusters['cluster_words'].tolist()]\n",
    "    if 'disjuncts' in clusters:\n",
    "        cats['disjuncts'] = [[]] + clusters['disjuncts'].tolist()\n",
    "        djset = set()\n",
    "        [[djset.add(y) for y in x] for x in cats['disjuncts']]\n",
    "        djlist = sorted(djset)\n",
    "        cats['djs'] = [set([djlist.index(x) for x in y if x in djlist]) \\\n",
    "                       for y in cats['disjuncts']]\n",
    "    if 'counts' in clusters:\n",
    "        cats['counts'] = [0] + clusters['counts'].tolist()\n",
    "    if word_space == 'vectors' or algorithm == 'kmeans':\n",
    "        cats['quality'] = [0 for x in cats['words']]\n",
    "        cats['similarities'] = [[0 for y in x] for x in cats['words']]\n",
    "    else:\n",
    "        cats['quality'] = [1 for x in cats['words']]\n",
    "        cats['quality'][0] = 0\n",
    "        cats['similarities'] = [[1 for y in x] for x in cats['words']]\n",
    "        cats['similarities'][0] = [0]\n",
    "    cats['children'] = [0 for x in cats['words']]\n",
    "    return cats\n",
    "\n",
    "cats = cdf2cats(cdf)"
   ]
  },
  {
   "cell_type": "code",
   "execution_count": 11,
   "metadata": {},
   "outputs": [],
   "source": [
    "gen_cats = cats\n",
    "fat_cats = add_disjuncts(gen_cats, links, verbose)"
   ]
  },
  {
   "cell_type": "code",
   "execution_count": 12,
   "metadata": {},
   "outputs": [],
   "source": [
    "rules, re07 = induce_grammar(fat_cats, links)"
   ]
  },
  {
   "cell_type": "code",
   "execution_count": 13,
   "metadata": {},
   "outputs": [],
   "source": [
    "re09 = save_cat_tree(rules, oc, verbose='none')"
   ]
  },
  {
   "cell_type": "code",
   "execution_count": 14,
   "metadata": {},
   "outputs": [],
   "source": [
    "grammar_rules = 2\n",
    "re10 = save_link_grammar(rules, og, grammar_rules)"
   ]
  },
  {
   "cell_type": "markdown",
   "metadata": {},
   "source": [
    "### Test Grammar"
   ]
  },
  {
   "cell_type": "code",
   "execution_count": 15,
   "metadata": {},
   "outputs": [],
   "source": [
    "%%capture\n",
    "pa, pq, qa = pqa_meter(re10['grammar_file'], og, cp, rp, **kwargs)"
   ]
  },
  {
   "cell_type": "code",
   "execution_count": 16,
   "metadata": {},
   "outputs": [
    {
     "name": "stdout",
     "output_type": "stream",
     "text": [
      "parse-ability, parse quality: 46% 39%\n"
     ]
    }
   ],
   "source": [
    "print('parse-ability, parse quality:', \n",
    "      str(int(round(pa,0)))+'%', str(int(round(pq,0)))+'%')"
   ]
  },
  {
   "cell_type": "markdown",
   "metadata": {},
   "source": [
    "## POC-English-Amb"
   ]
  },
  {
   "cell_type": "code",
   "execution_count": 17,
   "metadata": {},
   "outputs": [
    {
     "name": "stdout",
     "output_type": "stream",
     "text": [
      "2 clusters: silhouette = 0.578\n",
      "3 clusters: silhouette = 0.602\n",
      "4 clusters: silhouette = 0.466\n",
      "5 clusters: silhouette = 0.478\n",
      "6 clusters: silhouette = 0.513\n",
      "7 clusters: silhouette = 0.516\n",
      "8 clusters: silhouette = 0.504\n",
      "9 clusters: silhouette = 0.509\n",
      "10 clusters: silhouette = 0.356\n",
      "11 clusters: silhouette = 0.382\n",
      "12 clusters: silhouette = 0.394\n",
      "13 clusters: silhouette = 0.209\n",
      "14 clusters: silhouette = 0.248\n",
      "15 clusters: silhouette = 0.243\n",
      "16 clusters: silhouette = 0.256\n",
      "17 clusters: silhouette = 0.271\n",
      "18 clusters: silhouette = 0.28\n",
      "19 clusters: silhouette = 0.29\n",
      "20 clusters: silhouette = 0.3\n",
      "21 clusters: silhouette = 0.303\n",
      "22 clusters: silhouette = 0.306\n",
      "23 clusters: silhouette = 0.309\n",
      "24 clusters: silhouette = 0.313\n",
      "25 clusters: silhouette = 0.316\n",
      "26 clusters: silhouette = 0.32\n",
      "27 clusters: silhouette = 0.318\n",
      "28 clusters: silhouette = 0.28\n",
      "29 clusters: silhouette = 0.257\n",
      "30 clusters: silhouette = 0.233\n",
      "31 clusters: silhouette = 0.233\n",
      "32 clusters: silhouette = 0.233\n",
      "33 clusters: silhouette = 0.233\n",
      "34 clusters: silhouette = 0.233\n",
      "35 clusters: silhouette = 0.233\n",
      "36 clusters: silhouette = 0.233\n",
      "37 clusters: silhouette = 0.244\n",
      "38 clusters: silhouette = 0.233\n",
      "39 clusters: silhouette = 0.186\n",
      "40 clusters: silhouette = 0.14\n",
      "41 clusters: silhouette = 0.093\n"
     ]
    },
    {
     "name": "stderr",
     "output_type": "stream",
     "text": [
      "/home/obaskov/miniconda3/envs/ull-dev/lib/python3.6/site-packages/sklearn/metrics/cluster/unsupervised.py:205: RuntimeWarning: invalid value encountered in true_divide\n",
      "  sil_samples /= np.maximum(intra_clust_dists, inter_clust_dists)\n"
     ]
    }
   ],
   "source": [
    "corpus = 'POC-English-Amb'\n",
    "dataset = 'MST-fixed-manually'\n",
    "rp = module_path + '/data/POC-English-Amb/MST-fixed-manually/poc-english_ex-parses-gold.txt'\n",
    "cp = rp  # corpus path = reference path\n",
    "ip, oc, og = params(corpus, dataset, module_path, out_dir, **kwargs)\n",
    "files, re01 = check_mst_files(ip, verbose='none')\n",
    "kwargs['input_files'] = files\n",
    "links, re02 = files2links(**kwargs)\n",
    "counts, words, linx = co_occurrence_matrix(links)\n",
    "cd = categorical_distribution(counts, threshold=0.)\n",
    "for n_clusters in range(2, len(cd)-1):\n",
    "    try:\n",
    "        cdf, silhouette, labels = agglomerative_clustering(cd, words, n_clusters)\n",
    "        print(n_clusters, 'clusters: silhouette =' , round(silhouette, 3))\n",
    "    except:\n",
    "        print('error, silhouette =', silhouette)"
   ]
  },
  {
   "cell_type": "code",
   "execution_count": 18,
   "metadata": {},
   "outputs": [
    {
     "name": "stdout",
     "output_type": "stream",
     "text": [
      "7 clusters: silhouette index = 0.516\n",
      "{'wood', 'telescope', 'human', 'tool', 'liked', 'board', 'parent', 'on', 'before', 'chalk', 'directors', 'be', 'to', 'his', 'writes', 'knocked', 'of', 'sees', 'not', 'sausage', 'was', 'are', 'sawed', 'the', 'child', 'hammer', 'wants', 'food', 'likes', 'now', 'binoculars', 'cake', 'her'}\n",
      "{'has', 'with'}\n",
      "{'mom', 'dad'}\n",
      "{'son', 'daughter'}\n",
      "{'a'}\n",
      "{'is'}\n",
      "{'saw'}\n"
     ]
    }
   ],
   "source": [
    "n_clusters = 7\n",
    "cdf, silhouette, labels = agglomerative_clustering(cd, words, n_clusters)\n",
    "print(n_clusters, 'clusters: silhouette index =' , round(silhouette, 3))\n",
    "cats = cdf2cats(cdf)\n",
    "for x in cats['words'][1:]: print(x)\n",
    "gen_cats = cats\n",
    "fat_cats = add_disjuncts(gen_cats, links, verbose)\n",
    "rules, re07 = induce_grammar(fat_cats, links)\n",
    "re09 = save_cat_tree(rules,  oc, verbose='none')\n",
    "grammar_rules = 2\n",
    "re10 = save_link_grammar(rules, og, grammar_rules)"
   ]
  },
  {
   "cell_type": "code",
   "execution_count": 19,
   "metadata": {},
   "outputs": [],
   "source": [
    "%%capture\n",
    "pa, pq, qa = pqa_meter(re10['grammar_file'], og, cp, rp, **kwargs)"
   ]
  },
  {
   "cell_type": "code",
   "execution_count": 20,
   "metadata": {},
   "outputs": [
    {
     "name": "stdout",
     "output_type": "stream",
     "text": [
      "parse-ability, parse quality: 84.6% 69.5%\n"
     ]
    }
   ],
   "source": [
    "print('parse-ability, parse quality:', \n",
    "      str(round(pa,1))+'%', str(round(pq,1))+'%')"
   ]
  },
  {
   "cell_type": "markdown",
   "metadata": {},
   "source": [
    "**Baseline**:  \n",
    "cDRKd: 90%/86%, 18 rules  \n",
    "dILEd: 36%/32%, 37 rules (no generalization)"
   ]
  },
  {
   "cell_type": "code",
   "execution_count": 21,
   "metadata": {},
   "outputs": [],
   "source": [
    "#STOP"
   ]
  },
  {
   "cell_type": "markdown",
   "metadata": {},
   "source": [
    "## Child Directed Speech"
   ]
  },
  {
   "cell_type": "code",
   "execution_count": 22,
   "metadata": {},
   "outputs": [
    {
     "name": "stdout",
     "output_type": "stream",
     "text": [
      "2018-09-24 07:23:44 UTC\n"
     ]
    }
   ],
   "source": [
    "corpus = 'CDS-caps-br-text+brent9mos'\n",
    "dataset = 'LG-English'\n",
    "rp = module_path + '/data/CDS-caps-br-text+brent9mos/LG-English'\n",
    "cp = rp  # corpus path = reference_path :: use 'gold' parses as test corpus\n",
    "ip, oc, og = params(corpus, dataset, module_path, out_dir, **kwargs)\n",
    "files, re01 = check_mst_files(ip, verbose='none')\n",
    "kwargs['input_files'] = files\n",
    "links, re02 = files2links(**kwargs)\n",
    "counts, words, linx = co_occurrence_matrix(links)\n",
    "cd = categorical_distribution(counts, threshold=0.)\n",
    "print(UTC())"
   ]
  },
  {
   "cell_type": "markdown",
   "metadata": {},
   "source": [
    "### 20 clusters - PA/PQ ~ 71%/51%"
   ]
  },
  {
   "cell_type": "code",
   "execution_count": 23,
   "metadata": {},
   "outputs": [
    {
     "name": "stdout",
     "output_type": "stream",
     "text": [
      "20 clusters: silhouette index = 0.889\n",
      "2018-09-24 07:27:09 UTC\n"
     ]
    }
   ],
   "source": [
    "n_clusters = 20\n",
    "cdf, silhouette, labels = agglomerative_clustering(cd, words, n_clusters)\n",
    "print(n_clusters, 'clusters: silhouette index =' , round(silhouette, 3))\n",
    "cats = cdf2cats(cdf)\n",
    "# for x in cats['words'][1:]: print(x)\n",
    "gen_cats = cats\n",
    "fat_cats = add_disjuncts(gen_cats, links, verbose)\n",
    "rules, re07 = induce_grammar(fat_cats, links)\n",
    "re09 = save_cat_tree(rules,  oc, verbose='none')\n",
    "grammar_rules = 2\n",
    "re10 = save_link_grammar(rules, og, grammar_rules)\n",
    "print(UTC())"
   ]
  },
  {
   "cell_type": "code",
   "execution_count": 24,
   "metadata": {},
   "outputs": [],
   "source": [
    "%%capture\n",
    "pa, pq, qa = pqa_meter(re10['grammar_file'], og, cp, rp, **kwargs)"
   ]
  },
  {
   "cell_type": "code",
   "execution_count": 25,
   "metadata": {},
   "outputs": [
    {
     "name": "stdout",
     "output_type": "stream",
     "text": [
      "parse-ability, parse quality: 70.7% 51.4%\n",
      "2018-09-24 07:31:23 UTC\n"
     ]
    }
   ],
   "source": [
    "print('parse-ability, parse quality:', \n",
    "      str(round(pa,1))+'%', str(round(pq,1))+'%')\n",
    "print(UTC())"
   ]
  },
  {
   "cell_type": "markdown",
   "metadata": {},
   "source": [
    "### Best results:\n",
    " 3 rules: 71.9%/49.7% (silhouette index 0.978)  \n",
    " 7 rules: 71.7%/50.6% (silhouette index 0.964)  \n",
    "20 rules: 70.7%/51.4% (silhouette index 0.889)  \n",
    "77 rules: 63.6%/49.3% (silhouette index 0.529)  \n",
    "**Previous tests 2018-08-14:**  \n",
    "cDRKc: 71%/50% 78 rules;  \n",
    "dILEd: 40%/37% 2980 rules"
   ]
  },
  {
   "cell_type": "markdown",
   "metadata": {},
   "source": [
    "### Range 3-20"
   ]
  },
  {
   "cell_type": "code",
   "execution_count": 26,
   "metadata": {},
   "outputs": [
    {
     "name": "stdout",
     "output_type": "stream",
     "text": [
      "3 clusters: silhouette = 0.978\n",
      "5 clusters: silhouette = 0.964\n",
      "7 clusters: silhouette = 0.907\n",
      "9 clusters: silhouette = 0.906\n",
      "11 clusters: silhouette = 0.901\n",
      "13 clusters: silhouette = 0.892\n",
      "15 clusters: silhouette = 0.894\n",
      "17 clusters: silhouette = 0.894\n",
      "19 clusters: silhouette = 0.892\n",
      "21 clusters: silhouette = 0.89\n"
     ]
    }
   ],
   "source": [
    "for n_clusters in range(3, 22, 2):\n",
    "    try:\n",
    "        cdf, silhouette, labels = agglomerative_clustering(cd, words, n_clusters)\n",
    "        print(n_clusters, 'clusters: silhouette =' , round(silhouette, 3))\n",
    "    except:\n",
    "        print('error, silhouette =', silhouette)"
   ]
  },
  {
   "cell_type": "markdown",
   "metadata": {},
   "source": [
    "### 7 clusters: comparable with 20 clusters"
   ]
  },
  {
   "cell_type": "code",
   "execution_count": 27,
   "metadata": {},
   "outputs": [
    {
     "name": "stdout",
     "output_type": "stream",
     "text": [
      "7 clusters: silhouette index = 0.907\n",
      "{\"let's\", 'he', 'no', 'back', 'on', 'mommy', 'this', 'my', 'his', 'wanna', 'oh', 'do', 'so', 'out', 'right', 'your', 'see', 'yeah', 'say', 'i', 'over', 'up', 'here', 'okay', 'that', 'down', 'little', 'baby', 'what', \"don't\", 'all', 'me', 'one', 'more', 'in', 'get', 'good', 'go', 'they', 'some', 'there', 'it', 'want', 'have', 'now', 'those', 'him', 'like', 'big', 'we', 'them', 'just', 'something'}\n",
      "{'the', 'a'}\n",
      "{'babes', 'friday', 'express', 'carrying', 'sugar', 'cried', 'draw', 'bike', 'father', 'licking', 'lever', 'hardheaded', 'sauce', 'man', 'asking', 'gus', 'zip', 'works', 'fake', 'baebae', 'fire', 'stupid', 'drop', 'spit', 'throat', 'airplane', 'listen', 'sweetie', 'trucks', 'cool', 'peep', 'belly', 'mandy', 'earth', 'peppers', 'pouch', 'through', 'panting', 'body', 'infection', 'drinkie', 'prayers', 'eleven', 'dragon', 'alone', 'tracks', 'untie', 'chance', 'scrubbie', 'barbells', 'pampers', 'spinning', 'pinch', 'clear', 'kissie', 'suzie', 'underwear', 'destruction', 'agree', 'problem', 'pet', 'yelling', 'scratching', 'nearly', 'circle', 'thirty', 'juices', 'first', 'kind', 'cooking', 'swings', 'pulling', 'august', 'ourself', 'touched', 'didey', 'bless', 'oatmeal', 'backordered', 'rearrange', 'scenes', 'zipper', 'amelia', 'happen', 'underneath', 'rahab', 'grate', 'unicorn', 'pages', 'lake', 'gum', 'n@l', 'ruffle', 'toilet', 'riders', 'lordy', 'weekend', 'turkey', 'boomerang', 'may', 'zoo', 'mooshas', 'papa', 'beach', 'beep', 'frosty', 'boring', 'kid', 'whale', 'ringing', 'dyeisha', 'did', 'apart', 'looked', 'andy', 'tipping', 'crunch', 'parsnips', 'thing', 'frustrated', 'clown', 'wagon', 'yellow', 'service', 'washed', 'uses', 'lazy', 'smiling', 'arms', 'taught', 'woke', 'name', 'folding', 'fifteen', 'staring', 'drawers', 'mood', 'marni', 'chase', 'raisins', 'suddenly', 'peach', 'supposed', 'potato', 'girlie', 'land', 'sort', 'searched', 'because', 'cats', 'at', 'between', 'watery', 'jake', 'r@l', 'upset', 'turned', 'fresh', 'aunt', 'landings', 'mode', 'knot', 'wipes', 'tail', 'strawberry', 'outfit', 'stuffed', 'spend', 'chewing', 'pjs', 'fists', 'clips', 'helicopter', 'jello', 'else', 'pattycake', 'clock', 'doors', 'liz', 'favorite', 'mailbox', 'hazard', 'pottie', 'online', 'undo', 'figure', 'six', 'cover', 'talk', 'slopping', 'tickle', 'tissue', 'cheerio', 'purse', 'beat', 'f@l', 'googooeyed', 'pats', 'help', 'tapioca', 'someone', 'incredible', 'meeko', 'helper', 'small', 'dump', 'beets', 'wait', 'maybe', 'blowing', 'arches', 'drooling', 'hammer', 'rich', 'bell', 'drinks', 'donna', 'game', 'spider', 'dad', \"'re\", 'chairs', 'peeyoustinky', 'bible', 'serve', 'human', 'settled', 'arm', 'hippos', 'loren', 'cone', 'hyena', 'footie', 'goal', 'ketchup', 'gross', 'mercies', 'books', \"ain't\", 'able', 'goody', 'slide', 'raining', 'da', 'spoonfuls', 'laura', 'cry', 'getting', 'screaming', 'missing', 'bringing', 'bummie', 'lose', 'baker', 'purpose', 'stop', 'booty', 'has', 'j@l', 'messing', 'while', 'pan', 'dream', 'kittykitty', 'remembers', 'aw', 'bread', 'stronger', 'playhouse', 'onsie', 'flipping', 'shift', 'cushions', 'cord', 'instead', 'nodding', 'burps', 'hears', 'fluids', 'nearby', 'outlet', 'fussies', 'okeydokey', 'bottle', 'waves', 'miranda', 'tom', 'prove', 'mother', 'lied', 'dandy', 'hinge', 'giggles', 'act', 'parade', 'brothers', 'well', 'lima', 'neighborhood', 'circus', 'then', 'kickball', 'slinky', 'easier', 'fuzz', 'fluffy', 'obsessed', 'popup', 'boat', 'taped', 'fighting', 'belong', 'cloth', 'warming', 'slumber', 'fence', 'pockets', 'comes', 'burn', 'squirmy', 'opposite', 'person', 'scrambled', 'seasons', 'kinda', 'squished', 'saucers', 'crocuses', 'barking', 'ankles', 'shielded', 'upside', 'rather', 'towels', 'ten', 'shakes', 'hare', 'wear', 'sock', 'building', 'tastes', 'chickies', 'dangerous', 'percent', 'dukes', 'pig', 'trash', 'pour', 'spread', 'teach', 'holy', 'words', 'changing', 'morgan', 'awake', 'tarts', 'unzipped', 'scooby', 'knows', 'hopscotch', 'grace', 'buds', 'low', 'genie', 'crayon', 'comb', 'balloon', 'worked', 'long', 'dried', 'grammy', 'playpen', 'food', 'fuzzy', 'pieces', 'swinging', 'tricky', 'build', 'ribbon', 'dig', 'tweety', 'colors', 'brand', 'dead', 'birthday', 'penguin', 'looking', 'sorts', 'completely', 'snatched', 'difficult', 'otherwise', 'eight', 'jingles', \"couldn't\", 'punishment', 'forehead', 'very', 'jaw', 'mommies', 'crane', 'turn', 'squirming', 'love', 'shred', 'lists', 'numbers', 'cooked', 'rubbing', 'english', 'spins', 'remote', 'blanket', 'told', 'kicked', 'mice', 'stick', 'advice', 'frozen', 'taters', 'snacks', 'buy', 'aquarium', 'backing', 'inside', 'moomooshas', 'fix', 'climber', 'landed', 'sleeps', 'cheerios', 'too', 'again', 'think', 'auntie', 'sweetiepie', 'running', \"duckie's\", 'important', 'cannot', 'many', 'ask', 'ho', 'mirror', 'giggle', 'rained', 'h@l', 'try', 'truck', 'smart', 'performer', 'poo', 'ticklish', 'almost', 'window', 'halfway', 'acting', 'popular', 'ears', 'lives', 'eaten', 'sweet', 'itch', \"won't\", 'carrots', 'bullfrog', 'slobbering', 'off', 'jammies', 'slippers', 'later', 'safe', 'woman', 'nan', 'russell', 'she', 'shena', 'nicer', 'wants', 'ones', 'whom', 'thermometer', 'moved', 'feels', 'potholder', 'smaller', 'besides', 'dishes', 'doggone', 'county', 'exercises', 'remind', 'concerned', 'hand', 'wet', 'quilt', 'christmas', 'as', 'footprints', 'hungry', 'doctor', 'piggie', 'changed', 'bathtub', 'barrette', 'tree', 'cruise', 'stuck', 'funny', 'precious', 'gee', 'home', 'loud', 'minute', 'fit', 'college', 'raineth', 'are', 'past', 'lover', 'stay', 'holds', 'bruise', 'street', 'unpleasant', 'grabbed', 'ocean', 'pepsi', 'letting', 'hug', 'whee', 'wide', 'locks', 'santa', 'froggie', 'wave', 'k@l', 'squirrellies', 'taking', 'chirp', 'things', 'air', 'hurting', 'job', 'kisses', 'bites', 'speaking', 'honey', 'ate', 'animal', 'steak', 'rains', 'behind', 'even', 'crazy', 'freddy', 'prince', 'spaghetti', 'heavens', 'done', 'sews', 'bus', \"nan's\", 'steadfast', 'monkey', 'hairbrush', 'cleans', 'jelly', 'flat', 'vacuums', 'swing', 'rolling', 'guitar', 'crib', 'hard', 'overalls', 'dare', 'jumped', 'museum', 'puppet', 'lady', 'poles', 'booboo', 'dancing', 'bert', 'raspberry', 'cupboard', 'wuzzy', 'moppet', 'hugging', 'cost', 'pups', 'sammy', 'morning', 'snowsuit', 'honestly', 'covered', 'payperview', 'face', 'games', 'free', 'and', 'moving', 'snuggle', 'babies', \"'ll\", 'counting', 'squirm', 'tried', 'such', 'needed', 'nope', 'sec', 'dry', 'afternoon', 'coasters', 'though', 'roberts', 'saw', 'family', 'filled', 'muddy', 'nowhere', 'foot', 'hallelujah', 'wonder', 'stew', 'following', 'must', 'grateful', 'flows', 'spectrum', 'sneaky', 'rub', 'left', 'polite', 'dressing', 'black', 'gave', 'sat', 'string', 'cords', 'daisy', 'booboonee', 'highchair', 'xavier', 'money', 'leaves', 'uhuh', 'adore', 'dumpty', 'shelf', 'appetite', 'jeans', 'babbling', 'picture', 'bar', 'writing', 'quite', 'damp', 'age', 'ignore', 'switch', 'buildings', 'pie', 'daring', 'bounce', 'idea', 'bad', 'breathing', 'two', 'strings', 'jacks', 'surprised', 'bump', 'drooly', 'greg', 'doing', 'discover', 'spin', 'spirit', 'wall', 'spout', 'amusing', 'exists', 'ulterior', 'entertaining', 'pushing', 'gear', 'spill', 'outtalk', 'boil', 'applesauce', 'walk', 'chris', 'cups', 'nicely', 'cream', 'hanging', 'chimp', 'nappie', 'opened', 'lovely', 'poor', 'suspender', 'joke', 'tumble', 'input', 'thrown', 'chick', 'full', 'miss', 'strange', 'duckie', 'pretend', 'gail', 'decide', 'pear', 'nurse', \"'d\", 'pray', 'boops@o', 'box', 'grocery', 'manage', 'sally', 'scamper', 'goat', 'warmed', 'wiggle', 'beautiful', 'gone', 'spot', 'london', 'expensive', 'take', 'donald', 'question', 'sit', 'coaster', 'doggy', 'whose', 'tiddywinkle', 'resting', 'dueling', 'silverware', 're@si', 'drummer', 'vacation', 'shapes', 'antibiotic', 'unplug', 'drank', 'awesome', 'talkative', 'poopoo', 'baltimore', 'edge', 'could', 'lucky', 'ready', 'bananas', 'herself', 'glass', 'waving', 'yawning', 'hit', 'centipede', 'dadada', 'share', \"marie's\", 'dryer', \"fitzpatrick's\", \"isn't\", 'thinks', 'whispered', 'ravens', 'strength', 'velcro', 'onie', 'burp', 'characters', 'tongue', 'shake', 'farm', 'measure', 'sheets', 'cubby', 'animals', 'trust', 'greatest', 'vehicle', 'be', 'oops', 'tumbled', 'cloudy', 'against', 'of', 'lunch', 'friendly', 'pamper', 'forest', 'bring', 'dinner', 'cranberry', \"doesn't\", 'yep', 'excited', 'mac', 'grief', 'heater', 'wonderful', 'backed', 'complain', \"horsie's\", 'gerber', 'bedroom', 'milk', 'celery', 'space', 'civilized', 'third', 'phones', 'basketball', 'hymnal', 'shave', 'higher', 'chill', 'ewie', 'blink', 'went', 'would', 'sips', 'snowing', 'machine', 'broad', 'couch', 'dirt', 'clothes', 'squash', 'brooklyn', 'crinkly', 'pot', 'dis', 'can', 'lost', 'max', 'tweetie', 'these', 'mercy', 'groceries', 'winkle', 'close', 'scratched', 'momma', 'roadrunner', 'kitties', 'weewee', 'fishies', 'people', 'frilly', 'satisfying', 'dear', 'pants', \"o'clock\", 'ballgame', 'clean', 'gorgeous', 'whether', 'fear', 'mickey', 'missed', 'ernie', 'bingo', 'ballerina', 'dreaming', 'poisonous', 'learn', 'cartoon', 'month', 'plants', 'zipped', 'catching', 'october', 'himself', 'blinking', 'made', 'judy', 'match', 'bow', 'scissors', 'mit@l', 'thread', 'hour', 'tons', 'ran', 'envelopes', 'sidney', 'ham', 'inches', 'fossil', 'violin', 'nothing', 'foods', 'smoother', 'gigi', 'speak', 'below', 'pair', 'bib', 'today', 'peas', 'drenched', 'named', 'together', 'sometimes', 'place', 'until', 'dididi@o', 'desire', 'energy', 'wife', 'cold', 'broth', 'washing', 'check', 'watch', 'laundry', 'squeaky', 'jars', 'praised', 'guys', 'dinosaur', 'tumbling', 'unstrap', 'eensie', 't@l', 'tied', 'fur', 'vegetable', 'breakfast', 'glorified', 'henry', 'poopie', 'jump', 'wanting', 'into', 'thumb', 'floats', 'sneakers', 'training', 'eleanor', 'children', 'squirrel', 'drumming', 'noises', 'run', 'morgie', 'chee', 'brittney', 'snowman', 'fishbowl', 'marie', 'waking', 'bedspread', 'since', 'held', 'weensie', 'ginger', 'puts', 'orange', 'slip', 'mount', 'dirty', 'vent', 'dog', 'am', 'tag', 'attention', 'cakes', 'hump', 'mad', 'clap', 'macaroniandcheese', 'everyone', 'chicken', 'poppy', 'time', 'once', 'allen', 'sidewalk', 'mobile', 'urchins', 'happening', 'octopus', 'ordered', 'power', 'sampling', 'roaming', 'pumba', 'glasses', 'patting', 'twisty', 'sign', 'faithful', 'write', \"tata's\", 'mine', 'boopsieboo', 'another', 'us', 'balmex', 'watermelon', 'punch', 'steps', 'favor', 'cows', 'taste', 'glump', 'stacked', 'directions', 'clowns', 'gold', 'rock', 'pickle', 'summer', 'dark', 'will', 'ashy', 'stepped', 'pooh', 'cans', 'fascinated', 'yard', 'forth', 'pink', 'tweet', 'lure', 'kelsey', 'drink', 'heat', 'hiding', 'poke', 'cup', 'sofa', 'touchie', 'wrist', 'oats', 'towers', 'trees', 'cleaning', 'saved', 'stroller', 'gotta', 'deck', 'wreck', 'knocked', 'army', 'practice', 'gums', 'doggies', 'kings', 'shame', 'please', \"michael's\", 'mushed', 'nose', 'cheekies', 'pointing', 'drool', 'an', 'hide', 'm@l', 'driveway', 'shirts', 'earthquake', 'wake', 'faking', 'cards', 'winter', 'recording', 'let', 'shirt', 'sweater', 'cola', 'beings', 'constantly', 'under', 'winky', 'rocker', 'hopefully', 'nana', 'nesting', 'cut', 'scorpion', 'fishie', \"shouldn't\", 'sweeping', 'feet', 'planet', 'tough', 'iron', 'diet', 'drops', 'brian', 'strong', 'boneeno', 'gently', 'do@si', 'after', 'change', 'quiver', 'boys', 'button', 'paused', 'swim', 'said', 'clapping', 'rabbits', 'kneel', 'keep', 'teensie', 'scratchy', 'angelica', 'choices', 'shadow', 'kleenex', 'chi', 'bugs', 'diamond', 'runny', 'sun', \"gail's\", 'favorites', 'roast', 'nosey', 'moon', 'look', 'river', 'hospital', 'water', 'bummer', 'market', 'timing', 'layed', 'kitty', 'eggs', 'older', 'by', 'generous', 'profiling', 'ohmygoodness', 'horses', 'heaven', 'organized', 'towel', 'knock', 'mike', 'fishing', 'crocodile', 'mower', 'grin', 'promised', 'bill', 'patrick', 'cardinal', 'glory', 'wheel', \"weren't\", 'seal', 'tip', 'recognize', 'especially', 'upstairs', 'stays', 'choke', 'amount', 'much', 'cindy', 'hush', 'yayayaya', 'pen', 'warm', 'yuck', 'ferry', 'sounds', 'lollipop', 'sandals', 'whispering', 'know', 'chilly', 'work', 'snatch', 'sleeper', 'banana', 'drove', 'binkie', 'hugs', 'minnies', 'tosses', 'wasting', 'enough', 'possible', 'suit', 'sandwich', 'exalted', 'onto', 'indian', 'greedy', 'crankiness', 'tippy', 'zippers', 'beds', 'cranky', 'met', 'probably', 'dale', 'flowing', 'splishysplashy', 'circles', 'caught', 'opens', 'tambourine', 'fill', 'had', 'rattle', 'piece', 'sister', 'daytime', 'scoop', 'tea', 'screen', 'tasting', 'leaning', 'hippo', 'bookies', 'peepee', 'yell', 'cute', 'fat', 'put', 'poops', 'combing', 'runs', 'how', 'few', 'staying', 'sandman', 'neighbors', 'aid', 'fuss', 'mi@si', 'wolf', 'woofwoof', 'pajamas', 'soggy', 'deep', 'ever', 'reading', 'daniel', 'latches', 'experience', 'container', 'kittens', 'cracker', \"jeffrey's\", 'piggies', 'float', 'luck', 'throwing', 'short', 'nick', 'stomach', 'thinking', 'ricky', 'either', 'rover', 'panda', 'shook', 'c', 'wheat', 'picking', 'holler', 'commander', 'sticking', 'seeing', 'itching', 'particular', 'large', 'thy', 'circular', 'coca', 'rockingchair', 'house', 'pouty', 'heybie', 'piano', 'endlessly', 'eats', 'better', 'boy', 'nicole', 'decided', 'bongos', 'lobster', 'picked', 'hardly', 'sewn', 'hands', 'bonk', 'grandma', 'king', 'shoes', 'brisco', 'other', 'pancakes', 'mister', 'boosh', 'wind', 'distraction', 'alphabet', 'tabitha', 'their', 'gotcha', 'going', 'shaking', 'babe', 'bears', 'bone', 'tupperware', 'deal', 'puppies', 'save', 'farmer', 'disturb', 'triangles', 'bongo', 'line', 'didi@o', 'wiggles', 'mistake', 'dresser', 'alice', 'brought', 'calling', 'drag', 'bounder', 'johnny', 'above', 'meat', 'starts', 'grunt', 'smelling', 'away', 'bibbie', 'whatever', \"cindy's\", 'bags', 'mouth', 'player', 'linda', 'second', 'blustery', 'speeds', 'apples', 'lately', 'pokie', 'doghouse', 'kick', 'still', 'vegetables', 'lemon', 'war', 'jumping', 'mkay', 'dust', 'forcing', 'zero', 'pause', 'found', 'bed', 'battery', 'got', 'weeweeweeweewee', 'high', 'fountain', 'called', 'finished', 'carrot', 'beyond', 'spud', 'cereals', 'chimney', 'nono', 'obie', 'feelings', 'bottles', 'paper', 'alexander', 'myself', 'hood', 'hurts', 'seed', 'butterflies', 'dive', \"mickey's\", 'ride', 'its', 'knew', 'handsome', 'variety', 'naked', 'imposter', 'studying', 'jewish', 'pea', 'apricots', 'risen', 'skipped', 'bend', 'yucky', 'poopies', 'paying', 'sending', 'annie', 'drawer', 'bird', 'peter', 'huggy', 'turtle', 'thin', 'seats', 'moaning', 'ah', 'sliding', 'bust', 'z@l', 'ew', 'video', \"annie's\", 'prevents', 'mimi', 'snows', 'dumb', 'cheeto', 'gray', 'huff', 'telephones', 'pillows', \"froggie's\", 'umbrella', 'ear', 'railing', 'dropped', 'hot', 'desitin', 'checkbook', 'ha', 'color', 'forgot', 'flew', 'attacked', 'toothbrush', 'tape', 'tennis', 'loves', 'politely', 'zebra', 'toes', 'exactly', 'forbidden', 'dish', 'glubglub', 'feel', 'successfully', 'finish', 'around', 'doughnut', 'explore', 'boobooshas', 'steam', 'asleep', 'ow', 'chester', 'magazine', 'peeyou', 'irritating', 'quilts', 'curtain', 'mittens', 'zoom', 'chimpanzee', 'handle', 'clicking', 'touching', 'plain', 'hello', 'date', 'horsie', 'hearing', 'patrice', 'loosen', 'brushing', 'carry', 'slapped', 'cubes', 'cake', 'trick', 'telephone', 'soup', 'shy', 'bumpity', 'wild', 'heels', 'view', 'standpoint', 'before', 'laugh', 'shepherd', 'glad', 'rainbow', 'cookie', 'nut', 'stairs', 'laying', 'spoons', 'tantrum', 'juice', 'awful', 'putting', 'telling', 'lovie', 'bleed', 'bending', 'elijah', 'alarm', 'complaining', 'so@si', 'sad', 'buster', 'thousand', 'faces', 'cowboy', 'row', 'dessert', 'locked', 'nipple', 'papou', 'doo', 'jeffrey', 'mush', 'wicked', \"chickie's\", 'pepper', 'boboni', 'fingers', 'fishes', 'yup', 'pup', 'enjoying', 'tired', 'number', 'served', 'tool', 'lotion', 'becoming', 'earphones', 'beginning', 'than', 'attach', 'bridge', 'waterfall', 'hook', 'bossing', 'ball', 'sound', \"bummie's\", 'knifes', 'potatos', 'lined', 'gift', 'peanuts', 'road', 'content', 'smushed', 'blind', 'underarms', 'come', 'give', 'round', 'dolly', 'due', 'thank', 'leash', 'tiny', 'slumbers', 'cheekie', 'step', 'room', 'character', 'castle', 'virginia', 'conversation', 'fold', 'downstairs', 'sunny', 'caves', 'sleet', 'g@l', 'drive', 'sent', 'hitting', 'feed', 'swallow', 'salvation', 'tablecloth', 'faster', 'plays', 'tears', 'goodness', 'women', 'duck', 'timber', 'pull', 'standing', 'horse', 'clues', 'blankie', 'salsa', 'drums', 'hope', 'um', 'poopsie', 'were', 'tent', 'phonics', 'scared', 'hip', 'tools', 'wahwahwah@si', 'headache', 'sure', 'strengthening', 'raggedy', 'spoon', 'hey', 'sir', 'hang', 'table', 'balance', 'lapful', 'pressed', 'exersaucer', 'both', 'ring', 'drum', 'tiggers', 'split', 'mootie', 'square', 'typing', 'litter', 'friends', 'beating', 'flouncy', 'coordination', 'likes', 'crackers', 'ferocious', 'lawrence', 'opinion', \"hadn't\", 'gotten', 'junk', 'book', 'wish', 'nine', \"ma'am\", 'v@l', 'bubbles', 'n', 'coins', 'willy', 'pay', 'shocked', 'bark', 'managed', 'beef', 'backwards', 'thirsty', 'often', 'disaster', 'softest', 'mean', 'says', 'gracious', 'car', 'belongs', 'web', 'headbutts', 'straps', 'nosed', 'roses', 'letter', 'tonga', 'wag', 'rolled', 'garden', 'clobber', 'answering', 'waste', 'poopsie^boo', 'yarn', 'ouch', 'breast', 'roar', 'kit', 'maggie', 'byebyes', 'sewingmachine', 'send', 'cage', 'toward', 'greatly', 'yoyo', 'cutie', 'protect', 'lay', 'wanted', 'push', 'chichi', 'lion', 'presence', 'vas', 'seat', 'goose', 'fa@si', 'magic', 'motorcycle', 'options', 'scraping', 'seagulls', 'grab', 'glove', 'popsicle', 'snowy', 'cub', 'yesterday', 'finally', 'flowers', 'dogs', 'natural', 'chips', 'watching', \"hasn't\", 'fooling', 'tap', 'hi', 'gate', 'jar', 'sold', 'started', 'list', 'pretty', 'should', 'alright', 'minutes', 'vroom', 'boobooneen', 'moosh', 'crack', 'shoulders', 'porch', 'best', 'heads', 'scale', 'looks', 'creep', 'elmo', 'pencil', 'stands', 'choose', 'way', 'huh', 'boom', 'bathroom', 'brain', 'remember', 'fell', 'tulip', 'inchworm', 'edible', 'birdies', 'piglet', 'dada', 'underarm', 'train', 'lie', 'sleep', 'rinse', 'suspenders', 'who', 'closed', 'somebody', 'threes', 'play', 'careful', 'forty', 'dolphin', 'seem', 'sucks', 'moses', 'kiss', 'movie', 'c@l', 'everywhere', 'mayonnaise', 'saying', 'squeak', 'touch', 'arfarf', 'buddies', 'comfort', 'birdie', 'alrightie', 'using', 'heart', 'finding', 'piggy', 'springs', 'sleeping', 'yucka', 'toasty', 'giant', 'girls', 'technical', 'ounces', 'reaching', 'basic', 'plow', 'crud', 'hop', 'shaped', 'gown', 'tilt', 'bug', 'ukelele', 'tower', \"wasn't\", 'kitchen', 'life', 'climb', 'barney', 'john', 'wearing', 'basket', 'snug', 'reindeer', 'far', 'care', 'yogurt', 'off@n', 'duckies', 'chubby', 'times', 'sing', 'dalmatian', 'uncovering', 'noodles', 'hmm', 'reason', 'beatrix', 'rosies', 'invent', 'shining', 'stars', 'balloons', 'loudie', 'al', 'lalalalala', 'price', 'starting', 'arise', 'stopped', 'drill', 'hair', 'ty', 'booger', 'falling', 'grind', 'sour', 'sesame', 'engine', 'supplement', 'chew', 'bet', 'happens', 'might', 'days', 'pocket', 'apronstring', 'stacking', 'nest', 'filling', 'unsnap', \"'m\", 'bright', 'buckle', 'slurping', 'grapes', 'slot', 'heard', 'el', 'lean', 'fallen', 'bear', 'kids', 'marco', 'bake', 'bubbler', 'three', 'stuffy', \"dan's\", 'pose', 'milky', 'spray', 'powells', 'nobody', 'tickler', 'mess', 'awfully', 'lifesavers', 'smile', 'pulled', 'covers', 'teeth', 'gentle', 'dressed', 'exploring', 'bubble', 'use', 'needs', 'buckles', 'stand', 'jill', 'blocked', 'angels', 'pick', 'stink', 'basement', 'broken', 'bunnyrabbit', 'quivering', 'style', 'attack', 'watches', 'tomorrow', 'crooked', 'butternutie@n', 'stinker', 'plan', 'crowd', 'mummy', 'ti@si', 'zigzagging', 'fan', 'move', 'dress', 'newspaper', 'bud', 'crawls', 'mothers', 'yucketyyuck', 'friend', 'figured', 'byebye', 'tooth', 'show', 'flopsy', 'ranch', 'tiger', 'sweetums', 'drawing', 'block', 'boots', 'gonna', 'bedtime', 'alex', 'mouse', 'throws', 'oyster', 'lamp', 'cleaned', 'lint', 'motive', 'potter', 'shrimp', 'walker', 'measures', 'rat', 'tails', 'carpet', 'yourself', 'course', 'lane', 'walkie', 'evening', 'presents', 'interested', 'sits', 'reach', 'nap', 'anybody', 'banging', 'bumped', 'karate', 'eating', 'really', 'd@l', 'peaches', 'interesting', 'powder', 'roof', 'raccoon', 'pop', 'quail', 'meme', 'cheese', 'understand', 'sockie', 'fast', 'stood', 'dapper', 'gabby', 'pocketbook', \"kay's\", 'dos', 'pushed', 'dumbo', 'woowoo', 'fed', 'monster', 'l@l', 'kicking', 'chimes', 'crunchy', 'whiskers', 'muffin', 'missus', 'mousie', 'a@l', 'gump', 'ripping', 'fixed', 'daffy', 'earned', 'with', 'purple', 'bop', 'matter', 'kitten', 'softly', 'scratch', 'kittycats', 'granny', 'corn', 'swimming', 'lettuce', 'sea', 'humming', 'legs', 'twisting', 'lord', 'farther', 'park', 'for', 'cares', 'yaya', 'tanish', 'uhoh', 'if', 'curled', 'headed', 'bows', 'seeds', 'tiptoes', 'someplace', 'leaned', 'matches', 'gimme', 'sleepy', 'egg', 'singing', 'icy', 'scoot', 'son', 'unhappy', 'slowly', 'wrapped', 'forget', 'cat', 'julia', 'position', 'mixed', 'climbed', 'themselves', 'halloween', 'mets', 'parrot', 'silly', 'does', 'white', 'mouses', 'rush', 'rubber', 'crab', 'usual', 'q@l', 'ways', 'whiney', 'tootsie', 'spring', 'blueberry', 'milkie', 'augmentin', 'winnie', 'kristin', 'shoelaces', 'mamama', 'folded', 'algae', 'sticks', 'scott', 'benjamin', 'enjoyed', 'discovered', 'nightnight', 'taz', 'brush', 'haircut', 'click', 'restrained', 'teas', 'dance', 'trapeze', 'stinky', 'undone', 'bag', 'make', 'ladder', 'o@l', 'lolly', 'quiet', 'each', 'blankets', 'swoosh', 'unit', 'hunkamunka', 'tootsies', 'floor', 'piles', 'win', 'meant', 'lying', 'tad', 'crawling', 'horsieback', 'town', 'yolk', 'tapemeasure', 'coming', 'warrior', 'pajamaies', 'break', 'dolphins', 'plenty', 'pokemon', 'seven', \"marco's\", 'frog', 'empty', 'least', 'rose', 'quack', 'flavored', 'tug', 'hates', 'most', 'frustrating', 'rattles', 'u@l', 'lookee', 'burped', 'teenyweeny', 'iguana', 'stack', 'stretching', 'policy', \"alice's\", 'brittany', 'moo', 'gets', 'baseball', 'supper', 'ants', 'nuggets', 'corner', 'kittycat', 'visit', 'bottom', 'sleepies', 'neck', 'bath', 'washcloth', 'head', 'near', 'tickletickle', 'clouding', 'crabby', 'robin', 'fingernail', 'dipsie', 'across', 'splash', 'old', 'harder', 'suzy', 'years', 'talks', 'wires', 'bigger', 'dusty', 'tuna', 'coffee', 'mistress', 'stomping', 'yank', 'great', 'squashies', 'twelve', 'baths', 'terry', 'shoulder', 'starving', 'giraffe', 'ducks', 'requires', 'known', 'alicia', 'seuss', 'lily', 'grandpa', 'falls', 'elephant', 'slow', 'spilled', 'upsie', 'paint', 'buddy', 'polkadot', 'hanger', 'oopsie', 'men', 'barrettes', 'valentine', 'cutting', 'closet', 'pool', 'noticing', 'tims', 'wash', 'scrumptious', 'splashed', 'song', 'naptime', 'swish', 'leaving', \"judy's\", 'littler', 'only', 'bunnies', 'mind', 'fancy', 'onion', 'shield', 'chat', 'meddlesome', 'pepe', 'yay', 'communication', 'burke', 'workroom', 'yes', 'cereal', 'combed', 'eyes', 'scrub', 'toandfro', 'oval', 'ahead', 'tummy', 'captain', 'orangish', 'pat', 'shut', 'dakota', 'greasy', 'lid', 'threw', 'kiddo', 'wosuits', 'breeze', 'yummy', 'butterfly', 'curse', 'whole', 'pesky', \"birdie's\", 'bang', 'sample', 'count', 'grill', 'raise', 'blah', 'talker', 'unsnapped', 'office', 'her', 'bones', 'jeff', 'toy', 'bought', 'butternut', 'diaper', 'sunglasses', 'barbecue', 'neato', 'cardboard', 'cave', \"dada's\", 'christopher', 'receive', 'leftie', 'chair', 'fruit', 'school', 'dishwasher', 'teethies', 'offered', 'others', 'patty', 'wire', 'fish', 'not', 'lamb', 'opening', 'fusser', 'grip', 'siree', 'mark', 'working', 'curl', 'wishes', 'internet', 'bunny', 'register', 'last', 'timmy', 'late', 'roll', 'rocking', 'sewing', 'america', 'stereo', 'mouths', 'point', 'cart', 'crash', 'abc@l', 'goldfish', 'shaving', 'ink', 'flip', 'loaf', 'pears', 'rash', 'listening', 'green', 'slipper', 'noisy', 'lot', 'certainly', 'teddy', 'longer', 'boogie', 'candle', 'chip', 'press', 'picnic', 'moose', 'medicine', 'response', 'doggie', 'god', 'plug', 'afraid', 'trunk', 'teething', 'phone', 'hall', 'minnie', 'independent', 'tata', 'sticky', 'tub', 'crawler', 'pinto', 'anyway', 'owe', 'been', 'choking', 'whoa', 'ark', 'guy', 'rice', 'promise', 'salad', 'talked', 'smiley', 'hers', 'uncle', 'main', 'takes', 'patio', 'broke', 'tuck', 'cooled', 'begun', 'smush', 'woof', 'elbow', 'center', 'pillow', 'rocks', 'kissing', 'cosby', 'macdonald', 'sweetest', 'actually', 'angry', 'pictures', 'fact', 'soft', 'teeny', 'david', 'bouncy', 'without', 'joy', 'gifts', 'boo', 'rabbit', 'exciting', 'fussbucket', 'twenty', 'keeps', 'shooting', 'dairy', 'stops', 'snorting', 'digby', 'keeper', 'crawl', 'fault', 'puppydog', 'checkout', 'double', 'christening', 'sweatshirt', 'lights', 'cousin', 'sky', 'peekaboo', 'worship', 'devour', 'pearl', 'jaylen', 'giver', 'beans', 'gears', 'messy', 'couple', 'trip', 'tight', 'having', 'wears', 'mix', 'leg', 'store', 'tickles', 'missy', 'mail', 'flakes', 'boneen', 'trouble', 'truly', 'bits', 'bogus', 'scream', 'showing', 'booties', 'company', 'butt', 'timothy', 'latest', 'bean', 'tippietoe', 'terrible', 'guilty', 'strap', 'voice', 'somehow', 'x@l', 'where', 'day', 'fireplace', 'outside', 'hairs', 'facing', 'lifting', 'uh', 'snapped', 'weather', 'leaf', 'hills', 'tim', 'riding', 'inching', 'tinky', 'pike', 'scurry', 'wore', 'own', 'lick', 'seen', 'bitty', 'whineyness', 'four', 'loved', 'brave', 'toot', 'shape', 'yet', 'happened', 'beaten', 'boobie', 'darn', \"paul's\", 'flavorful', 'scare', 'dat', 'catcher', 'live', 'mammals', 'yearling', 'jumps', 'biting', 'plate', 'pinching', 'unique', 'shiny', 'sleeve', 'sub', 'excuse', 'somewhat', 'climbing', 'wood', 'lawn', 'mighty', 'amazing', 'real', 'bah', 'find', 'cookies', 'fall', 'abcs', 'tonight', 'welcome', 'dizzy', 'e@l', 'sucking', 'grow', 'changes', 'hens', 'truth', 'b@l', 'mixing', 'snap', 'lots', 'clipped', 'throw', 'new', 'neat', 'snow', 'dehydrated', 'practicing', 'died', \"dollie's\", 'next', 'diapers', 'guess', 'longest', 'settle', 'bobo', 'shoeless', 'lydia', 'posies', 'lemme', 'quick', 'moments', 'squashie', 'controller', 'reached', 'la@si', 'need', 'hollering', 'buttons', 'or', 'sip', 'used', 'y@l', 'sick', 'bye', 'but', 'slippery', 'front', 'thornbushes', 'mama', 'finger', 'sorry', 'sweetheart', \"aren't\", 'genius', 'top', 'tee', 'measuring', 'end', 'sides', 'graham', 'remembered', 'noodle', 'hold', 'sneeze', 'dideys', 'paging', 'twister', 'our', 'word', 'apron', 'junior', 'jimmy', 'call', 'lock', 'hooked', 'nice', 'meal', 'bucky', 'suchi', 'along', 'five', 'furby', 'team', 'chopped', 'system', 'stomp', 'red', 'any', 'kissed', 'tell', 'rug', 'knees', 'ella', 'radio', 'hoops', 'rain', 'steer', 'knapsack', 'start', 'eye', 'thankyou', 'kept', 'toast', 'key', 'hurry', 'popped', 'sonic', 'built', 'hat', 'means', 'read', 'drinking', 'cars', 'helter', 'cheerful', 'nails', 'mushy', 'mom', 'fly', 'bully', 'medium', 'toothie', 'catastrophe', 'binoculars', 'side', 'chased', 'bo', 'timone', 'keaton', 'recorder', 'bicycle', 'light', 'goes', \"can't\", 'anywhere', 'brown', 'rightie', 'daughter', 'figs', 'glorify', 'bouncing', 'pete', 'sweetiest', 'shoveling', 'hiccup', 'jacob', 'whoopee', 'surface', 'tie', 'plugged', 'windows', 'macaroni', 'alive', 'anne', 'nickelodeon', 'delicious', 'girl', 'shades', 'wakes', 'tyrese', 'upsa', 'note', 'wooly', 'calm', 'itchy', 'colder', 'shoe', 'flower', \"matthew's\", 'knee', 'peg', 'blocks', 'daddy', 'totally', 'soon', 'zipping', 'nursery', 'letters', 'cucumber', \"didn't\", 'open', 'swimsuit', 'lena', 'sitting', 'lift', 'heavy', 'rough', 'tipped', 'squirrellie', 'biscuits', 'from', 'wipers', 'napkin', 'git', 'insist', 'disposition', 'felt', 'noise', 'grass', 'dragged', 'microphone', 'ripped', 'sharp', 'balooga', 'owl', 'jumper', 'sense', 'spitting', 'steal', 'sweatpants', 'israelite', 'yawn', 'assumed', 'anymore', 'treat', 'thought', 'forward', 'fits', 'effort', 'taxi', 'flap', 'party', 'hole', 'familiar', 'ignoring', 'rushing', 'branch', 'turtles', 'always', 'heal', 'napkins', 'parading', 'bowl', 'faker', 'fun', 'w@l', 'tear', 'sucker', 'blow', 'pickles', 'hear', 'pooie', 'carol', 'learned', 'puff', 'praise', 'when', 'decibels', 'never', 'rings', 'tigger', 'tray', 'makes', 'somewhere', 'steady', 'yumyum', 'fellow', 'wiping', 'hopping', 'child', 'eat', 'ease', 'vacuum', 'spots', 'squeaker', 'holding', 'smoke', 'cleaner', 'bum', 'smack', 'paycheck', 'xylophone', 'winder', 'plastic', 'cross', 'cheep', 'bit', 'rolls', 'wrap', 'jack', 'smell', 'fixing', 'unzip', 'grabbing', 'p@l', 'butter', 'cabinet', 'seems', 'huge', 'less', 'chickens', 'loose', 'mug', 'desk', 'oranges', 'earlier', 'sink', 'socks', 'wow', 'breakable', 'anything', 'lunchie', 'schedule', 'wheels', 'feeding', 'unlock', 'wipe', 'talking', 'clip', 'kite', 'tall', 'mass', 'wherever', 'walked', 'squeeze', 'trains', 'hours', 'triangle', 'pin', 'every', 'bite', 'greece', 'snack', 'fixable', 'facecloth', 'brother', 'chickie', 'booboon', 'star', 'plane', 'usually', 'ma', 'yours', 'kevin', 'warmer', 'popeye', 'hate', 'keys', 's@l', 'outlets', 'turning', 'soap', 'helping', 'belt', 'toys', 'jesse', 'balls', 'apple', 'necklace', 'exploded', 'snakie', 'bunch', 'showed', 'treetop', 'which', 'kay', 'balogna', 'meet', 'branches', 'hurt', 'coat', 'pumpkin', 'quit', 'follow', 'believe', 'rule', 'rip', 'twinkle', 'watched', 'busy', 'traffic', 'parsnipie', 'munchkin', 'leave', 'shall', 'shopping', 'set', 'special', 'cough', 'somersault', 'paul', 'computer', 'briefcase', 'dial', 'dude', 'blue', 'daisies', 'trying', 'shoot', 'shove', 'crayons', 'sheep', 'bugged', 'music', 'squirting', 'was', 'fine', 'grey', 'why', 'stuff', 'allow', 'bars', 'thirst', 'half', 'nummy', 'skelter', 'door', 'families', 'about', 'dreadful', 'choo', \"wouldn't\", 'moocow', 'superman', 'windy', 'mattress', 'tank', 'lunchtime', 'humpty', 'snaps', 'record', 'birds', 'gorilla', 'nilly', 'earache', 'middle', 'ned', 'baskets', 'label', 'losing', 'cluck', 'world', 'spank', 'wandered', 'stain', 'months', 'health', 'automatic', 'preparation', 'ticks', 'crying', 'self', 'download', 'dan', 'straight', 'young', 'knocking', 'refrigerator', 'tickie', 'determined', 'comfortable', 'nasty', 'allowed', 'normal', 'peanut', 'worry', 'scored', 'pumpkins', 'tasty', 'hosts', 'bracelet', 'played', 'upon', 'whatcha', 'beard', 'generations', 'fight', 'alligator', 'raincoat', 'everybody', 'silver', 'toe', 'whoopsie', 'plant', 'early', 'california', 'earring', 'smells', 'fair', 'checking', 'feeling', 'defrost', 'moves', 'rid', 'warning', 'schoolhouse', 'soda', 'neigh', 'different', 'jesus', 'cock', 'lips', 'intent', 'candy', 'ground', 'level', 'bat', 'control', 'lap', 'deluxe', 'permission', 'page', 'mammy', 'squirrels', 'camera', 'sees', 'vitamin', 'deny', 'cheeks', 'making', 'bonked', 'op@c', 'definitely', 'pointy', 'night', 'neatest', 'driver', 'kangaroo', 'backyard', 'fasten', 'rosey', 'calls', 'uhhuh', 'action', 'possibly', 'lions', 'claus', 'whitney', 'direction', 'busted', 'hopped', 'took', 'dropping', 'fussing', 'kungfu', 'meeting', 'card', 'arguing', 'loads', 'fussy', 'wrong', 'helped', 'doll', 'squeaks', 'wee', 'poking', 'bugging', 'active', 'tickling', 'bookie', 'ice', 'dillon', 'everything', 'streetlight', 'thee', 'catch', 'recorded', 'lighter', 'flying', 'pacifier', 'rooster', 'wreath', 'detergent', 'puppy', 'chin', 'songs', 'belch', 'part', 'ugly', 'diapie', 'already', 'walking', 'toybox', 'sunshine', 'none', 'spying', 'icky', 'papers', 'mustard', \"haven't\", 'escape', 'garbage', 'cow', 'fido', 'joey', 'thick', 'bucket', 'expect', 'attached', 'furry', 'bitter', 'imitates', 'soaking', \"mustn't\", 'chillier', 'happy', 'rest', 'giving', 'story', \"'ve\", 'bumblebees', 'lip', 'pile', 'waiting', 'asked', 'noah', 'mashed', 'gloves', 'messed', 'necessary', 'forever', 'answer', 'seesaw', 'renewed', 'laughing', 'wandering', 'stream', 'inning', 'same', 'sleeves', 'jackie', 'peace', 'boats', 'jellyfish', 'suck', 'beads', 'abc', 'kinds', 'playing', 'feets', 'quietness', 'stayed', 'post', 'weewees', 'd', \"lena's\", 'french', 'oink', 'ya', 'being', 'jacket', 'moira', 'yum', 'newborns', 'susie', 'dollie', 'pack', 'striped', 'elephants', 'plums', 'closer', 'bank', 'i@l', 'came', 'twying', 'windshield', 'plus', 'bowls', 'weird'}\n",
      "{\"'s\"}\n",
      "{'is'}\n",
      "{'you'}\n",
      "{'to'}\n"
     ]
    },
    {
     "name": "stdout",
     "output_type": "stream",
     "text": [
      "2018-09-24 08:09:25 UTC\n"
     ]
    }
   ],
   "source": [
    "n_clusters = 7\n",
    "cdf, silhouette, labels = agglomerative_clustering(cd, words, n_clusters)\n",
    "print(n_clusters, 'clusters: silhouette index =' , round(silhouette, 3))\n",
    "cats = cdf2cats(cdf)\n",
    "for x in cats['words'][1:]: print(x)\n",
    "gen_cats = cats\n",
    "fat_cats = add_disjuncts(gen_cats, links, verbose)\n",
    "rules, re07 = induce_grammar(fat_cats, links)\n",
    "re09 = save_cat_tree(rules,  oc, verbose='none')\n",
    "re10 = save_link_grammar(rules, og, grammar_rules)\n",
    "print(UTC())"
   ]
  },
  {
   "cell_type": "code",
   "execution_count": 28,
   "metadata": {},
   "outputs": [],
   "source": [
    "%%capture\n",
    "pa, pq, qa = pqa_meter(re10['grammar_file'], og, cp, rp, **kwargs)"
   ]
  },
  {
   "cell_type": "code",
   "execution_count": 29,
   "metadata": {},
   "outputs": [
    {
     "name": "stdout",
     "output_type": "stream",
     "text": [
      "parse-ability, parse quality: 71.7% 50.6%\n",
      "2018-09-24 08:42:44 UTC\n"
     ]
    }
   ],
   "source": [
    "print('parse-ability, parse quality:', \n",
    "      str(round(pa,1))+'%', str(round(pq,1))+'%')\n",
    "print(UTC())"
   ]
  },
  {
   "cell_type": "markdown",
   "metadata": {},
   "source": [
    "### 77 clusters"
   ]
  },
  {
   "cell_type": "code",
   "execution_count": 30,
   "metadata": {},
   "outputs": [
    {
     "name": "stdout",
     "output_type": "stream",
     "text": [
      "77 clusters: silhouette index = 0.529\n",
      "{'babes', 'express', 'carrying', 'sugar', 'cried', 'draw', 'bike', 'father', 'licking', 'lever', 'hardheaded', 'sauce', 'asking', 'zip', 'works', 'fake', 'baebae', 'fire', 'stupid', 'drop', 'spit', 'throat', 'airplane', 'listen', 'sweetie', 'trucks', 'cool', 'peep', 'belly', 'earth', 'peppers', 'pouch', 'through', 'panting', 'body', 'infection', 'drinkie', 'prayers', 'eleven', 'alone', 'tracks', 'untie', 'chance', 'scrubbie', 'barbells', 'pampers', 'spinning', 'pinch', 'clear', 'kissie', 'suzie', 'underwear', 'destruction', 'agree', 'problem', 'pet', 'yelling', 'scratching', 'nearly', 'circle', 'thirty', 'juices', 'swings', 'cooking', 'ourself', 'pulling', 'august', 'touched', 'didey', 'bless', 'oatmeal', 'backordered', 'rearrange', 'scenes', 'happen', 'amelia', 'rahab', 'grate', 'unicorn', 'pages', 'lake', 'gum', 'n@l', 'ruffle', 'toilet', 'riders', 'lordy', 'weekend', 'turkey', 'boomerang', 'may', 'zoo', 'mooshas', 'papa', 'beach', 'beep', 'frosty', 'kid', 'whale', 'dyeisha', 'apart', 'looked', 'andy', 'tipping', 'crunch', 'parsnips', 'thing', 'frustrated', 'clown', 'wagon', 'service', 'lazy', 'washed', 'uses', 'smiling', 'taught', 'arms', 'woke', 'folding', 'fifteen', 'staring', 'drawers', 'mood', 'marni', 'chase', 'raisins', 'suddenly', 'peach', 'supposed', 'potato', 'girlie', 'land', 'sort', 'searched', 'watery', 'between', 'jake', 'r@l', 'upset', 'turned', 'fresh', 'aunt', 'landings', 'mode', 'knot', 'wipes', 'strawberry', 'outfit', 'stuffed', 'spend', 'chewing', 'pjs', 'fists', 'clips', 'helicopter', 'jello', 'pattycake', 'clock', 'doors', 'liz', 'favorite', 'mailbox', 'hazard', 'pottie', 'online', 'undo', 'figure', 'six', 'cover', 'slopping', 'tickle', 'tissue', 'cheerio', 'purse', 'beat', 'f@l', 'googooeyed', 'pats', 'help', 'tapioca', 'someone', 'helper', 'small', 'dump', 'beets', 'wait', 'blowing', 'arches', 'drooling', 'hammer', 'rich', 'bell', 'drinks', 'donna', 'game', 'spider', 'dad', 'peeyoustinky', 'bible', 'serve', 'human', 'settled', 'hippos', 'hyena', 'loren', 'cone', 'footie', 'goal', 'ketchup', 'gross', 'mercies', \"ain't\", 'able', 'goody', 'slide', 'da', 'spoonfuls', 'laura', 'cry', 'getting', 'screaming', 'bringing', 'bummie', 'lose', 'baker', 'purpose', 'booty', 'has', 'j@l', 'messing', 'while', 'pan', 'dream', 'kittykitty', 'remembers', 'stronger', 'bread', 'playhouse', 'onsie', 'flipping', 'shift', 'cushions', 'cord', 'instead', 'nodding', 'burps', 'hears', 'fluids', 'nearby', 'outlet', 'fussies', 'okeydokey', 'waves', 'miranda', 'prove', 'tom', 'mother', 'lied', 'dandy', 'hinge', 'giggles', 'act', 'parade', 'brothers', 'lima', 'neighborhood', 'circus', 'kickball', 'slinky', 'fuzz', 'fluffy', 'obsessed', 'popup', 'boat', 'taped', 'fighting', 'belong', 'cloth', 'warming', 'slumber', 'fence', 'pockets', 'comes', 'burn', 'squirmy', 'opposite', 'person', 'scrambled', 'seasons', 'squished', 'saucers', 'crocuses', 'barking', 'ankles', 'shielded', 'upside', 'rather', 'towels', 'ten', 'shakes', 'hare', 'wear', 'building', 'tastes', 'chickies', 'dangerous', 'percent', 'dukes', 'pig', 'pour', 'spread', 'teach', 'holy', 'words', 'changing', 'tarts', 'scooby', 'knows', 'hopscotch', 'grace', 'buds', 'low', 'genie', 'crayon', 'comb', 'balloon', 'worked', 'dried', 'grammy', 'playpen', 'fuzzy', 'pieces', 'swinging', 'tricky', 'build', 'ribbon', 'dig', 'tweety', 'colors', 'brand', 'dead', 'birthday', 'penguin', 'looking', 'sorts', 'completely', 'snatched', 'difficult', 'otherwise', 'jingles', \"couldn't\", 'punishment', 'forehead', 'jaw', 'mommies', 'crane', 'squirming', 'shred', 'lists', 'numbers', 'cooked', 'rubbing', 'english', 'spins', 'remote', 'blanket', 'told', 'kicked', 'mice', 'stick', 'advice', 'frozen', 'taters', 'snacks', 'buy', 'aquarium', 'backing', 'inside', 'fix', 'climber', 'sleeps', 'landed', 'cheerios', 'auntie', 'sweetiepie', 'running', \"duckie's\", 'important', 'cannot', 'many', 'ask', 'ho', 'giggle', 'rained', 'h@l', 'smart', 'poo', 'performer', 'almost', 'window', 'halfway', 'acting', 'popular', 'ears', 'lives', 'eaten', 'itch', \"won't\", 'carrots', 'bullfrog', 'slobbering', 'jammies', 'slippers', 'later', 'safe', 'woman', 'nan', 'russell', 'shena', 'nicer', 'wants', 'ones', 'whom', 'thermometer', 'moved', 'feels', 'potholder', 'smaller', 'besides', 'dishes', 'doggone', 'county', 'exercises', 'remind', 'concerned', 'quilt', 'christmas', 'as', 'footprints', 'hungry', 'doctor', 'piggie', 'changed', 'bathtub', 'barrette', 'tree', 'cruise', 'stuck', 'precious', 'gee', 'home', 'loud', 'minute', 'fit', 'college', 'raineth', 'past', 'lover', 'stay', 'holds', 'bruise', 'street', 'unpleasant', 'grabbed', 'ocean', 'pepsi', 'letting', 'hug', 'whee', 'wide', 'locks', 'santa', 'froggie', 'wave', 'k@l', 'squirrellies', 'taking', 'chirp', 'air', 'hurting', 'job', 'kisses', 'bites', 'speaking', 'ate', 'animal', 'steak', 'rains', 'behind', 'even', 'crazy', 'freddy', 'prince', 'spaghetti', 'heavens', 'sews', 'bus', \"nan's\", 'steadfast', 'hairbrush', 'cleans', 'jelly', 'flat', 'vacuums', 'swing', 'rolling', 'guitar', 'crib', 'overalls', 'dare', 'jumped', 'museum', 'puppet', 'lady', 'poles', 'booboo', 'dancing', 'bert', 'raspberry', 'cupboard', 'wuzzy', 'moppet', 'hugging', 'cost', 'pups', 'sammy', 'morning', 'snowsuit', 'honestly', 'covered', 'payperview', 'games', 'moving', 'snuggle', 'babies', 'counting', 'squirm', 'tried', 'such', 'needed', 'nope', 'sec', 'afternoon', 'coasters', 'though', 'roberts', 'saw', 'family', 'filled', 'muddy', 'nowhere', 'hallelujah', 'wonder', 'stew', 'following', 'must', 'grateful', 'flows', 'spectrum', 'sneaky', 'rub', 'left', 'polite', 'dressing', 'gave', 'sat', 'string', 'cords', 'daisy', 'booboonee', 'highchair', 'xavier', 'leaves', 'uhuh', 'adore', 'dumpty', 'shelf', 'appetite', 'jeans', 'babbling', 'picture', 'bar', 'writing', 'quite', 'age', 'ignore', 'switch', 'buildings', 'pie', 'daring', 'bounce', 'idea', 'breathing', 'strings', 'jacks', 'surprised', 'bump', 'drooly', 'greg', 'discover', 'spin', 'spirit', 'wall', 'spout', 'ulterior', 'exists', 'entertaining', 'pushing', 'gear', 'spill', 'outtalk', 'boil', 'applesauce', 'walk', 'chris', 'cups', 'nicely', 'cream', 'hanging', 'chimp', 'nappie', 'opened', 'lovely', 'poor', 'suspender', 'joke', 'tumble', 'input', 'thrown', 'chick', 'full', 'miss', 'pretend', 'decide', 'pear', 'nurse', \"'d\", 'pray', 'boops@o', 'box', 'grocery', 'manage', 'sally', 'scamper', 'goat', 'warmed', 'wiggle', 'spot', 'london', 'expensive', 'donald', 'question', 'coaster', 'doggy', 'whose', 'tiddywinkle', 'resting', 'dueling', 'silverware', 're@si', 'drummer', 'vacation', 'shapes', 'antibiotic', 'unplug', 'drank', 'talkative', 'poopoo', 'baltimore', 'edge', 'could', 'lucky', 'bananas', 'herself', 'glass', 'waving', 'yawning', 'hit', 'centipede', 'dadada', 'share', \"marie's\", 'dryer', \"fitzpatrick's\", 'thinks', 'whispered', 'ravens', 'strength', 'velcro', 'onie', 'burp', 'characters', 'shake', 'farm', 'measure', 'sheets', 'cubby', 'animals', 'trust', 'greatest', 'vehicle', 'oops', 'tumbled', 'cloudy', 'against', 'lunch', 'pamper', 'forest', 'bring', 'cranberry', \"doesn't\", 'yep', 'excited', 'mac', 'grief', 'heater', 'backed', 'complain', \"horsie's\", 'gerber', 'bedroom', 'milk', 'celery', 'space', 'civilized', 'third', 'phones', 'basketball', 'hymnal', 'shave', 'higher', 'chill', 'ewie', 'blink', 'went', 'would', 'sips', 'machine', 'broad', 'couch', 'dirt', 'squash', 'brooklyn', 'pot', 'dis', 'lost', 'max', 'tweetie', 'mercy', 'groceries', 'winkle', 'close', 'scratched', 'momma', 'roadrunner', 'kitties', 'weewee', 'fishies', 'frilly', 'satisfying', 'dear', \"o'clock\", 'ballgame', 'gorgeous', 'whether', 'fear', 'mickey', 'missed', 'ernie', 'bingo', 'ballerina', 'dreaming', 'poisonous', 'learn', 'cartoon', 'month', 'plants', 'zipped', 'catching', 'october', 'himself', 'blinking', 'made', 'judy', 'match', 'bow', 'scissors', 'mit@l', 'thread', 'hour', 'tons', 'ran', 'envelopes', 'sidney', 'ham', 'inches', 'fossil', 'violin', 'foods', 'smoother', 'gigi', 'speak', 'below', 'pair', 'peas', 'named', 'together', 'sometimes', 'place', 'until', 'dididi@o', 'desire', 'energy', 'wife', 'broth', 'washing', 'check', 'laundry', 'squeaky', 'jars', 'praised', 'guys', 'dinosaur', 'tumbling', 'unstrap', 'eensie', 't@l', 'tied', 'fur', 'vegetable', 'breakfast', 'glorified', 'poopie', 'wanting', 'jump', 'into', 'thumb', 'floats', 'sneakers', 'training', 'eleanor', 'children', 'squirrel', 'noises', 'run', 'chee', 'brittney', 'snowman', 'fishbowl', 'marie', 'waking', 'bedspread', 'since', 'held', 'weensie', 'ginger', 'puts', 'orange', 'slip', 'mount', 'vent', 'am', 'tag', 'attention', 'cakes', 'hump', 'mad', 'clap', 'macaroniandcheese', 'everyone', 'chicken', 'poppy', 'once', 'sidewalk', 'mobile', 'urchins', 'octopus', 'ordered', 'power', 'sampling', 'roaming', 'pumba', 'glasses', 'patting', 'sign', 'faithful', 'write', \"tata's\", 'boopsieboo', 'us', 'balmex', 'watermelon', 'punch', 'steps', 'favor', 'cows', 'taste', 'glump', 'stacked', 'directions', 'clowns', 'gold', 'rock', 'pickle', 'summer', 'ashy', 'stepped', 'pooh', 'cans', 'fascinated', 'yard', 'forth', 'pink', 'tweet', 'lure', 'kelsey', 'drink', 'heat', 'poke', 'sofa', 'touchie', 'wrist', 'towers', 'trees', 'cleaning', 'saved', 'stroller', 'deck', 'wreck', 'knocked', 'army', 'practice', 'gums', 'doggies', 'kings', 'shame', \"michael's\", 'mushed', 'cheekies', 'pointing', 'drool', 'an', 'hide', 'm@l', 'driveway', 'shirts', 'earthquake', 'wake', 'faking', 'cards', 'winter', 'recording', 'sweater', 'cola', 'beings', 'constantly', 'under', 'winky', 'rocker', 'hopefully', 'nana', 'nesting', 'cut', 'scorpion', 'fishie', \"shouldn't\", 'sweeping', 'planet', 'tough', 'iron', 'diet', 'drops', 'brian', 'strong', 'boneeno', 'gently', 'do@si', 'after', 'change', 'quiver', 'boys', 'paused', 'swim', 'said', 'clapping', 'rabbits', 'kneel', 'keep', 'teensie', 'scratchy', 'angelica', 'choices', 'shadow', 'kleenex', 'chi', 'bugs', 'diamond', 'runny', 'sun', \"gail's\", 'favorites', 'roast', 'moon', 'river', 'hospital', 'bummer', 'market', 'timing', 'layed', 'eggs', 'older', 'by', 'generous', 'profiling', 'ohmygoodness', 'horses', 'heaven', 'organized', 'towel', 'knock', 'mike', 'fishing', 'crocodile', 'mower', 'grin', 'promised', 'bill', 'patrick', 'cardinal', 'glory', 'wheel', \"weren't\", 'seal', 'tip', 'recognize', 'especially', 'upstairs', 'stays', 'choke', 'amount', 'much', 'hush', 'yayayaya', 'pen', 'warm', 'yuck', 'ferry', 'sounds', 'lollipop', 'sandals', 'whispering', 'chilly', 'work', 'snatch', 'sleeper', 'banana', 'drove', 'binkie', 'hugs', 'minnies', 'tosses', 'wasting', 'enough', 'possible', 'suit', 'sandwich', 'exalted', 'onto', 'indian', 'greedy', 'crankiness', 'tippy', 'zippers', 'beds', 'cranky', 'met', 'probably', 'dale', 'flowing', 'circles', 'caught', 'opens', 'tambourine', 'fill', 'had', 'rattle', 'piece', 'sister', 'daytime', 'scoop', 'tea', 'screen', 'tasting', 'leaning', 'hippo', 'bookies', 'peepee', 'yell', 'fat', 'poops', 'combing', 'runs', 'few', 'staying', 'sandman', 'neighbors', 'aid', 'fuss', 'mi@si', 'wolf', 'woofwoof', 'pajamas', 'soggy', 'deep', 'ever', 'reading', 'daniel', 'latches', 'experience', 'container', 'kittens', 'cracker', \"jeffrey's\", 'piggies', 'float', 'luck', 'throwing', 'short', 'nick', 'stomach', 'thinking', 'ricky', 'either', 'rover', 'panda', 'shook', 'c', 'wheat', 'picking', 'holler', 'commander', 'sticking', 'seeing', 'particular', 'large', 'thy', 'circular', 'coca', 'rockingchair', 'pouty', 'heybie', 'piano', 'endlessly', 'eats', 'decided', 'bongos', 'lobster', 'picked', 'sewn', 'bonk', 'grandma', 'king', 'brisco', 'other', 'pancakes', 'distraction', 'boosh', 'wind', 'alphabet', 'tabitha', 'their', 'gotcha', 'shaking', 'babe', 'bears', 'bone', 'tupperware', 'deal', 'puppies', 'save', 'farmer', 'disturb', 'triangles', 'bongo', 'line', 'didi@o', 'wiggles', 'mistake', 'dresser', 'brought', 'calling', 'drag', 'bounder', 'johnny', 'above', 'meat', 'starts', 'grunt', 'smelling', 'away', 'bibbie', 'whatever', \"cindy's\", 'bags', 'player', 'linda', 'second', 'blustery', 'speeds', 'apples', 'lately', 'pokie', 'doghouse', 'kick', 'vegetables', 'lemon', 'war', 'mkay', 'dust', 'forcing', 'zero', 'pause', 'found', 'bed', 'battery', 'weeweeweeweewee', 'fountain', 'finished', 'carrot', 'beyond', 'spud', 'cereals', 'chimney', 'nono', 'obie', 'feelings', 'bottles', 'paper', 'hood', 'myself', 'hurts', 'seed', 'butterflies', 'dive', \"mickey's\", 'its', 'knew', 'handsome', 'variety', 'naked', 'imposter', 'studying', 'jewish', 'pea', 'apricots', 'risen', 'skipped', 'bend', 'poopies', 'paying', 'sending', 'annie', 'drawer', 'bird', 'huggy', 'turtle', 'thin', 'seats', 'moaning', 'ah', 'sliding', 'bust', 'z@l', 'ew', 'video', \"annie's\", 'prevents', 'mimi', 'snows', 'dumb', 'cheeto', 'gray', 'huff', 'telephones', 'pillows', \"froggie's\", 'umbrella', 'ear', 'railing', 'dropped', 'hot', 'desitin', 'checkbook', 'ha', 'color', 'forgot', 'flew', 'attacked', 'toothbrush', 'tape', 'tennis', 'loves', 'politely', 'zebra', 'toes', 'exactly', 'forbidden', 'dish', 'glubglub', 'feel', 'successfully', 'finish', 'around', 'doughnut', 'explore', 'boobooshas', 'steam', 'ow', 'chester', 'magazine', 'peeyou', 'quilts', 'curtain', 'mittens', 'zoom', 'chimpanzee', 'handle', 'clicking', 'touching', 'plain', 'hello', 'date', 'horsie', 'hearing', 'patrice', 'loosen', 'brushing', 'carry', 'slapped', 'cubes', 'cake', 'trick', 'soup', 'bumpity', 'wild', 'heels', 'view', 'standpoint', 'before', 'laugh', 'shepherd', 'glad', 'rainbow', 'nut', 'stairs', 'laying', 'spoons', 'tantrum', 'awful', 'putting', 'telling', 'lovie', 'bleed', 'bending', 'elijah', 'alarm', 'complaining', 'so@si', 'sad', 'buster', 'thousand', 'faces', 'cowboy', 'row', 'dessert', 'locked', 'nipple', 'papou', 'doo', 'mush', 'wicked', \"chickie's\", 'pepper', 'boboni', 'fishes', 'yup', 'pup', 'enjoying', 'tired', 'number', 'served', 'tool', 'lotion', 'becoming', 'earphones', 'beginning', 'than', 'attach', 'bridge', 'waterfall', 'hook', 'bossing', \"bummie's\", 'sound', 'knifes', 'potatos', 'lined', 'gift', 'peanuts', 'road', 'content', 'smushed', 'blind', 'underarms', 'round', 'due', 'thank', 'leash', 'tiny', 'slumbers', 'cheekie', 'step', 'room', 'character', 'castle', 'virginia', 'conversation', 'fold', 'downstairs', 'sleet', 'caves', 'g@l', 'drive', 'sent', 'hitting', 'feed', 'swallow', 'salvation', 'tablecloth', 'faster', 'plays', 'tears', 'goodness', 'women', 'timber', 'standing', 'horse', 'blankie', 'salsa', 'drums', 'hope', 'um', 'poopsie', 'were', 'tent', 'phonics', 'scared', 'hip', 'tools', 'wahwahwah@si', 'headache', 'strengthening', 'sir', 'hang', 'table', 'balance', 'lapful', 'pressed', 'exersaucer', 'both', 'drum', 'tiggers', 'split', 'typing', 'mootie', 'litter', 'friends', 'beating', 'flouncy', 'coordination', 'likes', 'crackers', 'lawrence', 'opinion', \"hadn't\", 'gotten', 'junk', 'wish', 'nine', \"ma'am\", 'v@l', 'bubbles', 'n', 'coins', 'willy', 'pay', 'shocked', 'bark', 'managed', 'beef', 'backwards', 'thirsty', 'often', 'disaster', 'softest', 'mean', 'says', 'gracious', 'belongs', 'web', 'headbutts', 'straps', 'nosed', 'roses', 'letter', 'tonga', 'wag', 'rolled', 'garden', 'clobber', 'answering', 'waste', 'poopsie^boo', 'ouch', 'breast', 'roar', 'kit', 'byebyes', 'sewingmachine', 'send', 'cage', 'toward', 'greatly', 'yoyo', 'cutie', 'protect', 'lay', 'wanted', 'push', 'chichi', 'lion', 'presence', 'vas', 'seat', 'goose', 'fa@si', 'options', 'motorcycle', 'scraping', 'seagulls', 'grab', 'glove', 'popsicle', 'snowy', 'cub', 'yesterday', 'finally', 'flowers', 'dogs', 'natural', 'chips', 'watching', \"hasn't\", 'fooling', 'tap', 'hi', 'gate', 'jar', 'sold', 'started', 'list', 'should', 'alright', 'minutes', 'vroom', 'boobooneen', 'moosh', 'crack', 'shoulders', 'porch', 'best', 'heads', 'scale', 'looks', 'creep', 'elmo', 'pencil', 'stands', 'choose', 'bathroom', 'boom', 'brain', 'remember', 'fell', 'tulip', 'edible', 'birdies', 'piglet', 'dada', 'underarm', 'train', 'lie', 'sleep', 'rinse', 'suspenders', 'closed', 'somebody', 'threes', 'careful', 'forty', 'dolphin', 'seem', 'sucks', 'moses', 'movie', 'c@l', 'everywhere', 'mayonnaise', 'squeak', 'touch', 'arfarf', 'buddies', 'comfort', 'birdie', 'using', 'heart', 'finding', 'piggy', 'springs', 'yucka', 'toasty', 'giant', 'girls', 'technical', 'ounces', 'reaching', 'basic', 'plow', 'crud', 'hop', 'shaped', 'gown', 'tilt', 'bug', 'ukelele', 'tower', \"wasn't\", 'kitchen', 'life', 'climb', 'barney', 'john', 'basket', 'snug', 'care', 'yogurt', 'off@n', 'duckies', 'chubby', 'times', 'sing', 'dalmatian', 'uncovering', 'noodles', 'hmm', 'reason', 'beatrix', 'rosies', 'invent', 'stars', 'balloons', 'loudie', 'al', 'lalalalala', 'price', 'starting', 'arise', 'stopped', 'drill', 'ty', 'booger', 'falling', 'grind', 'sour', 'sesame', 'engine', 'supplement', 'chew', 'bet', 'happens', 'might', 'days', 'pocket', 'apronstring', 'stacking', 'nest', 'filling', 'unsnap', \"'m\", 'bright', 'buckle', 'slurping', 'grapes', 'slot', 'heard', 'el', 'lean', 'fallen', 'kids', 'bake', 'bubbler', 'three', 'stuffy', \"dan's\", 'pose', 'milky', 'spray', 'powells', 'tickler', 'mess', 'awfully', 'lifesavers', 'smile', 'pulled', 'covers', 'teeth', 'gentle', 'dressed', 'exploring', 'bubble', 'use', 'needs', 'buckles', 'stand', 'jill', 'blocked', 'angels', 'pick', 'stink', 'basement', 'bunnyrabbit', 'quivering', 'style', 'attack', 'watches', 'tomorrow', 'crooked', 'butternutie@n', 'stinker', 'plan', 'crowd', 'mummy', 'ti@si', 'zigzagging', 'fan', 'move', 'dress', 'newspaper', 'bud', 'crawls', 'mothers', 'yucketyyuck', 'friend', 'figured', 'byebye', 'tooth', 'show', 'flopsy', 'ranch', 'tiger', 'sweetums', 'drawing', 'boots', 'bedtime', 'alex', 'throws', 'oyster', 'lamp', 'cleaned', 'lint', 'motive', 'potter', 'shrimp', 'walker', 'measures', 'rat', 'tails', 'carpet', 'course', 'lane', 'walkie', 'evening', 'presents', 'interested', 'sits', 'reach', 'nap', 'anybody', 'banging', 'bumped', 'karate', 'd@l', 'peaches', 'powder', 'roof', 'raccoon', 'pop', 'quail', 'meme', 'cheese', 'understand', 'sockie', 'fast', 'stood', 'dapper', 'gabby', 'pocketbook', \"kay's\", 'dos', 'pushed', 'dumbo', 'woowoo', 'fed', 'monster', 'l@l', 'kicking', 'chimes', 'crunchy', 'whiskers', 'muffin', 'missus', 'mousie', 'a@l', 'gump', 'ripping', 'fixed', 'daffy', 'earned', 'purple', 'bop', 'matter', 'softly', 'kitten', 'scratch', 'kittycats', 'granny', 'swimming', 'lettuce', 'sea', 'humming', 'legs', 'twisting', 'lord', 'farther', 'park', 'cares', 'yaya', 'tanish', 'uhoh', 'if', 'curled', 'headed', 'bows', 'seeds', 'tiptoes', 'someplace', 'leaned', 'matches', 'gimme', 'sleepy', 'egg', 'singing', 'icy', 'scoot', 'son', 'unhappy', 'slowly', 'wrapped', 'forget', 'julia', 'position', 'mixed', 'climbed', 'themselves', 'halloween', 'mets', 'parrot', 'crab', 'does', 'rubber', 'white', 'mouses', 'rush', 'usual', 'q@l', 'ways', 'whiney', 'tootsie', 'spring', 'blueberry', 'milkie', 'winnie', 'kristin', 'shoelaces', 'folded', 'algae', 'sticks', 'benjamin', 'enjoyed', 'nightnight', 'discovered', 'taz', 'haircut', 'click', 'restrained', 'teas', 'dance', 'trapeze', 'stinky', 'ladder', 'o@l', 'lolly', 'quiet', 'each', 'blankets', 'swoosh', 'unit', 'tootsies', 'floor', 'piles', 'win', 'meant', 'lying', 'tad', 'crawling', 'horsieback', 'town', 'yolk', 'tapemeasure', 'coming', 'warrior', 'pajamaies', 'break', 'dolphins', 'plenty', 'pokemon', \"marco's\", 'frog', 'rose', 'least', 'quack', 'flavored', 'tug', 'hates', 'most', 'frustrating', 'rattles', 'u@l', 'lookee', 'burped', 'teenyweeny', 'iguana', 'stack', 'stretching', 'policy', \"alice's\", 'brittany', 'moo', 'gets', 'baseball', 'supper', 'ants', 'nuggets', 'corner', 'kittycat', 'visit', 'bottom', 'sleepies', 'neck', 'bath', 'washcloth', 'near', 'tickletickle', 'clouding', 'crabby', 'robin', 'fingernail', 'dipsie', 'across', 'splash', 'old', 'harder', 'suzy', 'years', 'talks', 'wires', 'bigger', 'dusty', 'tuna', 'coffee', 'mistress', 'stomping', 'yank', 'squashies', 'twelve', 'baths', 'terry', 'shoulder', 'starving', 'giraffe', 'ducks', 'requires', 'known', 'alicia', 'seuss', 'lily', 'grandpa', 'falls', 'elephant', 'slow', 'spilled', 'upsie', 'paint', 'buddy', 'polkadot', 'hanger', 'oopsie', 'men', 'barrettes', 'valentine', 'cutting', 'closet', 'pool', 'noticing', 'tims', 'wash', 'scrumptious', 'splashed', 'song', 'naptime', 'swish', 'leaving', 'littler', 'only', 'bunnies', 'mind', 'fancy', 'onion', 'shield', 'chat', 'meddlesome', 'pepe', 'yay', 'communication', 'workroom', 'cereal', 'combed', 'eyes', 'scrub', 'toandfro', 'oval', 'ahead', 'tummy', 'captain', 'orangish', 'pat', 'dakota', 'lid', 'threw', 'kiddo', 'wosuits', 'breeze', 'curse', 'whole', 'pesky', \"birdie's\", 'bang', 'sample', 'count', 'grill', 'raise', 'blah', 'talker', 'unsnapped', 'office', 'bones', 'jeff', 'bought', 'butternut', 'sunglasses', 'barbecue', 'neato', 'cardboard', 'cave', \"dada's\", 'christopher', 'receive', 'leftie', 'fruit', 'school', 'dishwasher', 'teethies', 'offered', 'others', 'patty', 'wire', 'lamb', 'opening', 'fusser', 'grip', 'siree', 'mark', 'working', 'curl', 'wishes', 'internet', 'register', 'last', 'timmy', 'late', 'roll', 'rocking', 'sewing', 'america', 'stereo', 'mouths', 'point', 'cart', 'crash', 'abc@l', 'goldfish', 'ink', 'flip', 'loaf', 'pears', 'rash', 'listening', 'slipper', 'noisy', 'lot', 'certainly', 'teddy', 'longer', 'boogie', 'candle', 'chip', 'press', 'picnic', 'moose', 'response', 'god', 'plug', 'afraid', 'trunk', 'teething', 'hall', 'minnie', 'independent', 'tata', 'sticky', 'tub', 'crawler', 'pinto', 'anyway', 'owe', 'been', 'choking', 'whoa', 'guy', 'rice', 'ark', 'promise', 'salad', 'talked', 'smiley', 'hers', 'uncle', 'main', 'takes', 'patio', 'broke', 'tuck', 'cooled', 'smush', 'woof', 'elbow', 'center', 'pillow', 'rocks', 'kissing', 'cosby', 'macdonald', 'sweetest', 'actually', 'angry', 'pictures', 'fact', 'soft', 'teeny', 'david', 'bouncy', 'without', 'joy', 'gifts', 'boo', 'exciting', 'fussbucket', 'twenty', 'keeps', 'shooting', 'dairy', 'stops', 'snorting', 'keeper', 'crawl', 'fault', 'puppydog', 'checkout', 'double', 'christening', 'sweatshirt', 'lights', 'cousin', 'sky', 'peekaboo', 'worship', 'devour', 'pearl', 'jaylen', 'giver', 'beans', 'gears', 'messy', 'couple', 'trip', 'tight', 'having', 'wears', 'mix', 'leg', 'store', 'tickles', 'missy', 'mail', 'flakes', 'boneen', 'trouble', 'truly', 'bits', 'scream', 'showing', 'booties', 'company', 'butt', 'timothy', 'latest', 'bean', 'tippietoe', 'terrible', 'guilty', 'strap', 'voice', 'somehow', 'x@l', 'day', 'fireplace', 'outside', 'hairs', 'facing', 'lifting', 'uh', 'snapped', 'weather', 'leaf', 'hills', 'tim', 'riding', 'inching', 'tinky', 'pike', 'scurry', 'wore', 'own', 'lick', 'seen', 'bitty', 'whineyness', 'four', 'loved', 'brave', 'toot', 'shape', 'yet', 'beaten', 'boobie', 'darn', \"paul's\", 'flavorful', 'scare', 'dat', 'catcher', 'live', 'mammals', 'yearling', 'jumps', 'biting', 'plate', 'pinching', 'unique', 'shiny', 'sleeve', 'sub', 'excuse', 'somewhat', 'climbing', 'lawn', 'mighty', 'amazing', 'real', 'bah', 'find', 'cookies', 'fall', 'abcs', 'tonight', 'welcome', 'dizzy', 'e@l', 'sucking', 'grow', 'changes', 'hens', 'truth', 'b@l', 'mixing', 'lots', 'clipped', 'throw', 'neat', 'snow', 'dehydrated', 'practicing', 'died', \"dollie's\", 'next', 'diapers', 'guess', 'longest', 'settle', 'bobo', 'shoeless', 'lydia', 'posies', 'lemme', 'quick', 'moments', 'squashie', 'controller', 'reached', 'la@si', 'need', 'hollering', 'buttons', 'or', 'sip', 'used', 'y@l', 'sick', 'bye', 'but', 'slippery', 'front', 'thornbushes', 'sweetheart', \"aren't\", 'genius', 'top', 'tee', 'measuring', 'end', 'sides', 'graham', 'remembered', 'noodle', 'sneeze', 'dideys', 'paging', 'twister', 'our', 'word', 'apron', 'junior', 'jimmy', 'call', 'lock', 'hooked', 'meal', 'bucky', 'along', 'five', 'furby', 'team', 'chopped', 'system', 'stomp', 'kissed', 'tell', 'rug', 'knees', 'radio', 'hoops', 'steer', 'knapsack', 'start', 'eye', 'thankyou', 'kept', 'key', 'hurry', 'popped', 'sonic', 'built', 'hat', 'means', 'drinking', 'cars', 'helter', 'cheerful', 'nails', 'mushy', 'mom', 'fly', 'bully', 'medium', 'toothie', 'catastrophe', 'binoculars', 'side', 'chased', 'bo', 'timone', 'keaton', 'recorder', 'bicycle', 'light', 'goes', 'anywhere', 'brown', 'rightie', 'daughter', 'figs', 'glorify', 'bouncing', 'sweetiest', 'shoveling', 'hiccup', 'jacob', 'whoopee', 'surface', 'tie', 'plugged', 'windows', 'macaroni', 'alive', 'anne', 'nickelodeon', 'shades', 'wakes', 'tyrese', 'upsa', 'note', 'wooly', 'calm', 'itchy', 'colder', 'flower', \"matthew's\", 'knee', 'peg', 'blocks', 'totally', 'soon', 'zipping', 'nursery', 'letters', 'cucumber', 'swimsuit', 'lena', 'sitting', 'lift', 'heavy', 'tipped', 'squirrellie', 'biscuits', 'from', 'wipers', 'napkin', 'git', 'insist', 'disposition', 'felt', 'noise', 'grass', 'dragged', 'ripped', 'balooga', 'owl', 'jumper', 'sense', 'spitting', 'steal', 'sweatpants', 'israelite', 'yawn', 'assumed', 'anymore', 'treat', 'thought', 'forward', 'fits', 'effort', 'taxi', 'flap', 'party', 'familiar', 'ignoring', 'rushing', 'branch', 'turtles', 'heal', 'napkins', 'parading', 'faker', 'w@l', 'tear', 'sucker', 'blow', 'pickles', 'hear', 'carol', 'learned', 'puff', 'praise', 'when', 'decibels', 'never', 'rings', 'tigger', 'tray', 'makes', 'somewhere', 'steady', 'fellow', 'wiping', 'hopping', 'child', 'ease', 'vacuum', 'spots', 'squeaker', 'holding', 'smoke', 'cleaner', 'bum', 'smack', 'paycheck', 'xylophone', 'winder', 'plastic', 'cross', 'cheep', 'bit', 'rolls', 'wrap', 'jack', 'smell', 'fixing', 'unzip', 'grabbing', 'p@l', 'butter', 'cabinet', 'seems', 'huge', 'less', 'chickens', 'loose', 'mug', 'desk', 'oranges', 'earlier', 'sink', 'wow', 'lunchie', 'schedule', 'wheels', 'feeding', 'unlock', 'wipe', 'talking', 'clip', 'kite', 'tall', 'mass', 'wherever', 'walked', 'squeeze', 'trains', 'hours', 'triangle', 'pin', 'every', 'greece', 'snack', 'facecloth', 'brother', 'chickie', 'booboon', 'star', 'plane', 'usually', 'ma', 'kevin', 'warmer', 'popeye', 'hate', 'keys', 's@l', 'outlets', 'soap', 'helping', 'belt', 'jesse', 'balls', 'apple', 'necklace', 'exploded', 'snakie', 'bunch', 'showed', 'treetop', 'which', 'balogna', 'meet', 'branches', 'hurt', 'coat', 'pumpkin', 'quit', 'follow', 'believe', 'rule', 'rip', 'twinkle', 'watched', 'busy', 'traffic', 'munchkin', 'leave', 'shall', 'shopping', 'set', 'special', 'cough', 'somersault', 'computer', 'briefcase', 'dial', 'dude', 'daisies', 'trying', 'shoot', 'shove', 'crayons', 'sheep', 'bugged', 'music', 'squirting', 'fine', 'grey', 'burke', 'stuff', 'allow', 'thirst', 'bars', 'half', 'nummy', 'skelter', 'families', 'dreadful', 'choo', \"wouldn't\", 'moocow', 'superman', 'windy', 'mattress', 'tank', 'lunchtime', 'humpty', 'snaps', 'record', 'birds', 'gorilla', 'nilly', 'earache', 'middle', 'baskets', 'label', 'losing', 'cluck', 'world', 'spank', 'wandered', 'stain', 'months', 'health', 'automatic', 'preparation', 'ticks', 'self', 'download', 'dan', 'straight', 'young', 'knocking', 'refrigerator', 'tickie', 'determined', 'comfortable', 'peanut', 'allowed', 'scored', 'worry', 'pumpkins', 'hosts', 'played', 'upon', 'whatcha', 'generations', 'raincoat', 'fight', 'alligator', 'silver', 'everybody', 'whoopsie', 'toe', 'plant', 'early', 'california', 'earring', 'smells', 'checking', 'feeling', 'defrost', 'moves', 'rid', 'warning', 'schoolhouse', 'neigh', 'different', 'jesus', 'cock', 'lips', 'intent', 'candy', 'ground', 'level', 'bat', 'control', 'lap', 'deluxe', 'permission', 'mammy', 'squirrels', 'camera', 'sees', 'vitamin', 'deny', 'cheeks', 'making', 'bonked', 'op@c', 'definitely', 'pointy', 'night', 'neatest', 'driver', 'kangaroo', 'backyard', 'fasten', 'rosey', 'calls', 'uhhuh', 'action', 'possibly', 'lions', 'claus', 'direction', 'hopped', 'took', 'dropping', 'fussing', 'kungfu', 'meeting', 'card', 'arguing', 'loads', 'fussy', 'helped', 'squeaks', 'wee', 'poking', 'bugging', 'active', 'tickling', 'bookie', 'everything', 'thee', 'streetlight', 'catch', 'recorded', 'lighter', 'pacifier', 'rooster', 'wreath', 'detergent', 'chin', 'songs', 'belch', 'part', 'ugly', 'diapie', 'already', 'walking', 'toybox', 'sunshine', 'none', 'spying', 'icky', 'papers', 'mustard', \"haven't\", 'escape', 'garbage', 'fido', 'thick', 'bucket', 'expect', 'furry', 'bitter', 'imitates', 'soaking', \"mustn't\", 'chillier', 'happy', 'rest', 'giving', 'story', \"'ve\", 'bumblebees', 'lip', 'pile', 'waiting', 'asked', 'noah', 'mashed', 'gloves', 'messed', 'necessary', 'forever', 'answer', 'seesaw', 'renewed', 'laughing', 'wandering', 'stream', 'inning', 'same', 'sleeves', 'jackie', 'peace', 'boats', 'jellyfish', 'suck', 'beads', 'kinds', 'playing', 'feets', 'quietness', 'stayed', 'post', 'weewees', 'd', \"lena's\", 'french', 'oink', 'being', 'jacket', 'moira', 'yum', 'newborns', 'susie', 'dollie', 'pack', 'striped', 'elephants', 'plums', 'closer', 'bank', 'i@l', 'came', 'twying', 'windshield', 'plus', 'bowls', 'weird'}\n",
      "{'big', 'good'}\n",
      "{'down', 'over', 'out'}\n",
      "{\"'ll\", 'gotta', 'will', \"didn't\", \"can't\"}\n",
      "{'eat'}\n",
      "{'okay', \"let's\", 'they', 'oh', 'yeah'}\n",
      "{'there', 'here', 'now'}\n",
      "{'house', 'feet', 'tongue', 'things', 'face', 'clothes', 'sit', 'arm', 'hair', 'diaper', 'finger', 'books', 'hand', 'name', 'hands', 'way', 'mouth', 'people', 'pants', 'toys', 'nose', 'shoes', 'love', 'socks', 'foot', 'head', 'shirt', 'shoe', 'fingers'}\n",
      "{'make'}\n",
      "{'little'}\n",
      "{'be'}\n",
      "{'did'}\n",
      "{'me', 'those', 'him', 'them', 'something'}\n",
      "{'shining', 'suchi', 'snowing', 'cute', 'friday', \"judy's\", 'money', 'hiding', 'red', 'crinkly', 'oats', 'any', 'how', 'digby', 'ticklish', 'try', 'these', 'yes', 'ella', 'man', 'rain', 'gus', 'raining', 'damp', 'please', 'sweet', 'missing', 'toast', 'clean', 'stop', 'shut', 'greasy', 'breakable', 'off', 'mandy', 'anything', 'yummy', 'bad', 'asleep', 'read', 'two', 'aw', 'yarn', 'she', 'irritating', 'marco', 'silly', 'doing', 'bogus', 'itching', 'maggie', 'amusing', 'augmentin', 'whitney', 'mamama', 'nobody', 'her', 'shy', 'busted', 'bite', 'scott', 'fixable', 'where', 'first', 'better', 'kind', 'nicole', 'yours', 'wet', 'hardly', 'undone', 'well', 'nothing', 'magic', 'wrong', 'pete', 'juice', 'turning', 'then', 'underneath', 'not', 'easier', 'today', 'broken', 'hunkamunka', 'funny', 'mister', 'strange', 'drenched', 'duckie', 'ice', 'dillon', 'kay', 'gail', 'delicious', 'flying', 'cold', 'happened', 'kinda', 'boring', 'nosey', 'jeffrey', 'watch', 'ringing', 'seven', 'wood', 'beautiful', 'daddy', 'pretty', 'gone', 'parsnipie', 'empty', 'alice', 'honey', 'yellow', 'joey', 'shaving', 'henry', 'trash', 'paul', 'open', 'attached', 'done', 'green', 'rough', 'drumming', 'awesome', 'blue', 'morgan', 'huh', 'morgie', 'awake', 'unzipped', 'new', 'inchworm', 'why', 'because', 'cats', 'yourself', 'sharp', 'still', 'about', 'hard', 'dirty', 'jumping', 'ready', 'long', 'who', 'tail', 'medicine', 'food', 'high', 'called', \"isn't\", 'cindy', 'time', 'allen', 'else', 'eating', 'really', 'interesting', 'alexander', 'sunny', 'saying', 'happening', 'abc', 'great', 'free', 'alrightie', 'ride', 'ned', 'pull', 'sleeping', 'always', 'clues', 'mama', 'sorry', 'twisty', 'fun', 'eight', 'yucky', 'talk', 'very', 'ya', 'sure', 'mine', 'another', 'dry', 'crying', 'pooie', 'friendly', 'dinner', 'turn', 'raggedy', 'peter', 'begun', 'incredible', 'nasty', 'hold', 'hey', 'meeko', 'normal', 'tasty', 'wonderful', 'square', 'bracelet', 'maybe', 'wearing', 'yumyum', 'beard', 'reindeer', 'far', 'splishysplashy', 'dark', 'moomooshas', 'fair', 'ferocious', 'nice', 'too', 'chairs', 'corn', 'black', 'soda', 'again'}\n",
      "{'was'}\n",
      "{'let'}\n",
      "{'his', 'my'}\n",
      "{'going'}\n",
      "{'give'}\n",
      "{'on'}\n",
      "{'want'}\n",
      "{'wanna'}\n",
      "{'think'}\n",
      "{'with'}\n",
      "{'book'}\n",
      "{'look'}\n",
      "{'take'}\n",
      "{'of'}\n",
      "{'kitty', 'sock', 'hole', 'toy', 'brush', 'bottle', 'block', 'cow', 'cup', 'duck', 'mirror', 'mouse', 'truck', 'page', 'button', 'ball', 'bowl', 'cookie', 'chair', 'bag', 'car', 'snap', 'fish', 'zipper', 'doll', 'monkey', 'bib', 'spoon', 'microphone', 'cat', 'ring', 'door', 'girl', 'bear', 'butterfly', 'dragon', 'dolly', 'dog', 'doggie', 'bunny', 'puppy', 'phone', 'rabbit', 'water', 'kiss', 'telephone'}\n",
      "{'he'}\n",
      "{'so'}\n",
      "{'one'}\n",
      "{'more'}\n",
      "{'back'}\n",
      "{'just'}\n",
      "{'some'}\n",
      "{'boy'}\n",
      "{'all'}\n",
      "{'up'}\n",
      "{'is'}\n",
      "{'this'}\n",
      "{'it'}\n",
      "{\"don't\"}\n",
      "{'go'}\n",
      "{'in'}\n",
      "{'that'}\n",
      "{'at'}\n",
      "{'you'}\n",
      "{'like'}\n",
      "{'a'}\n",
      "{'mommy'}\n",
      "{'the'}\n",
      "{'gonna'}\n",
      "{'we'}\n",
      "{'know'}\n",
      "{'to'}\n",
      "{'for'}\n",
      "{'put'}\n",
      "{'come'}\n",
      "{'are'}\n",
      "{\"'re\"}\n",
      "{'your'}\n",
      "{'right'}\n",
      "{\"'s\"}\n",
      "{'and'}\n",
      "{'can'}\n",
      "{'got'}\n",
      "{'see'}\n",
      "{'have'}\n",
      "{'say'}\n",
      "{'play'}\n",
      "{'what'}\n",
      "{'get'}\n",
      "{'i'}\n",
      "{'baby'}\n",
      "{'do'}\n",
      "{'no'}\n"
     ]
    },
    {
     "name": "stdout",
     "output_type": "stream",
     "text": [
      "2018-09-24 08:46:24 UTC\n"
     ]
    }
   ],
   "source": [
    "n_clusters = 77\n",
    "cdf, silhouette, labels = agglomerative_clustering(cd, words, n_clusters)\n",
    "print(n_clusters, 'clusters: silhouette index =' , round(silhouette, 3))\n",
    "cats = cdf2cats(cdf)\n",
    "for x in cats['words'][1:]: print(x)\n",
    "gen_cats = cats\n",
    "fat_cats = add_disjuncts(gen_cats, links, verbose)\n",
    "rules, re07 = induce_grammar(fat_cats, links)\n",
    "re09 = save_cat_tree(rules,  oc, verbose='none')\n",
    "re10 = save_link_grammar(rules, og, grammar_rules)\n",
    "print(UTC())"
   ]
  },
  {
   "cell_type": "code",
   "execution_count": 31,
   "metadata": {},
   "outputs": [],
   "source": [
    "%%capture\n",
    "pa, pq, qa = pqa_meter(re10['grammar_file'], og, cp, rp, **kwargs)"
   ]
  },
  {
   "cell_type": "code",
   "execution_count": 32,
   "metadata": {},
   "outputs": [
    {
     "name": "stdout",
     "output_type": "stream",
     "text": [
      "parse-ability, parse quality: 63.6% 49.3%\n",
      "2018-09-24 08:49:17 UTC\n"
     ]
    }
   ],
   "source": [
    "print('parse-ability, parse quality:', \n",
    "      str(round(pa,1))+'%', str(round(pq,1))+'%')\n",
    "print(UTC())"
   ]
  }
 ],
 "metadata": {
  "kernelspec": {
   "display_name": "Python [conda env:ull-dev]",
   "language": "python",
   "name": "conda-env-ull-dev-py"
  },
  "language_info": {
   "codemirror_mode": {
    "name": "ipython",
    "version": 3
   },
   "file_extension": ".py",
   "mimetype": "text/x-python",
   "name": "python",
   "nbconvert_exporter": "python",
   "pygments_lexer": "ipython3",
   "version": "3.6.6"
  },
  "toc": {
   "base_numbering": 1,
   "nav_menu": {},
   "number_sections": true,
   "sideBar": true,
   "skip_h1_title": true,
   "title_cell": "Table of Contents",
   "title_sidebar": "Contents",
   "toc_cell": true,
   "toc_position": {},
   "toc_section_display": true,
   "toc_window_display": true
  }
 },
 "nbformat": 4,
 "nbformat_minor": 2
}
