{
 "cells": [
  {
   "cell_type": "markdown",
   "metadata": {},
   "source": [
    "# POC-English baseline test `2018-10-23` repeated `2018-11-02`\n",
    "\n",
    "*Replay [POC-English-2018-10-23.html](http://langlearn.singularitynet.io/data/clustering_2018/html/POC-English-2018-10-23.html) to check generaliztion errors.*  \n",
    "\n",
    "**Agglomerative clustering -- cell 12**;  Updated 2018-10-19 `test_grammar`, Link Grammar 5.4.4.  \n",
    "This notebook is shared as static [POC-English-2018-11-02.html](http://langlearn.singularitynet.io/data/clustering_2018/html/POC-English-2018-10-23.html)  \n",
    "The \"All tests\" table is shared as 'short_table.txt' in [POC-English-2018-10-23](http://langlearn.singularitynet.io/data/clustering_2018/POC-English-2018-10-23/) directory.  \n",
    "Previous (reference) tests: \n",
    "[POC-English-2018-10-23.html](http://langlearn.singularitynet.io/data/clustering_2018/html/POC-English-2018-10-23.html), \n",
    "[POC-English-Amb-2018-10-21.html](http://langlearn.singularitynet.io/data/clustering_2018/html/POC-English-Amb-2018-10-21.html), \n",
    "[POC-English-Amb-2018-08-09.html](http://langlearn.singularitynet.io/data/clustering_2018/html/POC-English-Amb-2018-08-09.html)"
   ]
  },
  {
   "cell_type": "markdown",
   "metadata": {},
   "source": [
    "## Basic settings"
   ]
  },
  {
   "cell_type": "code",
   "execution_count": 1,
   "metadata": {
    "ExecuteTime": {
     "end_time": "2018-11-02T09:41:31.175280Z",
     "start_time": "2018-11-02T09:41:30.402805Z"
    }
   },
   "outputs": [
    {
     "name": "stdout",
     "output_type": "stream",
     "text": [
      "2018-11-02 09:41:31 UTC :: module_path = /home/obaskov/py/language-learning\n"
     ]
    }
   ],
   "source": [
    "import os, sys, time\n",
    "module_path = os.path.abspath(os.path.join('..'))\n",
    "if module_path not in sys.path: sys.path.append(module_path)\n",
    "from ull.grammar_learner.utl import UTC\n",
    "from ull.grammar_learner.read_files import check_dir\n",
    "from ull.grammar_learner.write_files import list2file\n",
    "from ull.grammar_learner.widgets import html_table\n",
    "from src.grammar_learner.pqa_table import table_rows\n",
    "tmpath = module_path + '/tmp/'\n",
    "check_dir(tmpath, True, 'none')\n",
    "table = []\n",
    "long_table = []\n",
    "start = time.time()\n",
    "print(UTC(), ':: module_path =', module_path)"
   ]
  },
  {
   "cell_type": "markdown",
   "metadata": {},
   "source": [
    "## Grammar Learner corpus-specific parameters"
   ]
  },
  {
   "cell_type": "code",
   "execution_count": 2,
   "metadata": {
    "ExecuteTime": {
     "end_time": "2018-11-02T09:41:31.196938Z",
     "start_time": "2018-11-02T09:41:31.177140Z"
    }
   },
   "outputs": [],
   "source": [
    "corpus = 'POC-English-Amb'\n",
    "out_dir = module_path + '/output/POC-English-' + str(UTC())[:10]\n",
    "runs = (1,1)    # (attempts to learn grammar per line, grammar tests per attempt)\n",
    "if runs != (1,1): out_dir += '-multi'\n",
    "kwargs = {\n",
    "    'left_wall'     :   ''          ,\n",
    "    'period'        :   False       ,\n",
    "    'context'       :   2           ,   # \"disjuncts\"\n",
    "    'min_word_count':   1           ,   # SVS (sparse vector space) parameter\n",
    "    'min_link_count':   1           ,   # SVS\n",
    "    'max_words'     :   100000      ,   # SVS: max space dimension 1\n",
    "    'max_features'  :   100000      ,   # SVS: dimension 2: disjuncts/connectors \n",
    "    'min_co-occurrence_count':  1   ,   # SVS\n",
    "    'min_co-occurrence_probability': 1e-9,  # SVS\n",
    "    'word_space'    :   'vectors'   ,\n",
    "    'clustering'    :   ('kmeans', 'kmeans++', 10),\n",
    "    'cluster_range' :   (2,50,1,5)  ,\n",
    "    'cluster_criteria': 'silhouette',\n",
    "    'clustering_metric': ('silhouette', 'cosine'),\n",
    "    'categories_generalization': 'off',\n",
    "    'rules'         :   2           ,   # \"disjuncts\"\n",
    "    'tmpath'        :   tmpath      , \n",
    "    'verbose'       :   'min'       ,\n",
    "    'template_path' :   'poc-turtle',\n",
    "    'linkage_limit' :   1000        }\n",
    "lines = [\n",
    "    [11, 'POC-English-Amb'    , 'MST-fixed-manually'             , 0  , 0 , 'none'  ], \n",
    "    [12, 'POC-English-Amb'    , 'MST-fixed-manually'             , 0  , 0 , 'rules' ], \n",
    "    [13, 'POC-English-Amb'    , 'LG-English'                     , 0  , 0 , 'none'  ], \n",
    "    [14, 'POC-English-Amb'    , 'LG-English'                     , 0  , 0 , 'rules' ], \n",
    "    [15, 'POC-English-Amb'    , 'R=6-Weight=6:R-mst-weight=+1:R' , 0  , 0 , 'none'  ], \n",
    "    [16, 'POC-English-Amb'    , 'R=6-Weight=6:R-mst-weight=+1:R' , 0  , 0 , 'rules' ], \n",
    "    [17, 'POC-English-disAmb' , 'R=6-Weight=6:R-mst-weight=+1:R' , 0  , 0 , 'none'  ], \n",
    "    [18, 'POC-English-disAmb' , 'R=6-Weight=6:R-mst-weight=+1:R' , 0  , 0 , 'rules' ], \n",
    "    [19, 'POC-English-disAmb' , 'R=6-Weight=6:R-mst-weight=+1:R-agm-opt' , 0  , 0 , 'none'  ], \n",
    "    [20, 'POC-English-disAmb' , 'R=6-Weight=6:R-mst-weight=+1:R-agm-opt' , 0  , 0 , 'rules' ], \n",
    "    [21, 'POC-English-disAmb' , 'R=6-Weight=6:R-mst-weight=+1:R-agm-100' , 0  , 0 , 'none'  ], \n",
    "    [22, 'POC-English-disAmb' , 'R=6-Weight=6:R-mst-weight=+1:R-agm-100' , 0  , 0 , 'rules' ], \n",
    "    [23, 'POC-English-Amb'    , 'R=6-Weight=1-mst-weight=+1:R'   , 0  , 0 , 'none'  ], \n",
    "    [24, 'POC-English-disAmb' , 'R=6-Weight=1-mst-weight=+1:R'   , 0  , 0 , 'none'  ], \n",
    "    [25, 'POC-English-disAmb' , 'R=6-Weight=1-mst-weight=+1:R-agm-opt' , 0  , 0 , 'none'  ], \n",
    "    [26, 'POC-English-disAmb' , 'R=6-Weight=1-mst-weight=+1:R-agm-100' , 0  , 0 , 'none'  ], \n",
    "    [27, 'POC-English-Amb'    , 'LG-ANY-all-parses'              , 0  , 0 , 'none'  ], \n",
    "    [28, 'POC-English-disAmb' , 'LG-ANY-all-parses'              , 0  , 0 , 'none'  ], \n",
    "    [29, 'POC-English-disAmb' , 'LG-ANY-all-parses-agm-opt'      , 0  , 0 , 'none'  ], \n",
    "    [30, 'POC-English-disAmb' , 'LG-ANY-all-parses-agm-100'      , 0  , 0 , 'none' ]]\n",
    "rp = module_path + '/data/POC-English-Amb/MST-fixed-manually/poc-english_ex-parses-gold.txt'\n",
    "cp = rp # corpus path = reference path"
   ]
  },
  {
   "cell_type": "code",
   "execution_count": 3,
   "metadata": {
    "ExecuteTime": {
     "end_time": "2018-11-02T09:41:31.217232Z",
     "start_time": "2018-11-02T09:41:31.199509Z"
    }
   },
   "outputs": [],
   "source": [
    "# 81030 test g12n problems\n",
    "linez = [\n",
    "    [11, 'POC-English-Amb'    , 'MST-fixed-manually'             , 0  , 0 , 'none'  ], \n",
    "    [12, 'POC-English-Amb'    , 'MST-fixed-manually'             , 0  , 0 , 'rules' ],\n",
    "    [13, 'POC-English-Amb'    , 'LG-English'                     , 0  , 0 , 'none'  ], \n",
    "    [14, 'POC-English-Amb'    , 'LG-English'                     , 0  , 0 , 'rules' ], \n",
    "    [15, 'POC-English-Amb'    , 'R=6-Weight=6:R-mst-weight=+1:R' , 0  , 0 , 'none'  ], \n",
    "    [16, 'POC-English-Amb'    , 'R=6-Weight=6:R-mst-weight=+1:R' , 0  , 0 , 'rules' ]]\n",
    "line = [\n",
    "    [12, 'POC-English-Amb'    , 'MST-fixed-manually'             , 0  , 0 , 'rules' ]]"
   ]
  },
  {
   "cell_type": "code",
   "execution_count": 4,
   "metadata": {
    "ExecuteTime": {
     "end_time": "2018-11-02T09:41:42.744775Z",
     "start_time": "2018-11-02T09:41:31.223908Z"
    }
   },
   "outputs": [
    {
     "name": "stdout",
     "output_type": "stream",
     "text": [
      "Shadow /src/grammar_learner_/category_learner_\n",
      "\n",
      "category_learner: log:\n",
      " OrderedDict([('category_learner', '80803-81101'), ('tmpath', '/home/obaskov/py/language-learning/tmp/'), ('vector_space_dim', 37), ('vectors_file', '/home/obaskov/py/language-learning/tmp/vectors.txt'), ('silhouette', 0.2752741297581678), ('inertia', 5.1008955129156615), ('n_clusters', 30)])\n",
      "\n",
      "learner line 122: categories: disjuncts: [[], ['is- & a-', 'are- & a-'], ['dad- & wood+ & with+', 'daughter- & wood+ & with+', 'mom- & wood+ & with+', 'son- & wood+ & with+'], ['is+', 'a- & is+', 'writes+', 'a- & likes+', 'knocked+', 'likes+', 'saw+', 'sawed+', 'sees+', 'was- & a-', 'wants- & her-', 'wants- & his-'], ['likes-', 'is+', 'liked-', 'was+'], ['is- & a-'], ['with- & a-', 'has- & a-', 'dad- & mom+', 'dad- & mom+ & with+', 'is+', 'mom- & dad+', 'mom- & dad+ & with+', 'a- & is+', 'dad- & mom+ & before+', 'daughter- & mom+ & before+', 'mom- & dad+ & before+', 'son- & dad+ & before+'], ['saw+', 'has+', 'saw-', 'is+', 'a- & is+', 'saw- & with+', 'sees-', 'to-', 'wants+', 'was+', 'writes+', 'a- & likes+', 'knocked+', 'liked+', 'likes+', 'sawed+', 'sees+', 'wants-'], ['with-', 'has-', 'are+'], ['writes- & chalk+', 'knocked- & hammer+', 'sawed- & saw+', 'dad- & hammer+', 'dad- & saw+', 'mom- & hammer+', 'mom- & saw+', 'saw- & binoculars+', 'saw- & telescope+', 'dad- & binoculars+', 'dad- & telescope+', 'mom- & binoculars+', 'mom- & telescope+'], ['was-', 'saw-', 'liked-'], ['is- & a-', 'was- & a-'], ['board- & directors+'], ['binoculars- & tool+'], ['son+'], ['wants- & be+', 'writes- & dad+', 'writes- & mom+'], ['dad- & sausage+ & before+', 'mom- & cake+ & before+'], ['writes- & board+', 'be- & board+', 'is- & board+'], ['knocked- & the-', 'sawed- & the-'], ['dad- & to+ & with+ & on+', 'dad- & with+ & on+', 'daughter- & to+ & with+ & on+', 'daughter- & with+ & on+', 'mom- & to+ & with+ & on+', 'mom- & with+ & on+', 'son- & to+ & with+ & on+', 'son- & with+ & on+'], ['dad- & mom+ & to+', 'dad- & son+ & to+', 'mom- & dad+ & to+', 'mom- & daughter+ & to+'], ['to- & on+'], ['of-'], ['on- & the-', 'on- & the- & of+'], ['cake- & food+ & before+', 'dad- & not+ & parent+ & before+', 'dad- & son+ & before+', 'mom- & daughter+ & before+', 'mom- & not+ & parent+ & before+', 'sausage- & food+ & before+'], ['dad- & sausage+', 'dad- & sausage+ & now+', 'daughter- & cake+', 'daughter- & cake+ & now+', 'mom- & cake+', 'mom- & cake+ & now+', 'son- & sausage+', 'son- & sausage+ & now+'], ['cake- & food+', 'cake- & food+ & now+', 'dad- & human+', 'dad- & human+ & now+', 'dad- & on+', 'dad- & parent+', 'dad- & parent+ & now+', 'daughter- & child+', 'daughter- & child+ & now+', 'daughter- & human+', 'daughter- & human+ & now+', 'daughter- & on+', 'hammer- & tool+', 'mom- & human+', 'mom- & human+ & now+', 'mom- & on+', 'mom- & parent+', 'mom- & parent+ & now+', 'sausage- & food+', 'sausage- & food+ & now+', 'saw- & tool+', 'son- & child+', 'son- & child+ & now+', 'son- & human+', 'son- & human+ & now+', 'son- & on+', 'telescope- & tool+'], ['board+', 'wood+'], ['is-', 'likes-', 'sees-'], ['hammer+', 'human+', 'saw+', 'food+', 'parent+', 'daughter+', 'telescope+', 'child+', 'son+', 'tool+', 'dad+', 'mom+'], ['dad- & mom+ & now+', 'daughter- & mom+ & now+', 'mom- & dad+ & now+', 'son- & dad+ & now+']]\n",
      "\n",
      "learner line 122: categories: djs: [[], [0, 90], [53, 59, 65, 68], [1, 2, 9, 21, 27, 31, 32, 33, 38, 49, 98, 99], [2, 6, 26, 35], [0], [2, 4, 9, 25, 54, 55, 67, 69, 79, 100, 110, 116], [1, 2, 5, 9, 12, 16, 21, 26, 31, 32, 33, 37, 38, 43, 46, 49, 57, 60], [8, 64, 89], [11, 36, 39, 52, 56, 58, 62, 66, 70, 88, 121, 128, 141], [5, 19, 35], [0, 27], [20], [91], [29], [42, 61, 63], [84, 119], [18, 34, 40], [47, 48], [72, 85, 118, 122, 129, 130, 139, 140], [102, 104, 106, 111], [45], [13], [14, 15], [86, 93, 105, 107, 112, 132], [73, 74, 83, 103, 120, 134, 135, 142], [71, 75, 77, 78, 80, 81, 82, 87, 92, 94, 95, 96, 97, 108, 109, 115, 117, 123, 124, 125, 126, 127, 131, 133, 136, 137, 138], [3, 10], [6, 7, 12], [1, 17, 22, 23, 24, 28, 29, 30, 41, 44, 50, 51], [76, 101, 113, 114]]\n",
      "\n",
      "learner line 122: categories: dj_counts: [[], [3, 1], [2, 2, 2, 2], [6, 4, 4, 2, 2, 2, 2, 2, 2, 2, 1, 1], [8, 4, 2, 2], [12], [14, 6, 2, 2, 2, 2, 2, 1, 1, 1, 1, 1], [10, 8, 8, 6, 4, 4, 4, 4, 4, 4, 4, 2, 2, 2, 2, 2, 2, 2], [10, 2, 1], [8, 4, 4, 2, 2, 2, 2, 2, 2, 1, 1, 1, 1], [8, 4, 2], [8, 4], [8], [1], [1], [4, 2, 2], [1, 1], [8, 4, 4], [4, 4], [1, 1, 1, 1, 1, 1, 1, 1], [1, 1, 1, 1], [4], [8], [8, 8], [1, 1, 1, 1, 1, 1], [1, 1, 1, 1, 1, 1, 1, 1], [1, 1, 1, 1, 1, 1, 1, 1, 1, 1, 1, 1, 1, 1, 1, 1, 1, 1, 1, 1, 1, 1, 1, 1, 1, 1, 1], [16, 8], [10, 4, 4], [8, 8, 8, 6, 6, 5, 5, 4, 4, 4, 3, 3], [1, 1, 1, 1]]\n",
      "\n",
      "learner line 138: rules[\"disjuncts\"]: [[], ['is- & a-', 'are- & a-'], ['dad- & wood+ & with+', 'daughter- & wood+ & with+', 'mom- & wood+ & with+', 'son- & wood+ & with+'], ['is+', 'a- & is+', 'writes+', 'a- & likes+', 'knocked+', 'likes+', 'saw+', 'sawed+', 'sees+', 'was- & a-', 'wants- & her-', 'wants- & his-'], ['likes-', 'is+', 'liked-', 'was+'], ['is- & a-'], ['with- & a-', 'has- & a-', 'dad- & mom+', 'dad- & mom+ & with+', 'is+', 'mom- & dad+', 'mom- & dad+ & with+', 'a- & is+', 'dad- & mom+ & before+', 'daughter- & mom+ & before+', 'mom- & dad+ & before+', 'son- & dad+ & before+'], ['saw+', 'has+', 'saw-', 'is+', 'a- & is+', 'saw- & with+', 'sees-', 'to-', 'wants+', 'was+', 'writes+', 'a- & likes+', 'knocked+', 'liked+', 'likes+', 'sawed+', 'sees+', 'wants-'], ['with-', 'has-', 'are+'], ['writes- & chalk+', 'knocked- & hammer+', 'sawed- & saw+', 'dad- & hammer+', 'dad- & saw+', 'mom- & hammer+', 'mom- & saw+', 'saw- & binoculars+', 'saw- & telescope+', 'dad- & binoculars+', 'dad- & telescope+', 'mom- & binoculars+', 'mom- & telescope+'], ['was-', 'saw-', 'liked-'], ['is- & a-', 'was- & a-'], ['board- & directors+'], ['binoculars- & tool+'], ['son+'], ['wants- & be+', 'writes- & dad+', 'writes- & mom+'], ['dad- & sausage+ & before+', 'mom- & cake+ & before+'], ['writes- & board+', 'be- & board+', 'is- & board+'], ['knocked- & the-', 'sawed- & the-'], ['dad- & to+ & with+ & on+', 'dad- & with+ & on+', 'daughter- & to+ & with+ & on+', 'daughter- & with+ & on+', 'mom- & to+ & with+ & on+', 'mom- & with+ & on+', 'son- & to+ & with+ & on+', 'son- & with+ & on+'], ['dad- & mom+ & to+', 'dad- & son+ & to+', 'mom- & dad+ & to+', 'mom- & daughter+ & to+'], ['to- & on+'], ['of-'], ['on- & the-', 'on- & the- & of+'], ['cake- & food+ & before+', 'dad- & not+ & parent+ & before+', 'dad- & son+ & before+', 'mom- & daughter+ & before+', 'mom- & not+ & parent+ & before+', 'sausage- & food+ & before+'], ['dad- & sausage+', 'dad- & sausage+ & now+', 'daughter- & cake+', 'daughter- & cake+ & now+', 'mom- & cake+', 'mom- & cake+ & now+', 'son- & sausage+', 'son- & sausage+ & now+'], ['cake- & food+', 'cake- & food+ & now+', 'dad- & human+', 'dad- & human+ & now+', 'dad- & on+', 'dad- & parent+', 'dad- & parent+ & now+', 'daughter- & child+', 'daughter- & child+ & now+', 'daughter- & human+', 'daughter- & human+ & now+', 'daughter- & on+', 'hammer- & tool+', 'mom- & human+', 'mom- & human+ & now+', 'mom- & on+', 'mom- & parent+', 'mom- & parent+ & now+', 'sausage- & food+', 'sausage- & food+ & now+', 'saw- & tool+', 'son- & child+', 'son- & child+ & now+', 'son- & human+', 'son- & human+ & now+', 'son- & on+', 'telescope- & tool+'], ['board+', 'wood+'], ['is-', 'likes-', 'sees-'], ['hammer+', 'human+', 'saw+', 'food+', 'parent+', 'daughter+', 'telescope+', 'child+', 'son+', 'tool+', 'dad+', 'mom+'], ['dad- & mom+ & now+', 'daughter- & mom+ & now+', 'mom- & dad+ & now+', 'son- & dad+ & now+']]\n",
      "\n",
      "learner line 138: rules[\"djs\"]: [[], [0, 90], [53, 59, 65, 68], [1, 2, 9, 21, 27, 31, 32, 33, 38, 49, 98, 99], [2, 6, 26, 35], [0], [2, 4, 9, 25, 54, 55, 67, 69, 79, 100, 110, 116], [1, 2, 5, 9, 12, 16, 21, 26, 31, 32, 33, 37, 38, 43, 46, 49, 57, 60], [8, 64, 89], [11, 36, 39, 52, 56, 58, 62, 66, 70, 88, 121, 128, 141], [5, 19, 35], [0, 27], [20], [91], [29], [42, 61, 63], [84, 119], [18, 34, 40], [47, 48], [72, 85, 118, 122, 129, 130, 139, 140], [102, 104, 106, 111], [45], [13], [14, 15], [86, 93, 105, 107, 112, 132], [73, 74, 83, 103, 120, 134, 135, 142], [71, 75, 77, 78, 80, 81, 82, 87, 92, 94, 95, 96, 97, 108, 109, 115, 117, 123, 124, 125, 126, 127, 131, 133, 136, 137, 138], [3, 10], [6, 7, 12], [1, 17, 22, 23, 24, 28, 29, 30, 41, 44, 50, 51], [76, 101, 113, 114]]\n",
      "\n",
      "learner line 138: rules[\"dj_counts\"]: [[], [3, 1], [2, 2, 2, 2], [6, 4, 4, 2, 2, 2, 2, 2, 2, 2, 1, 1], [8, 4, 2, 2], [12], [14, 6, 2, 2, 2, 2, 2, 1, 1, 1, 1, 1], [10, 8, 8, 6, 4, 4, 4, 4, 4, 4, 4, 2, 2, 2, 2, 2, 2, 2], [10, 2, 1], [8, 4, 4, 2, 2, 2, 2, 2, 2, 1, 1, 1, 1], [8, 4, 2], [8, 4], [8], [1], [1], [4, 2, 2], [1, 1], [8, 4, 4], [4, 4], [1, 1, 1, 1, 1, 1, 1, 1], [1, 1, 1, 1], [4], [8], [8, 8], [1, 1, 1, 1, 1, 1], [1, 1, 1, 1, 1, 1, 1, 1], [1, 1, 1, 1, 1, 1, 1, 1, 1, 1, 1, 1, 1, 1, 1, 1, 1, 1, 1, 1, 1, 1, 1, 1, 1, 1, 1], [16, 8], [10, 4, 4], [8, 8, 8, 6, 6, 5, 5, 4, 4, 4, 3, 3], [1, 1, 1, 1]]\n",
      "\n",
      "learner line 163: rules[\"disjuncts\"]: [[], ['is- & a-', 'are- & a-'], ['dad- & wood+ & with+', 'daughter- & wood+ & with+', 'mom- & wood+ & with+', 'son- & wood+ & with+'], ['is+', 'a- & is+', 'writes+', 'a- & likes+', 'knocked+', 'likes+', 'saw+', 'sawed+', 'sees+', 'was- & a-', 'wants- & her-', 'wants- & his-'], ['likes-', 'is+', 'liked-', 'was+'], ['is- & a-'], ['with- & a-', 'has- & a-', 'dad- & mom+', 'dad- & mom+ & with+', 'is+', 'mom- & dad+', 'mom- & dad+ & with+', 'a- & is+', 'dad- & mom+ & before+', 'daughter- & mom+ & before+', 'mom- & dad+ & before+', 'son- & dad+ & before+'], ['saw+', 'has+', 'saw-', 'is+', 'a- & is+', 'saw- & with+', 'sees-', 'to-', 'wants+', 'was+', 'writes+', 'a- & likes+', 'knocked+', 'liked+', 'likes+', 'sawed+', 'sees+', 'wants-'], ['with-', 'has-', 'are+'], ['writes- & chalk+', 'knocked- & hammer+', 'sawed- & saw+', 'dad- & hammer+', 'dad- & saw+', 'mom- & hammer+', 'mom- & saw+', 'saw- & binoculars+', 'saw- & telescope+', 'dad- & binoculars+', 'dad- & telescope+', 'mom- & binoculars+', 'mom- & telescope+'], ['was-', 'saw-', 'liked-'], ['is- & a-', 'was- & a-'], ['board- & directors+'], ['binoculars- & tool+'], ['son+'], ['wants- & be+', 'writes- & dad+', 'writes- & mom+'], ['dad- & sausage+ & before+', 'mom- & cake+ & before+'], ['writes- & board+', 'be- & board+', 'is- & board+'], ['knocked- & the-', 'sawed- & the-'], ['dad- & to+ & with+ & on+', 'dad- & with+ & on+', 'daughter- & to+ & with+ & on+', 'daughter- & with+ & on+', 'mom- & to+ & with+ & on+', 'mom- & with+ & on+', 'son- & to+ & with+ & on+', 'son- & with+ & on+'], ['dad- & mom+ & to+', 'dad- & son+ & to+', 'mom- & dad+ & to+', 'mom- & daughter+ & to+'], ['to- & on+'], ['of-'], ['on- & the-', 'on- & the- & of+'], ['cake- & food+ & before+', 'dad- & not+ & parent+ & before+', 'dad- & son+ & before+', 'mom- & daughter+ & before+', 'mom- & not+ & parent+ & before+', 'sausage- & food+ & before+'], ['dad- & sausage+', 'dad- & sausage+ & now+', 'daughter- & cake+', 'daughter- & cake+ & now+', 'mom- & cake+', 'mom- & cake+ & now+', 'son- & sausage+', 'son- & sausage+ & now+'], ['cake- & food+', 'cake- & food+ & now+', 'dad- & human+', 'dad- & human+ & now+', 'dad- & on+', 'dad- & parent+', 'dad- & parent+ & now+', 'daughter- & child+', 'daughter- & child+ & now+', 'daughter- & human+', 'daughter- & human+ & now+', 'daughter- & on+', 'hammer- & tool+', 'mom- & human+', 'mom- & human+ & now+', 'mom- & on+', 'mom- & parent+', 'mom- & parent+ & now+', 'sausage- & food+', 'sausage- & food+ & now+', 'saw- & tool+', 'son- & child+', 'son- & child+ & now+', 'son- & human+', 'son- & human+ & now+', 'son- & on+', 'telescope- & tool+'], ['board+', 'wood+'], ['is-', 'likes-', 'sees-'], ['hammer+', 'human+', 'saw+', 'food+', 'parent+', 'daughter+', 'telescope+', 'child+', 'son+', 'tool+', 'dad+', 'mom+'], ['dad- & mom+ & now+', 'daughter- & mom+ & now+', 'mom- & dad+ & now+', 'son- & dad+ & now+']]\n",
      "\n",
      "learner line 163: rules[\"djs\"]: [[], [0, 90], [53, 59, 65, 68], [1, 2, 9, 21, 27, 31, 32, 33, 38, 49, 98, 99], [2, 6, 26, 35], [0], [2, 4, 9, 25, 54, 55, 67, 69, 79, 100, 110, 116], [1, 2, 5, 9, 12, 16, 21, 26, 31, 32, 33, 37, 38, 43, 46, 49, 57, 60], [8, 64, 89], [11, 36, 39, 52, 56, 58, 62, 66, 70, 88, 121, 128, 141], [5, 19, 35], [0, 27], [20], [91], [29], [42, 61, 63], [84, 119], [18, 34, 40], [47, 48], [72, 85, 118, 122, 129, 130, 139, 140], [102, 104, 106, 111], [45], [13], [14, 15], [86, 93, 105, 107, 112, 132], [73, 74, 83, 103, 120, 134, 135, 142], [71, 75, 77, 78, 80, 81, 82, 87, 92, 94, 95, 96, 97, 108, 109, 115, 117, 123, 124, 125, 126, 127, 131, 133, 136, 137, 138], [3, 10], [6, 7, 12], [1, 17, 22, 23, 24, 28, 29, 30, 41, 44, 50, 51], [76, 101, 113, 114]]\n",
      "\n",
      "learner line 163: rules[\"dj_counts\"]: [[], [3, 1], [2, 2, 2, 2], [6, 4, 4, 2, 2, 2, 2, 2, 2, 2, 1, 1], [8, 4, 2, 2], [12], [14, 6, 2, 2, 2, 2, 2, 1, 1, 1, 1, 1], [10, 8, 8, 6, 4, 4, 4, 4, 4, 4, 4, 2, 2, 2, 2, 2, 2, 2], [10, 2, 1], [8, 4, 4, 2, 2, 2, 2, 2, 2, 1, 1, 1, 1], [8, 4, 2], [8, 4], [8], [1], [1], [4, 2, 2], [1, 1], [8, 4, 4], [4, 4], [1, 1, 1, 1, 1, 1, 1, 1], [1, 1, 1, 1], [4], [8], [8, 8], [1, 1, 1, 1, 1, 1], [1, 1, 1, 1, 1, 1, 1, 1], [1, 1, 1, 1, 1, 1, 1, 1, 1, 1, 1, 1, 1, 1, 1, 1, 1, 1, 1, 1, 1, 1, 1, 1, 1, 1, 1], [16, 8], [10, 4, 4], [8, 8, 8, 6, 6, 5, 5, 4, 4, 4, 3, 3], [1, 1, 1, 1]]\n",
      "Info: Directory '/home/obaskov/py/language-learning/output/POC-English-2018-11-02/POC-English-Amb_MST-fixed-manually_dDRKd_no-LW_no-RW_gen-rules/dict_27C_2018-11-02_0006' already exists.\n",
      "Info: Directory '/home/obaskov/py/language-learning/output/POC-English-2018-11-02/POC-English-Amb_MST-fixed-manually_dDRKd_no-LW_no-RW_gen-rules/dict_27C_2018-11-02_0006' has been removed. Option '-r' was specified.\n",
      "Info: Directory '/home/obaskov/py/language-learning/output/POC-English-2018-11-02/POC-English-Amb_MST-fixed-manually_dDRKd_no-LW_no-RW_gen-rules/dict_27C_2018-11-02_0006' with template files has been created.\n",
      "Info: Dictionary file has been replaced with '/home/obaskov/py/language-learning/output/POC-English-2018-11-02/POC-English-Amb_MST-fixed-manually_dDRKd_no-LW_no-RW_gen-rules/dict_27C_2018-11-02_0006.4.0.dict'.\n",
      "Info: Parsing a corpus file: '/home/obaskov/py/language-learning/data/POC-English-Amb/MST-fixed-manually/poc-english_ex-parses-gold.txt'\n",
      "Info: Using dictionary: '/home/obaskov/py/language-learning/output/POC-English-2018-11-02/POC-English-Amb_MST-fixed-manually_dDRKd_no-LW_no-RW_gen-rules/dict_27C_2018-11-02_0006'\n",
      "Info: Parses are saved in: '/home/obaskov/py/language-learning/output/POC-English-2018-11-02/POC-English-Amb_MST-fixed-manually_dDRKd_no-LW_no-RW_gen-rules/poc-english_ex-parses-gold.txt.ull'\n",
      "Info: Reference file: '/home/obaskov/py/language-learning/data/POC-English-Amb/MST-fixed-manually/poc-english_ex-parses-gold.txt'\n",
      "Number of sentences: 88\n",
      "Parsed sentences: 88\n",
      "Dictionary processing time: 0h 0m 0.04749131202697754s\n",
      "Dictionaries processed:  1\n",
      "Overal execution time: 0h 0m 0.047568321228027344s\n"
     ]
    },
    {
     "data": {
      "text/html": [
       "<table><tr><td>Line</td><td>Corpus</td><td>Parsing</td><td>LW</td><td>RW</td><td>Gen.</td><td>Space</td><td>Rules</td><td>Silhouette</td><td>PA</td><td>PQ</td><td>F1</td></tr><tr><td>12</td><td>POC-English-Amb</td><td>MST-fixed-manually</td><td> --- </td><td> --- </td><td>rules</td><td>dDRKd</td><td>27</td><td>0.28</td><td>100%</td><td>99%</td><td>0.99</td></tr></table>"
      ],
      "text/plain": [
       "<IPython.core.display.HTML object>"
      ]
     },
     "metadata": {},
     "output_type": "display_data"
    }
   ],
   "source": [
    "#%%capture\n",
    "kwargs['context'] = 2\n",
    "kwargs['grammar_rules'] = 2\n",
    "kwargs['word_space'] = 'vectors'\n",
    "kwargs['clustering'] = ('kmeans', 'kmeans++', 10)\n",
    "average, _, header = table_rows(line, out_dir, cp, rp, runs, **kwargs)\n",
    "display(html_table([header]+average))"
   ]
  },
  {
   "cell_type": "code",
   "execution_count": 5,
   "metadata": {
    "ExecuteTime": {
     "end_time": "2018-11-02T09:41:42.757322Z",
     "start_time": "2018-11-02T09:41:42.753535Z"
    }
   },
   "outputs": [
    {
     "data": {
      "text/html": [
       "<table><tr><td>Line</td><td>Corpus</td><td>Parsing</td><td>LW</td><td>RW</td><td>Gen.</td><td>Space</td><td>Rules</td><td>Silhouette</td><td>PA</td><td>PQ</td><td>F1</td></tr><tr><td>12</td><td>POC-English-Amb</td><td>MST-fixed-manually</td><td> --- </td><td> --- </td><td>rules</td><td>dDRKd</td><td>27</td><td>0.28</td><td>100%</td><td>99%</td><td>0.99</td></tr></table>"
      ],
      "text/plain": [
       "<IPython.core.display.HTML object>"
      ]
     },
     "metadata": {},
     "output_type": "display_data"
    }
   ],
   "source": [
    "display(html_table([header]+average))"
   ]
  },
  {
   "cell_type": "code",
   "execution_count": 6,
   "metadata": {
    "ExecuteTime": {
     "end_time": "2018-11-02T09:41:42.771531Z",
     "start_time": "2018-11-02T09:41:42.761485Z"
    }
   },
   "outputs": [],
   "source": [
    "catz = {}\n",
    "catz['disjuncts'] = [[], ['hammer+', 'human+', 'saw+', 'food+', 'parent+', 'daughter+', 'telescope+', 'child+', 'son+', 'tool+', 'dad+', 'mom+'], ['is- & a-', 'are- & a-'], ['saw+', 'has+', 'saw-', 'is+', 'a- & is+', 'saw- & with+', 'sees-', 'to-', 'wants+', 'was+', 'writes+', 'a- & likes+', 'knocked+', 'liked+', 'likes+', 'sawed+', 'sees+', 'wants-'], ['was-', 'saw-', 'liked-'], ['dad- & wood+ & with+', 'daughter- & wood+ & with+', 'mom- & wood+ & with+', 'son- & wood+ & with+'], ['with- & a-', 'has- & a-', 'a- & is+', 'is+'], ['with-', 'has-', 'are+'], ['likes-', 'is+', 'liked-', 'was+'], ['writes- & chalk+', 'knocked- & hammer+', 'sawed- & saw+', 'dad- & hammer+', 'dad- & saw+', 'mom- & hammer+', 'mom- & saw+', 'saw- & binoculars+', 'saw- & telescope+', 'dad- & binoculars+', 'dad- & telescope+', 'mom- & binoculars+', 'mom- & telescope+'], ['of-'], ['is- & a-', 'was- & a-'], ['board- & directors+'], ['dad- & to+ & with+ & on+', 'dad- & with+ & on+', 'daughter- & to+ & with+ & on+', 'daughter- & with+ & on+', 'mom- & to+ & with+ & on+', 'mom- & with+ & on+', 'son- & to+ & with+ & on+', 'son- & with+ & on+'], ['is+', 'a- & is+', 'writes+', 'a- & likes+', 'knocked+', 'likes+', 'saw+', 'sawed+', 'sees+', 'was- & a-', 'wants- & her-', 'wants- & his-'], ['dad- & mom+ & to+', 'dad- & son+ & to+', 'mom- & dad+ & to+', 'mom- & daughter+ & to+'], ['wants- & be+', 'writes- & dad+', 'writes- & mom+'], ['knocked- & the-', 'sawed- & the-'], ['on- & the-', 'on- & the- & of+'], ['dad- & mom+ & now+', 'daughter- & mom+ & now+', 'mom- & dad+ & now+', 'son- & dad+ & now+'], ['son+'], ['writes- & board+', 'be- & board+', 'is- & board+'], ['dad- & sausage+ & before+', 'mom- & cake+ & before+'], ['to- & on+'], ['binoculars- & tool+'], ['dad- & sausage+', 'dad- & sausage+ & now+', 'daughter- & cake+', 'daughter- & cake+ & now+', 'mom- & cake+', 'mom- & cake+ & now+', 'son- & sausage+', 'son- & sausage+ & now+'], ['board+', 'wood+'], ['with- & a-', 'dad- & mom+', 'dad- & mom+ & with+', 'has- & a-', 'mom- & dad+', 'mom- & dad+ & with+', 'cake- & food+', 'cake- & food+ & now+', 'dad- & human+', 'dad- & human+ & now+', 'dad- & mom+ & before+', 'dad- & on+', 'dad- & parent+', 'dad- & parent+ & now+', 'daughter- & child+', 'daughter- & child+ & now+', 'daughter- & human+', 'daughter- & human+ & now+', 'daughter- & mom+ & before+', 'daughter- & on+', 'hammer- & tool+', 'is+', 'mom- & dad+ & before+', 'mom- & human+', 'mom- & human+ & now+', 'mom- & on+', 'mom- & parent+', 'mom- & parent+ & now+', 'sausage- & food+', 'sausage- & food+ & now+', 'saw- & tool+', 'son- & child+', 'son- & child+ & now+', 'son- & dad+ & before+', 'son- & human+', 'son- & human+ & now+', 'son- & on+', 'telescope- & tool+'], ['is-', 'likes-', 'sees-'], ['cake- & food+ & before+', 'dad- & not+ & parent+ & before+', 'dad- & son+ & before+', 'mom- & daughter+ & before+', 'mom- & not+ & parent+ & before+', 'sausage- & food+ & before+']]\n",
    "from collections import Counter\n",
    "c = Counter([x for y in catz['disjuncts'] for x in y]).most_common()"
   ]
  },
  {
   "cell_type": "code",
   "execution_count": 7,
   "metadata": {
    "ExecuteTime": {
     "end_time": "2018-11-02T09:41:42.779385Z",
     "start_time": "2018-11-02T09:41:42.773202Z"
    }
   },
   "outputs": [],
   "source": [
    "d = {x:(i+1) for i,x in enumerate(sorted(set([x for y in catz['disjuncts'] for x in y])))}"
   ]
  },
  {
   "cell_type": "code",
   "execution_count": 8,
   "metadata": {
    "ExecuteTime": {
     "end_time": "2018-11-02T09:41:42.791268Z",
     "start_time": "2018-11-02T09:41:42.785312Z"
    }
   },
   "outputs": [],
   "source": [
    "djs = [set([d[x] for x in y]) for y in catz['disjuncts']]"
   ]
  },
  {
   "cell_type": "code",
   "execution_count": 9,
   "metadata": {
    "ExecuteTime": {
     "end_time": "2018-11-02T09:41:42.797739Z",
     "start_time": "2018-11-02T09:41:42.793043Z"
    }
   },
   "outputs": [],
   "source": [
    "#STOP"
   ]
  },
  {
   "cell_type": "markdown",
   "metadata": {},
   "source": [
    "# Baseline: POC-English-Amb, 5 datasets; ...-disAmb, 6 datasets\n",
    "ULL Project Plan ⇒ Parses ⇒ lines 11-30"
   ]
  },
  {
   "cell_type": "markdown",
   "metadata": {},
   "source": [
    "## Connectors-DRK-Connectors"
   ]
  },
  {
   "cell_type": "code",
   "execution_count": 10,
   "metadata": {
    "ExecuteTime": {
     "end_time": "2018-11-02T09:44:55.109655Z",
     "start_time": "2018-11-02T09:41:42.799475Z"
    },
    "scrolled": true
   },
   "outputs": [],
   "source": [
    "%%capture\n",
    "kwargs['context'] = 1\n",
    "kwargs['grammar_rules'] = 1\n",
    "kwargs['word_space'] = 'vectors'\n",
    "kwargs['clustering'] = ('kmeans', 'kmeans++', 10)\n",
    "average21, long21, header = table_rows(lines, out_dir, cp, rp, runs, **kwargs)\n",
    "table.extend(average21)\n",
    "long_table.extend(long21)"
   ]
  },
  {
   "cell_type": "code",
   "execution_count": 11,
   "metadata": {
    "ExecuteTime": {
     "end_time": "2018-11-02T09:44:55.125329Z",
     "start_time": "2018-11-02T09:44:55.111372Z"
    }
   },
   "outputs": [
    {
     "data": {
      "text/html": [
       "<table><tr><td>Line</td><td>Corpus</td><td>Parsing</td><td>LW</td><td>RW</td><td>Gen.</td><td>Space</td><td>Rules</td><td>Silhouette</td><td>PA</td><td>PQ</td><td>F1</td></tr><tr><td>11</td><td>POC-English-Amb</td><td>MST-fixed-manually</td><td> --- </td><td> --- </td><td>none</td><td>cDRKc</td><td>30</td><td>0.26</td><td>73%</td><td>65%</td><td>0.78</td></tr><tr><td>13</td><td>POC-English-Amb</td><td>LG-English</td><td> --- </td><td> --- </td><td>none</td><td>cDRKc</td><td>30</td><td>0.28</td><td>75%</td><td>65%</td><td>0.77</td></tr><tr><td>15</td><td>POC-English-Amb</td><td>R=6-Weight=6:R-mst-weight=+1:R</td><td> --- </td><td> --- </td><td>none</td><td>cDRKc</td><td>28</td><td>0.24</td><td>87%</td><td>55%</td><td>0.57</td></tr><tr><td>17</td><td>POC-English-disAmb</td><td>R=6-Weight=6:R-mst-weight=+1:R</td><td> --- </td><td> --- </td><td>none</td><td>cDRKc</td><td>29</td><td>0.25</td><td>86%</td><td>54%</td><td>0.57</td></tr><tr><td>19</td><td>POC-English-disAmb</td><td>R=6-Weight=6:R-mst-weight=+1:R-agm-opt</td><td> --- </td><td> --- </td><td>none</td><td>cDRKc</td><td>30</td><td>0.23</td><td>90%</td><td>58%</td><td>0.60</td></tr><tr><td>21</td><td>POC-English-disAmb</td><td>R=6-Weight=6:R-mst-weight=+1:R-agm-100</td><td> --- </td><td> --- </td><td>none</td><td>cDRKc</td><td>42</td><td>0.14</td><td>92%</td><td>62%</td><td>0.66</td></tr><tr><td>23</td><td>POC-English-Amb</td><td>R=6-Weight=1-mst-weight=+1:R</td><td> --- </td><td> --- </td><td>none</td><td>cDRKc</td><td>20</td><td>0.21</td><td>86%</td><td>56%</td><td>0.61</td></tr><tr><td>24</td><td>POC-English-disAmb</td><td>R=6-Weight=1-mst-weight=+1:R</td><td> --- </td><td> --- </td><td>none</td><td>cDRKc</td><td>22</td><td>0.21</td><td>85%</td><td>57%</td><td>0.63</td></tr><tr><td>25</td><td>POC-English-disAmb</td><td>R=6-Weight=1-mst-weight=+1:R-agm-opt</td><td> --- </td><td> --- </td><td>none</td><td>cDRKc</td><td>25</td><td>0.18</td><td>89%</td><td>57%</td><td>0.61</td></tr><tr><td>26</td><td>POC-English-disAmb</td><td>R=6-Weight=1-mst-weight=+1:R-agm-100</td><td> --- </td><td> --- </td><td>none</td><td>cDRKc</td><td>37</td><td>0.18</td><td>94%</td><td>65%</td><td>0.68</td></tr><tr><td>27</td><td>POC-English-Amb</td><td>LG-ANY-all-parses</td><td> --- </td><td> --- </td><td>none</td><td>cDRKc</td><td>22</td><td>0.24</td><td>89%</td><td>58%</td><td>0.60</td></tr><tr><td>28</td><td>POC-English-disAmb</td><td>LG-ANY-all-parses</td><td> --- </td><td> --- </td><td>none</td><td>cDRKc</td><td>27</td><td>0.29</td><td>85%</td><td>55%</td><td>0.58</td></tr><tr><td>29</td><td>POC-English-disAmb</td><td>LG-ANY-all-parses-agm-opt</td><td> --- </td><td> --- </td><td>none</td><td>cDRKc</td><td>24</td><td>0.27</td><td>87%</td><td>55%</td><td>0.59</td></tr><tr><td>30</td><td>POC-English-disAmb</td><td>LG-ANY-all-parses-agm-100</td><td> --- </td><td> --- </td><td>none</td><td>cDRKc</td><td>36</td><td>0.15</td><td>94%</td><td>64%</td><td>0.67</td></tr></table>"
      ],
      "text/plain": [
       "<IPython.core.display.HTML object>"
      ]
     },
     "metadata": {},
     "output_type": "display_data"
    }
   ],
   "source": [
    "display(html_table([header]+average21))"
   ]
  },
  {
   "cell_type": "markdown",
   "metadata": {},
   "source": [
    "## Connectors-DRK-Disjuncts"
   ]
  },
  {
   "cell_type": "code",
   "execution_count": 12,
   "metadata": {
    "ExecuteTime": {
     "end_time": "2018-11-02T09:49:18.008160Z",
     "start_time": "2018-11-02T09:44:55.127031Z"
    }
   },
   "outputs": [],
   "source": [
    "%%capture\n",
    "kwargs['grammar_rules'] = 2\n",
    "average22, long22, header = table_rows(lines, out_dir, cp, rp, runs, **kwargs)\n",
    "table.extend(average22)\n",
    "long_table.extend(long22)"
   ]
  },
  {
   "cell_type": "code",
   "execution_count": 13,
   "metadata": {
    "ExecuteTime": {
     "end_time": "2018-11-02T09:49:18.016052Z",
     "start_time": "2018-11-02T09:49:18.010090Z"
    },
    "scrolled": true
   },
   "outputs": [
    {
     "data": {
      "text/html": [
       "<table><tr><td>Line</td><td>Corpus</td><td>Parsing</td><td>LW</td><td>RW</td><td>Gen.</td><td>Space</td><td>Rules</td><td>Silhouette</td><td>PA</td><td>PQ</td><td>F1</td></tr><tr><td>11</td><td>POC-English-Amb</td><td>MST-fixed-manually</td><td> --- </td><td> --- </td><td>none</td><td>cDRKd</td><td>30</td><td>0.28</td><td>100%</td><td>99%</td><td>0.99</td></tr><tr><td>12</td><td>POC-English-Amb</td><td>MST-fixed-manually</td><td> --- </td><td> --- </td><td>rules</td><td>cDRKd</td><td>25</td><td>0.26</td><td>100%</td><td>99%</td><td>0.99</td></tr><tr><td>13</td><td>POC-English-Amb</td><td>LG-English</td><td> --- </td><td> --- </td><td>none</td><td>cDRKd</td><td>31</td><td>0.28</td><td>100%</td><td>98%</td><td>0.97</td></tr><tr><td>14</td><td>POC-English-Amb</td><td>LG-English</td><td> --- </td><td> --- </td><td>rules</td><td>cDRKd</td><td>24</td><td>0.28</td><td>100%</td><td>98%</td><td>0.97</td></tr><tr><td>15</td><td>POC-English-Amb</td><td>R=6-Weight=6:R-mst-weight=+1:R</td><td> --- </td><td> --- </td><td>none</td><td>cDRKd</td><td>29</td><td>0.24</td><td>97%</td><td>65%</td><td>0.65</td></tr><tr><td>16</td><td>POC-English-Amb</td><td>R=6-Weight=6:R-mst-weight=+1:R</td><td> --- </td><td> --- </td><td>rules</td><td>cDRKd</td><td>26</td><td>0.24</td><td>99%</td><td>67%</td><td>0.67</td></tr><tr><td>17</td><td>POC-English-disAmb</td><td>R=6-Weight=6:R-mst-weight=+1:R</td><td> --- </td><td> --- </td><td>none</td><td>cDRKd</td><td>29</td><td>0.27</td><td>98%</td><td>65%</td><td>0.65</td></tr><tr><td>18</td><td>POC-English-disAmb</td><td>R=6-Weight=6:R-mst-weight=+1:R</td><td> --- </td><td> --- </td><td>rules</td><td>cDRKd</td><td>28</td><td>0.27</td><td>100%</td><td>68%</td><td>0.68</td></tr><tr><td>19</td><td>POC-English-disAmb</td><td>R=6-Weight=6:R-mst-weight=+1:R-agm-opt</td><td> --- </td><td> --- </td><td>none</td><td>cDRKd</td><td>30</td><td>0.23</td><td>97%</td><td>66%</td><td>0.67</td></tr><tr><td>20</td><td>POC-English-disAmb</td><td>R=6-Weight=6:R-mst-weight=+1:R-agm-opt</td><td> --- </td><td> --- </td><td>rules</td><td>cDRKd</td><td>29</td><td>0.21</td><td>100%</td><td>69%</td><td>0.69</td></tr><tr><td>21</td><td>POC-English-disAmb</td><td>R=6-Weight=6:R-mst-weight=+1:R-agm-100</td><td> --- </td><td> --- </td><td>none</td><td>cDRKd</td><td>40</td><td>0.13</td><td>100%</td><td>69%</td><td>0.69</td></tr><tr><td>22</td><td>POC-English-disAmb</td><td>R=6-Weight=6:R-mst-weight=+1:R-agm-100</td><td> --- </td><td> --- </td><td>rules</td><td>cDRKd</td><td>39</td><td>0.13</td><td>100%</td><td>71%</td><td>0.71</td></tr><tr><td>23</td><td>POC-English-Amb</td><td>R=6-Weight=1-mst-weight=+1:R</td><td> --- </td><td> --- </td><td>none</td><td>cDRKd</td><td>21</td><td>0.21</td><td>97%</td><td>72%</td><td>0.72</td></tr><tr><td>24</td><td>POC-English-disAmb</td><td>R=6-Weight=1-mst-weight=+1:R</td><td> --- </td><td> --- </td><td>none</td><td>cDRKd</td><td>24</td><td>0.21</td><td>98%</td><td>70%</td><td>0.70</td></tr><tr><td>25</td><td>POC-English-disAmb</td><td>R=6-Weight=1-mst-weight=+1:R-agm-opt</td><td> --- </td><td> --- </td><td>none</td><td>cDRKd</td><td>25</td><td>0.18</td><td>98%</td><td>72%</td><td>0.72</td></tr><tr><td>26</td><td>POC-English-disAmb</td><td>R=6-Weight=1-mst-weight=+1:R-agm-100</td><td> --- </td><td> --- </td><td>none</td><td>cDRKd</td><td>40</td><td>0.19</td><td>100%</td><td>71%</td><td>0.71</td></tr><tr><td>27</td><td>POC-English-Amb</td><td>LG-ANY-all-parses</td><td> --- </td><td> --- </td><td>none</td><td>cDRKd</td><td>23</td><td>0.25</td><td>95%</td><td>66%</td><td>0.66</td></tr><tr><td>28</td><td>POC-English-disAmb</td><td>LG-ANY-all-parses</td><td> --- </td><td> --- </td><td>none</td><td>cDRKd</td><td>26</td><td>0.28</td><td>95%</td><td>70%</td><td>0.70</td></tr><tr><td>29</td><td>POC-English-disAmb</td><td>LG-ANY-all-parses-agm-opt</td><td> --- </td><td> --- </td><td>none</td><td>cDRKd</td><td>25</td><td>0.27</td><td>95%</td><td>69%</td><td>0.69</td></tr><tr><td>30</td><td>POC-English-disAmb</td><td>LG-ANY-all-parses-agm-100</td><td> --- </td><td> --- </td><td>none</td><td>cDRKd</td><td>35</td><td>0.15</td><td>100%</td><td>70%</td><td>0.70</td></tr></table>"
      ],
      "text/plain": [
       "<IPython.core.display.HTML object>"
      ]
     },
     "metadata": {},
     "output_type": "display_data"
    }
   ],
   "source": [
    "display(html_table([header]+average22))"
   ]
  },
  {
   "cell_type": "markdown",
   "metadata": {},
   "source": [
    "## Disjuncts-DRK-Disjuncts"
   ]
  },
  {
   "cell_type": "code",
   "execution_count": 14,
   "metadata": {
    "ExecuteTime": {
     "end_time": "2018-11-02T09:52:08.245156Z",
     "start_time": "2018-11-02T09:49:18.023745Z"
    }
   },
   "outputs": [],
   "source": [
    "%%capture\n",
    "kwargs['context'] = 2\n",
    "kwargs['grammar_rules'] = 2\n",
    "kwargs['word_space'] = 'vectors'\n",
    "kwargs['clustering'] = ('kmeans', 'kmeans++', 10)\n",
    "average23, long23, header = table_rows(lines, out_dir, cp, rp, runs, **kwargs)\n",
    "table.extend(average23)\n",
    "long_table.extend(long23)"
   ]
  },
  {
   "cell_type": "code",
   "execution_count": 15,
   "metadata": {
    "ExecuteTime": {
     "end_time": "2018-11-02T09:52:08.262907Z",
     "start_time": "2018-11-02T09:52:08.248171Z"
    }
   },
   "outputs": [
    {
     "data": {
      "text/html": [
       "<table><tr><td>Line</td><td>Corpus</td><td>Parsing</td><td>LW</td><td>RW</td><td>Gen.</td><td>Space</td><td>Rules</td><td>Silhouette</td><td>PA</td><td>PQ</td><td>F1</td></tr><tr><td>11</td><td>POC-English-Amb</td><td>MST-fixed-manually</td><td> --- </td><td> --- </td><td>none</td><td>dDRKd</td><td>30</td><td>0.25</td><td>100%</td><td>99%</td><td>0.99</td></tr><tr><td>12</td><td>POC-English-Amb</td><td>MST-fixed-manually</td><td> --- </td><td> --- </td><td>rules</td><td>dDRKd</td><td>26</td><td>0.26</td><td>100%</td><td>99%</td><td>0.99</td></tr><tr><td>13</td><td>POC-English-Amb</td><td>LG-English</td><td> --- </td><td> --- </td><td>none</td><td>dDRKd</td><td>4</td><td>0.61</td><td>100%</td><td>90%</td><td>0.90</td></tr><tr><td>14</td><td>POC-English-Amb</td><td>LG-English</td><td> --- </td><td> --- </td><td>rules</td><td>dDRKd</td><td>4</td><td>0.61</td><td>100%</td><td>89%</td><td>0.89</td></tr><tr><td>15</td><td>POC-English-Amb</td><td>R=6-Weight=6:R-mst-weight=+1:R</td><td> --- </td><td> --- </td><td>none</td><td>dDRKd</td><td>5</td><td>0.48</td><td>100%</td><td>68%</td><td>0.68</td></tr><tr><td>16</td><td>POC-English-Amb</td><td>R=6-Weight=6:R-mst-weight=+1:R</td><td> --- </td><td> --- </td><td>rules</td><td>dDRKd</td><td>5</td><td>0.48</td><td>100%</td><td>68%</td><td>0.68</td></tr><tr><td>17</td><td>POC-English-disAmb</td><td>R=6-Weight=6:R-mst-weight=+1:R</td><td> --- </td><td> --- </td><td>none</td><td>dDRKd</td><td>35</td><td>0.23</td><td>98%</td><td>67%</td><td>0.67</td></tr><tr><td>18</td><td>POC-English-disAmb</td><td>R=6-Weight=6:R-mst-weight=+1:R</td><td> --- </td><td> --- </td><td>rules</td><td>dDRKd</td><td>34</td><td>0.23</td><td>100%</td><td>69%</td><td>0.69</td></tr><tr><td>19</td><td>POC-English-disAmb</td><td>R=6-Weight=6:R-mst-weight=+1:R-agm-opt</td><td> --- </td><td> --- </td><td>none</td><td>dDRKd</td><td>3</td><td>0.46</td><td>100%</td><td>68%</td><td>0.68</td></tr><tr><td>20</td><td>POC-English-disAmb</td><td>R=6-Weight=6:R-mst-weight=+1:R-agm-opt</td><td> --- </td><td> --- </td><td>rules</td><td>dDRKd</td><td>3</td><td>0.46</td><td>100%</td><td>67%</td><td>0.67</td></tr><tr><td>21</td><td>POC-English-disAmb</td><td>R=6-Weight=6:R-mst-weight=+1:R-agm-100</td><td> --- </td><td> --- </td><td>none</td><td>dDRKd</td><td>44</td><td>0.08</td><td>100%</td><td>72%</td><td>0.72</td></tr><tr><td>22</td><td>POC-English-disAmb</td><td>R=6-Weight=6:R-mst-weight=+1:R-agm-100</td><td> --- </td><td> --- </td><td>rules</td><td>dDRKd</td><td>43</td><td>0.08</td><td>100%</td><td>72%</td><td>0.72</td></tr><tr><td>23</td><td>POC-English-Amb</td><td>R=6-Weight=1-mst-weight=+1:R</td><td> --- </td><td> --- </td><td>none</td><td>dDRKd</td><td>20</td><td>0.45</td><td>98%</td><td>71%</td><td>0.71</td></tr><tr><td>24</td><td>POC-English-disAmb</td><td>R=6-Weight=1-mst-weight=+1:R</td><td> --- </td><td> --- </td><td>none</td><td>dDRKd</td><td>20</td><td>0.43</td><td>96%</td><td>68%</td><td>0.69</td></tr><tr><td>25</td><td>POC-English-disAmb</td><td>R=6-Weight=1-mst-weight=+1:R-agm-opt</td><td> --- </td><td> --- </td><td>none</td><td>dDRKd</td><td>30</td><td>0.32</td><td>98%</td><td>67%</td><td>0.67</td></tr><tr><td>26</td><td>POC-English-disAmb</td><td>R=6-Weight=1-mst-weight=+1:R-agm-100</td><td> --- </td><td> --- </td><td>none</td><td>dDRKd</td><td>44</td><td>0.12</td><td>100%</td><td>71%</td><td>0.71</td></tr><tr><td>27</td><td>POC-English-Amb</td><td>LG-ANY-all-parses</td><td> --- </td><td> --- </td><td>none</td><td>dDRKd</td><td>4</td><td>0.79</td><td>100%</td><td>71%</td><td>0.71</td></tr><tr><td>28</td><td>POC-English-disAmb</td><td>LG-ANY-all-parses</td><td> --- </td><td> --- </td><td>none</td><td>dDRKd</td><td>32</td><td>0.24</td><td>95%</td><td>70%</td><td>0.70</td></tr><tr><td>29</td><td>POC-English-disAmb</td><td>LG-ANY-all-parses-agm-opt</td><td> --- </td><td> --- </td><td>none</td><td>dDRKd</td><td>24</td><td>0.21</td><td>95%</td><td>70%</td><td>0.70</td></tr><tr><td>30</td><td>POC-English-disAmb</td><td>LG-ANY-all-parses-agm-100</td><td> --- </td><td> --- </td><td>none</td><td>dDRKd</td><td>41</td><td>0.08</td><td>100%</td><td>72%</td><td>0.72</td></tr></table>"
      ],
      "text/plain": [
       "<IPython.core.display.HTML object>"
      ]
     },
     "metadata": {},
     "output_type": "display_data"
    }
   ],
   "source": [
    "display(html_table([header]+average23))"
   ]
  },
  {
   "cell_type": "markdown",
   "metadata": {},
   "source": [
    "## Disjuncts-ILE-Disjuncts"
   ]
  },
  {
   "cell_type": "code",
   "execution_count": 16,
   "metadata": {
    "ExecuteTime": {
     "end_time": "2018-11-02T09:52:11.909885Z",
     "start_time": "2018-11-02T09:52:08.264761Z"
    }
   },
   "outputs": [],
   "source": [
    "%%capture\n",
    "kwargs['context'] = 2\n",
    "kwargs['word_space'] = 'discrete'\n",
    "kwargs['clustering'] = 'group'\n",
    "kwargs['grammar_rules'] = 2\n",
    "average24, long24, header = table_rows(lines, out_dir, cp, rp, runs, **kwargs)\n",
    "table.extend(average24)\n",
    "long_table.extend(long24)"
   ]
  },
  {
   "cell_type": "code",
   "execution_count": 17,
   "metadata": {
    "ExecuteTime": {
     "end_time": "2018-11-02T09:52:11.921467Z",
     "start_time": "2018-11-02T09:52:11.911723Z"
    }
   },
   "outputs": [
    {
     "data": {
      "text/html": [
       "<table><tr><td>Line</td><td>Corpus</td><td>Parsing</td><td>LW</td><td>RW</td><td>Gen.</td><td>Space</td><td>Rules</td><td>Silhouette</td><td>PA</td><td>PQ</td><td>F1</td></tr><tr><td>11</td><td>POC-English-Amb</td><td>MST-fixed-manually</td><td> --- </td><td> --- </td><td>none</td><td>dILEd</td><td>37</td><td> --- </td><td>100%</td><td>100%</td><td>1.00</td></tr><tr><td>12</td><td>POC-English-Amb</td><td>MST-fixed-manually</td><td> --- </td><td> --- </td><td>rules</td><td>dILEd</td><td>28</td><td> --- </td><td>100%</td><td>99%</td><td>0.99</td></tr><tr><td>13</td><td>POC-English-Amb</td><td>LG-English</td><td> --- </td><td> --- </td><td>none</td><td>dILEd</td><td>37</td><td> --- </td><td>100%</td><td>98%</td><td>0.97</td></tr><tr><td>14</td><td>POC-English-Amb</td><td>LG-English</td><td> --- </td><td> --- </td><td>rules</td><td>dILEd</td><td>30</td><td> --- </td><td>100%</td><td>98%</td><td>0.97</td></tr><tr><td>15</td><td>POC-English-Amb</td><td>R=6-Weight=6:R-mst-weight=+1:R</td><td> --- </td><td> --- </td><td>none</td><td>dILEd</td><td>38</td><td> --- </td><td>97%</td><td>66%</td><td>0.66</td></tr><tr><td>16</td><td>POC-English-Amb</td><td>R=6-Weight=6:R-mst-weight=+1:R</td><td> --- </td><td> --- </td><td>rules</td><td>dILEd</td><td>34</td><td> --- </td><td>99%</td><td>68%</td><td>0.68</td></tr><tr><td>17</td><td>POC-English-disAmb</td><td>R=6-Weight=6:R-mst-weight=+1:R</td><td> --- </td><td> --- </td><td>none</td><td>dILEd</td><td>39</td><td> --- </td><td>98%</td><td>67%</td><td>0.67</td></tr><tr><td>18</td><td>POC-English-disAmb</td><td>R=6-Weight=6:R-mst-weight=+1:R</td><td> --- </td><td> --- </td><td>rules</td><td>dILEd</td><td>35</td><td> --- </td><td>100%</td><td>69%</td><td>0.69</td></tr><tr><td>19</td><td>POC-English-disAmb</td><td>R=6-Weight=6:R-mst-weight=+1:R-agm-opt</td><td> --- </td><td> --- </td><td>none</td><td>dILEd</td><td>42</td><td> --- </td><td>96%</td><td>66%</td><td>0.66</td></tr><tr><td>20</td><td>POC-English-disAmb</td><td>R=6-Weight=6:R-mst-weight=+1:R-agm-opt</td><td> --- </td><td> --- </td><td>rules</td><td>dILEd</td><td>35</td><td> --- </td><td>100%</td><td>69%</td><td>0.69</td></tr><tr><td>21</td><td>POC-English-disAmb</td><td>R=6-Weight=6:R-mst-weight=+1:R-agm-100</td><td> --- </td><td> --- </td><td>none</td><td>dILEd</td><td>61</td><td> --- </td><td>100%</td><td>73%</td><td>0.73</td></tr><tr><td>22</td><td>POC-English-disAmb</td><td>R=6-Weight=6:R-mst-weight=+1:R-agm-100</td><td> --- </td><td> --- </td><td>rules</td><td>dILEd</td><td>54</td><td> --- </td><td>100%</td><td>73%</td><td>0.73</td></tr><tr><td>23</td><td>POC-English-Amb</td><td>R=6-Weight=1-mst-weight=+1:R</td><td> --- </td><td> --- </td><td>none</td><td>dILEd</td><td>39</td><td> --- </td><td>97%</td><td>69%</td><td>0.69</td></tr><tr><td>24</td><td>POC-English-disAmb</td><td>R=6-Weight=1-mst-weight=+1:R</td><td> --- </td><td> --- </td><td>none</td><td>dILEd</td><td>41</td><td> --- </td><td>95%</td><td>67%</td><td>0.67</td></tr><tr><td>25</td><td>POC-English-disAmb</td><td>R=6-Weight=1-mst-weight=+1:R-agm-opt</td><td> --- </td><td> --- </td><td>none</td><td>dILEd</td><td>44</td><td> --- </td><td>97%</td><td>66%</td><td>0.66</td></tr><tr><td>26</td><td>POC-English-disAmb</td><td>R=6-Weight=1-mst-weight=+1:R-agm-100</td><td> --- </td><td> --- </td><td>none</td><td>dILEd</td><td>59</td><td> --- </td><td>100%</td><td>70%</td><td>0.70</td></tr><tr><td>27</td><td>POC-English-Amb</td><td>LG-ANY-all-parses</td><td> --- </td><td> --- </td><td>none</td><td>dILEd</td><td>38</td><td> --- </td><td>95%</td><td>67%</td><td>0.67</td></tr><tr><td>28</td><td>POC-English-disAmb</td><td>LG-ANY-all-parses</td><td> --- </td><td> --- </td><td>none</td><td>dILEd</td><td>39</td><td> --- </td><td>95%</td><td>70%</td><td>0.70</td></tr><tr><td>29</td><td>POC-English-disAmb</td><td>LG-ANY-all-parses-agm-opt</td><td> --- </td><td> --- </td><td>none</td><td>dILEd</td><td>42</td><td> --- </td><td>95%</td><td>71%</td><td>0.71</td></tr><tr><td>30</td><td>POC-English-disAmb</td><td>LG-ANY-all-parses-agm-100</td><td> --- </td><td> --- </td><td>none</td><td>dILEd</td><td>61</td><td> --- </td><td>100%</td><td>72%</td><td>0.72</td></tr></table>"
      ],
      "text/plain": [
       "<IPython.core.display.HTML object>"
      ]
     },
     "metadata": {},
     "output_type": "display_data"
    }
   ],
   "source": [
    "display(html_table([header]+average24))"
   ]
  },
  {
   "cell_type": "markdown",
   "metadata": {},
   "source": [
    "## Disjuncts-ALE-Disjuncts"
   ]
  },
  {
   "cell_type": "code",
   "execution_count": 18,
   "metadata": {
    "ExecuteTime": {
     "end_time": "2018-11-02T09:52:20.778626Z",
     "start_time": "2018-11-02T09:52:11.924325Z"
    }
   },
   "outputs": [],
   "source": [
    "%%capture\n",
    "kwargs['word_space'] = 'sparse'\n",
    "kwargs['cluster_range'] = (2,36,1,1)\n",
    "kwargs['clustering'] = ('agglomerative', 'ward')\n",
    "kwargs['clustering_metric'] = ('silhouette', 'cosine')\n",
    "average25, long25, header = table_rows(lines, out_dir, cp, rp, runs, **kwargs)\n",
    "table.extend(average25)\n",
    "long_table.extend(long25)"
   ]
  },
  {
   "cell_type": "code",
   "execution_count": 19,
   "metadata": {
    "ExecuteTime": {
     "end_time": "2018-11-02T09:52:20.790182Z",
     "start_time": "2018-11-02T09:52:20.780234Z"
    }
   },
   "outputs": [
    {
     "data": {
      "text/html": [
       "<table><tr><td>Line</td><td>Corpus</td><td>Parsing</td><td>LW</td><td>RW</td><td>Gen.</td><td>Space</td><td>Rules</td><td>Silhouette</td><td>PA</td><td>PQ</td><td>F1</td></tr><tr><td>11</td><td>POC-English-Amb</td><td>MST-fixed-manually</td><td> --- </td><td> --- </td><td>none</td><td>dALEd</td><td>21</td><td>0.29</td><td>100%</td><td>100%</td><td>1.00</td></tr><tr><td>12</td><td>POC-English-Amb</td><td>MST-fixed-manually</td><td> --- </td><td> --- </td><td>rules</td><td>dALEd</td><td>18</td><td>0.29</td><td>100%</td><td>99%</td><td>0.99</td></tr><tr><td>13</td><td>POC-English-Amb</td><td>LG-English</td><td> --- </td><td> --- </td><td>none</td><td>dALEd</td><td>15</td><td>0.27</td><td>100%</td><td>95%</td><td>0.95</td></tr><tr><td>14</td><td>POC-English-Amb</td><td>LG-English</td><td> --- </td><td> --- </td><td>rules</td><td>dALEd</td><td>14</td><td>0.27</td><td>100%</td><td>95%</td><td>0.95</td></tr><tr><td>15</td><td>POC-English-Amb</td><td>R=6-Weight=6:R-mst-weight=+1:R</td><td> --- </td><td> --- </td><td>none</td><td>dALEd</td><td>19</td><td>0.28</td><td>97%</td><td>65%</td><td>0.65</td></tr><tr><td>16</td><td>POC-English-Amb</td><td>R=6-Weight=6:R-mst-weight=+1:R</td><td> --- </td><td> --- </td><td>rules</td><td>dALEd</td><td>18</td><td>0.28</td><td>99%</td><td>68%</td><td>0.68</td></tr><tr><td>17</td><td>POC-English-disAmb</td><td>R=6-Weight=6:R-mst-weight=+1:R</td><td> --- </td><td> --- </td><td>none</td><td>dALEd</td><td>11</td><td>0.28</td><td>98%</td><td>65%</td><td>0.65</td></tr><tr><td>18</td><td>POC-English-disAmb</td><td>R=6-Weight=6:R-mst-weight=+1:R</td><td> --- </td><td> --- </td><td>rules</td><td>dALEd</td><td>10</td><td>0.28</td><td>100%</td><td>68%</td><td>0.67</td></tr><tr><td>19</td><td>POC-English-disAmb</td><td>R=6-Weight=6:R-mst-weight=+1:R-agm-opt</td><td> --- </td><td> --- </td><td>none</td><td>dALEd</td><td>23</td><td>0.27</td><td>97%</td><td>66%</td><td>0.67</td></tr><tr><td>20</td><td>POC-English-disAmb</td><td>R=6-Weight=6:R-mst-weight=+1:R-agm-opt</td><td> --- </td><td> --- </td><td>rules</td><td>dALEd</td><td>22</td><td>0.27</td><td>100%</td><td>69%</td><td>0.69</td></tr><tr><td>21</td><td>POC-English-disAmb</td><td>R=6-Weight=6:R-mst-weight=+1:R-agm-100</td><td> --- </td><td> --- </td><td>none</td><td>dALEd</td><td>24</td><td>0.14</td><td>100%</td><td>69%</td><td>0.69</td></tr><tr><td>22</td><td>POC-English-disAmb</td><td>R=6-Weight=6:R-mst-weight=+1:R-agm-100</td><td> --- </td><td> --- </td><td>rules</td><td>dALEd</td><td>23</td><td>0.14</td><td>100%</td><td>69%</td><td>0.69</td></tr><tr><td>23</td><td>POC-English-Amb</td><td>R=6-Weight=1-mst-weight=+1:R</td><td> --- </td><td> --- </td><td>none</td><td>dALEd</td><td>23</td><td>0.2</td><td>97%</td><td>70%</td><td>0.70</td></tr><tr><td>24</td><td>POC-English-disAmb</td><td>R=6-Weight=1-mst-weight=+1:R</td><td> --- </td><td> --- </td><td>none</td><td>dALEd</td><td>23</td><td>0.21</td><td>95%</td><td>69%</td><td>0.69</td></tr><tr><td>25</td><td>POC-English-disAmb</td><td>R=6-Weight=1-mst-weight=+1:R-agm-opt</td><td> --- </td><td> --- </td><td>none</td><td>dALEd</td><td>24</td><td>0.2</td><td>98%</td><td>70%</td><td>0.70</td></tr><tr><td>26</td><td>POC-English-disAmb</td><td>R=6-Weight=1-mst-weight=+1:R-agm-100</td><td> --- </td><td> --- </td><td>none</td><td>dALEd</td><td>21</td><td>0.17</td><td>100%</td><td>71%</td><td>0.71</td></tr><tr><td>27</td><td>POC-English-Amb</td><td>LG-ANY-all-parses</td><td> --- </td><td> --- </td><td>none</td><td>dALEd</td><td>24</td><td>0.25</td><td>95%</td><td>66%</td><td>0.66</td></tr><tr><td>28</td><td>POC-English-disAmb</td><td>LG-ANY-all-parses</td><td> --- </td><td> --- </td><td>none</td><td>dALEd</td><td>29</td><td>0.27</td><td>95%</td><td>70%</td><td>0.70</td></tr><tr><td>29</td><td>POC-English-disAmb</td><td>LG-ANY-all-parses-agm-opt</td><td> --- </td><td> --- </td><td>none</td><td>dALEd</td><td>28</td><td>0.28</td><td>95%</td><td>71%</td><td>0.71</td></tr><tr><td>30</td><td>POC-English-disAmb</td><td>LG-ANY-all-parses-agm-100</td><td> --- </td><td> --- </td><td>none</td><td>dALEd</td><td>21</td><td>0.15</td><td>100%</td><td>73%</td><td>0.73</td></tr></table>"
      ],
      "text/plain": [
       "<IPython.core.display.HTML object>"
      ]
     },
     "metadata": {},
     "output_type": "display_data"
    }
   ],
   "source": [
    "display(html_table([header]+average25))"
   ]
  },
  {
   "cell_type": "markdown",
   "metadata": {},
   "source": [
    "# All tests (all entries for multi-test `runs > (1.1)`)"
   ]
  },
  {
   "cell_type": "code",
   "execution_count": 20,
   "metadata": {
    "ExecuteTime": {
     "end_time": "2018-11-02T09:52:20.806426Z",
     "start_time": "2018-11-02T09:52:20.800631Z"
    }
   },
   "outputs": [
    {
     "data": {
      "text/html": [
       "<table><tr><td>Line</td><td>Corpus</td><td>Parsing</td><td>LW</td><td>RW</td><td>Gen.</td><td>Space</td><td>Rules</td><td>Silhouette</td><td>PA</td><td>PQ</td><td>F1</td></tr><tr><td>11</td><td>POC-English-Amb</td><td>MST-fixed-manually</td><td> --- </td><td> --- </td><td>none</td><td>cDRKc</td><td> 30 </td><td>0.26</td><td>73%</td><td>65%</td><td>0.78</td></tr><tr><td>13</td><td>POC-English-Amb</td><td>LG-English</td><td> --- </td><td> --- </td><td>none</td><td>cDRKc</td><td> 30 </td><td>0.28</td><td>75%</td><td>65%</td><td>0.77</td></tr><tr><td>15</td><td>POC-English-Amb</td><td>R=6-Weight=6:R-mst-weight=+1:R</td><td> --- </td><td> --- </td><td>none</td><td>cDRKc</td><td> 28 </td><td>0.24</td><td>87%</td><td>55%</td><td>0.57</td></tr><tr><td>17</td><td>POC-English-disAmb</td><td>R=6-Weight=6:R-mst-weight=+1:R</td><td> --- </td><td> --- </td><td>none</td><td>cDRKc</td><td> 29 </td><td>0.25</td><td>86%</td><td>54%</td><td>0.57</td></tr><tr><td>19</td><td>POC-English-disAmb</td><td>R=6-Weight=6:R-mst-weight=+1:R-agm-opt</td><td> --- </td><td> --- </td><td>none</td><td>cDRKc</td><td> 30 </td><td>0.23</td><td>90%</td><td>58%</td><td>0.60</td></tr><tr><td>21</td><td>POC-English-disAmb</td><td>R=6-Weight=6:R-mst-weight=+1:R-agm-100</td><td> --- </td><td> --- </td><td>none</td><td>cDRKc</td><td> 42 </td><td>0.14</td><td>92%</td><td>62%</td><td>0.66</td></tr><tr><td>23</td><td>POC-English-Amb</td><td>R=6-Weight=1-mst-weight=+1:R</td><td> --- </td><td> --- </td><td>none</td><td>cDRKc</td><td> 20 </td><td>0.21</td><td>86%</td><td>56%</td><td>0.61</td></tr><tr><td>24</td><td>POC-English-disAmb</td><td>R=6-Weight=1-mst-weight=+1:R</td><td> --- </td><td> --- </td><td>none</td><td>cDRKc</td><td> 22 </td><td>0.21</td><td>85%</td><td>57%</td><td>0.63</td></tr><tr><td>25</td><td>POC-English-disAmb</td><td>R=6-Weight=1-mst-weight=+1:R-agm-opt</td><td> --- </td><td> --- </td><td>none</td><td>cDRKc</td><td> 25 </td><td>0.18</td><td>89%</td><td>57%</td><td>0.61</td></tr><tr><td>26</td><td>POC-English-disAmb</td><td>R=6-Weight=1-mst-weight=+1:R-agm-100</td><td> --- </td><td> --- </td><td>none</td><td>cDRKc</td><td> 37 </td><td>0.18</td><td>94%</td><td>65%</td><td>0.68</td></tr><tr><td>27</td><td>POC-English-Amb</td><td>LG-ANY-all-parses</td><td> --- </td><td> --- </td><td>none</td><td>cDRKc</td><td> 22 </td><td>0.24</td><td>89%</td><td>58%</td><td>0.60</td></tr><tr><td>28</td><td>POC-English-disAmb</td><td>LG-ANY-all-parses</td><td> --- </td><td> --- </td><td>none</td><td>cDRKc</td><td> 27 </td><td>0.29</td><td>85%</td><td>55%</td><td>0.58</td></tr><tr><td>29</td><td>POC-English-disAmb</td><td>LG-ANY-all-parses-agm-opt</td><td> --- </td><td> --- </td><td>none</td><td>cDRKc</td><td> 24 </td><td>0.27</td><td>87%</td><td>55%</td><td>0.59</td></tr><tr><td>30</td><td>POC-English-disAmb</td><td>LG-ANY-all-parses-agm-100</td><td> --- </td><td> --- </td><td>none</td><td>cDRKc</td><td> 36 </td><td>0.15</td><td>94%</td><td>64%</td><td>0.67</td></tr><tr><td>11</td><td>POC-English-Amb</td><td>MST-fixed-manually</td><td> --- </td><td> --- </td><td>none</td><td>cDRKd</td><td> 30 </td><td>0.28</td><td>100%</td><td>99%</td><td>0.99</td></tr><tr><td>12</td><td>POC-English-Amb</td><td>MST-fixed-manually</td><td> --- </td><td> --- </td><td>rules</td><td>cDRKd</td><td> 25 </td><td>0.26</td><td>100%</td><td>99%</td><td>0.99</td></tr><tr><td>13</td><td>POC-English-Amb</td><td>LG-English</td><td> --- </td><td> --- </td><td>none</td><td>cDRKd</td><td> 31 </td><td>0.28</td><td>100%</td><td>98%</td><td>0.97</td></tr><tr><td>14</td><td>POC-English-Amb</td><td>LG-English</td><td> --- </td><td> --- </td><td>rules</td><td>cDRKd</td><td> 24 </td><td>0.28</td><td>100%</td><td>98%</td><td>0.97</td></tr><tr><td>15</td><td>POC-English-Amb</td><td>R=6-Weight=6:R-mst-weight=+1:R</td><td> --- </td><td> --- </td><td>none</td><td>cDRKd</td><td> 29 </td><td>0.24</td><td>97%</td><td>65%</td><td>0.65</td></tr><tr><td>16</td><td>POC-English-Amb</td><td>R=6-Weight=6:R-mst-weight=+1:R</td><td> --- </td><td> --- </td><td>rules</td><td>cDRKd</td><td> 26 </td><td>0.24</td><td>99%</td><td>67%</td><td>0.67</td></tr><tr><td>17</td><td>POC-English-disAmb</td><td>R=6-Weight=6:R-mst-weight=+1:R</td><td> --- </td><td> --- </td><td>none</td><td>cDRKd</td><td> 29 </td><td>0.27</td><td>98%</td><td>65%</td><td>0.65</td></tr><tr><td>18</td><td>POC-English-disAmb</td><td>R=6-Weight=6:R-mst-weight=+1:R</td><td> --- </td><td> --- </td><td>rules</td><td>cDRKd</td><td> 28 </td><td>0.27</td><td>100%</td><td>68%</td><td>0.68</td></tr><tr><td>19</td><td>POC-English-disAmb</td><td>R=6-Weight=6:R-mst-weight=+1:R-agm-opt</td><td> --- </td><td> --- </td><td>none</td><td>cDRKd</td><td> 30 </td><td>0.23</td><td>97%</td><td>66%</td><td>0.67</td></tr><tr><td>20</td><td>POC-English-disAmb</td><td>R=6-Weight=6:R-mst-weight=+1:R-agm-opt</td><td> --- </td><td> --- </td><td>rules</td><td>cDRKd</td><td> 29 </td><td>0.21</td><td>100%</td><td>69%</td><td>0.69</td></tr><tr><td>21</td><td>POC-English-disAmb</td><td>R=6-Weight=6:R-mst-weight=+1:R-agm-100</td><td> --- </td><td> --- </td><td>none</td><td>cDRKd</td><td> 40 </td><td>0.13</td><td>100%</td><td>69%</td><td>0.69</td></tr><tr><td>22</td><td>POC-English-disAmb</td><td>R=6-Weight=6:R-mst-weight=+1:R-agm-100</td><td> --- </td><td> --- </td><td>rules</td><td>cDRKd</td><td> 39 </td><td>0.13</td><td>100%</td><td>71%</td><td>0.71</td></tr><tr><td>23</td><td>POC-English-Amb</td><td>R=6-Weight=1-mst-weight=+1:R</td><td> --- </td><td> --- </td><td>none</td><td>cDRKd</td><td> 21 </td><td>0.21</td><td>97%</td><td>72%</td><td>0.72</td></tr><tr><td>24</td><td>POC-English-disAmb</td><td>R=6-Weight=1-mst-weight=+1:R</td><td> --- </td><td> --- </td><td>none</td><td>cDRKd</td><td> 24 </td><td>0.21</td><td>98%</td><td>70%</td><td>0.70</td></tr><tr><td>25</td><td>POC-English-disAmb</td><td>R=6-Weight=1-mst-weight=+1:R-agm-opt</td><td> --- </td><td> --- </td><td>none</td><td>cDRKd</td><td> 25 </td><td>0.18</td><td>98%</td><td>72%</td><td>0.72</td></tr><tr><td>26</td><td>POC-English-disAmb</td><td>R=6-Weight=1-mst-weight=+1:R-agm-100</td><td> --- </td><td> --- </td><td>none</td><td>cDRKd</td><td> 40 </td><td>0.19</td><td>100%</td><td>71%</td><td>0.71</td></tr><tr><td>27</td><td>POC-English-Amb</td><td>LG-ANY-all-parses</td><td> --- </td><td> --- </td><td>none</td><td>cDRKd</td><td> 23 </td><td>0.25</td><td>95%</td><td>66%</td><td>0.66</td></tr><tr><td>28</td><td>POC-English-disAmb</td><td>LG-ANY-all-parses</td><td> --- </td><td> --- </td><td>none</td><td>cDRKd</td><td> 26 </td><td>0.28</td><td>95%</td><td>70%</td><td>0.70</td></tr><tr><td>29</td><td>POC-English-disAmb</td><td>LG-ANY-all-parses-agm-opt</td><td> --- </td><td> --- </td><td>none</td><td>cDRKd</td><td> 25 </td><td>0.27</td><td>95%</td><td>69%</td><td>0.69</td></tr><tr><td>30</td><td>POC-English-disAmb</td><td>LG-ANY-all-parses-agm-100</td><td> --- </td><td> --- </td><td>none</td><td>cDRKd</td><td> 35 </td><td>0.15</td><td>100%</td><td>70%</td><td>0.70</td></tr><tr><td>11</td><td>POC-English-Amb</td><td>MST-fixed-manually</td><td> --- </td><td> --- </td><td>none</td><td>dDRKd</td><td> 30 </td><td>0.25</td><td>100%</td><td>99%</td><td>0.99</td></tr><tr><td>12</td><td>POC-English-Amb</td><td>MST-fixed-manually</td><td> --- </td><td> --- </td><td>rules</td><td>dDRKd</td><td> 26 </td><td>0.26</td><td>100%</td><td>99%</td><td>0.99</td></tr><tr><td>13</td><td>POC-English-Amb</td><td>LG-English</td><td> --- </td><td> --- </td><td>none</td><td>dDRKd</td><td> 4 </td><td>0.61</td><td>100%</td><td>90%</td><td>0.90</td></tr><tr><td>14</td><td>POC-English-Amb</td><td>LG-English</td><td> --- </td><td> --- </td><td>rules</td><td>dDRKd</td><td> 4 </td><td>0.61</td><td>100%</td><td>89%</td><td>0.89</td></tr><tr><td>15</td><td>POC-English-Amb</td><td>R=6-Weight=6:R-mst-weight=+1:R</td><td> --- </td><td> --- </td><td>none</td><td>dDRKd</td><td> 5 </td><td>0.48</td><td>100%</td><td>68%</td><td>0.68</td></tr><tr><td>16</td><td>POC-English-Amb</td><td>R=6-Weight=6:R-mst-weight=+1:R</td><td> --- </td><td> --- </td><td>rules</td><td>dDRKd</td><td> 5 </td><td>0.48</td><td>100%</td><td>68%</td><td>0.68</td></tr><tr><td>17</td><td>POC-English-disAmb</td><td>R=6-Weight=6:R-mst-weight=+1:R</td><td> --- </td><td> --- </td><td>none</td><td>dDRKd</td><td> 35 </td><td>0.23</td><td>98%</td><td>67%</td><td>0.67</td></tr><tr><td>18</td><td>POC-English-disAmb</td><td>R=6-Weight=6:R-mst-weight=+1:R</td><td> --- </td><td> --- </td><td>rules</td><td>dDRKd</td><td> 34 </td><td>0.23</td><td>100%</td><td>69%</td><td>0.69</td></tr><tr><td>19</td><td>POC-English-disAmb</td><td>R=6-Weight=6:R-mst-weight=+1:R-agm-opt</td><td> --- </td><td> --- </td><td>none</td><td>dDRKd</td><td> 3 </td><td>0.46</td><td>100%</td><td>68%</td><td>0.68</td></tr><tr><td>20</td><td>POC-English-disAmb</td><td>R=6-Weight=6:R-mst-weight=+1:R-agm-opt</td><td> --- </td><td> --- </td><td>rules</td><td>dDRKd</td><td> 3 </td><td>0.46</td><td>100%</td><td>67%</td><td>0.67</td></tr><tr><td>21</td><td>POC-English-disAmb</td><td>R=6-Weight=6:R-mst-weight=+1:R-agm-100</td><td> --- </td><td> --- </td><td>none</td><td>dDRKd</td><td> 44 </td><td>0.08</td><td>100%</td><td>72%</td><td>0.72</td></tr><tr><td>22</td><td>POC-English-disAmb</td><td>R=6-Weight=6:R-mst-weight=+1:R-agm-100</td><td> --- </td><td> --- </td><td>rules</td><td>dDRKd</td><td> 43 </td><td>0.08</td><td>100%</td><td>72%</td><td>0.72</td></tr><tr><td>23</td><td>POC-English-Amb</td><td>R=6-Weight=1-mst-weight=+1:R</td><td> --- </td><td> --- </td><td>none</td><td>dDRKd</td><td> 20 </td><td>0.45</td><td>98%</td><td>71%</td><td>0.71</td></tr><tr><td>24</td><td>POC-English-disAmb</td><td>R=6-Weight=1-mst-weight=+1:R</td><td> --- </td><td> --- </td><td>none</td><td>dDRKd</td><td> 20 </td><td>0.43</td><td>96%</td><td>68%</td><td>0.69</td></tr><tr><td>25</td><td>POC-English-disAmb</td><td>R=6-Weight=1-mst-weight=+1:R-agm-opt</td><td> --- </td><td> --- </td><td>none</td><td>dDRKd</td><td> 30 </td><td>0.32</td><td>98%</td><td>67%</td><td>0.67</td></tr><tr><td>26</td><td>POC-English-disAmb</td><td>R=6-Weight=1-mst-weight=+1:R-agm-100</td><td> --- </td><td> --- </td><td>none</td><td>dDRKd</td><td> 44 </td><td>0.12</td><td>100%</td><td>71%</td><td>0.71</td></tr><tr><td>27</td><td>POC-English-Amb</td><td>LG-ANY-all-parses</td><td> --- </td><td> --- </td><td>none</td><td>dDRKd</td><td> 4 </td><td>0.79</td><td>100%</td><td>71%</td><td>0.71</td></tr><tr><td>28</td><td>POC-English-disAmb</td><td>LG-ANY-all-parses</td><td> --- </td><td> --- </td><td>none</td><td>dDRKd</td><td> 32 </td><td>0.24</td><td>95%</td><td>70%</td><td>0.70</td></tr><tr><td>29</td><td>POC-English-disAmb</td><td>LG-ANY-all-parses-agm-opt</td><td> --- </td><td> --- </td><td>none</td><td>dDRKd</td><td> 24 </td><td>0.21</td><td>95%</td><td>70%</td><td>0.70</td></tr><tr><td>30</td><td>POC-English-disAmb</td><td>LG-ANY-all-parses-agm-100</td><td> --- </td><td> --- </td><td>none</td><td>dDRKd</td><td> 41 </td><td>0.08</td><td>100%</td><td>72%</td><td>0.72</td></tr><tr><td>11</td><td>POC-English-Amb</td><td>MST-fixed-manually</td><td> --- </td><td> --- </td><td>none</td><td>dILEd</td><td> 37 </td><td> --- </td><td>100%</td><td>100%</td><td>1.00</td></tr><tr><td>12</td><td>POC-English-Amb</td><td>MST-fixed-manually</td><td> --- </td><td> --- </td><td>rules</td><td>dILEd</td><td> 28 </td><td> --- </td><td>100%</td><td>99%</td><td>0.99</td></tr><tr><td>13</td><td>POC-English-Amb</td><td>LG-English</td><td> --- </td><td> --- </td><td>none</td><td>dILEd</td><td> 37 </td><td> --- </td><td>100%</td><td>98%</td><td>0.97</td></tr><tr><td>14</td><td>POC-English-Amb</td><td>LG-English</td><td> --- </td><td> --- </td><td>rules</td><td>dILEd</td><td> 30 </td><td> --- </td><td>100%</td><td>98%</td><td>0.97</td></tr><tr><td>15</td><td>POC-English-Amb</td><td>R=6-Weight=6:R-mst-weight=+1:R</td><td> --- </td><td> --- </td><td>none</td><td>dILEd</td><td> 38 </td><td> --- </td><td>97%</td><td>66%</td><td>0.66</td></tr><tr><td>16</td><td>POC-English-Amb</td><td>R=6-Weight=6:R-mst-weight=+1:R</td><td> --- </td><td> --- </td><td>rules</td><td>dILEd</td><td> 34 </td><td> --- </td><td>99%</td><td>68%</td><td>0.68</td></tr><tr><td>17</td><td>POC-English-disAmb</td><td>R=6-Weight=6:R-mst-weight=+1:R</td><td> --- </td><td> --- </td><td>none</td><td>dILEd</td><td> 39 </td><td> --- </td><td>98%</td><td>67%</td><td>0.67</td></tr><tr><td>18</td><td>POC-English-disAmb</td><td>R=6-Weight=6:R-mst-weight=+1:R</td><td> --- </td><td> --- </td><td>rules</td><td>dILEd</td><td> 35 </td><td> --- </td><td>100%</td><td>69%</td><td>0.69</td></tr><tr><td>19</td><td>POC-English-disAmb</td><td>R=6-Weight=6:R-mst-weight=+1:R-agm-opt</td><td> --- </td><td> --- </td><td>none</td><td>dILEd</td><td> 42 </td><td> --- </td><td>96%</td><td>66%</td><td>0.66</td></tr><tr><td>20</td><td>POC-English-disAmb</td><td>R=6-Weight=6:R-mst-weight=+1:R-agm-opt</td><td> --- </td><td> --- </td><td>rules</td><td>dILEd</td><td> 35 </td><td> --- </td><td>100%</td><td>69%</td><td>0.69</td></tr><tr><td>21</td><td>POC-English-disAmb</td><td>R=6-Weight=6:R-mst-weight=+1:R-agm-100</td><td> --- </td><td> --- </td><td>none</td><td>dILEd</td><td> 61 </td><td> --- </td><td>100%</td><td>73%</td><td>0.73</td></tr><tr><td>22</td><td>POC-English-disAmb</td><td>R=6-Weight=6:R-mst-weight=+1:R-agm-100</td><td> --- </td><td> --- </td><td>rules</td><td>dILEd</td><td> 54 </td><td> --- </td><td>100%</td><td>73%</td><td>0.73</td></tr><tr><td>23</td><td>POC-English-Amb</td><td>R=6-Weight=1-mst-weight=+1:R</td><td> --- </td><td> --- </td><td>none</td><td>dILEd</td><td> 39 </td><td> --- </td><td>97%</td><td>69%</td><td>0.69</td></tr><tr><td>24</td><td>POC-English-disAmb</td><td>R=6-Weight=1-mst-weight=+1:R</td><td> --- </td><td> --- </td><td>none</td><td>dILEd</td><td> 41 </td><td> --- </td><td>95%</td><td>67%</td><td>0.67</td></tr><tr><td>25</td><td>POC-English-disAmb</td><td>R=6-Weight=1-mst-weight=+1:R-agm-opt</td><td> --- </td><td> --- </td><td>none</td><td>dILEd</td><td> 44 </td><td> --- </td><td>97%</td><td>66%</td><td>0.66</td></tr><tr><td>26</td><td>POC-English-disAmb</td><td>R=6-Weight=1-mst-weight=+1:R-agm-100</td><td> --- </td><td> --- </td><td>none</td><td>dILEd</td><td> 59 </td><td> --- </td><td>100%</td><td>70%</td><td>0.70</td></tr><tr><td>27</td><td>POC-English-Amb</td><td>LG-ANY-all-parses</td><td> --- </td><td> --- </td><td>none</td><td>dILEd</td><td> 38 </td><td> --- </td><td>95%</td><td>67%</td><td>0.67</td></tr><tr><td>28</td><td>POC-English-disAmb</td><td>LG-ANY-all-parses</td><td> --- </td><td> --- </td><td>none</td><td>dILEd</td><td> 39 </td><td> --- </td><td>95%</td><td>70%</td><td>0.70</td></tr><tr><td>29</td><td>POC-English-disAmb</td><td>LG-ANY-all-parses-agm-opt</td><td> --- </td><td> --- </td><td>none</td><td>dILEd</td><td> 42 </td><td> --- </td><td>95%</td><td>71%</td><td>0.71</td></tr><tr><td>30</td><td>POC-English-disAmb</td><td>LG-ANY-all-parses-agm-100</td><td> --- </td><td> --- </td><td>none</td><td>dILEd</td><td> 61 </td><td> --- </td><td>100%</td><td>72%</td><td>0.72</td></tr><tr><td>11</td><td>POC-English-Amb</td><td>MST-fixed-manually</td><td> --- </td><td> --- </td><td>none</td><td>dALEd</td><td> 21 </td><td>0.29</td><td>100%</td><td>100%</td><td>1.00</td></tr><tr><td>12</td><td>POC-English-Amb</td><td>MST-fixed-manually</td><td> --- </td><td> --- </td><td>rules</td><td>dALEd</td><td> 18 </td><td>0.29</td><td>100%</td><td>99%</td><td>0.99</td></tr><tr><td>13</td><td>POC-English-Amb</td><td>LG-English</td><td> --- </td><td> --- </td><td>none</td><td>dALEd</td><td> 15 </td><td>0.27</td><td>100%</td><td>95%</td><td>0.95</td></tr><tr><td>14</td><td>POC-English-Amb</td><td>LG-English</td><td> --- </td><td> --- </td><td>rules</td><td>dALEd</td><td> 14 </td><td>0.27</td><td>100%</td><td>95%</td><td>0.95</td></tr><tr><td>15</td><td>POC-English-Amb</td><td>R=6-Weight=6:R-mst-weight=+1:R</td><td> --- </td><td> --- </td><td>none</td><td>dALEd</td><td> 19 </td><td>0.28</td><td>97%</td><td>65%</td><td>0.65</td></tr><tr><td>16</td><td>POC-English-Amb</td><td>R=6-Weight=6:R-mst-weight=+1:R</td><td> --- </td><td> --- </td><td>rules</td><td>dALEd</td><td> 18 </td><td>0.28</td><td>99%</td><td>68%</td><td>0.68</td></tr><tr><td>17</td><td>POC-English-disAmb</td><td>R=6-Weight=6:R-mst-weight=+1:R</td><td> --- </td><td> --- </td><td>none</td><td>dALEd</td><td> 11 </td><td>0.28</td><td>98%</td><td>65%</td><td>0.65</td></tr><tr><td>18</td><td>POC-English-disAmb</td><td>R=6-Weight=6:R-mst-weight=+1:R</td><td> --- </td><td> --- </td><td>rules</td><td>dALEd</td><td> 10 </td><td>0.28</td><td>100%</td><td>68%</td><td>0.67</td></tr><tr><td>19</td><td>POC-English-disAmb</td><td>R=6-Weight=6:R-mst-weight=+1:R-agm-opt</td><td> --- </td><td> --- </td><td>none</td><td>dALEd</td><td> 23 </td><td>0.27</td><td>97%</td><td>66%</td><td>0.67</td></tr><tr><td>20</td><td>POC-English-disAmb</td><td>R=6-Weight=6:R-mst-weight=+1:R-agm-opt</td><td> --- </td><td> --- </td><td>rules</td><td>dALEd</td><td> 22 </td><td>0.27</td><td>100%</td><td>69%</td><td>0.69</td></tr><tr><td>21</td><td>POC-English-disAmb</td><td>R=6-Weight=6:R-mst-weight=+1:R-agm-100</td><td> --- </td><td> --- </td><td>none</td><td>dALEd</td><td> 24 </td><td>0.14</td><td>100%</td><td>69%</td><td>0.69</td></tr><tr><td>22</td><td>POC-English-disAmb</td><td>R=6-Weight=6:R-mst-weight=+1:R-agm-100</td><td> --- </td><td> --- </td><td>rules</td><td>dALEd</td><td> 23 </td><td>0.14</td><td>100%</td><td>69%</td><td>0.69</td></tr><tr><td>23</td><td>POC-English-Amb</td><td>R=6-Weight=1-mst-weight=+1:R</td><td> --- </td><td> --- </td><td>none</td><td>dALEd</td><td> 23 </td><td>0.2</td><td>97%</td><td>70%</td><td>0.70</td></tr><tr><td>24</td><td>POC-English-disAmb</td><td>R=6-Weight=1-mst-weight=+1:R</td><td> --- </td><td> --- </td><td>none</td><td>dALEd</td><td> 23 </td><td>0.21</td><td>95%</td><td>69%</td><td>0.69</td></tr><tr><td>25</td><td>POC-English-disAmb</td><td>R=6-Weight=1-mst-weight=+1:R-agm-opt</td><td> --- </td><td> --- </td><td>none</td><td>dALEd</td><td> 24 </td><td>0.2</td><td>98%</td><td>70%</td><td>0.70</td></tr><tr><td>26</td><td>POC-English-disAmb</td><td>R=6-Weight=1-mst-weight=+1:R-agm-100</td><td> --- </td><td> --- </td><td>none</td><td>dALEd</td><td> 21 </td><td>0.17</td><td>100%</td><td>71%</td><td>0.71</td></tr><tr><td>27</td><td>POC-English-Amb</td><td>LG-ANY-all-parses</td><td> --- </td><td> --- </td><td>none</td><td>dALEd</td><td> 24 </td><td>0.25</td><td>95%</td><td>66%</td><td>0.66</td></tr><tr><td>28</td><td>POC-English-disAmb</td><td>LG-ANY-all-parses</td><td> --- </td><td> --- </td><td>none</td><td>dALEd</td><td> 29 </td><td>0.27</td><td>95%</td><td>70%</td><td>0.70</td></tr><tr><td>29</td><td>POC-English-disAmb</td><td>LG-ANY-all-parses-agm-opt</td><td> --- </td><td> --- </td><td>none</td><td>dALEd</td><td> 28 </td><td>0.28</td><td>95%</td><td>71%</td><td>0.71</td></tr><tr><td>30</td><td>POC-English-disAmb</td><td>LG-ANY-all-parses-agm-100</td><td> --- </td><td> --- </td><td>none</td><td>dALEd</td><td> 21 </td><td>0.15</td><td>100%</td><td>73%</td><td>0.73</td></tr></table>"
      ],
      "text/plain": [
       "<IPython.core.display.HTML object>"
      ]
     },
     "metadata": {},
     "output_type": "display_data"
    }
   ],
   "source": [
    "display(html_table([header]+long_table))"
   ]
  },
  {
   "cell_type": "code",
   "execution_count": 21,
   "metadata": {
    "ExecuteTime": {
     "end_time": "2018-11-02T09:52:20.822497Z",
     "start_time": "2018-11-02T09:52:20.809107Z"
    }
   },
   "outputs": [
    {
     "name": "stdout",
     "output_type": "stream",
     "text": [
      "2018-11-02 09:52:20 UTC :: finished, elapsed 0.2 hours\n",
      "Results saved to /home/obaskov/py/language-learning/output/POC-English-2018-11-02/short_table.txt\n"
     ]
    }
   ],
   "source": [
    "print(UTC(), ':: finished, elapsed', str(round((time.time()-start)/3600, 1)), 'hours')\n",
    "table_str = list2file(table, out_dir+'/short_table.txt')\n",
    "if runs == (1,1):\n",
    "    print('Results saved to', out_dir + '/short_table.txt')\n",
    "else:\n",
    "    long_table_str = list2file(long_table, out_dir+'/long_table.txt')\n",
    "    print('Average results saved to', out_dir + '/short_table.txt\\n'\n",
    "          'Detailed results for every run saved to', out_dir + '/long_table.txt')"
   ]
  },
  {
   "cell_type": "code",
   "execution_count": null,
   "metadata": {},
   "outputs": [],
   "source": []
  }
 ],
 "metadata": {
  "kernelspec": {
   "display_name": "Python 3",
   "language": "python",
   "name": "python3"
  },
  "language_info": {
   "codemirror_mode": {
    "name": "ipython",
    "version": 3
   },
   "file_extension": ".py",
   "mimetype": "text/x-python",
   "name": "python",
   "nbconvert_exporter": "python",
   "pygments_lexer": "ipython3",
   "version": "3.6.6"
  },
  "toc": {
   "base_numbering": 1,
   "nav_menu": {},
   "number_sections": true,
   "sideBar": true,
   "skip_h1_title": false,
   "title_cell": "Table of Contents",
   "title_sidebar": "Contents",
   "toc_cell": false,
   "toc_position": {},
   "toc_section_display": true,
   "toc_window_display": false
  }
 },
 "nbformat": 4,
 "nbformat_minor": 2
}
